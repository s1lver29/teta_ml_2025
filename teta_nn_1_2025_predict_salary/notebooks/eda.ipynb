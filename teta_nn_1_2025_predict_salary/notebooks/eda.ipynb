{
 "cells": [
  {
   "cell_type": "code",
   "execution_count": 1,
   "id": "3b0db6fa",
   "metadata": {},
   "outputs": [
    {
     "data": {
      "application/javascript": "IPython.notebook.set_autosave_interval(60000)"
     },
     "metadata": {},
     "output_type": "display_data"
    },
    {
     "name": "stdout",
     "output_type": "stream",
     "text": [
      "Autosaving every 60 seconds\n"
     ]
    }
   ],
   "source": [
    "%autosave 60\n",
    "%reload_ext autoreload\n",
    "%autoreload 2\n",
    "\n",
    "import sys\n",
    "\n",
    "sys.path.insert(0, \"..\")"
   ]
  },
  {
   "cell_type": "code",
   "execution_count": 2,
   "id": "f9533a32",
   "metadata": {},
   "outputs": [],
   "source": [
    "import pandas as pd\n",
    "from pathlib import Path\n",
    "import seaborn as sns\n",
    "import matplotlib.pyplot as plt\n",
    "from src.tools.experiment_tracker import ExperimentTracker"
   ]
  },
  {
   "cell_type": "code",
   "execution_count": null,
   "id": "6650666c",
   "metadata": {},
   "outputs": [
    {
     "name": "stdout",
     "output_type": "stream",
     "text": [
      "ClearML Task: created new task id=9099bc1a7e0743eba4c1e3d601ea8815\n",
      "ClearML results page: https://app.clear.ml/projects/8870d7f669ca45988ef171246b781921/experiments/9099bc1a7e0743eba4c1e3d601ea8815/output/log\n"
     ]
    },
    {
     "ename": "KeyboardInterrupt",
     "evalue": "",
     "output_type": "error",
     "traceback": [
      "\u001b[31m---------------------------------------------------------------------------\u001b[39m",
      "\u001b[31mKeyboardInterrupt\u001b[39m                         Traceback (most recent call last)",
      "\u001b[36mCell\u001b[39m\u001b[36m \u001b[39m\u001b[32mIn[6]\u001b[39m\u001b[32m, line 1\u001b[39m\n\u001b[32m----> \u001b[39m\u001b[32m1\u001b[39m experiment_track = \u001b[43mExperimentTracker\u001b[49m\u001b[43m(\u001b[49m\n\u001b[32m      2\u001b[39m \u001b[43m    \u001b[49m\u001b[43mproject_name\u001b[49m\u001b[43m=\u001b[49m\u001b[33;43m\"\u001b[39;49m\u001b[33;43mCompetitions/teta_nn_1_2025_predict_salary\u001b[39;49m\u001b[33;43m\"\u001b[39;49m\u001b[43m,\u001b[49m\n\u001b[32m      3\u001b[39m \u001b[43m    \u001b[49m\u001b[43mtask_name\u001b[49m\u001b[43m=\u001b[49m\u001b[33;43m\"\u001b[39;49m\u001b[33;43mExploratory Data Analysis\u001b[39;49m\u001b[33;43m\"\u001b[39;49m\u001b[43m,\u001b[49m\n\u001b[32m      4\u001b[39m \u001b[43m    \u001b[49m\u001b[43mconfig\u001b[49m\u001b[43m=\u001b[49m\u001b[38;5;28;43;01mNone\u001b[39;49;00m\u001b[43m,\u001b[49m\n\u001b[32m      5\u001b[39m \u001b[43m    \u001b[49m\u001b[43muse_clearml\u001b[49m\u001b[43m=\u001b[49m\u001b[38;5;28;43;01mTrue\u001b[39;49;00m\n\u001b[32m      6\u001b[39m \u001b[43m)\u001b[49m\n",
      "\u001b[36mFile \u001b[39m\u001b[32m~/education/shad_mts/ml_dl/teta_nn_1_2025_predict_salary/notebooks/../src/tools/experiment_tracker.py:83\u001b[39m, in \u001b[36mExperimentTracker.__init__\u001b[39m\u001b[34m(self, project_name, task_name, task_type, config, use_clearml, tags, reuse_last_task_id, output_uri)\u001b[39m\n\u001b[32m     80\u001b[39m         task_config = config.get(\u001b[33m\"\u001b[39m\u001b[33mtask\u001b[39m\u001b[33m\"\u001b[39m, {})\n\u001b[32m     82\u001b[39m \u001b[38;5;28;01mif\u001b[39;00m \u001b[38;5;28mself\u001b[39m.use_clearml:\n\u001b[32m---> \u001b[39m\u001b[32m83\u001b[39m     \u001b[38;5;28mself\u001b[39m.task = \u001b[43mTask\u001b[49m\u001b[43m.\u001b[49m\u001b[43minit\u001b[49m\u001b[43m(\u001b[49m\n\u001b[32m     84\u001b[39m \u001b[43m        \u001b[49m\u001b[43mproject_name\u001b[49m\u001b[43m=\u001b[49m\u001b[43mproject_name\u001b[49m\u001b[43m \u001b[49m\u001b[38;5;129;43;01mor\u001b[39;49;00m\u001b[43m \u001b[49m\u001b[43mtask_config\u001b[49m\u001b[43m.\u001b[49m\u001b[43mget\u001b[49m\u001b[43m(\u001b[49m\u001b[33;43m\"\u001b[39;49m\u001b[33;43mproject_name\u001b[39;49m\u001b[33;43m\"\u001b[39;49m\u001b[43m)\u001b[49m\u001b[43m,\u001b[49m\n\u001b[32m     85\u001b[39m \u001b[43m        \u001b[49m\u001b[43mtask_name\u001b[49m\u001b[43m=\u001b[49m\u001b[43mtask_name\u001b[49m\u001b[43m \u001b[49m\u001b[38;5;129;43;01mor\u001b[39;49;00m\u001b[43m \u001b[49m\u001b[43mtask_config\u001b[49m\u001b[43m.\u001b[49m\u001b[43mget\u001b[49m\u001b[43m(\u001b[49m\u001b[33;43m\"\u001b[39;49m\u001b[33;43mtask_name\u001b[39;49m\u001b[33;43m\"\u001b[39;49m\u001b[43m)\u001b[49m\u001b[43m,\u001b[49m\n\u001b[32m     86\u001b[39m \u001b[43m        \u001b[49m\u001b[43mtask_type\u001b[49m\u001b[43m=\u001b[49m\u001b[38;5;28;43mself\u001b[39;49m\u001b[43m.\u001b[49m\u001b[43mtask_types_clearml\u001b[49m\u001b[43m[\u001b[49m\n\u001b[32m     87\u001b[39m \u001b[43m            \u001b[49m\u001b[43mtask_type\u001b[49m\u001b[43m \u001b[49m\u001b[38;5;129;43;01mor\u001b[39;49;00m\u001b[43m \u001b[49m\u001b[43mtask_config\u001b[49m\u001b[43m.\u001b[49m\u001b[43mget\u001b[49m\u001b[43m(\u001b[49m\u001b[33;43m\"\u001b[39;49m\u001b[33;43mtask_type\u001b[39;49m\u001b[33;43m\"\u001b[39;49m\u001b[43m,\u001b[49m\u001b[43m \u001b[49m\u001b[33;43m\"\u001b[39;49m\u001b[33;43mcustom\u001b[39;49m\u001b[33;43m\"\u001b[39;49m\u001b[43m)\u001b[49m\n\u001b[32m     88\u001b[39m \u001b[43m        \u001b[49m\u001b[43m]\u001b[49m\u001b[43m,\u001b[49m\n\u001b[32m     89\u001b[39m \u001b[43m        \u001b[49m\u001b[43mreuse_last_task_id\u001b[49m\u001b[43m=\u001b[49m\u001b[43mreuse_last_task_id\u001b[49m\n\u001b[32m     90\u001b[39m \u001b[43m        \u001b[49m\u001b[38;5;28;43;01mif\u001b[39;49;00m\u001b[43m \u001b[49m\u001b[43mreuse_last_task_id\u001b[49m\u001b[43m \u001b[49m\u001b[38;5;129;43;01mis\u001b[39;49;00m\u001b[43m \u001b[49m\u001b[38;5;129;43;01mnot\u001b[39;49;00m\u001b[43m \u001b[49m\u001b[38;5;28;43;01mNone\u001b[39;49;00m\n\u001b[32m     91\u001b[39m \u001b[43m        \u001b[49m\u001b[38;5;28;43;01melse\u001b[39;49;00m\u001b[43m \u001b[49m\u001b[43mtask_config\u001b[49m\u001b[43m.\u001b[49m\u001b[43mget\u001b[49m\u001b[43m(\u001b[49m\u001b[33;43m\"\u001b[39;49m\u001b[33;43mreuse_last_task_id\u001b[39;49m\u001b[33;43m\"\u001b[39;49m\u001b[43m,\u001b[49m\u001b[43m \u001b[49m\u001b[38;5;28;43;01mFalse\u001b[39;49;00m\u001b[43m)\u001b[49m\u001b[43m,\u001b[49m\n\u001b[32m     92\u001b[39m \u001b[43m        \u001b[49m\u001b[43moutput_uri\u001b[49m\u001b[43m=\u001b[49m\u001b[43moutput_uri\u001b[49m\u001b[43m \u001b[49m\u001b[38;5;129;43;01mor\u001b[39;49;00m\u001b[43m \u001b[49m\u001b[43mtask_config\u001b[49m\u001b[43m.\u001b[49m\u001b[43mget\u001b[49m\u001b[43m(\u001b[49m\u001b[33;43m\"\u001b[39;49m\u001b[33;43moutput_uri\u001b[39;49m\u001b[33;43m\"\u001b[39;49m\u001b[43m)\u001b[49m\u001b[43m,\u001b[49m\n\u001b[32m     93\u001b[39m \u001b[43m        \u001b[49m\u001b[43mtags\u001b[49m\u001b[43m=\u001b[49m\u001b[43mtags\u001b[49m\u001b[43m \u001b[49m\u001b[38;5;129;43;01mor\u001b[39;49;00m\u001b[43m \u001b[49m\u001b[43mtask_config\u001b[49m\u001b[43m.\u001b[49m\u001b[43mget\u001b[49m\u001b[43m(\u001b[49m\u001b[33;43m\"\u001b[39;49m\u001b[33;43mtags\u001b[39;49m\u001b[33;43m\"\u001b[39;49m\u001b[43m,\u001b[49m\u001b[43m \u001b[49m\u001b[43m[\u001b[49m\u001b[43m]\u001b[49m\u001b[43m)\u001b[49m\u001b[43m,\u001b[49m\n\u001b[32m     94\u001b[39m \u001b[43m    \u001b[49m\u001b[43m)\u001b[49m\n\u001b[32m     96\u001b[39m     \u001b[38;5;28;01mif\u001b[39;00m config:\n\u001b[32m     97\u001b[39m         \u001b[38;5;28mself\u001b[39m.task.connect(config)\n",
      "\u001b[36mFile \u001b[39m\u001b[32m~/education/shad_mts/ml_dl/teta_nn_1_2025_predict_salary/.venv/lib/python3.12/site-packages/clearml/task.py:891\u001b[39m, in \u001b[36mTask.init\u001b[39m\u001b[34m(cls, project_name, task_name, task_type, tags, reuse_last_task_id, continue_last_task, output_uri, auto_connect_arg_parser, auto_connect_frameworks, auto_resource_monitoring, auto_connect_streams, deferred_init)\u001b[39m\n\u001b[32m    887\u001b[39m     task._setup_reporter()\n\u001b[32m    889\u001b[39m \u001b[38;5;66;03m# start monitoring in background process or background threads\u001b[39;00m\n\u001b[32m    890\u001b[39m \u001b[38;5;66;03m# monitoring are: Resource monitoring and Dev Worker monitoring classes\u001b[39;00m\n\u001b[32m--> \u001b[39m\u001b[32m891\u001b[39m \u001b[43mBackgroundMonitor\u001b[49m\u001b[43m.\u001b[49m\u001b[43mstart_all\u001b[49m\u001b[43m(\u001b[49m\u001b[43mtask\u001b[49m\u001b[43m=\u001b[49m\u001b[43mtask\u001b[49m\u001b[43m)\u001b[49m\n\u001b[32m    893\u001b[39m \u001b[38;5;66;03m# noinspection PyProtectedMember\u001b[39;00m\n\u001b[32m    894\u001b[39m task._set_startup_info()\n",
      "\u001b[36mFile \u001b[39m\u001b[32m~/education/shad_mts/ml_dl/teta_nn_1_2025_predict_salary/.venv/lib/python3.12/site-packages/clearml/utilities/process/mp.py:645\u001b[39m, in \u001b[36mBackgroundMonitor.start_all\u001b[39m\u001b[34m(cls, task, wait_for_subprocess)\u001b[39m\n\u001b[32m    643\u001b[39m \u001b[38;5;66;03m# setup\u001b[39;00m\n\u001b[32m    644\u001b[39m \u001b[38;5;28;01mfor\u001b[39;00m d \u001b[38;5;129;01min\u001b[39;00m BackgroundMonitor._instances.get(\u001b[38;5;28mid\u001b[39m(task.id), []):\n\u001b[32m--> \u001b[39m\u001b[32m645\u001b[39m     \u001b[43md\u001b[49m\u001b[43m.\u001b[49m\u001b[43mset_subprocess_mode\u001b[49m\u001b[43m(\u001b[49m\u001b[43m)\u001b[49m\n\u001b[32m    647\u001b[39m \u001b[38;5;66;03m# ToDo: solve for standalone spawn subprocess\u001b[39;00m\n\u001b[32m    648\u001b[39m \u001b[38;5;66;03m# prefer os.fork, because multipprocessing.Process add atexit callback, which might later be invalid.\u001b[39;00m\n\u001b[32m    649\u001b[39m \u001b[38;5;28mcls\u001b[39m.__start_subprocess_os_fork(task_obj_id=\u001b[38;5;28mid\u001b[39m(task.id))\n",
      "\u001b[36mFile \u001b[39m\u001b[32m~/education/shad_mts/ml_dl/teta_nn_1_2025_predict_salary/.venv/lib/python3.12/site-packages/clearml/backend_interface/task/log.py:102\u001b[39m, in \u001b[36mBackgroundLogService.set_subprocess_mode\u001b[39m\u001b[34m(self)\u001b[39m\n\u001b[32m    100\u001b[39m \u001b[38;5;28;01mdef\u001b[39;00m\u001b[38;5;250m \u001b[39m\u001b[34mset_subprocess_mode\u001b[39m(\u001b[38;5;28mself\u001b[39m) -> \u001b[38;5;28;01mNone\u001b[39;00m:\n\u001b[32m    101\u001b[39m     \u001b[38;5;28;01mif\u001b[39;00m \u001b[38;5;28misinstance\u001b[39m(\u001b[38;5;28mself\u001b[39m._queue, ForkQueue):\n\u001b[32m--> \u001b[39m\u001b[32m102\u001b[39m         \u001b[38;5;28;43mself\u001b[39;49m\u001b[43m.\u001b[49m\u001b[43msend_all_records\u001b[49m\u001b[43m(\u001b[49m\u001b[43m)\u001b[49m\n\u001b[32m    103\u001b[39m         \u001b[38;5;28mself\u001b[39m._queue = PrQueue()\n\u001b[32m    104\u001b[39m     \u001b[38;5;28msuper\u001b[39m(BackgroundLogService, \u001b[38;5;28mself\u001b[39m).set_subprocess_mode()\n",
      "\u001b[36mFile \u001b[39m\u001b[32m~/education/shad_mts/ml_dl/teta_nn_1_2025_predict_salary/.venv/lib/python3.12/site-packages/clearml/backend_interface/task/log.py:144\u001b[39m, in \u001b[36mBackgroundLogService.send_all_records\u001b[39m\u001b[34m(self)\u001b[39m\n\u001b[32m    142\u001b[39m         \u001b[38;5;28;01mbreak\u001b[39;00m\n\u001b[32m    143\u001b[39m \u001b[38;5;28;01mif\u001b[39;00m buffer:\n\u001b[32m--> \u001b[39m\u001b[32m144\u001b[39m     \u001b[38;5;28;43mself\u001b[39;49m\u001b[43m.\u001b[49m\u001b[43m_send_records\u001b[49m\u001b[43m(\u001b[49m\u001b[43mbuffer\u001b[49m\u001b[43m)\u001b[49m\n",
      "\u001b[36mFile \u001b[39m\u001b[32m~/education/shad_mts/ml_dl/teta_nn_1_2025_predict_salary/.venv/lib/python3.12/site-packages/clearml/backend_interface/task/log.py:202\u001b[39m, in \u001b[36mBackgroundLogService._send_records\u001b[39m\u001b[34m(self, records)\u001b[39m\n\u001b[32m    200\u001b[39m     \u001b[38;5;28mself\u001b[39m._last_event = \u001b[38;5;28;01mNone\u001b[39;00m\n\u001b[32m    201\u001b[39m     batch_requests = events.AddBatchRequest(requests=[events.AddRequest(e) \u001b[38;5;28;01mfor\u001b[39;00m e \u001b[38;5;129;01min\u001b[39;00m record_events \u001b[38;5;28;01mif\u001b[39;00m e])\n\u001b[32m--> \u001b[39m\u001b[32m202\u001b[39m     \u001b[38;5;28;43mself\u001b[39;49m\u001b[43m.\u001b[49m\u001b[43m_send_events\u001b[49m\u001b[43m(\u001b[49m\u001b[43mbatch_requests\u001b[49m\u001b[43m)\u001b[49m\n\u001b[32m    203\u001b[39m \u001b[38;5;28;01mexcept\u001b[39;00m \u001b[38;5;167;01mException\u001b[39;00m \u001b[38;5;28;01mas\u001b[39;00m ex:\n\u001b[32m    204\u001b[39m     \u001b[38;5;66;03m# noinspection PyProtectedMember\u001b[39;00m\n\u001b[32m    205\u001b[39m     TaskHandler._log_stderr(\n\u001b[32m    206\u001b[39m         \u001b[33m\"\u001b[39m\u001b[38;5;132;01m{}\u001b[39;00m\u001b[38;5;130;01m\\n\u001b[39;00m\u001b[33mWARNING: clearml.log - Failed logging task to backend (\u001b[39m\u001b[38;5;132;01m{:d}\u001b[39;00m\u001b[33m lines)\u001b[39m\u001b[33m\"\u001b[39m.format(ex, \u001b[38;5;28mlen\u001b[39m(buffer))\n\u001b[32m    207\u001b[39m     )\n",
      "\u001b[36mFile \u001b[39m\u001b[32m~/education/shad_mts/ml_dl/teta_nn_1_2025_predict_salary/.venv/lib/python3.12/site-packages/clearml/backend_interface/task/log.py:78\u001b[39m, in \u001b[36mBackgroundLogService._send_events\u001b[39m\u001b[34m(self, a_request)\u001b[39m\n\u001b[32m     74\u001b[39m     \u001b[38;5;28;01mreturn\u001b[39;00m\n\u001b[32m     76\u001b[39m \u001b[38;5;66;03m# if self._thread is None:\u001b[39;00m\n\u001b[32m     77\u001b[39m \u001b[38;5;66;03m#     self._log_stderr('Task.close() flushing remaining logs ({})'.format(self.pending))\u001b[39;00m\n\u001b[32m---> \u001b[39m\u001b[32m78\u001b[39m res = \u001b[38;5;28;43mself\u001b[39;49m\u001b[43m.\u001b[49m\u001b[43msession\u001b[49m\u001b[43m.\u001b[49m\u001b[43msend\u001b[49m\u001b[43m(\u001b[49m\u001b[43ma_request\u001b[49m\u001b[43m)\u001b[49m\n\u001b[32m     79\u001b[39m \u001b[38;5;28;01mif\u001b[39;00m res \u001b[38;5;129;01mand\u001b[39;00m \u001b[38;5;129;01mnot\u001b[39;00m res.ok():\n\u001b[32m     80\u001b[39m     \u001b[38;5;66;03m# noinspection PyProtectedMember\u001b[39;00m\n\u001b[32m     81\u001b[39m     TaskHandler._log_stderr(\n\u001b[32m     82\u001b[39m         \u001b[33m\"\u001b[39m\u001b[33mfailed logging task to backend (\u001b[39m\u001b[38;5;132;01m{:d}\u001b[39;00m\u001b[33m lines, \u001b[39m\u001b[38;5;132;01m{}\u001b[39;00m\u001b[33m)\u001b[39m\u001b[33m\"\u001b[39m.format(\u001b[38;5;28mlen\u001b[39m(a_request.requests), \u001b[38;5;28mstr\u001b[39m(res.meta)),\n\u001b[32m     83\u001b[39m         level=WARNING,\n\u001b[32m     84\u001b[39m     )\n",
      "\u001b[36mFile \u001b[39m\u001b[32m~/education/shad_mts/ml_dl/teta_nn_1_2025_predict_salary/.venv/lib/python3.12/site-packages/clearml/backend_api/session/session.py:673\u001b[39m, in \u001b[36mSession.send\u001b[39m\u001b[34m(self, req_obj, async_enable, headers)\u001b[39m\n\u001b[32m    670\u001b[39m     \u001b[38;5;28;01mraise\u001b[39;00m \u001b[38;5;167;01mNotImplementedError\u001b[39;00m(\u001b[33m\"\u001b[39m\u001b[33mAsync behavior is currently not implemented for batch requests\u001b[39m\u001b[33m\"\u001b[39m)\n\u001b[32m    672\u001b[39m json_data = req_obj.get_json()\n\u001b[32m--> \u001b[39m\u001b[32m673\u001b[39m res = \u001b[38;5;28;43mself\u001b[39;49m\u001b[43m.\u001b[49m\u001b[43msend_request_batch\u001b[49m\u001b[43m(\u001b[49m\n\u001b[32m    674\u001b[39m \u001b[43m    \u001b[49m\u001b[43mservice\u001b[49m\u001b[43m=\u001b[49m\u001b[43mreq_obj\u001b[49m\u001b[43m.\u001b[49m\u001b[43m_service\u001b[49m\u001b[43m,\u001b[49m\n\u001b[32m    675\u001b[39m \u001b[43m    \u001b[49m\u001b[43maction\u001b[49m\u001b[43m=\u001b[49m\u001b[43mreq_obj\u001b[49m\u001b[43m.\u001b[49m\u001b[43m_action\u001b[49m\u001b[43m,\u001b[49m\n\u001b[32m    676\u001b[39m \u001b[43m    \u001b[49m\u001b[43mversion\u001b[49m\u001b[43m=\u001b[49m\u001b[43mreq_obj\u001b[49m\u001b[43m.\u001b[49m\u001b[43m_version\u001b[49m\u001b[43m,\u001b[49m\n\u001b[32m    677\u001b[39m \u001b[43m    \u001b[49m\u001b[43mjson\u001b[49m\u001b[43m=\u001b[49m\u001b[43mjson_data\u001b[49m\u001b[43m,\u001b[49m\n\u001b[32m    678\u001b[39m \u001b[43m    \u001b[49m\u001b[43mmethod\u001b[49m\u001b[43m=\u001b[49m\u001b[43mreq_obj\u001b[49m\u001b[43m.\u001b[49m\u001b[43m_method\u001b[49m\u001b[43m,\u001b[49m\n\u001b[32m    679\u001b[39m \u001b[43m    \u001b[49m\u001b[43mheaders\u001b[49m\u001b[43m=\u001b[49m\u001b[43mheaders\u001b[49m\u001b[43m,\u001b[49m\n\u001b[32m    680\u001b[39m \u001b[43m\u001b[49m\u001b[43m)\u001b[49m\n\u001b[32m    681\u001b[39m \u001b[38;5;66;03m# TODO: handle multiple results in this case\u001b[39;00m\n\u001b[32m    682\u001b[39m \u001b[38;5;28;01mif\u001b[39;00m res \u001b[38;5;129;01mis\u001b[39;00m \u001b[38;5;129;01mnot\u001b[39;00m \u001b[38;5;28;01mNone\u001b[39;00m:\n",
      "\u001b[36mFile \u001b[39m\u001b[32m~/education/shad_mts/ml_dl/teta_nn_1_2025_predict_salary/.venv/lib/python3.12/site-packages/clearml/backend_api/session/session.py:615\u001b[39m, in \u001b[36mSession.send_request_batch\u001b[39m\u001b[34m(self, service, action, version, headers, data, json, method)\u001b[39m\n\u001b[32m    613\u001b[39m             \u001b[38;5;28;01mbreak\u001b[39;00m\n\u001b[32m    614\u001b[39m \u001b[38;5;28;01mif\u001b[39;00m \u001b[38;5;28mslice\u001b[39m:\n\u001b[32m--> \u001b[39m\u001b[32m615\u001b[39m     res = \u001b[38;5;28;43mself\u001b[39;49m\u001b[43m.\u001b[49m\u001b[43msend_request\u001b[49m\u001b[43m(\u001b[49m\n\u001b[32m    616\u001b[39m \u001b[43m        \u001b[49m\u001b[43mmethod\u001b[49m\u001b[43m=\u001b[49m\u001b[43mmethod\u001b[49m\u001b[43m,\u001b[49m\n\u001b[32m    617\u001b[39m \u001b[43m        \u001b[49m\u001b[43mservice\u001b[49m\u001b[43m=\u001b[49m\u001b[43mservice\u001b[49m\u001b[43m,\u001b[49m\n\u001b[32m    618\u001b[39m \u001b[43m        \u001b[49m\u001b[43maction\u001b[49m\u001b[43m=\u001b[49m\u001b[43maction\u001b[49m\u001b[43m,\u001b[49m\n\u001b[32m    619\u001b[39m \u001b[43m        \u001b[49m\u001b[43mdata\u001b[49m\u001b[43m=\u001b[49m\u001b[38;5;28;43mslice\u001b[39;49m\u001b[43m,\u001b[49m\n\u001b[32m    620\u001b[39m \u001b[43m        \u001b[49m\u001b[43mheaders\u001b[49m\u001b[43m=\u001b[49m\u001b[43mheaders\u001b[49m\u001b[43m,\u001b[49m\n\u001b[32m    621\u001b[39m \u001b[43m        \u001b[49m\u001b[43mversion\u001b[49m\u001b[43m=\u001b[49m\u001b[43mversion\u001b[49m\u001b[43m,\u001b[49m\n\u001b[32m    622\u001b[39m \u001b[43m    \u001b[49m\u001b[43m)\u001b[49m\n\u001b[32m    623\u001b[39m     results.append(res)\n\u001b[32m    624\u001b[39m cur += size\n",
      "\u001b[36mFile \u001b[39m\u001b[32m~/education/shad_mts/ml_dl/teta_nn_1_2025_predict_salary/.venv/lib/python3.12/site-packages/clearml/backend_api/session/session.py:536\u001b[39m, in \u001b[36mSession.send_request\u001b[39m\u001b[34m(self, service, action, version, method, headers, data, json, async_enable, params)\u001b[39m\n\u001b[32m    534\u001b[39m     \u001b[38;5;28;01mfor\u001b[39;00m h \u001b[38;5;129;01min\u001b[39;00m \u001b[38;5;28mself\u001b[39m._ASYNC_HEADER:\n\u001b[32m    535\u001b[39m         headers[h] = \u001b[33m\"\u001b[39m\u001b[33m1\u001b[39m\u001b[33m\"\u001b[39m\n\u001b[32m--> \u001b[39m\u001b[32m536\u001b[39m \u001b[38;5;28;01mreturn\u001b[39;00m \u001b[38;5;28;43mself\u001b[39;49m\u001b[43m.\u001b[49m\u001b[43m_send_request\u001b[49m\u001b[43m(\u001b[49m\n\u001b[32m    537\u001b[39m \u001b[43m    \u001b[49m\u001b[43mservice\u001b[49m\u001b[43m=\u001b[49m\u001b[43mservice\u001b[49m\u001b[43m,\u001b[49m\n\u001b[32m    538\u001b[39m \u001b[43m    \u001b[49m\u001b[43maction\u001b[49m\u001b[43m=\u001b[49m\u001b[43maction\u001b[49m\u001b[43m,\u001b[49m\n\u001b[32m    539\u001b[39m \u001b[43m    \u001b[49m\u001b[43mversion\u001b[49m\u001b[43m=\u001b[49m\u001b[43mversion\u001b[49m\u001b[43m,\u001b[49m\n\u001b[32m    540\u001b[39m \u001b[43m    \u001b[49m\u001b[43mmethod\u001b[49m\u001b[43m=\u001b[49m\u001b[43mmethod\u001b[49m\u001b[43m,\u001b[49m\n\u001b[32m    541\u001b[39m \u001b[43m    \u001b[49m\u001b[43mheaders\u001b[49m\u001b[43m=\u001b[49m\u001b[43mheaders\u001b[49m\u001b[43m,\u001b[49m\n\u001b[32m    542\u001b[39m \u001b[43m    \u001b[49m\u001b[43mdata\u001b[49m\u001b[43m=\u001b[49m\u001b[43mdata\u001b[49m\u001b[43m,\u001b[49m\n\u001b[32m    543\u001b[39m \u001b[43m    \u001b[49m\u001b[43mjson\u001b[49m\u001b[43m=\u001b[49m\u001b[43mjson\u001b[49m\u001b[43m,\u001b[49m\n\u001b[32m    544\u001b[39m \u001b[43m    \u001b[49m\u001b[43mparams\u001b[49m\u001b[43m=\u001b[49m\u001b[43mparams\u001b[49m\u001b[43m,\u001b[49m\n\u001b[32m    545\u001b[39m \u001b[43m\u001b[49m\u001b[43m)\u001b[49m\n",
      "\u001b[36mFile \u001b[39m\u001b[32m~/education/shad_mts/ml_dl/teta_nn_1_2025_predict_salary/.venv/lib/python3.12/site-packages/clearml/backend_api/session/session.py:444\u001b[39m, in \u001b[36mSession._send_request\u001b[39m\u001b[34m(self, service, action, version, method, headers, auth, data, json, refresh_token_if_unauthorized, params)\u001b[39m\n\u001b[32m    436\u001b[39m         size += \u001b[38;5;28mlen\u001b[39m(json_lib.dumps(json))\n\u001b[32m    437\u001b[39m     \u001b[38;5;28mself\u001b[39m._logger.debug(\n\u001b[32m    438\u001b[39m         \u001b[33m\"\u001b[39m\u001b[38;5;132;01m%s\u001b[39;00m\u001b[33m: \u001b[39m\u001b[38;5;132;01m%s\u001b[39;00m\u001b[33m [\u001b[39m\u001b[38;5;132;01m%d\u001b[39;00m\u001b[33m bytes, \u001b[39m\u001b[38;5;132;01m%d\u001b[39;00m\u001b[33m headers]\u001b[39m\u001b[33m\"\u001b[39m,\n\u001b[32m    439\u001b[39m         method.upper(),\n\u001b[32m   (...)\u001b[39m\u001b[32m    442\u001b[39m         \u001b[38;5;28mlen\u001b[39m(headers \u001b[38;5;129;01mor\u001b[39;00m {}),\n\u001b[32m    443\u001b[39m     )\n\u001b[32m--> \u001b[39m\u001b[32m444\u001b[39m res = \u001b[38;5;28;43mself\u001b[39;49m\u001b[43m.\u001b[49m\u001b[43m__http_session\u001b[49m\u001b[43m.\u001b[49m\u001b[43mrequest\u001b[49m\u001b[43m(\u001b[49m\n\u001b[32m    445\u001b[39m \u001b[43m    \u001b[49m\u001b[43mmethod\u001b[49m\u001b[43m,\u001b[49m\n\u001b[32m    446\u001b[39m \u001b[43m    \u001b[49m\u001b[43murl\u001b[49m\u001b[43m,\u001b[49m\n\u001b[32m    447\u001b[39m \u001b[43m    \u001b[49m\u001b[43mheaders\u001b[49m\u001b[43m=\u001b[49m\u001b[43mheaders\u001b[49m\u001b[43m,\u001b[49m\n\u001b[32m    448\u001b[39m \u001b[43m    \u001b[49m\u001b[43mauth\u001b[49m\u001b[43m=\u001b[49m\u001b[43mauth\u001b[49m\u001b[43m,\u001b[49m\n\u001b[32m    449\u001b[39m \u001b[43m    \u001b[49m\u001b[43mdata\u001b[49m\u001b[43m=\u001b[49m\u001b[43mdata\u001b[49m\u001b[43m,\u001b[49m\n\u001b[32m    450\u001b[39m \u001b[43m    \u001b[49m\u001b[43mjson\u001b[49m\u001b[43m=\u001b[49m\u001b[43mjson\u001b[49m\u001b[43m,\u001b[49m\n\u001b[32m    451\u001b[39m \u001b[43m    \u001b[49m\u001b[43mtimeout\u001b[49m\u001b[43m=\u001b[49m\u001b[43mtimeout\u001b[49m\u001b[43m,\u001b[49m\n\u001b[32m    452\u001b[39m \u001b[43m    \u001b[49m\u001b[43mparams\u001b[49m\u001b[43m=\u001b[49m\u001b[43mparams\u001b[49m\u001b[43m,\u001b[49m\n\u001b[32m    453\u001b[39m \u001b[43m\u001b[49m\u001b[43m)\u001b[49m\n\u001b[32m    454\u001b[39m \u001b[38;5;28;01mif\u001b[39;00m \u001b[38;5;28mself\u001b[39m._verbose \u001b[38;5;129;01mand\u001b[39;00m \u001b[38;5;28mself\u001b[39m._logger:\n\u001b[32m    455\u001b[39m     \u001b[38;5;28mself\u001b[39m._logger.debug(\u001b[33m\"\u001b[39m\u001b[33m--> took \u001b[39m\u001b[38;5;132;01m%s\u001b[39;00m\u001b[33m\"\u001b[39m, res.elapsed)\n",
      "\u001b[36mFile \u001b[39m\u001b[32m~/education/shad_mts/ml_dl/teta_nn_1_2025_predict_salary/.venv/lib/python3.12/site-packages/requests/sessions.py:589\u001b[39m, in \u001b[36mSession.request\u001b[39m\u001b[34m(self, method, url, params, data, headers, cookies, files, auth, timeout, allow_redirects, proxies, hooks, stream, verify, cert, json)\u001b[39m\n\u001b[32m    584\u001b[39m send_kwargs = {\n\u001b[32m    585\u001b[39m     \u001b[33m\"\u001b[39m\u001b[33mtimeout\u001b[39m\u001b[33m\"\u001b[39m: timeout,\n\u001b[32m    586\u001b[39m     \u001b[33m\"\u001b[39m\u001b[33mallow_redirects\u001b[39m\u001b[33m\"\u001b[39m: allow_redirects,\n\u001b[32m    587\u001b[39m }\n\u001b[32m    588\u001b[39m send_kwargs.update(settings)\n\u001b[32m--> \u001b[39m\u001b[32m589\u001b[39m resp = \u001b[38;5;28;43mself\u001b[39;49m\u001b[43m.\u001b[49m\u001b[43msend\u001b[49m\u001b[43m(\u001b[49m\u001b[43mprep\u001b[49m\u001b[43m,\u001b[49m\u001b[43m \u001b[49m\u001b[43m*\u001b[49m\u001b[43m*\u001b[49m\u001b[43msend_kwargs\u001b[49m\u001b[43m)\u001b[49m\n\u001b[32m    591\u001b[39m \u001b[38;5;28;01mreturn\u001b[39;00m resp\n",
      "\u001b[36mFile \u001b[39m\u001b[32m~/education/shad_mts/ml_dl/teta_nn_1_2025_predict_salary/.venv/lib/python3.12/site-packages/clearml/backend_api/utils.py:121\u001b[39m, in \u001b[36mSessionWithTimeout.send\u001b[39m\u001b[34m(self, request, **kwargs)\u001b[39m\n\u001b[32m    119\u001b[39m     \u001b[38;5;28;01mexcept\u001b[39;00m (\u001b[38;5;167;01mTypeError\u001b[39;00m, \u001b[38;5;167;01mValueError\u001b[39;00m, \u001b[38;5;167;01mNameError\u001b[39;00m):\n\u001b[32m    120\u001b[39m         \u001b[38;5;28;01mpass\u001b[39;00m\n\u001b[32m--> \u001b[39m\u001b[32m121\u001b[39m \u001b[38;5;28;01mreturn\u001b[39;00m \u001b[38;5;28;43msuper\u001b[39;49m\u001b[43m(\u001b[49m\u001b[43mSessionWithTimeout\u001b[49m\u001b[43m,\u001b[49m\u001b[43m \u001b[49m\u001b[38;5;28;43mself\u001b[39;49m\u001b[43m)\u001b[49m\u001b[43m.\u001b[49m\u001b[43msend\u001b[49m\u001b[43m(\u001b[49m\u001b[43mrequest\u001b[49m\u001b[43m,\u001b[49m\u001b[43m \u001b[49m\u001b[43m*\u001b[49m\u001b[43m*\u001b[49m\u001b[43mkwargs\u001b[49m\u001b[43m)\u001b[49m\n",
      "\u001b[36mFile \u001b[39m\u001b[32m~/education/shad_mts/ml_dl/teta_nn_1_2025_predict_salary/.venv/lib/python3.12/site-packages/requests/sessions.py:703\u001b[39m, in \u001b[36mSession.send\u001b[39m\u001b[34m(self, request, **kwargs)\u001b[39m\n\u001b[32m    700\u001b[39m start = preferred_clock()\n\u001b[32m    702\u001b[39m \u001b[38;5;66;03m# Send the request\u001b[39;00m\n\u001b[32m--> \u001b[39m\u001b[32m703\u001b[39m r = \u001b[43madapter\u001b[49m\u001b[43m.\u001b[49m\u001b[43msend\u001b[49m\u001b[43m(\u001b[49m\u001b[43mrequest\u001b[49m\u001b[43m,\u001b[49m\u001b[43m \u001b[49m\u001b[43m*\u001b[49m\u001b[43m*\u001b[49m\u001b[43mkwargs\u001b[49m\u001b[43m)\u001b[49m\n\u001b[32m    705\u001b[39m \u001b[38;5;66;03m# Total elapsed time of the request (approximately)\u001b[39;00m\n\u001b[32m    706\u001b[39m elapsed = preferred_clock() - start\n",
      "\u001b[36mFile \u001b[39m\u001b[32m~/education/shad_mts/ml_dl/teta_nn_1_2025_predict_salary/.venv/lib/python3.12/site-packages/requests/adapters.py:667\u001b[39m, in \u001b[36mHTTPAdapter.send\u001b[39m\u001b[34m(self, request, stream, timeout, verify, cert, proxies)\u001b[39m\n\u001b[32m    664\u001b[39m     timeout = TimeoutSauce(connect=timeout, read=timeout)\n\u001b[32m    666\u001b[39m \u001b[38;5;28;01mtry\u001b[39;00m:\n\u001b[32m--> \u001b[39m\u001b[32m667\u001b[39m     resp = \u001b[43mconn\u001b[49m\u001b[43m.\u001b[49m\u001b[43murlopen\u001b[49m\u001b[43m(\u001b[49m\n\u001b[32m    668\u001b[39m \u001b[43m        \u001b[49m\u001b[43mmethod\u001b[49m\u001b[43m=\u001b[49m\u001b[43mrequest\u001b[49m\u001b[43m.\u001b[49m\u001b[43mmethod\u001b[49m\u001b[43m,\u001b[49m\n\u001b[32m    669\u001b[39m \u001b[43m        \u001b[49m\u001b[43murl\u001b[49m\u001b[43m=\u001b[49m\u001b[43murl\u001b[49m\u001b[43m,\u001b[49m\n\u001b[32m    670\u001b[39m \u001b[43m        \u001b[49m\u001b[43mbody\u001b[49m\u001b[43m=\u001b[49m\u001b[43mrequest\u001b[49m\u001b[43m.\u001b[49m\u001b[43mbody\u001b[49m\u001b[43m,\u001b[49m\n\u001b[32m    671\u001b[39m \u001b[43m        \u001b[49m\u001b[43mheaders\u001b[49m\u001b[43m=\u001b[49m\u001b[43mrequest\u001b[49m\u001b[43m.\u001b[49m\u001b[43mheaders\u001b[49m\u001b[43m,\u001b[49m\n\u001b[32m    672\u001b[39m \u001b[43m        \u001b[49m\u001b[43mredirect\u001b[49m\u001b[43m=\u001b[49m\u001b[38;5;28;43;01mFalse\u001b[39;49;00m\u001b[43m,\u001b[49m\n\u001b[32m    673\u001b[39m \u001b[43m        \u001b[49m\u001b[43massert_same_host\u001b[49m\u001b[43m=\u001b[49m\u001b[38;5;28;43;01mFalse\u001b[39;49;00m\u001b[43m,\u001b[49m\n\u001b[32m    674\u001b[39m \u001b[43m        \u001b[49m\u001b[43mpreload_content\u001b[49m\u001b[43m=\u001b[49m\u001b[38;5;28;43;01mFalse\u001b[39;49;00m\u001b[43m,\u001b[49m\n\u001b[32m    675\u001b[39m \u001b[43m        \u001b[49m\u001b[43mdecode_content\u001b[49m\u001b[43m=\u001b[49m\u001b[38;5;28;43;01mFalse\u001b[39;49;00m\u001b[43m,\u001b[49m\n\u001b[32m    676\u001b[39m \u001b[43m        \u001b[49m\u001b[43mretries\u001b[49m\u001b[43m=\u001b[49m\u001b[38;5;28;43mself\u001b[39;49m\u001b[43m.\u001b[49m\u001b[43mmax_retries\u001b[49m\u001b[43m,\u001b[49m\n\u001b[32m    677\u001b[39m \u001b[43m        \u001b[49m\u001b[43mtimeout\u001b[49m\u001b[43m=\u001b[49m\u001b[43mtimeout\u001b[49m\u001b[43m,\u001b[49m\n\u001b[32m    678\u001b[39m \u001b[43m        \u001b[49m\u001b[43mchunked\u001b[49m\u001b[43m=\u001b[49m\u001b[43mchunked\u001b[49m\u001b[43m,\u001b[49m\n\u001b[32m    679\u001b[39m \u001b[43m    \u001b[49m\u001b[43m)\u001b[49m\n\u001b[32m    681\u001b[39m \u001b[38;5;28;01mexcept\u001b[39;00m (ProtocolError, \u001b[38;5;167;01mOSError\u001b[39;00m) \u001b[38;5;28;01mas\u001b[39;00m err:\n\u001b[32m    682\u001b[39m     \u001b[38;5;28;01mraise\u001b[39;00m \u001b[38;5;167;01mConnectionError\u001b[39;00m(err, request=request)\n",
      "\u001b[36mFile \u001b[39m\u001b[32m~/education/shad_mts/ml_dl/teta_nn_1_2025_predict_salary/.venv/lib/python3.12/site-packages/urllib3/connectionpool.py:773\u001b[39m, in \u001b[36mHTTPConnectionPool.urlopen\u001b[39m\u001b[34m(self, method, url, body, headers, retries, redirect, assert_same_host, timeout, pool_timeout, release_conn, chunked, body_pos, preload_content, decode_content, **response_kw)\u001b[39m\n\u001b[32m    771\u001b[39m \u001b[38;5;28;01mif\u001b[39;00m \u001b[38;5;28mself\u001b[39m.proxy \u001b[38;5;129;01mis\u001b[39;00m \u001b[38;5;129;01mnot\u001b[39;00m \u001b[38;5;28;01mNone\u001b[39;00m \u001b[38;5;129;01mand\u001b[39;00m http_tunnel_required \u001b[38;5;129;01mand\u001b[39;00m conn.is_closed:\n\u001b[32m    772\u001b[39m     \u001b[38;5;28;01mtry\u001b[39;00m:\n\u001b[32m--> \u001b[39m\u001b[32m773\u001b[39m         \u001b[38;5;28;43mself\u001b[39;49m\u001b[43m.\u001b[49m\u001b[43m_prepare_proxy\u001b[49m\u001b[43m(\u001b[49m\u001b[43mconn\u001b[49m\u001b[43m)\u001b[49m\n\u001b[32m    774\u001b[39m     \u001b[38;5;28;01mexcept\u001b[39;00m (BaseSSLError, \u001b[38;5;167;01mOSError\u001b[39;00m, SocketTimeout) \u001b[38;5;28;01mas\u001b[39;00m e:\n\u001b[32m    775\u001b[39m         \u001b[38;5;28mself\u001b[39m._raise_timeout(\n\u001b[32m    776\u001b[39m             err=e, url=\u001b[38;5;28mself\u001b[39m.proxy.url, timeout_value=conn.timeout\n\u001b[32m    777\u001b[39m         )\n",
      "\u001b[36mFile \u001b[39m\u001b[32m~/education/shad_mts/ml_dl/teta_nn_1_2025_predict_salary/.venv/lib/python3.12/site-packages/urllib3/connectionpool.py:1042\u001b[39m, in \u001b[36mHTTPSConnectionPool._prepare_proxy\u001b[39m\u001b[34m(self, conn)\u001b[39m\n\u001b[32m   1034\u001b[39m     tunnel_scheme = \u001b[33m\"\u001b[39m\u001b[33mhttp\u001b[39m\u001b[33m\"\u001b[39m\n\u001b[32m   1036\u001b[39m conn.set_tunnel(\n\u001b[32m   1037\u001b[39m     scheme=tunnel_scheme,\n\u001b[32m   1038\u001b[39m     host=\u001b[38;5;28mself\u001b[39m._tunnel_host,\n\u001b[32m   1039\u001b[39m     port=\u001b[38;5;28mself\u001b[39m.port,\n\u001b[32m   1040\u001b[39m     headers=\u001b[38;5;28mself\u001b[39m.proxy_headers,\n\u001b[32m   1041\u001b[39m )\n\u001b[32m-> \u001b[39m\u001b[32m1042\u001b[39m \u001b[43mconn\u001b[49m\u001b[43m.\u001b[49m\u001b[43mconnect\u001b[49m\u001b[43m(\u001b[49m\u001b[43m)\u001b[49m\n",
      "\u001b[36mFile \u001b[39m\u001b[32m~/education/shad_mts/ml_dl/teta_nn_1_2025_predict_salary/.venv/lib/python3.12/site-packages/urllib3/connection.py:790\u001b[39m, in \u001b[36mHTTPSConnection.connect\u001b[39m\u001b[34m(self)\u001b[39m\n\u001b[32m    787\u001b[39m     \u001b[38;5;66;03m# Remove trailing '.' from fqdn hostnames to allow certificate validation\u001b[39;00m\n\u001b[32m    788\u001b[39m     server_hostname_rm_dot = server_hostname.rstrip(\u001b[33m\"\u001b[39m\u001b[33m.\u001b[39m\u001b[33m\"\u001b[39m)\n\u001b[32m--> \u001b[39m\u001b[32m790\u001b[39m     sock_and_verified = \u001b[43m_ssl_wrap_socket_and_match_hostname\u001b[49m\u001b[43m(\u001b[49m\n\u001b[32m    791\u001b[39m \u001b[43m        \u001b[49m\u001b[43msock\u001b[49m\u001b[43m=\u001b[49m\u001b[43msock\u001b[49m\u001b[43m,\u001b[49m\n\u001b[32m    792\u001b[39m \u001b[43m        \u001b[49m\u001b[43mcert_reqs\u001b[49m\u001b[43m=\u001b[49m\u001b[38;5;28;43mself\u001b[39;49m\u001b[43m.\u001b[49m\u001b[43mcert_reqs\u001b[49m\u001b[43m,\u001b[49m\n\u001b[32m    793\u001b[39m \u001b[43m        \u001b[49m\u001b[43mssl_version\u001b[49m\u001b[43m=\u001b[49m\u001b[38;5;28;43mself\u001b[39;49m\u001b[43m.\u001b[49m\u001b[43mssl_version\u001b[49m\u001b[43m,\u001b[49m\n\u001b[32m    794\u001b[39m \u001b[43m        \u001b[49m\u001b[43mssl_minimum_version\u001b[49m\u001b[43m=\u001b[49m\u001b[38;5;28;43mself\u001b[39;49m\u001b[43m.\u001b[49m\u001b[43mssl_minimum_version\u001b[49m\u001b[43m,\u001b[49m\n\u001b[32m    795\u001b[39m \u001b[43m        \u001b[49m\u001b[43mssl_maximum_version\u001b[49m\u001b[43m=\u001b[49m\u001b[38;5;28;43mself\u001b[39;49m\u001b[43m.\u001b[49m\u001b[43mssl_maximum_version\u001b[49m\u001b[43m,\u001b[49m\n\u001b[32m    796\u001b[39m \u001b[43m        \u001b[49m\u001b[43mca_certs\u001b[49m\u001b[43m=\u001b[49m\u001b[38;5;28;43mself\u001b[39;49m\u001b[43m.\u001b[49m\u001b[43mca_certs\u001b[49m\u001b[43m,\u001b[49m\n\u001b[32m    797\u001b[39m \u001b[43m        \u001b[49m\u001b[43mca_cert_dir\u001b[49m\u001b[43m=\u001b[49m\u001b[38;5;28;43mself\u001b[39;49m\u001b[43m.\u001b[49m\u001b[43mca_cert_dir\u001b[49m\u001b[43m,\u001b[49m\n\u001b[32m    798\u001b[39m \u001b[43m        \u001b[49m\u001b[43mca_cert_data\u001b[49m\u001b[43m=\u001b[49m\u001b[38;5;28;43mself\u001b[39;49m\u001b[43m.\u001b[49m\u001b[43mca_cert_data\u001b[49m\u001b[43m,\u001b[49m\n\u001b[32m    799\u001b[39m \u001b[43m        \u001b[49m\u001b[43mcert_file\u001b[49m\u001b[43m=\u001b[49m\u001b[38;5;28;43mself\u001b[39;49m\u001b[43m.\u001b[49m\u001b[43mcert_file\u001b[49m\u001b[43m,\u001b[49m\n\u001b[32m    800\u001b[39m \u001b[43m        \u001b[49m\u001b[43mkey_file\u001b[49m\u001b[43m=\u001b[49m\u001b[38;5;28;43mself\u001b[39;49m\u001b[43m.\u001b[49m\u001b[43mkey_file\u001b[49m\u001b[43m,\u001b[49m\n\u001b[32m    801\u001b[39m \u001b[43m        \u001b[49m\u001b[43mkey_password\u001b[49m\u001b[43m=\u001b[49m\u001b[38;5;28;43mself\u001b[39;49m\u001b[43m.\u001b[49m\u001b[43mkey_password\u001b[49m\u001b[43m,\u001b[49m\n\u001b[32m    802\u001b[39m \u001b[43m        \u001b[49m\u001b[43mserver_hostname\u001b[49m\u001b[43m=\u001b[49m\u001b[43mserver_hostname_rm_dot\u001b[49m\u001b[43m,\u001b[49m\n\u001b[32m    803\u001b[39m \u001b[43m        \u001b[49m\u001b[43mssl_context\u001b[49m\u001b[43m=\u001b[49m\u001b[38;5;28;43mself\u001b[39;49m\u001b[43m.\u001b[49m\u001b[43mssl_context\u001b[49m\u001b[43m,\u001b[49m\n\u001b[32m    804\u001b[39m \u001b[43m        \u001b[49m\u001b[43mtls_in_tls\u001b[49m\u001b[43m=\u001b[49m\u001b[43mtls_in_tls\u001b[49m\u001b[43m,\u001b[49m\n\u001b[32m    805\u001b[39m \u001b[43m        \u001b[49m\u001b[43massert_hostname\u001b[49m\u001b[43m=\u001b[49m\u001b[38;5;28;43mself\u001b[39;49m\u001b[43m.\u001b[49m\u001b[43massert_hostname\u001b[49m\u001b[43m,\u001b[49m\n\u001b[32m    806\u001b[39m \u001b[43m        \u001b[49m\u001b[43massert_fingerprint\u001b[49m\u001b[43m=\u001b[49m\u001b[38;5;28;43mself\u001b[39;49m\u001b[43m.\u001b[49m\u001b[43massert_fingerprint\u001b[49m\u001b[43m,\u001b[49m\n\u001b[32m    807\u001b[39m \u001b[43m    \u001b[49m\u001b[43m)\u001b[49m\n\u001b[32m    808\u001b[39m     \u001b[38;5;28mself\u001b[39m.sock = sock_and_verified.socket\n\u001b[32m    810\u001b[39m \u001b[38;5;66;03m# If an error occurs during connection/handshake we may need to release\u001b[39;00m\n\u001b[32m    811\u001b[39m \u001b[38;5;66;03m# our lock so another connection can probe the origin.\u001b[39;00m\n",
      "\u001b[36mFile \u001b[39m\u001b[32m~/education/shad_mts/ml_dl/teta_nn_1_2025_predict_salary/.venv/lib/python3.12/site-packages/urllib3/connection.py:969\u001b[39m, in \u001b[36m_ssl_wrap_socket_and_match_hostname\u001b[39m\u001b[34m(sock, cert_reqs, ssl_version, ssl_minimum_version, ssl_maximum_version, cert_file, key_file, key_password, ca_certs, ca_cert_dir, ca_cert_data, assert_hostname, assert_fingerprint, server_hostname, ssl_context, tls_in_tls)\u001b[39m\n\u001b[32m    966\u001b[39m     \u001b[38;5;28;01mif\u001b[39;00m is_ipaddress(normalized):\n\u001b[32m    967\u001b[39m         server_hostname = normalized\n\u001b[32m--> \u001b[39m\u001b[32m969\u001b[39m ssl_sock = \u001b[43mssl_wrap_socket\u001b[49m\u001b[43m(\u001b[49m\n\u001b[32m    970\u001b[39m \u001b[43m    \u001b[49m\u001b[43msock\u001b[49m\u001b[43m=\u001b[49m\u001b[43msock\u001b[49m\u001b[43m,\u001b[49m\n\u001b[32m    971\u001b[39m \u001b[43m    \u001b[49m\u001b[43mkeyfile\u001b[49m\u001b[43m=\u001b[49m\u001b[43mkey_file\u001b[49m\u001b[43m,\u001b[49m\n\u001b[32m    972\u001b[39m \u001b[43m    \u001b[49m\u001b[43mcertfile\u001b[49m\u001b[43m=\u001b[49m\u001b[43mcert_file\u001b[49m\u001b[43m,\u001b[49m\n\u001b[32m    973\u001b[39m \u001b[43m    \u001b[49m\u001b[43mkey_password\u001b[49m\u001b[43m=\u001b[49m\u001b[43mkey_password\u001b[49m\u001b[43m,\u001b[49m\n\u001b[32m    974\u001b[39m \u001b[43m    \u001b[49m\u001b[43mca_certs\u001b[49m\u001b[43m=\u001b[49m\u001b[43mca_certs\u001b[49m\u001b[43m,\u001b[49m\n\u001b[32m    975\u001b[39m \u001b[43m    \u001b[49m\u001b[43mca_cert_dir\u001b[49m\u001b[43m=\u001b[49m\u001b[43mca_cert_dir\u001b[49m\u001b[43m,\u001b[49m\n\u001b[32m    976\u001b[39m \u001b[43m    \u001b[49m\u001b[43mca_cert_data\u001b[49m\u001b[43m=\u001b[49m\u001b[43mca_cert_data\u001b[49m\u001b[43m,\u001b[49m\n\u001b[32m    977\u001b[39m \u001b[43m    \u001b[49m\u001b[43mserver_hostname\u001b[49m\u001b[43m=\u001b[49m\u001b[43mserver_hostname\u001b[49m\u001b[43m,\u001b[49m\n\u001b[32m    978\u001b[39m \u001b[43m    \u001b[49m\u001b[43mssl_context\u001b[49m\u001b[43m=\u001b[49m\u001b[43mcontext\u001b[49m\u001b[43m,\u001b[49m\n\u001b[32m    979\u001b[39m \u001b[43m    \u001b[49m\u001b[43mtls_in_tls\u001b[49m\u001b[43m=\u001b[49m\u001b[43mtls_in_tls\u001b[49m\u001b[43m,\u001b[49m\n\u001b[32m    980\u001b[39m \u001b[43m\u001b[49m\u001b[43m)\u001b[49m\n\u001b[32m    982\u001b[39m \u001b[38;5;28;01mtry\u001b[39;00m:\n\u001b[32m    983\u001b[39m     \u001b[38;5;28;01mif\u001b[39;00m assert_fingerprint:\n",
      "\u001b[36mFile \u001b[39m\u001b[32m~/education/shad_mts/ml_dl/teta_nn_1_2025_predict_salary/.venv/lib/python3.12/site-packages/urllib3/util/ssl_.py:480\u001b[39m, in \u001b[36mssl_wrap_socket\u001b[39m\u001b[34m(sock, keyfile, certfile, cert_reqs, ca_certs, server_hostname, ssl_version, ciphers, ssl_context, ca_cert_dir, key_password, ca_cert_data, tls_in_tls)\u001b[39m\n\u001b[32m    476\u001b[39m         context.load_cert_chain(certfile, keyfile, key_password)\n\u001b[32m    478\u001b[39m context.set_alpn_protocols(ALPN_PROTOCOLS)\n\u001b[32m--> \u001b[39m\u001b[32m480\u001b[39m ssl_sock = \u001b[43m_ssl_wrap_socket_impl\u001b[49m\u001b[43m(\u001b[49m\u001b[43msock\u001b[49m\u001b[43m,\u001b[49m\u001b[43m \u001b[49m\u001b[43mcontext\u001b[49m\u001b[43m,\u001b[49m\u001b[43m \u001b[49m\u001b[43mtls_in_tls\u001b[49m\u001b[43m,\u001b[49m\u001b[43m \u001b[49m\u001b[43mserver_hostname\u001b[49m\u001b[43m)\u001b[49m\n\u001b[32m    481\u001b[39m \u001b[38;5;28;01mreturn\u001b[39;00m ssl_sock\n",
      "\u001b[36mFile \u001b[39m\u001b[32m~/education/shad_mts/ml_dl/teta_nn_1_2025_predict_salary/.venv/lib/python3.12/site-packages/urllib3/util/ssl_.py:524\u001b[39m, in \u001b[36m_ssl_wrap_socket_impl\u001b[39m\u001b[34m(sock, ssl_context, tls_in_tls, server_hostname)\u001b[39m\n\u001b[32m    521\u001b[39m     SSLTransport._validate_ssl_context_for_tls_in_tls(ssl_context)\n\u001b[32m    522\u001b[39m     \u001b[38;5;28;01mreturn\u001b[39;00m SSLTransport(sock, ssl_context, server_hostname)\n\u001b[32m--> \u001b[39m\u001b[32m524\u001b[39m \u001b[38;5;28;01mreturn\u001b[39;00m \u001b[43mssl_context\u001b[49m\u001b[43m.\u001b[49m\u001b[43mwrap_socket\u001b[49m\u001b[43m(\u001b[49m\u001b[43msock\u001b[49m\u001b[43m,\u001b[49m\u001b[43m \u001b[49m\u001b[43mserver_hostname\u001b[49m\u001b[43m=\u001b[49m\u001b[43mserver_hostname\u001b[49m\u001b[43m)\u001b[49m\n",
      "\u001b[36mFile \u001b[39m\u001b[32m/usr/lib/python3.12/ssl.py:455\u001b[39m, in \u001b[36mSSLContext.wrap_socket\u001b[39m\u001b[34m(self, sock, server_side, do_handshake_on_connect, suppress_ragged_eofs, server_hostname, session)\u001b[39m\n\u001b[32m    449\u001b[39m \u001b[38;5;28;01mdef\u001b[39;00m\u001b[38;5;250m \u001b[39m\u001b[34mwrap_socket\u001b[39m(\u001b[38;5;28mself\u001b[39m, sock, server_side=\u001b[38;5;28;01mFalse\u001b[39;00m,\n\u001b[32m    450\u001b[39m                 do_handshake_on_connect=\u001b[38;5;28;01mTrue\u001b[39;00m,\n\u001b[32m    451\u001b[39m                 suppress_ragged_eofs=\u001b[38;5;28;01mTrue\u001b[39;00m,\n\u001b[32m    452\u001b[39m                 server_hostname=\u001b[38;5;28;01mNone\u001b[39;00m, session=\u001b[38;5;28;01mNone\u001b[39;00m):\n\u001b[32m    453\u001b[39m     \u001b[38;5;66;03m# SSLSocket class handles server_hostname encoding before it calls\u001b[39;00m\n\u001b[32m    454\u001b[39m     \u001b[38;5;66;03m# ctx._wrap_socket()\u001b[39;00m\n\u001b[32m--> \u001b[39m\u001b[32m455\u001b[39m     \u001b[38;5;28;01mreturn\u001b[39;00m \u001b[38;5;28;43mself\u001b[39;49m\u001b[43m.\u001b[49m\u001b[43msslsocket_class\u001b[49m\u001b[43m.\u001b[49m\u001b[43m_create\u001b[49m\u001b[43m(\u001b[49m\n\u001b[32m    456\u001b[39m \u001b[43m        \u001b[49m\u001b[43msock\u001b[49m\u001b[43m=\u001b[49m\u001b[43msock\u001b[49m\u001b[43m,\u001b[49m\n\u001b[32m    457\u001b[39m \u001b[43m        \u001b[49m\u001b[43mserver_side\u001b[49m\u001b[43m=\u001b[49m\u001b[43mserver_side\u001b[49m\u001b[43m,\u001b[49m\n\u001b[32m    458\u001b[39m \u001b[43m        \u001b[49m\u001b[43mdo_handshake_on_connect\u001b[49m\u001b[43m=\u001b[49m\u001b[43mdo_handshake_on_connect\u001b[49m\u001b[43m,\u001b[49m\n\u001b[32m    459\u001b[39m \u001b[43m        \u001b[49m\u001b[43msuppress_ragged_eofs\u001b[49m\u001b[43m=\u001b[49m\u001b[43msuppress_ragged_eofs\u001b[49m\u001b[43m,\u001b[49m\n\u001b[32m    460\u001b[39m \u001b[43m        \u001b[49m\u001b[43mserver_hostname\u001b[49m\u001b[43m=\u001b[49m\u001b[43mserver_hostname\u001b[49m\u001b[43m,\u001b[49m\n\u001b[32m    461\u001b[39m \u001b[43m        \u001b[49m\u001b[43mcontext\u001b[49m\u001b[43m=\u001b[49m\u001b[38;5;28;43mself\u001b[39;49m\u001b[43m,\u001b[49m\n\u001b[32m    462\u001b[39m \u001b[43m        \u001b[49m\u001b[43msession\u001b[49m\u001b[43m=\u001b[49m\u001b[43msession\u001b[49m\n\u001b[32m    463\u001b[39m \u001b[43m    \u001b[49m\u001b[43m)\u001b[49m\n",
      "\u001b[36mFile \u001b[39m\u001b[32m/usr/lib/python3.12/ssl.py:1041\u001b[39m, in \u001b[36mSSLSocket._create\u001b[39m\u001b[34m(cls, sock, server_side, do_handshake_on_connect, suppress_ragged_eofs, server_hostname, context, session)\u001b[39m\n\u001b[32m   1038\u001b[39m             \u001b[38;5;28;01mif\u001b[39;00m timeout == \u001b[32m0.0\u001b[39m:\n\u001b[32m   1039\u001b[39m                 \u001b[38;5;66;03m# non-blocking\u001b[39;00m\n\u001b[32m   1040\u001b[39m                 \u001b[38;5;28;01mraise\u001b[39;00m \u001b[38;5;167;01mValueError\u001b[39;00m(\u001b[33m\"\u001b[39m\u001b[33mdo_handshake_on_connect should not be specified for non-blocking sockets\u001b[39m\u001b[33m\"\u001b[39m)\n\u001b[32m-> \u001b[39m\u001b[32m1041\u001b[39m             \u001b[38;5;28;43mself\u001b[39;49m\u001b[43m.\u001b[49m\u001b[43mdo_handshake\u001b[49m\u001b[43m(\u001b[49m\u001b[43m)\u001b[49m\n\u001b[32m   1042\u001b[39m \u001b[38;5;28;01mexcept\u001b[39;00m:\n\u001b[32m   1043\u001b[39m     \u001b[38;5;28;01mtry\u001b[39;00m:\n",
      "\u001b[36mFile \u001b[39m\u001b[32m/usr/lib/python3.12/ssl.py:1319\u001b[39m, in \u001b[36mSSLSocket.do_handshake\u001b[39m\u001b[34m(self, block)\u001b[39m\n\u001b[32m   1317\u001b[39m     \u001b[38;5;28;01mif\u001b[39;00m timeout == \u001b[32m0.0\u001b[39m \u001b[38;5;129;01mand\u001b[39;00m block:\n\u001b[32m   1318\u001b[39m         \u001b[38;5;28mself\u001b[39m.settimeout(\u001b[38;5;28;01mNone\u001b[39;00m)\n\u001b[32m-> \u001b[39m\u001b[32m1319\u001b[39m     \u001b[38;5;28;43mself\u001b[39;49m\u001b[43m.\u001b[49m\u001b[43m_sslobj\u001b[49m\u001b[43m.\u001b[49m\u001b[43mdo_handshake\u001b[49m\u001b[43m(\u001b[49m\u001b[43m)\u001b[49m\n\u001b[32m   1320\u001b[39m \u001b[38;5;28;01mfinally\u001b[39;00m:\n\u001b[32m   1321\u001b[39m     \u001b[38;5;28mself\u001b[39m.settimeout(timeout)\n",
      "\u001b[36mFile \u001b[39m\u001b[32m~/education/shad_mts/ml_dl/teta_nn_1_2025_predict_salary/.venv/lib/python3.12/site-packages/clearml/utilities/process/exit_hooks.py:163\u001b[39m, in \u001b[36mExitHooks.signal_handler\u001b[39m\u001b[34m(self, sig, frame)\u001b[39m\n\u001b[32m    160\u001b[39m \u001b[38;5;66;03m# if this is a sig term, we wait until __at_exit is called (basically do nothing)\u001b[39;00m\n\u001b[32m    161\u001b[39m \u001b[38;5;28;01mif\u001b[39;00m sig == signal.SIGINT:\n\u001b[32m    162\u001b[39m     \u001b[38;5;66;03m# return original handler result\u001b[39;00m\n\u001b[32m--> \u001b[39m\u001b[32m163\u001b[39m     \u001b[38;5;28;01mreturn\u001b[39;00m org_handler \u001b[38;5;28;01mif\u001b[39;00m \u001b[38;5;129;01mnot\u001b[39;00m \u001b[38;5;28mcallable\u001b[39m(org_handler) \u001b[38;5;28;01melse\u001b[39;00m \u001b[43morg_handler\u001b[49m\u001b[43m(\u001b[49m\u001b[43msig\u001b[49m\u001b[43m,\u001b[49m\u001b[43m \u001b[49m\u001b[43mframe\u001b[49m\u001b[43m)\u001b[49m\n\u001b[32m    165\u001b[39m \u001b[38;5;28;01mif\u001b[39;00m \u001b[38;5;28mself\u001b[39m._signal_recursion_protection_flag:\n\u001b[32m    166\u001b[39m     \u001b[38;5;66;03m# call original\u001b[39;00m\n\u001b[32m    167\u001b[39m     os.kill(os.getpid(), sig)\n",
      "\u001b[31mKeyboardInterrupt\u001b[39m: "
     ]
    },
    {
     "name": "stderr",
     "output_type": "stream",
     "text": [
      "### TASK STOPPED - USER ABORTED - STATUS CHANGED ###\n"
     ]
    },
    {
     "ename": "",
     "evalue": "",
     "output_type": "error",
     "traceback": [
      "\u001b[1;31mПри выполнении кода в текущей ячейке или предыдущей ячейке ядро аварийно завершило работу. \n",
      "\u001b[1;31mПроверьте код в ячейках, чтобы определить возможную причину сбоя. \n",
      "\u001b[1;31mЩелкните <a href='https://aka.ms/vscodeJupyterKernelCrash'>здесь</a>, чтобы получить дополнительные сведения. \n",
      "\u001b[1;31mПодробнее см. в <a href='command:jupyter.viewOutput'>журнале Jupyter</a>."
     ]
    }
   ],
   "source": [
    "experiment_track = ExperimentTracker(\n",
    "    project_name=\"Competitions/teta_nn_1_2025_predict_salary\",\n",
    "    task_name=\"Exploratory Data Analysis\",\n",
    "    config=None,\n",
    "    use_clearml=True\n",
    ")"
   ]
  },
  {
   "cell_type": "markdown",
   "id": "46933b77",
   "metadata": {},
   "source": [
    "# 1. Данные "
   ]
  },
  {
   "cell_type": "code",
   "execution_count": 3,
   "id": "f2b63dc2",
   "metadata": {},
   "outputs": [],
   "source": [
    "data_path = Path.cwd().parent / \"src/data\""
   ]
  },
  {
   "cell_type": "code",
   "execution_count": null,
   "id": "963fffd0",
   "metadata": {},
   "outputs": [
    {
     "ename": "NameError",
     "evalue": "name 'experiment_track' is not defined",
     "output_type": "error",
     "traceback": [
      "\u001b[31m---------------------------------------------------------------------------\u001b[39m",
      "\u001b[31mNameError\u001b[39m                                 Traceback (most recent call last)",
      "\u001b[36mCell\u001b[39m\u001b[36m \u001b[39m\u001b[32mIn[4]\u001b[39m\u001b[32m, line 2\u001b[39m\n\u001b[32m      1\u001b[39m df_train = pd.read_csv(data_path / \u001b[33m\"\u001b[39m\u001b[33mtrain.csv\u001b[39m\u001b[33m\"\u001b[39m)\n\u001b[32m----> \u001b[39m\u001b[32m2\u001b[39m \u001b[43mexperiment_track\u001b[49m.log_table(title=\u001b[33m\"\u001b[39m\u001b[33mТренировочные данные по вакансиям\u001b[39m\u001b[33m\"\u001b[39m, series=\u001b[33m\"\u001b[39m\u001b[33m\"\u001b[39m, table=df_train.head())\n\u001b[32m      4\u001b[39m df_train.head()\n",
      "\u001b[31mNameError\u001b[39m: name 'experiment_track' is not defined"
     ]
    }
   ],
   "source": [
    "df_train = pd.read_csv(data_path / \"train.csv\")\n",
    "experiment_track.log_table(title=\"Тренировочные данные по вакансиям\", series=\"\", table=df_train.head())\n",
    "\n",
    "df_train.head()"
   ]
  },
  {
   "cell_type": "code",
   "execution_count": 13,
   "id": "c06cf377",
   "metadata": {},
   "outputs": [
    {
     "data": {
      "application/vnd.microsoft.datawrangler.viewer.v0+json": {
       "columns": [
        {
         "name": "index",
         "rawType": "int64",
         "type": "integer"
        },
        {
         "name": "title",
         "rawType": "object",
         "type": "string"
        },
        {
         "name": "location",
         "rawType": "object",
         "type": "string"
        },
        {
         "name": "company",
         "rawType": "object",
         "type": "string"
        },
        {
         "name": "skills",
         "rawType": "object",
         "type": "unknown"
        },
        {
         "name": "description",
         "rawType": "object",
         "type": "string"
        },
        {
         "name": "experience_from",
         "rawType": "float64",
         "type": "float"
        },
        {
         "name": "salary_from",
         "rawType": "float64",
         "type": "float"
        },
        {
         "name": "log_salary_from",
         "rawType": "float64",
         "type": "float"
        }
       ],
       "ref": "bdc04dad-638a-4320-ae06-f9aba5adb113",
       "rows": [
        [
         "0",
         "Специалист технической поддержки",
         "Воронеж",
         "ВКТМ",
         null,
         "Обязанности:     Обеспечение бесперебойной работы всех ПК и устранение неисправностей;   Установка и настройка ПО для корректной работы;   Ремонт используемой техники;   Обеспечение информационной безопасности и защиты от хакерских атак и спама;   Сопровождение настройки системы видеонаблюдения, СКУД, «Битрикс», 1С;   Техническое обслуживание работы компьютеров и оргтехники, заправка картриджей, ремонт компьютеров и оргтехники;   Ведение базы заявок на обслуживание, ремонт, заказ комплектующих для компьютеров и оргтехники;   Сборка, диагностика и подключение рабочих компьютеров, серверов;   Сборка, тестирование и настройка нового оборудования;   Настройка сетевой печати, сканирования, общего доступа к файлам.     Требования:     Компьютерная грамотность. Нужно понимать, как работает софт и приложения, и уметь устранять проблемы с ними. Также необходимо знание аппаратной части ПК («железа»);   Навыки настройки оборудования. Принтеры, сканеры, МФУ;   Опыт работы с технической документацией;   Коммуникативные навыки. Важно уметь вежливо и корректно общаться с пользователями;   Стрессоустойчивость;   Внимательность. Желательно запоминать информацию с первого раза, чтобы не переспрашивать собеседника и быстро разобраться, в чём проблема;   Многозадачность.     Условия:     Мы предлагаем стабильную работу в крупной, надежной, успешно развивающейся компании;   Оформление в штат согласно трудовому законодательству;   \"Белая\" зарплата выплачивается 2 раза в месяц;   Мы находимся: ОЭЗ ППТ «Центр» располагается на территории Новоусманского района Воронежской области, с северной стороны ОЭЗ ППТ «Центр» примыкает к индустриальному парку «Масловский»;   Обеды за счет компании;   Служебный транспорт до места работы.  ",
         "1.0",
         "60.0",
         "4.0943445622221"
        ],
        [
         "1",
         "Product Owner в ИТ-стартап (B2C)",
         "Москва",
         "Radium Finance",
         "CustDev, Стратегический менеджмент, Управление стейкхолдерами, Управление ожиданиями, Управление командой, Постановка задач разработчикам, Product-market fit, Customer Journey Mapping, User Story Mapping, Управление бэклогом, Управление ресурсами",
         "Эта вакансия про тебя, если симбиоз управленческой зрелости, стратегического видения, аналитических навыков, продуктового кругозора и глубокого погружение в бизнес — есть в твоем бэкграунде.   Большой плюс —  опыт запуска нового продукта на рынок.    Продукт Мы ИТ-стартап на грани прорыва, делаем социальную сеть для людей-инвесторов и всех, кто хочет повышать свою финансовую грамотность. Это будет реально огромное сообщество, объединенных общими интересами. Не олько интересное, познавательное, местами развлекательное, но и приносящие пользу. Причем как новичкам, так и тем, кто на инвестициях уже собаку съел.   Вам предстоит развивать сервис и его инструменты для общения с пользователями. Вы будете помогать пользователю получать ту информацию,которая ему интересна, в нужное время удобным способом. Для этого будет сайт (и мобильное приложение) — ими и предстоит заниматься.   Всегда есть опция создавать новые штуки и экспериментировать.   Работа  напрямую  с CEO.   Сработаемся, если у вас есть     Опыт работы от 5-ти лет в роли проектного/продакт менеджера.   Опыт развития B2С продуктов.   Понимание работы маркетинга и маркетинговых сервисов.   Отличные навыки управления проектами: умение планировать работу команды, расставлять приоритеты, предлагать идеи. Нужно будет тесно работать с командами маркетинга и разработки, так что опыт проджект-менеджмента инженерных команд будет плюсом   Опыт решения подобных задач в средних и крупных B2C-бизнесах будет плюсом.     Задачи:     Разработка и стратегия продукта (мы создаем наше приложение с 0)     Определение видения и стратегии продукта в соответствии с целями бизнеса.   Разработка дорожной карты продукта, определение приоритетов функций и управление их реализацией.   Определение технических требований и спецификаций продукта в тесном сотрудничестве с инженерными и дизайнерскими командами.         Управление проектом     Координация работы между командами разработчиков, дизайнеров и маркетологов.   Управление жизненным циклом продукта от концепции до запуска и дальнейшего развития.         Анализ и исследования     Проведение исследований для определения трендов и анализ конкурентов.   Сбор и анализ пользовательского фидбэка для улучшения продукта.         Мониторинг и оптимизация     Отслеживание ключевых показателей эффективности продукта (KPIs) и реализация улучшений на основе этих данных.   Оптимизация пользовательского опыта и повышение вовлеченности пользователей.         Взаимодействие со стейкхолдерами     Настройка и использование систем аналитики для отслеживания ключевых показателей продукта (KPIs), анализа поведения пользователей и оптимизации продуктовых функций.   Регулярные встречи со стейкхолдерами для обсуждения развития продукта и обратной связи.     Поддержка и обновления     Управление процессом обновления продукта, включая планирование фичей и новых версий.         Нам скорее всего по пути, если вы     Сильный самоходный менеджер.   Можете разобраться в задаче и понять, что на самом деле надо пользователям.   Инженеры и маркетологи вас понимают, вы объясняете причины решений и логические связки, идёте от настоящей проблемы.   Если не знаете чего-то — не боитесь спросить. В любой ситуации. Не знать — нормально :)   Внимательны к деталям и аккуратны. Вас до мурашек пробирает от непродуманности, невнимательности и неряшливости.   Не пугаетесь слова «фигня» в любом контексте. Не принимаете критику лично.   У вас высокий уровень критического мышления, высокая скорость действий.   Быстрый ум и реакция.   Коммуникация с людьми доставляет вам удовольствие.   Open minded и готов учиться/адаптироваться под изменения в рынке.   Высокий скилл управления энергией и системность мышления, умеете создавать структуры и регламенты.   Используете системный подход в решении сложных задач, свободны от давления авторитетов.   Условия:     Гибрид, офис на Бауманской, возле метро.    Зарплата в рынке, обсудим на собеседовании. Бонусы, премирование долей после успешной реализации проекта.   Задачи большие, но в придачу идёт полная свобода действий. Вы будете стоять у истоков создания продукта.   Мы всегда поможем экспертизой и поддержим, когда что-то не получается.   У нас дружелюбная команда без пассивной агрессии (и без активной). Мы много общаемся, обсуждаем решения, иногда спорим, но всё это — ради лучшего на свете продукта :)     Будем рады познакомиться. Откликайтесь!)",
         "6.0",
         "200.0",
         "5.298317366548036"
        ],
        [
         "2",
         "Системный администратор ( Клинический Госпиталь на Яузе )",
         "Москва",
         "Медскан",
         null,
         "АО «Медскан» – динамично развивающаяся группа компаний и один из лидеров негосударственного сектора здравоохранения в России. Медицинские учреждения холдинга предлагают полный спектр высокотехнологичной медицинской помощи по передовым мировым протоколам.   В 31 регионе и 105 городах России работает 65 медицинских центров, 15 лабораторий и более 430 лабораторных медицинских офисов ГК «Медскан».   Флагманом группы является российский филиал университетского госпиталя Hadassah (Иерусалим).   «Клинический госпиталь на Яузе»  входит в ГК «Медскан» и занимает 10 место в «ТОП-200 клиник России» по версии аналитического центра Vademecum.   Нашими главными принципами в работе является  высокий профессионализм, использование передовых медицинских технологий, заботливое и чуткое отношение к пациентам, обеспечение чувства безопасности и поддержки.   Требования:     Образование высшее \\ среднее-специальное.   Опыт работы с ОС Linux (Ubuntu, Debian, CentOS). Опыт работы с Zabbix.   Знание линейки ОС Windows.   Знание и опыт работы с AD, DHCP, DNS, VPN.   Понимание модели OSI.   Знание основ протоколов TPC/IP, принципов маршрутизации.   Внимательность, ответственность, умение расставлять приоритеты, самостоятельность.   Обучаемость, желание расти и развиваться.     Обязанности:     Первая линия технической поддержки.   Администрирование рабочих станций и серверного оборудования.   Поддержание систем в актуальном рабочем состоянии.   Настройка и поддержка систем ЭДО (Контур, Диадок, Такском.Файлер).   Установка ЭЦП и криптографических модулей КриптоПро.   Решение инцидентов в системе поддержки пользователей.   Установка и настройка базового комплекса ПО (MS Office, антивирусы, архиваторы, драйвера и т.д.).   Подключение и настройка офисной техники, учёт расходных материалов.     Условия:     График работы 2/2 !!!   Официальное трудоустройство согласно ТК РФ.   Социальный пакет (оплата больничных, отпусков, система медицинских осмотров, скидка 50% на услуги наших мед. центров).   Работа в перспективной и динамично развивающейся компании.   Комфортные условия труда, бесплатная парковка.   Медицинский центр расположен по адресу: Москва, ул. Волочаевская д. 15, к. 1,  ст. метро Площадь Ильича / Римская.  ",
         "1.0",
         "130.0",
         "4.867534450455582"
        ],
        [
         "3",
         "Системный Администратор Linux",
         "Москва",
         "Selecty",
         "Linux, PostgreSQL",
         "Задачи:     Администрирование инфраструктуры на базе Linux;   Оптимизация производительности и обеспечение отказоустойчивости систем;   Решение проблем доступности, целостности данных;   Ведение технической документации.     Требования:     Опыт по администрированию Linux/Unix;   Понимание состава баз данных, индексы, статистика, планы обслуживания;   Опыт работы СУБД PostgreSQL;   Опыт эксплуатации систем мониторинга и резервного копирования;   Знание принципов работы основных сетевых служб и протоколов.     Условия:      Удаленный формат работы, график 5/2;   Трудоустройство в ИТ-аккредитованную компанию;   Оформление в штат согласно ТК РФ;   Возможность предоставить технику для работы;   Скидки на фитнес и изучение иностранных языков.   Обучение за счёт компании, возможности карьерного роста.  ",
         "3.0",
         "170.0",
         "5.135798437050262"
        ],
        [
         "4",
         "Начальник участка общестроительных работ",
         "Пушкино (Московская область)",
         "NK GROUP",
         null,
         "NK Group  – ведущий девелопер индустриальных объектов в России.  NK   Group  реализует промышленные объекты полного цикла: строительство в собственных парках, оснащенных всеми коммуникациями, а также на земле клиента.   NK Group ищет сотрудника на должность  Начальник участка .   Вы понимаете конечный результат своей деятельности и добиваетесь его? В Вашем опыте работы есть законченные проекты? Вы можете назвать себя настойчивым человеком, которого не собьют с цели никакие преграды? Вы \"дружите\" с цифрами и работа с графиками и бюджетом для Вас не проблема?   Что мы от Вас ожидаем:     У вас есть  ОПЫТ РАБОТЫ на строительных объектах .   Вы уверенно работаете с проектной документацией и чертежами.   Вы в состоянии обеспечить объект материалами .   У Вас был опыт работы с бюджетом.   Уверенно пользуетесь компьютером.   Способны самостоятельно действовать и принимать решения.     Что будет входить в Ваши обязанности:     Организация хозяйственно – бытовых условий на строительной площадке.   Контроль своевременной поставки материала на строительную площадку.   Расстановка приоритетов по различным видам работ.   Выявление отставания видов работ от сроков, их причины и решения.   Выявление некачественной работы и предложение решений.   ПОДДЕРЖАНИЕ ЧИСТОТЫ на строительной площадке.   Проведение ежедневных/еженедельных совещаний.   Ежедневная/еженедельная отчетность руководству.     Мы вам предлагаем:     Оформление согласно ТК РФ.   График работы 5/2.   Заработная плата (100% официальная) – оговаривается индивидуально, в зависимости от опыта и квалификации.     Расположение объектов: Домодедово, Пушкино",
         "3.0",
         "200.0",
         "5.298317366548036"
        ],
        [
         "5",
         "Специалист по IT (помощник системного администратора)",
         "Ачинск",
         "СибТрансАвто",
         null,
         "ООО \"СибТрансАвто\"  динамично развивающаяся компания специализирующая на строительстве и реконструкции автомобильных дорог, гидротехнических сооружений, промышленном строительстве, разработке разрезов и рудников.  Стабильно оказываем услуги более 12 лет.   Условия:     Официальное трудоустройство ТК РФ;   График работы 5/2;   Командировки на объект в Иркутской области.     Обязанности:     Администрирование IT - инфраструктуры (сервер,компьютеры,оргтехника,система видео наблюдения,IP- телефония);   Установка, обслуживание компьютерной техники и оргтехники,телефонии, систем видео наблюдения, обеспечение полной работоспособности;   Участие в создании системы информационной безопасности компании, ведение необходимой для руководства внутренней отчетности (список и права пользователей, проведение инвентаризации и т.д.).     Требования:     Опыт эксплуатации и администрирования активного серверного оборудования, понимание принципов работы и построения ЛВС, знание работы IP- сетей, протоколов маршрутизации;   Умение диагностировать и исправлять неполадки в работе оборудования, монтаж серверных шкафов.  ",
         "1.0",
         "50.0",
         "3.912023005428146"
        ],
        [
         "6",
         "Дизайнер интерьеров",
         "Москва",
         "Лайтхаус Интериорс",
         null,
         "В студию интерьерного дизайна требуется дизайнер проектировщик интерьеров.   Обязанности: - создание планировочного решения - Разработка концепции проекта - Подбор мебели, отделочных материалов и аксессуаров в рамках бюджета проекта - Создание эскизов и ТЗ для визуализации интерьера / создание визуализаций - Проверка и отслеживание создания технической документации согласно проекту - Работа с клиентами и подрядчиками - Составление графика проекта в рамках реализации - ⁠работа с комплектацией проекта - ведение авторского контроля в рамках студии    Требования: - Высшее образование в области дизайна интерьера; - Опыт работы в сфере дизайна интерьеров от 3 лет; - Знание современных тенденций и технологий в области интерьерного дизайна; - Навыки работы с графическими программами (Adobe Photoshop, AutoCAD, SketchUp); - Креативность и умение работать в команде; - Ответственность и внимательность к деталям.   Условия: - частичная/проектная занятость - Достойный уровень заработной платы (обсуждается индивидуально) - Возможность профессионального роста и развития - Дружный коллектив и комфортные условия труда",
         "3.0",
         "110.0",
         "4.700480365792417"
        ],
        [
         "7",
         "Менеджер ИТ-продуктов",
         "Красноярск",
         "КрасИнтегра",
         "Agile Project Management, Бизнес-анализ, Scrum, Управление портфелем продуктов, Продуктовая стратегия, Интервьюирование, Анализ бизнес-процессов, Разработка функциональных требований",
         "\"КрасИнтегра\" - аккредитованная красноярская IT-компания. Мы сами создаём программные продукты для золотодобывающих предприятий и сейчас ищем  менеджера ИТ-продукта .   Чем предстоит заниматься:     Принимать непосредственное участие во всех этапах жизненного цикла нашего продукта;   Вести производственную коммуникацию с нашим заказчиком, координировать команду разработчиков;   Составлять инструкции для пользователей (по необходимости);   Работать в прямом подчинении у владельца продукта.     Ты будешь нашим лицом перед заказчиком, важным человеком, который отвечает за: 1) качественное сопровождение реализации проекта (коммуникационное и документальное); 2) систематическую сверку - подходит ли то, что создается нашими специалистами заказчику; 3) сроки исполнения и упрощение работы руководителей проекта, забирая на себя всю описательную часть.   Тебе подойдет эта вакансия если:     Обладаешь практическим опытом работы в IT/сфере связи/энергетике - от 2 лет;   Приветствуется опыт как в разработке, так и в реализации информационных систем, таких как: СКУД, Беспроводные сети, Радиосвязь, Создание сайтов и пр.;   Готов к работе с задачами, с которыми ранее не сталкивались даже твои коллеги.             Что мы предлагаем:     Официальное трудоустройство в аккредитованной ИТ-компании (отпуск 28 + 8 дней в году), оплачиваемые больничные и отпуска;   Полностью белая конкурентная ЗП (точную сумму определим по итогам собеседования);   Офис в центре города, кофемашина, оборудованная кухня;   График 5-ка, 9.00-18.00, часовой обеденный перерыв);   Подарки детям на Новый Год, корпоративные мероприятия (все праздники, спортивные, конкурсы);   Страховка от клещей;   Руководство, заинтересованное в развитии сотрудников;   Яркие и качественные корпоративные события развлекательного и спортивного характера. Подбор у нас устроен оперативно: 1. Звонок специалиста по персоналу (до получаса); 2. Собеседование с потенциальным руководителем (до полутора часов, офис/видеосвязь); 3. Оперативное принятие решения (до 3-х рабочих дней). Ждём ваших резюме! :)  ",
         "1.0",
         "75.0",
         "4.31748811353631"
        ],
        [
         "8",
         "Ведущий тестировщик 1С",
         "Москва",
         "Единая Европа-Элит и сеть магазинов СТИЛЬПАРК",
         "SQL, 1С, Администрирование, Тестирование",
         "Приглашаем в команду Ведущего тестировщика 1С.   Новая ставка, расширение отдела!       Обязанности:     Проведение ручного тестирования функционала на платформе 1С   Разработка сценариев тестирования, чек-листов   Взаимодействие с отделом разработки в части приемки задач   Классификация выявленных ошибок и контроль процесса их устранения   Предоставление отчетности и фиксирование результатов по процессу тестирования в рамках установленного функционала   Участие в сдаче функционала заказчику   Разработка авто-тестов, сценария общего прогона перед релизом   Анализ и оценка качества программных решений         Требования:     Образование высшее техническое, как преимущество   Опыт работы от 3-х лет   Знание ПК на уровне опытного пользователя и выше   Навыки конфигурирования/администрирования 1С   Базовые навыки разработки на платформе 1С   Знание языка запросов SQL   Коммуникабельность и ответственность   Грамотная устная и письменная речь   Готовность решать трудные и нестандартные задачи         Условия:     График работы 5/2 , ( Пн и Пт- УДАЛЁННО , Вт,Ср,Чт - офис ) сб.,вс.-выходные , часы работы с 10.00 до 19.00 или с 9.00 до 18.00   Оформление по ТК РФ, оплачиваемый отпуск и больничный лист   Заработная плата \"БЕЛАЯ\", на испытательный срок 120.000 руб. ( на руки), после испытательного срока 150.000 руб. ( на руки)+ индексация   Заработная плата выплачивается вовремя, 2 раза в месяц!   Офис. м. Текстильщики, 15 минут пешком до Бизнес центра \"Авилон Плаза\"  ",
         "3.0",
         "120.0",
         "4.787491742782046"
        ],
        [
         "9",
         "2D/3D Художник / Аниматор [GameDev]",
         "Санкт-Петербург",
         "PLAYMAKERS",
         "Adobe Photoshop, Графические редакторы, Adobe Illustrator, 3D Моделирование, 3ds Max, Графика, Художник, 3D Max, Design, 3D-графика, Unity, Blender 3D, Autodesk Maya, Blender, Gamedev, Unreal Engine, UE4, UI, Animation, Photoshop, 3D, Motion design, Sketch, 3D Studio Max, Визуализация, ZBrush, Unity 3D, Adobe, Текстурирование",
         "PLAYMAKERS  — международное кадровое агентство в сферах  разработки игр  и  киберспорта ! Наша миссия — связывать талантливых и трудолюбивых специалистов с лучшими игровыми студиями, и задача, которую мы решаем каждый день — создавать  эффективный и комфортный сервис как для компаний , которые ищут сотрудников,  так и для соискателей , находящихся в поиске нового проекта.   Ключевая задача наших партнёров -  разработка игр , и мы знаем, что ты любишь и умеешь их создавать. А мы, в свою очередь, поможем тебе найти то, что ты так давно ищешь - крутую работу с первоклассной командой и отличной зарплатой :) Чем будешь заниматься:     Творить красоту в игровых проектах   Создавать игровой мир и его персонажей   Генерировать творческие идеи   Делать риг и анимировать персонажей и предметы   Улучшать текущие разработки     Что от Тебя ожидают наши партнёры:     Имеешь опыт в индустрии GameDev   Обладаешь большим креативом и огромным творческим потенциалом   Ты - художник, горящий своим делом и обожающий игры всем сердцем   Готов погрузиться в атмосферу игры, для которой будешь создавать визуал     Что ты получишь, если присоединишься к PLAYMAKERS:     Самые топовые вакансии в индустрии, как в России, так и за её пределами, и все собраны в одном месте   Карьерный сервис, который поможет тебе найти новый крутой проект или определиться в своём следующем выборе места работы   Членство в быстрорастущем GameDev коммьюнити для самых разносторонних, талантливых и амбициозных людей в индустрии   Неважно, Junior, Middle или Senior –  работа найдется каждому специалисту!         Мы стремимся сделать лучший сервис для людей, которые занимаются играми. Оставляй нам своё резюме, и мы поможем тебе найти новый и крутой проект, который, возможно, изменит твою жизнь! Будем рады твоему отклику!",
         "1.0",
         "100.0",
         "4.605170185988092"
        ],
        [
         "10",
         "Аналитик 1С",
         "Москва",
         "Россети Московский регион",
         null,
         "Обязанности:     Обследование, анализ и описание бизнес-процессов   Моделирование процессов в типовой конфигурации 1С   Определение функциональных разрывов, потребностей по доработке конфигураций   Составление функциональных заданий на доработку, контроль выполнения и тестирование доработок   Взаимодействие с функциональным заказчиком в ходе проекта   Анализ функциональных требований   Выбор оптимального способа реализации функциональных требований   Организация приемки разработанного функционала   Разработка регламентов и пользовательских инструкций   Организация и участие в оказании технической и методической помощи пользователям информационных систем в рамках курируемых направлений     Требования:     Высшее образование   Опыт работы в должности аналитика/консультанта/методолога 1С от 2 лет   Знание типовых конфигураций 1С, отраслевых решений   Наличие сертификатов 1С:Профессионал, 1С:Специалист-Консультант, 1С:Специалист приветствуется   Знания ГОСТ в области разработки, внедрения и сопровождения автоматизированных систем   Навыки работы с пользовательскими программами для персональных ЭВМ, справочных систем и специализированных баз данных, работы в Service Desk     Условия:     Трудоустройство в соответствии с ТК РФ   Социальный пакет: оплата медицинской страховки (ДМС), включая стоматологическое обеспечение, материальная помощь к отпуску, негосударственное пенсионное обеспечение (за счет средств работодателя)   Повышение квалификации за счет организации, ежемесячная премия, вознаграждение по итогам работы за год   Адрес: г. Москва, Каширское шоссе, д. 18   График работы: с 8-30 до 17-30 5 дней в неделю, пятница сокращенный рабочий день  ",
         "1.0",
         "152.0",
         "5.0238805208462765"
        ],
        [
         "11",
         "Ассистент тестировщика/Начинающий специалист",
         "Челябинск",
         "Центр Бытового Ремонта",
         null,
         "Обязанности включают в себя:   Тестирование бытовой техники;   Проведение диагностики, сборка/разборка, замена деталей;   Ведение отчетности о выполненной работе.       Необходимо желание зарабатывать;   Опыт работы не обязателен. Мы предлагаем бесплатное обучение.   Заработную плату от 70 000 рублей (первый месяц) и более без ограничений   Гибкий график работы 5/2, 2/2, 3/1, 3/2 с 10:00-20:00   Ежедневные выплаты и возможность получить новую профессию.       Ждем ваш отклик. Сразу после — свяжемся с Вами!",
         "0.0",
         "90.0",
         "4.499809670330265"
        ],
        [
         "12",
         "Инженер технической поддержки",
         "Пермь",
         "Международный аэропорт Пермь",
         null,
         "Международный аэропорт Пермь приглашает на работу Инженера в службу информационных технологий.   У нас не заскучаешь! Интересные задачи, молодой дружный коллектив!    Обязанности:     Техническое обслуживание электронной техники, обеспечение ее работоспособного состояния, проведение профилактического и текущего ремонта (ПК, оргтехника и т.д.);   Техническая поддержка пользователей;   Монтаж ЛВС;   Ведение необходимой технической документации;   Подмена инженеров смен на время их отсутствия.     Требования:     Среднее/высшее профессиональное образование ( программирование, техническое обслуживание и безопасность локальных вычислительных сетей и АСУ);   Опыт работы от 1 года в аналогичных должностях;   Пользователь ПК на уровне профессиональный пользователь;   Годность по состоянию здоровья (прохождение медкомиссии за счет работодателя).     Условия:     Пятидневная рабочая неделя, 8 часовой рабочий день (при подмене дежурных инженеров сменный режим по 12 часов);   Заработная плата от 49000 руб. на руки;   Полная занятость, официальное трудоустройство, белая заработная плата, соц. пакет .  ",
         "1.0",
         "49.0",
         "3.8918202981106265"
        ],
        [
         "13",
         "Frontend-разработчик JavaScript/ JavaScript Developer (React)",
         "Санкт-Петербург",
         "СЗ РЦАИ",
         null,
         "Наш центр является одним из ведущих провайдеров аэронавигационной информации и сопутствующих сервисов в России. Наши клиенты, это крупнейшие пассажирские и грузовые авиакомпании! Наши сотрудники, это сильнейшие специалисты в сфере авиации и IT!           Сегодня наша организация является лидером среди отечественных поставщиков IT услуг в области обеспечения авиации документами аэронавигационной информации и базами данных. Сервис BAI-Online, разработанный нашими специалистами, стал первым отечественным продуктом, который используется при осуществлении воздушных перевозок.         Не останавливаемся на достигнутом, ставим все новые амбициозные задачи и добиваемся реальных успехов.   Впереди сотрудничество с топовыми авиаперевозчиками, решения для малой авиации, и выход на международные рынки. Для достижения этих целей мы приглашаем опытного JavaScript разработчика, чтобы усилить нашу команду, работающую над проектами NavPlanet и BAI Online.   Для нас важно быть проактивным и много общаться с командой. Если ты командный игрок, ответственный, интересующийся и нацеленный на результат, то откликайся на вакансию, будем вместе строить цифровое небо!   Чем предстоит заниматься:     Разрабатывать новый функционал;   Участвовать в разработке и развитии архитектуры проекта.     Требования:   • Углубленные знания JavaScript, TypeScript;   • Коммерческий опыт разработки проектов с использованием React, Redux, redux-saga, reduxtoolkit, material-ui (от 2ух лет);   • Понимание принципов ООП и Design Patterns, SOLID, умение создавать поддерживаемый код;   • Понимание модели и принципов взаимодействия клиент-сервер (HTTP, Rest API, JSON, form data);   • Технический английский на уровне чтения документации.   Будет плюсом:   • Опыт работы с Openlayers/Leaflet/Mapbox;   • Опыт работы с Electron.js.   Условия:     Официальное оформление, отпуск, больничный и пр. согласно ТК РФ.     На выбор: работа в комфортном офисе компании или на удаленном доступе.       График: ПН-ПТ, 8-часовой рабочий день, плавающее начало рабочего дня 7:00~10:00.       Ежегодная компенсация расходов, связанных со здоровьем и спортом.       Корпоративный английский язык.       Посещение конференций и прочих профильных мероприятий.     Интересные задачи в нестандартном проекте, в которых хорошо виден ваш личный вклад.   Корпоративные мероприятия и индивидуальное внимание.    ",
         "1.0",
         "100.0",
         "4.605170185988092"
        ],
        [
         "14",
         "Продуктолог в девелопменте/Менеджер по разработке продукта в девелопменте",
         "Москва",
         "Девелопер. Мы строим объекты в Москве — многофункциональные комплексы, жилую и коммерческую недвижимость.",
         "продуктолог, Разработка продуктовой концепции, Разработка нового продукта, Продуктовые метрики, Архитектурные решения, менеджер по продукту, директор по продукту, Разработка продукта, разработка архитектурных концепций, жилье, 214-ФЗ",
         "Обязанности:     Разработка продуктовой части маркетинговой концепции новых проектов.   Выбор конкурентных продуктовых преимуществ новых проектов.   Подготовка коммерческих заданий на АГК, проектирование, благоустройство.   Участие в подборе проектировщиков и выстраивание работы с ними.   Согласование архитектурно-планировочных решений, проектов благоустройства, в том числе применяемых материалов.   Проверка проектной и рабочей документации (архитектурные, конструктивные, технологические решения) на соответствие требованиям, установленным Продуктовым и техническим заданиями.   Контроль соответствия разрабатываемого продукта на этапах проектирования и строительства.   Подготовка презентации продукта.   Анализ маркетинговых исследований целевой аудитории.   Вынесение предложений по улучшению качественных характеристик продукта и инновациям.         Требования:      Высшее образование – Архитектор.   Наличие дополнительного образования Маркетолог (является преимуществом).   Опыт в Москве на позиции архитектора, продуктолога не менее 3 лет (девелопмент жилой недвижимости).   Опыт управление разработкой проекта на всех стадиях проекта.   Понимание этапов проектирования и строительства. Знание строительных норм.   Опыт разработки архитектурных концепций жилых комплексов и проверки документации на всех этапах проектирования.   Понимание современных трендов строительства российских и зарубежных компаний.   Опыт работы с объектами бизнес-класса, премиум - класса – существенное преимущество.   Способность принимать самостоятельные решения. Активная жизненная позиция.   Развитые аналитические способности.   Возможность профессионального и карьерного роста в компании.   ПК: AutoCad, MS Project – пользователь.     Условия:     Оформление согласно ТК РФ.   График работы 5/2 с 9 до 18 часов.   Возможность гибридной работы, с посещением офиса 1-2 раза в неделю.   Уровень заработной платы готовы обсуждать на встрече. Достойный оклад. Деqствует система KPI.  ",
         "6.0",
         "350.0",
         "5.857933154483459"
        ],
        [
         "15",
         "Специалист технической поддержки 1-2 линии / Тестировщик",
         "Москва",
         "Бьюти Лайф",
         "Ручное тестирование, Техническая поддержка, Тестирование ПО, Linux, Postman",
         "Компания « Бьюти Лайф » выпускает биологически активные добавки, витамины и уходовую косметику под брендом  Dr. Zubareva .   Наша продукция представлена: РФ, РБ, Казасхстан, Киргизия, Армения.   Основатель и лидер бренда — практикующий врач превентивной и антивозрастной медицины, самый популярный доктор в РФ Наталья Зубарева.   В связи с активным ростом компании мы в поисках  Специалиста технической поддержки / Тестировщика сайта , который готов работать на результат и расти вместе с нами!       Условия:     Достойный уровень оплаты труда;   Официальное трудоустройство с первого рабочего дня;   Стабильные выплаты 2 раза в месяц;   Удобный график работы;   Перспективы карьерного роста не привязанное ко времени;   Работа в компании с перспективными проектами и амбициозными целями, стабильно развивающаяся на рынке белее 12 лет;   Интересная корпоративная жизнь: от настольных игр после работы до ярких корпоративов и выездов успешных сотрудников за границу!         Обязанности:     Обработка поступающих обращений с типами: дефект, ошибка, баг;   Заведение или актуализация описания багов, ошибок, дефектов;   Курирование обращений до момента их решения;   Ручное тестирование ПО;   Создание, поддержка и прохождение тест-кейсов.     Требования:     Аккуратность, внимательность и самостоятельность;   Знание теории тестирования;   Умение работать с тестовыми инструментами;   Готовность изучить json/xml;   Будет плюсом: опыт работы с postgresql, Linux системами, навыки программирования PHP/Python.  ",
         "1.0",
         "70.0",
         "4.248495242049359"
        ],
        [
         "16",
         "Сервис-инженер",
         "Белорецк",
         "Уфанет",
         "Техническое обслуживание, Информационные технологии, 3 группа по электробезопасности, Настройка ПО, Монтаж оборудования, Обучение и развитие, Настройка сетевых подключений",
         "Компания АО \"Уфанет\" - крупный российский интернет-провайдер и оператор кабельного ТВ. Мы предоставляем услуги для физических и юридических лиц: высокоскоростной интернет, кабельное и IP-телевидение, видеонаблюдение, «Умный дом» и многие другие услуги. На сегодняшний день подключиться к нашим услугам можно более чем в 250 городах и поселках, расположенных в 7 субъектах РФ.   Основана в 1996 году.   Мы ценим, бережем, развиваем и передаем новым сотрудникам нашу культуру.   Это основа наших успехов!       ЧЕМ ВЫ БУДЕТЕ ЗАНИМАТЬСЯ:   подключением абонентов к услугам компании (интернет, кабельное телевидение, видеонаблюдение и др.);   монтажными работами, настройкой оборудования;   сервисным обслуживанием;   планово-профилактическими работами на сети;   обучением абонентов пользоваться нашими услугами.   МЫ ЖДЁМ ОТ ВАС:   активность, умение работать в команде, внимательное и дружелюбное отношение к людям.   Приветствуются умение работать с электроинструментом, навыки работы с компьютерной техникой, навыки продаж.   Отсутствие противопоказаний к выполнению работ на высоте!   Готовность к разъездному характеру работы и физическому труду.   МЫ ПРЕДЛАГАЕМ:   оформление по ТК РФ, полный социальный пакет;   заработную плату (оклад + премия) 75 000 - 120 000 руб, зарплата выплачивается 2 раза в месяц;   график работы: сменный, с плавающими выходными;   непрерывное обучение техническим знаниям в сфере новых технологий;   обучение с наставником, поддержку и помощь в любом рабочем процессе;   современное приложение для приема заявок;   спец. одежду и необходимый комплект инструментов;   компенсацию сотовой связи, ГСМ, амортизацию.",
         "0.0",
         "75.0",
         "4.31748811353631"
        ],
        [
         "17",
         "Программист/Администратор 1С в офис",
         "Пятигорск",
         "EGO BOTTEGO",
         "1С: Предприятие, 1С: Склад, 1С: Торговля и склад, 1С: Зарплата и кадры, Управление бухгалтерией, 1С: Предприятие 8, Администрирование ОС, Администрирование баз данных, Обслуживание кассовой техники, 1С: Бухгалтерия и склад, 1С: Документооборот, 1С: Бухгалтерия",
         "Хочешь работу мечты - мы ищем тебя!   В связи с расширением функционала 1С, мы ищем специалиста по поддержке и оптимизации программ.   Ego Bottego  — это сеть розничных магазинов авторских и дизайнерских украшений из Европы. Наши магазины расположены в лучших отелях и санаториях Ставропольского и Краснодарского края.   Чем предстоит заниматься:     Поддержка и администрирование системы 1С: Предприятие (Управление торговлей 11 или 1С Комплексная автоматизация).   Предоставление консультаций и технической поддержки пользователям 1С по телефону, электронной почте и лично. Решение возникающих проблем и вопросов пользователей. Анализ бизнес-процессов, связанных с использованием 1С, и выработка предложений по их оптимизации для повышения эффективности работы.   Курирование решений технических сбоев и ошибок в системе 1С. Контроль за своевременностью и качеством их устранения.   Мониторинг системы 1С, сбор и анализ метрик производительности. Поддержание системы в актуальном состоянии и предотвращение потенциальных проблем.   Участие в проектах внедрения новых модулей 1С, разработка и поддержка отчетности.  Ваше преимущество:     Высшее или среднее специальное техническое образование в области информационных технологий и программирования.   Наличие сертификата 1С: Профессионал, 1С: Эксперт .     Что мы предлагаем:     Работа в современном комфортабельном офисе по адресу:  г. Пятигорск, ул. Ермолова, 30;   Остановка общественного транспорта в шаговой доступности;   Удобный график работы 5/2 с 9:00 до 18:00   Стабильная заработная плата в размере 120.000Р   Оформление по ТК РФ;   Поддержку наставника и руководителя;   Корпоративные скидки на украшения.   Насыщенная корпоративная жизнь.   Чай/кофе/печенье в постоянном доступе. Присоединяйся к нашей команде, ждём твоего отклика!     Так же, если у тебя есть опыт работы в следующих сферах, будем рады твоему звонку: - Оператор 1С - Технический специалист 1С - Программист 1С - Разработчик 1С - Системный администратор 1С - Консультант 1С - Аналитик 1С",
         "1.0",
         "120.0",
         "4.787491742782046"
        ],
        [
         "18",
         "Менеджер верификаций (без продаж)",
         "Казань",
         "Совкомбанк",
         "Работа с большим объемом информации, Аналитика продаж, Документальное сопровождение, Анализ финансовых показателей, Умение работать в коллективе, Составление отчетности",
         "    Если ты любишь анализировать информацию, досконально разбираться в нюансах, тогда тебе к нам!               Если нет опыта, не переживай , мы тебя всему научим!   Обязанности:   Ты любишь анализировать информацию, досконально разбираться в нюансах, тогда тебе к нам!       Обязанности:     Проверка верности внесения данных клиента в программное обеспечение Банка;       Оценка предоставленной клиентом информации, выявление дополнительной информации, в соответствии с установленными процедурами;       Анализ кредитоспособности и благонадежности Заявителей       Осуществление регулярных исходящих звонков с целью уточнения данных ( контактному лицу и т.д);       Принятие решения по поданным заявкам на кредит.     Требования:     • Неполное/законченное высшее образование;       • Опыт работы в банковской сфере будет Вашим преимуществом;       • Готовность к работе с большим объемом информации;       • Ориентированность на результат;       • Стрессоустойчивость;     Условия:     Официальное оформление по ТК РФ с 1 дня обучения;       Совокупный доход от 55 000;       График 5/2, 2/2 - твой выбор ;       Отсутствие дресс-кода, стиль casual;     Расширенный соц. пакет: ДМС, компенсация услуг стоматологии, диспансеризация в частных клиниках за счет нашей страховой компании;   Комфортные условия работы, зоны отдыха, чай, кофе, снэки от банка;   Льготное кредитование (рассрочка, ипотечная программа, доступный автомобиль);   Активная корпоративная жизнь : совместные мероприятия, корпоративы;   Компенсация абонемента фитнеса, спортзала, бассейн и прочее;   Дополнительные условия для семейных  ",
         "0.0",
         "55.0",
         "4.007333185232471"
        ],
        [
         "19",
         "Руководитель проекта",
         "Санкт-Петербург",
         "Опытно-конструкторское бюро Электроавтоматика имени П.А. Ефимова",
         "Деловая коммуникация, Проектная документация, Проектный менеджмент",
         "Наши преимущества:     работа на стабильном предприятии оборонно-промышленного комплекса в составе государственной корпорации \"Ростех\";   возможность профессионального развития по корпоративным программам обучения за счет предприятия;   участие в корпоративных проектах ГК \"Ростех\" (научные конференции, корпоративное обучение, спортивные мероприятия и т.д.);   поддержка руководителя, коллег, наставника на начальном этапе и в процессе работы;   на предприятии работает профсоюзная организация, столовая, тренажерный зал;   активно развивающаяся социальная политика на предприятии.     Основные задачи:     реализация проекта, управление всеми блоками в рамках проекта;   контроль плана-графика по вверенным проектам, содержащего все этапы подготовки с указанием сроков и зон ответственности участников проекта;   обеспечение исполнения инвестиционного бюджета проекта;   формирование отчетности контролирующим органам;   взаимодействие соисполнителями и поставщиками в рамках проектов, участие в переговорах и совещаниях;   контроль своевременного составления и отслеживание заявок на покупку материалов и комплектующих;   контроль расходов и обеспечение эффективного использования ресурсов;   анализ и снижение возможных рисков выполнения план-графика проекта;   осуществление приемки/сдачи законченных видов и отдельных этапов работ;   согласование, в установленном порядке, изменений в проектных решениях (при необходимости);   разработка системы сопровождения «продукта» на протяжении всего жизненного цикла;   организация взаимодействия с заказчиками.     Что мы ожидаем от будущего сотрудника:     высшее техническое образование;   опыт реализации полного цикла комплексного проекта;   умение и навыки квалифицированной работы с финансовыми моделями, разработка и актуализация проектов с минимизацией критического пути, оперативной расстановке приоритетов с учетом поступающей оперативной информации;   навыки ведения договоров;   проведение мониторингов и тендеров;   понимание технологии выбора поставщиков, работа по подбору необходимых материалов;   качественное управление бюджетом проекта.   знание показателей экономической эффективности, понимание их экономической сущности, навыки самостоятельного расчёта показателей.   знание и умение работать в программах: MS Оffice, AutoCAD, 1С.   аналитическое мышление, способность быстро осваивать новую информацию.   умение эффективно выстраивать рабочие процессы в режиме многозадачности.   коммуникабельность, активная жизненная позиция, инициативность, пунктуальность.     Условия:     пятидневная рабочая неделя (с 08:15-17:00);   испытательный срок - 3 месяца;   полностью белая заработная плата, размер заработной платы обсуждается на собеседовании после оценки Вашего уровня квалификации.     Если Вам интересна наша вакансия и Вы готовы принять участие в отборе, просим указать в Вашем резюме либо в сопроводительном письме ожидаемый уровень дохода.",
         "3.0",
         "140.0",
         "4.941642422609304"
        ],
        [
         "20",
         "Дизайнер-верстальщик",
         "Чита",
         "PHOTO KIDS",
         "Adobe Photoshop, Верстка печатных изданий, Полиграфический дизайн, Дизайн упаковки, Графический дизайн, Допечатная подготовка, Цветокоррекция, Ретушь, Художественная фотография, Adobe InDesign",
         "Обязанности:     работа с фотографиями, ретушь лиц при необходимости, верстка в фотокниг   создание ссылок с фотографиями, загрузка фото на сайт по отбору, уменьшение фотографий под нужный формат и т.п.     Требования:     внимательность в работе, ответственность, исполнительность   соблюдение правил и инструкций компании   очень дружный коллектив, в команду ищем позитивных, открытых, честных сотрудников, под стать имеющимся     Условия:     работа может быть как в офисе (центр города), так и удаленно, при наличии дома необходимых компьютерных программ - фотошоп и бридж   приветствуется опыт работы, но можем научить с нуля  ",
         "0.0",
         "35.0",
         "3.555348061489413"
        ],
        [
         "21",
         "Менеджер-аналитик маркетплейсов (Wildberries)",
         "Москва",
         "Абелян Гегам Григорьевич",
         "Аналитическое мышление, Анализ воронки продаж, Анализ данных, Анализ трафика, Формирование аналитической отчетности, Unit-экономика, Событийная аналитика, Прогнозирование спроса",
         "Обязанности:     Работа с карточками товаров – создание и улучшение карточек, CEO, контентная воронка. Контроль и наращивание позиций по ключевым запросам и в категориях товара   Аналитика ассортимента, формирование стратегии развития и продвижения карточек товара   Внутренняя аналитика - работа с конверсиями на всех этапах. Понимание, что влияет на эти конверсии и как их улучшить   Работа с внутренней рекламой – автореклама, аукцион и др. Тестирование гипотез, оптимизация ДРР, работа с плагинами и биддерами   Ведение ежедневной и еженедельной отчетности, работа с таблицами и сервисами аналитики   Контроль ценообразования – участие в акциях, рекомендации по ценам на основе конкурентного окружения, юнит-экономика, работа с репрайсером   Контроль остатка товаров – товарные запасы на складах маркетплейса, поддержка индекса локализации, своевременный подсорт   Увеличение прибыли, оборота и доли компании на маркетплейсе. Прогноз ежеквартальных продаж. Отчет план/факт   Анализ конкурентов – товарная матрица, доля в категории, объем продаж, цены и др.   Аналитика отзывов покупателей, сбор частых жалоб, аналитика заявок по браку от покупателей   Мониторинг обновлений и изменений на маркетплейсе     Требования:     Опыт работы от 1 года с поставщиками с ежемесячным оборотом от 5 млн. руб.   Полная занятость, без совмещения с другими кабинетами   Уверенный пользователь Excel, Google Docs (сводные таблицы, формулы - впр, суммесли и др.)   Знание сервисов аналитики – MPSTATS, WILDBOX, WILDCRM и др.   Работа с плагинами, биддерами   Командная работа, ориентир на общий результат   Желание развиваться в профессии, обучаться и расти вместе с компанией     Условия:     Удаленная работа, полная занятость   Пятидневная рабочая неделя – с понедельника по пятницу. Время работы команды с 9 до 18.00   Поддержка и наставничество на протяжении первых месяцев работы   Конкурентная заработная плата – на время испытательного срока 80.000 руб. После прохождения испытательного срока от 100.000р   Бонус по итогам года   Возможность официального трудоустройства или по договору ГПХ с самозанятым или с ИП   Ежегодный оплачиваемый отпуск   Возможность карьерного роста, обучение и повышение квалификации за счет компании   Корпоративные мероприятия   Корпоративные подарки детям на праздники  ",
         "1.0",
         "100.0",
         "4.605170185988092"
        ],
        [
         "22",
         "Специалист по внедрению и управлению нейросетями (AI-интегратор)",
         "Москва",
         "Schoolsmart",
         "Преподаватель, Администрирование процесса обучения, Обучение",
         "В онлайн-школу для репетиторов Schoolsmart мы ищем специалиста на должность   специалиста по внедрению и управлению нейросетями (AI-интегратор)   В 2023 году мы вошли в ТОП-100 крупнейших онлайн-школ на платформе GetCourse.   Мы учим преподавателей и репетиторов тому, как зарабатывать больше на образовательных услугах, как выходить в онлайн и продвигать личный бренд.   Мы стабильно растем, у нас есть ресурсы для тестирования новых гипотез и для создания образовательных продуктов высокого качества. С 2018 года наше платное обучение прошли более 9 000 клиентов.   Обязанности:       - Интеграция и настройка модулей нейросетей для автоматизации процессов клиентской поддержки.   - Разработка решений для замены отдела поддержки на AI-модуль.   - Настройка чат-ботов на базе OpenAI и других решений для обеспечения автоматической поддержки клиентов.   - При необходимости обновление базы знаний и алгоритмов работы AI для улучшения эффективности работы с клиентами.   - Сопровождение работы AI-модулей, их тестирование и мониторинг.   - Анализ данных и представление отчетов по работе автоматизированной системы.   Требования:       - Опыт работы с нейросетями (желательно с OpenAI или аналогичными платформами).   - Навыки программирования и работы с открытым кодом для настройки и интеграции AI-решений.   - Понимание принципов работы с Telegram-ботами и их настройкой для автоматизации процессов.   - Опыт в работе с Excel и аналитическими инструментами.   - Ответственность, способность к самостоятельной работе и управлению проектами.   Условия       Оплата: почасовая, возможно до 30,000 рублей на руки.   - Частичная занятость.   - Удаленная работа.   - График: гибкий, под проект.   Мы ищем специалиста, который сможет помочь нам в полной автоматизации клиентской поддержки с использованием AI-технологий. Вам предстоит работать над проектом, который заменит наш отдел поддержки, повысит эффективность взаимодействия с клиентами и позволит компании перейти на новый уровень работы с нейросетями.   Чтобы мы рассмотрели вашу кандидатуру, нажмите «ОТКЛИКНУТЬСЯ». С вами свяжется наш специалист и отправит дальнейшую инструкцию.",
         "1.0",
         "30.0",
         "3.4011973816621555"
        ],
        [
         "23",
         "Сетевой специалист",
         "Москва",
         "Кадровый Метод",
         "Администрирование сетевого оборудования, Cisco",
         "Мы предлагаем:     Офис рядом с метро Курская (7 минут пешком);   Бесплатная парковка;   Оклад от 150 000 руб. на руки;   Есть бесплатный спортзал (теннис, волейбол, баскетбол, тренажеры);   Оформление по ТК РФ;   График работы 5/2 с 9-00 до 18-00 без переработок, выходные субб., воскр.     Обязанности:     Настройка, администрирование, поддержка и мониторинг сетевого оборудования Cisco, Hewlett Packard;   Поиск неисправностей и организация бесперебойной работы сетевой инфраструктуры компании;   Администрирование, эксплуатация, проектирование и развитие сетевой инфраструктуры, протоколов и смежных сервисов;   Разработка и внедрение политик информационной и сетевой безопасности;   Контроль за качеством предоставляемых услуг провайдерами и поставщиками услуг;   Написание документации, регламентов и стандартов.     Требования:     Знания коммутации и маршрутизации сетей, сетевых протоколов ТСP/IP, технологий построения VPN-соединений и их практическое применение, понимание сетевой модели OSI и принципов работы основных транспортных протоколов;   Актуальный практический опыт настройки и администрирования сетевого оборудования Cisco, Hewlett Packard;   Практический опыт разработки, внедрение и применения сетевых политик безопасности;   Практический опыт настройки, администрирования, поддержки и траблшутинга таких технологий (протоколов) как HSRP, VRRP, OSPF, BGP, VRF, VPN, GRE, VLAN и другие.                  ",
         "3.0",
         "150.0",
         "5.010635294096256"
        ],
        [
         "24",
         "Менеджер в Арт-школу в Перми",
         "Пермь",
         "Международная сеть школ рисования Grafika",
         "B2C продажи, Активные продажи, Работа в команде, Деловое общение, Навыки презентации, Умение слышать и слушать, Работа с возражениями",
         "Привет! Меня зовут Ирина, я - РОП школы рисования GRAFIKA в Перми, и прямо сейчас я ищу активных, классных и амбициозных ребят себе в команду!   У нас не одна школа в Перми, а целых 65 городов и уже 5 стран. Но именно наша школа занимает лидирующие позиции   по сети уже на протяжении года!⭐️   В связи с  ростом популярности и увеличением числа желающих приобрести наши программы , мы ищем креативного вдохновителя!   Что ты будешь делать:     Проводить пробный урок по рисованию для потенциальных учеников (не беспокойся, если у тебя нет опыта в рисовании - мы тебя обучим)   Знакомиться и общаться с множеством интересных и творческих людей.   Проводить экскурсии по школе и нашей картинной галерее.   Помогать ученикам найти свой формат обучения.     От тебя мы ждем:     Хорошие коммуникативные навыки.   Грамотную речь.   Желание развиваться и учиться новому.   Будет плюсом знание основ продаж. У тебя будет:   Работа в международной компании (мы есть в  США, Великобритании, Беларуси, Молдове )   Ориентировочная зарплата в месяц 70 000 р.(оклад+KPI)   График работы 2/2 с 10:00 до 21:00 (можно будет выспаться) ;)   Отсутствие дресс-кода, можно ходить в чем захочешь.   Активная и дружная команда: мы проводим совместные фотосессии, ходим на кулинарные курсы и выезжаем на природу.   Дарим поездки по России и другие подарки за результаты в работе!✨ Мы уделяем внимание гармонии между трудом и отдыхом, поэтому не приветствуем переработки   :)     Ждем тебя ! ✨   В нашей школе реализовали себя, как менеджеры по продажам, дизайнеры, архитекторы, программисты, администраторы, фрилансеры, психологи, поэтому твой бэкграунд не так важен, как твое желание!    ",
         "0.0",
         "80.0",
         "4.382026634673881"
        ],
        [
         "25",
         "Разработчик C++",
         "Санкт-Петербург",
         "Новые Технологии Телекоммуникаций (ООО НПП НТТ)",
         "C++, STL, Linux, C++11, RabbitMQ, Cuda, DPDK",
         "Обязанности:     разработка продукта для ОС AstraLinux;   разработка ПО С++;   разработка нового функционала или перенос старого в новое приложение;   локализация и исправление ошибок по описанию от команды тестирования;   ревью кода других разработчиков.     Требования:     опыт разработки под Linux на C++ от 2х лет.   знание основных библиотек: STL.   умение работать с сетевой инфраструктурой OC Linux и желание совершенствовать свои навыки в этой сфере.   понимание необходимости написания unit-тестов.   уверенное владение С++. Желательно владение на уровне стандарта С++11 или выше;   высшее образование (техническое).     Желательно( Не обязательно ) :     DPDK;   Cuda;   RabbitMQ.     Условия:     карьера в крупной компании;     трудоустройство согласно ТК РФ;     оплачиваемый отпуск, больничный (доплачиваем до среднего);     график работы 5/2 (с понедельника по пятницу);       испытательный срок 3 мес;       интересные глобальные проекты;       возможность быстрого карьерного роста;       13-я зарплата по результатам года;     широкий спектр дисконт-программ, скидок и привилегий от компаний-партнёров (BestBenefits).  ",
         "1.0",
         "180.0",
         "5.19295685089021"
        ],
        [
         "26",
         "Ведущий системный администратор Linux",
         "Москва",
         "Московский прожекторный завод",
         null,
         "Обязанности:     Установка, администрирование и настройка серверов и сервисов на Linux   Установка на серверы программного обеспечения, их конфигурирование, выявление ошибок в работе и их устранение.   Обеспечение бесперебойной работы сетевой и серверной инфраструктуры и восстановление ее после сбоев.   Участие в развитии ИТ инфраструктуры предприятия.   Участие в разработке и внедрении новых ИТ-систем и обеспечение их эффективной работы.   Подбор, модернизация, настройка и ввод в эксплуатацию вычислительного и сетевого оборудования.   Организация и контроль своевременного архивирования и резервирования данных.   Участие в разработке документации, инструкций и регламентов по работе в ОС и ПО. Работа с внутрикорпоративной Wiki.   Взаимодействие с вендорами по вопросам решения проблем и техподдержки.   Обеспечение информационной и антивирусной безопасности предприятия.   Контроль за внесением изменений в конфигурацию серверов.   Согласование и выполнение работ со смежными подразделениями в зоне своей компетенции.     Требования:     Администрирование операционных систем на базе Linux. Желателен опыт работы с RedOS, BaseALT, Astra     Знание и опыт работы с FreeIPA, Samba   Опыт работы с Puppet. Желателен с Ansible     Опыт настройки c СУБД MS SQL Server, PostgreSQL (желательно)   Опыт работы с Wine (запуск 3D программ)   Опыт работы с системой виртуализации KVM (Proxmox)   Построение и администрирование отказоустойчивых систем на базе Proxmox   Опыт работы с СХД: Huawei Oceanstor, Synology, TrueNAS   Опыт внедрения, сопровождения, выявление ошибок клиентских ОС Linux   Опыт работы с системой мониторинга Zabbix   Установка и настройка Nginx   Приветствуется опыт работы с Kaspersky Security Center   Опыт написания скриптов для автоматизации задач (bat, Powershell, Python, shell/bash)   Приветствуется опыт работы с Elasticsearch   Опыт работы с ЭЦП (КриптоПро)   Желателен опыт настройки и работы с IDECO, pfSense.   Понимание принципов работы с AD, GPO, DNS, DHCP, Terminal Services, LDAP   Приветствуется опыт работы с серверным оборудованием HPE, Supermicro, Dell, Lenovo   Приветствуется опыт работы с сетевым оборудованием HPE/Aruba, Eltex   Приветствуется опыт работы с Backup серверами ProxmoxBS и КиберБэкап     Условия:   - оформление по ТК РФ,   - график работы 5/2,   - \"белая\" заработная плата    ",
         "3.0",
         "180.0",
         "5.19295685089021"
        ],
        [
         "27",
         "Руководитель проекта",
         "Москва",
         "Бута Констракшн",
         null,
         "Обязанности:      Координирование работы бригад по выполнению отделочных, электромонтажных и ОВиК работ   Организация выполнения работ   Переговоры с заказчиком   Составление исполнительной документации     Требования:      Опыт аналогичной работы от 3 лет,   ОБЯЗАТЕЛЬНЫЙ опыт в выполнении отделочных, ремонтных работ в элитных квартирах, магазинах, ресторанах и офисах класса А, fitout   Профильное образование.   Уверенное знание технологий внутренней отделки помещений.   Умение принимать решения и нести ответственность, эффективно выстраивать свою работу и деятельность бригадиров /подрядчиков.   Готовность к работе ночью         Условия:     Оформление по ТК РФ;   Стабильная заработная плата без задержек. Назначается по итогам собеседования;   Работа в дружной команде профессионалов, нацеленных на результат и постоянное развитие;   Возможность карьерного роста и роста доходов;   Объекты в г. Москва      ",
         "3.0",
         "180.0",
         "5.19295685089021"
        ],
        [
         "28",
         "Менеджер по повышению эффективности процессов",
         "Екатеринбург",
         "НефтеГазКонсультант",
         "Управление проектами, Проектный менеджмент, Система управления операционной деятельностью, Консалтинг, PMBOK, Agile, DMAIC, Система непрерывных улучшений, Анализ бизнес показателей, Управление эффективностью, Бережливое производство, Оптимизация бизнес-процессов",
         "В зависимости от проекта возможны командировки и релокация (по согласованию).   Задачи:     Реализация проекта развития производственной системы: внедрение системы управления операционной деятельностью, комплексная оценка потенциала, внедрение системы непрерывных улучшений и др.   Консультирование и обучение сотрудников Заказчика по теме проекта.   Организация активностей и мероприятий.   Фасилитация встреч, мозговых штурмов.   Подготовка и представление Заказчику презентаций, отчетов и другой документации.   Стимулирование команд и менеджеров Заказчика к достижению результатов.         Требования:     Высшее образование (техническое и/или менеджмент).   Опыт применения методологий управления проектами (PMBOK, Agile; DMAIC).   Опыт картирования потока создания ценности (КПСЦ) в нефтегазовой отрасли.   Опыт разработки и внедрения мер по повышению эффективности процессов с подтвержденным результатом.   Понимание процессов строительства скважин.   Системность, самостоятельность, аналитические и коммуникативные навыки.   Умение работать с большими данными и создавать презентации.   MS Office (Excel, PowerPoint, Visio).     Приветствуется:     Опыт участия в проектах комплексной оценки потенциала (КОП).   Опыт внутреннего тренерства.         Условия:        Наши проекты – это отличная возможность для вас получить новый опыт и развить свои профессиональные навыки. Мы  предлагаем работу в надёжной, устойчивой компании, имеющей устоявшуюся репутацию на рынке, потому что мы:           Работаем с 2015 года с Нефтегазовыми компаниями.   Есть свои разработки в области методологии и программного обеспечения.   100% довольных клиентов.   Нет бюрократии, используем кадровый электронный документооборот.         Формат работы: 5/2, офис.   Достойный уровень заработной платы, премия за до продажу услуг, премия за повышение эффективности внутри компании + официальный бонус при успешной реализации проекта.   Релокационный пакет: оплачиваем транспортные расходы и обеспечиваем полную компенсацию аренды квартиры для вас и вашей семьи.     Если Вас заинтересовала вакансия, отправьте резюме и сопроводительное письмо, начав его со слов:  «Готов(-а) к переезду на интересный проект».    ",
         "6.0",
         "150.0",
         "5.010635294096256"
        ],
        [
         "29",
         "Куратор по сопровождению клиентов в IT-компанию",
         "Санкт-Петербург",
         "Красильникова Вероника Олеговна",
         "Грамотная письменная речь, Грамотная устная речь, Активные продажи, Умение учиться, Деловые коммуникации, Теплые продажи, Активное слушание, Обучение и развитие, Работа с обращениями, Работа с возражениями",
         "Онлайн куратор по сопровождению клиентов в IT-компанию       Хочешь работать в КРУПНОЙ IT-компании из любой точки мира?   У нас есть идеальное предложение для тебя! ⏰ УДОБНЫЙ ГИБКИЙ график , СТАБИЛЬНАЯ и ВЫСОКАЯ зарплата , корпоративные СКИДКИ  от наших партнеров и множество других преимуществ!   Наша команда срочно ищет  УДАЛЕННЫХ менеджеров  по консультации клиентов по вопросам IT-продуктов.   ОТКЛИКНИСЬ прямо сейчас , и наш рекрутер свяжется с вами в течение пары минут!   Мы предлагаем: ✅Официальное оформление с первого дня! ✅Стабильно высокая зарплата% ✅Оплачиваемое обучение! ✅Удобный гибкий график ✅Работа в крупной IT-компании ✅Корпоративные скидки от партнеров для наших сотрудников ✅Возможность карьерного роста!   Ты будешь: ✅Работать по готовой ТЕПЛОЙ базе для продажи наших IT продуктов ✅Вести отчётность в CRM-системе.   От тебя ждём лишь: ✅ Наличие ПК и стабильного интернета ✅ Грамотная устная и письменная речь ✅ Образование среднее ⚠️  Опыт работы от 3 -х  месяцев ⚠️ ВАЖНО:  РАССМАТРИВАЕМ КАНДИДАТОВ  С ОПЫТОМ ОТ 3-Х МЕСЯЦЕВ.   Скорее нажимай  ОТКЛИКНУТЬСЯ ,  и мы свяжемся с тобой уже сегодня!   Опыт работы НЕ обязателен, но приветствуется на позициях: администратор чата, специалист контактного центра, специалист колл-центра, колл-центр, менеджер, колл-центр, call centr, оператор контактного центра, без опыта, начинающий специалист, консультирование, оператор call центра, оператор колл-центра, специалист службы поддержки, специалист техподдержки, менеджер по работе с клиентами, менеджер чата, оператор ПК, модератор, менеджер технической поддержки, менеджер маркетплейса, помощник руководителя, специалист центра коммуникаций, служба поддержки.   ОБРАЩАЕМ ВНИМАНИЕ, после отклика на данную вакансию потребуется предоставление информации или выполнение иных действий на сторонних информационных ресурсах.",
         "1.0",
         "90.0",
         "4.499809670330265"
        ],
        [
         "30",
         "BDM /Presale менеджер по направлению: ИБ",
         "Москва",
         "Легион",
         "Проведение презентаций, Product Promotion, Ведение переговоров, Разработка стратегии продвижения продуктов, Умение вести переговоры, План продвижения, Деловая переписка, Деловое общение, Навыки продаж, Обучение персонала, Деловая коммуникация, MS PowerPoint, Развитие продаж, Business Development, Информационная безопасность, Аудит информационной безопасности, XDR, SIEM, NGFW, DLP, WAF, NAD",
         "Компании Легион, российскому интегратору программного и аппаратного обеспечения, требуется  BDM /Presale менеджер по Информационной Безопасности.   Обязанности:     Разработка стратегии продвижения продуктовой линейки компании (Лаборатория Касперского, Positive Technologies, Usergate, Ideco, оказание услуг на базе перечисленных вендоров)   Знание классов систем ИБ (VPN, Firewall, IDS/IPS, PKI, WAF, SOAR, антиDDOS, SIEM, DLP, NTA, NAC, NGFW, Sandbox, EDR/XDR, NTA, Anti-spam, сканеры анализа защищенности балансировщики и пр.)   Разработка и внедрение мер по стимулированию сбыта   Оказание поддержки по направлению (проведение переговоров с заказчиками, подготовка технико-коммерческих предложений и тендерной документации)   Обучение менеджеров по продажам   Участие в маркетинговых мероприятиях в качестве спикера, подготовка маркетинговых материалов   Подбор оптимального решения с учетом всех параметров (функциональность, стоимость владения, перспективность), кросс-продажи   Проведение пилотных проектов совместно с заказчиком и менеджером по продажам, инженерами компании/вендора   Работа в команде с техническими экспертами   Активная позиция в работе (что-то придется делать руками)   Быть евангелистом своего направления или вендора     Требования:     Опыт работы в роли presale/BDM или «острое» желание получить такой опыт ( желание не отменяет знание рынка)   Знание продуктовой линейки Российских вендоров   Знание и понимание основ маркетинга     Условия:     Уровень совокупного дохода обсуждается индивидуально с финальным кандидатом. Мы открыты к вашим формам мотивации   Прозрачные трудовые отношения, оформление согласно ТК РФ     График 5/2 с 9.30 до 18.30, офис в 10-и минутах ходьбы от м. Дмитровская (БЦ Савеловский-Сити).    ",
         "1.0",
         "250.0",
         "5.521460917862246"
        ],
        [
         "31",
         "Системный администратор",
         "Самара",
         "ЭКСПРЕСС",
         null,
         "Вакансия компании ООО \"СМАРТТЕХ\"   Компания СмартТех, основанная в 2008 году, занимается информационными технологиями. Мы сосредоточены на разработке и поддержке сетевых и серверных систем (ИТ-аутсорсинг). Наши услуги позволяют клиентам сосредоточиться на своем основном бизнесе, не отвлекаясь на ИТ-задачи. Мы ищем системного администратора, который будет отвечать за:   - Установку, настройку и обслуживание серверного и сетевого оборудования и программного обеспечения. - Мониторинг и анализ производительности систем, выявление и решение неполадок. - Обеспечение безопасности информационных систем, управление доступом и защита данных. - Поддержку пользователей в решении технических вопросов и обучение работе с программным обеспечением. - Разработку и актуализацию внутренней документации. - Участие в проектирования и внедрении новых IT-решений. - Коммуникации с пользователями и клиентами компании через систему учета заявок ServiceDesk, телефон, корпоративный чат. К кандидату предъявляются следующие требования:   - Опыт работы на аналогичной должности не менее 2-х лет. - Понимание устройства современных компьютеров и серверов. - Опыт по сборке, ремонту, настройке компьютерного оборудования - Опыт настройки периферийного оборудования: принтеры, сканеры, МФУ, плоттеры, общий доступ к этому оборудованию, разграничение прав доступа. - Знание современных операционных систем (Windows, Linux) и сетевых технологий. - Умение работать с виртуализацией (ProxMox, VMware, Hyper-V). - Знание основ сетевых технологий. - Практический опыт настройки Mikrotik, Windows server. - Знание систем мониторинга, резервного копирования, антивирусной защиты, ip-телефонии. - Знание основ безопасности IT-систем. - Ответственность, стрессоустойчивость, инициативность, ориентация на поиск новых и эффективных решений, коммуникабельность, внимательность и умение работать в команде. Мы предлагаем:   - Официальное трудоустройство и стабильную заработную плату. - Работа в городе Самара на полный день (график с 09:00 до 18:00). - Возможность профессионального роста и повышения квалификации. - Дружный коллектив и комфортные условия труда. - чай, кофемашина и интересные задачи.   Если вы соответствуете указанным требованиям и хотите стать частью нашей сплочённой команды, присылайте свое резюме на указанный адрес электронной почты. Мы будем рады видеть Вас на собеседовании и обсудить условия сотрудничества!",
         "3.0",
         "90.0",
         "4.499809670330265"
        ],
        [
         "32",
         "Техник IT отдела",
         "Санкт-Петербург",
         "ФГБУ ВЦЭРМ им. А.М. Никифорова МЧС России",
         null,
         "Обязанности:     участие в работах по поддержанию используемых информационных систем   составление инструкций     Требования:     уверенный пользователь ПК   ответственность, внимательность, коммуникабельность     Условия:     официальное оформление и зарплата  ",
         "0.0",
         "40.0",
         "3.688879454113936"
        ],
        [
         "33",
         "Инженер по безопасности дорожного движения Разрезоуправление \"Новошахтинское\"",
         "Уссурийск",
         "СУЭК, Сибирская Угольная Энергетическая Компания",
         "Охрана труда и техника безопасности, Разработка эксплуатационной документации, Аттестация по ОТ и ПБ, Вводный инструктаж по охране труда и технике безопасности",
         "Крупная горнодобывающяя компания Дальнего Востока приглашает на работу Инженера по безопасности дорожного движения.   Обязанности:     Консультирование водителей по вопросам безопасности дорожного движения (дороги общего пользования, технологические дороги);   Контроль за выходом транспортных средств на линию и работой водителей на линии;   Контроль за организацией и проведением технических осмотров автотранспорта, ОСАГО;   Планирование мероприятий, направленных на реализацию требований правил дорожного движения, на устранение причин и условий дорожно-транспортных происшествий, в которых участвовали транспортные средства предприятия;   Анализ причин дорожно-транспортных происшествий, разработка и проведение мероприятий по профилактике ДТП;   Взаимодействие с органами ГИБДД по вопросам профилактики ДТП, проведения ежегодной сверки ДТП, с участием автотранспорта предприятия.     Требования:     Образование высшее или среднее профессиональное образование по направлению «Техника и технологии наземного транспорта»;   Знания законодательства по безопасности дорожного движения.     Условия:      Официальное трудоустройство с первого рабочего дня;    Полный социальный пакет;    ДМС (Добровольное медицинское страхование);   Частичная компенсация (50%) расходов на отопление;   Оплата проезда в отпуск работнику и членам семьи 1 раз в 3 года;   Материальная помощь, согласно Коллективному договору;   Новогодние подарки детям, компенсация по оплате детских путевок;   Санаторно - курортное лечение по медицинским показаниям;   Качественная, комфортная спецодежда по сезону, СИЗ;   Доставка сотрудников транспортом компании;   Столовая для сотрудников компании;   Комфортное рабочее место.  ",
         "1.0",
         "75.0",
         "4.31748811353631"
        ],
        [
         "34",
         "Начальник участка охранно-пожарной сигнализации (ОПС)",
         "Москва",
         "ФГУП ФЦДТ СОЮЗ",
         null,
         "Обязанности:     Техническое обслуживание, ремонт АУПС и СОУЭ, монтаж и пуско-наладочные работы систем ОПС.     Требования:     Высшее профессиональное образование, опыт работы не менее 1 года, знание систем ОПС, построенных на оборудовании НВП \"Болид\", \"Аргус-Спектр2 и другие, знание правил выполнения электромонтажных работ.     Условия:     место работы - г. Дзержинский,   Московской области,   график работы: 5/2 (с 08.00-17.00, обед с 12.30-13.30),   официальное трудоустройство,   стабильная заработная плата,   профсоюз,   бронирование всех ГПЗ, на время работы на предприятии.  ",
         "1.0",
         "153.0",
         "5.030437921392435"
        ],
        [
         "35",
         "PHP разработчик Junior+/Middle",
         "Москва",
         "amoCRM",
         "PHP, MySQL, Git, Elasticsearch, Redis, Golang, MongoDB, RabbitMQ",
         "Мы   - amoCRM, наша команда более 15 лет создает и поддерживает собственную CRM систему. Мы занимаем первые места в различных рейтингах и сохраняем статус лидеров рынка в России. Сейчас у нас работает более 600 человек, мы вышли на международный рынок, открыли офисы и представительства в 5 странах, а нашим продуктом пользуются сотни тысяч компаний по всему миру от США, Латинской Америки и Европы до Индонезии и Индии. Наш  отдел информационной безопасности ищет PHP backend-разработчиков , которые умеют или хотят научиться:     разрабатывать и поддерживать инструменты анализа защищенности;   улучшать систему мониторинга и автоматизации поиска и решения инцидентов;   исследовать актуальные проблемы защищенности кода и инфраструктуры, устранять ошибки и уязвимости.     Если что-то из списка тебе пока незнакомо, но ты готов быстро вникать и тебе интересна эта вакансия, мы будем рады рассмотреть твое резюме.   Что мы используем     PHP 7.4 и выше/Go   MySQL (Percona) / MongoDb   Elasticsearch/Sphinx   Memcache/Redis   Pinba   Gearman/Beanstalk/Apache Pulsar   Docker/kubernetes   Grafana/Prometheus/Graylog/Kibana     Ты нам подходишь, если у тебя есть:       Уверенные знания PHP (мы используем версии от 7.4 до 8.1 и выше)       Коммерческий опыт или опыт написания своих проектов от полугода       Умение находить нестандартные решения       Возможность работать в офисе в Москве       Будет плюсом:   Опыт разработки на Golang Интерес к информационной безопасности и DevSecOps   Что тебя ждет:     Сильные наставники и помощь в погружении в работу   Ментор на протяжении всего срока адаптации   Интересные задачи и постепенное повышение сложности   Работа в команде профессионалов над сложным и востребованным продуктом   Быстрый профессиональный рост и пересмотр зарплат по результатам квартального performance review     Что мы предлагаем:       Офисный формат работы в центре Москвы (м.Таганская)       Полностью белая заработная плата (итоговое предложение формируется по результатам собеседования)       Полную занятость с гибким началом рабочего дня       Понятную систему грейдов и четкие метрики для карьерного и профессионального роста       Никакого дресс-кода и лишней бюрократии, общение на “ты” с любым сотрудником, включая основателей компании       Работу на результат (без трекеров экрана и СКУД-систем, считающих время прихода/ухода)       50% компенсацию питания в офисе и другие корпоративные скидки           У нас всего 1 этап отбора и быстрая обратная связь после интервью, откликайся и мы пригласим тебя на собеседование сразу с руководителем и коллегой! Ждем твоего отклика!",
         "1.0",
         "70.0",
         "4.248495242049359"
        ],
        [
         "36",
         "Руководитель проекта",
         "Саратов",
         "Литана",
         "Планирование строительных работ, Составление графиков работы, Чтение проектной документации, Чтение рабочей документации, Генеральный подряд, Промышленное строительство",
         "ГРУППА КОМПАНИЙ \"ЛИТАНА\"   Начав свою деятельность в 1994 году, группа компаний  «Литана»  сегодня — это более 250 специалистов, работающих в областях строительства в Российской Федерации и Республике Беларусь. Построены сотни объектов в Калининградской области и по всей территории Российской Федерации, а также Республики Беларусь. Это производственные цеха и заводы, торговые и логистические центры, офисные и здания общественного назначения.   В связи с запуском строительства нового объекта, расположенного на территории Саратовской области г. Энгельс,  требуется Руководитель проекта.   Мы предлагаем:     Белая заработная плата   от 190.000 рублей на руки  (стабильная, белая оплата труда, выплаты 2 раза в месяц перечисляются на карту);   При выполнении плана и прохождение внутреннего аудита не менее чем на 4 бала  премия до 20 %  от заработной платы;   Объект находится в Саратовской области г. Энгельс, проспект Строителей - 78 Б;   График 6-ти дневная рабочая неделя  (6/1 - воскресенье выходной, ненормированный рабочий день);   Для иногородних вахта 30/10  (30 дней на объекте по графику 6/1, 10 дней на отдых вместе с дорогой);   Предоставляем жильё  для иногородних (организация снимает 1 комнатную квартиру);   Оплата проезд  к месту нахождения объекта и обратно (в том числе на время отпуска);   Оплата межвахты ;   Официальное трудоустройство  по срочному Трудовому Договору;   По завершению данного объекта есть возможность ротации на другие объекты.     А также:     оборудованное место для приема пищи;   теплые раздевалки;   предоставляем спец одежду, обувь, СИЗ;   медкомиссия за счёт работодателя.     Чем предстоит заниматься:     организовывать команду проекта работающих на результат;   определять цели и задачи проекта по соответствующему направлению деятельности;   организовывать работу по реализации целей и задач соответствующего проекта;   определять состав работ, необходимых для проработки и внедрения проекта;   определять количество и оценивать стоимость ресурсов, требуемых для выполнения работ по разработке проекта;   подготавливать бюджет проекта и контролировать его исполнение;   составлять план по подготовке и внедрению проекта;   принимать участие в разработке бизнес-плана проекта;   обеспечивать своевременные сбор, накопление, распространение, хранение и последующее использование информации, касающейся разработки проекта;   координировать предоставление нужной информации в обусловленные сроки всем участникам проекта;   анализировать возможное влияние отклонений в выполненных объемах работ на ход реализации проекта в целом;   организовывать тендерные процедуры в соответствии с внутренними правилами компании по выбору подрядных организаций;   составлять договоры, получать все необходимые разрешения, вносить предложения по изменениям и доработкам, составлять графики выполнения работ, контролировать качество и сроки выполнения;   организовывать в пределах своей компетенции сотрудничество с заинтересованными организациями, представителями заказчика;   организовывать работу по ведению установленного учета и составлению необходимой отчетности по всем стадиям проекта;   проводить необходимые переговоры;   проводить работу по изысканию рациональной компоновки элементов проекта;   обобщать и заносить в базы данных материалы, касающиеся разработки проекта;   планировать и координировать работу подчиненных работников по разработке отдельных частей (разделов) проекта или отдельных видов работ;   контролировать выполнение установленных заданий каждым исполнителем.   руководить разработкой соответствующих планов, методик проведения работ, технико-экономических обоснований и расчетов;   прогнозировать результат проекта;   контролировать подготовку необходимой документации для внедрения проекта.     Мы ожидаем от Вас:     высшее профессиональное образование (специализация общестроительные работы, желательно ПГС);   опыт работы на строительной площадке в аналогичной должности от 3 лет;   опыт работы в Генподрядной организации на строительстве промышленных объектов;   знание и навыки планирования работ, составление графиков, чтения рабочей и проектной документации;   знание технологий строительного производства;   знание требований нормативно-технической документации в области строительства, требований к подготовке исполнительной документации;   навыки работы в AutoCad, MC Office.     Если Вы имеете опыт работы строительства промышленных объектов и готовы реализовать себя как профессионал, звоните нам! Будем рады видеть Вас частью нашей дружной команды!    ",
         "3.0",
         "190.0",
         "5.247024072160486"
        ],
        [
         "37",
         "Технический директор",
         "Москва",
         "ПтиДом",
         null,
         "Обязанности:     Руководить деятельностью технических служб: главного инженера, главного механика, ТБ, экология.   Разрабатывать годовой и ежемесячные бюджеты технических служб.   Осуществлять контроль за реализацией инвестиционных проектов.   Обеспечивать рациональное использование производственных ресурсов.   Выстраивать процесс ППР. Контролировать выполнение планово-предупредительного техобслуживания и ремонтных работ техники и оборудования.   Взаимодействие с надзорными органами (Ростехнадзор, Роспотребнадзор, Росприроднадзор), поставщиками энергоресурсов, экологическими службами, государственными органами власти.   Разработка технических регламентов.   Взаимодействие с подрядчиками и гос.органами (получение разрешений, согласований, и т.д.)     Требования:      высшее техническое образование   обязателен опыт работы в пищевом производстве в качестве руководителя тех. направления   готовность к командировкам   Знания в области промышленной безопасности и системы пожарной сигнализации и пожаротушения;   Отличные навыки в области КИПиА;   Применения инструментов бережливого производства в работе;   грамотная устная и письменная речь   хорошая самоорганизация   Условия:   график работы: 5/2 с 9.00 до 18.00     работа в динамично развивающейся компании       оформление согласно ТК РФ     командировки на 1-2 дня раз в неделю точно предполагаются   Комфортный офис по адресу ул. Намёткина д. 12А  ",
         "6.0",
         "180.0",
         "5.19295685089021"
        ],
        [
         "38",
         "Специалист в службу технической поддержки/Системный администратор",
         "Курск",
         "Бонус Плюс",
         "Внимательность, Ответственность, Стрессоустойчивость",
         "Обязанности:     Консультирование по телефону клиентов по техническим вопросам;   Решение проблем, возникающих у клиентов с программным обеспечением, установленным оборудованием;   Настройка оборудования;   Передача заявок в отдел сервиса на восстановление работоспособности оборудования;   Удаленная проверка оборудования с сервисной службой     Требования: ​​​​​​​    среднее профессиональное образование/высшее техническое образование;   приветствуется знание одного или более языков программирования     Условия: ​​​​​​​    график работы: понедельник – пятница с 09:00 до 18:00;   стажировка и обучение в ходе работы, оплата с первого дня обучения;   корпоративная мобильная связь;   подарки детям сотрудников на Новый год.  ",
         "0.0",
         "35.0",
         "3.555348061489413"
        ],
        [
         "39",
         "Руководитель проектов (Руководитель работ на площадке)",
         "Казань",
         "КЭР-Автоматика",
         null,
         "ООО «КЭР-Автоматика»- компания с 20-летним инженерным опытом в области автоматизации промышленных объектов. Наработанный опыт позволяет реализовывать проекты в энергетической, нефтяной, химической, угольной, горнодобывающей промышленности.   Нам доверяют такие ведущие компании как \"РУСАЛ\", \"СИБУР\", \"ЕВРОХИМ\", \"СУЭК\", \"ФОСАГРО\", \"ЛУКОЙЛ\", \"ТАТНЕФТЬ\", \"ТАТЭНЕРГО\" и другие лидеры своей отрасли.   Приглашаем в нашу команду Руководитель проектов (Руководитель работ на площадке).   Обязанности:     Коммуникации с Заказчиком и субподрядными организациями;     Контроль разработки проектной и технической документации;       Контроль за своевременностью выдачи проектной документации и её проверка;       Контроль разработки прикладного программного обеспечения, взаимодействие с Заказчиком по решению возникающих вопросов;       Формирование заявок на закупку ТМЦ и контроль поставок;       Контроль сборки шкафов и организация FAT с заказчиком;       Организация и технический надзора выполнением СМР и ПНР на   объекте, обеспечение качества и сроков выполнения работ в соответствии с графиком производства работ;       Контроль ведения ИТД, сдача объекта заказчику.       Требования:       Знание процессов и этапов разработки и внедрения АСУТП, современных   технологий, нормативной документации,       умение работать с проектной документацией, читать электрические схемы, опыт в монтаже и наладке систем автоматизации,       понимание сметных расчетов и принципов формирования актов выполненных работ,       Условия:     Официальное трудоустройство по ТК РФ, социальные гарантии;   Удобное расположение офиса в шаговой доступности от м. Козья Слобода, рядом набережная у \"Чаши\", ТЦ \"Тандем\", кафе;   Наличие парковки;   Премии за завершение объектов, надбавки за выезды на объект;   Ненормированный график возможны выезды за рубеж (Казахстан и   т.д.). По году не более 40% времени – в командировках;     Заработная плата полностью \"белая\", выплачивается 2 раза в месяц;   Выплата 13-й зарплаты, премий за исполнение проектов;   Оплачиваемая мобильная связь;   Материальная помощь, предоставление выходных дней в связи со знаменательными событиями в жизни;   Обучение, профессиональные курсы, тренинги, повышение квалификации за счёт работодателя- мы заинтересованы в развитии наших сотрудников;   Работа в благоприятном психологическом микроклимате, в атмосфере взаимопомощи и поддержки;   Участие в масштабных, значимых проектах;   Отсутствие лишней бюрократии, ненужных процессов-возникающие вопросы решаем быстро;   Реальная возможность карьерного, профессионального роста в различных направлениях;   Руководство открытое для мнений, предложений, идей;   Интересные корпоративные мероприятия!     КЭР - автоматика – Качество, Энергия, Реновация.     Наша компания для тех, кто любит добиваться большего, хочет постоянно развивается и двигаться вперед. Для тех, кто выбирает достойные своего мастерства и амбиций масштабные и нестандартные, но конкретные и достижимые цели.   Мы создаем условия для прогресса компании и общества, инвестируя в инновации и команду.   Создаем возможности для карьерного роста, безопасные условия труда, для личного развития и общего успеха.   Настоящему профессионалу всегда нужна цель.     В КЭР -Автоматике  есть такие цели: масштабные, амбициозные, но конкретные и достижимые.     Цели, дойдя до которых, ты будешь гордиться собой.   Мы применяем и оттачиваем свое мастерство, реализуя интересные проекты.   Мы гордимся общим результатом.     Присоединяйся к команде КЭР -Автоматики!",
         "1.0",
         "100.0",
         "4.605170185988092"
        ],
        [
         "40",
         "Инженер по ГО и ЧС",
         "Москва",
         "ГБУ Жилищник района Царицыно",
         null,
         "Обязанности:     Взаимодействие с местными органами военного управления, МЧС, Департаментом ГОиЧС, РОНПР   Выполнение мероприятий и требований руководящих документов по гражданской обороне   Соблюдение требований пожарной безопасности и противопожарного режима в Учреждении   Соблюдение мероприятий по антитеррору     Требования:     Знание нормативно-правовой базы   Опыт работы от 1 года     Условия:     График работы 5/2 (сб вск выходной) с 8:00 до 17:00 пятница до 15:45   Оформление в соответствии с ТК РФ     Оформление по ТК РФ       Премии ежемесячные по результатам работы       Профсюз (подарки, билеты , поездки)       Дружный коллектив    ",
         "1.0",
         "65.0",
         "4.174387269895637"
        ],
        [
         "41",
         "Специалист по контролю защищенности",
         "неизвестно",
         "Selecty",
         "MS AD, CA, SCAP, OWASP Top 10, REST API, Docker, Kubernetes, Ansible, ELK, Kafka, HashiCorp Vault, Burp Suite, Metasploit, NSE",
         "Selecty — российская IT-компания, оказывающая услуги по заказной разработке программного обеспечения. Работает на рынке более 10 лет, с 2013 года успешно решая задачи любой сложности в рамках цифровой трансформации для крупного бизнеса. Среди заказчиков Selecty более 300 компаний из списка РБК Топ-500.\nЗадачи\nПовышение эффективности процесса управления уязвимостями.\nАвтоматизация поиска уязвимостей и инфраструктурных дефектов.\nАвтоматизация проверок безопасности контейнерных технологий.\nФормирование практик пентеста и Red Team.\nУчастие в процессе управления уязвимостями: эксплуатация сканера безопасности и верификация уязвимостей.\nОрганизация и проведение экспертизы защищенности информационных систем и инфраструктуры (пентест).\nВзаимодействие с DevOps по встраиванию контролей защищенности в пайплайны.\nУчастие в выборе и эксплуатации инструментов контроля защищенности.\nСамостоятельный анализ Web-безопасности.\nОрганизация и сопровождение внешнего пентеста и технического аудита защищенности.\nТребования\nОбязательно высшее образование.\nПентестер с опытом DevOps или наоборот.\nЗнание архитектуры MS AD, CA.\nПонимание стандартов SCAP.\nЗнание OWASP Top 10, основных Web-уязвимостей и REST API.\nПонимание Docker, K8s, Ansible, ELK, Kafka, HashiCorp Vault.\nОпыт работы с Burp Suite, Metasploit, NSE.\nЗнание языков программирования или скриптовых языков для автоматизации своей деятельности.\nЗнакомство с НПА и регулирующими документами в части требований к процессу контроля защищенности (комплекс ГОСТ Р 57580).",
         "10.0",
         "250.0",
         "5.521460917862246"
        ],
        [
         "42",
         "Менеджер по продажам в Архитектурное бюро",
         "Санкт-Петербург",
         "ЦСКУ Арсенал",
         "Деловая переписка, B2B Продажи, Планирование продаж, Ориентация на результат, Стратегия продаж, Прямые продажи, Построение воронки продаж, Строительная документация, Взаимодействие с субподрядными организациями",
         "Мы предлагаем тебе:     полное погружение в продукт за счет обучения и наставничества;   возможность карьерного и профессионального роста;   работу с интересными задачами, в коллективе профессионалов;   своевременные выплаты заработной платы, оклад + % от суммы заключенных договоров;   оплачиваемые отпуск и больничный;   удобное расположение офиса в 10 минутах ходьбы от ст. метро Горьковская;   график работы: 5/2 с 10:00 до 19:00 в комфортном и современном офисе;   официальное оформление по ТК РФ.         Ты будешь выполнять следующие задачи:         работать с входящими заявками клиентов. Возможны холодные звонки;   осуществлять грамотное консультирование клиентов;   вести клиента от заявки до заключения договора;   вести базу клиентов в нашей CRM-системе;   проводить личные встречи с клиентами.     Нам важно, чтобы ты:     стремился постоянно развиваться и быть профессионалом своего дела;   был настойчивым и амбициозным;   проявлял свой энтузиазм и желание быстро обучаться;   умел работать в режиме многозадачности;   применял творческий подход к каждому клиенту.         Наша корпоративная культура:     мы придерживаемся стиля в одежде smart casual;   коммуникация между сотрудниками в неформальном и дружеском ключе;   мы за исключение лишней бюрократии в работе;   в нашей компании принято прислушиваться друг к другу;   мы создали собственную систему адаптации новых сотрудников.  ",
         "1.0",
         "60.0",
         "4.0943445622221"
        ],
        [
         "43",
         "Фронтенд-разработчик",
         "Москва",
         "ФГБУ ГИВЦ Минкультуры России",
         "HTML, Agile, Scrum, Веб-программирование, React, TypeScript, CSS, Angular, UI, UX, Git, RESTful API, GraphQL, Svelte",
         "Обязанности:   - Разработка и поддержка пользовательских интерфейсов веб-приложений.   - Работа с React версии 16.14.0 и выше, используя хуки.   - Создание и поддержка кода на TypeScript.   - Верстка страниц с использованием HTML и CSS.   - Разработка и поддержка приложений на Angular.   - Интеграция с бэкенд-сервисами через API.   - Оптимизация производительности фронтенд-приложений.   - Написание тестов и автоматизация процессов тестирования.   - Документирование кода и поддержка существующей документации.   Требования:   - Уверенное знание React и опыт коммерческой разработки не менее 2 лет.   - Опыт работы с TypeScript.   - Хорошее знание HTML и CSS.   - Опыт разработки на Angular.   - Понимание принципов проектирования UI и UX.   - Опыт работы с системами контроля версий Git.   - Навыки работы с системами CI/CD.   - Опыт написания тестов (unit, integration) с использованием Jest, Testing Library или аналогичных инструментов.   - Базовые знания о безопасности веб-приложений.   - Английский язык на уровне, достаточном для чтения технической документации.   Будет преимуществом:   - Опыт работы с RESTful API.   - Опыт работы с GraphQL.   - Опыт работы с Svelte.   - Участие в open-source проектах.   - Опыт работы в Agile/Scrum командах.   Условия:   - Достойный уровень дохода + годовая премия.   - График работы 5/2 с 9:00 до 18:00.   - Профессиональное развитие: программы обучения сотрудников, возможности для повышения квалификации и сертификации   - Комфортный офис в центре Москвы в шаговой доступности от метро Курская, Красные Ворота.   - Гибкий подход к графику работы.    ",
         "1.0",
         "200.0",
         "5.298317366548036"
        ],
        [
         "44",
         "C# разработчик",
         "Краснодар",
         "КИП-Сервис",
         "C#, .NET Framework, MS SQL, HTML, .NET, JavaScript, ООП, WPF, Работа с базами данных",
         "ИТ-фирма, входящая в наш холдинг занимается разработкой программного обеспечения в виде продуктов, направленных на автоматизациию бизнесс-процессов.   Чем предстоит заниматься: проектирование и разработка модулей системы (архитектура, логика, участие в создании интерфейсов, конечно само программирование): микросервисы для системы и самодостаточные программные продукты, работа с аппаратными устройствами.   Мы:   - разрабатываем ядро системы, архитектуру экосистемы заказчика и автоматизированные рабочие места с нуля, применяя лучшие идеи.   - разбираемся в тонкостях работы сотрудников заказчика и видим слабые места (где человек тратит много времени, что можно автоматизировать, чему нужно уделить внимание для создания системности работы).   В совокупности эти особенности позволяют нам быть архитекторами сиcтемы, гибко выстраивать связи между компонентами, успешно реализовывать все задумки.   Вам предстоит:       Разбираться в предметной области.       Разрабатывать надежные, легко модифицируемые и масштабируемые сервисы.       Активно участвовать в проработке архитектурных решений.       Мы  ожидаем:       Техническое образование в области IT       Опыт коммерческой разработки от 2х лет       Опыт работы с базами данных и ORM-системами (EntityFramework)       Опыт разработки клиент-серверных приложений на С# WPF       Понимание смысла микросервисной архитектуры       Понимание принципов ООП и платформы .Net       Умение работать с системой контроля версий(Gitlab)       Представление о работе с XML       Знание классических алгоритмов и структур данных       Опыт работы c СУБД (MS SQL, T-SQL) – будет являться преимуществом       Понимание принципов SOLID и DDD.       Знание и опыт работы с HTML/JavaScript – будет являться преимуществом       Стек используемых технологий:        NET и язык C# (кросс платформенная разработка)       REST/SignalR       Фронтенд на React JS       Базы данных в PostgreSQL/SQLite       Orm-система EntityFramework       Система контроля версий Gitlab       Контейнеризатор приложений Docker       Мы предлагаем:       Динамично и быстроразвивающийся бизнес, ресурсы, возможность сделать вместе лучший продукт.       Свободу действий в принятии решений.       Достойный уровень заработной платы.       Дружелюбный коллектив.       Возможность получить интересный опыт в области разработки и автоматизации бизнес процессов.       Трудоустройство в соответствии с ТК РФ, своевременная заработная плата ( Возможна работа как самозанятый )         Очный формат работы , готовность работать в офисе. Внимание!  Если вакансия вам интересна, просим вас откликнуться , выполнить тестовое задание и выслать результаты на электронную почту , указанную в вакансии или в чат c работодателем на этом сайте . По результатам проверки задания мы свяжемся с вами и пригасим на собеседование .  Тестовое задание на backend программиста   Реализовать асинхронную обработку запросов на .net core, тип приложения WebApi.           Метод для запроса пользовательской статистики  POST /report/user_statistics.  В тело запроса передаем идентификатор пользователя, период с и по. Результат выполнения метода - Guid запроса.       Метод получения информации о запросе  GET /report/info.  Параметр метода - Guid запроса. Ответ - json в котором указан Guid запроса, процент выполнения запроса, и результат выполнения, если он есть.       Покрытие тестами будет большим плюсом.              Приложение должно  обрабатывать запрос не быстрее чем за X миллисекунд (вынести в конфигурационный файл, по умолчанию установить 60 секунд) , и рассчитывать процент обработки в зависимости от пройденного времени с момента создания запроса. Если приложение перезагрузить информацию о запросе не должна быть потеряна.      Например,  если через 30 секунд мы запросим информацию о статусе запроса   {   “query” : “1a98b57d-e090-4d18-8654-678e463b73e8”,   “percent”: 50,   “result”: null   }       если через 45 секунд   {   “query” : “1a98b57d-e090-4d18-8654-678e463b73e8”,   “percent”: 75,   “result”: null   }   если через 60 секунд   {   “query” : “1a98b57d-e090-4d18-8654-678e463b73e8”,   “percent”: 100,   “result”:   {   “user_id”: “b28d0ced-8af5-4c94-8650-c7946241fd1a”, “count_sign_in”:”12”   }   }       Желательно использовать ORM, структуру базы данных делать через миграции.    ",
         "1.0",
         "180.0",
         "5.19295685089021"
        ],
        [
         "45",
         "Системный администратор 2 категории",
         "Ленинский (Республика Саха (Якутия))",
         "Саханефтегазсбыт",
         null,
         "Обязанности:     Устанавливает на серверы и рабочие станции, операционные системы и необходимое для работы программное оборудование. Осуществляет конфигурацию программного обеспечения на серверах и рабочих станциях. Поддерживает в работоспособном состоянии программное обесречение серверов и рабочих станций, АРМ операторов АЗС филиала, систем видеонаблюдения филиала и АЗС.     Требования:     Образование высшее профильное (техническое) и стаж работы не менее 2 лет     Условия:     Полный рабочий день  ",
         "1.0",
         "90.402",
         "4.504266391047207"
        ],
        [
         "46",
         "Младший системный администратор",
         "Барнаул",
         "Барнаул-Моторс+",
         "Настройка ПК, Настройка ПО, Установка ПО, Техническая поддержка пользователей, Администрирование сетевого оборудования, Настройка почтовых серверов",
         "Привет, наш будущий коллега! Работа в нашей Компании - это возможность реализовать свои самые смелые профессиональные амбиции.   Компания \"Барнаул Моторс \" приглашает на работу МЛАДШЕГО СИСТЕМНОГО АДМИНИСТРАТОРА.   ВАША СФЕРА ОТВЕТСТВЕННОСТИ:     Подключение и настройка офисной техники (принтеры, сканеры, МФУ);   Обслуживание офисного парка техники компании и локальной сети   Прием и обработка заявок (техподдержка и консультации) от пользователей компании   Управление доступами пользователей в информационной системе компании (изменение прав доступа существующих пользователей, создание новых учетных записей)     ​​​​​ ЧТО НАМ ВАЖНО В ВАС:   - Знание серверных операционных систем (windows, linux)   - Поддержание работоспособности ЛВС, IP телефонии (Asterisk), видеонаблюдения (VeSTA), СКУД   - Обеспечение бесперебойной работы серверов, корпоративных сетей (LAN, VPN,).   - Знание принципов технологического обслуживания и ремонта ПК и оргтехники.   -Опыт администрирования доменов, распределения прав доступа; - Знание аппаратного и программного обеспечения серверов, сетей, рабочих станций. - Знание принципов построения и монтажа локальных сетей.   - Знание операционных систем Windows XP/7/10, офисного ПО.   - Приветствуются навыки конфигурирования ATC Panasonic KX-TDA 200.   - Опыт работы с кассовым оборудованием АТОЛ (ККМ, сканеры штрих-кода)   - Ответственность, пунктуальность, хорошие коммуникативные навыки.   ЧТО МЫ ПРЕДОСТАВЛЯЕМ:     Вводное обучение с наставником на этапе адаптации;   График 5/2 с 09.00 до 18.00;   Трудоустройство согласно ТК РФ, оплачиваемый отпуск и больничный;   Зона отдыха;   Современные и комфортные условия труда.  ",
         "1.0",
         "50.0",
         "3.912023005428146"
        ],
        [
         "47",
         "Флорист",
         "Москва",
         "ЦВЕТОБУМ",
         null,
         "Обязанности:     принимать, зачищать и расставлять цветы в холодильнике;   собирать и упаковывать букеты и композиции разной сложности;   создавать новые линейки букетов;   консультация клиентов и помощь в выборе;   участвовать в съемках для соцсетей;   поддерживать чистоту и порядок в салоне;   ведение учета в программе posiflora.     Требования:     опыт работы флористом от одного года;   портфолио (фото букетов);   владение разными техниками сборки букетов.     Условия:     сменный график 2/2 или 2/1;   работа в уютном салоне;   ЗП: 3500-4000 за смену.  ",
         "1.0",
         "60.0",
         "4.0943445622221"
        ],
        [
         "48",
         "Backend разработчик",
         "Тула",
         "СофтЭксперт, г. Тула",
         "Веб-программирование, HTML, JavaScript, CSS, MySQL, Разработка ПО, C#, C++, ООП, MS SQL, Java, ASP.NET, .NET Framework, MVC",
         "Группа компаний \"СофтЭксперт\" - крупнейший ИТ-интегратор в ЦФО, работающий с 1999 года, приглашает на работу Backend разработчика.   Обязанности:       разработка и поддержка решений на C#, ASP.NET MVC, ASP.NET Core, WEB API в рамках проектов компании,       участие в обсуждениях архитектуры приложений и оценке задач.       Требования:       опыт проектирования, разработки, внедрения и сопровождения информационных систем,       понимание принципов ООП,       знание и опыт использования технологий: С#, ASP.NET MVC,ASP.NET Core, WinForms, WebAPI, Entity Framework,       знание реляционных SQL баз данных,       владение английским языком на уровне чтения технической документации,       умение работать в команде, инициативность, желание непрерывно развиваться и развивать техническую составляющую проекта,       приветствуется знание PHP, JAVA.       Условия:     оформление по ТК РФ, социальный пакет,   возможность профессионального роста,   обучение и сертификация за счёт компании,   корпоративные праздники и подарки для сотрудников и их детей,   дружный коллектив единомышленников,   новый современный офис,   открытие вакансии планируется в связи с расширением штата.  ",
         "1.0",
         "120.0",
         "4.787491742782046"
        ],
        [
         "49",
         "Заместитель начальника управления информационных технологий и телекоммуникаций",
         "Магнитогорск",
         "Администрация города Магнитогорска",
         null,
         "Обязанности:       распределяет должностные обязанности между отделами Управления, дает поручения начальникам отделов;       обеспечивает выполнение задач, возложенных на Управление;       составляет проект годового плана работы Управления;         управляет процессами разработки, внедрения и обеспечения непрерывного совершенствования деятельности в области информационных технологий;   разрабатывает стратегические направления деятельности в сфере информационных технологий;   управляет IT -обеспечением и развитием IT -инфраструктуры и архитектуры;   принимает участие в реализации национальных проектов стратегического развития России в сфере информационных технологий;   обеспечивает организацию работ при выполнении мероприятий по внедрению новых технологий;   представляет интересы администрации города по вопросам информатизации;   согласовывает проектные документы по приобретению программно-технических средств, за счет средств городского бюджета и предназначенных для нужд администрации города;   должен обладать знанием принципов цифровой трансформации.     Требования:   Высшее профессиональное образование и стаж муниципальной службы не менее трех лет или стаж работы по специальности не менее трех лет.   Условия:     полная занятость;   официальное трудоустройство согласно ТК РФ;   график работы 5/2;   оплачиваемый отпуск и больничный.      ",
         "3.0",
         "90.0",
         "4.499809670330265"
        ]
       ],
       "shape": {
        "columns": 8,
        "rows": 16667
       }
      },
      "text/html": [
       "<div>\n",
       "<style scoped>\n",
       "    .dataframe tbody tr th:only-of-type {\n",
       "        vertical-align: middle;\n",
       "    }\n",
       "\n",
       "    .dataframe tbody tr th {\n",
       "        vertical-align: top;\n",
       "    }\n",
       "\n",
       "    .dataframe thead th {\n",
       "        text-align: right;\n",
       "    }\n",
       "</style>\n",
       "<table border=\"1\" class=\"dataframe\">\n",
       "  <thead>\n",
       "    <tr style=\"text-align: right;\">\n",
       "      <th></th>\n",
       "      <th>title</th>\n",
       "      <th>location</th>\n",
       "      <th>company</th>\n",
       "      <th>skills</th>\n",
       "      <th>description</th>\n",
       "      <th>experience_from</th>\n",
       "      <th>salary_from</th>\n",
       "      <th>log_salary_from</th>\n",
       "    </tr>\n",
       "  </thead>\n",
       "  <tbody>\n",
       "    <tr>\n",
       "      <th>0</th>\n",
       "      <td>Специалист технической поддержки</td>\n",
       "      <td>Воронеж</td>\n",
       "      <td>ВКТМ</td>\n",
       "      <td>NaN</td>\n",
       "      <td>Обязанности:     Обеспечение бесперебойной раб...</td>\n",
       "      <td>1.0</td>\n",
       "      <td>60.0</td>\n",
       "      <td>4.094345</td>\n",
       "    </tr>\n",
       "    <tr>\n",
       "      <th>1</th>\n",
       "      <td>Product Owner в ИТ-стартап (B2C)</td>\n",
       "      <td>Москва</td>\n",
       "      <td>Radium Finance</td>\n",
       "      <td>CustDev, Стратегический менеджмент, Управление...</td>\n",
       "      <td>Эта вакансия про тебя, если симбиоз управленче...</td>\n",
       "      <td>6.0</td>\n",
       "      <td>200.0</td>\n",
       "      <td>5.298317</td>\n",
       "    </tr>\n",
       "    <tr>\n",
       "      <th>2</th>\n",
       "      <td>Системный администратор ( Клинический Госпитал...</td>\n",
       "      <td>Москва</td>\n",
       "      <td>Медскан</td>\n",
       "      <td>NaN</td>\n",
       "      <td>АО «Медскан» – динамично развивающаяся группа ...</td>\n",
       "      <td>1.0</td>\n",
       "      <td>130.0</td>\n",
       "      <td>4.867534</td>\n",
       "    </tr>\n",
       "    <tr>\n",
       "      <th>3</th>\n",
       "      <td>Системный Администратор Linux</td>\n",
       "      <td>Москва</td>\n",
       "      <td>Selecty</td>\n",
       "      <td>Linux, PostgreSQL</td>\n",
       "      <td>Задачи:     Администрирование инфраструктуры н...</td>\n",
       "      <td>3.0</td>\n",
       "      <td>170.0</td>\n",
       "      <td>5.135798</td>\n",
       "    </tr>\n",
       "    <tr>\n",
       "      <th>4</th>\n",
       "      <td>Начальник участка общестроительных работ</td>\n",
       "      <td>Пушкино (Московская область)</td>\n",
       "      <td>NK GROUP</td>\n",
       "      <td>NaN</td>\n",
       "      <td>NK Group  – ведущий девелопер индустриальных о...</td>\n",
       "      <td>3.0</td>\n",
       "      <td>200.0</td>\n",
       "      <td>5.298317</td>\n",
       "    </tr>\n",
       "    <tr>\n",
       "      <th>...</th>\n",
       "      <td>...</td>\n",
       "      <td>...</td>\n",
       "      <td>...</td>\n",
       "      <td>...</td>\n",
       "      <td>...</td>\n",
       "      <td>...</td>\n",
       "      <td>...</td>\n",
       "      <td>...</td>\n",
       "    </tr>\n",
       "    <tr>\n",
       "      <th>16662</th>\n",
       "      <td>Младший системный администратор (технический с...</td>\n",
       "      <td>Москва</td>\n",
       "      <td>АйПиМатика</td>\n",
       "      <td>NaN</td>\n",
       "      <td>Мы - активно растущий Value added дистрибьютор...</td>\n",
       "      <td>1.0</td>\n",
       "      <td>90.0</td>\n",
       "      <td>4.499810</td>\n",
       "    </tr>\n",
       "    <tr>\n",
       "      <th>16663</th>\n",
       "      <td>PHP-разработчик (1С-Битрикс)</td>\n",
       "      <td>Барнаул</td>\n",
       "      <td>Киберия</td>\n",
       "      <td>PHP, MySQL, PostgreSQL, Docker, Git, 1С-Битрик...</td>\n",
       "      <td>Привет! Мы, Киберия – активно развивающаяся ко...</td>\n",
       "      <td>1.0</td>\n",
       "      <td>60.0</td>\n",
       "      <td>4.094345</td>\n",
       "    </tr>\n",
       "    <tr>\n",
       "      <th>16664</th>\n",
       "      <td>Разработчик 1С</td>\n",
       "      <td>Москва</td>\n",
       "      <td>Lerteco</td>\n",
       "      <td>1С программирование, 1С: Бухгалтерия, 1С: Пред...</td>\n",
       "      <td>В крупном холдинге-лидере цифровых решений во ...</td>\n",
       "      <td>3.0</td>\n",
       "      <td>340.0</td>\n",
       "      <td>5.828946</td>\n",
       "    </tr>\n",
       "    <tr>\n",
       "      <th>16665</th>\n",
       "      <td>Менеджер IT-проектов</td>\n",
       "      <td>Курск</td>\n",
       "      <td>Пластилин-арт (Осипов Ю.В.)</td>\n",
       "      <td>CRM, Битрикс24, Управление интернет-проектами,...</td>\n",
       "      <td>Пластилин-арт  специализируется на разработке ...</td>\n",
       "      <td>1.0</td>\n",
       "      <td>45.0</td>\n",
       "      <td>3.806662</td>\n",
       "    </tr>\n",
       "    <tr>\n",
       "      <th>16666</th>\n",
       "      <td>Инженер технической поддержки</td>\n",
       "      <td>Липецк</td>\n",
       "      <td>IT-Лидер</td>\n",
       "      <td>Администрирование сетевого оборудования, Ремон...</td>\n",
       "      <td>Ищем трудолюбивого и ответственного сотрудника...</td>\n",
       "      <td>3.0</td>\n",
       "      <td>40.0</td>\n",
       "      <td>3.688879</td>\n",
       "    </tr>\n",
       "  </tbody>\n",
       "</table>\n",
       "<p>16667 rows × 8 columns</p>\n",
       "</div>"
      ],
      "text/plain": [
       "                                                   title  \\\n",
       "0                       Специалист технической поддержки   \n",
       "1                       Product Owner в ИТ-стартап (B2C)   \n",
       "2      Системный администратор ( Клинический Госпитал...   \n",
       "3                          Системный Администратор Linux   \n",
       "4               Начальник участка общестроительных работ   \n",
       "...                                                  ...   \n",
       "16662  Младший системный администратор (технический с...   \n",
       "16663                       PHP-разработчик (1С-Битрикс)   \n",
       "16664                                     Разработчик 1С   \n",
       "16665                               Менеджер IT-проектов   \n",
       "16666                      Инженер технической поддержки   \n",
       "\n",
       "                           location                      company  \\\n",
       "0                           Воронеж                         ВКТМ   \n",
       "1                            Москва               Radium Finance   \n",
       "2                            Москва                      Медскан   \n",
       "3                            Москва                      Selecty   \n",
       "4      Пушкино (Московская область)                     NK GROUP   \n",
       "...                             ...                          ...   \n",
       "16662                        Москва                   АйПиМатика   \n",
       "16663                       Барнаул                      Киберия   \n",
       "16664                        Москва                      Lerteco   \n",
       "16665                         Курск  Пластилин-арт (Осипов Ю.В.)   \n",
       "16666                        Липецк                     IT-Лидер   \n",
       "\n",
       "                                                  skills  \\\n",
       "0                                                    NaN   \n",
       "1      CustDev, Стратегический менеджмент, Управление...   \n",
       "2                                                    NaN   \n",
       "3                                      Linux, PostgreSQL   \n",
       "4                                                    NaN   \n",
       "...                                                  ...   \n",
       "16662                                                NaN   \n",
       "16663  PHP, MySQL, PostgreSQL, Docker, Git, 1С-Битрик...   \n",
       "16664  1С программирование, 1С: Бухгалтерия, 1С: Пред...   \n",
       "16665  CRM, Битрикс24, Управление интернет-проектами,...   \n",
       "16666  Администрирование сетевого оборудования, Ремон...   \n",
       "\n",
       "                                             description  experience_from  \\\n",
       "0      Обязанности:     Обеспечение бесперебойной раб...              1.0   \n",
       "1      Эта вакансия про тебя, если симбиоз управленче...              6.0   \n",
       "2      АО «Медскан» – динамично развивающаяся группа ...              1.0   \n",
       "3      Задачи:     Администрирование инфраструктуры н...              3.0   \n",
       "4      NK Group  – ведущий девелопер индустриальных о...              3.0   \n",
       "...                                                  ...              ...   \n",
       "16662  Мы - активно растущий Value added дистрибьютор...              1.0   \n",
       "16663  Привет! Мы, Киберия – активно развивающаяся ко...              1.0   \n",
       "16664  В крупном холдинге-лидере цифровых решений во ...              3.0   \n",
       "16665  Пластилин-арт  специализируется на разработке ...              1.0   \n",
       "16666  Ищем трудолюбивого и ответственного сотрудника...              3.0   \n",
       "\n",
       "       salary_from  log_salary_from  \n",
       "0             60.0         4.094345  \n",
       "1            200.0         5.298317  \n",
       "2            130.0         4.867534  \n",
       "3            170.0         5.135798  \n",
       "4            200.0         5.298317  \n",
       "...            ...              ...  \n",
       "16662         90.0         4.499810  \n",
       "16663         60.0         4.094345  \n",
       "16664        340.0         5.828946  \n",
       "16665         45.0         3.806662  \n",
       "16666         40.0         3.688879  \n",
       "\n",
       "[16667 rows x 8 columns]"
      ]
     },
     "execution_count": 13,
     "metadata": {},
     "output_type": "execute_result"
    }
   ],
   "source": [
    "df_train"
   ]
  },
  {
   "cell_type": "code",
   "execution_count": 33,
   "id": "47b7e9ad",
   "metadata": {},
   "outputs": [
    {
     "data": {
      "text/plain": [
       "9890"
      ]
     },
     "execution_count": 33,
     "metadata": {},
     "output_type": "execute_result"
    }
   ],
   "source": [
    "df_train[\"title\"].nunique()"
   ]
  },
  {
   "cell_type": "markdown",
   "id": "e06fe41f",
   "metadata": {},
   "source": [
    "# 2. Статистики и распределения\n",
    "## 2.1. Word-skills в вакансиях "
   ]
  },
  {
   "cell_type": "code",
   "execution_count": 57,
   "id": "7e83c364",
   "metadata": {},
   "outputs": [
    {
     "name": "stdout",
     "output_type": "stream",
     "text": [
      "Количество уникальных записей по skills: (7576,)\n"
     ]
    }
   ],
   "source": [
    "skill_counts_in_vac = df_train[\"skills\"].str.split(\",\").explode().str.lower().str.strip().value_counts()\n",
    "\n",
    "print(f\"Количество уникальных записей по skills: {skill_counts_in_vac.shape}\")"
   ]
  },
  {
   "cell_type": "code",
   "execution_count": 9,
   "id": "a94c53fd",
   "metadata": {},
   "outputs": [
    {
     "name": "stdout",
     "output_type": "stream",
     "text": [
      "[2025-07-13 14:55:09] - root - INFO - [CLEARML] Table 'Word-skills в вакансиях' logged with shape (7576, 2)\n"
     ]
    },
    {
     "data": {
      "application/vnd.microsoft.datawrangler.viewer.v0+json": {
       "columns": [
        {
         "name": "skills",
         "rawType": "object",
         "type": "string"
        },
        {
         "name": "count",
         "rawType": "int64",
         "type": "integer"
        }
       ],
       "ref": "a9666536-0c46-4393-bf05-3a392d7e7809",
       "rows": [
        [
         "sql",
         "1042"
        ],
        [
         "linux",
         "891"
        ],
        [
         "техническая поддержка",
         "737"
        ],
        [
         "git",
         "726"
        ],
        [
         "1с программирование",
         "715"
        ],
        [
         "настройка пк",
         "693"
        ],
        [
         "настройка сетевых подключений",
         "656"
        ],
        [
         "adobe photoshop",
         "646"
        ],
        [
         "работа в команде",
         "627"
        ],
        [
         "администрирование сетевого оборудования",
         "616"
        ],
        [
         "postgresql",
         "602"
        ],
        [
         "python",
         "598"
        ],
        [
         "грамотная речь",
         "590"
        ],
        [
         "настройка по",
         "550"
        ],
        [
         "1с: предприятие 8",
         "548"
        ],
        [
         "работа с большим объемом информации",
         "509"
        ],
        [
         "javascript",
         "496"
        ],
        [
         "аналитическое мышление",
         "487"
        ],
        [
         "деловая коммуникация",
         "469"
        ],
        [
         "пользователь пк",
         "464"
        ]
       ],
       "shape": {
        "columns": 1,
        "rows": 20
       }
      },
      "text/plain": [
       "skills\n",
       "sql                                        1042\n",
       "linux                                       891\n",
       "техническая поддержка                       737\n",
       "git                                         726\n",
       "1с программирование                         715\n",
       "настройка пк                                693\n",
       "настройка сетевых подключений               656\n",
       "adobe photoshop                             646\n",
       "работа в команде                            627\n",
       "администрирование сетевого оборудования     616\n",
       "postgresql                                  602\n",
       "python                                      598\n",
       "грамотная речь                              590\n",
       "настройка по                                550\n",
       "1с: предприятие 8                           548\n",
       "работа с большим объемом информации         509\n",
       "javascript                                  496\n",
       "аналитическое мышление                      487\n",
       "деловая коммуникация                        469\n",
       "пользователь пк                             464\n",
       "Name: count, dtype: int64"
      ]
     },
     "execution_count": 9,
     "metadata": {},
     "output_type": "execute_result"
    }
   ],
   "source": [
    "experiment_track.log_table(\"Word-skills в вакансиях\", series=\"\", table=skill_counts_in_vac.reset_index())\n",
    "skill_counts_in_vac.head(20)"
   ]
  },
  {
   "cell_type": "markdown",
   "id": "ef1977fe",
   "metadata": {},
   "source": [
    "### **Выводы**\n",
    "Попробовать разделять word-skills:\n",
    "- только по запятой\n",
    "- по запятой и **\"/\"** (Но тут надо решить, что именно можно разделять через **\"/\"**, т.к., например, *a/b тестирование* **нельзя** так разделять)\n",
    "\n",
    "Стоит ли учитывать семантические близкие скиллы? Если да, то тогда надо натренировать свой w2v, либо найти готовую модель, который может померять близость скиллов.\n",
    "\n",
    "Имеется в одной вакансии такие skills-word :)\n",
    "- потанцуем румбу\n",
    "- сколько времени?\n",
    "- гулять?\n",
    "- время кончилось"
   ]
  },
  {
   "cell_type": "markdown",
   "id": "c2aecd31",
   "metadata": {},
   "source": [
    "## 2.2. Локации в вакансиях"
   ]
  },
  {
   "cell_type": "code",
   "execution_count": 56,
   "id": "a70c5a75",
   "metadata": {},
   "outputs": [
    {
     "name": "stdout",
     "output_type": "stream",
     "text": [
      "Количество уникальных записей по location: (558,)\n"
     ]
    }
   ],
   "source": [
    "location_in_vac = df_train[\"location\"].str.lower().str.strip().value_counts()\n",
    "\n",
    "print(f\"Количество уникальных записей по location: {location_in_vac.shape}\")"
   ]
  },
  {
   "cell_type": "code",
   "execution_count": 32,
   "id": "8c21bdca",
   "metadata": {},
   "outputs": [
    {
     "name": "stdout",
     "output_type": "stream",
     "text": [
      "[2025-07-13 18:27:02] - root - INFO - [CLEARML] Table 'Локации в вакансиях' logged with shape (558, 2)\n"
     ]
    },
    {
     "data": {
      "application/vnd.microsoft.datawrangler.viewer.v0+json": {
       "columns": [
        {
         "name": "location",
         "rawType": "object",
         "type": "string"
        },
        {
         "name": "count",
         "rawType": "int64",
         "type": "integer"
        }
       ],
       "ref": "8478573c-339a-43f5-bbc6-bbd9970cab84",
       "rows": [
        [
         "москва",
         "4933"
        ],
        [
         "санкт-петербург",
         "1764"
        ],
        [
         "екатеринбург",
         "570"
        ],
        [
         "новосибирск",
         "413"
        ],
        [
         "краснодар",
         "406"
        ],
        [
         "казань",
         "405"
        ],
        [
         "нижний новгород",
         "322"
        ],
        [
         "ростов-на-дону",
         "281"
        ],
        [
         "челябинск",
         "269"
        ],
        [
         "воронеж",
         "251"
        ],
        [
         "владивосток",
         "246"
        ],
        [
         "красноярск",
         "235"
        ],
        [
         "пермь",
         "212"
        ],
        [
         "уфа",
         "199"
        ],
        [
         "самара",
         "190"
        ],
        [
         "тюмень",
         "175"
        ],
        [
         "ярославль",
         "141"
        ],
        [
         "барнаул",
         "138"
        ],
        [
         "хабаровск",
         "137"
        ],
        [
         "томск",
         "136"
        ]
       ],
       "shape": {
        "columns": 1,
        "rows": 20
       }
      },
      "text/plain": [
       "location\n",
       "москва             4933\n",
       "санкт-петербург    1764\n",
       "екатеринбург        570\n",
       "новосибирск         413\n",
       "краснодар           406\n",
       "казань              405\n",
       "нижний новгород     322\n",
       "ростов-на-дону      281\n",
       "челябинск           269\n",
       "воронеж             251\n",
       "владивосток         246\n",
       "красноярск          235\n",
       "пермь               212\n",
       "уфа                 199\n",
       "самара              190\n",
       "тюмень              175\n",
       "ярославль           141\n",
       "барнаул             138\n",
       "хабаровск           137\n",
       "томск               136\n",
       "Name: count, dtype: int64"
      ]
     },
     "execution_count": 32,
     "metadata": {},
     "output_type": "execute_result"
    }
   ],
   "source": [
    "experiment_track.log_table(title=\"Локации в вакансиях\", series=\"\", table=location_in_vac.reset_index())\n",
    "\n",
    "location_in_vac.head(20)"
   ]
  },
  {
   "cell_type": "markdown",
   "id": "a0ef9406",
   "metadata": {},
   "source": [
    "### **Выводы**:\n",
    "- Явно стоит чистить от станций метро в скобках, но оставлять области\n",
    "- Также можно добавить области тем населенным пунктам, в которых явно не указано это.\n",
    "    - Можно брать область из *api hh*, но только для не областных городов.\n",
    "    - Найти другое бесплатное *api* или справочник"
   ]
  },
  {
   "cell_type": "markdown",
   "id": "414c7370",
   "metadata": {},
   "source": [
    "## 2.3. Названия компаний"
   ]
  },
  {
   "cell_type": "code",
   "execution_count": 59,
   "id": "40729fda",
   "metadata": {},
   "outputs": [
    {
     "name": "stdout",
     "output_type": "stream",
     "text": [
      "Количество уникальных записей по company: (9815,)\n"
     ]
    }
   ],
   "source": [
    "company_in_vac = df_train[\"company\"].str.lower().str.strip().value_counts()\n",
    "\n",
    "print(f\"Количество уникальных записей по company: {company_in_vac.shape}\")"
   ]
  },
  {
   "cell_type": "code",
   "execution_count": 36,
   "id": "078776ce",
   "metadata": {},
   "outputs": [
    {
     "name": "stdout",
     "output_type": "stream",
     "text": [
      "[2025-07-13 18:57:06] - root - INFO - [CLEARML] Table 'Названия компаний в вакансиях' logged with shape (9815, 2)\n"
     ]
    },
    {
     "data": {
      "application/vnd.microsoft.datawrangler.viewer.v0+json": {
       "columns": [
        {
         "name": "company",
         "rawType": "object",
         "type": "string"
        },
        {
         "name": "count",
         "rawType": "int64",
         "type": "integer"
        }
       ],
       "ref": "f05ff0be-29b8-4518-aae7-31bad0ef671e",
       "rows": [
        [
         "ростелеком",
         "128"
        ],
        [
         "т-банк",
         "118"
        ],
        [
         "первый бит",
         "112"
        ],
        [
         "мтс",
         "60"
        ],
        [
         "сбер",
         "52"
        ],
        [
         "getmatch agency",
         "48"
        ],
        [
         "тензор",
         "45"
        ],
        [
         "магнит, розничная сеть",
         "42"
        ],
        [
         "яндекс (поисковый портал)",
         "39"
        ],
        [
         "dns технологии",
         "37"
        ],
        [
         "1c-рарус",
         "33"
        ],
        [
         "назаренко сергей александрович",
         "33"
        ],
        [
         "дом.ру",
         "33"
        ],
        [
         "скб приморья примсоцбанк",
         "30"
        ],
        [
         "иннотех",
         "30"
        ],
        [
         "т1",
         "30"
        ],
        [
         "гринатом",
         "30"
        ],
        [
         "иващенко анатолий андреевич",
         "30"
        ],
        [
         "softmaster",
         "30"
        ],
        [
         "почта россии",
         "29"
        ]
       ],
       "shape": {
        "columns": 1,
        "rows": 20
       }
      },
      "text/plain": [
       "company\n",
       "ростелеком                        128\n",
       "т-банк                            118\n",
       "первый бит                        112\n",
       "мтс                                60\n",
       "сбер                               52\n",
       "getmatch agency                    48\n",
       "тензор                             45\n",
       "магнит, розничная сеть             42\n",
       "яндекс (поисковый портал)          39\n",
       "dns технологии                     37\n",
       "1c-рарус                           33\n",
       "назаренко сергей александрович     33\n",
       "дом.ру                             33\n",
       "скб приморья примсоцбанк           30\n",
       "иннотех                            30\n",
       "т1                                 30\n",
       "гринатом                           30\n",
       "иващенко анатолий андреевич        30\n",
       "softmaster                         30\n",
       "почта россии                       29\n",
       "Name: count, dtype: int64"
      ]
     },
     "execution_count": 36,
     "metadata": {},
     "output_type": "execute_result"
    }
   ],
   "source": [
    "experiment_track.log_table(title=\"Названия компаний в вакансиях\", series=\"\", table=company_in_vac.reset_index())\n",
    "\n",
    "company_in_vac.head(20)"
   ]
  },
  {
   "cell_type": "markdown",
   "id": "911269fd",
   "metadata": {},
   "source": [
    "### **Выводы**:\n",
    "- Названия компаний дают в целом мало какой-то обощающей способоности. Модели, скорей всего, будут переобучаться на данной информации. По возможности лучше исключить.\n",
    "- Можно доставать признак: род деятельности компании (специализация) по *api hh*"
   ]
  },
  {
   "cell_type": "markdown",
   "id": "e9e8b854",
   "metadata": {},
   "source": [
    "## 2.4. Нижняя граница предлагаемого диапазона заработной платы"
   ]
  },
  {
   "cell_type": "code",
   "execution_count": 61,
   "id": "9bb1a6d3",
   "metadata": {},
   "outputs": [
    {
     "data": {
      "application/vnd.microsoft.datawrangler.viewer.v0+json": {
       "columns": [
        {
         "name": "index",
         "rawType": "object",
         "type": "string"
        },
        {
         "name": "salary_from",
         "rawType": "float64",
         "type": "float"
        },
        {
         "name": "log_salary_from",
         "rawType": "float64",
         "type": "float"
        }
       ],
       "ref": "b6f7721d-9c80-4e03-b473-df976ab4a4c6",
       "rows": [
        [
         "count",
         "16667.0",
         "16667.0"
        ],
        [
         "mean",
         "111.98005243895122",
         "4.516522733203528"
        ],
        [
         "std",
         "77.47403536598004",
         "0.6297849572589448"
        ],
        [
         "min",
         "5.1",
         "1.62924053973028"
        ],
        [
         "25%",
         "60.0",
         "4.0943445622221"
        ],
        [
         "50%",
         "90.0",
         "4.499809670330265"
        ],
        [
         "75%",
         "150.0",
         "5.010635294096256"
        ],
        [
         "max",
         "1000.0",
         "6.907755278982137"
        ]
       ],
       "shape": {
        "columns": 2,
        "rows": 8
       }
      },
      "text/html": [
       "<div>\n",
       "<style scoped>\n",
       "    .dataframe tbody tr th:only-of-type {\n",
       "        vertical-align: middle;\n",
       "    }\n",
       "\n",
       "    .dataframe tbody tr th {\n",
       "        vertical-align: top;\n",
       "    }\n",
       "\n",
       "    .dataframe thead th {\n",
       "        text-align: right;\n",
       "    }\n",
       "</style>\n",
       "<table border=\"1\" class=\"dataframe\">\n",
       "  <thead>\n",
       "    <tr style=\"text-align: right;\">\n",
       "      <th></th>\n",
       "      <th>salary_from</th>\n",
       "      <th>log_salary_from</th>\n",
       "    </tr>\n",
       "  </thead>\n",
       "  <tbody>\n",
       "    <tr>\n",
       "      <th>count</th>\n",
       "      <td>16667.000000</td>\n",
       "      <td>16667.000000</td>\n",
       "    </tr>\n",
       "    <tr>\n",
       "      <th>mean</th>\n",
       "      <td>111.980052</td>\n",
       "      <td>4.516523</td>\n",
       "    </tr>\n",
       "    <tr>\n",
       "      <th>std</th>\n",
       "      <td>77.474035</td>\n",
       "      <td>0.629785</td>\n",
       "    </tr>\n",
       "    <tr>\n",
       "      <th>min</th>\n",
       "      <td>5.100000</td>\n",
       "      <td>1.629241</td>\n",
       "    </tr>\n",
       "    <tr>\n",
       "      <th>25%</th>\n",
       "      <td>60.000000</td>\n",
       "      <td>4.094345</td>\n",
       "    </tr>\n",
       "    <tr>\n",
       "      <th>50%</th>\n",
       "      <td>90.000000</td>\n",
       "      <td>4.499810</td>\n",
       "    </tr>\n",
       "    <tr>\n",
       "      <th>75%</th>\n",
       "      <td>150.000000</td>\n",
       "      <td>5.010635</td>\n",
       "    </tr>\n",
       "    <tr>\n",
       "      <th>max</th>\n",
       "      <td>1000.000000</td>\n",
       "      <td>6.907755</td>\n",
       "    </tr>\n",
       "  </tbody>\n",
       "</table>\n",
       "</div>"
      ],
      "text/plain": [
       "        salary_from  log_salary_from\n",
       "count  16667.000000     16667.000000\n",
       "mean     111.980052         4.516523\n",
       "std       77.474035         0.629785\n",
       "min        5.100000         1.629241\n",
       "25%       60.000000         4.094345\n",
       "50%       90.000000         4.499810\n",
       "75%      150.000000         5.010635\n",
       "max     1000.000000         6.907755"
      ]
     },
     "execution_count": 61,
     "metadata": {},
     "output_type": "execute_result"
    }
   ],
   "source": [
    "df_train[[\"salary_from\", \"log_salary_from\"]].describe()"
   ]
  },
  {
   "cell_type": "code",
   "execution_count": 64,
   "id": "bf769671",
   "metadata": {},
   "outputs": [
    {
     "data": {
      "image/png": "[encoded data removed]",
      "text/plain": [
       "<Figure size 1000x600 with 2 Axes>"
      ]
     },
     "metadata": {},
     "output_type": "display_data"
    }
   ],
   "source": [
    "fig, axes = plt.subplots(1, 2, figsize=(10, 6))\n",
    "fig.suptitle('Распределение заработной платы (salary_from)', fontsize=16, fontweight='bold')\n",
    "\n",
    "sns.histplot(data=df_train, x='salary_from', bins=50, kde=True, ax=axes[0])\n",
    "axes[0].set_title('Гистограмма распределения зарплат')\n",
    "axes[0].set_xlabel('Зарплата (тыс. руб.)')\n",
    "axes[0].set_ylabel('Количество вакансий')\n",
    "axes[0].grid(True, alpha=0.3)\n",
    "\n",
    "sns.boxplot(data=df_train, y='salary_from', ax=axes[1])\n",
    "axes[1].set_title('Boxplot распределения зарплат')\n",
    "axes[1].set_ylabel('Зарплата (тыс. руб.)')\n",
    "axes[1].grid(True, alpha=0.3)\n",
    "\n",
    "experiment_track.logger.report_matplotlib_figure(\n",
    "    title=\"Распределение заработной платы\",\n",
    "    series=\"salary_from\",\n",
    "    figure=fig\n",
    ")\n",
    "\n",
    "plt.show()"
   ]
  },
  {
   "cell_type": "code",
   "execution_count": 65,
   "id": "709e26a2",
   "metadata": {},
   "outputs": [
    {
     "data": {
      "image/png": "[encoded data removed]",
      "text/plain": [
       "<Figure size 1000x600 with 2 Axes>"
      ]
     },
     "metadata": {},
     "output_type": "display_data"
    }
   ],
   "source": [
    "fig, axes = plt.subplots(1, 2, figsize=(10, 6))\n",
    "fig.suptitle('Распределение заработной платы в лог. шкале (log_salary_from)', fontsize=16, fontweight='bold')\n",
    "\n",
    "sns.histplot(data=df_train, x='log_salary_from', bins=50, kde=True, ax=axes[0])\n",
    "axes[0].set_title('Гистограмма распределения зарплат')\n",
    "axes[0].set_xlabel('Зарплата log(тыс. руб.)')\n",
    "axes[0].set_ylabel('Количество вакансий')\n",
    "axes[0].grid(True, alpha=0.3)\n",
    "\n",
    "sns.boxplot(data=df_train, y='log_salary_from', ax=axes[1])\n",
    "axes[1].set_title('Boxplot распределения зарплат')\n",
    "axes[1].set_ylabel('Зарплата log(тыс. руб.)')\n",
    "axes[1].grid(True, alpha=0.3)\n",
    "\n",
    "experiment_track.logger.report_matplotlib_figure(\n",
    "    title=\"Распределение заработной платы\",\n",
    "    series=\"log_salary_from\",\n",
    "    figure=fig\n",
    ")\n",
    "\n",
    "plt.show()"
   ]
  },
  {
   "cell_type": "markdown",
   "id": "781611b0",
   "metadata": {},
   "source": [
    "## 2.5. Минимальный требуемый опыт работы"
   ]
  },
  {
   "cell_type": "code",
   "execution_count": 72,
   "id": "319a10a8",
   "metadata": {},
   "outputs": [
    {
     "name": "stdout",
     "output_type": "stream",
     "text": [
      "[2025-07-13 19:35:17] - matplotlib.category - INFO - Using categorical units to plot a list of strings that are all parsable as floats or dates. If these strings should be plotted as numbers, cast to the appropriate data type before plotting.\n",
      "[2025-07-13 19:35:17] - matplotlib.category - INFO - Using categorical units to plot a list of strings that are all parsable as floats or dates. If these strings should be plotted as numbers, cast to the appropriate data type before plotting.\n",
      "[2025-07-13 19:35:17] - matplotlib.category - INFO - Using categorical units to plot a list of strings that are all parsable as floats or dates. If these strings should be plotted as numbers, cast to the appropriate data type before plotting.\n",
      "[2025-07-13 19:35:17] - matplotlib.category - INFO - Using categorical units to plot a list of strings that are all parsable as floats or dates. If these strings should be plotted as numbers, cast to the appropriate data type before plotting.\n"
     ]
    },
    {
     "data": {
      "image/png": "[encoded data removed]",
      "text/plain": [
       "<Figure size 1500x1000 with 2 Axes>"
      ]
     },
     "metadata": {},
     "output_type": "display_data"
    }
   ],
   "source": [
    "fig, axes = plt.subplots(1, 2, figsize=(15, 10))\n",
    "fig.suptitle('Анализ требуемого опыта работы', fontsize=16, fontweight='bold')\n",
    "\n",
    "sns.countplot(data=df_train, x='experience_from', ax=axes[0], order=sorted(df_train['experience_from'].unique()))\n",
    "axes[0].set_title('Распределение вакансий по требуемому опыту')\n",
    "axes[0].set_xlabel('Опыт работы (лет)')\n",
    "axes[0].set_ylabel('Количество вакансий')\n",
    "axes[0].grid(True, alpha=0.3)\n",
    "\n",
    "sns.boxplot(data=df_train, x='experience_from', y='salary_from', ax=axes[1])\n",
    "axes[1].set_title('Распределение зарплат по требуемому опыту')\n",
    "axes[1].set_xlabel('Опыт работы (лет)')\n",
    "axes[1].set_ylabel('Зарплата (руб.)')\n",
    "axes[1].grid(True, alpha=0.3)\n",
    "\n",
    "experiment_track.logger.report_matplotlib_figure(\n",
    "    title=\"Распределение вакансий по опыту работы и оплате\",\n",
    "    series=\"\",\n",
    "    figure=fig\n",
    ")\n",
    "\n",
    "plt.tight_layout()\n",
    "plt.show()"
   ]
  },
  {
   "cell_type": "markdown",
   "id": "3667ae7e",
   "metadata": {},
   "source": []
  },
  {
   "cell_type": "markdown",
   "id": "674fc5a7",
   "metadata": {},
   "source": []
  },
  {
   "cell_type": "markdown",
   "id": "853eca1e",
   "metadata": {},
   "source": [
    "- Текст придется резать на смысловые части. Есть несколько подходов\n",
    "    - Эвристиками и регулярками: ищем ключевые слова и делим на смысловые блоки\n",
    "    - Натренировать модель, которая будет определять эти блоки. Либо по всему тексту (NER), либо кусками подавать в модель (классификация)\n",
    "- Также надо предобработать текст, но пока неясно как\n",
    "\n",
    "### Api HH\n",
    "Поиск компании: `https://api.hh.ru/employers?text=...`  \n",
    "Информация о компании: `https://api.hh.ru/employers/{employer_id}`. Нужно поле *industries*   \n",
    "Справочник всех отраслей: `https://api.hh.ru/industries`  \n",
    "Поиск региона: `https://api.hh.ru/suggests/areas?text=...`  \n",
    "\n",
    "Поиск навыков по названию: `https://api.hh.ru/suggests/skill_set?text=...` - может быть пригодиться, но ищет очень плохо"
   ]
  },
  {
   "cell_type": "code",
   "execution_count": 73,
   "id": "36f4f6da",
   "metadata": {},
   "outputs": [
    {
     "name": "stdout",
     "output_type": "stream",
     "text": [
      "[2025-07-13 19:38:38] - root - INFO - [CLEARML] Closing task: 4e91330960084ef19a245a9d09a40353\n"
     ]
    }
   ],
   "source": [
    "experiment_track.close()"
   ]
  },
  {
   "cell_type": "code",
   "execution_count": null,
   "id": "f3905c2d",
   "metadata": {},
   "outputs": [],
   "source": []
  },
  {
   "cell_type": "code",
   "execution_count": 61,
   "id": "d16cacc3",
   "metadata": {},
   "outputs": [],
   "source": [
    "import requests\n",
    "import json\n",
    "from tqdm import tqdm"
   ]
  },
  {
   "cell_type": "code",
   "execution_count": 32,
   "id": "29bd6856",
   "metadata": {},
   "outputs": [],
   "source": [
    "df_train = pd.read_csv(data_path / \"train.csv\")"
   ]
  },
  {
   "cell_type": "code",
   "execution_count": 37,
   "id": "14d13a2a",
   "metadata": {},
   "outputs": [
    {
     "name": "stdout",
     "output_type": "stream",
     "text": [
      "Шахты\n"
     ]
    }
   ],
   "source": [
    "location = df_train.sample(1)[\"location\"].iloc[0]\n",
    "\n",
    "print(location)\n",
    "\n",
    "req = requests.get(f\"https://api.hh.ru/suggests/areas?text={location}\")"
   ]
  },
  {
   "cell_type": "code",
   "execution_count": 38,
   "id": "09ff1216",
   "metadata": {},
   "outputs": [
    {
     "data": {
      "text/plain": [
       "'{\"items\":[{\"id\":\"1552\",\"text\":\"Шахты\",\"url\":\"https://api.hh.ru/areas/1552\"},{\"id\":\"11697\",\"text\":\"Шахты Южная\",\"url\":\"https://api.hh.ru/areas/11697\"}]}'"
      ]
     },
     "execution_count": 38,
     "metadata": {},
     "output_type": "execute_result"
    }
   ],
   "source": [
    "req.text"
   ]
  },
  {
   "cell_type": "code",
   "execution_count": 66,
   "id": "ef7bc79c",
   "metadata": {},
   "outputs": [
    {
     "name": "stderr",
     "output_type": "stream",
     "text": [
      "  0%|          | 0/9866 [00:00<?, ?it/s]"
     ]
    },
    {
     "name": "stderr",
     "output_type": "stream",
     "text": [
      "  1%|          | 54/9866 [00:21<1:05:45,  2.49it/s]\n"
     ]
    },
    {
     "ename": "KeyboardInterrupt",
     "evalue": "",
     "output_type": "error",
     "traceback": [
      "\u001b[31m---------------------------------------------------------------------------\u001b[39m",
      "\u001b[31mKeyboardInterrupt\u001b[39m                         Traceback (most recent call last)",
      "\u001b[36mCell\u001b[39m\u001b[36m \u001b[39m\u001b[32mIn[66]\u001b[39m\u001b[32m, line 18\u001b[39m\n\u001b[32m     14\u001b[39m                 \u001b[38;5;28;01mreturn\u001b[39;00m c[\u001b[33m\"\u001b[39m\u001b[33murl\u001b[39m\u001b[33m\"\u001b[39m]\n\u001b[32m     17\u001b[39m \u001b[38;5;28;01mfor\u001b[39;00m row \u001b[38;5;129;01min\u001b[39;00m tqdm(df_train[\u001b[33m\"\u001b[39m\u001b[33mcompany\u001b[39m\u001b[33m\"\u001b[39m].unique()):\n\u001b[32m---> \u001b[39m\u001b[32m18\u001b[39m     companies_ulrs.append(\u001b[43msearch_company\u001b[49m\u001b[43m(\u001b[49m\u001b[43mrow\u001b[49m\u001b[43m)\u001b[49m)\n",
      "\u001b[36mCell\u001b[39m\u001b[36m \u001b[39m\u001b[32mIn[66]\u001b[39m\u001b[32m, line 4\u001b[39m, in \u001b[36msearch_company\u001b[39m\u001b[34m(company)\u001b[39m\n\u001b[32m      3\u001b[39m \u001b[38;5;28;01mdef\u001b[39;00m\u001b[38;5;250m \u001b[39m\u001b[34msearch_company\u001b[39m(company: \u001b[38;5;28mstr\u001b[39m):\n\u001b[32m----> \u001b[39m\u001b[32m4\u001b[39m     req = \u001b[43mrequests\u001b[49m\u001b[43m.\u001b[49m\u001b[43mget\u001b[49m\u001b[43m(\u001b[49m\u001b[33;43m\"\u001b[39;49m\u001b[33;43mhttps://api.hh.ru/employers\u001b[39;49m\u001b[33;43m\"\u001b[39;49m\u001b[43m,\u001b[49m\u001b[43m \u001b[49m\u001b[43mparams\u001b[49m\u001b[43m=\u001b[49m\u001b[43m{\u001b[49m\n\u001b[32m      5\u001b[39m \u001b[43m    \u001b[49m\u001b[33;43m\"\u001b[39;49m\u001b[33;43mtext\u001b[39;49m\u001b[33;43m\"\u001b[39;49m\u001b[43m:\u001b[49m\u001b[43m \u001b[49m\u001b[43mcompany\u001b[49m\u001b[43m,\u001b[49m\n\u001b[32m      6\u001b[39m \u001b[43m    \u001b[49m\u001b[33;43m\"\u001b[39;49m\u001b[33;43msort_by\u001b[39;49m\u001b[33;43m\"\u001b[39;49m\u001b[43m:\u001b[49m\u001b[43m \u001b[49m\u001b[33;43m\"\u001b[39;49m\u001b[33;43mby_vacancies_open\u001b[39;49m\u001b[33;43m\"\u001b[39;49m\u001b[43m,\u001b[49m\n\u001b[32m      7\u001b[39m \u001b[43m    \u001b[49m\u001b[33;43m\"\u001b[39;49m\u001b[33;43mper_page\u001b[39;49m\u001b[33;43m\"\u001b[39;49m\u001b[43m:\u001b[49m\u001b[43m \u001b[49m\u001b[32;43m20\u001b[39;49m\n\u001b[32m      8\u001b[39m \u001b[43m    \u001b[49m\u001b[43m}\u001b[49m\u001b[43m)\u001b[49m\n\u001b[32m     10\u001b[39m     companies: \u001b[38;5;28mdict\u001b[39m = json.loads(req.text)[\u001b[33m\"\u001b[39m\u001b[33mitems\u001b[39m\u001b[33m\"\u001b[39m]\n\u001b[32m     11\u001b[39m     \u001b[38;5;28;01mif\u001b[39;00m companies:\n",
      "\u001b[36mFile \u001b[39m\u001b[32m~/education/shad_mts/ml_dl/teta_nn_1_2025_predict_salary/.venv/lib/python3.12/site-packages/requests/api.py:73\u001b[39m, in \u001b[36mget\u001b[39m\u001b[34m(url, params, **kwargs)\u001b[39m\n\u001b[32m     62\u001b[39m \u001b[38;5;28;01mdef\u001b[39;00m\u001b[38;5;250m \u001b[39m\u001b[34mget\u001b[39m(url, params=\u001b[38;5;28;01mNone\u001b[39;00m, **kwargs):\n\u001b[32m     63\u001b[39m \u001b[38;5;250m    \u001b[39m\u001b[33mr\u001b[39m\u001b[33;03m\"\"\"Sends a GET request.\u001b[39;00m\n\u001b[32m     64\u001b[39m \n\u001b[32m     65\u001b[39m \u001b[33;03m    :param url: URL for the new :class:`Request` object.\u001b[39;00m\n\u001b[32m   (...)\u001b[39m\u001b[32m     70\u001b[39m \u001b[33;03m    :rtype: requests.Response\u001b[39;00m\n\u001b[32m     71\u001b[39m \u001b[33;03m    \"\"\"\u001b[39;00m\n\u001b[32m---> \u001b[39m\u001b[32m73\u001b[39m     \u001b[38;5;28;01mreturn\u001b[39;00m \u001b[43mrequest\u001b[49m\u001b[43m(\u001b[49m\u001b[33;43m\"\u001b[39;49m\u001b[33;43mget\u001b[39;49m\u001b[33;43m\"\u001b[39;49m\u001b[43m,\u001b[49m\u001b[43m \u001b[49m\u001b[43murl\u001b[49m\u001b[43m,\u001b[49m\u001b[43m \u001b[49m\u001b[43mparams\u001b[49m\u001b[43m=\u001b[49m\u001b[43mparams\u001b[49m\u001b[43m,\u001b[49m\u001b[43m \u001b[49m\u001b[43m*\u001b[49m\u001b[43m*\u001b[49m\u001b[43mkwargs\u001b[49m\u001b[43m)\u001b[49m\n",
      "\u001b[36mFile \u001b[39m\u001b[32m~/education/shad_mts/ml_dl/teta_nn_1_2025_predict_salary/.venv/lib/python3.12/site-packages/requests/api.py:59\u001b[39m, in \u001b[36mrequest\u001b[39m\u001b[34m(method, url, **kwargs)\u001b[39m\n\u001b[32m     55\u001b[39m \u001b[38;5;66;03m# By using the 'with' statement we are sure the session is closed, thus we\u001b[39;00m\n\u001b[32m     56\u001b[39m \u001b[38;5;66;03m# avoid leaving sockets open which can trigger a ResourceWarning in some\u001b[39;00m\n\u001b[32m     57\u001b[39m \u001b[38;5;66;03m# cases, and look like a memory leak in others.\u001b[39;00m\n\u001b[32m     58\u001b[39m \u001b[38;5;28;01mwith\u001b[39;00m sessions.Session() \u001b[38;5;28;01mas\u001b[39;00m session:\n\u001b[32m---> \u001b[39m\u001b[32m59\u001b[39m     \u001b[38;5;28;01mreturn\u001b[39;00m \u001b[43msession\u001b[49m\u001b[43m.\u001b[49m\u001b[43mrequest\u001b[49m\u001b[43m(\u001b[49m\u001b[43mmethod\u001b[49m\u001b[43m=\u001b[49m\u001b[43mmethod\u001b[49m\u001b[43m,\u001b[49m\u001b[43m \u001b[49m\u001b[43murl\u001b[49m\u001b[43m=\u001b[49m\u001b[43murl\u001b[49m\u001b[43m,\u001b[49m\u001b[43m \u001b[49m\u001b[43m*\u001b[49m\u001b[43m*\u001b[49m\u001b[43mkwargs\u001b[49m\u001b[43m)\u001b[49m\n",
      "\u001b[36mFile \u001b[39m\u001b[32m~/education/shad_mts/ml_dl/teta_nn_1_2025_predict_salary/.venv/lib/python3.12/site-packages/requests/sessions.py:589\u001b[39m, in \u001b[36mSession.request\u001b[39m\u001b[34m(self, method, url, params, data, headers, cookies, files, auth, timeout, allow_redirects, proxies, hooks, stream, verify, cert, json)\u001b[39m\n\u001b[32m    584\u001b[39m send_kwargs = {\n\u001b[32m    585\u001b[39m     \u001b[33m\"\u001b[39m\u001b[33mtimeout\u001b[39m\u001b[33m\"\u001b[39m: timeout,\n\u001b[32m    586\u001b[39m     \u001b[33m\"\u001b[39m\u001b[33mallow_redirects\u001b[39m\u001b[33m\"\u001b[39m: allow_redirects,\n\u001b[32m    587\u001b[39m }\n\u001b[32m    588\u001b[39m send_kwargs.update(settings)\n\u001b[32m--> \u001b[39m\u001b[32m589\u001b[39m resp = \u001b[38;5;28;43mself\u001b[39;49m\u001b[43m.\u001b[49m\u001b[43msend\u001b[49m\u001b[43m(\u001b[49m\u001b[43mprep\u001b[49m\u001b[43m,\u001b[49m\u001b[43m \u001b[49m\u001b[43m*\u001b[49m\u001b[43m*\u001b[49m\u001b[43msend_kwargs\u001b[49m\u001b[43m)\u001b[49m\n\u001b[32m    591\u001b[39m \u001b[38;5;28;01mreturn\u001b[39;00m resp\n",
      "\u001b[36mFile \u001b[39m\u001b[32m~/education/shad_mts/ml_dl/teta_nn_1_2025_predict_salary/.venv/lib/python3.12/site-packages/requests/sessions.py:703\u001b[39m, in \u001b[36mSession.send\u001b[39m\u001b[34m(self, request, **kwargs)\u001b[39m\n\u001b[32m    700\u001b[39m start = preferred_clock()\n\u001b[32m    702\u001b[39m \u001b[38;5;66;03m# Send the request\u001b[39;00m\n\u001b[32m--> \u001b[39m\u001b[32m703\u001b[39m r = \u001b[43madapter\u001b[49m\u001b[43m.\u001b[49m\u001b[43msend\u001b[49m\u001b[43m(\u001b[49m\u001b[43mrequest\u001b[49m\u001b[43m,\u001b[49m\u001b[43m \u001b[49m\u001b[43m*\u001b[49m\u001b[43m*\u001b[49m\u001b[43mkwargs\u001b[49m\u001b[43m)\u001b[49m\n\u001b[32m    705\u001b[39m \u001b[38;5;66;03m# Total elapsed time of the request (approximately)\u001b[39;00m\n\u001b[32m    706\u001b[39m elapsed = preferred_clock() - start\n",
      "\u001b[36mFile \u001b[39m\u001b[32m~/education/shad_mts/ml_dl/teta_nn_1_2025_predict_salary/.venv/lib/python3.12/site-packages/requests/adapters.py:667\u001b[39m, in \u001b[36mHTTPAdapter.send\u001b[39m\u001b[34m(self, request, stream, timeout, verify, cert, proxies)\u001b[39m\n\u001b[32m    664\u001b[39m     timeout = TimeoutSauce(connect=timeout, read=timeout)\n\u001b[32m    666\u001b[39m \u001b[38;5;28;01mtry\u001b[39;00m:\n\u001b[32m--> \u001b[39m\u001b[32m667\u001b[39m     resp = \u001b[43mconn\u001b[49m\u001b[43m.\u001b[49m\u001b[43murlopen\u001b[49m\u001b[43m(\u001b[49m\n\u001b[32m    668\u001b[39m \u001b[43m        \u001b[49m\u001b[43mmethod\u001b[49m\u001b[43m=\u001b[49m\u001b[43mrequest\u001b[49m\u001b[43m.\u001b[49m\u001b[43mmethod\u001b[49m\u001b[43m,\u001b[49m\n\u001b[32m    669\u001b[39m \u001b[43m        \u001b[49m\u001b[43murl\u001b[49m\u001b[43m=\u001b[49m\u001b[43murl\u001b[49m\u001b[43m,\u001b[49m\n\u001b[32m    670\u001b[39m \u001b[43m        \u001b[49m\u001b[43mbody\u001b[49m\u001b[43m=\u001b[49m\u001b[43mrequest\u001b[49m\u001b[43m.\u001b[49m\u001b[43mbody\u001b[49m\u001b[43m,\u001b[49m\n\u001b[32m    671\u001b[39m \u001b[43m        \u001b[49m\u001b[43mheaders\u001b[49m\u001b[43m=\u001b[49m\u001b[43mrequest\u001b[49m\u001b[43m.\u001b[49m\u001b[43mheaders\u001b[49m\u001b[43m,\u001b[49m\n\u001b[32m    672\u001b[39m \u001b[43m        \u001b[49m\u001b[43mredirect\u001b[49m\u001b[43m=\u001b[49m\u001b[38;5;28;43;01mFalse\u001b[39;49;00m\u001b[43m,\u001b[49m\n\u001b[32m    673\u001b[39m \u001b[43m        \u001b[49m\u001b[43massert_same_host\u001b[49m\u001b[43m=\u001b[49m\u001b[38;5;28;43;01mFalse\u001b[39;49;00m\u001b[43m,\u001b[49m\n\u001b[32m    674\u001b[39m \u001b[43m        \u001b[49m\u001b[43mpreload_content\u001b[49m\u001b[43m=\u001b[49m\u001b[38;5;28;43;01mFalse\u001b[39;49;00m\u001b[43m,\u001b[49m\n\u001b[32m    675\u001b[39m \u001b[43m        \u001b[49m\u001b[43mdecode_content\u001b[49m\u001b[43m=\u001b[49m\u001b[38;5;28;43;01mFalse\u001b[39;49;00m\u001b[43m,\u001b[49m\n\u001b[32m    676\u001b[39m \u001b[43m        \u001b[49m\u001b[43mretries\u001b[49m\u001b[43m=\u001b[49m\u001b[38;5;28;43mself\u001b[39;49m\u001b[43m.\u001b[49m\u001b[43mmax_retries\u001b[49m\u001b[43m,\u001b[49m\n\u001b[32m    677\u001b[39m \u001b[43m        \u001b[49m\u001b[43mtimeout\u001b[49m\u001b[43m=\u001b[49m\u001b[43mtimeout\u001b[49m\u001b[43m,\u001b[49m\n\u001b[32m    678\u001b[39m \u001b[43m        \u001b[49m\u001b[43mchunked\u001b[49m\u001b[43m=\u001b[49m\u001b[43mchunked\u001b[49m\u001b[43m,\u001b[49m\n\u001b[32m    679\u001b[39m \u001b[43m    \u001b[49m\u001b[43m)\u001b[49m\n\u001b[32m    681\u001b[39m \u001b[38;5;28;01mexcept\u001b[39;00m (ProtocolError, \u001b[38;5;167;01mOSError\u001b[39;00m) \u001b[38;5;28;01mas\u001b[39;00m err:\n\u001b[32m    682\u001b[39m     \u001b[38;5;28;01mraise\u001b[39;00m \u001b[38;5;167;01mConnectionError\u001b[39;00m(err, request=request)\n",
      "\u001b[36mFile \u001b[39m\u001b[32m~/education/shad_mts/ml_dl/teta_nn_1_2025_predict_salary/.venv/lib/python3.12/site-packages/urllib3/connectionpool.py:773\u001b[39m, in \u001b[36mHTTPConnectionPool.urlopen\u001b[39m\u001b[34m(self, method, url, body, headers, retries, redirect, assert_same_host, timeout, pool_timeout, release_conn, chunked, body_pos, preload_content, decode_content, **response_kw)\u001b[39m\n\u001b[32m    771\u001b[39m \u001b[38;5;28;01mif\u001b[39;00m \u001b[38;5;28mself\u001b[39m.proxy \u001b[38;5;129;01mis\u001b[39;00m \u001b[38;5;129;01mnot\u001b[39;00m \u001b[38;5;28;01mNone\u001b[39;00m \u001b[38;5;129;01mand\u001b[39;00m http_tunnel_required \u001b[38;5;129;01mand\u001b[39;00m conn.is_closed:\n\u001b[32m    772\u001b[39m     \u001b[38;5;28;01mtry\u001b[39;00m:\n\u001b[32m--> \u001b[39m\u001b[32m773\u001b[39m         \u001b[38;5;28;43mself\u001b[39;49m\u001b[43m.\u001b[49m\u001b[43m_prepare_proxy\u001b[49m\u001b[43m(\u001b[49m\u001b[43mconn\u001b[49m\u001b[43m)\u001b[49m\n\u001b[32m    774\u001b[39m     \u001b[38;5;28;01mexcept\u001b[39;00m (BaseSSLError, \u001b[38;5;167;01mOSError\u001b[39;00m, SocketTimeout) \u001b[38;5;28;01mas\u001b[39;00m e:\n\u001b[32m    775\u001b[39m         \u001b[38;5;28mself\u001b[39m._raise_timeout(\n\u001b[32m    776\u001b[39m             err=e, url=\u001b[38;5;28mself\u001b[39m.proxy.url, timeout_value=conn.timeout\n\u001b[32m    777\u001b[39m         )\n",
      "\u001b[36mFile \u001b[39m\u001b[32m~/education/shad_mts/ml_dl/teta_nn_1_2025_predict_salary/.venv/lib/python3.12/site-packages/urllib3/connectionpool.py:1042\u001b[39m, in \u001b[36mHTTPSConnectionPool._prepare_proxy\u001b[39m\u001b[34m(self, conn)\u001b[39m\n\u001b[32m   1034\u001b[39m     tunnel_scheme = \u001b[33m\"\u001b[39m\u001b[33mhttp\u001b[39m\u001b[33m\"\u001b[39m\n\u001b[32m   1036\u001b[39m conn.set_tunnel(\n\u001b[32m   1037\u001b[39m     scheme=tunnel_scheme,\n\u001b[32m   1038\u001b[39m     host=\u001b[38;5;28mself\u001b[39m._tunnel_host,\n\u001b[32m   1039\u001b[39m     port=\u001b[38;5;28mself\u001b[39m.port,\n\u001b[32m   1040\u001b[39m     headers=\u001b[38;5;28mself\u001b[39m.proxy_headers,\n\u001b[32m   1041\u001b[39m )\n\u001b[32m-> \u001b[39m\u001b[32m1042\u001b[39m \u001b[43mconn\u001b[49m\u001b[43m.\u001b[49m\u001b[43mconnect\u001b[49m\u001b[43m(\u001b[49m\u001b[43m)\u001b[49m\n",
      "\u001b[36mFile \u001b[39m\u001b[32m~/education/shad_mts/ml_dl/teta_nn_1_2025_predict_salary/.venv/lib/python3.12/site-packages/urllib3/connection.py:770\u001b[39m, in \u001b[36mHTTPSConnection.connect\u001b[39m\u001b[34m(self)\u001b[39m\n\u001b[32m    767\u001b[39m \u001b[38;5;66;03m# If we're tunneling it means we're connected to our proxy.\u001b[39;00m\n\u001b[32m    768\u001b[39m \u001b[38;5;28mself\u001b[39m._has_connected_to_proxy = \u001b[38;5;28;01mTrue\u001b[39;00m\n\u001b[32m--> \u001b[39m\u001b[32m770\u001b[39m \u001b[38;5;28;43mself\u001b[39;49m\u001b[43m.\u001b[49m\u001b[43m_tunnel\u001b[49m\u001b[43m(\u001b[49m\u001b[43m)\u001b[49m\n\u001b[32m    771\u001b[39m \u001b[38;5;66;03m# Override the host with the one we're requesting data from.\u001b[39;00m\n\u001b[32m    772\u001b[39m server_hostname = typing.cast(\u001b[38;5;28mstr\u001b[39m, \u001b[38;5;28mself\u001b[39m._tunnel_host)\n",
      "\u001b[36mFile \u001b[39m\u001b[32m/usr/lib/python3.12/http/client.py:971\u001b[39m, in \u001b[36mHTTPConnection._tunnel\u001b[39m\u001b[34m(self)\u001b[39m\n\u001b[32m    969\u001b[39m response = \u001b[38;5;28mself\u001b[39m.response_class(\u001b[38;5;28mself\u001b[39m.sock, method=\u001b[38;5;28mself\u001b[39m._method)\n\u001b[32m    970\u001b[39m \u001b[38;5;28;01mtry\u001b[39;00m:\n\u001b[32m--> \u001b[39m\u001b[32m971\u001b[39m     (version, code, message) = \u001b[43mresponse\u001b[49m\u001b[43m.\u001b[49m\u001b[43m_read_status\u001b[49m\u001b[43m(\u001b[49m\u001b[43m)\u001b[49m\n\u001b[32m    973\u001b[39m     \u001b[38;5;28mself\u001b[39m._raw_proxy_headers = _read_headers(response.fp)\n\u001b[32m    975\u001b[39m     \u001b[38;5;28;01mif\u001b[39;00m \u001b[38;5;28mself\u001b[39m.debuglevel > \u001b[32m0\u001b[39m:\n",
      "\u001b[36mFile \u001b[39m\u001b[32m/usr/lib/python3.12/http/client.py:292\u001b[39m, in \u001b[36mHTTPResponse._read_status\u001b[39m\u001b[34m(self)\u001b[39m\n\u001b[32m    291\u001b[39m \u001b[38;5;28;01mdef\u001b[39;00m\u001b[38;5;250m \u001b[39m\u001b[34m_read_status\u001b[39m(\u001b[38;5;28mself\u001b[39m):\n\u001b[32m--> \u001b[39m\u001b[32m292\u001b[39m     line = \u001b[38;5;28mstr\u001b[39m(\u001b[38;5;28;43mself\u001b[39;49m\u001b[43m.\u001b[49m\u001b[43mfp\u001b[49m\u001b[43m.\u001b[49m\u001b[43mreadline\u001b[49m\u001b[43m(\u001b[49m\u001b[43m_MAXLINE\u001b[49m\u001b[43m \u001b[49m\u001b[43m+\u001b[49m\u001b[43m \u001b[49m\u001b[32;43m1\u001b[39;49m\u001b[43m)\u001b[49m, \u001b[33m\"\u001b[39m\u001b[33miso-8859-1\u001b[39m\u001b[33m\"\u001b[39m)\n\u001b[32m    293\u001b[39m     \u001b[38;5;28;01mif\u001b[39;00m \u001b[38;5;28mlen\u001b[39m(line) > _MAXLINE:\n\u001b[32m    294\u001b[39m         \u001b[38;5;28;01mraise\u001b[39;00m LineTooLong(\u001b[33m\"\u001b[39m\u001b[33mstatus line\u001b[39m\u001b[33m\"\u001b[39m)\n",
      "\u001b[36mFile \u001b[39m\u001b[32m/usr/lib/python3.12/socket.py:720\u001b[39m, in \u001b[36mSocketIO.readinto\u001b[39m\u001b[34m(self, b)\u001b[39m\n\u001b[32m    718\u001b[39m \u001b[38;5;28;01mwhile\u001b[39;00m \u001b[38;5;28;01mTrue\u001b[39;00m:\n\u001b[32m    719\u001b[39m     \u001b[38;5;28;01mtry\u001b[39;00m:\n\u001b[32m--> \u001b[39m\u001b[32m720\u001b[39m         \u001b[38;5;28;01mreturn\u001b[39;00m \u001b[38;5;28;43mself\u001b[39;49m\u001b[43m.\u001b[49m\u001b[43m_sock\u001b[49m\u001b[43m.\u001b[49m\u001b[43mrecv_into\u001b[49m\u001b[43m(\u001b[49m\u001b[43mb\u001b[49m\u001b[43m)\u001b[49m\n\u001b[32m    721\u001b[39m     \u001b[38;5;28;01mexcept\u001b[39;00m timeout:\n\u001b[32m    722\u001b[39m         \u001b[38;5;28mself\u001b[39m._timeout_occurred = \u001b[38;5;28;01mTrue\u001b[39;00m\n",
      "\u001b[31mKeyboardInterrupt\u001b[39m: "
     ]
    }
   ],
   "source": [
    "companies_ulrs = []\n",
    "\n",
    "def search_company(company: str):\n",
    "    req = requests.get(\"https://api.hh.ru/employers\", params={\n",
    "    \"text\": company,\n",
    "    \"sort_by\": \"by_vacancies_open\",\n",
    "    \"per_page\": 20\n",
    "    })\n",
    "\n",
    "    companies: dict = json.loads(req.text)[\"items\"]\n",
    "    if companies:\n",
    "        for c in companies:\n",
    "            if c[\"name\"] == company.strip():\n",
    "                return c[\"url\"]\n",
    "\n",
    "\n",
    "for row in tqdm(df_train[\"company\"].unique()):\n",
    "    companies_ulrs.append(search_company(row))"
   ]
  },
  {
   "cell_type": "code",
   "execution_count": 60,
   "id": "efe6cde7",
   "metadata": {},
   "outputs": [],
   "source": [
    "from tqdm import tqdm"
   ]
  },
  {
   "cell_type": "code",
   "execution_count": null,
   "id": "5a0c15b4",
   "metadata": {},
   "outputs": [
    {
     "name": "stdout",
     "output_type": "stream",
     "text": [
      "Обрабатываем 9866 уникальных компаний...\n"
     ]
    },
    {
     "name": "stderr",
     "output_type": "stream",
     "text": [
      "Поиск компаний:   0%|          | 0/9866 [00:00<?, ?it/s]"
     ]
    },
    {
     "name": "stderr",
     "output_type": "stream",
     "text": [
      "Поиск компаний: 100%|██████████| 9866/9866 [01:26<00:00, 113.54it/s]"
     ]
    },
    {
     "name": "stdout",
     "output_type": "stream",
     "text": [
      "Обработка завершена за 86.91 секунд\n",
      "Найдено URL для 9416 компаний\n"
     ]
    },
    {
     "name": "stderr",
     "output_type": "stream",
     "text": [
      "\n"
     ]
    }
   ],
   "source": [
    "import asyncio\n",
    "import aiohttp\n",
    "import json\n",
    "from tqdm.asyncio import tqdm\n",
    "import time\n",
    "\n",
    "async def search_company(session, company: str):\n",
    "    \"\"\"Асинхронный поиск компании\"\"\"\n",
    "    try:\n",
    "        params = {\n",
    "            \"text\": company,\n",
    "            \"sort_by\": \"by_vacancies_open\", \n",
    "            \"per_page\": 20\n",
    "        }\n",
    "        \n",
    "        async with session.get(\"https://api.hh.ru/employers\", params=params) as response:\n",
    "            if response.status == 200:\n",
    "                data = await response.json()\n",
    "                companies = data.get(\"items\", [])\n",
    "                \n",
    "                if companies:\n",
    "                    for c in companies:\n",
    "                        if c[\"name\"] == company.strip():\n",
    "                            return c[\"url\"]\n",
    "            return None\n",
    "            \n",
    "    except Exception as e:\n",
    "        print(f\"Ошибка для компании '{company}': {e}\")\n",
    "        return None\n",
    "\n",
    "async def process_companies_async(companies, max_concurrent=10, delay=0.1):\n",
    "    \"\"\"\n",
    "    Асинхронная обработка списка компаний\n",
    "    \n",
    "    Args:\n",
    "        companies: список названий компаний\n",
    "        max_concurrent: максимальное количество одновременных запросов\n",
    "        delay: задержка между запросами\n",
    "    \"\"\"\n",
    "    \n",
    "    # Семафор для ограничения количества одновременных запросов\n",
    "    semaphore = asyncio.Semaphore(max_concurrent)\n",
    "    \n",
    "    async def fetch_with_semaphore(session, company):\n",
    "        async with semaphore:\n",
    "            result = await search_company(session, company)\n",
    "            if delay > 0:\n",
    "                await asyncio.sleep(delay)\n",
    "            return result\n",
    "    \n",
    "    # Создаем сессию для переиспользования подключений\n",
    "    async with aiohttp.ClientSession(timeout=aiohttp.ClientTimeout(total=30)) as session:\n",
    "        # Запускаем все задачи параллельно\n",
    "        tasks = [fetch_with_semaphore(session, company) for company in companies]\n",
    "        \n",
    "        # Выполняем с прогресс-баром\n",
    "        results = await tqdm.gather(*tasks, desc=\"Поиск компаний\")\n",
    "        \n",
    "    return results\n",
    "\n",
    "# Запуск асинхронной функции\n",
    "async def main():\n",
    "    # Берем уникальные компании для экономии запросов\n",
    "    unique_companies = df_train[\"company\"].dropna().unique().tolist()\n",
    "    \n",
    "    print(f\"Обрабатываем {len(unique_companies)} уникальных компаний...\")\n",
    "    \n",
    "    start_time = time.time()\n",
    "    \n",
    "    # Запускаем асинхронную обработку\n",
    "    companies_urls = await process_companies_async(\n",
    "        unique_companies, \n",
    "        max_concurrent=15,  # Количество одновременных запросов\n",
    "        delay=0.05  # Задержка между запросами в секундах\n",
    "    )\n",
    "    \n",
    "    end_time = time.time()\n",
    "    \n",
    "    print(f\"Обработка завершена за {end_time - start_time:.2f} секунд\")\n",
    "    print(f\"Найдено URL для {sum(1 for url in companies_urls if url is not None)} компаний\")\n",
    "\n",
    "    company_url_mapping = dict(zip(unique_companies, companies_urls))\n",
    "    \n",
    "    return company_url_mapping\n",
    "\n",
    "# Запуск\n",
    "companies_urls = await main()"
   ]
  },
  {
   "cell_type": "code",
   "execution_count": 72,
   "id": "245b3a7d",
   "metadata": {},
   "outputs": [
    {
     "data": {
      "text/plain": [
       "{'ВКТМ': 'https://api.hh.ru/employers/6010027',\n",
       " 'Radium Finance': None,\n",
       " 'Медскан': 'https://api.hh.ru/employers/3859980',\n",
       " 'Selecty': 'https://api.hh.ru/employers/2406247',\n",
       " 'NK GROUP': 'https://api.hh.ru/employers/704368',\n",
       " 'СибТрансАвто': 'https://api.hh.ru/employers/3523766',\n",
       " 'Лайтхаус Интериорс': 'https://api.hh.ru/employers/9649647',\n",
       " 'КрасИнтегра': 'https://api.hh.ru/employers/3289110',\n",
       " 'Единая Европа-Элит и сеть магазинов СТИЛЬПАРК': 'https://api.hh.ru/employers/14703',\n",
       " 'PLAYMAKERS': 'https://api.hh.ru/employers/10660532',\n",
       " 'Россети Московский регион': 'https://api.hh.ru/employers/103816',\n",
       " 'Центр Бытового Ремонта': None,\n",
       " 'Международный аэропорт Пермь': 'https://api.hh.ru/employers/560799',\n",
       " 'СЗ РЦАИ': 'https://api.hh.ru/employers/1647549',\n",
       " 'Девелопер. Мы строим\\xa0объекты в Москве — многофункциональные комплексы, жилую и коммерческую недвижимость.': None,\n",
       " 'Бьюти Лайф': 'https://api.hh.ru/employers/3448319',\n",
       " 'Уфанет': 'https://api.hh.ru/employers/668351',\n",
       " 'EGO BOTTEGO': 'https://api.hh.ru/employers/1364817',\n",
       " 'Совкомбанк': 'https://api.hh.ru/employers/7944',\n",
       " 'Опытно-конструкторское бюро Электроавтоматика имени П.А. Ефимова': 'https://api.hh.ru/employers/1385877',\n",
       " 'PHOTO KIDS': 'https://api.hh.ru/employers/11579870',\n",
       " 'Абелян Гегам Григорьевич': 'https://api.hh.ru/employers/11384364',\n",
       " 'Schoolsmart': 'https://api.hh.ru/employers/4703110',\n",
       " 'Кадровый Метод': 'https://api.hh.ru/employers/5727976',\n",
       " 'Международная сеть школ рисования Grafika': 'https://api.hh.ru/employers/5072338',\n",
       " 'Новые Технологии Телекоммуникаций (ООО НПП НТТ)': 'https://api.hh.ru/employers/2614670',\n",
       " 'Московский прожекторный завод': 'https://api.hh.ru/employers/3534',\n",
       " 'Бута Констракшн': 'https://api.hh.ru/employers/1850638',\n",
       " 'НефтеГазКонсультант': 'https://api.hh.ru/employers/9117348',\n",
       " 'Красильникова Вероника Олеговна': None,\n",
       " 'Легион': 'https://api.hh.ru/employers/1048588',\n",
       " 'ЭКСПРЕСС': 'https://api.hh.ru/employers/2476133',\n",
       " 'ФГБУ ВЦЭРМ им. А.М. Никифорова МЧС России': 'https://api.hh.ru/employers/1051043',\n",
       " 'СУЭК, Сибирская Угольная Энергетическая Компания': 'https://api.hh.ru/employers/568',\n",
       " 'ФГУП ФЦДТ СОЮЗ': None,\n",
       " 'amoCRM': 'https://api.hh.ru/employers/999442',\n",
       " 'Литана': 'https://api.hh.ru/employers/1176837',\n",
       " 'ПтиДом': 'https://api.hh.ru/employers/10121071',\n",
       " 'Бонус Плюс': 'https://api.hh.ru/employers/9963769',\n",
       " 'КЭР-Автоматика': 'https://api.hh.ru/employers/3679756',\n",
       " 'ГБУ Жилищник района Царицыно': 'https://api.hh.ru/employers/1985934',\n",
       " 'ЦСКУ Арсенал': 'https://api.hh.ru/employers/3914396',\n",
       " 'ФГБУ ГИВЦ Минкультуры России': 'https://api.hh.ru/employers/622017',\n",
       " 'КИП-Сервис': 'https://api.hh.ru/employers/121764',\n",
       " 'Саханефтегазсбыт': 'https://api.hh.ru/employers/4323463',\n",
       " 'Барнаул-Моторс+': 'https://api.hh.ru/employers/2345549',\n",
       " 'ЦВЕТОБУМ': 'https://api.hh.ru/employers/11598516',\n",
       " 'СофтЭксперт, г. Тула': 'https://api.hh.ru/employers/200522',\n",
       " 'Администрация города Магнитогорска': 'https://api.hh.ru/employers/3220295',\n",
       " 'Гипротрубопровод': 'https://api.hh.ru/employers/32496',\n",
       " 'SoftMaster': 'https://api.hh.ru/employers/2661787',\n",
       " 'Vera Realty': 'https://api.hh.ru/employers/3195662',\n",
       " 'Автосити-Нск': 'https://api.hh.ru/employers/4020062',\n",
       " 'Хлебная Усадьба': 'https://api.hh.ru/employers/3506285',\n",
       " 'Российские железные дороги': 'https://api.hh.ru/employers/23427',\n",
       " 'УНАС': 'https://api.hh.ru/employers/225254',\n",
       " 'Центр Комплексного Снабжения': 'https://api.hh.ru/employers/10785051',\n",
       " 'Центр гигиены и эпидемиологии в Алтайском крае': 'https://api.hh.ru/employers/1057348',\n",
       " 'АВИ-Центр': 'https://api.hh.ru/employers/1730697',\n",
       " 'Next-Gen Mobility, Navigating Horizons': 'https://api.hh.ru/employers/11491256',\n",
       " 'Бареев Руслан Расимович': None,\n",
       " 'Купер': 'https://api.hh.ru/employers/1272486',\n",
       " 'Глобал Телеком': 'https://api.hh.ru/employers/5169332',\n",
       " 'СК СОГАЗ-Мед': 'https://api.hh.ru/employers/596610',\n",
       " 'VICTORY group': 'https://api.hh.ru/employers/4306244',\n",
       " 'Урюк': 'https://api.hh.ru/employers/1735116',\n",
       " 'МСК БЛ ГРУПП': 'https://api.hh.ru/employers/20628',\n",
       " 'НПП РЕЗОНАНС': 'https://api.hh.ru/employers/615162',\n",
       " 'Филиал ППК Роскадастр по Тюменской области': 'https://api.hh.ru/employers/2348982',\n",
       " 'ФБУ ИТЦ ФАС России': 'https://api.hh.ru/employers/2705778',\n",
       " 'Краснокутская Анастасия Сергеевна': 'https://api.hh.ru/employers/5610850',\n",
       " 'Федеральное государственное унитарное предприятие «Государственный научно-исследовательский институт органической химии и технологии»': 'https://api.hh.ru/employers/1513485',\n",
       " 'Helpexcel.pro': 'https://api.hh.ru/employers/5947942',\n",
       " 'МАГНИТ, Розничная сеть': 'https://api.hh.ru/employers/49357',\n",
       " 'Киливник Леонид Викторович': 'https://api.hh.ru/employers/11424550',\n",
       " 'Строй Хауз': 'https://api.hh.ru/employers/1499736',\n",
       " 'Торговая Компания Альфа': 'https://api.hh.ru/employers/794861',\n",
       " 'Светлана - К': 'https://api.hh.ru/employers/84143',\n",
       " 'РЕСО-Гарантия, САО': 'https://api.hh.ru/employers/2242',\n",
       " 'Компьютерная академия TOP (Компьютерная Академия ТОП)': 'https://api.hh.ru/employers/3192913',\n",
       " 'НПП Исток им. Шокина': 'https://api.hh.ru/employers/1750736',\n",
       " 'Яблоко': 'https://api.hh.ru/employers/2375930',\n",
       " 'Бристоль, сеть магазинов': 'https://api.hh.ru/employers/1189320',\n",
       " 'ПКО КЭФ': 'https://api.hh.ru/employers/35522',\n",
       " 'Группа Илим': 'https://api.hh.ru/employers/6867',\n",
       " 'Телепорт Г': 'https://api.hh.ru/employers/11217050',\n",
       " 'Точка': 'https://api.hh.ru/employers/2324020',\n",
       " 'ИНСИТИ': 'https://api.hh.ru/employers/1445049',\n",
       " 'Санэкостандарт': 'https://api.hh.ru/employers/4407296',\n",
       " 'Верный Код': 'https://api.hh.ru/employers/2331500',\n",
       " 'Диспэкс': 'https://api.hh.ru/employers/4415025',\n",
       " 'Группа кадровых компаний АКМЭ': 'https://api.hh.ru/employers/157761',\n",
       " 'Владлинк': 'https://api.hh.ru/employers/4527132',\n",
       " 'Фабрика дверей Браво': 'https://api.hh.ru/employers/3893509',\n",
       " 'Аэроприбор-Восход': 'https://api.hh.ru/employers/973282',\n",
       " 'Рестарт Реальности': None,\n",
       " 'БИО Архитектура': 'https://api.hh.ru/employers/1932027',\n",
       " 'Rocket Science': 'https://api.hh.ru/employers/4029226',\n",
       " 'ГК АБЗ-1': 'https://api.hh.ru/employers/1194855',\n",
       " 'Экситон - автоматика, НПФ': 'https://api.hh.ru/employers/614764',\n",
       " 'АльянсТрансТорг': 'https://api.hh.ru/employers/1738296',\n",
       " 'QUALITY MOTORS': 'https://api.hh.ru/employers/100209',\n",
       " 'AYA Group': 'https://api.hh.ru/employers/3367886',\n",
       " 'Московский завод Физприбор': 'https://api.hh.ru/employers/549491',\n",
       " 'Ритейл Сервис 24': 'https://api.hh.ru/employers/2718207',\n",
       " 'UtiNet': 'https://api.hh.ru/employers/5639117',\n",
       " 'Лидергруз': 'https://api.hh.ru/employers/2348413',\n",
       " 'Хайруллин Эльдар Ришатович': 'https://api.hh.ru/employers/11087203',\n",
       " 'Компания СБИС-Вятка': 'https://api.hh.ru/employers/2620573',\n",
       " 'Цитрус': 'https://api.hh.ru/employers/5978833',\n",
       " 'Промобит': 'https://api.hh.ru/employers/2698061',\n",
       " 'ГБУЗ НО ИНФЕКЦИОННАЯ КЛИНИЧЕСКАЯ БОЛЬНИЦА №2': 'https://api.hh.ru/employers/2478425',\n",
       " 'Кастор': 'https://api.hh.ru/employers/2467115',\n",
       " 'Консорциум Кодекс': 'https://api.hh.ru/employers/889',\n",
       " 'Аксиоматика': 'https://api.hh.ru/employers/1144524',\n",
       " 'Научно-производственное объединение дальней радиолокации имени академика А.Л. Минца': 'https://api.hh.ru/employers/5162605',\n",
       " 'Дары Малиновки': 'https://api.hh.ru/employers/4817342',\n",
       " 'Байкал-Сервис': 'https://api.hh.ru/employers/57996',\n",
       " 'Международный аэропорт Шереметьево': 'https://api.hh.ru/employers/229',\n",
       " 'Норд Империал': 'https://api.hh.ru/employers/962256',\n",
       " 'iBOX': 'https://api.hh.ru/employers/2750034',\n",
       " 'Долсо': 'https://api.hh.ru/employers/6000512',\n",
       " 'СМ': None,\n",
       " 'Медиа-Майн': 'https://api.hh.ru/employers/10991384',\n",
       " 'Принтград, ГК': 'https://api.hh.ru/employers/654353',\n",
       " 'Spice Agency': None,\n",
       " 'Сеть аптек Апрель': 'https://api.hh.ru/employers/2222250',\n",
       " 'Концерн Созвездие': 'https://api.hh.ru/employers/935196',\n",
       " 'ГБУЗ Пензенская областная офтальмологическая больница': 'https://api.hh.ru/employers/2899193',\n",
       " 'Гром-Ит Софт': 'https://api.hh.ru/employers/5592296',\n",
       " 'Группа компаний LUXCOM': 'https://api.hh.ru/employers/2593919',\n",
       " 'ГКУ города Москвы Московский центр развития социальных технологий': 'https://api.hh.ru/employers/4005237',\n",
       " 'SiGma': 'https://api.hh.ru/employers/9396178',\n",
       " '1C-Рарус': 'https://api.hh.ru/employers/172',\n",
       " 'Атвинта': 'https://api.hh.ru/employers/9195657',\n",
       " 'ARK': 'https://api.hh.ru/employers/5569859',\n",
       " 'Курганмашзавод': 'https://api.hh.ru/employers/3346087',\n",
       " 'Лента, федеральная розничная сеть': 'https://api.hh.ru/employers/7172',\n",
       " 'CTRL+': None,\n",
       " 'КРЕДО КОНСАЛТИНГ': 'https://api.hh.ru/employers/213728',\n",
       " 'Т-Банк': 'https://api.hh.ru/employers/78638',\n",
       " 'ВЦ ALT-SOFT': 'https://api.hh.ru/employers/628836',\n",
       " 'LIAN': 'https://api.hh.ru/employers/4768936',\n",
       " 'Наука-Связь': 'https://api.hh.ru/employers/15',\n",
       " 'РОСТАР': 'https://api.hh.ru/employers/122281',\n",
       " 'Группа компаний АСМ, НП': 'https://api.hh.ru/employers/1117402',\n",
       " 'Яндекс (Поисковый портал)': None,\n",
       " 'Ultimate Capital': None,\n",
       " 'Техноресурс': 'https://api.hh.ru/employers/385315',\n",
       " 'Собиз': 'https://api.hh.ru/employers/1238054',\n",
       " 'Metacommerce': 'https://api.hh.ru/employers/1842732',\n",
       " 'АТМ АЛЬЯНС': 'https://api.hh.ru/employers/1237073',\n",
       " 'ГАЛЕРЕЯ ЦВЕТОВ': 'https://api.hh.ru/employers/1242926',\n",
       " 'Цветочный ряд': 'https://api.hh.ru/employers/1268761',\n",
       " 'Абие-С': 'https://api.hh.ru/employers/10433163',\n",
       " 'Cetera': 'https://api.hh.ru/employers/550175',\n",
       " 'HR Prime': 'https://api.hh.ru/employers/4759060',\n",
       " 'Ростелеком': 'https://api.hh.ru/employers/2748',\n",
       " 'Уральская Машиностроительная Компания': 'https://api.hh.ru/employers/2193512',\n",
       " 'Лаборатория IT технологий': 'https://api.hh.ru/employers/5234433',\n",
       " 'ANCOR': 'https://api.hh.ru/employers/1947314',\n",
       " 'Авоська, Cеть универсамов': 'https://api.hh.ru/employers/23636',\n",
       " 'МеталлСтройИнжиниринг': 'https://api.hh.ru/employers/3430765',\n",
       " 'Galt Systems': 'https://api.hh.ru/employers/1760741',\n",
       " 'Уралэнергосбыт': 'https://api.hh.ru/employers/4166825',\n",
       " 'MBDS: Студия архитектуры и дизайна Марии Боровской': 'https://api.hh.ru/employers/3053386',\n",
       " 'Опен Сервис': 'https://api.hh.ru/employers/841348',\n",
       " 'СносСтройИнвест': 'https://api.hh.ru/employers/2191606',\n",
       " 'Айти Провайдер': 'https://api.hh.ru/employers/648403',\n",
       " 'Компьютер-Софт': 'https://api.hh.ru/employers/1429986',\n",
       " 'Инновационная Экосистема': 'https://api.hh.ru/employers/11338015',\n",
       " 'СКБ Приморья Примсоцбанк': 'https://api.hh.ru/employers/770915',\n",
       " 'DNS Технологии': 'https://api.hh.ru/employers/9311920',\n",
       " 'Первая Мониторинговая Компания': 'https://api.hh.ru/employers/631175',\n",
       " 'Уфимское моторостроительное производственное объединение (УМПО)': 'https://api.hh.ru/employers/675794',\n",
       " 'ЦВЕТОВИК': 'https://api.hh.ru/employers/2312293',\n",
       " 'Студия Арт Нэт': 'https://api.hh.ru/employers/1530887',\n",
       " 'Спецмашсоюз': 'https://api.hh.ru/employers/8959385',\n",
       " 'Кондитерский Комбинат «Сажинский»': 'https://api.hh.ru/employers/883256',\n",
       " 'ОМП, Открытая Мобильная Платформа': None,\n",
       " 'Климат Нева': 'https://api.hh.ru/employers/3625163',\n",
       " 'Инженио': 'https://api.hh.ru/employers/10752853',\n",
       " 'Скиллтеллект': 'https://api.hh.ru/employers/5594124',\n",
       " 'Первый Бит': 'https://api.hh.ru/employers/3177',\n",
       " 'ТОМ-Торговая и Офисная Мебель': None,\n",
       " 'IS ART': 'https://api.hh.ru/employers/5243705',\n",
       " 'Сэтл Строй': 'https://api.hh.ru/employers/2864629',\n",
       " 'ГБУЗ СО ТСП № 3': 'https://api.hh.ru/employers/2107946',\n",
       " 'Армия Кадров': 'https://api.hh.ru/employers/2473032',\n",
       " 'ГБУСОВО Владимирский ПНИ': 'https://api.hh.ru/employers/5317253',\n",
       " 'Администрация Города Барнаула Алтайского Края': 'https://api.hh.ru/employers/3891112',\n",
       " 'Делис Инфо': 'https://api.hh.ru/employers/3721061',\n",
       " 'Вертикаль': 'https://api.hh.ru/employers/3100287',\n",
       " 'Филиал ФКУ Налог-Сервис ФНС России по ЦОД в г.Москве': 'https://api.hh.ru/employers/1864933',\n",
       " 'Байкальский государственный университет': 'https://api.hh.ru/employers/121650',\n",
       " 'Фарматика': 'https://api.hh.ru/employers/3559931',\n",
       " 'Государственное бюджетное учреждение здравоохранения Нижегородской области Медицинский информационно-аналитический центр': 'https://api.hh.ru/employers/1728205',\n",
       " 'Филиал ПАО Россети Волга-Саратовские РС': 'https://api.hh.ru/employers/11075675',\n",
       " 'МАКФА': 'https://api.hh.ru/employers/924369',\n",
       " 'Studia VI': 'https://api.hh.ru/employers/5275418',\n",
       " 'Usetech': None,\n",
       " 'Министерство лесного и охотничьего хозяйства Приморского края': 'https://api.hh.ru/employers/9852384',\n",
       " 'MedmaGroup': 'https://api.hh.ru/employers/4542355',\n",
       " 'Филиал ГКУ Владимирской области Центр занятости населения Владимирской области Муромский': 'https://api.hh.ru/employers/10878386',\n",
       " 'Займиго МФК': 'https://api.hh.ru/employers/1457854',\n",
       " 'ХАБАРОВСКИЙ АЭРОПОРТ': 'https://api.hh.ru/employers/247161',\n",
       " 'ФГАОУ ВО Северо-Кавказский Федеральный Университет': 'https://api.hh.ru/employers/2140970',\n",
       " 'Текскоммерс': 'https://api.hh.ru/employers/10860625',\n",
       " 'Яндекс.Маркет': None,\n",
       " 'БН-Моторс': 'https://api.hh.ru/employers/10710019',\n",
       " 'Лекс': 'https://api.hh.ru/employers/9814787',\n",
       " 'Камкомбанк': 'https://api.hh.ru/employers/66165',\n",
       " 'Страховая группа МАКС': 'https://api.hh.ru/employers/1988',\n",
       " 'ГБПОУ Волгоградский колледж машиностроения и связи': 'https://api.hh.ru/employers/5536966',\n",
       " 'Скворцов Артём Олегович': 'https://api.hh.ru/employers/11443647',\n",
       " 'Рустэко': 'https://api.hh.ru/employers/10138372',\n",
       " 'Адресник': 'https://api.hh.ru/employers/594050',\n",
       " 'Avito': None,\n",
       " 'ФГБУ Северное УГМС': 'https://api.hh.ru/employers/5077143',\n",
       " 'STOMODOMO GROUP': 'https://api.hh.ru/employers/2953546',\n",
       " 'Назаренко Сергей Александрович': 'https://api.hh.ru/employers/11093672',\n",
       " 'Системы практической безопасности': 'https://api.hh.ru/employers/2406026',\n",
       " 'Сджей Глобал': 'https://api.hh.ru/employers/10851927',\n",
       " 'Лид Технологии': 'https://api.hh.ru/employers/10529032',\n",
       " 'Доставка': None,\n",
       " 'Payture': 'https://api.hh.ru/employers/916593',\n",
       " 'Статус-К': 'https://api.hh.ru/employers/1107351',\n",
       " 'Учебный центр ГЛАВПОХОД': None,\n",
       " 'Эксперт': None,\n",
       " 'ГКУ НСО УКСис': 'https://api.hh.ru/employers/1626434',\n",
       " 'CIAN': None,\n",
       " 'INSPIRO': 'https://api.hh.ru/employers/158270',\n",
       " 'АУ Центр Цифровых Технологий Удмуртской Республики': 'https://api.hh.ru/employers/2152109',\n",
       " 'DeNet': 'https://api.hh.ru/employers/1006928',\n",
       " 'Алгоритмы одежды': 'https://api.hh.ru/employers/4674114',\n",
       " 'Машакаева Анна Федоровна': 'https://api.hh.ru/employers/10108286',\n",
       " 'ПОРЯДОК, Группа компаний': 'https://api.hh.ru/employers/120324',\n",
       " 'Нейросети': 'https://api.hh.ru/employers/8980208',\n",
       " 'Группа компаний Микрон': 'https://api.hh.ru/employers/1423697',\n",
       " 'Теремок': 'https://api.hh.ru/employers/27879',\n",
       " 'Сбербанк Страхование': None,\n",
       " 'MIR VR': 'https://api.hh.ru/employers/4869951',\n",
       " 'ЭЛТЕКС СОЛЮШЕНС': 'https://api.hh.ru/employers/2486083',\n",
       " 'Самара-Авто': 'https://api.hh.ru/employers/1005830',\n",
       " 'МГИМО': 'https://api.hh.ru/employers/121503',\n",
       " 'getmatch': 'https://api.hh.ru/employers/864086',\n",
       " 'КОНАР': 'https://api.hh.ru/employers/114553',\n",
       " 'Водолей': 'https://api.hh.ru/employers/1059985',\n",
       " 'ФБ Медиа Солюшнс': 'https://api.hh.ru/employers/157721',\n",
       " 'Копирка (ИП Животовский Андрей Валерьевич)': 'https://api.hh.ru/employers/5739802',\n",
       " 'Волгодонский филиал АО АТМ': 'https://api.hh.ru/employers/4358880',\n",
       " 'Гранит и Плитка': 'https://api.hh.ru/employers/9740656',\n",
       " 'Ивару': 'https://api.hh.ru/employers/1995061',\n",
       " 'Гальченко Тимофей Валерьевич': 'https://api.hh.ru/employers/8645270',\n",
       " 'Стрелковый клуб Объект': 'https://api.hh.ru/employers/1139238',\n",
       " 'МБУ ГКЦСОН филиал КЦСОН Калининского района': 'https://api.hh.ru/employers/11465774',\n",
       " 'ЭМА': 'https://api.hh.ru/employers/64638',\n",
       " 'Филиал ФГУП РТРС Челябинский ОРТПЦ': 'https://api.hh.ru/employers/11526068',\n",
       " 'Национальные канатные дороги': 'https://api.hh.ru/employers/3426655',\n",
       " 'ДЖЕЙКЕТ РАБОТА': 'https://api.hh.ru/employers/1689259',\n",
       " 'Битрикс24': 'https://api.hh.ru/employers/129044',\n",
       " 'Димеко': None,\n",
       " 'AH Group IT': 'https://api.hh.ru/employers/9451699',\n",
       " 'iSpring': 'https://api.hh.ru/employers/1296244',\n",
       " 'СервисКлауд': 'https://api.hh.ru/employers/625369',\n",
       " 'Баранова Анна Петровна': 'https://api.hh.ru/employers/11172672',\n",
       " 'ТатАИСЭнерго': 'https://api.hh.ru/employers/1620234',\n",
       " 'Кубань Кредит, КБ': 'https://api.hh.ru/employers/200524',\n",
       " 'ESMART® Devices': 'https://api.hh.ru/employers/6000341',\n",
       " 'Мебельная Фабрика ТРИАНА': 'https://api.hh.ru/employers/1546326',\n",
       " 'ВЕСТА': 'https://api.hh.ru/employers/1892652',\n",
       " 'Мс Групп': 'https://api.hh.ru/employers/9342682',\n",
       " 'ВОДОВОЗ.RU': 'https://api.hh.ru/employers/18796',\n",
       " 'Азбука Качества': 'https://api.hh.ru/employers/683367',\n",
       " 'Агентство судебного взыскания': 'https://api.hh.ru/employers/2484910',\n",
       " 'SPepper': None,\n",
       " 'Конструкторское бюро приборостроения им.академика А.Г.Шипунова': 'https://api.hh.ru/employers/1183378',\n",
       " 'Комус': 'https://api.hh.ru/employers/5694',\n",
       " 'Neovox': 'https://api.hh.ru/employers/739531',\n",
       " 'Градинжинирингпроект': 'https://api.hh.ru/employers/4349818',\n",
       " 'УРАЛ-ИНВЕСТ-КАПИТАЛ': 'https://api.hh.ru/employers/9801969',\n",
       " 'ГБУЗ РК Республиканская детская клиническая больница': 'https://api.hh.ru/employers/5280460',\n",
       " '1С:Апрель Софт': 'https://api.hh.ru/employers/71370',\n",
       " 'TALANTLIVO': 'https://api.hh.ru/employers/4039342',\n",
       " 'Капитал Медицинское Страхование': 'https://api.hh.ru/employers/1317504',\n",
       " 'WGG': None,\n",
       " 'Ткачук Василий Сергеевич': 'https://api.hh.ru/employers/10476118',\n",
       " 'АСКОН': 'https://api.hh.ru/employers/41144',\n",
       " 'ОКИЛ-САТО Урал': 'https://api.hh.ru/employers/66237',\n",
       " 'Коском': 'https://api.hh.ru/employers/4258987',\n",
       " 'Европа, Торговая сеть': 'https://api.hh.ru/employers/200686',\n",
       " 'Elite Staffing': None,\n",
       " 'Иващенко Анатолий Андреевич': 'https://api.hh.ru/employers/10405775',\n",
       " 'Системы Автоматизации Бизнеса': 'https://api.hh.ru/employers/930653',\n",
       " 'Байт': 'https://api.hh.ru/employers/245908',\n",
       " 'Альфа-банк': None,\n",
       " 'Роксофт': 'https://api.hh.ru/employers/2809069',\n",
       " 'Центральный парк культуры и отдыха': 'https://api.hh.ru/employers/2249509',\n",
       " 'Студия Перцы': 'https://api.hh.ru/employers/214460',\n",
       " 'Луговская Анна Викторовна': 'https://api.hh.ru/employers/3813125',\n",
       " 'САНКТ-ПЕТЕРБУРГСКОЕ ГОСУДАРСТВЕННОЕ КАЗЕННОЕ УЧРЕЖДЕНИЕ ЦЕНТР ИНФОРМАЦИОННОГО ОБЕСПЕЧЕНИЯ ГРАДОСТРОИТЕЛЬНОЙ ДЕЯТЕЛЬНОСТИ': 'https://api.hh.ru/employers/916029',\n",
       " 'Инжиниринг Строительство Обслуживание': 'https://api.hh.ru/employers/4047339',\n",
       " 'АйБиТи Софт': 'https://api.hh.ru/employers/2056897',\n",
       " 'ИНФОТЕХ': 'https://api.hh.ru/employers/1229977',\n",
       " 'Итсен': 'https://api.hh.ru/employers/10213158',\n",
       " 'Резерв': None,\n",
       " 'АКРАТО': 'https://api.hh.ru/employers/3259528',\n",
       " 'Газпром трансгаз Краснодар': 'https://api.hh.ru/employers/179324',\n",
       " 'WILDBERRIES': 'https://api.hh.ru/employers/87021',\n",
       " 'ДЖИ БИ СИ ТИМ': 'https://api.hh.ru/employers/3145972',\n",
       " 'Фомин Сергей Александрович': 'https://api.hh.ru/employers/11201261',\n",
       " 'Государственное казенное учреждение Самарской Области Управляющий Центр Занятости Населения': 'https://api.hh.ru/employers/5807733',\n",
       " 'XWAY': 'https://api.hh.ru/employers/4624254',\n",
       " 'Галактионов Павел': 'https://api.hh.ru/employers/5385648',\n",
       " 'Пермский завод грузовой техники': 'https://api.hh.ru/employers/2754695',\n",
       " 'IT-m': 'https://api.hh.ru/employers/3715667',\n",
       " 'НПК Атроник': 'https://api.hh.ru/employers/4470566',\n",
       " 'Медиапартнерс': 'https://api.hh.ru/employers/11017733',\n",
       " 'Enter VR': 'https://api.hh.ru/employers/3990804',\n",
       " 'ГРУППА ИМА': 'https://api.hh.ru/employers/12573',\n",
       " 'YADRO': 'https://api.hh.ru/employers/1993194',\n",
       " 'Трубная Металлургическая Компания': 'https://api.hh.ru/employers/6131',\n",
       " 'Саратовнефтепродукт': 'https://api.hh.ru/employers/1328507',\n",
       " 'СевенТест, НТЦ': 'https://api.hh.ru/employers/887195',\n",
       " 'Агро-Мастер': 'https://api.hh.ru/employers/127880',\n",
       " 'СОДЖ': 'https://api.hh.ru/employers/4609799',\n",
       " 'Job Offer': 'https://api.hh.ru/employers/4684720',\n",
       " 'Финансовый Дом «Солид»': 'https://api.hh.ru/employers/24296',\n",
       " 'August': 'https://api.hh.ru/employers/10749578',\n",
       " 'Улыбка радуги': 'https://api.hh.ru/employers/40938',\n",
       " 'Okkam': 'https://api.hh.ru/employers/6528',\n",
       " 'Сбербанк-Сервис': 'https://api.hh.ru/employers/1473866',\n",
       " 'A SWISS GROUP': 'https://api.hh.ru/employers/819356',\n",
       " 'Петрович-Тех': 'https://api.hh.ru/employers/10025564',\n",
       " 'Индид': None,\n",
       " 'Спорт Поинт': 'https://api.hh.ru/employers/2023248',\n",
       " 'Группа Компаний Автоимпорт': 'https://api.hh.ru/employers/811902',\n",
       " 'Happy Work': 'https://api.hh.ru/employers/10726027',\n",
       " 'Мингазова Гузелия Робертовна': 'https://api.hh.ru/employers/11583800',\n",
       " 'БИФИТ': 'https://api.hh.ru/employers/40912',\n",
       " 'Федеральное государственное бюджетное учреждение Российский Детско-Юношеский Центр': 'https://api.hh.ru/employers/4899045',\n",
       " 'Smile Media': 'https://api.hh.ru/employers/3949099',\n",
       " 'Промсвязьбанк': None,\n",
       " 'Визардсофт': 'https://api.hh.ru/employers/71468',\n",
       " 'Много Мебели': 'https://api.hh.ru/employers/787157',\n",
       " 'Агора, Группа компаний': 'https://api.hh.ru/employers/6195',\n",
       " 'ЦКП ЕВРАЗИЯ': 'https://api.hh.ru/employers/900868',\n",
       " 'ГКУ Центр занятости населения города Москвы': 'https://api.hh.ru/employers/3028727',\n",
       " 'Морские Комплексные Системы': 'https://api.hh.ru/employers/687375',\n",
       " 'Vintegra, Альянс': 'https://api.hh.ru/employers/2225',\n",
       " 'ЧОУ Школа Обучение в диалоге': 'https://api.hh.ru/employers/2618478',\n",
       " 'Господарев Михаил Геннадьевич': None,\n",
       " 'Белторгмебель': 'https://api.hh.ru/employers/2948167',\n",
       " 'MASK': 'https://api.hh.ru/employers/9760437',\n",
       " 'Сертификат+': 'https://api.hh.ru/employers/4339832',\n",
       " 'Evolution': 'https://api.hh.ru/employers/9339641',\n",
       " 'Промэко': 'https://api.hh.ru/employers/712134',\n",
       " 'Комбинат КМАруда': 'https://api.hh.ru/employers/4693680',\n",
       " 'Iconicompany': 'https://api.hh.ru/employers/10119554',\n",
       " 'Совавто-С.Петербург': 'https://api.hh.ru/employers/39539',\n",
       " 'СУБКОНТО УРАЛ': 'https://api.hh.ru/employers/560625',\n",
       " 'Умные решения': 'https://api.hh.ru/employers/717333',\n",
       " 'Оздоровительный комплекс Дагомыс': 'https://api.hh.ru/employers/1423142',\n",
       " 'Эстилаб Рус': 'https://api.hh.ru/employers/2838949',\n",
       " 'СКАД тех': 'https://api.hh.ru/employers/1768229',\n",
       " 'АНО Готов': 'https://api.hh.ru/employers/11133653',\n",
       " 'Трансмашприбор': 'https://api.hh.ru/employers/3305799',\n",
       " 'Сибирская генерирующая Компания': 'https://api.hh.ru/employers/876195',\n",
       " '#dieztech': 'https://api.hh.ru/employers/3898979',\n",
       " 'Николаев Александр Владимирович': 'https://api.hh.ru/employers/9852334',\n",
       " 'Облако 365': 'https://api.hh.ru/employers/5858288',\n",
       " 'КИТТ': 'https://api.hh.ru/employers/10240862',\n",
       " 'BY business group': 'https://api.hh.ru/employers/827187',\n",
       " 'Строительные и отделочные материалы Чипак': 'https://api.hh.ru/employers/1153036',\n",
       " 'ЦНИРТИ им. академика А.И. Берга': 'https://api.hh.ru/employers/1265869',\n",
       " 'ПКФ БК-студия': 'https://api.hh.ru/employers/1252212',\n",
       " 'Дом.ру': 'https://api.hh.ru/employers/10492215',\n",
       " 'Сбер': None,\n",
       " 'Государственное бюджетное профессиональное образовательное учреждение Московской области Сергиево-Посадский колледж': 'https://api.hh.ru/employers/2965812',\n",
       " 'REOVAX': 'https://api.hh.ru/employers/5846927',\n",
       " 'Подрядчик': 'https://api.hh.ru/employers/1167994',\n",
       " 'CV Recruitment': None,\n",
       " 'Сайбертех': 'https://api.hh.ru/employers/10772647',\n",
       " 'Тагес Джамп': 'https://api.hh.ru/employers/1480667',\n",
       " 'Би Лоджистик': 'https://api.hh.ru/employers/724111',\n",
       " 'iResto': 'https://api.hh.ru/employers/994569',\n",
       " 'Брянский Птицеводческий Комплекс': 'https://api.hh.ru/employers/4794423',\n",
       " 'Академия повышения квалификации и профессиональной переподготовки': 'https://api.hh.ru/employers/4304995',\n",
       " 'Digital Zone': 'https://api.hh.ru/employers/10538031',\n",
       " 'MALLTECH': 'https://api.hh.ru/employers/5014',\n",
       " 'Око Системс': 'https://api.hh.ru/employers/9490263',\n",
       " 'Эксбо Север': 'https://api.hh.ru/employers/3106292',\n",
       " 'Церебро': 'https://api.hh.ru/employers/1916295',\n",
       " 'Дакс-Групп': 'https://api.hh.ru/employers/2996574',\n",
       " 'ОЧАКОВО': 'https://api.hh.ru/employers/871',\n",
       " 'МТС': 'https://api.hh.ru/employers/3776',\n",
       " 'УК ПЖКХ': 'https://api.hh.ru/employers/3692773',\n",
       " 'Аладдин Р.Д.': 'https://api.hh.ru/employers/26004',\n",
       " 'МК Эксперт': 'https://api.hh.ru/employers/1639944',\n",
       " 'Ozon.ru': None,\n",
       " 'ПРОГРАММНЫЙ ЦЕНТР': 'https://api.hh.ru/employers/1671906',\n",
       " 'Studia 54': 'https://api.hh.ru/employers/2822051',\n",
       " 'Яндекс Команда для бизнеса': 'https://api.hh.ru/employers/9498120',\n",
       " 'Александров Кирилл Константинович': 'https://api.hh.ru/employers/9718487',\n",
       " 'Кпи Лаб': 'https://api.hh.ru/employers/5696075',\n",
       " 'DELTA': 'https://api.hh.ru/employers/1020673',\n",
       " 'УК Медгард': 'https://api.hh.ru/employers/3158955',\n",
       " 'Топаз, НПП': 'https://api.hh.ru/employers/129089',\n",
       " 'Москворечье Трейдинг': 'https://api.hh.ru/employers/36587',\n",
       " 'БизнесМатика': 'https://api.hh.ru/employers/4281077',\n",
       " 'Альянс полиграфических предприятий Югполиграфиздат': 'https://api.hh.ru/employers/236678',\n",
       " 'Управление Федерального Казначейства по Республике Крым': 'https://api.hh.ru/employers/10223054',\n",
       " 'ПМ-Девелопмент': 'https://api.hh.ru/employers/1366708',\n",
       " 'Боррини': 'https://api.hh.ru/employers/10896801',\n",
       " 'Суточно.ру': 'https://api.hh.ru/employers/1302041',\n",
       " 'Лелюх Екатерина Александровна': 'https://api.hh.ru/employers/4771868',\n",
       " 'MAXX': 'https://api.hh.ru/employers/5901072',\n",
       " 'Компания Металл Профиль, OOO': 'https://api.hh.ru/employers/13983',\n",
       " 'YCLIENTS LLC': 'https://api.hh.ru/employers/793926',\n",
       " 'СИТИС': 'https://api.hh.ru/employers/740482',\n",
       " 'BYTIME': 'https://api.hh.ru/employers/9415446',\n",
       " 'ФГАОУ ВО Российский университет транспорта (МИИТ)': 'https://api.hh.ru/employers/2557941',\n",
       " 'АЛМА': 'https://api.hh.ru/employers/702059',\n",
       " 'Максимов Максим Дмитриевич': 'https://api.hh.ru/employers/5928884',\n",
       " 'ГК ВИЗАВИ Консалт': 'https://api.hh.ru/employers/1326',\n",
       " 'ЛЕПИМ и ВАРИМ': 'https://api.hh.ru/employers/2017454',\n",
       " 'Акселератор Возможностей': None,\n",
       " 'ОГКУ Областной Центр Учета и Казначейства': 'https://api.hh.ru/employers/11123856',\n",
       " 'Группа компаний НВМ': 'https://api.hh.ru/employers/4598393',\n",
       " 'АЭРОКУЗБАСС': 'https://api.hh.ru/employers/3570521',\n",
       " 'Гринатом': 'https://api.hh.ru/employers/665467',\n",
       " 'ABCstaff': 'https://api.hh.ru/employers/3544865',\n",
       " 'Инвест Пром Групп': 'https://api.hh.ru/employers/9134707',\n",
       " 'Данила-Мастер': 'https://api.hh.ru/employers/847624',\n",
       " 'ЛУИС+': 'https://api.hh.ru/employers/49817',\n",
       " 'ФГУП НИЦ Курчатовский институт - ВИАМ': 'https://api.hh.ru/employers/141948',\n",
       " 'АБП': 'https://api.hh.ru/employers/3054781',\n",
       " 'Банковские и Финансовые Системы': 'https://api.hh.ru/employers/1004260',\n",
       " 'Таврида Электрик': 'https://api.hh.ru/employers/3307808',\n",
       " 'MAGHR': 'https://api.hh.ru/employers/4402402',\n",
       " 'ТТК-Связь': 'https://api.hh.ru/employers/9512687',\n",
       " 'Федеральная сетевая компания – Россети': 'https://api.hh.ru/employers/3607',\n",
       " 'Volna.tech': 'https://api.hh.ru/employers/5382804',\n",
       " 'АЙТИЛОН': 'https://api.hh.ru/employers/2566299',\n",
       " 'МАРС-автозапчасти': 'https://api.hh.ru/employers/1103868',\n",
       " 'МАОУ СОШ № 3': 'https://api.hh.ru/employers/4663619',\n",
       " 'Крильон-Сервис': 'https://api.hh.ru/employers/1025888',\n",
       " 'ОАУКИ Новгородское Областное Театрально-Концертное Агентство': 'https://api.hh.ru/employers/3004580',\n",
       " 'Anarchi.pro': 'https://api.hh.ru/employers/5275317',\n",
       " 'ABSOL': 'https://api.hh.ru/employers/312311',\n",
       " 'Межрегиональный Информационный Центр Фонда Пенсионного и Социального Страхования Российской Федерации': 'https://api.hh.ru/employers/1230328',\n",
       " 'CarX Technologies': 'https://api.hh.ru/employers/1630641',\n",
       " 'Элекард': 'https://api.hh.ru/employers/76939',\n",
       " 'АКСИТЕХ': 'https://api.hh.ru/employers/538164',\n",
       " 'ВсеИнструменты.ру': 'https://api.hh.ru/employers/208707',\n",
       " 'Дом Уюта (ИП Шпаков Григорий Алексеевич)': 'https://api.hh.ru/employers/11596224',\n",
       " 'Первая нерудная компания': 'https://api.hh.ru/employers/872879',\n",
       " 'МБУ Центр Организации Дорожного Движения': 'https://api.hh.ru/employers/10792674',\n",
       " 'Background': 'https://api.hh.ru/employers/10316259',\n",
       " 'ПрограмБанк': 'https://api.hh.ru/employers/11250',\n",
       " 'Турбулентность-Дон, Группа компаний': 'https://api.hh.ru/employers/218740',\n",
       " 'Пасифик Менеджмент': 'https://api.hh.ru/employers/10195849',\n",
       " 'Нижегородский государственный педагогический университет им. К. Минина (Мининский университет)': 'https://api.hh.ru/employers/3122062',\n",
       " 'КРОСТ': 'https://api.hh.ru/employers/2302207',\n",
       " 'Генпро': 'https://api.hh.ru/employers/2160557',\n",
       " 'Уникальные Волоконные Приборы - Комплексные Системы': 'https://api.hh.ru/employers/4782110',\n",
       " 'ЭИР Продакшн': 'https://api.hh.ru/employers/2670837',\n",
       " 'Газпром сеть АЗС': 'https://api.hh.ru/employers/3414463',\n",
       " 'Орлов Роман Игоревич': 'https://api.hh.ru/employers/10466605',\n",
       " 'Бэйрэль Телеком': 'https://api.hh.ru/employers/1680213',\n",
       " 'ПТК-Инжиниринг': 'https://api.hh.ru/employers/1860919',\n",
       " 'ГУП Автокомбинат Мосавтосантранс': 'https://api.hh.ru/employers/3365154',\n",
       " 'Гравити Групп': 'https://api.hh.ru/employers/1660344',\n",
       " 'Galactic Group': 'https://api.hh.ru/employers/589060',\n",
       " 'Саратовский Завод РМК': 'https://api.hh.ru/employers/5442375',\n",
       " 'Телематика': 'https://api.hh.ru/employers/9232544',\n",
       " 'Эльмаш-УЭТМ': 'https://api.hh.ru/employers/36708',\n",
       " 'Банк Русский Стандарт': 'https://api.hh.ru/employers/586',\n",
       " 'Валеев Равиль Радикович': 'https://api.hh.ru/employers/11068054',\n",
       " 'МФТИ': 'https://api.hh.ru/employers/1008541',\n",
       " 'ЕТС Трейд': 'https://api.hh.ru/employers/3114341',\n",
       " 'Боравто': 'https://api.hh.ru/employers/918513',\n",
       " 'New Easy Way': 'https://api.hh.ru/employers/1445895',\n",
       " 'АНО Служба защиты прав': 'https://api.hh.ru/employers/5686182',\n",
       " 'Шиховец Александр Викторович': 'https://api.hh.ru/employers/4440747',\n",
       " 'Инетра': 'https://api.hh.ru/employers/945093',\n",
       " 'Специальный Технологический Центр (ООО СТЦ)': 'https://api.hh.ru/employers/2519536',\n",
       " 'Агроресурсы': 'https://api.hh.ru/employers/143034',\n",
       " 'Глобал АйТи': 'https://api.hh.ru/employers/3572208',\n",
       " 'Станкоинформзащита, НТЦ': 'https://api.hh.ru/employers/696877',\n",
       " 'Адэкта': 'https://api.hh.ru/employers/2840907',\n",
       " 'Ситек': 'https://api.hh.ru/employers/605002',\n",
       " 'ЦКП СКИФ ФГБУ НФИЦ Институт катализа им. Г.К. Борескова СО РАН': 'https://api.hh.ru/employers/9176140',\n",
       " 'Дэлис': 'https://api.hh.ru/employers/3727649',\n",
       " 'Broniboy': 'https://api.hh.ru/employers/1641972',\n",
       " 'НПП Автономные аэрокосмические системы - ГеоСервис': 'https://api.hh.ru/employers/1677340',\n",
       " 'Форест': 'https://api.hh.ru/employers/619166',\n",
       " 'МГКЛ': 'https://api.hh.ru/employers/606135',\n",
       " 'Ростелеком Контакт-центр': 'https://api.hh.ru/employers/3634424',\n",
       " 'Лунское море': 'https://api.hh.ru/employers/3456253',\n",
       " 'Венза': 'https://api.hh.ru/employers/2735243',\n",
       " 'Специнжиниринг': 'https://api.hh.ru/employers/11680000',\n",
       " 'TrueConf': 'https://api.hh.ru/employers/8327',\n",
       " 'LIFE PAY': 'https://api.hh.ru/employers/4488077',\n",
       " 'НПО «Импульс»': 'https://api.hh.ru/employers/991967',\n",
       " 'Тензор': 'https://api.hh.ru/employers/67611',\n",
       " 'KNOW HOW MARKETING GROUP': 'https://api.hh.ru/employers/1236698',\n",
       " 'Центр корпоративных технологий': 'https://api.hh.ru/employers/1943052',\n",
       " 'Русбизнесавто': 'https://api.hh.ru/employers/7350',\n",
       " 'ТехноНИКОЛЬ': None,\n",
       " 'Marfatech': 'https://api.hh.ru/employers/5550364',\n",
       " 'Феникс': 'https://api.hh.ru/employers/2648270',\n",
       " 'GST': 'https://api.hh.ru/employers/5786560',\n",
       " 'Системы Комплексной Безопасности': 'https://api.hh.ru/employers/590575',\n",
       " 'ICS Consulting': 'https://api.hh.ru/employers/1770165',\n",
       " 'СКИФ': 'https://api.hh.ru/employers/2614390',\n",
       " 'Россельхозбанк': 'https://api.hh.ru/employers/58320',\n",
       " 'Бартош Ирина Олеговна': 'https://api.hh.ru/employers/3460143',\n",
       " 'target ai': 'https://api.hh.ru/employers/3471971',\n",
       " 'Название скрыто': None,\n",
       " 'Проф Бьюти': 'https://api.hh.ru/employers/4510165',\n",
       " 'Дунайс': 'https://api.hh.ru/employers/2015060',\n",
       " 'Компания Апогей (1С-франчайзи)': None,\n",
       " 'Okolitenco complex systems': 'https://api.hh.ru/employers/1929099',\n",
       " 'Системные Бизнес Решения': 'https://api.hh.ru/employers/39473',\n",
       " 'ВИВАС': 'https://api.hh.ru/employers/2761849',\n",
       " 'Новая форма': 'https://api.hh.ru/employers/10776576',\n",
       " 'Газпром газораспределение Дальний Восток': 'https://api.hh.ru/employers/3957823',\n",
       " 'Спецпромстрой': 'https://api.hh.ru/employers/3993439',\n",
       " 'Егоров Андрей Анатольевич': 'https://api.hh.ru/employers/11106860',\n",
       " 'ССК Софт': 'https://api.hh.ru/employers/1816007',\n",
       " 'Сибэнергомаш-БКЗ': 'https://api.hh.ru/employers/185727',\n",
       " 'Комкад': 'https://api.hh.ru/employers/9823067',\n",
       " 'Т1': 'https://api.hh.ru/employers/4649269',\n",
       " 'Инелсо': 'https://api.hh.ru/employers/41039',\n",
       " 'МедПроф': 'https://api.hh.ru/employers/9754213',\n",
       " 'Рулю': 'https://api.hh.ru/employers/2678413',\n",
       " 'КБ Арсенал': 'https://api.hh.ru/employers/1612305',\n",
       " 'MACHINEHEADS': 'https://api.hh.ru/employers/2130805',\n",
       " 'Mailfit': 'https://api.hh.ru/employers/2472088',\n",
       " 'Кочеткова Анна Михайловна': 'https://api.hh.ru/employers/2273988',\n",
       " 'ГК Форсайт': 'https://api.hh.ru/employers/3674274',\n",
       " 'ЦИБИТ': 'https://api.hh.ru/employers/1308024',\n",
       " 'Моринформсистема-Агат, Концерн': 'https://api.hh.ru/employers/179533',\n",
       " 'НТЦ МИК-ИНФОРМ': 'https://api.hh.ru/employers/108705',\n",
       " 'Тюменская сервисная геофизическая компания': 'https://api.hh.ru/employers/1435149',\n",
       " 'Яндекс Финтех': None,\n",
       " 'Happy Phone': 'https://api.hh.ru/employers/3786114',\n",
       " 'ПроИнфоСервис': 'https://api.hh.ru/employers/5255258',\n",
       " 'Обермейстер': 'https://api.hh.ru/employers/3789323',\n",
       " 'Погорелов Иван Валерьевич': 'https://api.hh.ru/employers/10604166',\n",
       " 'Велесарт': 'https://api.hh.ru/employers/777472',\n",
       " 'Системы Информационной Безопасности': 'https://api.hh.ru/employers/2668255',\n",
       " 'Кадровое агентство Аспект': 'https://api.hh.ru/employers/172343',\n",
       " 'Праксеоцентр': 'https://api.hh.ru/employers/4516423',\n",
       " 'ФОРА-БАНК, АКБ': 'https://api.hh.ru/employers/37151',\n",
       " 'Компания Смайли': 'https://api.hh.ru/employers/5382574',\n",
       " 'Project24': 'https://api.hh.ru/employers/646052',\n",
       " 'Майндлаб': 'https://api.hh.ru/employers/10659396',\n",
       " 'Предприятие «Таврия»': 'https://api.hh.ru/employers/748502',\n",
       " 'ГБУЗ СПб Медицинский информационно-аналитический центр': 'https://api.hh.ru/employers/1155565',\n",
       " 'Zofft': 'https://api.hh.ru/employers/5451938',\n",
       " 'Промрукав': 'https://api.hh.ru/employers/171846',\n",
       " 'Универсальные терминал системы': 'https://api.hh.ru/employers/1397655',\n",
       " 'Уралрегионинструмент': 'https://api.hh.ru/employers/9104053',\n",
       " 'Райс.Студио': 'https://api.hh.ru/employers/11290251',\n",
       " 'Advantica Recruitment | Advantica Automation': 'https://api.hh.ru/employers/139325',\n",
       " 'НКО Ассоциация участников технологических кружков': 'https://api.hh.ru/employers/3438331',\n",
       " 'Bauer': 'https://api.hh.ru/employers/1529289',\n",
       " 'Турагентство Coral travel (ООО ТА Вездеход)': 'https://api.hh.ru/employers/9516999',\n",
       " 'Российские космические системы': 'https://api.hh.ru/employers/901158',\n",
       " 'ДЕКА': 'https://api.hh.ru/employers/2089366',\n",
       " 'ЗооОптТорг.рф, сеть зоомагазинов': 'https://api.hh.ru/employers/2910802',\n",
       " 'Автотрейд': 'https://api.hh.ru/employers/114735',\n",
       " 'Хайтиан СНГ': 'https://api.hh.ru/employers/3607156',\n",
       " 'Цифровые Строительные Решения': 'https://api.hh.ru/employers/10875715',\n",
       " 'Ил': None,\n",
       " 'Пункт Е': 'https://api.hh.ru/employers/5753085',\n",
       " 'Администрация Городского округа Балашиха': 'https://api.hh.ru/employers/3140461',\n",
       " 'Биллинговый центр': 'https://api.hh.ru/employers/4166788',\n",
       " 'Группа компаний АРИКОН': 'https://api.hh.ru/employers/5733',\n",
       " 'Сибнефтегаз': 'https://api.hh.ru/employers/2534036',\n",
       " 'Альфа-Банк': 'https://api.hh.ru/employers/80',\n",
       " 'Айкью Групп': 'https://api.hh.ru/employers/3909769',\n",
       " 'Контур.Банк': 'https://api.hh.ru/employers/817201',\n",
       " 'Кайдзен Бизнес': 'https://api.hh.ru/employers/4540864',\n",
       " 'Ваш Платежный Проводник': None,\n",
       " 'Мэйджор Терминал': 'https://api.hh.ru/employers/2644166',\n",
       " 'АП MARKETING': 'https://api.hh.ru/employers/4717727',\n",
       " 'Рубеж, Группа компаний': 'https://api.hh.ru/employers/55307',\n",
       " 'Меньшиков HR': 'https://api.hh.ru/employers/5205281',\n",
       " 'Фирменный Торговый Дом Царицыно': 'https://api.hh.ru/employers/490452',\n",
       " 'Компания Intelsib': 'https://api.hh.ru/employers/537573',\n",
       " 'Группа Компаний Ваш Выбор': 'https://api.hh.ru/employers/208216',\n",
       " 'getmatch agency': None,\n",
       " 'ИТС ОН': 'https://api.hh.ru/employers/10473710',\n",
       " 'ИНЛАЙН': 'https://api.hh.ru/employers/76164',\n",
       " 'ГБУ МФЦ города Москвы Мои документы': 'https://api.hh.ru/employers/3390296',\n",
       " 'БРАНД': 'https://api.hh.ru/employers/677943',\n",
       " 'ФГУП ВНИИФТРИ': 'https://api.hh.ru/employers/647626',\n",
       " 'Сеть кинотеатров Премьер-Зал': 'https://api.hh.ru/employers/705423',\n",
       " 'Ульяновское конструкторское бюро приборостроения': 'https://api.hh.ru/employers/1922090',\n",
       " 'Группа Компаний Столица': 'https://api.hh.ru/employers/1259145',\n",
       " 'СММ': 'https://api.hh.ru/employers/766076',\n",
       " 'ГБУ г. Москвы Московский Городской Центр Реабилитации': 'https://api.hh.ru/employers/1800797',\n",
       " 'ГУПАО Фармация': 'https://api.hh.ru/employers/171676',\n",
       " 'АЙТИ-БАЛАНС': 'https://api.hh.ru/employers/2802995',\n",
       " 'Фабрика мебели Кухни АНОНС': 'https://api.hh.ru/employers/1226410',\n",
       " 'ВСВН Лаб': 'https://api.hh.ru/employers/687617',\n",
       " '13 этаж': 'https://api.hh.ru/employers/1035996',\n",
       " 'Меликов Петр Михайлович': 'https://api.hh.ru/employers/3383789',\n",
       " 'Аэртехник': 'https://api.hh.ru/employers/4666715',\n",
       " 'Антонова Оксана Михайловна': 'https://api.hh.ru/employers/10877565',\n",
       " 'Медведь Холдинг': 'https://api.hh.ru/employers/144395',\n",
       " 'ФИТНЕСОН': 'https://api.hh.ru/employers/3503978',\n",
       " 'Регор Строй Инновации': 'https://api.hh.ru/employers/5940478',\n",
       " 'Территориальный центр занятости населения м.р. Елховский': 'https://api.hh.ru/employers/10828704',\n",
       " 'Евро-Продукт-К': 'https://api.hh.ru/employers/1823196',\n",
       " 'Лодка': 'https://api.hh.ru/employers/3824707',\n",
       " 'НПК Катрен': 'https://api.hh.ru/employers/13819',\n",
       " 'Хачо и Пури': 'https://api.hh.ru/employers/3366120',\n",
       " 'UGC (ООО Биокорма)': None,\n",
       " 'ДОБРОЦЕН': 'https://api.hh.ru/employers/40493',\n",
       " 'Хлебозавод №7': 'https://api.hh.ru/employers/3653479',\n",
       " 'ГК AltegroSky': 'https://api.hh.ru/employers/38902',\n",
       " 'БУЗ Орловской области Станция скорой медицинской помощи': 'https://api.hh.ru/employers/1514457',\n",
       " 'Бюро': None,\n",
       " 'Московская областная энергосетевая компания (Мособлэнерго)': 'https://api.hh.ru/employers/221874',\n",
       " 'НТП Криптософт': 'https://api.hh.ru/employers/856407',\n",
       " 'ГБУ МосСпортОбъект': 'https://api.hh.ru/employers/2642917',\n",
       " 'Опытное Конструкторское Бюро Машиностроения им. И.И. Африкантова': 'https://api.hh.ru/employers/801783',\n",
       " 'Craft Promotion': 'https://api.hh.ru/employers/3503456',\n",
       " 'Модерн Гласс': 'https://api.hh.ru/employers/643398',\n",
       " 'Сигма Минералс': None,\n",
       " 'Ледас': 'https://api.hh.ru/employers/2134970',\n",
       " 'WORK MASTERS': 'https://api.hh.ru/employers/10398582',\n",
       " 'ДиС-КОМ': 'https://api.hh.ru/employers/2119697',\n",
       " 'Компания ИТЛ': 'https://api.hh.ru/employers/62347',\n",
       " 'Образовательная Компания Каменный город': 'https://api.hh.ru/employers/1792349',\n",
       " 'ONE TOUCH': 'https://api.hh.ru/employers/42890',\n",
       " 'ГБУК г. Москвы Дом русского зарубежья': 'https://api.hh.ru/employers/1277304',\n",
       " 'Яндекс MultiTrack': None,\n",
       " 'ТК Арион': 'https://api.hh.ru/employers/3086566',\n",
       " 'НПО СПЛАВ им. А. Н. Ганичева': 'https://api.hh.ru/employers/1697545',\n",
       " 'Атлант': 'https://api.hh.ru/employers/1817264',\n",
       " 'Persona Colta': 'https://api.hh.ru/employers/2928824',\n",
       " 'Красмаш': 'https://api.hh.ru/employers/3325556',\n",
       " 'ИТ Спектр': 'https://api.hh.ru/employers/5015672',\n",
       " 'Строительный Двор': 'https://api.hh.ru/employers/665449',\n",
       " 'Волосевич Сергей Владимирович': 'https://api.hh.ru/employers/3044465',\n",
       " 'Coleman Group': 'https://api.hh.ru/employers/124',\n",
       " 'АВВА РУС': 'https://api.hh.ru/employers/1053',\n",
       " 'Галтекс': 'https://api.hh.ru/employers/1197306',\n",
       " 'Инженерная группа ПЛАНА': 'https://api.hh.ru/employers/1310151',\n",
       " 'Сакура': 'https://api.hh.ru/employers/2967080',\n",
       " 'Дизайн-студия Лины Князевой': 'https://api.hh.ru/employers/5560267',\n",
       " 'Sminex': 'https://api.hh.ru/employers/62136',\n",
       " 'Нижнетагильская птицефабрика': 'https://api.hh.ru/employers/3095814',\n",
       " 'Синьор Софт': 'https://api.hh.ru/employers/5704326',\n",
       " 'Davinchi': 'https://api.hh.ru/employers/4539381',\n",
       " 'ТРК Горки': 'https://api.hh.ru/employers/2402425',\n",
       " 'Sibdev': 'https://api.hh.ru/employers/3203124',\n",
       " 'СИНЕРГИЯ': 'https://api.hh.ru/employers/127256',\n",
       " 'Арудит Секьюрити': 'https://api.hh.ru/employers/5970845',\n",
       " 'КСК ЭКСПЕРТ': 'https://api.hh.ru/employers/4875967',\n",
       " 'GITWISE (ООО ЦТП)': 'https://api.hh.ru/employers/11417739',\n",
       " 'Истринская сыроварня Олега Сироты': 'https://api.hh.ru/employers/4323500',\n",
       " 'LionAdverts': 'https://api.hh.ru/employers/11263356',\n",
       " 'Нью Бренд': 'https://api.hh.ru/employers/3995615',\n",
       " 'Гохран России': 'https://api.hh.ru/employers/1321453',\n",
       " 'Деловые Линии': 'https://api.hh.ru/employers/29413',\n",
       " 'Финансовая группа ВЭЛМО': 'https://api.hh.ru/employers/9686062',\n",
       " 'Саппл Хим': 'https://api.hh.ru/employers/11453263',\n",
       " 'Компания Ай Пи Ар Медиа': 'https://api.hh.ru/employers/4781479',\n",
       " 'Пакер Сервис': 'https://api.hh.ru/employers/118503',\n",
       " '«Аксиома-Софт»': 'https://api.hh.ru/employers/1512281',\n",
       " 'АйТиКвик': 'https://api.hh.ru/employers/2639497',\n",
       " 'ВСК, САО': 'https://api.hh.ru/employers/1439',\n",
       " 'ЕВРОДОМ ГРУПП': 'https://api.hh.ru/employers/3336276',\n",
       " 'Aston': 'https://api.hh.ru/employers/6093775',\n",
       " 'NOVOSELIE DEVELOPMENT': 'https://api.hh.ru/employers/1457009',\n",
       " 'СКБ ПА': 'https://api.hh.ru/employers/2087459',\n",
       " 'Элемент': 'https://api.hh.ru/employers/11487908',\n",
       " 'СБЕР': 'https://api.hh.ru/employers/3529',\n",
       " 'Koderline': 'https://api.hh.ru/employers/1540212',\n",
       " 'Региональный кадровый центр здравоохранения Тюменской области': 'https://api.hh.ru/employers/223087',\n",
       " 'Чупина Александра Геннадьевна': 'https://api.hh.ru/employers/5113416',\n",
       " 'Assistance Group': 'https://api.hh.ru/employers/2844497',\n",
       " 'ЦМЗ': 'https://api.hh.ru/employers/3281163',\n",
       " 'ГАУЗ Кузбасский Медицинский Информационно-Аналитический Центр': 'https://api.hh.ru/employers/2841663',\n",
       " 'Торговый ряд Радов': 'https://api.hh.ru/employers/1486431',\n",
       " 'Кортех': 'https://api.hh.ru/employers/790107',\n",
       " 'ГБУ СО Госкадастроценка': 'https://api.hh.ru/employers/3932565',\n",
       " 'ФГБНУ НИИР им. В.А. Насоновой': 'https://api.hh.ru/employers/1809137',\n",
       " 'МОНЕТА': 'https://api.hh.ru/employers/5936246',\n",
       " 'Паритет': 'https://api.hh.ru/employers/10684395',\n",
       " 'Многопрофильная клиника Скандинавия. Клиника репродукции Скандинавия АВА-ПЕТЕР': 'https://api.hh.ru/employers/104085',\n",
       " 'ДНКА Автоматизация': None,\n",
       " 'Юнивольтс': 'https://api.hh.ru/employers/1450200',\n",
       " 'Traffic, Агентство интерактивных маркетинговых коммуникаций': 'https://api.hh.ru/employers/84296',\n",
       " 'Корпорация ВНИИЭМ': 'https://api.hh.ru/employers/946190',\n",
       " 'Soho-rooms': 'https://api.hh.ru/employers/3067876',\n",
       " 'Название скрыто (Банк)': None,\n",
       " 'Кубовцова Жанна Александровна': 'https://api.hh.ru/employers/4172585',\n",
       " 'Ария Групп': 'https://api.hh.ru/employers/11346584',\n",
       " 'АНО Университет Национальной Технологической Инициативы 2035': 'https://api.hh.ru/employers/8898496',\n",
       " 'Конус-р, ООО НТЦ': 'https://api.hh.ru/employers/963254',\n",
       " 'ГБУЗ ГКБ им. С.П. Боткина ДЗМ': None,\n",
       " 'X-MOTORS': 'https://api.hh.ru/employers/1870881',\n",
       " 'Angels IT': 'https://api.hh.ru/employers/1763330',\n",
       " 'Отделение Фонда пенсионного и социального страхования Российской Федерации по Ивановской области': 'https://api.hh.ru/employers/5665881',\n",
       " 'Широкова Лариса Юрьевна': 'https://api.hh.ru/employers/9062103',\n",
       " 'Конорев Глеб': None,\n",
       " 'ЭЛТИС': 'https://api.hh.ru/employers/1066181',\n",
       " 'Metaratings': 'https://api.hh.ru/employers/10332338',\n",
       " 'Centec': 'https://api.hh.ru/employers/192993',\n",
       " 'Техагросервис': 'https://api.hh.ru/employers/3633888',\n",
       " 'Лэтуаль Диджитал': 'https://api.hh.ru/employers/5333428',\n",
       " 'Виготти': 'https://api.hh.ru/employers/197120',\n",
       " 'Байт-Транзит-Континент': 'https://api.hh.ru/employers/630597',\n",
       " 'МедРокет': 'https://api.hh.ru/employers/1545815',\n",
       " 'Газпром газораспределение Махачкала': 'https://api.hh.ru/employers/11000224',\n",
       " 'Долина Цветов': 'https://api.hh.ru/employers/2826978',\n",
       " 'Российское общество Знание': 'https://api.hh.ru/employers/3744247',\n",
       " 'MACRO': 'https://api.hh.ru/employers/2344516',\n",
       " 'НПО «Радиозавод им. А.С. Попова»': 'https://api.hh.ru/employers/1022366',\n",
       " 'Sushi-ayami': 'https://api.hh.ru/employers/5274945',\n",
       " 'Smart Group': 'https://api.hh.ru/employers/59450',\n",
       " 'Уральское Производственное предприятие Вектор': 'https://api.hh.ru/employers/2960635',\n",
       " 'Osla': 'https://api.hh.ru/employers/2668672',\n",
       " 'Тактическое ракетное вооружение': 'https://api.hh.ru/employers/709944',\n",
       " 'Среда Возможностей': 'https://api.hh.ru/employers/4561908',\n",
       " 'СДМ-Банк, (ПАО)': 'https://api.hh.ru/employers/4256',\n",
       " 'Добрые Руки': 'https://api.hh.ru/employers/3730793',\n",
       " 'ГБУЗ Новосибирской Области Новосибирский Областной Клинический Госпиталь Ветеранов Войн № 3': 'https://api.hh.ru/employers/1318225',\n",
       " 'Эдскилл': 'https://api.hh.ru/employers/6021678',\n",
       " 'БУЗ РГВВ МЗ УР': 'https://api.hh.ru/employers/10724479',\n",
       " 'Лучшая Вода': 'https://api.hh.ru/employers/10894867',\n",
       " 'Версус Геймс': 'https://api.hh.ru/employers/2547417',\n",
       " 'RecruitTech': None,\n",
       " 'Саратовский молочный комбинат': 'https://api.hh.ru/employers/872834',\n",
       " 'Современные Системы Реновации': 'https://api.hh.ru/employers/4861305',\n",
       " 'Новые медицинские технологии': 'https://api.hh.ru/employers/5447745',\n",
       " 'Винниченко Марина Александровна': 'https://api.hh.ru/employers/9402493',\n",
       " 'АМДтехнологии': 'https://api.hh.ru/employers/4081244',\n",
       " 'Компорт': 'https://api.hh.ru/employers/4410743',\n",
       " 'Активная логика': 'https://api.hh.ru/employers/1758991',\n",
       " 'TDM ELECTRIC': 'https://api.hh.ru/employers/193205',\n",
       " 'Депо Три Вокзала': 'https://api.hh.ru/employers/5104383',\n",
       " 'Ария ТВ': 'https://api.hh.ru/employers/80700',\n",
       " 'ABC Data Center': 'https://api.hh.ru/employers/11196538',\n",
       " 'Vaston-Фото': 'https://api.hh.ru/employers/837669',\n",
       " 'Якутскэнерго': 'https://api.hh.ru/employers/1626931',\n",
       " 'Stilno Studio': 'https://api.hh.ru/employers/4426543',\n",
       " 'ФинИТ': 'https://api.hh.ru/employers/5702488',\n",
       " 'ИГОРА': None,\n",
       " 'АНТ-ХИЛЛ': 'https://api.hh.ru/employers/10850641',\n",
       " 'Rocket10': 'https://api.hh.ru/employers/1721725',\n",
       " 'Про Дизайн': 'https://api.hh.ru/employers/1913891',\n",
       " 'Mosina Clinic Центр эстетической медицины': 'https://api.hh.ru/employers/3540226',\n",
       " 'Панда Гифтс': 'https://api.hh.ru/employers/637243',\n",
       " 'VIRTEX-FOOD': 'https://api.hh.ru/employers/612166',\n",
       " 'T2': 'https://api.hh.ru/employers/4219',\n",
       " 'ЧЭМК': 'https://api.hh.ru/employers/2275938',\n",
       " 'Отделение Фонда пенсионного и социального страхования Российской Федерации по Удмуртской Республике': 'https://api.hh.ru/employers/4951031',\n",
       " 'Инсайт АйТи': 'https://api.hh.ru/employers/1402527',\n",
       " 'Avilon Group': None,\n",
       " 'Норникель': 'https://api.hh.ru/employers/740',\n",
       " 'Альянс Перспективных Технологий': 'https://api.hh.ru/employers/11273864',\n",
       " 'Leroy Merlin': None,\n",
       " 'ПрофЛюди': 'https://api.hh.ru/employers/10029678',\n",
       " 'Агросила': 'https://api.hh.ru/employers/2510056',\n",
       " 'Синтека': 'https://api.hh.ru/employers/955804',\n",
       " 'КБ Мебельпроект': 'https://api.hh.ru/employers/11560158',\n",
       " 'Спутник': 'https://api.hh.ru/employers/3959584',\n",
       " 'ПКФ Информ-Сервис': 'https://api.hh.ru/employers/11541296',\n",
       " 'Outlines Technologies': 'https://api.hh.ru/employers/4305039',\n",
       " 'фирма Агрокомплекс им. Н.И. Ткачева': 'https://api.hh.ru/employers/247279',\n",
       " 'Юзу Андриан': 'https://api.hh.ru/employers/5573350',\n",
       " 'Омский филиал ФГБУ Центр оценки качества зерна': 'https://api.hh.ru/employers/5988184',\n",
       " 'Finbridge': 'https://api.hh.ru/employers/833155',\n",
       " 'Юма': 'https://api.hh.ru/employers/4873908',\n",
       " 'Инфинити': 'https://api.hh.ru/employers/10756441',\n",
       " 'УДС-Групп': None,\n",
       " 'Умскул': 'https://api.hh.ru/employers/4557535',\n",
       " 'Конышева Светлана Александровна': 'https://api.hh.ru/employers/2318241',\n",
       " 'Луганское УФАС России': 'https://api.hh.ru/employers/9794631',\n",
       " 'В Кадре': 'https://api.hh.ru/employers/10094968',\n",
       " 'Трейдберри': 'https://api.hh.ru/employers/2443495',\n",
       " 'Командор, сеть супермаркетов': 'https://api.hh.ru/employers/136475',\n",
       " 'ЭйБиКрафт': 'https://api.hh.ru/employers/2928591',\n",
       " 'Витарус': 'https://api.hh.ru/employers/4650020',\n",
       " 'Промышленные технологии': 'https://api.hh.ru/employers/3578619',\n",
       " 'Нижегородский государственный университет им. Н.И.Лобачевского НАЦИОНАЛЬНЫЙ ИССЛЕДОВАТЕЛЬСКИЙ УНИВЕРСИТЕТ': 'https://api.hh.ru/employers/1445997',\n",
       " 'Bquadro': 'https://api.hh.ru/employers/628486',\n",
       " 'Hr_клуб': 'https://api.hh.ru/employers/3068221',\n",
       " 'Ю-Софт, Группа компаний': 'https://api.hh.ru/employers/822',\n",
       " 'Джой Дев': 'https://api.hh.ru/employers/5049705',\n",
       " 'Импресс': 'https://api.hh.ru/employers/2967533',\n",
       " 'Витабуст': 'https://api.hh.ru/employers/10074762',\n",
       " 'ФармаСофт': 'https://api.hh.ru/employers/1857233',\n",
       " 'Форвард': 'https://api.hh.ru/employers/2718754',\n",
       " 'Dats.Team': None,\n",
       " 'Инженеры продаж': 'https://api.hh.ru/employers/3513073',\n",
       " 'КОМТЕК': 'https://api.hh.ru/employers/941566',\n",
       " 'ГУЗ Детская Городская Клиническая Больница г. Тулы': 'https://api.hh.ru/employers/2021636',\n",
       " 'Котельников Александр Викторович': 'https://api.hh.ru/employers/4496413',\n",
       " 'Мурманский Социальный Коммерческий Банк': 'https://api.hh.ru/employers/4001909',\n",
       " 'Эксайт Кит': 'https://api.hh.ru/employers/9198780',\n",
       " 'Газпром газораспределение Уфа': 'https://api.hh.ru/employers/579604',\n",
       " 'Garcia Design': 'https://api.hh.ru/employers/4559650',\n",
       " 'СКС': 'https://api.hh.ru/employers/234641',\n",
       " 'Шлыков Станислав Игоревич': 'https://api.hh.ru/employers/10795046',\n",
       " 'Mish Design': 'https://api.hh.ru/employers/3980424',\n",
       " 'ЧЕЛЯБИНВЕСТБАНК': 'https://api.hh.ru/employers/1203065',\n",
       " 'Компания ПЭК': 'https://api.hh.ru/employers/3838',\n",
       " 'Modnodesign': 'https://api.hh.ru/employers/5317005',\n",
       " 'Фирма Нектар': 'https://api.hh.ru/employers/119686',\n",
       " 'СПЕКТР': 'https://api.hh.ru/employers/1542269',\n",
       " 'РА Звезда': 'https://api.hh.ru/employers/5644111',\n",
       " 'Userstory': 'https://api.hh.ru/employers/1278595',\n",
       " 'Московский центр развития спортивной инфраструктуры': 'https://api.hh.ru/employers/5585871',\n",
       " 'Ведита': 'https://api.hh.ru/employers/1435530',\n",
       " 'IspecAlgo': 'https://api.hh.ru/employers/11562906',\n",
       " 'Инквайр': 'https://api.hh.ru/employers/11579121',\n",
       " 'Diamond Personnel R&C': 'https://api.hh.ru/employers/37623',\n",
       " 'КМ-профиль': 'https://api.hh.ru/employers/978577',\n",
       " 'Фаст Финанс': 'https://api.hh.ru/employers/914196',\n",
       " 'Протектор': 'https://api.hh.ru/employers/10232312',\n",
       " 'Ozon': 'https://api.hh.ru/employers/2180',\n",
       " 'Hi, Rockits!': 'https://api.hh.ru/employers/1111058',\n",
       " 'Томский инструментальный завод': 'https://api.hh.ru/employers/3592367',\n",
       " '4А.Консалтинг': 'https://api.hh.ru/employers/3273608',\n",
       " 'MOST (ООО Платформа Мост)': 'https://api.hh.ru/employers/8941826',\n",
       " 'Калининградский янтарный комбинат': 'https://api.hh.ru/employers/650050',\n",
       " 'ГБУЗ РА Медицинский информационно-аналитический центр Министерства здравоохранения Республики Адыгея': 'https://api.hh.ru/employers/9557096',\n",
       " 'Попов Андрей Дмитриевич': 'https://api.hh.ru/employers/9079675',\n",
       " 'Центр дистанционных торгов': 'https://api.hh.ru/employers/810313',\n",
       " 'Динамика, НПФ': 'https://api.hh.ru/employers/30767',\n",
       " 'Группа Компаний ЛАДЬЯ': 'https://api.hh.ru/employers/2031861',\n",
       " 'Компания maxim': 'https://api.hh.ru/employers/912307',\n",
       " 'ОМЕГАЛЬЯНС®': 'https://api.hh.ru/employers/599055',\n",
       " 'Бетховен сеть зоомагазинов': 'https://api.hh.ru/employers/101329',\n",
       " 'Плакунова Диана Павловна': 'https://api.hh.ru/employers/10273180',\n",
       " 'LEX Group': 'https://api.hh.ru/employers/1142029',\n",
       " 'АНГАРА-СОФТ': 'https://api.hh.ru/employers/1733804',\n",
       " 'JavaCode': None,\n",
       " 'Содериз': 'https://api.hh.ru/employers/10156238',\n",
       " 'Комс': 'https://api.hh.ru/employers/2500202',\n",
       " 'ТК Любимый дом': 'https://api.hh.ru/employers/3717601',\n",
       " 'Ахмеджанов Евгений Наильевич': 'https://api.hh.ru/employers/2941809',\n",
       " 'Монетка, Торговая сеть': 'https://api.hh.ru/employers/32501',\n",
       " 'Филиал ФКУ Налог-Сервис ФНС России в Новосибирской области': 'https://api.hh.ru/employers/3460922',\n",
       " 'Пандорум': 'https://api.hh.ru/employers/3350522',\n",
       " 'Медицина': None,\n",
       " 'Вычислительные решения': 'https://api.hh.ru/employers/3757107',\n",
       " 'UltraCOM': 'https://api.hh.ru/employers/1473202',\n",
       " 'Saigge': 'https://api.hh.ru/employers/5184065',\n",
       " 'Филиал в г. Санкт-Петербург АО Концерн Радиостроения Вега': 'https://api.hh.ru/employers/1092665',\n",
       " 'Мебельная компания Ангстрем': 'https://api.hh.ru/employers/4728',\n",
       " 'ИНЖЕНЕРНЫЕ РЕШЕНИЯ': None,\n",
       " 'Парамонов Дмитрий': 'https://api.hh.ru/employers/4166499',\n",
       " 'Константа': 'https://api.hh.ru/employers/138191',\n",
       " 'Газпром ОНУТЦ': 'https://api.hh.ru/employers/563598',\n",
       " 'НПО АНГСТРЕМ': 'https://api.hh.ru/employers/1395186',\n",
       " 'Ламбумиз': 'https://api.hh.ru/employers/2573860',\n",
       " 'Акционерное общество «Региональные электрические сети»': 'https://api.hh.ru/employers/835568',\n",
       " 'Компания Метта': 'https://api.hh.ru/employers/1318822',\n",
       " 'Концерн Гранит-Электрон': 'https://api.hh.ru/employers/552749',\n",
       " 'ФЛОРИС': 'https://api.hh.ru/employers/2897019',\n",
       " 'Ле Муррр': 'https://api.hh.ru/employers/969881',\n",
       " 'Алтимета': 'https://api.hh.ru/employers/1065968',\n",
       " 'Сима-ленд': 'https://api.hh.ru/employers/46587',\n",
       " 'Мираторг, Агропромышленный холдинг': 'https://api.hh.ru/employers/17275',\n",
       " '24Н Софт': 'https://api.hh.ru/employers/2515455',\n",
       " 'ФГБУ Приморское УГМС': 'https://api.hh.ru/employers/3944980',\n",
       " 'Ideas4fun': 'https://api.hh.ru/employers/11369097',\n",
       " 'ГК Системы и Технологии': 'https://api.hh.ru/employers/928263',\n",
       " 'АСАП РАЗРАБОТКА': 'https://api.hh.ru/employers/5283322',\n",
       " 'РОССКО': 'https://api.hh.ru/employers/245592',\n",
       " 'Prof-IT': 'https://api.hh.ru/employers/2910384',\n",
       " 'ОБИТ': 'https://api.hh.ru/employers/53676',\n",
       " 'КухниЭкспресс': 'https://api.hh.ru/employers/1413478',\n",
       " 'Your CodeReview': 'https://api.hh.ru/employers/5962259',\n",
       " 'МКК Займ-Экспресс': 'https://api.hh.ru/employers/802852',\n",
       " 'МКУ Электронный Краснодар': 'https://api.hh.ru/employers/5321052',\n",
       " 'ГБУЗ СГКБ №1 им. Н.И. Пирогова': 'https://api.hh.ru/employers/1385186',\n",
       " 'Мединвестгрупп': 'https://api.hh.ru/employers/4887922',\n",
       " 'Градус': 'https://api.hh.ru/employers/4081488',\n",
       " 'StandUp_Msk': 'https://api.hh.ru/employers/8900677',\n",
       " 'Отделение Фонда пенсионного и социального страхования Российской Федерации по Республике Бурятия': 'https://api.hh.ru/employers/3436648',\n",
       " 'Невский Завод': 'https://api.hh.ru/employers/10696710',\n",
       " 'Пенотерм-Групп': 'https://api.hh.ru/employers/11621334',\n",
       " 'Ижевский завод тепловой техники': 'https://api.hh.ru/employers/848257',\n",
       " 'Zelax': 'https://api.hh.ru/employers/11284',\n",
       " 'Юнитойс МСК': 'https://api.hh.ru/employers/6932',\n",
       " 'ГБУЗ РК Республиканский кожно-венерологический диспансер': 'https://api.hh.ru/employers/9104533',\n",
       " 'Xstreet': 'https://api.hh.ru/employers/10771425',\n",
       " 'ГК АГАТ': 'https://api.hh.ru/employers/214154',\n",
       " 'Максидом': 'https://api.hh.ru/employers/9187',\n",
       " 'ЦНИИАГ': 'https://api.hh.ru/employers/1075252',\n",
       " 'Иннор': 'https://api.hh.ru/employers/719818',\n",
       " 'Группа Компаний «АВА»': 'https://api.hh.ru/employers/2719776',\n",
       " 'Контент': 'https://api.hh.ru/employers/12008534',\n",
       " 'ЭВРИТЕГ': 'https://api.hh.ru/employers/1421595',\n",
       " 'GenGO': 'https://api.hh.ru/employers/9288781',\n",
       " 'Интерсофт': 'https://api.hh.ru/employers/104281',\n",
       " 'Сервер в Аренду': 'https://api.hh.ru/employers/915064',\n",
       " 'Компания Деловое решение': 'https://api.hh.ru/employers/1394267',\n",
       " 'Softintermob LLC': 'https://api.hh.ru/employers/10259650',\n",
       " 'ПО Физтех': 'https://api.hh.ru/employers/1313522',\n",
       " 'Алгоритм Спец Техники': 'https://api.hh.ru/employers/9191150',\n",
       " 'Креативная типография First Print': 'https://api.hh.ru/employers/1186495',\n",
       " 'BelkaCar': 'https://api.hh.ru/employers/1749095',\n",
       " 'Общественная палата РФ': 'https://api.hh.ru/employers/1828984',\n",
       " 'ФН Машины': 'https://api.hh.ru/employers/677628',\n",
       " 'Ленинский районный суд города Перми': 'https://api.hh.ru/employers/9792393',\n",
       " 'РКС-энерго': 'https://api.hh.ru/employers/1500848',\n",
       " 'ЛабСистемс': 'https://api.hh.ru/employers/2020022',\n",
       " 'Интертехэлектро': 'https://api.hh.ru/employers/145416',\n",
       " 'Объединенные кондитеры': 'https://api.hh.ru/employers/44877',\n",
       " 'SmartSites': 'https://api.hh.ru/employers/1255897',\n",
       " 'МАКСБИТСОЛЮШЕН': 'https://api.hh.ru/employers/4525306',\n",
       " 'Майхит': 'https://api.hh.ru/employers/4166496',\n",
       " 'UFATECH': 'https://api.hh.ru/employers/630052',\n",
       " 'Группа СВЭЛ': 'https://api.hh.ru/employers/60977',\n",
       " 'СберТройка': 'https://api.hh.ru/employers/5235814',\n",
       " 'Протон-Импульс': 'https://api.hh.ru/employers/1113352',\n",
       " 'Громова Анастасия Андреевна': 'https://api.hh.ru/employers/9264639',\n",
       " 'Аллигатор': 'https://api.hh.ru/employers/3021576',\n",
       " 'Банк ВТБ (ПАО)': 'https://api.hh.ru/employers/4181',\n",
       " 'Невасофт': 'https://api.hh.ru/employers/11661728',\n",
       " 'КстатиDa': 'https://api.hh.ru/employers/10399204',\n",
       " 'Группа Компаний Мечел': 'https://api.hh.ru/employers/2931950',\n",
       " 'Роснефть РН-Северо-Запад': 'https://api.hh.ru/employers/227780',\n",
       " 'Имэксис': 'https://api.hh.ru/employers/9936232',\n",
       " 'НИИСТИС': 'https://api.hh.ru/employers/10828288',\n",
       " 'УК Союз Маринс Групп Нижний Новгород': 'https://api.hh.ru/employers/2402405',\n",
       " 'ЗИТРЕК РУС': 'https://api.hh.ru/employers/4187188',\n",
       " 'DBI': 'https://api.hh.ru/employers/77301',\n",
       " 'Кадровое Агентство Профессионал': 'https://api.hh.ru/employers/176465',\n",
       " 'Joom': 'https://api.hh.ru/employers/2801530',\n",
       " 'Администрация Города Томска': 'https://api.hh.ru/employers/1268959',\n",
       " 'ГКУ Служба финансового контроля Департамента образования и науки города Москвы': 'https://api.hh.ru/employers/2795248',\n",
       " 'Электрогарант': 'https://api.hh.ru/employers/1504174',\n",
       " 'ARTVIP': 'https://api.hh.ru/employers/8880603',\n",
       " 'Идв-Групп': 'https://api.hh.ru/employers/9085399',\n",
       " 'ФГБУ Детский медицинский центр': 'https://api.hh.ru/employers/2104445',\n",
       " 'Intelior': 'https://api.hh.ru/employers/11215828',\n",
       " 'Comrade Web Agency': 'https://api.hh.ru/employers/2521176',\n",
       " 'Productive heads': 'https://api.hh.ru/employers/875212',\n",
       " 'ИГМА Карго': 'https://api.hh.ru/employers/5052769',\n",
       " 'Бюро Цифровых Технологий': 'https://api.hh.ru/employers/9439878',\n",
       " 'АйТи46': 'https://api.hh.ru/employers/1545511',\n",
       " 'Comfort Group': 'https://api.hh.ru/employers/5232191',\n",
       " 'Амур сеть цветочных салонов': 'https://api.hh.ru/employers/5005676',\n",
       " 'Артифекс Проф': 'https://api.hh.ru/employers/4205246',\n",
       " 'Сеть Партнерств': 'https://api.hh.ru/employers/5290101',\n",
       " 'Данлеко': 'https://api.hh.ru/employers/4026186',\n",
       " 'Сарапульский электрогенераторный завод': 'https://api.hh.ru/employers/5089211',\n",
       " 'Аффикс Групп': 'https://api.hh.ru/employers/720348',\n",
       " 'Голофаева Елена Сергеевна': 'https://api.hh.ru/employers/5465713',\n",
       " 'РОСЭЛТОРГ': 'https://api.hh.ru/employers/100424',\n",
       " 'Филиал ППК Роскадастр по Краснодарскому краю': 'https://api.hh.ru/employers/3195864',\n",
       " 'Urban University': 'https://api.hh.ru/employers/10383206',\n",
       " 'Объединенные КриптоСистемы': 'https://api.hh.ru/employers/1261024',\n",
       " 'Lenkep recruitment': 'https://api.hh.ru/employers/5402004',\n",
       " 'KIBERone (Крошкина Виктория Владиморовна)': 'https://api.hh.ru/employers/10127853',\n",
       " 'Информер Девелопмент': 'https://api.hh.ru/employers/4306495',\n",
       " 'Санаторий Родник Алтая (Представительство Новосибирск)': 'https://api.hh.ru/employers/1237377',\n",
       " 'Брянский автомобильный завод': 'https://api.hh.ru/employers/2489216',\n",
       " 'Проектное Бюро Промэковод': 'https://api.hh.ru/employers/5501403',\n",
       " 'Компэл': 'https://api.hh.ru/employers/247',\n",
       " 'РЖД-ТехСервис': 'https://api.hh.ru/employers/2941438',\n",
       " 'Minto': 'https://api.hh.ru/employers/8907803',\n",
       " 'ФГБОУ ВО Башкирский государственный медицинский университет Министерства Здравоохранения Российской Федерации': 'https://api.hh.ru/employers/1048716',\n",
       " 'МОСКОВСКАЯ СТРОИТЕЛЬНАЯ КОМПАНИЯ': 'https://api.hh.ru/employers/2182427',\n",
       " 'Project P': 'https://api.hh.ru/employers/10216512',\n",
       " 'ВКБ-НОВОСТРОЙКИ': 'https://api.hh.ru/employers/2819096',\n",
       " 'Красное & Белое, розничная сеть': 'https://api.hh.ru/employers/1035394',\n",
       " 'Национальный исследовательский Томский политехнический университет': 'https://api.hh.ru/employers/860185',\n",
       " 'Леонардо': 'https://api.hh.ru/employers/2819011',\n",
       " 'Титан': 'https://api.hh.ru/employers/9372660',\n",
       " 'Диамонд-Лед': 'https://api.hh.ru/employers/2834429',\n",
       " 'Dantex Group': 'https://api.hh.ru/employers/39115',\n",
       " 'Аэропорт Толмачево': 'https://api.hh.ru/employers/583226',\n",
       " 'ОАК-Ресурс': 'https://api.hh.ru/employers/5911379',\n",
       " 'КРАСНОДАРЭЛЕКТРО': 'https://api.hh.ru/employers/1533615',\n",
       " 'Симпл Деливери Груп': 'https://api.hh.ru/employers/4843986',\n",
       " 'ТК Торгзнаксервис': None,\n",
       " 'Альбакор ИИР': 'https://api.hh.ru/employers/11466356',\n",
       " 'Альтаир': 'https://api.hh.ru/employers/1238367',\n",
       " 'Битривер Рус': 'https://api.hh.ru/employers/3313630',\n",
       " 'СДС': 'https://api.hh.ru/employers/4431748',\n",
       " 'КОРЕАНА': 'https://api.hh.ru/employers/4651161',\n",
       " 'Розан': 'https://api.hh.ru/employers/715021',\n",
       " 'КРЫМСКАЯ СЫРНАЯ КОМПАНИЯ': 'https://api.hh.ru/employers/1868672',\n",
       " 'ТА Групп': 'https://api.hh.ru/employers/9729167',\n",
       " 'Автосервис Good-Avto': 'https://api.hh.ru/employers/2423398',\n",
       " 'Лидер': 'https://api.hh.ru/employers/10346777',\n",
       " ...}"
      ]
     },
     "execution_count": 72,
     "metadata": {},
     "output_type": "execute_result"
    }
   ],
   "source": [
    "companies_urls"
   ]
  },
  {
   "cell_type": "code",
   "execution_count": 76,
   "id": "6fd3ceeb",
   "metadata": {},
   "outputs": [],
   "source": [
    "with open(\"companies.json\", \"w\", encoding=\"utf-8\") as f:\n",
    "    json.dump(companies_urls, f, ensure_ascii=False, indent=4)"
   ]
  },
  {
   "cell_type": "code",
   "execution_count": 83,
   "id": "ef2e55bc",
   "metadata": {},
   "outputs": [],
   "source": [
    "req = requests.get(\"https://api.hh.ru/employers/999442\")"
   ]
  },
  {
   "cell_type": "code",
   "execution_count": 86,
   "id": "48183a6b",
   "metadata": {},
   "outputs": [
    {
     "name": "stderr",
     "output_type": "stream",
     "text": [
      "Сбор industries: 100%|██████████| 9416/9416 [01:37<00:00, 96.24it/s] \n"
     ]
    }
   ],
   "source": [
    "async def fetch_industries(session, url):\n",
    "    \"\"\"Асинхронный запрос для получения industries компании.\"\"\"\n",
    "    try:\n",
    "        async with session.get(url) as response:\n",
    "            if response.status == 200:\n",
    "                data = await response.json()\n",
    "                industries = data.get(\"industries\", [])\n",
    "                return {url: industries}\n",
    "            else:\n",
    "                print(f\"Ошибка {response.status} для URL: {url}\")\n",
    "                return {url: []}\n",
    "    except Exception as e:\n",
    "        print(f\"Ошибка для URL {url}: {e}\")\n",
    "        return {url: None}\n",
    "\n",
    "async def fetch_all_industries(urls, max_concurrent=10):\n",
    "    \"\"\"Асинхронный сбор industries для всех компаний.\"\"\"\n",
    "    semaphore = asyncio.Semaphore(max_concurrent)\n",
    "\n",
    "    async def fetch_with_semaphore(session, url):\n",
    "        async with semaphore:\n",
    "            return await fetch_industries(session, url)\n",
    "\n",
    "    async with aiohttp.ClientSession(timeout=aiohttp.ClientTimeout(total=30)) as session:\n",
    "        tasks = [fetch_with_semaphore(session, url) for url in urls]\n",
    "        results = await tqdm.gather(*tasks, desc=\"Сбор industries\")\n",
    "    return results\n",
    "\n",
    "# Загрузка сохраненных ссылок компаний\n",
    "with open(\"companies.json\", \"r\", encoding=\"utf-8\") as f:\n",
    "    companies_urls = json.load(f)\n",
    "\n",
    "# Фильтруем только существующие ссылки\n",
    "valid_urls = [url for url in companies_urls.values() if url]\n",
    "\n",
    "# Асинхронный запуск\n",
    "industries_data = await fetch_all_industries(valid_urls)\n",
    "\n",
    "# Преобразуем результаты в словарь\n",
    "industries_mapping = {k: v for result in industries_data for k, v in result.items()}\n",
    "\n",
    "# Сохраняем результаты в файл\n",
    "with open(\"industries.json\", \"w\", encoding=\"utf-8\") as f:\n",
    "    json.dump(industries_mapping, f, ensure_ascii=False, indent=4)"
   ]
  },
  {
   "cell_type": "code",
   "execution_count": 91,
   "id": "ef076cc6",
   "metadata": {},
   "outputs": [
    {
     "data": {
      "text/plain": [
       "3715"
      ]
     },
     "execution_count": 91,
     "metadata": {},
     "output_type": "execute_result"
    }
   ],
   "source": [
    "count_nan = 0\n",
    "for i in industries_mapping.values():\n",
    "    if not i:\n",
    "        count_nan += 1\n",
    "\n",
    "count_nan"
   ]
  },
  {
   "cell_type": "code",
   "execution_count": 85,
   "id": "419081e6",
   "metadata": {},
   "outputs": [
    {
     "name": "stdout",
     "output_type": "stream",
     "text": [
      "[{\"id\":\"5\",\"name\":\"Перевозки, логистика, склад, ВЭД\",\"industries\":[{\"id\":\"5.461\",\"name\":\"Авиаперевозки\"},{\"id\":\"5.462\",\"name\":\"Автомобильные перевозки\"},{\"id\":\"5.463\",\"name\":\"Железнодорожные перевозки\"},{\"id\":\"5.464\",\"name\":\"Морские, речные перевозки\"},{\"id\":\"5.465\",\"name\":\"Транспортно-логистические комплексы, порты (воздушный, водный, железнодорожный)\"},{\"id\":\"5.466\",\"name\":\"Складские услуги\"},{\"id\":\"5.467\",\"name\":\"Курьерская, почтовая доставка\"},{\"id\":\"5.468\",\"name\":\"ВЭД, таможенное оформление\"}]},{\"id\":\"7\",\"name\":\"Информационные технологии, системная интеграция, интернет\",\"industries\":[{\"id\":\"7.538\",\"name\":\"Интернет-провайдер\"},{\"id\":\"7.539\",\"name\":\"Системная интеграция,  автоматизации технологических и бизнес-процессов предприятия, ИТ-консалтинг\"},{\"id\":\"7.540\",\"name\":\"Разработка программного обеспечения\"},{\"id\":\"7.541\",\"name\":\"Интернет-компания (поисковики, платежные системы, соц.сети, информационно-познавательные и развлекательные ресурсы, продвижение сайтов и прочее)\"}]},{\"id\":\"8\",\"name\":\"Электроника, приборостроение, бытовая техника, компьютеры и оргтехника\",\"industries\":[{\"id\":\"8.478\",\"name\":\"Бытовая техника, электроника, климатическое оборудование (производство)\"},{\"id\":\"8.479\",\"name\":\"Бытовая техника, электроника, климатическое оборудование (монтаж, сервис, ремонт)\"},{\"id\":\"8.480\",\"name\":\"Бытовая техника, электроника, климатическое оборудование (продвижение, оптовая торговля)\"},{\"id\":\"8.481\",\"name\":\"Промышленное, бытовое электрооборудование и электротехника (производство)\"},{\"id\":\"8.482\",\"name\":\"Промышленное, бытовое электрооборудование и электротехника (монтаж, сервис, ремонт)\"},{\"id\":\"8.483\",\"name\":\"Промышленное, бытовое электрооборудование и электротехника (продвижение, оптовая торговля)\"},{\"id\":\"8.484\",\"name\":\"Электронно-вычислительная, оптическая, контрольно-измерительная техника, радиоэлектроника, автоматика (производство)\"},{\"id\":\"8.485\",\"name\":\"Электронно-вычислительная, оптическая, контрольно-измерительная техника, радиоэлектроника, автоматика (монтаж, сервис, ремонт)\"},{\"id\":\"8.486\",\"name\":\"Электронно-вычислительная, оптическая, контрольно-измерительная техника, радиоэлектроника, автоматика (продвижение, оптовая торговля)\"}]},{\"id\":\"9\",\"name\":\"Телекоммуникации, связь\",\"industries\":[{\"id\":\"9.399\",\"name\":\"Мобильная связь\"},{\"id\":\"9.400\",\"name\":\"Фиксированная связь\"},{\"id\":\"9.401\",\"name\":\"Оптоволоконная связь\"},{\"id\":\"9.402\",\"name\":\"Спутниковая связь\"}]},{\"id\":\"11\",\"name\":\"СМИ, маркетинг, реклама, BTL, PR, дизайн, продюсирование\",\"industries\":[{\"id\":\"11.452\",\"name\":\"Издательская деятельность\"},{\"id\":\"11.453\",\"name\":\"Производство мультимедиа, контента, редакторская деятельность\"},{\"id\":\"11.454\",\"name\":\"Распространение телепрограмм, кино (кабельное телевидение)\"},{\"id\":\"11.455\",\"name\":\"Киностудии и студии звукозаписи\"},{\"id\":\"11.456\",\"name\":\"Теле- и радиовещание\"},{\"id\":\"11.457\",\"name\":\"Продюсерский центр\"},{\"id\":\"11.458\",\"name\":\"Распространение мультимедиа и печатной продукции\"},{\"id\":\"11.459\",\"name\":\"Маркетинговые, рекламные, BTL, дизайнерские, Event-, PR-агентства, организация выставок\"},{\"id\":\"11.460\",\"name\":\"Производство печатной, полиграфической продукции\"},{\"id\":\"11.685\",\"name\":\"Производство и продажа рекламно-сувенирной продукции\"}]},{\"id\":\"13\",\"name\":\"Строительство, недвижимость, эксплуатация, проектирование\",\"industries\":[{\"id\":\"13.654\",\"name\":\"Девелопмент\"},{\"id\":\"13.655\",\"name\":\"Строительство объектов нефтегазовой отрасли\"},{\"id\":\"13.656\",\"name\":\"Строительство объектов металлургической отрасли\"},{\"id\":\"13.657\",\"name\":\"Строительство объектов телекоммуникационной отрасли\"},{\"id\":\"13.658\",\"name\":\"Строительство энергетическое\"},{\"id\":\"13.659\",\"name\":\"Строительство промышленное\"},{\"id\":\"13.660\",\"name\":\"Строительство коммерческих объектов (торговые площади, офисные здания)\"},{\"id\":\"13.661\",\"name\":\"Строительство жилищное\"},{\"id\":\"13.662\",\"name\":\"Строительство дорожное и инфраструктурное\"},{\"id\":\"13.663\",\"name\":\"Архитектура, проектирование\"},{\"id\":\"13.664\",\"name\":\"Управление и эксплуатация недвижимости\"},{\"id\":\"13.665\",\"name\":\"Консалтинг, оценка в недвижимости\"},{\"id\":\"13.666\",\"name\":\"Агентские услуги в недвижимости\"}]},{\"id\":\"15\",\"name\":\"Автомобильный бизнес\",\"industries\":[{\"id\":\"15.542\",\"name\":\"Легковые, грузовые автомобили, мототехника, автобусы, троллейбусы (производство)\"},{\"id\":\"15.543\",\"name\":\"Легковые, грузовые автомобили, мототехника, автобусы, троллейбусы (продвижение, оптовая торговля)\"},{\"id\":\"15.544\",\"name\":\"Розничная торговля автомобилями (дилерский центр)\"},{\"id\":\"15.545\",\"name\":\"Автокомпоненты, запчасти (производство)\"},{\"id\":\"15.546\",\"name\":\"Автокомпоненты, запчасти, шины (продвижение, оптовая торговля)\"},{\"id\":\"15.547\",\"name\":\"Автозапчасти, шины (розничная торговля)\"},{\"id\":\"15.548\",\"name\":\"Техническое обслуживание, ремонт автомобилей\"},{\"id\":\"15.549\",\"name\":\"Финансовые услуги (кэптивные банки и лизинговые компании)\"}]},{\"id\":\"19\",\"name\":\"Лесная промышленность, деревообработка\",\"industries\":[{\"id\":\"19.620\",\"name\":\"Деревообработка (производство)\"},{\"id\":\"19.621\",\"name\":\"Продукция деревообработки (продвижение, оптовая торговля)\"},{\"id\":\"19.622\",\"name\":\"Столярно-строительные изделия (производство)\"},{\"id\":\"19.623\",\"name\":\"Столярно-строительные изделия (продвижение, оптовая торговля)\"},{\"id\":\"19.624\",\"name\":\"Целлюлозно-бумажное производство\"},{\"id\":\"19.625\",\"name\":\"Целлюлозно-бумажная продукция (продвижение, оптовая торговля)\"}]},{\"id\":\"24\",\"name\":\"Металлургия, металлообработка\",\"industries\":[{\"id\":\"24.633\",\"name\":\"Черная металлургия (производство чугуна, стали, проката)\"},{\"id\":\"24.634\",\"name\":\"Продукция черной металлургии (продвижение, оптовая торговля)\"},{\"id\":\"24.635\",\"name\":\"Цветная металлургия (выплавка, металлопрокат)\"},{\"id\":\"24.636\",\"name\":\"Продукция цветной металлургии (продвижение, оптовая торговля)\"},{\"id\":\"24.637\",\"name\":\"Драгоценные, благородные и редкие металлы (производство)\"},{\"id\":\"24.638\",\"name\":\"Драгоценные, благородные и редкие металлы (продвижение, оптовая торговля)\"},{\"id\":\"24.639\",\"name\":\"Металлические изделия, металлоконструкции (производство)\"},{\"id\":\"24.640\",\"name\":\"Металлические изделия, металлоконструкции (продвижение, оптовая торговля)\"}]},{\"id\":\"27\",\"name\":\"Продукты питания\",\"industries\":[{\"id\":\"27.550\",\"name\":\"Безалкогольные напитки (производство)\"},{\"id\":\"27.551\",\"name\":\"Безалкогольные напитки (продвижение, оптовая торговля)\"},{\"id\":\"27.552\",\"name\":\"Вино (производство)\"},{\"id\":\"27.553\",\"name\":\"Ликероводочная продукция (производство)\"},{\"id\":\"27.554\",\"name\":\"Пиво (производство)\"},{\"id\":\"27.555\",\"name\":\"Алкогольные напитки (продвижение, оптовая торговля)\"},{\"id\":\"27.556\",\"name\":\"Детское питание (производство)\"},{\"id\":\"27.557\",\"name\":\"Детское питание (продвижение, оптовая торговля)\"},{\"id\":\"27.558\",\"name\":\"Кондитерские изделия (производство)\"},{\"id\":\"27.559\",\"name\":\"Кондитерские изделия (продвижение, оптовая торговля)\"},{\"id\":\"27.560\",\"name\":\"Консервированная продукция (производство)\"},{\"id\":\"27.561\",\"name\":\"Консервированная продукция (продвижение, оптовая торговля)\"},{\"id\":\"27.562\",\"name\":\"Корма для животных (производство)\"},{\"id\":\"27.563\",\"name\":\"Корма для животных (продвижение, оптовая торговля)\"},{\"id\":\"27.564\",\"name\":\"Макаронные изделия (производство)\"},{\"id\":\"27.565\",\"name\":\"Макаронные изделия (продвижение, оптовая торговля)\"},{\"id\":\"27.566\",\"name\":\"Масложировая продукция (производство)\"},{\"id\":\"27.567\",\"name\":\"Масложировая продукция (продвижение, оптовая торговля)\"},{\"id\":\"27.568\",\"name\":\"Молочная продукция (производство)\"},{\"id\":\"27.569\",\"name\":\"Молочная продукция (продвижение, оптовая торговля)\"},{\"id\":\"27.570\",\"name\":\"Мука, крупы (производство)\"},{\"id\":\"27.571\",\"name\":\"Мука, крупы (продвижение, оптовая торговля)\"},{\"id\":\"27.572\",\"name\":\"Мясная продукция (продвижение, оптовая торговля)\"},{\"id\":\"27.573\",\"name\":\"Мясная продукция (производство)\"},{\"id\":\"27.574\",\"name\":\"Пищевые концентраты (производство)\"},{\"id\":\"27.575\",\"name\":\"Пищевые концентраты (продвижение, оптовая торговля)\"},{\"id\":\"27.576\",\"name\":\"Рыба и морепродукты (производство)\"},{\"id\":\"27.577\",\"name\":\"Рыба и морепродукты (продвижение, оптовая торговля)\"},{\"id\":\"27.578\",\"name\":\"Полуфабрикаты, в том числе замороженные (производство)\"},{\"id\":\"27.579\",\"name\":\"Полуфабрикаты, в том числе замороженные  (продвижение, оптовая торговля)\"},{\"id\":\"27.580\",\"name\":\"Снеки (производство)\"},{\"id\":\"27.581\",\"name\":\"Снеки (продвижение, оптовая торговля)\"},{\"id\":\"27.582\",\"name\":\"Сахар (производство)\"},{\"id\":\"27.583\",\"name\":\"Сахар (продвижение, оптовая торговля)\"},{\"id\":\"27.584\",\"name\":\"Свежие овощи, фрукты (продвижение, оптовая торговля)\"},{\"id\":\"27.585\",\"name\":\"Хлебобулочные изделия (производство)\"},{\"id\":\"27.586\",\"name\":\"Хлебобулочные изделия (продвижение, оптовая торговля)\"},{\"id\":\"27.587\",\"name\":\"Чай, кофе (производство)\"},{\"id\":\"27.588\",\"name\":\"Чай, кофе (продвижение, оптовая торговля)\"}]},{\"id\":\"29\",\"name\":\"Сельское хозяйство\",\"industries\":[{\"id\":\"29.531\",\"name\":\"Земледелие, растениеводство, животноводство\"},{\"id\":\"29.532\",\"name\":\"Рыболовство, рыбоводство\"},{\"id\":\"29.533\",\"name\":\"Сельскохозяйственная продукция (продвижение, оптовая торговля)\"}]},{\"id\":\"33\",\"name\":\"Тяжелое машиностроение\",\"industries\":[{\"id\":\"33.428\",\"name\":\"Авиационная, вертолетная, аэрокосмическая промышленность\"},{\"id\":\"33.429\",\"name\":\"Продукция авиационной, аэрокосмической, вертолетной промышленности (монтаж, сервис, ремонт)\"},{\"id\":\"33.430\",\"name\":\"Продукция авиационной, аэрокосмической, вертолетной промышленности (продвижение, оптовая торговля)\"},{\"id\":\"33.431\",\"name\":\"Двигатели (производство)\"},{\"id\":\"33.432\",\"name\":\"Двигатели (монтаж, сервис, ремонт)\"},{\"id\":\"33.433\",\"name\":\"Двигатели (продвижение, оптовая торговля)\"},{\"id\":\"33.434\",\"name\":\"Железнодорожное машиностроение, вагоностроение\"},{\"id\":\"33.435\",\"name\":\"Продукция железнодорожного машиностроения, вагоностроения (продвижение, оптовая торговля)\"},{\"id\":\"33.436\",\"name\":\"Продукция железнодорожного машиностроения, вагоностроения (монтаж, сервис, ремонт)\"},{\"id\":\"33.437\",\"name\":\"Судостроение\"},{\"id\":\"33.438\",\"name\":\"Судоремонт\"},{\"id\":\"33.439\",\"name\":\"Продукция судостроения (продвижение, оптовая торговля)\"},{\"id\":\"33.440\",\"name\":\"Производство и ремонт военной техники, оборудования и вооружения\"}]},{\"id\":\"34\",\"name\":\"Химическое производство, удобрения\",\"industries\":[{\"id\":\"34.416\",\"name\":\"Агрохимия (производство)\"},{\"id\":\"34.417\",\"name\":\"Агрохимия (продвижение, оптовая торговля)\"},{\"id\":\"34.418\",\"name\":\"Бетон, кирпич, стекло и прочие силикаты (производство)\"},{\"id\":\"34.419\",\"name\":\"Бетон, кирпич, стекло и прочие силикаты (продвижение, оптовая торговля)\"},{\"id\":\"34.420\",\"name\":\"Лакокрасочная продукция, сырье (производство)\"},{\"id\":\"34.421\",\"name\":\"Лакокрасочная продукция, сырье (продвижение, оптовая торговля)\"},{\"id\":\"34.422\",\"name\":\"Неорганическая химия (производство)\"},{\"id\":\"34.423\",\"name\":\"Неорганическая химия (продвижение, оптовая торговля)\"},{\"id\":\"34.424\",\"name\":\"Органическая химия (производство)\"},{\"id\":\"34.425\",\"name\":\"Органическая химия (продвижение, оптовая торговля)\"},{\"id\":\"34.426\",\"name\":\"Резина, пластмасса и прочее (производство)\"},{\"id\":\"34.427\",\"name\":\"Резина, пластмасса и прочее (продвижение, оптовая торговля)\"}]},{\"id\":\"36\",\"name\":\"Государственные организации\",\"industries\":[{\"id\":\"36.403\",\"name\":\"Государственные организации\"}]},{\"id\":\"37\",\"name\":\"Общественная деятельность, партии, благотворительность, НКО\",\"industries\":[{\"id\":\"37.626\",\"name\":\"Ассоциация в сфере культуры, искусства\"},{\"id\":\"37.627\",\"name\":\"Благотворительная организация\"},{\"id\":\"37.628\",\"name\":\"Общественная, политическая организация\"},{\"id\":\"37.629\",\"name\":\"Профессиональная, предпринимательская организация\"},{\"id\":\"37.630\",\"name\":\"Религиозная организация\"},{\"id\":\"37.631\",\"name\":\"Спортивная федерация\"},{\"id\":\"37.632\",\"name\":\"Фонд, грантодатель\"}]},{\"id\":\"39\",\"name\":\"Образовательные учреждения\",\"industries\":[{\"id\":\"39.441\",\"name\":\"Научно-исследовательская, научная, академическая деятельность\"},{\"id\":\"39.442\",\"name\":\"Вуз, ссуз колледж, ПТУ\"},{\"id\":\"39.443\",\"name\":\"Школа, детский сад\"},{\"id\":\"39.444\",\"name\":\"Бизнес-образование\"},{\"id\":\"39.445\",\"name\":\"Повышение квалификации, переквалификация\"},{\"id\":\"39.446\",\"name\":\"Тренинговые компании\"},{\"id\":\"39.447\",\"name\":\"Автошкола\"},{\"id\":\"39.448\",\"name\":\"Обучение иностранным языкам\"},{\"id\":\"39.449\",\"name\":\"Обучение искусствам (рисование, пение, танцы, фото)\"},{\"id\":\"39.450\",\"name\":\"Спортивное обучение\"},{\"id\":\"39.451\",\"name\":\"Интернат, детский дом\"}]},{\"id\":\"41\",\"name\":\"Розничная торговля\",\"industries\":[{\"id\":\"41.511\",\"name\":\"Розничная сеть (книги, игрушки, подарки, часы и прочее)\"},{\"id\":\"41.512\",\"name\":\"Розничная сеть (drogerie, товары повседневного спроса)\"},{\"id\":\"41.513\",\"name\":\"Розничная сеть (мебель)\"},{\"id\":\"41.514\",\"name\":\"Розничная сеть (товары для детей)\"},{\"id\":\"41.515\",\"name\":\"Розничная сеть (одежда, обувь, аксессуары)\"},{\"id\":\"41.516\",\"name\":\"Розничная сеть (парфюмерия, косметика)\"},{\"id\":\"41.517\",\"name\":\"Розничная сеть (продуктовая)\"},{\"id\":\"41.518\",\"name\":\"Розничная сеть (DIY и товары для дома)\"},{\"id\":\"41.519\",\"name\":\"Розничная сеть (мобильный ритейл)\"},{\"id\":\"41.520\",\"name\":\"Розничная сеть (спортивные товары)\"},{\"id\":\"41.521\",\"name\":\"Розничная сеть (электроника, бытовая техника)\"},{\"id\":\"41.522\",\"name\":\"Розничная сеть (ювелирные изделия)\"},{\"id\":\"41.523\",\"name\":\"Вендинг (торговля через автоматы)\"},{\"id\":\"41.524\",\"name\":\"Зоомагазин\"},{\"id\":\"41.525\",\"name\":\"Интернет-магазин\"},{\"id\":\"41.526\",\"name\":\"Несетевая розница, мелкий опт\"}]},{\"id\":\"42\",\"name\":\"Товары народного потребления (непищевые)\",\"industries\":[{\"id\":\"42.589\",\"name\":\"Бытовая химия, парфюмерия, косметика  (производство)\"},{\"id\":\"42.590\",\"name\":\"Бытовая химия, парфюмерия, косметика  (продвижение, оптовая торговля)\"},{\"id\":\"42.591\",\"name\":\"Канцтовары, расходные материалы (производство)\"},{\"id\":\"42.592\",\"name\":\"Канцтовары, расходные материалы (продвижение, оптовая торговля)\"},{\"id\":\"42.593\",\"name\":\"Мебель (производство)\"},{\"id\":\"42.594\",\"name\":\"Мебель (продвижение, оптовая торговля)\"},{\"id\":\"42.595\",\"name\":\"Одежда, обувь, аксессуары, текстиль (производство)\"},{\"id\":\"42.596\",\"name\":\"Одежда, обувь, аксессуары, текстиль  (продвижение, оптовая торговля)\"},{\"id\":\"42.597\",\"name\":\"Сантехника (производство)\"},{\"id\":\"42.598\",\"name\":\"Сантехника (продвижение, оптовая торговля)\"},{\"id\":\"42.599\",\"name\":\"Стройматериалы, сборные конструкции для ремонта и строительства (продвижение, оптовая торговля)\"},{\"id\":\"42.600\",\"name\":\"Стройматериалы, сборные конструкции для ремонта и строительства (производство, монтаж, сервис, ремонт)\"},{\"id\":\"42.601\",\"name\":\"Спортивные товары и оборудование (производство)\"},{\"id\":\"42.602\",\"name\":\"Спортивные товары и оборудование (продвижение, оптовая торговля)\"},{\"id\":\"42.603\",\"name\":\"Табак  (производство)\"},{\"id\":\"42.604\",\"name\":\"Табак  (продвижение, оптовая торговля)\"},{\"id\":\"42.605\",\"name\":\"Посуда, свет, товары для дома  (производство)\"},{\"id\":\"42.606\",\"name\":\"Посуда, свет, товары для дома  (продвижение, оптовая торговля)\"},{\"id\":\"42.607\",\"name\":\"Товары для детей (производство)\"},{\"id\":\"42.608\",\"name\":\"Товары для детей (продвижение, оптовая торговля)\"},{\"id\":\"42.609\",\"name\":\"Ювелирные изделия, бижутерия  (производство)\"},{\"id\":\"42.610\",\"name\":\"Ювелирные изделия, бижутерия  (продвижение, оптовая торговля)\"}]},{\"id\":\"43\",\"name\":\"Финансовый сектор\",\"industries\":[{\"id\":\"43.641\",\"name\":\"Аудит, управленческий учет, финансово-юридический консалтинг\"},{\"id\":\"43.642\",\"name\":\"Услуги по ведению бухгалтерского и налогового учета, расчет заработной платы\"},{\"id\":\"43.643\",\"name\":\"Коллекторская деятельность\"},{\"id\":\"43.644\",\"name\":\"Лизинговые компании\"},{\"id\":\"43.645\",\"name\":\"НПФ\"},{\"id\":\"43.646\",\"name\":\"Страхование, перестрахование\"},{\"id\":\"43.647\",\"name\":\"Банк\"},{\"id\":\"43.648\",\"name\":\"Управляющая, инвестиционная компания (управление активами)\"},{\"id\":\"43.649\",\"name\":\"Факторинговые компании\"},{\"id\":\"43.650\",\"name\":\"Финансово-кредитное посредничество (биржа, брокерская деятельность, выпуск и обслуживание карт, оценка рисков, обменные пункты, агентства по кредитованию, инкассация, ломбард, платежные системы)\"}]},{\"id\":\"44\",\"name\":\"Услуги для бизнеса\",\"industries\":[{\"id\":\"44.390\",\"name\":\"Безопасность, охранная деятельность\"},{\"id\":\"44.391\",\"name\":\"Кадровые агентства\"},{\"id\":\"44.392\",\"name\":\"Колл-центры, диспетчерские службы\"},{\"id\":\"44.393\",\"name\":\"Консалтинговые услуги\"},{\"id\":\"44.394\",\"name\":\"Переводческая деятельность\"},{\"id\":\"44.395\",\"name\":\"Экологическое обслуживание, водоочистка, утилизация отходов\"},{\"id\":\"44.396\",\"name\":\"Услуги по организации поездок и бронированию\"},{\"id\":\"44.397\",\"name\":\"Контроль качеств��, экспертиза, испытания и сертификация\"},{\"id\":\"44.398\",\"name\":\"Юридическое обслуживание\"}]},{\"id\":\"45\",\"name\":\"Добывающая отрасль\",\"industries\":[{\"id\":\"45.534\",\"name\":\"Добыча и обогащение угля\"},{\"id\":\"45.535\",\"name\":\"Добыча и обогащение руд черных, цветных, драгоценных, благородных, редких металлов\"},{\"id\":\"45.536\",\"name\":\"Добыча и обогащение минерального сырья (соль, сера, глинозем), разработка карьеров (песок, глина, камень), добыча торфа\"},{\"id\":\"45.537\",\"name\":\"Инженерно-изыскательские, гидрогеологические, геологоразведочные работы\"}]},{\"id\":\"46\",\"name\":\"Энергетика\",\"industries\":[{\"id\":\"46.469\",\"name\":\"Атомная энергетика (генерация электроэнергии, АЭС)\"},{\"id\":\"46.470\",\"name\":\"Гидроэнергетика (генерация электроэнергии, ГЭС)\"},{\"id\":\"46.471\",\"name\":\"Теплоэнергетика (генерация электроэнергии и тепла, ТЭС)\"},{\"id\":\"46.472\",\"name\":\"Альтернативная энергетика: гео-, ветро-, солнце-, био- (генерация электроэнергии)\"},{\"id\":\"46.473\",\"name\":\"Передача, распределение электроэнергии\"},{\"id\":\"46.474\",\"name\":\"Сбыт и потребление электроэнергии\"},{\"id\":\"46.475\",\"name\":\"Теплоснабжение (ТЭЦ)\"},{\"id\":\"46.476\",\"name\":\"Инфраструктурная компания в энергетике (СО ЕЭС, АТС, ЦФР и т.п.)\"},{\"id\":\"46.477\",\"name\":\"Консалтинг в области энергоэффективности\"}]},{\"id\":\"47\",\"name\":\"Нефть и газ\",\"industries\":[{\"id\":\"47.611\",\"name\":\"Добыча нефти\"},{\"id\":\"47.612\",\"name\":\"Нефтепереработка, нефтехимия (производство)\"},{\"id\":\"47.613\",\"name\":\"Транспортировка, хранение нефти\"},{\"id\":\"47.614\",\"name\":\"Нефтехимия (продвижение, оптовая торговля)\"},{\"id\":\"47.615\",\"name\":\"ГСМ, топливо (продвижение, оптовая торговля)\"},{\"id\":\"47.616\",\"name\":\"ГСМ, топливо (розничная торговля)\"},{\"id\":\"47.617\",\"name\":\"Добыча газа\"},{\"id\":\"47.618\",\"name\":\"Переработка газа\"},{\"id\":\"47.619\",\"name\":\"Транспортировка, хранение газа\"}]},{\"id\":\"48\",\"name\":\"Медицина, фармацевтика, аптеки\",\"industries\":[{\"id\":\"48.676\",\"name\":\"Аптека, оптика\"},{\"id\":\"48.677\",\"name\":\"Ветеринарная аптека\"},{\"id\":\"48.678\",\"name\":\"Ветеринарная деятельность\"},{\"id\":\"48.679\",\"name\":\"Клинические исследования\"},{\"id\":\"48.680\",\"name\":\"Лаборатория, исследовательский центр\"},{\"id\":\"48.681\",\"name\":\"Лечебно-профилактические учреждения\"},{\"id\":\"48.682\",\"name\":\"Учреждение соц.помощи и защиты\"},{\"id\":\"48.683\",\"name\":\"Фармацевтическая продукция (продвижение, оптовая торговля)\"},{\"id\":\"48.684\",\"name\":\"Фармацевтическая продукция (производство)\"}]},{\"id\":\"49\",\"name\":\"Услуги для населения\",\"industries\":[{\"id\":\"49.404\",\"name\":\"Аренда автомобилей\"},{\"id\":\"49.405\",\"name\":\"Домашний персонал\"},{\"id\":\"49.406\",\"name\":\"Игорный бизнес\"},{\"id\":\"49.407\",\"name\":\"Пошив, ремонт одежды и обуви\"},{\"id\":\"49.408\",\"name\":\"Ритуальные услуги\"},{\"id\":\"49.409\",\"name\":\"Салоны красоты\"},{\"id\":\"49.410\",\"name\":\"Спортивные и фитнес-клубы\"},{\"id\":\"49.411\",\"name\":\"Такси\"},{\"id\":\"49.412\",\"name\":\"Туристические компании\"},{\"id\":\"49.413\",\"name\":\"Фото- и видеоуслуги\"},{\"id\":\"49.414\",\"name\":\"Химчистка\"},{\"id\":\"49.415\",\"name\":\"Центры развлечения\"}]},{\"id\":\"50\",\"name\":\"Гостиницы, рестораны, общепит, кейтеринг\",\"industries\":[{\"id\":\"50.527\",\"name\":\"Гостиница\"},{\"id\":\"50.528\",\"name\":\"Ресторан, общественное питание, фаст-фуд\"},{\"id\":\"50.529\",\"name\":\"Кейтеринг (выездное обслуживание)\"}]},{\"id\":\"51\",\"name\":\"ЖКХ\",\"industries\":[{\"id\":\"51.667\",\"name\":\"Вентиляция и кондиционирование (монтаж, сервис, ремонт)\"},{\"id\":\"51.668\",\"name\":\"Водоснабжение и канализация\"},{\"id\":\"51.669\",\"name\":\"Лифтовое хозяйство (монтаж, сервис, ремонт)\"},{\"id\":\"51.670\",\"name\":\"Обеспечение пожарной безопасности, молниезащиты\"},{\"id\":\"51.671\",\"name\":\"Благоустройство и уборка территорий и зданий\"},{\"id\":\"51.672\",\"name\":\"Ремонт зданий и сооружений\"},{\"id\":\"51.673\",\"name\":\"Слаботочные сети (монтаж, сервис, ремонт)\"},{\"id\":\"51.674\",\"name\":\"Утилизация бытовых отходов\"},{\"id\":\"51.675\",\"name\":\"Энергоснабжение\"}]},{\"id\":\"52\",\"name\":\"Искусство, культура\",\"industries\":[{\"id\":\"52.651\",\"name\":\"Архив, библиотека, искусствоведение\"},{\"id\":\"52.652\",\"name\":\"Ботанический сад, зоопарк, заповедник\"},{\"id\":\"52.653\",\"name\":\"Музей, галерея, театр\"}]},{\"id\":\"388\",\"name\":\"Промышленное оборудование, техника, станки и комплектующие\",\"industries\":[{\"id\":\"388.487\",\"name\":\"Медицинское, диагностическое оборудование, инструменты (производство)\"},{\"id\":\"388.488\",\"name\":\"Медицинское, диагностическое оборудование, инструменты (монтаж, сервис, ремонт)\"},{\"id\":\"388.489\",\"name\":\"Медицинское, диагностическое оборудование, инструменты (продвижение, оптовая торговля)\"},{\"id\":\"388.490\",\"name\":\"Оборудование для ресторанов, гостиниц, кейтеринга, розничной торговли (производство)\"},{\"id\":\"388.491\",\"name\":\"Оборудование для ресторанов, гостиниц, кейтеринга, розничной торговли  (монтаж, сервис, ремонт)\"},{\"id\":\"388.492\",\"name\":\"Оборудование для ресторанов, гостиниц, кейтеринга, розничной торговли  (продвижение, оптовая торговля)\"},{\"id\":\"388.493\",\"name\":\"Оборудование для пищевой промышленности, упаковки и хранения (производство)\"},{\"id\":\"388.494\",\"name\":\"Оборудование для пищевой промышленности, упаковки и хранения (монтаж, сервис, ремонт)\"},{\"id\":\"388.495\",\"name\":\"Оборудование для пищевой промышленности, упаковки и хранения (продвижение, оптовая торговля)\"},{\"id\":\"388.496\",\"name\":\"Оборудование и станки для отраслей легкой промышленности (производство)\"},{\"id\":\"388.497\",\"name\":\"Оборудование и станки для отраслей легкой промышленности (монтаж, сервис, ремонт)\"},{\"id\":\"388.498\",\"name\":\"Оборудование и станки для отраслей легкой промышленности (продвижение, оптовая торговля)\"},{\"id\":\"388.499\",\"name\":\"Оборудование и станки для добывающей, энергетической, нефтегазовой и химической отрасли  (производство)\"},{\"id\":\"388.500\",\"name\":\"Оборудование и станки для добывающей, энергетической, нефтегазовой и химической отрасли  (монтаж, сервис, ремонт)\"},{\"id\":\"388.501\",\"name\":\"Оборудование и станки для добывающей, энергетической, нефтегазовой и химической отрасли  (продвижение, оптовая торговля)\"},{\"id\":\"388.502\",\"name\":\"Оборудование и станки для металлургии и металлообработки (производство)\"},{\"id\":\"388.503\",\"name\":\"Оборудование и станки для металлургии и металлообработки (монтаж, сервис, ремонт)\"},{\"id\":\"388.504\",\"name\":\"Оборудование и станки для металлургии и металлообработки (продвижение, оптовая торговля)\"},{\"id\":\"388.505\",\"name\":\"Оборудование для деревообработки, заготовки леса, целлюлозно-бумажной промышленности (производство)\"},{\"id\":\"388.506\",\"name\":\"Оборудование для деревообработки, заготовки леса, целлюлозно-бумажной промышленности (монтаж, сервис, ремонт)\"},{\"id\":\"388.507\",\"name\":\"Оборудование для деревообработки, заготовки леса, целлюлозно-бумажной промышленности (продвижение, оптовая торговля)\"},{\"id\":\"388.508\",\"name\":\"Дорожно-строительная техника, сельскохозяйственная и другая спец.техника, оборудование, лифты, погрузочно-разгрузочное, складское оборудование (производство)\"},{\"id\":\"388.509\",\"name\":\"Дорожно-строительная техника, сельскохозяйственная и другая спец.техника, оборудование, лифты, погрузочно-разгрузочное, складское оборудование (монтаж, сервис, ремонт)\"},{\"id\":\"388.510\",\"name\":\"Дорожно-строительная техника, сельскохозяйственная и другая спец.техника, оборудование, лифты, погрузочно-разгрузочное, складское оборудование (продвижение, оптовая торговля)\"}]},{\"id\":\"389\",\"name\":\"Управление многопрофильными активами\",\"industries\":[{\"id\":\"389.530\",\"name\":\"Управляющая компания группы, холдинга, штаб-квартира\"}]}]"
     ]
    }
   ],
   "source": [
    "!curl https://api.hh.ru/industries"
   ]
  },
  {
   "cell_type": "code",
   "execution_count": null,
   "id": "f6050738",
   "metadata": {},
   "outputs": [],
   "source": [
    "import pandas as pd\n",
    "import json"
   ]
  },
  {
   "cell_type": "code",
   "execution_count": 43,
   "id": "72d4a949",
   "metadata": {},
   "outputs": [],
   "source": [
    "with open(\"companies.json\") as f:\n",
    "    companies = json.load(f)\n",
    "\n",
    "with open(\"industries.json\") as f:\n",
    "    industries = json.load(f)"
   ]
  },
  {
   "cell_type": "code",
   "execution_count": 44,
   "id": "9c555f86",
   "metadata": {},
   "outputs": [],
   "source": [
    "companies = pd.DataFrame.from_dict(companies, orient=\"index\").reset_index().rename(columns={\n",
    "    \"index\": \"company\",\n",
    "    0: \"url_companies\"\n",
    "})"
   ]
  },
  {
   "cell_type": "code",
   "execution_count": 45,
   "id": "5331ee21",
   "metadata": {},
   "outputs": [],
   "source": [
    "industries = pd.DataFrame.from_dict(industries, orient=\"index\").reset_index().rename(columns={\n",
    "    \"index\": \"url_companies\"\n",
    "})"
   ]
  },
  {
   "cell_type": "code",
   "execution_count": 46,
   "id": "24279524",
   "metadata": {},
   "outputs": [],
   "source": [
    "companies_temp = companies.merge(\n",
    "    industries,\n",
    "    how=\"inner\",\n",
    "    on=\"url_companies\"\n",
    ")"
   ]
  },
  {
   "cell_type": "code",
   "execution_count": 49,
   "id": "fb4dfacf",
   "metadata": {},
   "outputs": [
    {
     "data": {
      "application/vnd.microsoft.datawrangler.viewer.v0+json": {
       "columns": [
        {
         "name": "index",
         "rawType": "int64",
         "type": "integer"
        },
        {
         "name": "company",
         "rawType": "object",
         "type": "string"
        },
        {
         "name": "url_companies",
         "rawType": "object",
         "type": "string"
        },
        {
         "name": "0",
         "rawType": "object",
         "type": "unknown"
        },
        {
         "name": "1",
         "rawType": "object",
         "type": "unknown"
        },
        {
         "name": "2",
         "rawType": "object",
         "type": "unknown"
        },
        {
         "name": "3",
         "rawType": "object",
         "type": "unknown"
        },
        {
         "name": "4",
         "rawType": "object",
         "type": "unknown"
        }
       ],
       "ref": "33fa9256-fd24-461e-bfdb-f17877f97b0e",
       "rows": [
        [
         "0",
         "ВКТМ",
         "https://api.hh.ru/employers/6010027",
         null,
         null,
         null,
         null,
         null
        ],
        [
         "1",
         "Медскан",
         "https://api.hh.ru/employers/3859980",
         "{'id': '48.681', 'name': 'Лечебно-профилактические учреждения'}",
         "{'id': '48.680', 'name': 'Лаборатория, исследовательский центр'}",
         "{'id': '48.679', 'name': 'Клинические исследования'}",
         null,
         null
        ],
        [
         "2",
         "Selecty",
         "https://api.hh.ru/employers/2406247",
         "{'id': '44.391', 'name': 'Кадровые агентства'}",
         null,
         null,
         null,
         null
        ],
        [
         "3",
         "NK GROUP",
         "https://api.hh.ru/employers/704368",
         "{'id': '13.662', 'name': 'Строительство дорожное и инфраструктурное'}",
         "{'id': '13.659', 'name': 'Строительство промышленное'}",
         "{'id': '13.654', 'name': 'Девелопмент'}",
         null,
         null
        ],
        [
         "4",
         "СибТрансАвто",
         "https://api.hh.ru/employers/3523766",
         null,
         null,
         null,
         null,
         null
        ],
        [
         "5",
         "Лайтхаус Интериорс",
         "https://api.hh.ru/employers/9649647",
         null,
         null,
         null,
         null,
         null
        ],
        [
         "6",
         "КрасИнтегра",
         "https://api.hh.ru/employers/3289110",
         "{'id': '46.472', 'name': 'Альтернативная энергетика: гео-, ветро-, солнце-, био- (генерация электроэнергии)'}",
         "{'id': '7.540', 'name': 'Разработка программного обеспечения'}",
         "{'id': '7.539', 'name': 'Системная интеграция,  автоматизации технологических и бизнес-процессов предприятия, ИТ-консалтинг'}",
         null,
         null
        ],
        [
         "7",
         "Единая Европа-Элит и сеть магазинов СТИЛЬПАРК",
         "https://api.hh.ru/employers/14703",
         "{'id': '42.596', 'name': 'Одежда, обувь, аксессуары, текстиль  (продвижение, оптовая торговля)'}",
         "{'id': '42.608', 'name': 'Товары для детей (продвижение, оптовая торговля)'}",
         "{'id': '42.607', 'name': 'Товары для детей (производство)'}",
         "{'id': '41.515', 'name': 'Розничная сеть (одежда, обувь, аксессуары)'}",
         "{'id': '41.514', 'name': 'Розничная сеть (товары для детей)'}"
        ],
        [
         "8",
         "PLAYMAKERS",
         "https://api.hh.ru/employers/10660532",
         "{'id': '44.391', 'name': 'Кадровые агентства'}",
         null,
         null,
         null,
         null
        ],
        [
         "9",
         "Россети Московский регион",
         "https://api.hh.ru/employers/103816",
         "{'id': '46.474', 'name': 'Сбыт и потребление электроэнергии'}",
         "{'id': '46.473', 'name': 'Передача, распределение электроэнергии'}",
         null,
         null,
         null
        ],
        [
         "10",
         "Международный аэропорт Пермь",
         "https://api.hh.ru/employers/560799",
         "{'id': '5.461', 'name': 'Авиаперевозки'}",
         null,
         null,
         null,
         null
        ],
        [
         "11",
         "СЗ РЦАИ",
         "https://api.hh.ru/employers/1647549",
         null,
         null,
         null,
         null,
         null
        ],
        [
         "12",
         "Бьюти Лайф",
         "https://api.hh.ru/employers/3448319",
         "{'id': '48.684', 'name': 'Фармацевтическая продукция (производство)'}",
         null,
         null,
         null,
         null
        ],
        [
         "13",
         "Уфанет",
         "https://api.hh.ru/employers/668351",
         "{'id': '11.454', 'name': 'Распространение телепрограмм, кино (кабельное телевидение)'}",
         "{'id': '7.538', 'name': 'Интернет-провайдер'}",
         "{'id': '7.541', 'name': 'Интернет-компания (поисковики, платежные системы, соц.сети, информационно-познавательные и развлекательные ресурсы, продвижение сайтов и прочее)'}",
         "{'id': '7.539', 'name': 'Системная интеграция,  автоматизации технологических и бизнес-процессов предприятия, ИТ-консалтинг'}",
         "{'id': '9.401', 'name': 'Оптоволоконная связь'}"
        ],
        [
         "14",
         "EGO BOTTEGO",
         "https://api.hh.ru/employers/1364817",
         "{'id': '41.515', 'name': 'Розничная сеть (одежда, обувь, аксессуары)'}",
         "{'id': '41.525', 'name': 'Интернет-магазин'}",
         "{'id': '41.511', 'name': 'Розничная сеть (книги, игрушки, подарки, часы и прочее)'}",
         null,
         null
        ],
        [
         "15",
         "Совкомбанк",
         "https://api.hh.ru/employers/7944",
         "{'id': '43.647', 'name': 'Банк'}",
         null,
         null,
         null,
         null
        ],
        [
         "16",
         "Опытно-конструкторское бюро Электроавтоматика имени П.А. Ефимова",
         "https://api.hh.ru/employers/1385877",
         "{'id': '8.486', 'name': 'Электронно-вычислительная, оптическая, контрольно-измерительная техника, радиоэлектроника, автоматика (продвижение, оптовая торговля)'}",
         "{'id': '8.485', 'name': 'Электронно-вычислительная, оптическая, контрольно-измерительная техника, радиоэлектроника, автоматика (монтаж, сервис, ремонт)'}",
         "{'id': '8.484', 'name': 'Электронно-вычислительная, оптическая, контрольно-измерительная техника, радиоэлектроника, автоматика (производство)'}",
         "{'id': '33.429', 'name': 'Продукция авиационной, аэрокосмической, вертолетной промышленности (монтаж, сервис, ремонт)'}",
         null
        ],
        [
         "17",
         "PHOTO KIDS",
         "https://api.hh.ru/employers/11579870",
         null,
         null,
         null,
         null,
         null
        ],
        [
         "18",
         "Абелян Гегам Григорьевич",
         "https://api.hh.ru/employers/11384364",
         null,
         null,
         null,
         null,
         null
        ],
        [
         "19",
         "Schoolsmart",
         "https://api.hh.ru/employers/4703110",
         null,
         null,
         null,
         null,
         null
        ],
        [
         "20",
         "Кадровый Метод",
         "https://api.hh.ru/employers/5727976",
         "{'id': '44.391', 'name': 'Кадровые агентства'}",
         null,
         null,
         null,
         null
        ],
        [
         "21",
         "Международная сеть школ рисования Grafika",
         "https://api.hh.ru/employers/5072338",
         "{'id': '39.449', 'name': 'Обучение искусствам (рисование, пение, танцы, фото)'}",
         null,
         null,
         null,
         null
        ],
        [
         "22",
         "Новые Технологии Телекоммуникаций (ООО НПП НТТ)",
         "https://api.hh.ru/employers/2614670",
         "{'id': '8.484', 'name': 'Электронно-вычислительная, оптическая, контрольно-измерительная техника, радиоэлектроника, автоматика (производство)'}",
         "{'id': '7.540', 'name': 'Разработка программного обеспечения'}",
         null,
         null,
         null
        ],
        [
         "23",
         "Московский прожекторный завод",
         "https://api.hh.ru/employers/3534",
         "{'id': '33.440', 'name': 'Производство и ремонт военной техники, оборудования и вооружения'}",
         "{'id': '8.481', 'name': 'Промышленное, бытовое электрооборудование и электротехника (производство)'}",
         null,
         null,
         null
        ],
        [
         "24",
         "Бута Констракшн",
         "https://api.hh.ru/employers/1850638",
         "{'id': '13.660', 'name': 'Строительство коммерческих объектов (торговые площади, офисные здания)'}",
         "{'id': '13.663', 'name': 'Архитектура, проектирование'}",
         "{'id': '13.654', 'name': 'Девелопмент'}",
         null,
         null
        ],
        [
         "25",
         "НефтеГазКонсультант",
         "https://api.hh.ru/employers/9117348",
         "{'id': '44.393', 'name': 'Консалтинговые услуги'}",
         "{'id': '39.444', 'name': 'Бизнес-образование'}",
         "{'id': '7.539', 'name': 'Системная интеграция,  автоматизации технологических и бизнес-процессов предприятия, ИТ-консалтинг'}",
         null,
         null
        ],
        [
         "26",
         "Легион",
         "https://api.hh.ru/employers/1048588",
         "{'id': '7.539', 'name': 'Системная интеграция,  автоматизации технологических и бизнес-процессов предприятия, ИТ-консалтинг'}",
         null,
         null,
         null,
         null
        ],
        [
         "27",
         "ЭКСПРЕСС",
         "https://api.hh.ru/employers/2476133",
         "{'id': '7.541', 'name': 'Интернет-компания (поисковики, платежные системы, соц.сети, информационно-познавательные и развлекательные ресурсы, продвижение сайтов и прочее)'}",
         "{'id': '7.539', 'name': 'Системная интеграция,  автоматизации технологических и бизнес-процессов предприятия, ИТ-консалтинг'}",
         null,
         null,
         null
        ],
        [
         "28",
         "ФГБУ ВЦЭРМ им. А.М. Никифорова МЧС России",
         "https://api.hh.ru/employers/1051043",
         "{'id': '48.681', 'name': 'Лечебно-профилактические учреждения'}",
         null,
         null,
         null,
         null
        ],
        [
         "29",
         "СУЭК, Сибирская Угольная Энергетическая Компания",
         "https://api.hh.ru/employers/568",
         "{'id': '45.534', 'name': 'Добыча и обогащение угля'}",
         null,
         null,
         null,
         null
        ],
        [
         "30",
         "amoCRM",
         "https://api.hh.ru/employers/999442",
         "{'id': '7.541', 'name': 'Интернет-компания (поисковики, платежные системы, соц.сети, информационно-познавательные и развлекательные ресурсы, продвижение сайтов и прочее)'}",
         "{'id': '7.540', 'name': 'Разработка программного обеспечения'}",
         null,
         null,
         null
        ],
        [
         "31",
         "Литана",
         "https://api.hh.ru/employers/1176837",
         "{'id': '33.437', 'name': 'Судостроение'}",
         "{'id': '13.660', 'name': 'Строительство коммерческих объектов (торговые площади, офисные здания)'}",
         "{'id': '13.659', 'name': 'Строительство промышленное'}",
         null,
         null
        ],
        [
         "32",
         "ПтиДом",
         "https://api.hh.ru/employers/10121071",
         "{'id': '27.579', 'name': 'Полуфабрикаты, в том числе замороженные  (продвижение, оптовая торговля)'}",
         "{'id': '27.573', 'name': 'Мясная продукция (производство)'}",
         "{'id': '27.572', 'name': 'Мясная продукция (продвижение, оптовая торговля)'}",
         "{'id': '27.578', 'name': 'Полуфабрикаты, в том числе замороженные (производство)'}",
         "{'id': '27.576', 'name': 'Рыба и морепродукты (производство)'}"
        ],
        [
         "33",
         "Бонус Плюс",
         "https://api.hh.ru/employers/9963769",
         null,
         null,
         null,
         null,
         null
        ],
        [
         "34",
         "КЭР-Автоматика",
         "https://api.hh.ru/employers/3679756",
         null,
         null,
         null,
         null,
         null
        ],
        [
         "35",
         "ГБУ Жилищник района Царицыно",
         "https://api.hh.ru/employers/1985934",
         "{'id': '36.403', 'name': 'Государственные организации'}",
         "{'id': '13.664', 'name': 'Управление и эксплуатация недвижимости'}",
         "{'id': '51.671', 'name': 'Благоустройство и уборка территорий и зданий'}",
         null,
         null
        ],
        [
         "36",
         "ЦСКУ Арсенал",
         "https://api.hh.ru/employers/3914396",
         null,
         null,
         null,
         null,
         null
        ],
        [
         "37",
         "ФГБУ ГИВЦ Минкультуры России",
         "https://api.hh.ru/employers/622017",
         "{'id': '7.540', 'name': 'Разработка программного обеспечения'}",
         "{'id': '7.539', 'name': 'Системная интеграция,  автоматизации технологических и бизнес-процессов предприятия, ИТ-консалтинг'}",
         null,
         null,
         null
        ],
        [
         "38",
         "КИП-Сервис",
         "https://api.hh.ru/employers/121764",
         "{'id': '8.486', 'name': 'Электронно-вычислительная, оптическая, контрольно-измерительная техника, радиоэлектроника, автоматика (продвижение, оптовая торговля)'}",
         "{'id': '8.483', 'name': 'Промышленное, бытовое электрооборудование и электротехника (продвижение, оптовая торговля)'}",
         "{'id': '8.481', 'name': 'Промышленное, бытовое электрооборудование и электротехника (производство)'}",
         null,
         null
        ],
        [
         "39",
         "Саханефтегазсбыт",
         "https://api.hh.ru/employers/4323463",
         null,
         null,
         null,
         null,
         null
        ],
        [
         "40",
         "Барнаул-Моторс+",
         "https://api.hh.ru/employers/2345549",
         null,
         null,
         null,
         null,
         null
        ],
        [
         "41",
         "ЦВЕТОБУМ",
         "https://api.hh.ru/employers/11598516",
         "{'id': '41.525', 'name': 'Интернет-магазин'}",
         "{'id': '41.511', 'name': 'Розничная сеть (книги, игрушки, подарки, часы и прочее)'}",
         null,
         null,
         null
        ],
        [
         "42",
         "СофтЭксперт, г. Тула",
         "https://api.hh.ru/employers/200522",
         "{'id': '7.540', 'name': 'Разработка программного обеспечения'}",
         "{'id': '7.539', 'name': 'Системная интеграция,  автоматизации технологических и бизнес-процессов предприятия, ИТ-консалтинг'}",
         null,
         null,
         null
        ],
        [
         "43",
         "Администрация города Магнитогорска",
         "https://api.hh.ru/employers/3220295",
         null,
         null,
         null,
         null,
         null
        ],
        [
         "44",
         "Гипротрубопровод",
         "https://api.hh.ru/employers/32496",
         "{'id': '13.663', 'name': 'Архитектура, проектирование'}",
         null,
         null,
         null,
         null
        ],
        [
         "45",
         "SoftMaster",
         "https://api.hh.ru/employers/2661787",
         "{'id': '7.541', 'name': 'Интернет-компания (поисковики, платежные системы, соц.сети, информационно-познавательные и развлекательные ресурсы, продвижение сайтов и прочее)'}",
         "{'id': '7.540', 'name': 'Разработка программного обеспечения'}",
         null,
         null,
         null
        ],
        [
         "46",
         "Vera Realty",
         "https://api.hh.ru/employers/3195662",
         "{'id': '13.666', 'name': 'Агентские услуги в недвижимости'}",
         "{'id': '13.665', 'name': 'Консалтинг, оценка в недвижимости'}",
         "{'id': '13.664', 'name': 'Управление и эксплуатация недвижимости'}",
         null,
         null
        ],
        [
         "47",
         "Автосити-Нск",
         "https://api.hh.ru/employers/4020062",
         "{'id': '43.646', 'name': 'Страхование, перестрахование'}",
         "{'id': '15.549', 'name': 'Финансовые услуги (кэптивные банки и лизинговые компании)'}",
         "{'id': '15.548', 'name': 'Техническое обслуживание, ремонт автомобилей'}",
         "{'id': '15.547', 'name': 'Автозапчасти, шины (розничная торговля)'}",
         "{'id': '15.544', 'name': 'Розничная торговля автомобилями (дилерский центр)'}"
        ],
        [
         "48",
         "Хлебная Усадьба",
         "https://api.hh.ru/employers/3506285",
         "{'id': '41.517', 'name': 'Розничная сеть (продуктовая)'}",
         "{'id': '27.586', 'name': 'Хлебобулочные изделия (продвижение, оптовая торговля)'}",
         "{'id': '27.585', 'name': 'Хлебобулочные изделия (производство)'}",
         "{'id': '27.558', 'name': 'Кондитерские изделия (производство)'}",
         "{'id': '27.559', 'name': 'Кондитерские изделия (продвижение, оптовая торговля)'}"
        ],
        [
         "49",
         "Российские железные дороги",
         "https://api.hh.ru/employers/23427",
         "{'id': '5.465', 'name': 'Транспортно-логистические комплексы, порты (воздушный, водный, железнодорожный)'}",
         null,
         null,
         null,
         null
        ]
       ],
       "shape": {
        "columns": 7,
        "rows": 9416
       }
      },
      "text/html": [
       "<div>\n",
       "<style scoped>\n",
       "    .dataframe tbody tr th:only-of-type {\n",
       "        vertical-align: middle;\n",
       "    }\n",
       "\n",
       "    .dataframe tbody tr th {\n",
       "        vertical-align: top;\n",
       "    }\n",
       "\n",
       "    .dataframe thead th {\n",
       "        text-align: right;\n",
       "    }\n",
       "</style>\n",
       "<table border=\"1\" class=\"dataframe\">\n",
       "  <thead>\n",
       "    <tr style=\"text-align: right;\">\n",
       "      <th></th>\n",
       "      <th>company</th>\n",
       "      <th>url_companies</th>\n",
       "      <th>0</th>\n",
       "      <th>1</th>\n",
       "      <th>2</th>\n",
       "      <th>3</th>\n",
       "      <th>4</th>\n",
       "    </tr>\n",
       "  </thead>\n",
       "  <tbody>\n",
       "    <tr>\n",
       "      <th>0</th>\n",
       "      <td>ВКТМ</td>\n",
       "      <td>https://api.hh.ru/employers/6010027</td>\n",
       "      <td>None</td>\n",
       "      <td>None</td>\n",
       "      <td>None</td>\n",
       "      <td>None</td>\n",
       "      <td>None</td>\n",
       "    </tr>\n",
       "    <tr>\n",
       "      <th>1</th>\n",
       "      <td>Медскан</td>\n",
       "      <td>https://api.hh.ru/employers/3859980</td>\n",
       "      <td>{'id': '48.681', 'name': 'Лечебно-профилактиче...</td>\n",
       "      <td>{'id': '48.680', 'name': 'Лаборатория, исследо...</td>\n",
       "      <td>{'id': '48.679', 'name': 'Клинические исследов...</td>\n",
       "      <td>None</td>\n",
       "      <td>None</td>\n",
       "    </tr>\n",
       "    <tr>\n",
       "      <th>2</th>\n",
       "      <td>Selecty</td>\n",
       "      <td>https://api.hh.ru/employers/2406247</td>\n",
       "      <td>{'id': '44.391', 'name': 'Кадровые агентства'}</td>\n",
       "      <td>None</td>\n",
       "      <td>None</td>\n",
       "      <td>None</td>\n",
       "      <td>None</td>\n",
       "    </tr>\n",
       "    <tr>\n",
       "      <th>3</th>\n",
       "      <td>NK GROUP</td>\n",
       "      <td>https://api.hh.ru/employers/704368</td>\n",
       "      <td>{'id': '13.662', 'name': 'Строительство дорожн...</td>\n",
       "      <td>{'id': '13.659', 'name': 'Строительство промыш...</td>\n",
       "      <td>{'id': '13.654', 'name': 'Девелопмент'}</td>\n",
       "      <td>None</td>\n",
       "      <td>None</td>\n",
       "    </tr>\n",
       "    <tr>\n",
       "      <th>4</th>\n",
       "      <td>СибТрансАвто</td>\n",
       "      <td>https://api.hh.ru/employers/3523766</td>\n",
       "      <td>None</td>\n",
       "      <td>None</td>\n",
       "      <td>None</td>\n",
       "      <td>None</td>\n",
       "      <td>None</td>\n",
       "    </tr>\n",
       "    <tr>\n",
       "      <th>...</th>\n",
       "      <td>...</td>\n",
       "      <td>...</td>\n",
       "      <td>...</td>\n",
       "      <td>...</td>\n",
       "      <td>...</td>\n",
       "      <td>...</td>\n",
       "      <td>...</td>\n",
       "    </tr>\n",
       "    <tr>\n",
       "      <th>9411</th>\n",
       "      <td>Зигмунд Онлайн</td>\n",
       "      <td>https://api.hh.ru/employers/3927492</td>\n",
       "      <td>{'id': '7.541', 'name': 'Интернет-компания (по...</td>\n",
       "      <td>{'id': '7.540', 'name': 'Разработка программно...</td>\n",
       "      <td>None</td>\n",
       "      <td>None</td>\n",
       "      <td>None</td>\n",
       "    </tr>\n",
       "    <tr>\n",
       "      <th>9412</th>\n",
       "      <td>Datana</td>\n",
       "      <td>https://api.hh.ru/employers/10513122</td>\n",
       "      <td>{'id': '7.540', 'name': 'Разработка программно...</td>\n",
       "      <td>None</td>\n",
       "      <td>None</td>\n",
       "      <td>None</td>\n",
       "      <td>None</td>\n",
       "    </tr>\n",
       "    <tr>\n",
       "      <th>9413</th>\n",
       "      <td>СК Анастасия</td>\n",
       "      <td>https://api.hh.ru/employers/133973</td>\n",
       "      <td>{'id': '13.661', 'name': 'Строительство жилищн...</td>\n",
       "      <td>{'id': '13.660', 'name': 'Строительство коммер...</td>\n",
       "      <td>{'id': '13.659', 'name': 'Строительство промыш...</td>\n",
       "      <td>{'id': '51.672', 'name': 'Ремонт зданий и соор...</td>\n",
       "      <td>{'id': '51.671', 'name': 'Благоустройство и уб...</td>\n",
       "    </tr>\n",
       "    <tr>\n",
       "      <th>9414</th>\n",
       "      <td>Пластилин-арт (Осипов Ю.В.)</td>\n",
       "      <td>https://api.hh.ru/employers/1092280</td>\n",
       "      <td>None</td>\n",
       "      <td>None</td>\n",
       "      <td>None</td>\n",
       "      <td>None</td>\n",
       "      <td>None</td>\n",
       "    </tr>\n",
       "    <tr>\n",
       "      <th>9415</th>\n",
       "      <td>IT-Лидер</td>\n",
       "      <td>https://api.hh.ru/employers/3487796</td>\n",
       "      <td>{'id': '7.541', 'name': 'Интернет-компания (по...</td>\n",
       "      <td>{'id': '7.539', 'name': 'Системная интеграция,...</td>\n",
       "      <td>None</td>\n",
       "      <td>None</td>\n",
       "      <td>None</td>\n",
       "    </tr>\n",
       "  </tbody>\n",
       "</table>\n",
       "<p>9416 rows × 7 columns</p>\n",
       "</div>"
      ],
      "text/plain": [
       "                          company                         url_companies  \\\n",
       "0                            ВКТМ   https://api.hh.ru/employers/6010027   \n",
       "1                         Медскан   https://api.hh.ru/employers/3859980   \n",
       "2                         Selecty   https://api.hh.ru/employers/2406247   \n",
       "3                        NK GROUP    https://api.hh.ru/employers/704368   \n",
       "4                    СибТрансАвто   https://api.hh.ru/employers/3523766   \n",
       "...                           ...                                   ...   \n",
       "9411               Зигмунд Онлайн   https://api.hh.ru/employers/3927492   \n",
       "9412                       Datana  https://api.hh.ru/employers/10513122   \n",
       "9413                 СК Анастасия    https://api.hh.ru/employers/133973   \n",
       "9414  Пластилин-арт (Осипов Ю.В.)   https://api.hh.ru/employers/1092280   \n",
       "9415                     IT-Лидер   https://api.hh.ru/employers/3487796   \n",
       "\n",
       "                                                      0  \\\n",
       "0                                                  None   \n",
       "1     {'id': '48.681', 'name': 'Лечебно-профилактиче...   \n",
       "2        {'id': '44.391', 'name': 'Кадровые агентства'}   \n",
       "3     {'id': '13.662', 'name': 'Строительство дорожн...   \n",
       "4                                                  None   \n",
       "...                                                 ...   \n",
       "9411  {'id': '7.541', 'name': 'Интернет-компания (по...   \n",
       "9412  {'id': '7.540', 'name': 'Разработка программно...   \n",
       "9413  {'id': '13.661', 'name': 'Строительство жилищн...   \n",
       "9414                                               None   \n",
       "9415  {'id': '7.541', 'name': 'Интернет-компания (по...   \n",
       "\n",
       "                                                      1  \\\n",
       "0                                                  None   \n",
       "1     {'id': '48.680', 'name': 'Лаборатория, исследо...   \n",
       "2                                                  None   \n",
       "3     {'id': '13.659', 'name': 'Строительство промыш...   \n",
       "4                                                  None   \n",
       "...                                                 ...   \n",
       "9411  {'id': '7.540', 'name': 'Разработка программно...   \n",
       "9412                                               None   \n",
       "9413  {'id': '13.660', 'name': 'Строительство коммер...   \n",
       "9414                                               None   \n",
       "9415  {'id': '7.539', 'name': 'Системная интеграция,...   \n",
       "\n",
       "                                                      2  \\\n",
       "0                                                  None   \n",
       "1     {'id': '48.679', 'name': 'Клинические исследов...   \n",
       "2                                                  None   \n",
       "3               {'id': '13.654', 'name': 'Девелопмент'}   \n",
       "4                                                  None   \n",
       "...                                                 ...   \n",
       "9411                                               None   \n",
       "9412                                               None   \n",
       "9413  {'id': '13.659', 'name': 'Строительство промыш...   \n",
       "9414                                               None   \n",
       "9415                                               None   \n",
       "\n",
       "                                                      3  \\\n",
       "0                                                  None   \n",
       "1                                                  None   \n",
       "2                                                  None   \n",
       "3                                                  None   \n",
       "4                                                  None   \n",
       "...                                                 ...   \n",
       "9411                                               None   \n",
       "9412                                               None   \n",
       "9413  {'id': '51.672', 'name': 'Ремонт зданий и соор...   \n",
       "9414                                               None   \n",
       "9415                                               None   \n",
       "\n",
       "                                                      4  \n",
       "0                                                  None  \n",
       "1                                                  None  \n",
       "2                                                  None  \n",
       "3                                                  None  \n",
       "4                                                  None  \n",
       "...                                                 ...  \n",
       "9411                                               None  \n",
       "9412                                               None  \n",
       "9413  {'id': '51.671', 'name': 'Благоустройство и уб...  \n",
       "9414                                               None  \n",
       "9415                                               None  \n",
       "\n",
       "[9416 rows x 7 columns]"
      ]
     },
     "execution_count": 49,
     "metadata": {},
     "output_type": "execute_result"
    }
   ],
   "source": [
    "companies_temp"
   ]
  },
  {
   "cell_type": "code",
   "execution_count": 69,
   "id": "54d8df57",
   "metadata": {},
   "outputs": [
    {
     "name": "stderr",
     "output_type": "stream",
     "text": [
      "100%|██████████| 9416/9416 [00:00<00:00, 23632.43it/s]\n"
     ]
    }
   ],
   "source": [
    "companies_explode = []\n",
    "\n",
    "for row in tqdm(companies_temp.iterrows(), total=len(companies_temp)):\n",
    "    companies_info_industries = []\n",
    "    for i in range(5):\n",
    "        if row[1][i]:\n",
    "            companies_explode.append([row[1][\"company\"], row[1][i][\"id\"], row[1][i][\"name\"]])"
   ]
  },
  {
   "cell_type": "code",
   "execution_count": 71,
   "id": "78c189ce",
   "metadata": {},
   "outputs": [],
   "source": [
    "companies_explode = pd.DataFrame(companies_explode)"
   ]
  },
  {
   "cell_type": "code",
   "execution_count": 73,
   "id": "a409e042",
   "metadata": {},
   "outputs": [],
   "source": [
    "companies_explode = companies_explode.rename(columns={\n",
    "    0: \"company\",\n",
    "    1: \"id\",\n",
    "    2: \"name_ind\"\n",
    "})"
   ]
  },
  {
   "cell_type": "code",
   "execution_count": 75,
   "id": "fe54dc48",
   "metadata": {},
   "outputs": [
    {
     "data": {
      "application/vnd.microsoft.datawrangler.viewer.v0+json": {
       "columns": [
        {
         "name": "index",
         "rawType": "int64",
         "type": "integer"
        },
        {
         "name": "company",
         "rawType": "object",
         "type": "string"
        },
        {
         "name": "id",
         "rawType": "object",
         "type": "string"
        },
        {
         "name": "name_ind",
         "rawType": "object",
         "type": "string"
        }
       ],
       "ref": "79165350-923c-4675-947e-b7e14ee05c38",
       "rows": [
        [
         "0",
         "Медскан",
         "48.681",
         "Лечебно-профилактические учреждения"
        ],
        [
         "1",
         "Медскан",
         "48.680",
         "Лаборатория, исследовательский центр"
        ],
        [
         "2",
         "Медскан",
         "48.679",
         "Клинические исследования"
        ],
        [
         "3",
         "Selecty",
         "44.391",
         "Кадровые агентства"
        ],
        [
         "4",
         "NK GROUP",
         "13.662",
         "Строительство дорожное и инфраструктурное"
        ],
        [
         "5",
         "NK GROUP",
         "13.659",
         "Строительство промышленное"
        ],
        [
         "6",
         "NK GROUP",
         "13.654",
         "Девелопмент"
        ],
        [
         "7",
         "КрасИнтегра",
         "46.472",
         "Альтернативная энергетика: гео-, ветро-, солнце-, био- (генерация электроэнергии)"
        ],
        [
         "8",
         "КрасИнтегра",
         "7.540",
         "Разработка программного обеспечения"
        ],
        [
         "9",
         "КрасИнтегра",
         "7.539",
         "Системная интеграция,  автоматизации технологических и бизнес-процессов предприятия, ИТ-консалтинг"
        ],
        [
         "10",
         "Единая Европа-Элит и сеть магазинов СТИЛЬПАРК",
         "42.596",
         "Одежда, обувь, аксессуары, текстиль  (продвижение, оптовая торговля)"
        ],
        [
         "11",
         "Единая Европа-Элит и сеть магазинов СТИЛЬПАРК",
         "42.608",
         "Товары для детей (продвижение, оптовая торговля)"
        ],
        [
         "12",
         "Единая Европа-Элит и сеть магазинов СТИЛЬПАРК",
         "42.607",
         "Товары для детей (производство)"
        ],
        [
         "13",
         "Единая Европа-Элит и сеть магазинов СТИЛЬПАРК",
         "41.515",
         "Розничная сеть (одежда, обувь, аксессуары)"
        ],
        [
         "14",
         "Единая Европа-Элит и сеть магазинов СТИЛЬПАРК",
         "41.514",
         "Розничная сеть (товары для детей)"
        ],
        [
         "15",
         "PLAYMAKERS",
         "44.391",
         "Кадровые агентства"
        ],
        [
         "16",
         "Россети Московский регион",
         "46.474",
         "Сбыт и потребление электроэнергии"
        ],
        [
         "17",
         "Россети Московский регион",
         "46.473",
         "Передача, распределение электроэнергии"
        ],
        [
         "18",
         "Международный аэропорт Пермь",
         "5.461",
         "Авиаперевозки"
        ],
        [
         "19",
         "Бьюти Лайф",
         "48.684",
         "Фармацевтическая продукция (производство)"
        ],
        [
         "20",
         "Уфанет",
         "11.454",
         "Распространение телепрограмм, кино (кабельное телевидение)"
        ],
        [
         "21",
         "Уфанет",
         "7.538",
         "Интернет-провайдер"
        ],
        [
         "22",
         "Уфанет",
         "7.541",
         "Интернет-компания (поисковики, платежные системы, соц.сети, информационно-познавательные и развлекательные ресурсы, продвижение сайтов и прочее)"
        ],
        [
         "23",
         "Уфанет",
         "7.539",
         "Системная интеграция,  автоматизации технологических и бизнес-процессов предприятия, ИТ-консалтинг"
        ],
        [
         "24",
         "Уфанет",
         "9.401",
         "Оптоволоконная связь"
        ],
        [
         "25",
         "EGO BOTTEGO",
         "41.515",
         "Розничная сеть (одежда, обувь, аксессуары)"
        ],
        [
         "26",
         "EGO BOTTEGO",
         "41.525",
         "Интернет-магазин"
        ],
        [
         "27",
         "EGO BOTTEGO",
         "41.511",
         "Розничная сеть (книги, игрушки, подарки, часы и прочее)"
        ],
        [
         "28",
         "Совкомбанк",
         "43.647",
         "Банк"
        ],
        [
         "29",
         "Опытно-конструкторское бюро Электроавтоматика имени П.А. Ефимова",
         "8.486",
         "Электронно-вычислительная, оптическая, контрольно-измерительная техника, радиоэлектроника, автоматика (продвижение, оптовая торговля)"
        ],
        [
         "30",
         "Опытно-конструкторское бюро Электроавтоматика имени П.А. Ефимова",
         "8.485",
         "Электронно-вычислительная, оптическая, контрольно-измерительная техника, радиоэлектроника, автоматика (монтаж, сервис, ремонт)"
        ],
        [
         "31",
         "Опытно-конструкторское бюро Электроавтоматика имени П.А. Ефимова",
         "8.484",
         "Электронно-вычислительная, оптическая, контрольно-измерительная техника, радиоэлектроника, автоматика (производство)"
        ],
        [
         "32",
         "Опытно-конструкторское бюро Электроавтоматика имени П.А. Ефимова",
         "33.429",
         "Продукция авиационной, аэрокосмической, вертолетной промышленности (монтаж, сервис, ремонт)"
        ],
        [
         "33",
         "Кадровый Метод",
         "44.391",
         "Кадровые агентства"
        ],
        [
         "34",
         "Международная сеть школ рисования Grafika",
         "39.449",
         "Обучение искусствам (рисование, пение, танцы, фото)"
        ],
        [
         "35",
         "Новые Технологии Телекоммуникаций (ООО НПП НТТ)",
         "8.484",
         "Электронно-вычислительная, оптическая, контрольно-измерительная техника, радиоэлектроника, автоматика (производство)"
        ],
        [
         "36",
         "Новые Технологии Телекоммуникаций (ООО НПП НТТ)",
         "7.540",
         "Разработка программного обеспечения"
        ],
        [
         "37",
         "Московский прожекторный завод",
         "33.440",
         "Производство и ремонт военной техники, оборудования и вооружения"
        ],
        [
         "38",
         "Московский прожекторный завод",
         "8.481",
         "Промышленное, бытовое электрооборудование и электротехника (производство)"
        ],
        [
         "39",
         "Бута Констракшн",
         "13.660",
         "Строительство коммерческих объектов (торговые площади, офисные здания)"
        ],
        [
         "40",
         "Бута Констракшн",
         "13.663",
         "Архитектура, проектирование"
        ],
        [
         "41",
         "Бута Констракшн",
         "13.654",
         "Девелопмент"
        ],
        [
         "42",
         "НефтеГазКонсультант",
         "44.393",
         "Консалтинговые услуги"
        ],
        [
         "43",
         "НефтеГазКонсультант",
         "39.444",
         "Бизнес-образование"
        ],
        [
         "44",
         "НефтеГазКонсультант",
         "7.539",
         "Системная интеграция,  автоматизации технологических и бизнес-процессов предприятия, ИТ-консалтинг"
        ],
        [
         "45",
         "Легион",
         "7.539",
         "Системная интеграция,  автоматизации технологических и бизнес-процессов предприятия, ИТ-консалтинг"
        ],
        [
         "46",
         "ЭКСПРЕСС",
         "7.541",
         "Интернет-компания (поисковики, платежные системы, соц.сети, информационно-познавательные и развлекательные ресурсы, продвижение сайтов и прочее)"
        ],
        [
         "47",
         "ЭКСПРЕСС",
         "7.539",
         "Системная интеграция,  автоматизации технологических и бизнес-процессов предприятия, ИТ-консалтинг"
        ],
        [
         "48",
         "ФГБУ ВЦЭРМ им. А.М. Никифорова МЧС России",
         "48.681",
         "Лечебно-профилактические учреждения"
        ],
        [
         "49",
         "СУЭК, Сибирская Угольная Энергетическая Компания",
         "45.534",
         "Добыча и обогащение угля"
        ]
       ],
       "shape": {
        "columns": 3,
        "rows": 12800
       }
      },
      "text/html": [
       "<div>\n",
       "<style scoped>\n",
       "    .dataframe tbody tr th:only-of-type {\n",
       "        vertical-align: middle;\n",
       "    }\n",
       "\n",
       "    .dataframe tbody tr th {\n",
       "        vertical-align: top;\n",
       "    }\n",
       "\n",
       "    .dataframe thead th {\n",
       "        text-align: right;\n",
       "    }\n",
       "</style>\n",
       "<table border=\"1\" class=\"dataframe\">\n",
       "  <thead>\n",
       "    <tr style=\"text-align: right;\">\n",
       "      <th></th>\n",
       "      <th>company</th>\n",
       "      <th>id</th>\n",
       "      <th>name_ind</th>\n",
       "    </tr>\n",
       "  </thead>\n",
       "  <tbody>\n",
       "    <tr>\n",
       "      <th>0</th>\n",
       "      <td>Медскан</td>\n",
       "      <td>48.681</td>\n",
       "      <td>Лечебно-профилактические учреждения</td>\n",
       "    </tr>\n",
       "    <tr>\n",
       "      <th>1</th>\n",
       "      <td>Медскан</td>\n",
       "      <td>48.680</td>\n",
       "      <td>Лаборатория, исследовательский центр</td>\n",
       "    </tr>\n",
       "    <tr>\n",
       "      <th>2</th>\n",
       "      <td>Медскан</td>\n",
       "      <td>48.679</td>\n",
       "      <td>Клинические исследования</td>\n",
       "    </tr>\n",
       "    <tr>\n",
       "      <th>3</th>\n",
       "      <td>Selecty</td>\n",
       "      <td>44.391</td>\n",
       "      <td>Кадровые агентства</td>\n",
       "    </tr>\n",
       "    <tr>\n",
       "      <th>4</th>\n",
       "      <td>NK GROUP</td>\n",
       "      <td>13.662</td>\n",
       "      <td>Строительство дорожное и инфраструктурное</td>\n",
       "    </tr>\n",
       "    <tr>\n",
       "      <th>...</th>\n",
       "      <td>...</td>\n",
       "      <td>...</td>\n",
       "      <td>...</td>\n",
       "    </tr>\n",
       "    <tr>\n",
       "      <th>12795</th>\n",
       "      <td>СК Анастасия</td>\n",
       "      <td>13.659</td>\n",
       "      <td>Строительство промышленное</td>\n",
       "    </tr>\n",
       "    <tr>\n",
       "      <th>12796</th>\n",
       "      <td>СК Анастасия</td>\n",
       "      <td>51.672</td>\n",
       "      <td>Ремонт зданий и сооружений</td>\n",
       "    </tr>\n",
       "    <tr>\n",
       "      <th>12797</th>\n",
       "      <td>СК Анастасия</td>\n",
       "      <td>51.671</td>\n",
       "      <td>Благоустройство и уборка территорий и зданий</td>\n",
       "    </tr>\n",
       "    <tr>\n",
       "      <th>12798</th>\n",
       "      <td>IT-Лидер</td>\n",
       "      <td>7.541</td>\n",
       "      <td>Интернет-компания (поисковики, платежные систе...</td>\n",
       "    </tr>\n",
       "    <tr>\n",
       "      <th>12799</th>\n",
       "      <td>IT-Лидер</td>\n",
       "      <td>7.539</td>\n",
       "      <td>Системная интеграция,  автоматизации технологи...</td>\n",
       "    </tr>\n",
       "  </tbody>\n",
       "</table>\n",
       "<p>12800 rows × 3 columns</p>\n",
       "</div>"
      ],
      "text/plain": [
       "            company      id                                           name_ind\n",
       "0           Медскан  48.681                Лечебно-профилактические учреждения\n",
       "1           Медскан  48.680               Лаборатория, исследовательский центр\n",
       "2           Медскан  48.679                           Клинические исследования\n",
       "3           Selecty  44.391                                 Кадровые агентства\n",
       "4          NK GROUP  13.662          Строительство дорожное и инфраструктурное\n",
       "...             ...     ...                                                ...\n",
       "12795  СК Анастасия  13.659                         Строительство промышленное\n",
       "12796  СК Анастасия  51.672                         Ремонт зданий и сооружений\n",
       "12797  СК Анастасия  51.671       Благоустройство и уборка территорий и зданий\n",
       "12798      IT-Лидер   7.541  Интернет-компания (поисковики, платежные систе...\n",
       "12799      IT-Лидер   7.539  Системная интеграция,  автоматизации технологи...\n",
       "\n",
       "[12800 rows x 3 columns]"
      ]
     },
     "execution_count": 75,
     "metadata": {},
     "output_type": "execute_result"
    }
   ],
   "source": [
    "companies_explode.groupby(by=\"company\").head(5)"
   ]
  },
  {
   "cell_type": "code",
   "execution_count": 85,
   "id": "6dd4327a",
   "metadata": {},
   "outputs": [
    {
     "name": "stderr",
     "output_type": "stream",
     "text": [
      "/tmp/ipykernel_1691/1685527406.py:1: FutureWarning: DataFrameGroupBy.apply operated on the grouping columns. This behavior is deprecated, and in a future version of pandas the grouping columns will be excluded from the operation. Either pass `include_groups=False` to exclude the groupings or explicitly select the grouping columns after groupby to silence this warning.\n",
      "  result = companies_explode.groupby(\"company\").apply(\n"
     ]
    }
   ],
   "source": [
    "result = companies_explode.groupby(\"company\").apply(\n",
    "    lambda group: group.head(4).reset_index(drop=True)\n",
    ").reset_index(drop=True)\n",
    "\n",
    "result[\"group_index\"] = result.groupby(\"company\").cumcount()"
   ]
  },
  {
   "cell_type": "code",
   "execution_count": 88,
   "id": "81190048",
   "metadata": {},
   "outputs": [],
   "source": [
    "result_pivot = result.pivot(index=\"company\", columns=\"group_index\", values=[\"id\", \"name_ind\"])"
   ]
  },
  {
   "cell_type": "code",
   "execution_count": 89,
   "id": "b63056ba",
   "metadata": {},
   "outputs": [],
   "source": [
    "result_pivot.columns = [f\"{col[0]}_{col[1]+1}\" for col in result_pivot.columns]"
   ]
  },
  {
   "cell_type": "code",
   "execution_count": 90,
   "id": "b15b869d",
   "metadata": {},
   "outputs": [
    {
     "data": {
      "application/vnd.microsoft.datawrangler.viewer.v0+json": {
       "columns": [
        {
         "name": "company",
         "rawType": "object",
         "type": "string"
        },
        {
         "name": "id_1",
         "rawType": "object",
         "type": "string"
        },
        {
         "name": "id_2",
         "rawType": "object",
         "type": "unknown"
        },
        {
         "name": "id_3",
         "rawType": "object",
         "type": "unknown"
        },
        {
         "name": "id_4",
         "rawType": "object",
         "type": "unknown"
        },
        {
         "name": "name_ind_1",
         "rawType": "object",
         "type": "string"
        },
        {
         "name": "name_ind_2",
         "rawType": "object",
         "type": "unknown"
        },
        {
         "name": "name_ind_3",
         "rawType": "object",
         "type": "unknown"
        },
        {
         "name": "name_ind_4",
         "rawType": "object",
         "type": "unknown"
        }
       ],
       "ref": "a032993e-e89b-4899-a312-0fe956bcfbca",
       "rows": [
        [
         "#dieztech",
         "7.541",
         "7.540",
         "11.459",
         null,
         "Интернет-компания (поисковики, платежные системы, соц.сети, информационно-познавательные и развлекательные ресурсы, продвижение сайтов и прочее)",
         "Разработка программного обеспечения",
         "Маркетинговые, рекламные, BTL, дизайнерские, Event-, PR-агентства, организация выставок",
         null
        ],
        [
         "1 Мегамир",
         "7.541",
         "7.540",
         "7.539",
         null,
         "Интернет-компания (поисковики, платежные системы, соц.сети, информационно-познавательные и развлекательные ресурсы, продвижение сайтов и прочее)",
         "Разработка программного обеспечения",
         "Системная интеграция,  автоматизации технологических и бизнес-процессов предприятия, ИТ-консалтинг",
         null
        ],
        [
         "1 Московская Зеркальная фабрика",
         "388.499",
         "41.525",
         "41.513",
         "41.512",
         "Оборудование и станки для добывающей, энергетической, нефтегазовой и химической отрасли  (производство)",
         "Интернет-магазин",
         "Розничная сеть (мебель)",
         "Розничная сеть (drogerie, товары повседневного спроса)"
        ],
        [
         "1-й Советник",
         "7.539",
         null,
         null,
         null,
         "Системная интеграция,  автоматизации технологических и бизнес-процессов предприятия, ИТ-консалтинг",
         null,
         null,
         null
        ],
        [
         "101 Интернет",
         "7.541",
         "9.402",
         "9.401",
         "9.400",
         "Интернет-компания (поисковики, платежные системы, соц.сети, информационно-познавательные и развлекательные ресурсы, продвижение сайтов и прочее)",
         "Спутниковая связь",
         "Оптоволоконная связь",
         "Фиксированная связь"
        ],
        [
         "101Hotels.com",
         "44.392",
         "44.396",
         "7.541",
         "49.412",
         "Колл-центры, диспетчерские службы",
         "Услуги по организации поездок и бронированию",
         "Интернет-компания (поисковики, платежные системы, соц.сети, информационно-познавательные и развлекательные ресурсы, продвижение сайтов и прочее)",
         "Туристические компании"
        ],
        [
         "105 Кодерлайн",
         "7.539",
         null,
         null,
         null,
         "Системная интеграция,  автоматизации технологических и бизнес-процессов предприятия, ИТ-консалтинг",
         null,
         null,
         null
        ],
        [
         "13 этаж",
         "11.459",
         "7.539",
         null,
         null,
         "Маркетинговые, рекламные, BTL, дизайнерские, Event-, PR-агентства, организация выставок",
         "Системная интеграция,  автоматизации технологических и бизнес-процессов предприятия, ИТ-консалтинг",
         null,
         null
        ],
        [
         "1811 EIGHTEEN ONE ONE",
         "41.515",
         null,
         null,
         null,
         "Розничная сеть (одежда, обувь, аксессуары)",
         null,
         null,
         null
        ],
        [
         "1C-Рарус",
         "7.540",
         "7.539",
         null,
         null,
         "Разработка программного обеспечения",
         "Системная интеграция,  автоматизации технологических и бизнес-процессов предприятия, ИТ-консалтинг",
         null,
         null
        ],
        [
         "1M-Service",
         "44.393",
         null,
         null,
         null,
         "Консалтинговые услуги",
         null,
         null,
         null
        ],
        [
         "1С-АВТОМАТИЗАЦИЯ",
         "7.539",
         null,
         null,
         null,
         "Системная интеграция,  автоматизации технологических и бизнес-процессов предприятия, ИТ-консалтинг",
         null,
         null,
         null
        ],
        [
         "1С-Архитектор бизнеса",
         "7.539",
         null,
         null,
         null,
         "Системная интеграция,  автоматизации технологических и бизнес-процессов предприятия, ИТ-консалтинг",
         null,
         null,
         null
        ],
        [
         "1С-Галэкс",
         "7.539",
         null,
         null,
         null,
         "Системная интеграция,  автоматизации технологических и бизнес-процессов предприятия, ИТ-консалтинг",
         null,
         null,
         null
        ],
        [
         "1С-КПД",
         "7.540",
         "7.539",
         null,
         null,
         "Разработка программного обеспечения",
         "Системная интеграция,  автоматизации технологических и бизнес-процессов предприятия, ИТ-консалтинг",
         null,
         null
        ],
        [
         "1С-Перспектива",
         "7.540",
         "7.539",
         null,
         null,
         "Разработка программного обеспечения",
         "Системная интеграция,  автоматизации технологических и бизнес-процессов предприятия, ИТ-консалтинг",
         null,
         null
        ],
        [
         "1С:Апрель Софт",
         "44.393",
         "7.540",
         "7.539",
         null,
         "Консалтинговые услуги",
         "Разработка программного обеспечения",
         "Системная интеграция,  автоматизации технологических и бизнес-процессов предприятия, ИТ-консалтинг",
         null
        ],
        [
         "1С:ВДГБ",
         "7.540",
         null,
         null,
         null,
         "Разработка программного обеспечения",
         null,
         null,
         null
        ],
        [
         "1С:ИНФОРМПОВОЛЖЬЕ",
         "44.393",
         "39.445",
         "7.540",
         "7.539",
         "Консалтинговые услуги",
         "Повышение квалификации, переквалификация",
         "Разработка программного обеспечения",
         "Системная интеграция,  автоматизации технологических и бизнес-процессов предприятия, ИТ-консалтинг"
        ],
        [
         "23 программиста",
         "7.540",
         null,
         null,
         null,
         "Разработка программного обеспечения",
         null,
         null,
         null
        ],
        [
         "24 принт",
         "11.460",
         null,
         null,
         null,
         "Производство печатной, полиграфической продукции",
         null,
         null,
         null
        ],
        [
         "24Н Софт",
         "7.540",
         null,
         null,
         null,
         "Разработка программного обеспечения",
         null,
         null,
         null
        ],
        [
         "2ГИС",
         "11.453",
         "44.393",
         "44.392",
         "7.541",
         "Производство мультимедиа, контента, редакторская деятельность",
         "Консалтинговые услуги",
         "Колл-центры, диспетчерские службы",
         "Интернет-компания (поисковики, платежные системы, соц.сети, информационно-познавательные и развлекательные ресурсы, продвижение сайтов и прочее)"
        ],
        [
         "2х2",
         "42.595",
         null,
         null,
         null,
         "Одежда, обувь, аксессуары, текстиль (производство)",
         null,
         null,
         null
        ],
        [
         "3 Owls",
         "44.393",
         "7.541",
         "7.540",
         "7.539",
         "Консалтинговые услуги",
         "Интернет-компания (поисковики, платежные системы, соц.сети, информационно-познавательные и развлекательные ресурсы, продвижение сайтов и прочее)",
         "Разработка программного обеспечения",
         "Системная интеграция,  автоматизации технологических и бизнес-процессов предприятия, ИТ-консалтинг"
        ],
        [
         "39 ПРИНТ",
         "11.460",
         null,
         null,
         null,
         "Производство печатной, полиграфической продукции",
         null,
         null,
         null
        ],
        [
         "3snet",
         "7.541",
         "11.459",
         null,
         null,
         "Интернет-компания (поисковики, платежные системы, соц.сети, информационно-познавательные и развлекательные ресурсы, продвижение сайтов и прочее)",
         "Маркетинговые, рекламные, BTL, дизайнерские, Event-, PR-агентства, организация выставок",
         null,
         null
        ],
        [
         "3Д-РАЗРАБОТКА",
         "11.453",
         "11.459",
         "7.540",
         "7.539",
         "Производство мультимедиа, контента, редакторская деятельность",
         "Маркетинговые, рекламные, BTL, дизайнерские, Event-, PR-агентства, организация выставок",
         "Разработка программного обеспечения",
         "Системная интеграция,  автоматизации технологических и бизнес-процессов предприятия, ИТ-консалтинг"
        ],
        [
         "4А.Консалтинг",
         "7.540",
         "7.539",
         null,
         null,
         "Разработка программного обеспечения",
         "Системная интеграция,  автоматизации технологических и бизнес-процессов предприятия, ИТ-консалтинг",
         null,
         null
        ],
        [
         "5 Армия",
         "27.565",
         "27.579",
         "27.572",
         "27.577",
         "Макаронные изделия (продвижение, оптовая торговля)",
         "Полуфабрикаты, в том числе замороженные  (продвижение, оптовая торговля)",
         "Мясная продукция (продвижение, оптовая торговля)",
         "Рыба и морепродукты (продвижение, оптовая торговля)"
        ],
        [
         "5-55",
         "7.539",
         null,
         null,
         null,
         "Системная интеграция,  автоматизации технологических и бизнес-процессов предприятия, ИТ-консалтинг",
         null,
         null,
         null
        ],
        [
         "585, Золотой",
         "41.522",
         "42.610",
         "42.609",
         null,
         "Розничная сеть (ювелирные изделия)",
         "Ювелирные изделия, бижутерия  (продвижение, оптовая торговля)",
         "Ювелирные изделия, бижутерия  (производство)",
         null
        ],
        [
         "7waysconsult",
         "44.393",
         "7.541",
         "7.539",
         null,
         "Консалтинговые услуги",
         "Интернет-компания (поисковики, платежные системы, соц.сети, информационно-познавательные и развлекательные ресурсы, продвижение сайтов и прочее)",
         "Системная интеграция,  автоматизации технологических и бизнес-процессов предприятия, ИТ-консалтинг",
         null
        ],
        [
         "7ЦВЕТОВ",
         "41.518",
         "29.533",
         null,
         null,
         "Розничная сеть (DIY и товары для дома)",
         "Сельскохозяйственная продукция (продвижение, оптовая торговля)",
         null,
         null
        ],
        [
         "85 Тех",
         "41.525",
         "7.541",
         null,
         null,
         "Интернет-магазин",
         "Интернет-компания (поисковики, платежные системы, соц.сети, информационно-познавательные и развлекательные ресурсы, продвижение сайтов и прочее)",
         null,
         null
        ],
        [
         "A SWISS GROUP",
         "48.681",
         "48.680",
         "48.679",
         "48.684",
         "Лечебно-профилактические учреждения",
         "Лаборатория, исследовательский центр",
         "Клинические исследования",
         "Фармацевтическая продукция (производство)"
        ],
        [
         "A2SEVEN",
         "44.393",
         "7.540",
         "7.539",
         null,
         "Консалтинговые услуги",
         "Разработка программного обеспечения",
         "Системная интеграция,  автоматизации технологических и бизнес-процессов предприятия, ИТ-консалтинг",
         null
        ],
        [
         "ABCP",
         "7.541",
         "7.540",
         null,
         null,
         "Интернет-компания (поисковики, платежные системы, соц.сети, информационно-познавательные и развлекательные ресурсы, продвижение сайтов и прочее)",
         "Разработка программного обеспечения",
         null,
         null
        ],
        [
         "ABCstaff",
         "44.393",
         "44.391",
         null,
         null,
         "Консалтинговые услуги",
         "Кадровые агентства",
         null,
         null
        ],
        [
         "ABS GROUP",
         "15.548",
         "15.547",
         "15.544",
         "50.528",
         "Техническое обслуживание, ремонт автомобилей",
         "Автозапчасти, шины (розничная торговля)",
         "Розничная торговля автомобилями (дилерский центр)",
         "Ресторан, общественное питание, фаст-фуд"
        ],
        [
         "ABSOL",
         "15.548",
         "15.544",
         null,
         null,
         "Техническое обслуживание, ремонт автомобилей",
         "Розничная торговля автомобилями (дилерский центр)",
         null,
         null
        ],
        [
         "ACADEMIA",
         "13.660",
         "50.527",
         null,
         null,
         "Строительство коммерческих объектов (торговые площади, офисные здания)",
         "Гостиница",
         null,
         null
        ],
        [
         "ADAMAS",
         "41.522",
         "42.610",
         "42.609",
         null,
         "Розничная сеть (ювелирные изделия)",
         "Ювелирные изделия, бижутерия  (продвижение, оптовая торговля)",
         "Ювелирные изделия, бижутерия  (производство)",
         null
        ],
        [
         "ADG group",
         "13.660",
         "13.666",
         "13.664",
         "13.654",
         "Строительство коммерческих объектов (торговые площади, офисные здания)",
         "Агентские услуги в недвижимости",
         "Управление и эксплуатация недвижимости",
         "Девелопмент"
        ],
        [
         "AERODISK",
         "7.540",
         null,
         null,
         null,
         "Разработка программного обеспечения",
         null,
         null,
         null
        ],
        [
         "AFI Development",
         "13.654",
         null,
         null,
         null,
         "Девелопмент",
         null,
         null,
         null
        ],
        [
         "AGIMA",
         "7.541",
         "7.539",
         null,
         null,
         "Интернет-компания (поисковики, платежные системы, соц.сети, информационно-познавательные и развлекательные ресурсы, продвижение сайтов и прочее)",
         "Системная интеграция,  автоматизации технологических и бизнес-процессов предприятия, ИТ-консалтинг",
         null,
         null
        ],
        [
         "AIRECRUITMENT",
         "44.391",
         null,
         null,
         null,
         "Кадровые агентства",
         null,
         null,
         null
        ],
        [
         "AISA",
         "7.540",
         "7.539",
         null,
         null,
         "Разработка программного обеспечения",
         "Системная интеграция,  автоматизации технологических и бизнес-процессов предприятия, ИТ-консалтинг",
         null,
         null
        ],
        [
         "ALEX BAITLER RUS (ООО Алекс Байтлер Рус)",
         "42.598",
         "42.597",
         null,
         null,
         "Сантехника (продвижение, оптовая торговля)",
         "Сантехника (производство)",
         null,
         null
        ]
       ],
       "shape": {
        "columns": 8,
        "rows": 5701
       }
      },
      "text/html": [
       "<div>\n",
       "<style scoped>\n",
       "    .dataframe tbody tr th:only-of-type {\n",
       "        vertical-align: middle;\n",
       "    }\n",
       "\n",
       "    .dataframe tbody tr th {\n",
       "        vertical-align: top;\n",
       "    }\n",
       "\n",
       "    .dataframe thead th {\n",
       "        text-align: right;\n",
       "    }\n",
       "</style>\n",
       "<table border=\"1\" class=\"dataframe\">\n",
       "  <thead>\n",
       "    <tr style=\"text-align: right;\">\n",
       "      <th></th>\n",
       "      <th>id_1</th>\n",
       "      <th>id_2</th>\n",
       "      <th>id_3</th>\n",
       "      <th>id_4</th>\n",
       "      <th>name_ind_1</th>\n",
       "      <th>name_ind_2</th>\n",
       "      <th>name_ind_3</th>\n",
       "      <th>name_ind_4</th>\n",
       "    </tr>\n",
       "    <tr>\n",
       "      <th>company</th>\n",
       "      <th></th>\n",
       "      <th></th>\n",
       "      <th></th>\n",
       "      <th></th>\n",
       "      <th></th>\n",
       "      <th></th>\n",
       "      <th></th>\n",
       "      <th></th>\n",
       "    </tr>\n",
       "  </thead>\n",
       "  <tbody>\n",
       "    <tr>\n",
       "      <th>#dieztech</th>\n",
       "      <td>7.541</td>\n",
       "      <td>7.540</td>\n",
       "      <td>11.459</td>\n",
       "      <td>NaN</td>\n",
       "      <td>Интернет-компания (поисковики, платежные систе...</td>\n",
       "      <td>Разработка программного обеспечения</td>\n",
       "      <td>Маркетинговые, рекламные, BTL, дизайнерские, E...</td>\n",
       "      <td>NaN</td>\n",
       "    </tr>\n",
       "    <tr>\n",
       "      <th>1 Мегамир</th>\n",
       "      <td>7.541</td>\n",
       "      <td>7.540</td>\n",
       "      <td>7.539</td>\n",
       "      <td>NaN</td>\n",
       "      <td>Интернет-компания (поисковики, платежные систе...</td>\n",
       "      <td>Разработка программного обеспечения</td>\n",
       "      <td>Системная интеграция,  автоматизации технологи...</td>\n",
       "      <td>NaN</td>\n",
       "    </tr>\n",
       "    <tr>\n",
       "      <th>1 Московская Зеркальная фабрика</th>\n",
       "      <td>388.499</td>\n",
       "      <td>41.525</td>\n",
       "      <td>41.513</td>\n",
       "      <td>41.512</td>\n",
       "      <td>Оборудование и станки для добывающей, энергети...</td>\n",
       "      <td>Интернет-магазин</td>\n",
       "      <td>Розничная сеть (мебель)</td>\n",
       "      <td>Розничная сеть (drogerie, товары повседневного...</td>\n",
       "    </tr>\n",
       "    <tr>\n",
       "      <th>1-й Советник</th>\n",
       "      <td>7.539</td>\n",
       "      <td>NaN</td>\n",
       "      <td>NaN</td>\n",
       "      <td>NaN</td>\n",
       "      <td>Системная интеграция,  автоматизации технологи...</td>\n",
       "      <td>NaN</td>\n",
       "      <td>NaN</td>\n",
       "      <td>NaN</td>\n",
       "    </tr>\n",
       "    <tr>\n",
       "      <th>101 Интернет</th>\n",
       "      <td>7.541</td>\n",
       "      <td>9.402</td>\n",
       "      <td>9.401</td>\n",
       "      <td>9.400</td>\n",
       "      <td>Интернет-компания (поисковики, платежные систе...</td>\n",
       "      <td>Спутниковая связь</td>\n",
       "      <td>Оптоволоконная связь</td>\n",
       "      <td>Фиксированная связь</td>\n",
       "    </tr>\n",
       "    <tr>\n",
       "      <th>...</th>\n",
       "      <td>...</td>\n",
       "      <td>...</td>\n",
       "      <td>...</td>\n",
       "      <td>...</td>\n",
       "      <td>...</td>\n",
       "      <td>...</td>\n",
       "      <td>...</td>\n",
       "      <td>...</td>\n",
       "    </tr>\n",
       "    <tr>\n",
       "      <th>айФлекс, компания</th>\n",
       "      <td>7.539</td>\n",
       "      <td>NaN</td>\n",
       "      <td>NaN</td>\n",
       "      <td>NaN</td>\n",
       "      <td>Системная интеграция,  автоматизации технологи...</td>\n",
       "      <td>NaN</td>\n",
       "      <td>NaN</td>\n",
       "      <td>NaN</td>\n",
       "    </tr>\n",
       "    <tr>\n",
       "      <th>билайн</th>\n",
       "      <td>7.538</td>\n",
       "      <td>7.539</td>\n",
       "      <td>9.400</td>\n",
       "      <td>9.399</td>\n",
       "      <td>Интернет-провайдер</td>\n",
       "      <td>Системная интеграция,  автоматизации технологи...</td>\n",
       "      <td>Фиксированная связь</td>\n",
       "      <td>Мобильная связь</td>\n",
       "    </tr>\n",
       "    <tr>\n",
       "      <th>бобдей</th>\n",
       "      <td>44.393</td>\n",
       "      <td>7.540</td>\n",
       "      <td>7.539</td>\n",
       "      <td>NaN</td>\n",
       "      <td>Консалтинговые услуги</td>\n",
       "      <td>Разработка программного обеспечения</td>\n",
       "      <td>Системная интеграция,  автоматизации технологи...</td>\n",
       "      <td>NaN</td>\n",
       "    </tr>\n",
       "    <tr>\n",
       "      <th>буше</th>\n",
       "      <td>41.517</td>\n",
       "      <td>27.558</td>\n",
       "      <td>27.559</td>\n",
       "      <td>NaN</td>\n",
       "      <td>Розничная сеть (продуктовая)</td>\n",
       "      <td>Кондитерские изделия (производство)</td>\n",
       "      <td>Кондитерские изделия (продвижение, оптовая тор...</td>\n",
       "      <td>NaN</td>\n",
       "    </tr>\n",
       "    <tr>\n",
       "      <th>фирма Агрокомплекс им. Н.И. Ткачева</th>\n",
       "      <td>41.517</td>\n",
       "      <td>29.533</td>\n",
       "      <td>29.531</td>\n",
       "      <td>27.568</td>\n",
       "      <td>Розничная сеть (продуктовая)</td>\n",
       "      <td>Сельскохозяйственная продукция (продвижение, о...</td>\n",
       "      <td>Земледелие, растениеводство, животноводство</td>\n",
       "      <td>Молочная продукция (производство)</td>\n",
       "    </tr>\n",
       "  </tbody>\n",
       "</table>\n",
       "<p>5701 rows × 8 columns</p>\n",
       "</div>"
      ],
      "text/plain": [
       "                                        id_1    id_2    id_3    id_4  \\\n",
       "company                                                                \n",
       "#dieztech                              7.541   7.540  11.459     NaN   \n",
       "1 Мегамир                              7.541   7.540   7.539     NaN   \n",
       "1 Московская Зеркальная фабрика      388.499  41.525  41.513  41.512   \n",
       "1-й Советник                           7.539     NaN     NaN     NaN   \n",
       "101 Интернет                           7.541   9.402   9.401   9.400   \n",
       "...                                      ...     ...     ...     ...   \n",
       "айФлекс, компания                      7.539     NaN     NaN     NaN   \n",
       "билайн                                 7.538   7.539   9.400   9.399   \n",
       "бобдей                                44.393   7.540   7.539     NaN   \n",
       "буше                                  41.517  27.558  27.559     NaN   \n",
       "фирма Агрокомплекс им. Н.И. Ткачева   41.517  29.533  29.531  27.568   \n",
       "\n",
       "                                                                            name_ind_1  \\\n",
       "company                                                                                  \n",
       "#dieztech                            Интернет-компания (поисковики, платежные систе...   \n",
       "1 Мегамир                            Интернет-компания (поисковики, платежные систе...   \n",
       "1 Московская Зеркальная фабрика      Оборудование и станки для добывающей, энергети...   \n",
       "1-й Советник                         Системная интеграция,  автоматизации технологи...   \n",
       "101 Интернет                         Интернет-компания (поисковики, платежные систе...   \n",
       "...                                                                                ...   \n",
       "айФлекс, компания                    Системная интеграция,  автоматизации технологи...   \n",
       "билайн                                                              Интернет-провайдер   \n",
       "бобдей                                                           Консалтинговые услуги   \n",
       "буше                                                      Розничная сеть (продуктовая)   \n",
       "фирма Агрокомплекс им. Н.И. Ткачева                       Розничная сеть (продуктовая)   \n",
       "\n",
       "                                                                            name_ind_2  \\\n",
       "company                                                                                  \n",
       "#dieztech                                          Разработка программного обеспечения   \n",
       "1 Мегамир                                          Разработка программного обеспечения   \n",
       "1 Московская Зеркальная фабрика                                       Интернет-магазин   \n",
       "1-й Советник                                                                       NaN   \n",
       "101 Интернет                                                         Спутниковая связь   \n",
       "...                                                                                ...   \n",
       "айФлекс, компания                                                                  NaN   \n",
       "билайн                               Системная интеграция,  автоматизации технологи...   \n",
       "бобдей                                             Разработка программного обеспечения   \n",
       "буше                                               Кондитерские изделия (производство)   \n",
       "фирма Агрокомплекс им. Н.И. Ткачева  Сельскохозяйственная продукция (продвижение, о...   \n",
       "\n",
       "                                                                            name_ind_3  \\\n",
       "company                                                                                  \n",
       "#dieztech                            Маркетинговые, рекламные, BTL, дизайнерские, E...   \n",
       "1 Мегамир                            Системная интеграция,  автоматизации технологи...   \n",
       "1 Московская Зеркальная фабрика                                Розничная сеть (мебель)   \n",
       "1-й Советник                                                                       NaN   \n",
       "101 Интернет                                                      Оптоволоконная связь   \n",
       "...                                                                                ...   \n",
       "айФлекс, компания                                                                  NaN   \n",
       "билайн                                                             Фиксированная связь   \n",
       "бобдей                               Системная интеграция,  автоматизации технологи...   \n",
       "буше                                 Кондитерские изделия (продвижение, оптовая тор...   \n",
       "фирма Агрокомплекс им. Н.И. Ткачева        Земледелие, растениеводство, животноводство   \n",
       "\n",
       "                                                                            name_ind_4  \n",
       "company                                                                                 \n",
       "#dieztech                                                                          NaN  \n",
       "1 Мегамир                                                                          NaN  \n",
       "1 Московская Зеркальная фабрика      Розничная сеть (drogerie, товары повседневного...  \n",
       "1-й Советник                                                                       NaN  \n",
       "101 Интернет                                                       Фиксированная связь  \n",
       "...                                                                                ...  \n",
       "айФлекс, компания                                                                  NaN  \n",
       "билайн                                                                 Мобильная связь  \n",
       "бобдей                                                                             NaN  \n",
       "буше                                                                               NaN  \n",
       "фирма Агрокомплекс им. Н.И. Ткачева                  Молочная продукция (производство)  \n",
       "\n",
       "[5701 rows x 8 columns]"
      ]
     },
     "execution_count": 90,
     "metadata": {},
     "output_type": "execute_result"
    }
   ],
   "source": [
    "result_pivot"
   ]
  }
 ],
 "metadata": {
  "kernelspec": {
   "display_name": "teta_nn_1_2025_predict_salary",
   "language": "python",
   "name": "python3"
  },
  "language_info": {
   "codemirror_mode": {
    "name": "ipython",
    "version": 3
   },
   "file_extension": ".py",
   "mimetype": "text/x-python",
   "name": "python",
   "nbconvert_exporter": "python",
   "pygments_lexer": "ipython3",
   "version": "3.12.10"
  }
 },
 "nbformat": 4,
 "nbformat_minor": 5
}
