{
 "cells": [
  {
   "cell_type": "code",
   "execution_count": 1,
   "id": "54d3ceaa",
   "metadata": {},
   "outputs": [
    {
     "data": {
      "application/javascript": "IPython.notebook.set_autosave_interval(60000)"
     },
     "metadata": {},
     "output_type": "display_data"
    },
    {
     "name": "stdout",
     "output_type": "stream",
     "text": [
      "Autosaving every 60 seconds\n"
     ]
    }
   ],
   "source": [
    "%autosave 60\n",
    "%reload_ext autoreload\n",
    "%autoreload 2\n",
    "\n",
    "import sys\n",
    "\n",
    "sys.path.insert(0, \"..\")"
   ]
  },
  {
   "cell_type": "code",
   "execution_count": 2,
   "id": "42a211c5",
   "metadata": {},
   "outputs": [
    {
     "name": "stdout",
     "output_type": "stream",
     "text": [
      "\u001b[2K   \u001b[90m━━━━━━━━━━━━━━━━━━━━━━━━━━━━━━━━━━━━━━━━\u001b[0m \u001b[32m181.2/181.2 kB\u001b[0m \u001b[31m6.3 MB/s\u001b[0m eta \u001b[36m0:00:00\u001b[0m\n",
      "\u001b[?25hDownloading teta-nn-1-2025.zip to /kaggle/working\n",
      "  0%|                                               | 0.00/20.3M [00:00<?, ?B/s]\n",
      "100%|██████████████████████████████████████| 20.3M/20.3M [00:00<00:00, 1.06GB/s]\n",
      "Archive:  /kaggle/working/teta-nn-1-2025.zip\n",
      "  inflating: sample_submition.csv    \n",
      "  inflating: test.csv                \n",
      "  inflating: train.csv               \n"
     ]
    }
   ],
   "source": [
    "!pip install -U -q kaggle\n",
    "!mkdir -p ~/.kaggle\n",
    "!echo '{\"username\":\"dotyushka666\",\"key\":\"52b47ed42f652aa8eadfc6f29eb2e56c\"}' > ~/.kaggle/kaggle.json\n",
    "!chmod 600 ~/.kaggle/kaggle.json\n",
    "\n",
    "!kaggle competitions download -c teta-nn-1-2025\n",
    "!unzip /kaggle/working/teta-nn-1-2025"
   ]
  },
  {
   "cell_type": "code",
   "execution_count": 1,
   "id": "fcd83e00",
   "metadata": {},
   "outputs": [
    {
     "name": "stderr",
     "output_type": "stream",
     "text": [
      "/home/silverservicepipe/education/shad_mts/ml_dl/teta_nn_1_2025_predict_salary/.venv/lib/python3.12/site-packages/tqdm/auto.py:21: TqdmWarning: IProgress not found. Please update jupyter and ipywidgets. See https://ipywidgets.readthedocs.io/en/stable/user_install.html\n",
      "  from .autonotebook import tqdm as notebook_tqdm\n"
     ]
    }
   ],
   "source": [
    "import pandas as pd\n",
    "from transformers import AutoTokenizer, AutoModel\n",
    "import torch\n",
    "import torch.nn as nn\n",
    "import torch.optim as optim\n",
    "from torch.utils.data import Dataset, DataLoader\n",
    "\n",
    "from sklearn.preprocessing import OrdinalEncoder\n",
    "from sklearn.feature_extraction.text import TfidfVectorizer\n",
    "from sklearn.model_selection import train_test_split\n",
    "from sklearn.metrics import r2_score\n",
    "import pytorch_lightning as pl\n",
    "from pytorch_lightning.callbacks import ModelCheckpoint\n",
    "\n",
    "\n",
    "from tqdm import tqdm"
   ]
  },
  {
   "cell_type": "code",
   "execution_count": 3,
   "id": "871b3dce",
   "metadata": {},
   "outputs": [
    {
     "data": {
      "application/vnd.microsoft.datawrangler.viewer.v0+json": {
       "columns": [
        {
         "name": "index",
         "rawType": "int64",
         "type": "integer"
        },
        {
         "name": "title",
         "rawType": "object",
         "type": "string"
        },
        {
         "name": "location",
         "rawType": "object",
         "type": "string"
        },
        {
         "name": "skills",
         "rawType": "object",
         "type": "unknown"
        },
        {
         "name": "description",
         "rawType": "object",
         "type": "string"
        },
        {
         "name": "experience_from",
         "rawType": "float64",
         "type": "float"
        },
        {
         "name": "log_salary_from",
         "rawType": "float64",
         "type": "float"
        }
       ],
       "ref": "af90bce2-0799-4dd4-b22a-df3125fec1e1",
       "rows": [
        [
         "0",
         "Специалист технической поддержки",
         "Воронеж",
         null,
         "Обязанности:     Обеспечение бесперебойной работы всех ПК и устранение неисправностей;   Установка и настройка ПО для корректной работы;   Ремонт используемой техники;   Обеспечение информационной безопасности и защиты от хакерских атак и спама;   Сопровождение настройки системы видеонаблюдения, СКУД, «Битрикс», 1С;   Техническое обслуживание работы компьютеров и оргтехники, заправка картриджей, ремонт компьютеров и оргтехники;   Ведение базы заявок на обслуживание, ремонт, заказ комплектующих для компьютеров и оргтехники;   Сборка, диагностика и подключение рабочих компьютеров, серверов;   Сборка, тестирование и настройка нового оборудования;   Настройка сетевой печати, сканирования, общего доступа к файлам.     Требования:     Компьютерная грамотность. Нужно понимать, как работает софт и приложения, и уметь устранять проблемы с ними. Также необходимо знание аппаратной части ПК («железа»);   Навыки настройки оборудования. Принтеры, сканеры, МФУ;   Опыт работы с технической документацией;   Коммуникативные навыки. Важно уметь вежливо и корректно общаться с пользователями;   Стрессоустойчивость;   Внимательность. Желательно запоминать информацию с первого раза, чтобы не переспрашивать собеседника и быстро разобраться, в чём проблема;   Многозадачность.     Условия:     Мы предлагаем стабильную работу в крупной, надежной, успешно развивающейся компании;   Оформление в штат согласно трудовому законодательству;   \"Белая\" зарплата выплачивается 2 раза в месяц;   Мы находимся: ОЭЗ ППТ «Центр» располагается на территории Новоусманского района Воронежской области, с северной стороны ОЭЗ ППТ «Центр» примыкает к индустриальному парку «Масловский»;   Обеды за счет компании;   Служебный транспорт до места работы.  ",
         "1.0",
         "4.0943445622221"
        ],
        [
         "1",
         "Product Owner в ИТ-стартап (B2C)",
         "Москва",
         "CustDev, Стратегический менеджмент, Управление стейкхолдерами, Управление ожиданиями, Управление командой, Постановка задач разработчикам, Product-market fit, Customer Journey Mapping, User Story Mapping, Управление бэклогом, Управление ресурсами",
         "Эта вакансия про тебя, если симбиоз управленческой зрелости, стратегического видения, аналитических навыков, продуктового кругозора и глубокого погружение в бизнес — есть в твоем бэкграунде.   Большой плюс —  опыт запуска нового продукта на рынок.    Продукт Мы ИТ-стартап на грани прорыва, делаем социальную сеть для людей-инвесторов и всех, кто хочет повышать свою финансовую грамотность. Это будет реально огромное сообщество, объединенных общими интересами. Не олько интересное, познавательное, местами развлекательное, но и приносящие пользу. Причем как новичкам, так и тем, кто на инвестициях уже собаку съел.   Вам предстоит развивать сервис и его инструменты для общения с пользователями. Вы будете помогать пользователю получать ту информацию,которая ему интересна, в нужное время удобным способом. Для этого будет сайт (и мобильное приложение) — ими и предстоит заниматься.   Всегда есть опция создавать новые штуки и экспериментировать.   Работа  напрямую  с CEO.   Сработаемся, если у вас есть     Опыт работы от 5-ти лет в роли проектного/продакт менеджера.   Опыт развития B2С продуктов.   Понимание работы маркетинга и маркетинговых сервисов.   Отличные навыки управления проектами: умение планировать работу команды, расставлять приоритеты, предлагать идеи. Нужно будет тесно работать с командами маркетинга и разработки, так что опыт проджект-менеджмента инженерных команд будет плюсом   Опыт решения подобных задач в средних и крупных B2C-бизнесах будет плюсом.     Задачи:     Разработка и стратегия продукта (мы создаем наше приложение с 0)     Определение видения и стратегии продукта в соответствии с целями бизнеса.   Разработка дорожной карты продукта, определение приоритетов функций и управление их реализацией.   Определение технических требований и спецификаций продукта в тесном сотрудничестве с инженерными и дизайнерскими командами.         Управление проектом     Координация работы между командами разработчиков, дизайнеров и маркетологов.   Управление жизненным циклом продукта от концепции до запуска и дальнейшего развития.         Анализ и исследования     Проведение исследований для определения трендов и анализ конкурентов.   Сбор и анализ пользовательского фидбэка для улучшения продукта.         Мониторинг и оптимизация     Отслеживание ключевых показателей эффективности продукта (KPIs) и реализация улучшений на основе этих данных.   Оптимизация пользовательского опыта и повышение вовлеченности пользователей.         Взаимодействие со стейкхолдерами     Настройка и использование систем аналитики для отслеживания ключевых показателей продукта (KPIs), анализа поведения пользователей и оптимизации продуктовых функций.   Регулярные встречи со стейкхолдерами для обсуждения развития продукта и обратной связи.     Поддержка и обновления     Управление процессом обновления продукта, включая планирование фичей и новых версий.         Нам скорее всего по пути, если вы     Сильный самоходный менеджер.   Можете разобраться в задаче и понять, что на самом деле надо пользователям.   Инженеры и маркетологи вас понимают, вы объясняете причины решений и логические связки, идёте от настоящей проблемы.   Если не знаете чего-то — не боитесь спросить. В любой ситуации. Не знать — нормально :)   Внимательны к деталям и аккуратны. Вас до мурашек пробирает от непродуманности, невнимательности и неряшливости.   Не пугаетесь слова «фигня» в любом контексте. Не принимаете критику лично.   У вас высокий уровень критического мышления, высокая скорость действий.   Быстрый ум и реакция.   Коммуникация с людьми доставляет вам удовольствие.   Open minded и готов учиться/адаптироваться под изменения в рынке.   Высокий скилл управления энергией и системность мышления, умеете создавать структуры и регламенты.   Используете системный подход в решении сложных задач, свободны от давления авторитетов.   Условия:     Гибрид, офис на Бауманской, возле метро.    Зарплата в рынке, обсудим на собеседовании. Бонусы, премирование долей после успешной реализации проекта.   Задачи большие, но в придачу идёт полная свобода действий. Вы будете стоять у истоков создания продукта.   Мы всегда поможем экспертизой и поддержим, когда что-то не получается.   У нас дружелюбная команда без пассивной агрессии (и без активной). Мы много общаемся, обсуждаем решения, иногда спорим, но всё это — ради лучшего на свете продукта :)     Будем рады познакомиться. Откликайтесь!)",
         "6.0",
         "5.298317366548036"
        ],
        [
         "2",
         "Системный администратор ( Клинический Госпиталь на Яузе )",
         "Москва",
         null,
         "АО «Медскан» – динамично развивающаяся группа компаний и один из лидеров негосударственного сектора здравоохранения в России. Медицинские учреждения холдинга предлагают полный спектр высокотехнологичной медицинской помощи по передовым мировым протоколам.   В 31 регионе и 105 городах России работает 65 медицинских центров, 15 лабораторий и более 430 лабораторных медицинских офисов ГК «Медскан».   Флагманом группы является российский филиал университетского госпиталя Hadassah (Иерусалим).   «Клинический госпиталь на Яузе»  входит в ГК «Медскан» и занимает 10 место в «ТОП-200 клиник России» по версии аналитического центра Vademecum.   Нашими главными принципами в работе является  высокий профессионализм, использование передовых медицинских технологий, заботливое и чуткое отношение к пациентам, обеспечение чувства безопасности и поддержки.   Требования:     Образование высшее \\ среднее-специальное.   Опыт работы с ОС Linux (Ubuntu, Debian, CentOS). Опыт работы с Zabbix.   Знание линейки ОС Windows.   Знание и опыт работы с AD, DHCP, DNS, VPN.   Понимание модели OSI.   Знание основ протоколов TPC/IP, принципов маршрутизации.   Внимательность, ответственность, умение расставлять приоритеты, самостоятельность.   Обучаемость, желание расти и развиваться.     Обязанности:     Первая линия технической поддержки.   Администрирование рабочих станций и серверного оборудования.   Поддержание систем в актуальном рабочем состоянии.   Настройка и поддержка систем ЭДО (Контур, Диадок, Такском.Файлер).   Установка ЭЦП и криптографических модулей КриптоПро.   Решение инцидентов в системе поддержки пользователей.   Установка и настройка базового комплекса ПО (MS Office, антивирусы, архиваторы, драйвера и т.д.).   Подключение и настройка офисной техники, учёт расходных материалов.     Условия:     График работы 2/2 !!!   Официальное трудоустройство согласно ТК РФ.   Социальный пакет (оплата больничных, отпусков, система медицинских осмотров, скидка 50% на услуги наших мед. центров).   Работа в перспективной и динамично развивающейся компании.   Комфортные условия труда, бесплатная парковка.   Медицинский центр расположен по адресу: Москва, ул. Волочаевская д. 15, к. 1,  ст. метро Площадь Ильича / Римская.  ",
         "1.0",
         "4.867534450455582"
        ],
        [
         "3",
         "Системный Администратор Linux",
         "Москва",
         "Linux, PostgreSQL",
         "Задачи:     Администрирование инфраструктуры на базе Linux;   Оптимизация производительности и обеспечение отказоустойчивости систем;   Решение проблем доступности, целостности данных;   Ведение технической документации.     Требования:     Опыт по администрированию Linux/Unix;   Понимание состава баз данных, индексы, статистика, планы обслуживания;   Опыт работы СУБД PostgreSQL;   Опыт эксплуатации систем мониторинга и резервного копирования;   Знание принципов работы основных сетевых служб и протоколов.     Условия:      Удаленный формат работы, график 5/2;   Трудоустройство в ИТ-аккредитованную компанию;   Оформление в штат согласно ТК РФ;   Возможность предоставить технику для работы;   Скидки на фитнес и изучение иностранных языков.   Обучение за счёт компании, возможности карьерного роста.  ",
         "3.0",
         "5.135798437050262"
        ],
        [
         "4",
         "Начальник участка общестроительных работ",
         "Пушкино (Московская область)",
         null,
         "NK Group  – ведущий девелопер индустриальных объектов в России.  NK   Group  реализует промышленные объекты полного цикла: строительство в собственных парках, оснащенных всеми коммуникациями, а также на земле клиента.   NK Group ищет сотрудника на должность  Начальник участка .   Вы понимаете конечный результат своей деятельности и добиваетесь его? В Вашем опыте работы есть законченные проекты? Вы можете назвать себя настойчивым человеком, которого не собьют с цели никакие преграды? Вы \"дружите\" с цифрами и работа с графиками и бюджетом для Вас не проблема?   Что мы от Вас ожидаем:     У вас есть  ОПЫТ РАБОТЫ на строительных объектах .   Вы уверенно работаете с проектной документацией и чертежами.   Вы в состоянии обеспечить объект материалами .   У Вас был опыт работы с бюджетом.   Уверенно пользуетесь компьютером.   Способны самостоятельно действовать и принимать решения.     Что будет входить в Ваши обязанности:     Организация хозяйственно – бытовых условий на строительной площадке.   Контроль своевременной поставки материала на строительную площадку.   Расстановка приоритетов по различным видам работ.   Выявление отставания видов работ от сроков, их причины и решения.   Выявление некачественной работы и предложение решений.   ПОДДЕРЖАНИЕ ЧИСТОТЫ на строительной площадке.   Проведение ежедневных/еженедельных совещаний.   Ежедневная/еженедельная отчетность руководству.     Мы вам предлагаем:     Оформление согласно ТК РФ.   График работы 5/2.   Заработная плата (100% официальная) – оговаривается индивидуально, в зависимости от опыта и квалификации.     Расположение объектов: Домодедово, Пушкино",
         "3.0",
         "5.298317366548036"
        ]
       ],
       "shape": {
        "columns": 6,
        "rows": 5
       }
      },
      "text/html": [
       "<div>\n",
       "<style scoped>\n",
       "    .dataframe tbody tr th:only-of-type {\n",
       "        vertical-align: middle;\n",
       "    }\n",
       "\n",
       "    .dataframe tbody tr th {\n",
       "        vertical-align: top;\n",
       "    }\n",
       "\n",
       "    .dataframe thead th {\n",
       "        text-align: right;\n",
       "    }\n",
       "</style>\n",
       "<table border=\"1\" class=\"dataframe\">\n",
       "  <thead>\n",
       "    <tr style=\"text-align: right;\">\n",
       "      <th></th>\n",
       "      <th>title</th>\n",
       "      <th>location</th>\n",
       "      <th>skills</th>\n",
       "      <th>description</th>\n",
       "      <th>experience_from</th>\n",
       "      <th>log_salary_from</th>\n",
       "    </tr>\n",
       "  </thead>\n",
       "  <tbody>\n",
       "    <tr>\n",
       "      <th>0</th>\n",
       "      <td>Специалист технической поддержки</td>\n",
       "      <td>Воронеж</td>\n",
       "      <td>NaN</td>\n",
       "      <td>Обязанности:     Обеспечение бесперебойной раб...</td>\n",
       "      <td>1.0</td>\n",
       "      <td>4.094345</td>\n",
       "    </tr>\n",
       "    <tr>\n",
       "      <th>1</th>\n",
       "      <td>Product Owner в ИТ-стартап (B2C)</td>\n",
       "      <td>Москва</td>\n",
       "      <td>CustDev, Стратегический менеджмент, Управление...</td>\n",
       "      <td>Эта вакансия про тебя, если симбиоз управленче...</td>\n",
       "      <td>6.0</td>\n",
       "      <td>5.298317</td>\n",
       "    </tr>\n",
       "    <tr>\n",
       "      <th>2</th>\n",
       "      <td>Системный администратор ( Клинический Госпитал...</td>\n",
       "      <td>Москва</td>\n",
       "      <td>NaN</td>\n",
       "      <td>АО «Медскан» – динамично развивающаяся группа ...</td>\n",
       "      <td>1.0</td>\n",
       "      <td>4.867534</td>\n",
       "    </tr>\n",
       "    <tr>\n",
       "      <th>3</th>\n",
       "      <td>Системный Администратор Linux</td>\n",
       "      <td>Москва</td>\n",
       "      <td>Linux, PostgreSQL</td>\n",
       "      <td>Задачи:     Администрирование инфраструктуры н...</td>\n",
       "      <td>3.0</td>\n",
       "      <td>5.135798</td>\n",
       "    </tr>\n",
       "    <tr>\n",
       "      <th>4</th>\n",
       "      <td>Начальник участка общестроительных работ</td>\n",
       "      <td>Пушкино (Московская область)</td>\n",
       "      <td>NaN</td>\n",
       "      <td>NK Group  – ведущий девелопер индустриальных о...</td>\n",
       "      <td>3.0</td>\n",
       "      <td>5.298317</td>\n",
       "    </tr>\n",
       "  </tbody>\n",
       "</table>\n",
       "</div>"
      ],
      "text/plain": [
       "                                               title  \\\n",
       "0                   Специалист технической поддержки   \n",
       "1                   Product Owner в ИТ-стартап (B2C)   \n",
       "2  Системный администратор ( Клинический Госпитал...   \n",
       "3                      Системный Администратор Linux   \n",
       "4           Начальник участка общестроительных работ   \n",
       "\n",
       "                       location  \\\n",
       "0                       Воронеж   \n",
       "1                        Москва   \n",
       "2                        Москва   \n",
       "3                        Москва   \n",
       "4  Пушкино (Московская область)   \n",
       "\n",
       "                                              skills  \\\n",
       "0                                                NaN   \n",
       "1  CustDev, Стратегический менеджмент, Управление...   \n",
       "2                                                NaN   \n",
       "3                                  Linux, PostgreSQL   \n",
       "4                                                NaN   \n",
       "\n",
       "                                         description  experience_from  \\\n",
       "0  Обязанности:     Обеспечение бесперебойной раб...              1.0   \n",
       "1  Эта вакансия про тебя, если симбиоз управленче...              6.0   \n",
       "2  АО «Медскан» – динамично развивающаяся группа ...              1.0   \n",
       "3  Задачи:     Администрирование инфраструктуры н...              3.0   \n",
       "4  NK Group  – ведущий девелопер индустриальных о...              3.0   \n",
       "\n",
       "   log_salary_from  \n",
       "0         4.094345  \n",
       "1         5.298317  \n",
       "2         4.867534  \n",
       "3         5.135798  \n",
       "4         5.298317  "
      ]
     },
     "execution_count": 3,
     "metadata": {},
     "output_type": "execute_result"
    }
   ],
   "source": [
    "# df_train = pd.read_csv(\"../src/data/train.csv\").sample(50)\n",
    "df_train = pd.read_csv(\"/kaggle/working/train.csv\")\n",
    "df_train = df_train.drop(columns=[\"company\", \"salary_from\"])\n",
    "\n",
    "df_train.head()"
   ]
  },
  {
   "cell_type": "code",
   "execution_count": 5,
   "id": "20659e96",
   "metadata": {},
   "outputs": [],
   "source": [
    "from collections import Counter\n",
    "import re"
   ]
  },
  {
   "cell_type": "code",
   "execution_count": 6,
   "id": "d07c701d",
   "metadata": {},
   "outputs": [],
   "source": [
    "def clean_text(text):\n",
    "    # Удаляем HTML-теги\n",
    "    text = re.sub(r'<.*?>', '', text)\n",
    "    # Удаляем ссылки\n",
    "    text = re.sub(r'http\\S+|www\\S+', '', text)\n",
    "    # Удаляем спецсимволы\n",
    "    text = re.sub(r'[^а-яА-ЯёЁa-zA-Z0-9\\-\\s]', '', text)\n",
    "    # Удаляем лишние пробелы\n",
    "    text = re.sub(r'\\s+', ' ', text).strip()\n",
    "    return text.lower()\n",
    "\n",
    "# Применяем очистку к тексту\n",
    "df_train[\"clean_description\"] = df_train[\"description\"].apply(clean_text)"
   ]
  },
  {
   "cell_type": "code",
   "execution_count": 8,
   "id": "8765efe4",
   "metadata": {},
   "outputs": [
    {
     "name": "stdout",
     "output_type": "stream",
     "text": [
      "[('и', 178502), ('в', 113539), ('с', 72381), ('на', 49656), ('работы', 47827), ('по', 43168), ('опыт', 33087), ('для', 29002), ('мы', 27034), ('от', 20226), ('компании', 16475), ('знание', 16268), ('работа', 13532), ('к', 13222), ('до', 13070), ('1с', 11429), ('условия', 11329), ('требования', 10929), ('или', 10552), ('умение', 10464), ('график', 10318), ('обязанности', 9769), ('за', 9243), ('возможность', 8737), ('что', 8694), ('не', 8653), ('рф', 8495), ('работать', 8350), ('систем', 8165), ('разработка', 7974), ('данных', 7751), ('тк', 7746), ('будет', 7285), ('лет', 7147), ('разработки', 6962), ('оборудования', 6784), ('оформление', 6716), ('а', 6584), ('образование', 6529), ('компания', 6326), ('навыки', 6310), ('из', 6261), ('обучение', 6209), ('понимание', 6198), ('участие', 6175), ('52', 6169), ('сотрудников', 6117), ('it', 6032), ('у', 5929), ('пользователей', 5764)]\n"
     ]
    }
   ],
   "source": [
    "# Собираем все тексты в один список\n",
    "all_texts = df_train[\"clean_description\"].tolist()\n",
    "\n",
    "# Разбиваем тексты на слова\n",
    "all_words = []\n",
    "for text in all_texts:\n",
    "    words = re.findall(r'\\b\\w+\\b', text.lower())  # Разбиваем текст на слова\n",
    "    all_words.extend(words)\n",
    "\n",
    "# Считаем частоту слов\n",
    "word_counts = Counter(all_words)\n",
    "\n",
    "# Выводим самые частотные слова\n",
    "print(word_counts.most_common(50))"
   ]
  },
  {
   "cell_type": "markdown",
   "id": "a7de6ceb",
   "metadata": {},
   "source": [
    "# Предобработка данных"
   ]
  },
  {
   "cell_type": "code",
   "execution_count": 7,
   "id": "1fa9dc76",
   "metadata": {},
   "outputs": [],
   "source": [
    "tokenizer = AutoTokenizer.from_pretrained(\"cointegrated/rubert-tiny2\")"
   ]
  },
  {
   "cell_type": "code",
   "execution_count": 9,
   "id": "b580d88b",
   "metadata": {},
   "outputs": [
    {
     "name": "stdout",
     "output_type": "stream",
     "text": [
      "Статистика по количеству токенов:\n",
      "Mean: 328.12\n",
      "Median: 305.00\n",
      "Min: 26.00\n",
      "Max: 1533.00\n",
      "Std: 162.24\n"
     ]
    },
    {
     "data": {
      "image/png": "[encoded data removed]",
      "text/plain": [
       "<Figure size 1000x600 with 1 Axes>"
      ]
     },
     "metadata": {},
     "output_type": "display_data"
    }
   ],
   "source": [
    "# Подсчёт количества токенов для каждого текста\n",
    "token_counts = df_train[\"description\"].apply(lambda x: len(tokenizer.tokenize(x)))\n",
    "\n",
    "# Построение статистики\n",
    "stats = {\n",
    "    \"mean\": token_counts.mean(),\n",
    "    \"median\": token_counts.median(),\n",
    "    \"min\": token_counts.min(),\n",
    "    \"max\": token_counts.max(),\n",
    "    \"std\": token_counts.std()\n",
    "}\n",
    "\n",
    "print(\"Статистика по количеству токенов:\")\n",
    "for key, value in stats.items():\n",
    "    print(f\"{key.capitalize()}: {value:.2f}\")\n",
    "\n",
    "# Построение гистограммы\n",
    "import matplotlib.pyplot as plt\n",
    "\n",
    "plt.figure(figsize=(10, 6))\n",
    "plt.hist(token_counts, bins=50, color=\"skyblue\", edgecolor=\"black\")\n",
    "plt.title(\"Распределение количества токенов в текстах\")\n",
    "plt.xlabel(\"Количество токенов\")\n",
    "plt.ylabel(\"Частота\")\n",
    "plt.grid(axis=\"y\", linestyle=\"--\", alpha=0.7)\n",
    "plt.show()"
   ]
  },
  {
   "cell_type": "code",
   "execution_count": null,
   "id": "3c032bfe",
   "metadata": {},
   "outputs": [
    {
     "name": "stdout",
     "output_type": "stream",
     "text": [
      "Статистика по количеству токенов:\n",
      "Mean: 262.51\n",
      "Median: 242.00\n",
      "Min: 20.00\n",
      "Max: 1356.00\n",
      "Std: 133.46\n"
     ]
    },
    {
     "data": {
      "image/png": "[encoded data removed]",
      "text/plain": [
       "<Figure size 1000x600 with 1 Axes>"
      ]
     },
     "metadata": {},
     "output_type": "display_data"
    }
   ],
   "source": [
    "# Подсчёт количества токенов для каждого текста\n",
    "token_counts = df_train[\"clean_description\"].apply(lambda x: len(tokenizer.tokenize(x)))\n",
    "\n",
    "# Построение статистики\n",
    "stats = {\n",
    "    \"mean\": token_counts.mean(),\n",
    "    \"median\": token_counts.median(),\n",
    "    \"min\": token_counts.min(),\n",
    "    \"max\": token_counts.max(),\n",
    "    \"std\": token_counts.std()\n",
    "}\n",
    "\n",
    "print(\"Статистика по количеству токенов:\")\n",
    "for key, value in stats.items():\n",
    "    print(f\"{key.capitalize()}: {value:.2f}\")\n",
    "\n",
    "\n",
    "plt.figure(figsize=(10, 6))\n",
    "plt.hist(token_counts, bins=50, color=\"skyblue\", edgecolor=\"black\")\n",
    "plt.title(\"Распределение количества токенов в очищенных текстах\")\n",
    "plt.xlabel(\"Количество токенов\")\n",
    "plt.ylabel(\"Частота\")\n",
    "plt.grid(axis=\"y\", linestyle=\"--\", alpha=0.7)\n",
    "plt.show()"
   ]
  },
  {
   "cell_type": "code",
   "execution_count": 17,
   "id": "691cf8ba",
   "metadata": {},
   "outputs": [],
   "source": [
    "df_train[\"tokens_counts\"] = df_train[\"clean_description\"].apply(lambda x: len(tokenizer.tokenize(x)))"
   ]
  },
  {
   "cell_type": "code",
   "execution_count": 40,
   "id": "40deb5fd",
   "metadata": {},
   "outputs": [
    {
     "data": {
      "application/vnd.microsoft.datawrangler.viewer.v0+json": {
       "columns": [
        {
         "name": "index",
         "rawType": "int64",
         "type": "integer"
        },
        {
         "name": "tokens_counts",
         "rawType": "int64",
         "type": "integer"
        },
        {
         "name": "clean_description",
         "rawType": "object",
         "type": "string"
        }
       ],
       "ref": "a58f2cbc-34f7-4ad8-8122-52c48560b12f",
       "rows": [
        [
         "575",
         "1356",
         "обязанности проводить мониторинг нормативных правовых актов руководящих и методических документов фсб и фстэк россии госкорпорации роскосмос по вопросам иб предотвращению компьютерных атак на иткс вести реестр действующих нормативных актов руководящих и методических документов по иб в том числе по защите объектов кии готовить предложения начальнику отдела по закупке необходимых нмд формировать цели приоритеты и ограничения системы защиты иткс от нсд в процессе их проектирования проводить анализ внутренних и внешних угроз нсд к иткс общества разрабатывать модели угроз нсд к разрабатываемым иткс участвовать в разработке и согласовании планов по развитию модернизации иткс общества формировать требования к отдельным элементам и системе в целом по вопросам защиты от нсд осуществлять контроль целостности иткс общества а также программных программноаппаратных в том числе криптографических и технических средств и систем защиты иткс от нсд использовать средства анализа функциональности иткс защищенности от нсд производить инструментальный мониторинг защищенности от нсд и функциональности иткс специального назначения составлять и представлять начальнику отдела для согласования и последующего утверждения заместителем генерального директора по безопасности ежеквартальные отчёты по результатам проверок иткс общества в том числе выявлению инцидентов которые могут привести к сбоям нарушению функционирования или возникновению угроз безопасности информации циркулирующей в иткс участвовать в определении необходимого состава особенностей размещения и функциональных возможностей иткс а также программных программноаппаратных в том числе криптографических и технических средств и систем защиты иткс от нсд участвовать в проведении монтажа и настройки иткс а также программных программноаппаратных в том числе криптографических и технических средств и систем защиты иткс от нсд осуществлять контроль соответствия параметров подсистем защиты иткс от нсд установленным требованиям контроль эффективности функционирования комплексной защиты иткс специального назначения от нсд обеспечивать своевременную корректировку настроек иткс средств и систем защиты от нсд в целях реагирования на выявленные нарушения инциденты которые могут привести к сбоям нарушению их функционирования или возникновению угроз безопасности информации разрабатывать мероприятия по иб в иткс в соответствии с требованиями политики в области зи проводить анализ рынка программных программноаппаратных и технических средств и систем защиты иткс от нсд информировать начальника отдела о номенклатуре характеристиках и условиях поставки средств и систем защиты иткс от нсд по его поручению организовывать и выполнять их заказ и поставку на объекты общества производить установку программных и программноаппаратных в том числе криптографических средств и систем защиты иткс от нсд осуществлять настройку и проверку функционирования программных программноаппаратных в том числе криптографических и технических средств и систем защиты иткс от нсд контролировать работы по монтажу иткс специального назначения участвовать в мероприятиях по их пуску и наладке участвовать в проведении аттестационных испытаний с привлечением специализированных организаций на предмет соответствия зткс в том числе специального назначения требованиям по зи от нсд участвовать в проведении расследований инцидентов иб и выявленных нарушений мер зи разрабатывать предложения по предупреждению нарушений соблюдать установленные требования по зи государственной служебной и коммерческой тайны персональных данных по сохранению материальной и интеллектуальной собственности общества обеспечивать реализацию политики ао кб арсенал в области зи докладывать начальнику отдела обо всех выявленных недостатках в деятельности структурных подразделений в части работ по зи и иб вносить предложения по их устранению соблюдать сроки исполнения документов заданий и поручений начальника отдела обеспечивать сохранность служебных документов и информации ограниченного доступа выявлять регистрировать анализировать причины возникновения и разрабатывать рекомендации по устранению любых проблем и отклонений показателей качества продукции и процессов соблюдать требования действующего законодательства локальных нормативных актов в том числе норм охраны труда правил промышленной и пожарной безопасности требований нормативных актов по вопросам гражданской обороны требования высшее техническое образование стаж работы специалистом по защите информации не менее 1 года уметь проводить мониторинг нормативных правовых актов руководящих и методических документов фсб и фстэк россии госкорпорации роскосмос по вопросам информационной безопасности предотвращению компьютерных атак на иткс определять технические характеристики иткс их защищенность от нсд выявлять и оценивать угрозы нсд к иткс специального назначения в том числе объектам кии использовать средства мониторинга работоспособности и эффективности применяемых программных программноаппаратных в том числе криптографических и технических средств защиты иткс от нсд проводить проверку их работоспособности и эффективности проводить инструментальный мониторинг защищенности иткс специального назначения в том числе объектов кии осуществлять проверки иткс программных программноаппаратных в том числе криптографических и технических средств защиты иткс от нсд на соответствие заданным требованиям осуществлять настройку средств и систем защиты иткс от нсд формировать исходные данные и ограничения при проектировании иткс осуществлять организацию бесперебойного функционирования иткс их защищенности от нсд использовать встроенные механизмы защиты от нсд в составе иткс устанавливать и настраивать параметры сетевых протоколов реализованных в телекоммуникационном оборудовании разрабатывать предложения по совершенствованию и повышению эффективности принимаемых технических мер и проводимых организационных мероприятий по обеспечению защиты иткс в том числе специального назначения от нсд нейтрализации угроз к данным сетям включая объекты кии организовывать работы по выполнению требований режима зи ограниченного доступа в иткс разрабатывать методические материалы и организационнометодические документы по обеспечению защиты иткс в том числе специального назначения от нсд организовывать работы по выполнению требований режима зи ограниченного доступа проводить анализ рынка программных программноаппаратных и технических средств и систем защиты иткс от нсд проводить настройку и проверку функционирования средств и систем защиты иткс от нсд участвовать в проведении технических работ при аттестации иткс специального назначения навыки использования dallas lock по лаборатории касперского по кода безопасности условия 1 официальное трудоустройство согласно тк рф 2 cтабильная официальная заработная плата предусмотрены индивидуальные надбавки оперативное премирование проектное премирование 3 график 52 4 оформление допуска к государственной тайне с ограничениями по выезду 5 возможны командировки 6 рабочий день с 820 до 1710 в пятницу до 1610 7 ежегодная индексация заработной платы 8 жилищная политикапредусмотрена возможность получения частичной компенсации по договору аренды или процентов ипотеки 9 предусмотрена возможность частичной компенсации расходов на оплату стоимости проезда к месту работы и обратно 10 социальная поддержка в соответствии с коллективным договором денежные выплаты вступление в брак рождение ребенка поступление ребенка в 1 класс а также окончание школы ежегодная социальная помощь одиноким матерям отцам воспитывающим детей в возрасте до 16 лет социальная помощь в случае смерти ближайших родственников частичная компенсация затрат на стоматологические услуги частичная компенсация стоимости путевок в детские оздоровительные лагеря для детей работников частичная компенсация затрат на приобретение путевок в санатории новогодние подарки для детей работников компенсация затрат частичная компенсация на приобретение годового абонемента в спортивную секцию фитнесклуб 11 поощрения работников за трудовые достижения в ао кб арсенал за трудовые и личные юбилеи ведомственными наградами госкорпорации роскосмос 12 отличная транспортная доступность 10 минут пешком до финляндского вокзала и метро площадь ленина 13 cовет молодежи 14 возможность играть в командах по минифутболу хоккею и настольному теннису 15 обучение работников в корпоративной академии роскосмоса и ведущих вузах страны за счёт организации"
        ],
        [
         "606",
         "1094",
         "aspnet coreweb api restful api react javascript react native typescript grpc threejs webgpuwebgl вакансия старший jsразработчик 3d middle frontend developer применяемые инструменты и технологии c orm aspnet coreweb api postgresql clickhouse nodejs threejs web gpu portainer docker prometheus grafana grpc rest signalr компания акредитованная itкомпания специализация бизнеса разработка программного обеспечения верхнего уровня разрабатываем изготавливаем и внедряем программнотехнические комплексы для ведущих горных предприятий россии системы аварийного оповещения точного позиционирования горнорабочих и транспорта мобильные решения средства радиосвязи и видеонаблюдения основной наш проект современная система точного позиционирования горнорабочих и транспорта на net 6 без legacyкода позволяющая строить сложные трёхмерные модели шахт и рудников и предоставлять конечный результат в полном 3d как на десктопе sharpdx так и в мобильном варианте threejs с визуализацией стационарных и подвижных объектов являемся частью дочерним предприятием производственного холдинга группа компаний находится более 19 лет на рынке систем автоматики и горноподземной связи разрабатываемые систем применяются более чем на 80 рудниках и шахтах россии казахстана и белоруссии среди клиентов такие компании как норникель алроса угмк и другие самое основное о проекте есть перечень задач и оценка трудоёмкости проведён технический аудит основная задача перейти на веб помимо этого реорганизовать сервер повысить производительность убрать узкие места стоит задача перевода desktop версии приложения на web устраняя недочёты существующей версии перейти на более современный стек клиентская часть это spa single page application browser здесь можно посмотреть мнемосхему можно посмотреть метки отчёты отдельно разрабатывается мобильное приложение которое повторяет функционал spa но в урезанном виде и для работоспособности в поле вообще проект горная диспетчеризация и позиционирование нужно на основании данных о радиометках рассчитывать позицию персонала в шахте тем самым помогая горноспасателям находить людей под завалами от позиционирования отталкивается многое позиционируем не только людей но и транспорт считаем ходки нахождения людей в опасных зонах зонах взрывных работ производятся вычисления маршрутов транспорта обработка телеметрии с устройств наша компания также разрабатывает и устройства для горных предприятий каски rfid метки считыватели точного позиционирования считыватели зонального позиционирования во многом в тандеме с оборудованием и опираясь на него строится по но не только всё же по горной диспетчеризации это самостоятельный продукт проект бессрочный минимум на два года запланированы уже работы по переработке текущего функционала и новому принимаем в штат полная занятость большей частью это удалённая работа в санктпетербурге состав группы перспективной разработки рукгруппы ведущий инженерпрограммист senior middle backend middle frontend junior backend junior frontend бизнесаналитик комментарии к вакансии процесс последовательность технологии главная текущая задача это переход от wpf к spa текущий сервер это монолит но модульный запланировано деление на сервисы всё это под linux и в контейнерах нет ничего необычного сервер перерос начальный вариант в связи с большим внедрением и возросшей нагрузкой производится деление планируемые технологииинструменты orm любую aspnet 7 бд postgresql clickhouse фронт nodejs threejs если получится то web gpu portainer docker prometheus grafana grpc rest signalr message pack первый этап чистка от лёгкого технического долга устранение препятствий запуска на linux их не много текущий стек net 6 но по минимуму текущую версию предлагается только поддерживать запустить на linux к концу 2025го года второй этап деление на сервисы с переработкой функционала и поддержкой масштабирования где это имеет место и необходимо например расчёт координат как самый ресурсный процесс разбивать будем пока не поймём что текущий сервер не содержит логики которую стоило бы вынести и только тогда будем переписывать то что осталось до тех пор рефактор существующего сервера сводится к минимуму за пределами необходимого в связи с выделением функционала из него в отдельные сервисы условия работы удалённая работы в санктпетербурге в гибридном формате удалённо большую часть времени 2х часовые совещания два раза в неделю в офисе недалеко от пионерской стметро в штат компании со всеми обязательствами по тк рф полная занятость отпуск в соответствии с действующим законодательством 1414 дней 100 компенсация больничного без справок зарплата на банковскую карточку два раза в месяц с отчислениями в фонд социального страхования график работы пнпт 09001730 также после месяца адаптации к продукту и процессам возможен более гибкий график началаокончания работы офис компании в районе ст м пионерская в санктпетербурге 57 мин пешком передаём ноутбук и пк в случае необходимости для удалённой работы оснащаем рабочее место заработная плата и бонусы заработная плата по штатному расписанию от 210 000 рубмес до удержания подоходного налога окончательное решение по итогам технического собеседования или выполнения тз дополнительно годовая премия по итогам работы всей группы индексация заработной платы оплачиваемые компанией курсы повышения квалификации квалификация необходимые профессиональные знания и навыки высшее образование в сфере it или математическое математика прикладная математика или высшее техническое как минимум 3х летний опыт в роли инженерапрограммиста в командной разработке глубокие знания и опыт работы с react и javascript от 3 лет опыт работы с restful api понимание принципов разработки на основе компонентов и опыт работы с современными библиотеками управления состоянием redux mobx желательно знание и опыт работы с react native понимание и опыт работы с асинхронными концепциями в javascript включая обратные вызовы промисы и asyncawait опыт работы с typescript опыт работы с grpc опыт работы с cicd инструментами опыт работы с git опыт и понимание базовых механизмов работы с 3d в частности threejs webgpuwebgl"
        ],
        [
         "2028",
         "1178",
         "привет мы ищем дизайнера универсала с возможностью работы в офисе или на удаленке коротко о вакансии зарплата до 150 000 без выездов на объекты с 3d визуализацией классная команда если уже интересно читайте вакансию до конца мы компания проотель оснащаем гостиницы так что они заполняются по году минимум на 70 и имеют оценку от 49 из 5 на яндексе и других агрегаторах разрабатываем дизайн проекты для гостиниц санаториев бутикотелей номера зоны ресепшн зоны отдыха конференц залы спортзалы общие пространства тех помещения кабинеты медсестры детские комнаты без наполнения и тд продаём для них мебель сантехнику напольные покрытия двери шторы спецодежду расходники консультируем и оптимизируем готовые гостиницы для увеличения их прибыли сейчас отдел продаж обеспечивает поток заказов больше чем мы можем переработать поэтому усиливаем дизайнерский отдел финансовая мотивация после налогов 60 000 руб оклад 90 000 руб в среднем бонус за выполнение kpi что вам сейчас важно знать о нас больше 6 лет занимаемся оснащением гостиниц под ключ 3 филиала краснодар иркутск и сочи укомплектовали больше 9000 номеров 150 объектов в 35 городах наши проекты отели moris marwa resort derbent premium hotel spa альфирай казенойам бутикотель атлантида гостиничный комплекс океан и др 40 человек в компании из них 2 дизайнера работают по 1 году бюджет на маркетинг от 170 000 до 250 000 в мес 20 входящих заявок в месяц от 3 до 10 объектов в месяц у одного дизайнера объекты от 18 квм до 21 000 квм почему вам будет с нами интересно дадим доступ и научим пользоваться crm битрикс24 и чедэк которые помогают вести работу прозрачно и системно освобождая голову и время не нужно чертить мебель и мелкие детали интерьера под это есть подрядчики и конструктор в штате база 3d моделей постоянно пополняется техподдержка оперативно решает проблемы с по образцы всех используемых материалов есть в офисе оплатим 50 стоимости профильного обучения которое вы сами выберите у нас бесплатное внутреннее обучение подробные уроки на платформе геткурс приобрели для дизайнеров обучение по revit после завершения больших сложных проектов отпускаем в короткий восстановительный отпуск можно отпроситься на утренник к врачу и тп только предупредить заранее у вас будет демократичный справедливый руководитель с которым можно проговорить любые вопросы и трудности в любой момент можно поднять вопрос что я могу сделать чтобы зарабатывать больше и предлагать классные решения за которые мы будем вам доплачивать проводим опросы сотрудников что можно улучшить и ос влияет на нас например было одно рабочее помещение в котором тяжело сосредоточиться мы арендовали ещё 1 кабинет стало тише и комфортнее работать наш hr с дипломом психолога бережно помогает пребывать в рабочем состоянии вы попадёте в сплочённую команду где поддерживают друг друга и словом и делом отдыхаем вместе ходим в боулинг бассейн кино караоке выезжаем на шашлыки отмечаем дни рождения 2 раза в год проходят общие большие корпоративы не нужно ездить на замеры объектов есть отдельные менеджеры и замерная организация которые делают качественные точные замеры по чеклисту вместе с нами вы поможете развитию туризма и отдыха в россии в целом благодаря вашей работе сотни гостиниц выйдут на новый уровень сервиса для своих постояльцев условия работы график 52 пнпт с 8 до 17 либо с 9 до 18 на выбор 1 раз в квартал можно менять можно работать из офиса а можно на гибридном графике 12 дня офис34 дня дом адрес офиса г краснодар ул дзержинского 157 4 этаж для вас готово рабочее место профессиональный дизайнерский компьютер с необходимым по монитор диагональю 29 можно установить 2 шт удобный эргономический стул если вы пользуетесь конкретным по то под вашу версию установим дополнения например corona и vray для 3ds max выдаем наушники чтобы вам было проще сфокусироваться в офисе отдельная комната отдыха оборудованная кухня с холодильником микроволновкой и кофемашиной внутренний минимаркет с готовой едой и снеками есть графический планшет для скетчей большой набор хороших маркеров для набросков докупим все что нужно по вашей заявке конкретного вида блокноты ручки карандаши и тд отдыхаем в официальные праздники что вам нужно будет делать будут проекты в которых нужны не все пункты какието задачи вы будете делегировать подрядчикам чертеж помещения технические планы помещения с учётом толщины стен привязок проёмов инженерных коммуникаций оборудования и тп концепция дизайнпроекта на основании тз и референсов от заказчика план монтажадемонтажа внутренних перегородок и конструкций мы не проектируем несущие перегородки фасад зданий планы монтажа потолка и пола размещения приборов отопления и теплых полов напольных покрытий и открывания дверей схемы размещения и подключения осветительного оборудования системы вентиляции и кондиционирования план расстановки мебели техники и привязки сантехнического оборудования 3d визуализациярендеринг помещений развёртки полов потолков стен мебели оборудования с разрезами и сечениями подбор материалов мебель оборудование и тд ведомость материалов мебели осветительного и электрооборудования вести документацию и архив проектов иногда участвовать вместе с мпп в zoomвстречах с заказчиком помогать в составлении тз на каждом этапе согласовывать проект под подпись с заказчиков и фиксировать правки распределять задачи между подрядчиками чертёжники или визуализаторы составлять тз и контролировать выполнение формировать заявки для отдела снабжения ежедневно отображать в crm выполненную работу укладываться в стандартные сроки реагировать на запросы от коллег в битрикс в будущем по вашему желанию можете осуществлять авторский надзор анализировать тренды в дизайне держать руку на пульсе новинок и направлений проходить обучение внутри компании требования к кандидату любое дизайнерское образование 10 ваших проектов должны быть реализованы на реальных объектах в том числе 5 объектов должны быть реализованы под вашим авторским надзором опыт работы в archicad или revit в adobe photoshop или corel draw в 3ds max в случае гибридного графика вам нужен будет компьютер с по для работы из дома и стабильный интернет не критичен опыт дизайна отелей или коммерческих помещений если его нет нужно будет доучиться в процессе работы по нашей тематике после того как вы откликнитесь на вакансию отправим вам анкету в whatsapp с базовыми вопросами на 1015 минут позвоним обсудим детали ответим на ваши вопросы собеседование в нашем офисе на дзержинского выполните короткое тестовое задание оплачиваемая стажировка или обучение выход на работу"
        ],
        [
         "3401",
         "1274",
         "привет на связи никита основатель агентства ищем уверенного middle продактменеджера с опыт ом работы в маркетинговыхрекламных агентствах и опыт ом управления проектными командами того кто хорошо разбирается в агентском бизнесе любит менеджмент и управление людьми в целом плюс умеет делатьреализовывать стратегии для ключевых проектов мы маркетинговое агентство с нескромными амбициями хотим немного переизобрести маркетинг и то как оказываются профессиональные услуги в стране сделать хотим это исключительно на собственном примере до 2030 найти 100 действительно классных но малоизвестных компаний в своих нишах и донести их историю и продукты до большого количества людей сделав их брендами за счет маркетинга маркетинг мы хотим делать в собственной концепции врум веселее разумнее увереннее и мудрее чем он делается обычно а потом по итогу 100 этих историй издать книгу и поделиться тем что у нас получилось параллельно рассказывая об этом на своих ресурсах лучше все это подробнее почитать на нашем hrсайте ссылка на него в карточке компании на hh в сентябре мы запускаем свой онлайнжурнал телеграммканал и дайджест для собственников и топов об управлении маркетингом публикуем около 10 накопленных кейсов и запускаем собственное продвижение торжественно переходя из бутикового режима в масштабирование к этому мы готовились 2 года сделали 200 бизнеспроцессов наполнили несколько баз знаний сделали бренд сформировали команду собственную стратегию и видение до 2030 года мы занимаемся комплексным маркетингом делаем сначала хардкорные маркетинговые стратегии потом сайты как правило стоимостью от 2 миллионов рублей затем комплексно продвигаем компании с бюджетом на маркетинг от 10 миллионов в год работаем в основном с бизнесом от 200 миллионов до 2 миллиардов выручки либо со стартапами крупных компаний не работаем с крупняком екомом серыми сферами микробизнесом для этого нам и нужен человек кто достойно может принимать новые проекты в производство и исполнять обязательства по ним к счастью мы хорошо готовы и у нас очень мало хаоса у нас описаны все ключевые процессы знания есть крепкое ядро команды теперь нужно развивать этот фундамент и помочь сделать х10 проектов на нем в ближайшие 2 года ищем продакта который работал в агентском бизнесе минимум 3 года иили при этом 5 лет в digitalмаркетинге в идеале даже с любым предпринимательским опыт ом но это опционально запускал новые продуктыулучшал текущие продавая идею собственнику бизнеса и достигал метрик управлял проектными командами от 3х лет от найма до развития разрабатывал совместно с маркетингомсобственникомтопом бизнеса маркетинговые стратегии или проводил маркетинговые исследования как минимум нужен опыт составления cjmок так как это первый шаг для масштабирования продуктауслуги максимально проактивный энергичный и достигающий результатов роадмапы соблюдение сроков подбор команды на проект это про тебя тебя можно поставить на любой проект и быть уверенным что там будет все ок будут разрабатываться новые продуктымасштабироваться текущие и достигаться клиентские kpi может рассказать о своих 3 последних проектах какие задачи были что за продукт как выводил на рынок как в этом помогал маркетинг может показать свои материалы в том числе примеры cjmисследованийстратегий будет круто если у тебя есть опубликованные статьи или ведешь свой блогподкаст на любую тему что конкретно нужно делать отвечать за проект как руко водит ель добиваться от ведущего маркетолога выполнения клиентских kpi участвовать в координировании всей команды от маркетинга до разработки инициировать найм или нанимать самому новых ребят на проекты если текущей команды не хватает общаться с клиентами еженедельные апдейты квартальное планирование стратегические вопросы ежемесячная отчетность продавать наши услуги входящим теплым клиентам брифы пресейлы подготвока кп участвовать в разработке ключевой структуры и прототипов для высокой конверсии сайтовлендингов и разработке видеорекламы то есть быть для этих работ заказчиком со стороны продукта клиента и принимать эти работы у внутренней команды или внешних подрядчиков проектировать cjm для своих проектов и в дальнейшем все фичи в том числе и маркетинговые новые продукты и активности проектировать исходя из проблем и точек роста обозначенных в этих cjmках управлять разработкой сайтовлендингов и стратегий составлять план график и тз контролировать сроки совместно с ведущим маркетологом про водит ь исследования рынка клиентов глубинные интервью прорабатывать позиционирования искать точки роста бизнеса клиента и продавать эти идеи клиентам разрабатывать процессы онбордингаруководства базу знаний чтобы помогать растить команду продактов помладше что предлагаем 1 самое главное что можем предложить интересные проекты с сильным продуктом большим кредитом доверия к нам и простором для экспериментов никакого инфобизнеса гемблинга алкогол я и прочих токсичных ниш у нас классные клиенты с яркими лидерами во главе которые добились успеха в своей нише без особого маркетинга который нам и предстоит построить чтобы они продолжали расти 2 продуктивную и осознанную команду коллег у нас долгий и сложный отбор кандидатов поэтому к нам попадают только лучшие при этом у нас легкая фановая атмосфера доверия в коллективе и люди вокруг которые смотрят в ту же сторону что и ты 3 систему наставничества у каждого есть свой ментор более опыт ные ребята помогают определиться с тем куда хочется расти в профессиональном плане делятся опыт ом вместе разбирают на ретросессиях рабочие моменты проблемы если есть на это запрос обсуждают развитие и вообще всё что влияет на ведение проектов и ментальное состояние 4 прозрачный рост у нас есть командные и личн ые планы развития например наш mdp marketers development plan состоит 8 разделов и более чем 100 пунктов это примерно 600 часов обучения а ещё есть понятная система грейдов где подробно расписано какие компетенции и опыт нужно иметь для повышения и как это привязано к деньгам 5 рост заработной платы на 20 и более в год оплата 49 стоимости обучений 6 опыт и драйв работая у нас можно за относительно короткое время пройти маркетинговое и продуктовое испытание огнём научиться делать работающие стратегии и вы водит ь на рынок новые услуги мы работаем по agile с ежеквартальными okr у нас управленческие спринты для нас очень важен дизайн информации инфостиль datadriven подход это современные фреймворки которые очень востребованы в лучших компаниях 7 осознанную удаленку старт рабочего дня до 1100 осознанная значит не фриланс мы учитываем рабочее время трекаем время задач в б24 трекер активности требовательны к отчетности и у нас много бизнеспроцессов по которым строится работа если понравилась вакансия пришли пожалуйста с откликом сопро водит ельное пару предложений о результатах твоих 12 лучших кейсов и ссылки на любые свои материалы исследование cjmки статьи etc которые помогут узнать тебя и твой подход чуть лучше мы очень ценим свое и твое время поэтому сорри но не будем рассматривать отклики без сопро водит ельного письма и материалов"
        ],
        [
         "4953",
         "1129",
         "карты и навигатор ежедневно помогают миллионам пользователей решать самые разные задачи в городе находить места и строить к ним маршруты на любом транспорте записываться в салоны красоты вызывать такси мы на этом не останавливаемся проводим эксперименты исследуем потребности пользователей расширяем существующие сценарии и создаём новые например не так давно запустили сверхподробную навигацию а ещё стали предлагать пользователям комбинированные маршруты с проездом на такси и метро добавили оплату парковок и электрозаправок всё это делает карты и навигатор мощными супераппами как устроена разработка мы сделали ставку на мультиплатформенную разработку наши приложения на ios и android практически идентичны это позволяет везде поддерживать широкую функциональность и оптимизировать ресурсы несколько лет назад мы выбрали kotlin multiplatform в качестве основной технологии для кроссплатформенной разработки и одними из первых начали применять её в продакшене kotlin multiplatform не накладывает ограничений на использование платформенных sdk мы пишем на нём только бизнеслогику а ui и взаимодействие с операционной системой остаются платформенными благодаря общему коду команды ios и android тесно контактируют обмениваются знаниями для новых больших проектов мы собираем кроссплатформенные vteam что упрощает контроль над процессами и совместные запуски об особенностях нашей мультиплатформенной разработки михаил куренков рассказывал в своём выступлении на mobius 2020 проект карт и навигатора разбит на модули внутри модулей используем устоявшуюся чистую архитектуру с однонаправленным потоком данных featureмодули максимально независимы что позволяет разрабатывать новые сценарии в отдельных легковесных тестовых проектах подробнее про модульность рассказывал николай лихогруд а про тестовые проекты михаил куренков большой проект невозможно развивать без вложений в инфраструктуру 80 времени мы тратим на продуктовую разработку 20 выделяем на развитие технологий автоматизацию рутины и отдачу техдолга cicd автоматическая синхронизация ресурсов от редакторов и дизайнеров автоматизация жизненного цикла задач и релизного процесса uiтесты abэксперименты мониторинги здоровья приложения и процессов у нас есть всё необходимое наши таргеты carplay apple watch виджеты liveactivities вызовы главный продуктовый вызов одновременное развитие сценариев выбора мест и навигации мы работаем над тем чтобы в картах можно было легко находить идеи куда сходить и строить оптимальные маршруты до выбранных мест на любом удобном пользователю транспорте мы продолжаем прокачивать навигацию по сложным развязкам для автомобилистов и добавляем новые возможности для пешеходов и велосипедистов хотим перейти на еженедельный цикл и выпускать обновления в два раза чаще прямо сейчас в разгаре большая перестройка процессов оптимизация производительности приложения времени старта энергопотребления и сборки увеличение покрытия uiтестами чтобы реализовать логику между платформами используем kotlin native внедряем swiftui экспериментируем с tuist а ещё мы выводим продукты на международные рынки с учётом региональных особенностей и потребностей что с атмосферой любим обмениваться знаниями регулярно проводим общие техновстречи всего отдела разработки на которых рассказываем об интересных исследованиях и достижениях в разных технологических областях еженедельно собираемся платформенными командами и обсуждаем актуальные проблемы по результатам спринта проводим продуктовые демо уважаем worklife balance тимбилдинг неформальное общение вечеринки поддерживаем дружескую атмосферу преподаём в школах мобильной разработки и помогаем с выступлениями на конференциях возможно вы видели наши доклады даниил кристалев на yandex mobile team meetup про подводные камни live activities александр горемыкин на cocoaheads про приватное api autolayout дмитрий тримонов на codefest про rx в iosразработке дмитрий яковлев на mobius про компоненты типичной фичи на kotlin multiplatform денис загаевский в yandex for mobile подкасте про разработку в картах и первый коммит с kotlin multiplatform мы ждём что вы разрабатывали мобильные приложения для ios и глубоко знаете sdkплатформы умеете прорабатывать задачи от и до имеете продуктовое мышление стремитесь улучшать жизнь пользователей знаете современные принципы построения архитектуры мобильных приложений готовы совершенствовать процессы и инфраструктуру разработки имеете опыт работы от 3х лет что мы предлагаем здоровье расширенная медицинская страховка начинает работать с первого месяца в яндексе в неё входят стоматология ежегодные чекапы неотложная помощь за рубежом лечение критических заболеваний в том числе онкологии и страхование от несчастных случаев а также психотерапия в офисе или на онлайнсервисах лазерная коррекция зрения через год работы ведение беременности и роды через два года страховка для родственников по системе 8020 мы оплачиваем 80 стоимости дмс для детей и супругов вы остальные 20 рост и развитие в яндексе есть всё чтобы постоянно развиваться и учиться новому внутренняя образовательная платформа менторство и программы для начинающих и опытных руководителей а также оплата участия в профильных конференциях скидка 50 на изучение иностранных языков кроме того в яндексе есть внутренние проекты где наши сотрудники делятся экспертизой обсуждают сложные темы и разбирают кейсы своих проектов спорт во всех крупных офисах яндекса есть спортзалы со всем необходимым тренажёрами спортивным инвентарём душевыми шкафчиками для одежды и вещей можете заниматься самостоятельно а можете с корпоративным тренером а также бесплатные онлайнтренировки с fitmost скидки в фитнесклубах бассейнах студиях йоги скалодромах и других местах спортивный клуб яндекса в яндексе есть спортивный клуб и много спортивных команд у них есть свои лидеры чаты программы тренировок а ещё они регулярно участвуют в забегах триатлонах гонке героев футбольных и других соревнованиях вы сможете присоединиться к существующим командам или собрать свою и ещё гибкий график у нас нет фиксированного времени начала и конца рабочего дня работайте так как удобно вам и вашей команде гибридный формат если для ваших задач не нужно быть в офисе каждый день можно приходить 23 раза в неделю всё для детей страхование детские дни в офисе подарки на рождение детей и чекапы при планировании беременности жилищные заимы льготная ставка на покупку жилья и улучшение жилищных условий в зависимости от стажа позиции и результатов ревью действует для сотрудников работающих в российских офисах яндекса"
        ],
        [
         "5743",
         "1096",
         "привет меня зовут толя я руковожу командой registry ищу в команду как молодых так и опытных специалистов прямо сейчас основной наш фокус расширение количества поддерживаемых артефактов в рамках совершенно нового сервиса который мы пишем с нуля здесь есть возможность максимум времени посвятить разработке продукта при помощи самого современного jvmстека ждём вас в команде о команде команда registry занимается разработкой продуктов для работы с артефактами которые используются при разработке и доставке современных приложений к таким артефактам относятся dockerобразы debпакеты артефакты системы сборки maven и многие другие в портфолио продуктов команды уже есть сервисы container registry и сканер уязвимостей а поддержка других видов артефактов сейчас находится в активной разработке при разработке наших продуктов мы стремимся предоставлять возможности не только для хранения и извлечения артефактов но и для использования лучших мировых практик безопасной разработки и доставки приложения например защиты от supplychainатак в команде registry мы не просто решаем технические задачи мы создаём среду для профессионального роста наших сотрудников работа у нас это возможность влиять на архитектуру и процессы что позволяет каждому члену команды не только реализовать свои идеи но и учиться у опытных специалистов мы стараемся ответственно подходить к инженерной работе внимательно проектируя решения прежде чем начинать их реализовывать мы принимаем все решения на основе открытой дискуссии и стараемся мыслить долгосрочно команда registry распределённая команда поэтому большинство коммуникаций проходит онлайн при этом мы стараемся поддерживать и офлайнкоммуникацию часто встречаемся вместе проводим время в том числе и неформально мы работаем с самым современным jvmстеком включая spring kotlin temporal liquibase а также с инструментами для управления контейнеризацией и развёртыванием такими как kubernetes и helm наши опытные специалисты не только владеют этими технологиями но и активно делятся своими знаниями и навыками мы предлагаем работу над большим проектом в команде которая постоянно совершенствуется используя передовые технологии инструменты и практики возможность развиваться в различных направлениях от технического специалиста до руководства командой какие задачи вас ждут разработка и оптимизация решений для безопасного хранения и получения артефактов перед командой стоит амбициозная задача преобразовать текущее портфолио продуктов работающее в основном с docker в крупный сервис хранения любых артефактов развитие существующих сервисов при этом будет активно продолжаться реализация мер безопасности для защиты от атак на цепочки поставок и других угроз наши сервисы не просто хранят и отдают артефакты мы собираем и адаптируем лучшие мировые практики такие как slsa чтобы наши пользователи могли сфокусироваться на разработке своих продуктов а вопросы безопасности поставки закрывали нашими решениями сотрудничество с командами продукта и безопасности наши продукты постоянно развиваются и наш подход состоит в тесной интеграции команд разработки продукта и безопасности наши процессы взаимодействия просты наши связи горизонтальны и все решения мы стараемся принимать коллегиально и объективно мы ждём что вы программировали на java мы ищем как специалистов с глубокими знаниями так и тех кто находится в начале своего профессионального пути и желает учиться и расти вместе с нами готовы проектировать и поддерживать высоконагруженные и отказоустойчивые системы или желаете развивать свои навыки в этой сфере мы предоставляем поддержку и обучение для достижения этих целей работали с микросервисами обладаете навыками коммуникации и готовы делиться своими знаниями с коллегами мы ищем людей которые могут вносить вклад в общий успех и поддерживать позитивную атмосферу в команде обладаете опытом или заинтересованы в работе с контейнерными технологиями и системами управления пакетами такими как docker kubernetes debпакеты maven мы ценим как глубокие знания так и стремление развиваться в этой области имеете опыт работы от 3 лет будет плюсом если вы знакомы с spring и kotlin имеете опыт с temporal для управления сложными рабочими процессами работали с облачными платформами yandex cloud gcp aws или azure умеете работать с системами хранения артефактов например с jfrog artifactory использовали helm и terraform для управления приложениями kubernetes и инфраструктурой как кодом имеете опыт работы с liquibase для управления версиями баз данных знакомы с yandex database ydb что мы предлагаем здоровье расширенная медицинская страховка начинает работать с первого месяца в яндексе в неё входят стоматология ежегодные чекапы неотложная помощь за рубежом лечение критических заболеваний в том числе онкологии и страхование от несчастных случаев а также психотерапия в офисе или онлайнсервисах лазерная коррекция зрения через год работы ведение беременности и роды через два года страховка для родственников по системе 8020 мы оплачиваем 80 стоимости дмс для детей и супругов вы остальные 20 рост и развитие в яндексе есть всё чтобы постоянно развиваться и учиться новому внутренняя образовательная платформа менторство и программы для начинающих и опытных руководителей а также оплата участия в профильных конференциях скидка 50 на изучение иностранных языков кроме того в яндексе есть внутренние проекты где наши сотрудники делятся экспертизой обсуждают сложные темы и разбирают кейсы своих проектов спорт во всех крупных офисах яндекса есть спортзалы со всем необходимым тренажёрами спортивным инвентарём душевыми шкафчиками для одежды и вещей можете заниматься самостоятельно а можете с корпоративным тренером а также бесплатные онлайнтренировки с fitmost скидки в фитнесклубах бассейнах студиях йоги скалодромах и других местах спортивный клуб яндекса в яндексе есть спортивный клуб и много спортивных команд у них есть свои лидеры чаты программы тренировок а ещё они регулярно участвуют в забегах триатлонах гонке героев футбольных и других соревнованиях вы сможете присоединиться к существующим командам или собрать свою и ещё гибкий график у нас нет фиксированного времени начала и конца рабочего дня работайте так как удобно вам и вашей команде гибридный формат если для ваших задач не нужно быть в офисе каждый день можно приходить 23 раза в неделю всё для детей страхование детские дни в офисе подарки на рождение детей и чекапы при планировании беременности жилищные заимы льготная ставка на покупку жилья и улучшение жилищных условий в зависимости от стажа позиции и результатов ревью действует для сотрудников работающих в российских офисах яндекса"
        ],
        [
         "5853",
         "1276",
         "stellar 2h group c 2005 года мы разрабатываем собственные и заказные сложные и высоконагруженные itсервисы а также оказываем услуги партнерским itкомпаниям по данной позиции мы выступаем в качестве hrпартнера для крупного системного интегратора который более 14 лет занимается информационной и сетевой безопасностью в команде работают одни из лучших технических специалистов благодаря сплоченному коллективу нет бюрократии и присущей большим компаниям текучки у вас будет возможность пройти весь путь рядом с опытной командой инженеров получив хорошие бонусы а также при желании вырасти до руководства инженерной командой ниже мы подробно описали суть задач и вакансии чтобы у вас осталось как можно меньше вопросов большое количество технических проектов в нашей компании лежат в области прикладных результативных систем информационной и сетевой безопасности шлюзы включая масштабируемые платформы защита рабочих станций защита каналов связи защита webприложений безопасность внутри сетей мобильная безопасность защита от продвинутых и направленных угроз аутентификация и авторизация безопасность в облачных инфраструктурах безопасность в асу тп контроль привилегированных пользователей devsecops защита от утечек данных корреляция событий информационной безопасности и тд в нашу проектную команду мы ищем архитектора иб как основного держателя технической экспертизы по перечисленным выше технологиям и применения её для разработки проектирования развития и модернизации архитектур комплексных решений на нескольких ибпродуктах включая интеграцию с сетями расположения другими ибрешениями и инфраструктурными сервисами разработки дизайнов сложных узлов нестандартных решений кросспродуктовых и кроссплатформенных интеграций локализации и решения сложных проблем в работе решений выработки сценариев участия в инфраструктурных сетевых и иб проектах отдела в качестве архитектора эксперта проектировщика гипа демостендирования и изучения новых продуктов нового и улучшенного функционала в существующих продуктах в качестве тех лидера оперативной помощи инженерам при решении сложных кейсов и в рамках текущих проектов технического пресейла при взаимодействии с коммерческим отделом важно понимать это работа в системном интеграторе связанная с постоянно возникающими новыми проектами разных объёмов уровней сложности направленности и организованности необходимостью постоянного обучения развития и поднятия собственной экспертизы личной активной работой с постоянно меняющимися проектными командами на стороне заказчика чем предстоит заниматься проектная деятельность техническая организация и руководство при подготовке и проведении аудита существующих у заказчиков дизайнов архитектор и инфраструктур предварительная оценка трудозатрат по проектам выполнение функций главного инженера проекта активное техническое участие на разных стадиях пресейлдеятельности в качестве технического эксперта участие в технических переговорах интервьюирование заказчика консалтинг при выборе технических решений продуктов архитектуры и их обоснование согласование и защита анализ и оценка состояния иб в организации определение информационных и технических ресурсов подлежащих защите помощь в разработке и согласовании спецификаций рекомендации по upsale и crosssale возможностям и преимуществам работа с коммерческим отделом по техническому пресейлу работа в команде над разными стадиями проектов изучение и совместное макетирование и стендирование новых продуктов нового функционала улучшений функционала в существующих продуктах проверка концепций технических решений разработка решений и услуг на базе простендированных продуктов подготовка сравнений и описаний взаимодействие со специалистами вендора и дистрибьюторов при решении технических задач обучение и сдача необходимых экзаменов участие в технических переговорах подготовка и проведение технических презентаций для заказчиков и партнёров что мы ожидаем от вас опыт глубокие знания и широкий обхват технологий защиты практик вендоров fwngfw edr vpn ips waf smtp security nac sandbox aaa mfa pimpampum antiddos siem dlp mdm криптография отличные знания в области дизайнов архитектур лучших практик основ построения и функционирования прикладных решений иб знание процессов проектирования проектных процедур и канонической и индустриальной технологий проектирования совокупности методологий и средств проектирования а также методов и средств организации проектирования управление процессом создания и модернизации проекта решениясистемы знание общепринятых методологий стандартов и основных рд лучших практик в области проектирования построения развёртывания и эксплуатации корпоративных систем информационной безопасности опыт планирования проектирования и внедрения перечисленных выше решений уверенное знание и понимание типичных для информационных систем угроз и соответствующих современных средств и методов защиты желательно в том числе для технологических сетей знание импортозамещающих российских решений производителей и их продуктов в области иб positive technologies kaspersky sterra vipnet континент аладдин и др обязательные сетевые знания и навыки на уровне ccnp или аналогичному уровню твёрдые знания в области инфраструктурных решений в частности но не ограничиваясь инфраструктура windows инфраструктура виртуализации различные вендора инфраструктура резервного копирования аппаратная составляющая сервера блейдшасси схд понимание основ проведения аудитов и обследований объектов и архитектур заказчиков обеспечение контроля проектных решений на соответствие требованиям иб навыки разработки спецификаций технических предложений требований по иб развитые социальные навыки презентационные навыки навыки общения командные навыки лидерства и менторства наставничества что мы предлагаем работа в компании аккредитованной в минцифры в области it официальное трудоустройство оформление по тк соблюдение трудового законодательства уровень заработной платы на постоянной основе определяется исходя из вашего опыта с ростом экспертизы увеличивается заработная плата премии по результатам закрытия комплексных проектов проектов со сложной экспертизой быстрого закрытия проектов прозрачная схема карьерного профессионального и зарплатного роста понятная система мотивации обсуждаемые возможности открытия индивидуальных кредитных линий на базе компании продуманное и удобное дмс от ингосстрах скидки и специальные предложения в рамках участия в программе страхования большая семья от ск согласие корпоративная мобильная связь постоянный цикл обучения для сотрудников как на базе компании так и с привлечением вендорских и внешних программ обучения и увеличения экспертизы демолицензии виртуализированные стенды обучение и сертификация за счёт работодателя полный технический экспертный доступ в базы знаний ко всей документации cookbookам и howto демонстрационным и учебным материалам всем релевантных вендоров регулярные внутренние митапы демодни открытые микрофоны обмен опытом для работы предоставляются мощные ноутбуки и доступ на высокопроизводительную ферму виртуализации на блейдшасси просторное рабочее место в удобном красивом и комфортном офисе с зоной отдыха в 1 минуте от метро нагорная в офисе вкусный чай кофе шоколад печенье свежие фрукты возможность согласования свободного графика удалённой гибридной работы гибкого начала окончания рабочего дня общие периодические совместные корпоративные мероприятия прозрачность технических проектных и бизнеспроцессов низкая забюрократизированность компании интересная интенсивная работа в здоровой атмосфере дружного коллектива единомышленников и профессионалов в которой налажен процесс обмена экспертизой горизонтальная структура обеспечивающая свободную коммуникацию между сотрудниками культура в компании основанная на доверии и прозрачности открытости и честности работа в стабильно 14 лет растущей компании с полноценной аккредитацией в минкомсвязи рф и полным портфелем лицензирующих документов от фсб и фстэк приветствуются и поощряются инициативы творческий подход желание участвовать не только в реализации но и в разработке и обсуждении проектов желание развиваться и развивать других сотрудники могут стать спикерами на внутренних и внешних митапах авторами блогов или бизнесидей и даже получить финансирование на их реализацию"
        ],
        [
         "6331",
         "1209",
         "яндекс еда динамично развивающийся сервис предоставляющий услуги по доставке еды из ресторанов и магазинов миллионам пользователей в более чем 10 странах на разных континентах наша команда управляет алгоритмической и mlсоставляющей для ранжирования в клиентском продукте еды мы разрабатываем персональные рекомендации улучшаем поиск развиваем новые пользовательские продуктовые сценарии а также помогаем запускать ранжирование для новых стран и активно внедряем как классические методы машинного обучения так и передовые нейросетевые разработки для улучшения качества ранжирования в еде больше о нашей команде в группе алгоритмов рекомендаций пока шесть mlразработчиков но мы расширяемся и ищем новых людей в команду у нас хорошо отлажены внутренние процессы взаимодействия и минимум бюрократии мы решаем сложные задачи на стыке продуктовой разработки и алгоритмов наши внедрения напрямую влияют на бизнес и продукт еды примеры проектов над которыми вам предстоит работать переход на сквозное ранжирование и cpaаукцион в рекламе в еде рекламный аукцион долго работал по cpcмодели cost per click партнёр платил за клик по ресторану когда тот поднимался в топ выдачи за счёт рекламы под рекламу отводилось четыре места на самом верху выдачи и чем выше ставку ставил партнёр тем выше у него была вероятность попасть в топ совсем недавно мы перешли на cpaаукцион cost per action когда партнёр платит за заказ в том случае если его ресторан был поднят рекламой в выдаче мы сделали механику при которой органическая выдача смешивается с рекламной а за счёт ставки у партнёра есть возможность подняться выше органических ресторанов для этого нам пришлось перейти от предсказания релевантности к предсказанию вероятности заказа и его маржинальности а также на симуляциях подобрать оптимальные коэффициенты замешивания рекламы и органики в дальнейшем планируем применить байесовскую оптимизацию для более оптимального подбора коэффициентов замешивания перейти на другие таргеты в ранжировании и ещё много всего интересного запуск mlранжирования в куда сходить куда сходить новый продукт в еде позволяющий пользователям выбрать ресторан который можно посетить вживую если доставка уже приелась для запуска нам потребовалось решить задачу колдстарта для этого мы на основе данных из яндекс крипты подготовили dssmмодель способную генерировать lalвекторы для пользователей и ресторанов а также проделали большую инфраструктурную работу по подготовке логики расчёта фич и их логирования чтобы в дальнейшем перейти к целевой схеме ранжированию catboost сейчас в куда сходить мы внедряем коллаборативные модели slim и ials в дальнейшем планируем извлечь пользу из новых источников данных перейти на новые таргеты а также улучшить ранжирование в поиске улучшение апсейла в ритейле апсейл это рекомендательная лента с товарами на корзине магазинов мы проделали большую работу по улучшению алгоритмов рекомендаций на этой поверхности внедрили mixigen модель определяющую из каких источников нужно набирать кандидатов для ранжирования добавили множество персональных факторов внедрили userbody большую двухбашенную модель созданную в недрах большого поиска яндекса в дальнейшем планируем персонализировать mixigen поработать над улучшением продуктовых механик добавить новые источники кандидатов какие задачи вас ждут ответственность за все стадии mlпроектов вам предстоит участвовать в проработке решений на основе машинного обучения для улучшения ранжирования помогать сводить бизнестребования к mlзадаче разрабатывать и валидировать корректность работы mlпайплайнов улучшение продукта и проверка гипотез в abэкспериментах вы будете искать точки роста в продукте предлагать и отстаивать идеи по его улучшению с помощью mlранжирования вам предстоит проверять ваши идеи в ходе abэкспериментов анализировать их и защищать результаты написание кода в продакшн наши модели работают в реалтаймсервисах обрабатывающих сотни запросов в секунду вам предстоит писать продакшнкод на c тестировать и при необходимости оптимизировать его взаимодействие со смежными командами великие дела не делаются поодиночке поэтому вам предстоит работать в большой кроссфункциональной команде где есть аналитики разработчики mlспециалисты и менеджеры вы будете тесно взаимодействовать со смежными командами для совместного движения вперёд мы ждем что вы разрабатывали на python c или других объектноориентированных языках программирования хорошо знаете и применяли методы анализа данных и ml знаете математическую статистику и теорию вероятностей готовы разрабатывать полный цикл внедрения mlрешений от обработки данных до внедрения в продакшн будет плюсом если вы внедряли mlмодели в продакшн разрабатывали рекомендательные системы или поиск работали с высоконагруженными реалтаймсистемами разрабатывали бэкендсервисы на c java go c что мы предлагаем заботу о здоровье расширенная медицинская страховка начинает работать с первого месяца в яндексе в неё входят стоматология ежегодные чекапы неотложная помощь за рубежом лечение критических заболеваний в том числе онкологии и страхование от несчастных случаев а также психотерапия в офисе или онлайнсервисах лазерная коррекция зрения через год работы ведение беременности и родов через два года страховка для родственников по системе 8020 мы оплачиваем 80 стоимости дмс для детей и супругов вы остальные 20 рост и развитие в яндексе есть всё чтобы постоянно развиваться и учиться новому внутренняя образовательная платформа менторство и программы для начинающих и опытных руководителей а также оплата участия в профильных конференциях скидка 50 на изучение иностранных языков кроме того в яндексе есть внутренние проекты где наши сотрудники делятся экспертизой обсуждают сложные темы и разбирают кейсы своих проектов спорт во всех крупных офисах яндекса есть спортзалы со всем необходимым тренажёрами спортивным инвентарём душевыми шкафчиками для одежды и вещей можете заниматься самостоятельно а можете с корпоративным тренером а также бесплатные онлайнтренировки с fitmost скидки в фитнесклубах бассейнах студиях йоги скалодромах и других местах спортивный клуб яндекса в яндексе есть спортивный клуб и много спортивных команд у них есть свои лидеры чаты программы тренировок а ещё они регулярно участвуют в забегах триатлонах гонке героев футбольных и других соревнованиях вы сможете присоединиться к существующим командам или собрать свою и еще гибкий график у нас нет фиксированного времени начала и конца рабочего дня работайте так как удобно вам и вашей команде всё для детей страхование детские дни в офисе подарки на рождение детей и чекапы при планировании беременности жилищные заимы льготная ставка на покупку жилья и улучшение жилищных условий в зависимости от стажа позиции и результатов ревью действует для сотрудников работающих в российских офисах яндекса подробнее о том чем мы занимаемся ml в екоме яндекса как работает и кто им занимается"
        ],
        [
         "7787",
         "1338",
         "обязанности управление проектной деятельностью в сфере ит в обществе выполнение соблюдения процедур инициации итпроектов в дивизионе в соответствии с политикой управления проектами по курируемой тематике управление программами проектов по курируемым тематикам в части автоматизации бизнеспроцессов общества и развития итинфраструктуры во взаимодействии с офисами управления итпроектами госкорпорации росатом и ао концерн росэнергоатом экспертный анализ уровня и качества выполняемых проектов на всех стадиях их жизненного цикла согласование проектной документации подготовленной в рамках выполнения договорных обязательств по курируемым тематикам формирование требований определяющих развитие итинфраструктуры для прикладных информационных систем далее ис внедряемых в обществе по курируемой тематике организация тестирования и передачи разрабатываемых корпоративных ис и объектов итинфраструктуры по курируемым тематикам в опытную и промышленную эксплуатацию передачу ис на сопровождение аутсорсиноговым организациям осуществление нормативной и методической поддержки процесса разработки и эксплуатации прикладных ис общества и объектов итинфраструктуры по курируемым тематикам нормативная и методическая поддержка процесса разработки и эксплуатации прикладных ис и объектов итинфраструктуры по курируемым тематикам формирование в проекте общества ключевых и конечных пользователей организация наставничества и консультирования участников проектной деятельности подготовка и проведение предварительного анализа предложений для рассмотрения руководителю по корпоративным и локальным итпроектам внедрения прикладных ис и развития итинфраструктуры по курируемым тематикам осуществление выбора программных и аппаратных платформ реализацию интеграционных решений для формирования единого информационного пространства отрасли под общим контролем ао концерн росэнергоатом обеспечение мониторинга портфеля проектов внедрения прикладных ис по курируемой тематике обеспечение функции итархитектора и итинтегратора в обществе реализация стратегических планов в области ит включая организацию реализации утвержденного портфеля итпроектов в части курируемых тематик разработка предложений при формировании корпоративной итархитектуры обеспечивающей достижение бизнесцелей общества с учетом требований по безопасности надежности масштабируемости минимизации стоимости владения итархитектуры разработка предложений согласование и реализация программы по гармонизации функций ит в обществе по курируемым тематикам реализация инновационных итпроектов обеспечивая при этом масштабируемость и интегрируемость итландшафта обеспечивая планирование и реализацию интеграционных решений между различными функциональными итсистемами и инфраструктурными элементами выполнение функции службы заказчика в сфере ит осуществление инициации итмероприятий итпроектов участие в контроле хода итмероприятий оценке соответствия поставленных задач бизнестребованиям участие в приемке результатов проведения итмероприятий включая оценку достижения бизнесцелей исполнения бюджетов и сроков проектов организация проведения информационных семинаров направленных на ознакомление персонала общества об имеющихся инструментах автоматизации а также о планах новых внедрений портфеле итпроектов контроль качества предоставляемых итуслуг предоставление предложений по развитию единой сервисной модели оказания итуслуг аутсорсинговыми предприятиями на основе заключаемых договоров и стандартов качества и обслуживания реализация итпроектов программы цифровизации ит госкорпорации росатом в части касающейся общества и других программ развития информационнокоммуникационных технологий взаимодействие с департаментом информационных технологий госкорпорации росатом проектным офисом ао гринатом в части реализации отраслевых информационных систем включенных в программу ит госкорпорации росатом по курируемым направлениям разработка предложения по структурированию проектной и эксплуатационной деятельности общества в сфере икт управление проектами по созданию корпоративных информационных систем итинфраструктуры сетей передачи данных и телекоммуникаций систем информационной безопасности в обществе по курируемым направлениям организация тестирования и передачи в части курируемых направлений разрабатываемых информационных систем систем связи и сетей передачи данных в опытную и промышленную эксплуатацию осуществление мониторинга критериев эффективности реализации итпроектов проведение экспертного анализа уровня и качества выполняемых разработок развитие и обеспечение надежного и безопасного функционирования иктландшафта общества включая инфраструктуру информационные системы системы связи и сети передачи данных формирование портфеля проектов по проектированию созданию и развитию итсистем систем связи и сетей передачи данных в обществе в части курируемых направлений согласование эксплуатационнотехнической и регламентирующей документации по сопровождению информационных систем и итинфраструктуры в обществе по курируемым проектам и программам формирование предложений при разработке и экспертизе основных нормативных документов регламентирующих порядок взаимодействия с эксплуатирующими иторганизациями формирование требований по цифровизации и импортозамещению далее ции при информационном сопровождении новых бизнесов общества обеспечение формирования требований в части ции при инициации и внедрении инновационных итрешений с целью приобретения новых конкурентных бизнес преимуществ для отрасли а также расширения бизнеса в том числе за рубежом контроль выполнения требований по ции выполнение функции службы заказчика в части инициации и реализации проектов по ции осуществление выполнения процедур по определению целесообразности и приоритета реализации проектов и решений в области ции формирование требований к информационным системам и решениям по интеграции в рамках единой итархитектуры с учетом территориальной распределенности филиалов общества инициация проектов внедрения ции контроль хода проектов оценка соответствия поставленных задач выполнению политик в ции участие в приемке результатов проектов включая оценку достижения целей исполнения бюджетов и сроков проектов формирование корпоративной инновационной культуры с ориентацией на максимальную автоматизацию операционных процессов с использованием новейших доступных решений по итсистем обеспечение функции координатора централизованных категорийных закупок общеотраслевого уровня в сфере импортозамещения организация процедур согласования методологических и нормативных документов в части импортозамещения урегулирование разногласий по вопросам применения локальных нормативных актов к централизованным закупочным процедурам в части импортозамещения разработка стандартов в части развития импортозамещения для использования при проведении централизованных категорийных закупок общества в части импортозамещения подготовка локальных нормативных актов по централизованным категорийным закупкам общества в части импортозамещения своевременное формирование планов по централизованным закупочным процедурам общества в части импортозамещения принятие решений по категорированию потребностей общества с целью снижения рисков использования и стоимости решений по импортозамещению обеспечение экспертизы для управляющих экспертных советов по отраслевым проектам внедряемых в обществе проектам программы цифровизации ции создание единого информационного пространства путем реализации дорожной карты внедрения ции в обществе подготовка ответов на запросы предложения от руководителей структурных подразделений общества составляет справки готовит обоснования согласование визирование документов связанных с осуществлением возложенных должностных обязанностей и предоставленных прав выезд в командировки в пределах одной местности в случае служебной необходимости требования высшее профессиональное образование стаж работы не менее 6 шести лет по направлению деятельности подразделения иили в организациях атомной отрасли опыт участия в проектах по внедрению итсистем или объектов итинфраструктуры в холдинговых либо территориальнораспределенных структурах владение навыками работы со справочноинформационными изданиями организаторские способности и владение навыками делового общения знание действующих отечественных и международных стандартов в части проектирования внедрения и эксплуатации информационных систем или итинфраструктуры и систем связи знание технологий обеспечения интеграции и организации взаимодействия информационных систем базовые знания английского языка владение навыками делового общения знание стандартного программного обеспечения необходимого для выполнения работы по направлению деятельности условия оформление по тк пятидневная рабочая неделя система годового премирования дмс работа в организации обладающей уникальными знаниями команда работающая на общий результат профессиональный вызов самому себе профессиональное развитие через решение сложных задач регулярное обучение повышение профессионального уровня карьерные возможности возможность планировать свое будущее уверенность в завтрашнем дне достойный социальный пакет"
        ],
        [
         "9997",
         "1121",
         "обязанности организовывать и контролировать работу штатного персонала отдела рисс сз лвс и бд рсбм по обеспечению безопасной технической эксплуатации и бесперебойной работы лвс и бд рсбм систем широкополосногодоступа принимать участие в разработке и согласовании в установленном порядке схем стратегических планов техникоэкономических обоснований развития реконструкции модернизации и технического перевооружениярисс сз лвс и бд рсбм а также систем широкополосного доступа контролировать ход их реализации организовывать приемосдаточные испытания и пусконаладочные работы составлять сводные заявки с приложением соответствующих обоснований на приобретение необходимого оборудования и комплектующих требующихся для безопасной технической эксплуатации и бесперебойной работы рисс сз и бд рсбм систем широкополосного доступа вести отчетную документацию постоянно повышать свой профессиональный уровень путем участия в семинарах и конференциях по технической эксплуатации развитию и обеспечению безопасности вычислительных систем субд и систем широкополосного доступа организовывать обучение и переподготовку кадров отдела рисс сз лвс и бд рсбм в соответствии с уставом и кол договором сзб филиала фгуп росморпорт обеспечивать выполнение правил технической эксплуатации птэ и правил техники безопасности птб составлять планы графики выполнения профилактических и регламентных работ а также другие отчетные документы связанные с эксплуатацией рисс сз лвс и бд рсбм а также систем широкополосного доступа вести журнал учёта работы оборудования принимать оперативные меры по устранению обнаруженных неисправностей и аварий организовывать и контролировать проведение различных видов ремонта и профилактических работ если причины неисправности или аварии не могут быть устранены своими силами в течение часа ставить в известность начальника отдела рисс сз лвс и бд рсбм сс и эрн в аварийных ситуациях по вызову принимать участие в выезде аварийной группы специалистов к месту обнаружения аварии контролировать использование расходных материалов сменнозапасных частей измерительных приборов и инструментов проводить мероприятия готовить документы по оформлению заявок на закупку оборудования и сменнозапасных частей по заключению договоров дополнительных соглашений с организациями и фирмами осуществляющими профилактические ремонтные и регламентные работы модернизацию обеспечивать в соответствии с заключенными договорами своевременное получение проверку и оформление первичных документов замещать начальника отдела рисс сз лвс и бд рсбм сс и эрн на время его отпуска учёбы командировки болезни и тд обеспечивать конфиденциальность по всем вопросам связанным со своей служебной деятельностью исполнять в установленные сроки документы и поручения заместителя начальника отделаслужбы заместителя директора по направлению соблюдать требования охраны труда установленные законами и иными нормативными правовыми актами а также правилами и инструкциями по охране труда проходить обучение безопасным методам и приемам выполнения работ по охране труда оказанию первой помощи при несчастных случаях на производстве немедленно извещать своего непосредственного или вышестоящего руководителя о любой ситуации угрожающей жизни и здоровью людей о каждом несчастном случае происшедшем на производстве или об ухудшении состояния здоровья в том числе о проявлении признаков острого профессионального заболевания отравления проходит обязательные предварительные при поступлении на работу и периодические в течение трудовой деятельности медицинские осмотры обследования соблюдать правила электропожарной безопасности чем придется постоянно заниматься в процессе работы 1 настройка модернизация и обеспечение непрерывной работы указанного сетевого оборудования в составе территориальнораспределенной лвс рсбм 2составление технической документации схем организации связи объектов связи и таблиц доступа к сетевому оборудованию 3периодические местные командировки 4развертывание и поддержание в актуальном состоянии систем мониторинга сетевого оборудования на базе zabbix infimonitor netcranch и аналогичных 5помощь специалистам смежных отделов в разрешении технических вопросов работы сетевого оборудования 6эксплуатация и настройка системы широкополосного радиодоступа на базе оборудования infinet требования высшее техническое образование и опыт работы по направлению деятельности сетевой инженер от 3 лет умение и желание учиться и осваивать новые технологии знание средств вычислительной техники телекоммуникаций и средств связи знание основ законодательства регламентирующих производственно хозяйственную и финансовоэкономическую деятельность знание основ законодательства о труде правил и норм охраны труда производственной санитарии и противопожарной защиты знание устройства активного сетевого серверного и компьютерного оборудования понимание принципов работы схемы организации связи систем и отдельных устройств полное представление об их взаимодействии а также способы ликвидации причин аварии и восстановления работоспособности систем чтение исполнительной документации умение настраивать и эксплуатировать активное сетевое оборудование следующих производителей включая но не ограничиваясь cisco hp zyxel dlink mikrotik avaya eltex nortel знание и умение работать со средствами мониторинга активного сетевого оборудования понимание устройства и организации подвижной беспроводной связи систем широкополосного радио доступа и их эксплуатации на базе оборудования infinet желательно знание баз данных на базе ms sql и postgresql знание ос семейств windows и linux желательно на уровне администратора знание протоколов и технологии tcpip vpn vlan nat acl dhcp dns обеспечение бесперебойной работы сети модернизация и развитие большой ip сети анализ и устранение аварийных ситуаций в работе сетевой инфраструктуры разработка мер для их предупреждения составление и поддержание в актуальном состоянии рабочей документации по сетевой инфраструктуре рисс сз готовность к местным командировкам для настройки сетей в пределах удаленных объектов лен область личные качества исполнительность обучаемость ответственность пунктуальность доброжелательность умение работать в коллективе условия тип занятости полная занятость пятидневка с двумя выходными рабочий день с понедельника по четверг с 0830 до 1715 пятница с 0830 до 1600 сменный график работы с суммированным учетом рабочего времени оформление по тк рф ежегодный оплачиваемый отпуск 31 день оплата оклад 54 450 руб ежемесячная премия 50 от оклада в течение года дополнительные выплаты по итогам работы предприятия и в соответствии с коллективным договором до 5 окладов дмс соц пакет компенсация стоимости спортивного абонемента и детских учреждений основное место работы санктпетербург большой порт санктпетербург 41 причал здание трансфлота офис управление и отдел кадров санктпетербург ул гапсальская дом 8"
        ],
        [
         "13767",
         "1054",
         "привет для начала мы хотим рассказать несколько слов о нашей компании мы одна из стабильных itкомпаний существуем на рынке более 15 лет мы разрабатываем внедряем и сопровождаем нашу собственную цифровую платформу эталон и связанные с ней сервисы позволяющие заказчикам обеспечивать контроль процессов создание личных кабинетов с экранами дашбордами цифровыми паспортами объектов и многое другое от анализа данных формирования отчетных документов до видеонаблюдения многие ребята для которых это было первое место работы с нами уже по семь и более лет и как ты понимаешь менять такое место не хотят есть и те кто работают по десять лет и более но для них компания не была первым местом работы все кто к нам попал после работы в других организациях говорят что у нас заповедник в котором присутствуют нормальные человеческие отношения отлаженные процессы отличный офис и не только самое главное для нас это люди мы очень долго и тщательно отбираем своих сотрудников тк хотим работать вместе и фактически смотрим на каждого кандидата как на члена нашей семьи если у тебя есть знания и опыт это отлично если ты чегото не знаешь но готов работать до результата мы поможем тебе разобраться в наших продуктах процессах и тонкостях если ты пройдешь все тесты и начнешь работать то с вероятностью 90 у тебя получится были случаи когда мы ошибались но это редкость конфигурирование это новое быстро развивающееся направление позволяющее оперативно реагировать на пожелания клиентов в виде предоставления нового функционала по требованию в моменте сейчас нет желания читать чужой код писать кучу нового но нравится видеть как по меняет внешний вид и функциональность одним мановением руки нравится быть повелителем данных доставая из бд только нужное и в удобном для чтения формате тогда эта вакансия для тебя только здесь ты сможешь за 15 минут создать файл в формате xml который изменит логику работы системы до той в которой так нуждается заказчик за пару часов вооружившись тем же xml sql и excel собрать несложный отчёт и освободить тысячи людей от злосчастной ежедневной рутины расширив свой арсенал до понимания bpmn и способности писать элементарные скрипты на groovy за пару дней автоматизировать бизнеспроцесс заказчика и избавить менеджеров и исполнителей от необходимости в излишнем контроле исполнения задач и лишней рутины при этом исключив неоправданные простои и ускорив выполнение основной задачи в отделе есть задачи разного уровня сложности и абстракции поэтому перспективы роста практически безграничны задача проходящая через отдел конфигурирования напоминает процесс разработки программного обеспечения мы узнаём потребность клиентов взаимодействуя с ними через бизнесконсультантов компании анализируем запрос и предлагаем варианты решений потребности реализовав решение проверяем его обеспечивая фактическое поведение программы ожидаемому далее мы по необходимости оказываем консультирование и поддержку по сконфигурированным продуктам для новых специалистов предполагается вводный курс обучения работы с эталоном мы не требуем наличия опыта в конфигурировании какихлибо систем но предполагаем у специалистов отдела желание работать с программным обеспечением и готовность разбираться в его функционале отсутствие страха перед незнакомыми задачами способность находить ответы на свои вопросы в документации либо спрашивая у коллег для уверенности что соискатель дочитал до этого места и действительно заинтересован перспективами работы в отделе конфигурирования просим написать в резюме несколько предложений о себе о интересах побудивших искать работу в сфере информационных технологий и том чем привлекла данная вакансия чем более развёрнут будет твой рассказ тем больше у нас шансов прийти к взаимовыгодному сотрудничеству ниже приведены требования которые помогут тебе определиться подходит эта работа тебе или нет если какимто требованиям ты не соответствуешь но хочешь работать у нас то все равно можешь откликнуться на вакансию и наш робот запустит процесс по рассмотрению твоего резюме и прохождению первичного тестирования иногда подходящим на наш взгляд кандидатам мы предлагаем другие позиции в нашей компании требования высшее образование по специальностям в области информационных технологий опыт работы с субд знание sql опыт моделирования бизнеспроцессов профессиональное владение инструментами ms excel ms word опыт программирования плюсом считается опыт работы с camunda aris bi системами ni fi git опыт работы с инструментами jira miro confluence знание нотаций bpmn uml idef 0 опыт написания сопроводительной документации к итрешениям знание языка программирования groovy опыт работы с rpa платформами опыт конфигурирования решений на low code и no code платформах обязанности анализ первичных материалов и формализация требований на конфигурирование программной платформы оформление концепта будущего решения конфигурирование программной платформы настройка карточек объектов системы построение бизнеспроцессов создание шаблонов отчетов и алгоритма выгрузки данных в отчеты построение дашбордов программирование интеграционных потоки данных между системами конфигурирование системных настроек развертывание сконфигурированного решения обучение сотрудников организации и партнеров возможностям программной платформы оформление статей в базе знаний запись обучающих видеороликов проведение обучающих вебинаров условия работы интересная работа в команде профессионалов официальное трудоустройство в соответствии с тк рф 5ти дневная рабочая неделя прозрачная система карьерного роста корпоративная программа обучения и ввода в должность комфортный офис в деловом центре города порядок отклика после получения резюме с вами свяжутся и назначат время для прохождения собеседования в офисе нашей компании благодарим за проявленный интерес перспективы в зависимости от склонности к определенным задачам мы видим направления роста младшего специалиста по конфигурированию программного обеспечения в следующих позициях бизнесаналитик менеджер проектов внедрения программного обеспечения разработчик программного обеспечения специалист группы мониторинга и технической поддержки программного обеспечения ключевые навыки уметь договариваться и работать совместно на результат аналитический стиль мышления понимание и принятие ценностей и принципов agile грамотная устная и письменная речь умение конспектировать умение емко и понятно формулировать мысли аккуратность оформления текста умение планировать свою работу и достигать поставленных целей дисциплинированность"
        ],
        [
         "14321",
         "1087",
         "обязанности проведение контрольных проверок работоспособности и эффективности применяемых программноаппаратных средств защиты информации определение уровня защищённости и доверия программноаппаратных средств защиты информации оценка работоспособности применяемых программноаппаратных средств защиты информации с использованием штатных средств и методик разработка требований по защите формирование политик безопасности компьютерных систем и сетей формирование политик безопасности компьютерных систем консультирование по вопросам безопасности компьютерных систем определение угроз безопасности информации реализация которых может привести к нарушению безопасности информации в компьютерной системе и сети разработка профилей защиты и заданий по безопасности разработка модели угроз безопасности информации задание требований к защите информации компьютерной системы разработка руководящих документов по защите информации в организации классификация информационной системы по требованиям защиты информации проведение анализа безопасности компьютерных систем оценка соответствия механизмов безопасности компьютерной системы требованиям существующих нормативных документов а также их адекватности существующим рискам подготовка аналитического отчёта по результатам проведенного анализа оценка рисков связанных с осуществлением угроз безопасности в отношении компьютерных систем формулирование предложений по устранению выявленных уязвимостей формулирование выводов по оценке защищенности проведение инструментального мониторинга защищенности компьютерных систем и сетей выполнение анализа защищенности компьютерных систем с использованием сканеров безопасности выполнение анализа защищенности сетевых сервисов с использованием средств автоматического реагирования на попытки несанкционированного доступа к ресурсам компьютерных систем и сетей составление отчетов по результатам проверок проведение экспертизы при расследовании компьютерных преступлений правонарушений и инцидентов составление экспертного заключения выработка предложений по устранению выявленных уязвимостей разработка требований к программноаппаратным средствам защиты информации компьютерных систем и сетей определение угроз безопасности и их возможных источников определение каналов утечки информации выбор средств и методов защиты информации разработка и тестирование средств защиты информации компьютерных систем и сетей отладка создаваемых средств защиты информации сопровождение разработки средств защиты информации компьютерных систем и сетей разработка организационнораспорядительных документов по защите информации вести деловую переписку с вышестоящими организациями по информационной безопасности создавать отчёты по запросам генеральной дирекции связанных с защитой информации требования образование высшее специальное по информационной безопасности опыт работы ведущий специалист по защите информации должен знать принципы построения компьютерных систем и сетей методы и методики оценки безопасности программноаппаратных средств защиты информации принципы построения программноаппаратных средств защиты информации способы анализа применяемых методов и средств защиты информации на предмет соответствия политике безопасности национальные межгосударственные и международные стандарты в области защиты информации нормативные правовые акты в области защиты информации руководящие и методические документы уполномоченных федеральных органов исполнительной власти по защите информацииорганизационные меры по защите информации модели безопасности компьютерных систем виды политик безопасности компьютерных систем и сетейвозможности используемых и планируемых к использованию средств защиты информацииуязвимости компьютерных систем и сетей криптографические методы защиты информации средства анализа конфигурацийформальные модели безопасности компьютерных систем и сетей принципы построения систем обнаружения компьютерных атак методы обработки данных мониторинга безопасности компьютерных систем и сетей порядок создания и структура отчета создаваемого по результатам проверок способы обнаружения и нейтрализации последствий вторжений в компьютерные системы криптографические протоколы применяемые в компьютерных сетях форматы хранения информации в анализируемой компьютерной системе основные форматы файлов используемые в компьютерных системах особенности хранения конфигурационной и системной информации в компьютерных системах технологии поиска и анализа следов компьютерных преступлений правонарушений и инцидентов порядок фиксации и документирования следов компьютерных преступлений правонарушений и инцидентов нормы уголовного и административного права в сфере компьютерной информации виды преступлений в сфере компьютерной информации порядок проведения экспертизы вычислительной техники и носителей компьютерной информации с учетом нормативных правовых актов методы проведения расследования компьютерных преступлений правонарушений и инцидентов методы анализа остаточной информации и поиска следов для фиксации компьютерных инцидентов порядок организации работ по защите информации методы анализа безопасности компьютерных систем виды атак и механизмы их реализации в компьютерных системах методы выявления каналов утечки информацииметоды и средства защиты информации в компьютерных сетях операционных системах и системах управления базами данных принципы построения средств защиты информации компьютерных систем формальные модели управления доступом методы и средства получения обработки и передачи информации методы проведения специальных исследований и проверок работ по защите информации принципы построения систем защиты информации компьютерных систем ведущий специалист по защите информации должен уметь разрабатывать методики оценки защищенности программноаппаратных средств защиты информации оценивать эффективность защиты информации применять разработанные методики оценки защищенности программноаппаратных средств защиты информации анализировать программноаппаратные средства защиты с целью определения уровня обеспечиваемой ими защищённости и доверия анализировать компьютерную систему с целью определения необходимого уровня защищенности и доверия разрабатывать профили защиты компьютерных систем формулировать задания по безопасности компьютерных систем выполнять анализ безопасности компьютерных систем и разрабатывать рекомендации по эксплуатации системы защиты информации формировать политики безопасности компьютерных систем и сетей анализировать компьютерную систему с целью определения уровня защищенности и доверия прогнозировать возможные пути развития действий нарушителя информационной безопасности производить анализ политики безопасности на предмет адекватности проводить мониторинг анализ и сравнение эффективности программноаппаратных средств защиты информации в операционных системах составлять и оформлять аналитический отчет по результатам проведенного анализа разрабатывать предложения по устранению выявленных уязвимостей использовать профили защиты и задания по безопасности делать выводы по оценке защищенности на основании аналитического отчета формализовывать задачу управления безопасностью компьютерных систем применять инструментальные средства проведения мониторинга защищенности компьютерных систем применять методы анализа защищенности компьютерных систем и сетей структурировать аналитическую информацию для включения в отчет применять нормативные и правовые акты при проведении криминалистической экспертизы и криминалистического анализа анализировать структуру механизма возникновения и обстоятельства события определять причину и условия изменения программного обеспечения выделять свойства и признаки информации позволяющие установить ее принадлежность определенному источнику применять действующую законодательную базу в области обеспечения защиты информации выявлять несоответствия имеющейся информации ее расположению в системе обобщать научнотехническую литературу нормативные и методические материалы в области защиты информации выявлять наиболее целесообразные подходы к обеспечению защиты информации компьютерной системы применять действующую законодательную базу в области обеспечения компьютерной безопасности осуществлять принятие решений о необходимости использования программноаппаратных средств защиты информации подбирать и обобщать научнотехническую литературу методические материалы по программным и аппаратным средствам и способам защиты информации в том числе на английском языке использовать приемы защиты от типовых атак компьютерных систем применять методы и средства тестирования формировать модели угроз и модели нарушителя безопасности компьютерных систем применять национальные межгосударственные и международные стандарты в области защиты информации условия оформление по трудовому кодексу российской федерации социальные гарантии надбавка за выслугу лет от 5 лет работы на предприятии"
        ],
        [
         "14774",
         "1288",
         "обязанности 1 разработка оптимизация и развертывание моделей мо для встраиваемых систем создание и настройка предобученных моделей разработка моделей мо для распознавания паттернов в биосигналах например эмг их предобучение на серверной инфраструктуре и подготовка для внедрения в микроконтроллеры оптимизация моделей для работы на микроконтроллерах применение методов квантизации прунинга и других оптимизаций для уменьшения размера модели и снижения потребления ресурсов памяти энергии для эффективной работы на устройствах с ограниченными вычислительными возможностями интеграция и тестирование моделей на конечных устройствах встраивание оптимизированных моделей на протезы и тестирование в условиях реального времени для обеспечения точности и стабильности работы 2 создание инфраструктуры для дообучения и обновления моделей разработка и настройка процесса дообучения на мобильных устройствах настройка процессов и инфраструктуры для дообучения моделей на устройстве пользователя через мобильные телефоны это позволяет адаптировать модель под уникальные параметры каждого пользователя и улучшать её точность интеграция cicd процессов для обновлений разработка и внедрение процессов cicd для автоматизированного обновления моделей настройки логирования и тестирования это обеспечивает своевременное обновление алгоритмов и улучшений на устройстве пользователя управление и координация версий моделей ведение версий моделей и контроль изменений чтобы обеспечить совместимость обновлений с разными типами устройств 4 поддержка и мониторинг mlинфраструктуры мониторинг производительности моделей на встраиваемых устройствах настройка системы мониторинга работы моделей на протезах сбор статистики и аналитики производительности логирование ошибок для анализа возможных сбоев использование облачных ресурсов для предобучения управление серверной инфраструктурой для первичного обучения и обновления моделей обеспечение надежности безопасности и оптимальной производительности вычислительных ресурсов например aws gcp интеграция инструментов мониторинга для анализа данных и состояния моделей настройка prometheus grafana и других инструментов для постоянного анализа данных и состояния моделей особенно при интеграции с пользовательскими мобильными устройствами 5 поддержка программного обеспечения и интеграции с сенсорами разработка драйверов и интерфейсов для работы с сенсорами поддержка программного обеспечения для интеграции с сенсорами на низком уровне например i2c spi uart для получения данных и эффективного взаимодействия с сенсорами оптимизация обмена данными и протоколов связи настройка rest api или grpc для связи между облаком мобильным устройством и протезом чтобы обеспечить безопасный и надежный обмен данными адаптация под требования мобильных платформ поддержка работы приложения для взаимодействия с протезом настройки моделей и управления дообучением на устройствах с ios и android 7 взаимодействие с командами разработки и тестирования работа в команде разработчиков и исследователей сотрудничество с инженерами разработчиками аппаратного обеспечения и исследователями для согласования требований и целей проекта консультации по вопросам оптимизации и mlopsпрактик обучение коллег и консультирование по вопросам автоматизации настройки конвейеров обработки данных и оптимизации моделей поддержка и актуализация документации ведение документации по разработке развертыванию и настройке моделей а также описание используемых методик для внутренней и внешней команд требования 1 машинное обучение и глубокое обучение опыт работы с библиотеками мо и ии умение работать с популярными библиотеками такими как tensorflow pytorch keras для предобучения моделей на серверах с возможностью последующей оптимизации и встраивания знание алгоритмов мо понимание и опыт применения методов регрессии классификации кластеризации и анализа временных рядов навыки разработки нейронных сетей опыт создания и отладки cnn rnn lstm с акцентом на их адаптацию для работы на микроконтроллерах и оптимизации для маломощных устройств опыт распознавания паттернов в биомедицинских данных навыки применения мо для анализа и интерпретации сигналов эмг ээг и других биосигналов оптимизация для встраиваемых систем навыки квантизации прунинга и применения других методов для уменьшения размера и потребления ресурсов модели чтобы обеспечить работу модели на микроконтроллерах например stm32 или esp32 в реальном времени 2 обработка биомедицинских сигналов и датчиков опыт работы с биосигналами практический опыт работы с эмг ээг и другими биосигналами а также их предварительной обработкой перед передачей модели фильтрация и сегментация данных знание методов фильтрации обработки временных рядов и сегментации сигналов для точного считывания данных в условиях ограниченных вычислительных ресурсов оптимизация обработки сигналов для микроконтроллеров понимание особенностей обработки сигналов на микроконтроллерах включая эффективное управление ресурсами и использование возможностей аппаратного ускорения 3 разработка и развертывание mlинфраструктуры контейнеризация и оркестрация для серверной и мобильной среды опыт работы с docker и kubernetes для управления серверной инфраструктурой а также навыки настройки мобильной инфраструктуры для дообучения на устройстве пользователя практики devops знание cicd процессов тестирования и мониторинга для моделей мо с поддержкой разработки предобученных и дообучаемых моделей жизненный цикл момоделей опыт работы с mlflow kubeflow и dvc для управления жизненным циклом момоделей на всех этапах от серверного предобучения до дообучения на мобильном устройстве пользователя мониторинг моделей и производительности опыт использования prometheus grafana и других инструментов для отслеживания производительности моделей и стабильности системы 4 программирование и обработка данных программирование на python и cc для встраиваемых систем уверенные навыки программирования для разработки и оптимизации моделей мо на python а также программирование на c c для реализации моделей на микроконтроллерах например stm32 esp32 оптимизация производительности кода для микроконтроллеров навыки написания эффективного кода с минимальными требованиями к памяти и вычислительным ресурсам для работы на встраиваемых устройствах базы данных и обработка данных опыт работы с большими наборами данных умение использовать sql и nosql решения для хранения данных предобучения и навыки организации потоков данных для мобильных устройств 5 работа с облачными платформами опыт работы с облачными сервисами для предобучения умение развертывать и оптимизировать модели мо на aws google cloud platform или microsoft azure с целью эффективного использования ресурсов для предобучения инструменты для мониторинга и развертывания навыки работы с инструментами развертывания и мониторинга такими как aws sagemaker или gcp ai platform для поддержки предобучения и синхронизации моделей между облаком и мобильными устройствами пользователя 6 работа с протоколами и интерфейсами связи принципы передачи данных и интерфейсы понимание принципов rest api grpc и других стандартов для организации надежного обмена данными между сервером мобильным устройством и встраиваемым устройством навыки интеграции с сенсорами опыт интеграции по с внешними устройствами и сенсорами включая знание низкоуровневых протоколов таких как i2c spi uart для работы с сигналами от сенсоров на микроконтроллерах условия место работы инновационный центр сколково стабильная белая зарплата на банковскую карту корпоративная мобильная связь график работы 52 c 09001800 в офисе после прохождения испытательного срока возможен гибридный график работы дмс после испытательного срока 3 месяца предусмотрена частичная компенсация за занятия спортом корпоративные занятия английским языком есть корпоративное обучение внутреннее и внешнее возможности профессионального роста есть внутренний отдел обучения готовая оценка и повышения в уровне грейда исходя из компетенций"
        ]
       ],
       "shape": {
        "columns": 2,
        "rows": 13
       }
      },
      "text/html": [
       "<div>\n",
       "<style scoped>\n",
       "    .dataframe tbody tr th:only-of-type {\n",
       "        vertical-align: middle;\n",
       "    }\n",
       "\n",
       "    .dataframe tbody tr th {\n",
       "        vertical-align: top;\n",
       "    }\n",
       "\n",
       "    .dataframe thead th {\n",
       "        text-align: right;\n",
       "    }\n",
       "</style>\n",
       "<table border=\"1\" class=\"dataframe\">\n",
       "  <thead>\n",
       "    <tr style=\"text-align: right;\">\n",
       "      <th></th>\n",
       "      <th>tokens_counts</th>\n",
       "      <th>clean_description</th>\n",
       "    </tr>\n",
       "  </thead>\n",
       "  <tbody>\n",
       "    <tr>\n",
       "      <th>575</th>\n",
       "      <td>1356</td>\n",
       "      <td>обязанности проводить мониторинг нормативных п...</td>\n",
       "    </tr>\n",
       "    <tr>\n",
       "      <th>606</th>\n",
       "      <td>1094</td>\n",
       "      <td>aspnet coreweb api restful api react javascrip...</td>\n",
       "    </tr>\n",
       "    <tr>\n",
       "      <th>2028</th>\n",
       "      <td>1178</td>\n",
       "      <td>привет мы ищем дизайнера универсала с возможно...</td>\n",
       "    </tr>\n",
       "    <tr>\n",
       "      <th>3401</th>\n",
       "      <td>1274</td>\n",
       "      <td>привет на связи никита основатель агентства ищ...</td>\n",
       "    </tr>\n",
       "    <tr>\n",
       "      <th>4953</th>\n",
       "      <td>1129</td>\n",
       "      <td>карты и навигатор ежедневно помогают миллионам...</td>\n",
       "    </tr>\n",
       "    <tr>\n",
       "      <th>5743</th>\n",
       "      <td>1096</td>\n",
       "      <td>привет меня зовут толя я руковожу командой reg...</td>\n",
       "    </tr>\n",
       "    <tr>\n",
       "      <th>5853</th>\n",
       "      <td>1276</td>\n",
       "      <td>stellar 2h group c 2005 года мы разрабатываем ...</td>\n",
       "    </tr>\n",
       "    <tr>\n",
       "      <th>6331</th>\n",
       "      <td>1209</td>\n",
       "      <td>яндекс еда динамично развивающийся сервис пред...</td>\n",
       "    </tr>\n",
       "    <tr>\n",
       "      <th>7787</th>\n",
       "      <td>1338</td>\n",
       "      <td>обязанности управление проектной деятельностью...</td>\n",
       "    </tr>\n",
       "    <tr>\n",
       "      <th>9997</th>\n",
       "      <td>1121</td>\n",
       "      <td>обязанности организовывать и контролировать ра...</td>\n",
       "    </tr>\n",
       "    <tr>\n",
       "      <th>13767</th>\n",
       "      <td>1054</td>\n",
       "      <td>привет для начала мы хотим рассказать нескольк...</td>\n",
       "    </tr>\n",
       "    <tr>\n",
       "      <th>14321</th>\n",
       "      <td>1087</td>\n",
       "      <td>обязанности проведение контрольных проверок ра...</td>\n",
       "    </tr>\n",
       "    <tr>\n",
       "      <th>14774</th>\n",
       "      <td>1288</td>\n",
       "      <td>обязанности 1 разработка оптимизация и разверт...</td>\n",
       "    </tr>\n",
       "  </tbody>\n",
       "</table>\n",
       "</div>"
      ],
      "text/plain": [
       "       tokens_counts                                  clean_description\n",
       "575             1356  обязанности проводить мониторинг нормативных п...\n",
       "606             1094  aspnet coreweb api restful api react javascrip...\n",
       "2028            1178  привет мы ищем дизайнера универсала с возможно...\n",
       "3401            1274  привет на связи никита основатель агентства ищ...\n",
       "4953            1129  карты и навигатор ежедневно помогают миллионам...\n",
       "5743            1096  привет меня зовут толя я руковожу командой reg...\n",
       "5853            1276  stellar 2h group c 2005 года мы разрабатываем ...\n",
       "6331            1209  яндекс еда динамично развивающийся сервис пред...\n",
       "7787            1338  обязанности управление проектной деятельностью...\n",
       "9997            1121  обязанности организовывать и контролировать ра...\n",
       "13767           1054  привет для начала мы хотим рассказать нескольк...\n",
       "14321           1087  обязанности проведение контрольных проверок ра...\n",
       "14774           1288  обязанности 1 разработка оптимизация и разверт..."
      ]
     },
     "execution_count": 40,
     "metadata": {},
     "output_type": "execute_result"
    }
   ],
   "source": [
    "df_train[df_train[\"tokens_counts\"] > 1024][[\"tokens_counts\", \"clean_description\"]]"
   ]
  },
  {
   "cell_type": "code",
   "execution_count": null,
   "id": "f8d68ce4",
   "metadata": {},
   "outputs": [],
   "source": [
    "# class SalaryDataset(Dataset):\n",
    "#     def __init__(self, df, tokenizer, max_length=128, chunk_size=512):\n",
    "#         self.df = df\n",
    "#         self.tokenizer = tokenizer\n",
    "#         self.max_length = max_length\n",
    "#         self.chunk_size = chunk_size\n",
    "\n",
    "#     def __len__(self):\n",
    "#         return len(self.df)\n",
    "\n",
    "#     def __getitem__(self, idx):\n",
    "#         row = self.df.iloc[idx]\n",
    "        \n",
    "#         # Текст вакансии\n",
    "#         text = f\"{row['title']} {row['clean_description']}\"\n",
    "        \n",
    "#         # Токенизация текста с разбиением на части\n",
    "#         tokens = self.tokenizer(\n",
    "#             text,\n",
    "#             truncation=False,  # Не обрезаем текст\n",
    "#             padding=False,     # Не дополняем до max_length\n",
    "#             return_tensors=\"pt\"\n",
    "#         )\n",
    "\n",
    "#         input_ids = tokens[\"input_ids\"].squeeze(0)\n",
    "#         attention_mask = tokens[\"attention_mask\"].squeeze(0)\n",
    "        \n",
    "#         # Разбиваем текст на части (chunks)\n",
    "#         input_chunks = []\n",
    "#         attention_chunks = []\n",
    "#         for i in range(0, len(input_ids), self.chunk_size):\n",
    "#             input_chunks.append(input_ids[i:i + self.chunk_size])\n",
    "#             attention_chunks.append(attention_mask[i:i + self.chunk_size])\n",
    "        \n",
    "#         # Если последняя часть меньше chunk_size, дополняем ее\n",
    "#         if len(input_chunks[-1]) < self.chunk_size:\n",
    "#             padding_length = self.chunk_size - len(input_chunks[-1])\n",
    "#             input_chunks[-1] = torch.cat([input_chunks[-1], torch.zeros(padding_length, dtype=torch.long)])\n",
    "#             attention_chunks[-1] = torch.cat([attention_chunks[-1], torch.zeros(padding_length, dtype=torch.long)])\n",
    "        \n",
    "#         # Преобразуем в тензоры\n",
    "#         input_chunks = torch.stack(input_chunks)\n",
    "#         attention_chunks = torch.stack(attention_chunks)\n",
    "        \n",
    "#         # Целевая переменная\n",
    "#         target = row[\"log_salary_from\"]\n",
    "        \n",
    "#         return {\n",
    "#             \"input_ids\": input_chunks,          # [num_chunks, chunk_size]\n",
    "#             \"attention_mask\": attention_chunks, # [num_chunks, chunk_size]\n",
    "#             \"target\": torch.tensor(target, dtype=torch.float)\n",
    "#         }"
   ]
  },
  {
   "cell_type": "code",
   "execution_count": 8,
   "id": "2b068cb5",
   "metadata": {},
   "outputs": [],
   "source": [
    "class SalaryDataset(Dataset):\n",
    "    def __init__(self, df, tokenizer, max_length=512, columns_features=None):\n",
    "        self.df = df[[\"log_salary_from\", \"title\", \"clean_description\"] + columns_features if columns_features is not None else []]\n",
    "        self.tokenizer = tokenizer\n",
    "        self.max_length = max_length\n",
    "        self.columns_features = columns_features\n",
    "\n",
    "    def __len__(self):\n",
    "        return len(self.df)\n",
    "\n",
    "    def __getitem__(self, idx):\n",
    "        row = self.df.iloc[idx]\n",
    "        \n",
    "        # Текст вакансии\n",
    "        text = f\"{row['title']} {row['clean_description']}\"\n",
    "        \n",
    "        # Токенизация текста с обрезкой до max_length\n",
    "        tokens = self.tokenizer(\n",
    "            text,\n",
    "            truncation=True,  # Обрезаем текст до max_length\n",
    "            max_length=self.max_length,\n",
    "            padding=\"max_length\",  # Дополняем до max_length\n",
    "            return_tensors=\"pt\"\n",
    "        )\n",
    "\n",
    "        input_ids = tokens[\"input_ids\"].squeeze(0)  # [max_length]\n",
    "        attention_mask = tokens[\"attention_mask\"].squeeze(0)  # [max_length]\n",
    "\n",
    "        additional_features = torch.tensor(row[self.columns_features].values.astype(float), dtype=torch.float)\n",
    "\n",
    "        # Целевая переменная\n",
    "        target = row[\"log_salary_from\"]\n",
    "        \n",
    "        return {\n",
    "            \"input_ids\": input_ids,          # [max_length]\n",
    "            \"attention_mask\": attention_mask, # [max_length]\n",
    "            \"features\": additional_features,\n",
    "            \"target\": torch.tensor(target, dtype=torch.float)\n",
    "        }"
   ]
  },
  {
   "cell_type": "markdown",
   "id": "99e07054",
   "metadata": {},
   "source": [
    "# Модель"
   ]
  },
  {
   "cell_type": "code",
   "execution_count": 9,
   "id": "1e716dc7",
   "metadata": {},
   "outputs": [],
   "source": [
    "class TransformerTextEncoder(nn.Module):\n",
    "    def __init__(self, num_features, vocab_size, embedding_dim=128, hidden_dim=256, num_heads=8, num_layers=4, max_length=512, dropout=0.3):\n",
    "        super(TransformerTextEncoder, self).__init__()\n",
    "        \n",
    "        # Эмбеддинги для токенов\n",
    "        self.token_embedding = nn.Embedding(vocab_size, embedding_dim, padding_idx=0)\n",
    "        \n",
    "        # Позиционные эмбеддинги (необучаемые)\n",
    "        self.max_length = max_length\n",
    "        self.embedding_dim = embedding_dim\n",
    "        self.dropout = nn.Dropout(dropout)\n",
    "        self.positional_encoding = self._generate_positional_encoding(max_length, embedding_dim)\n",
    "        \n",
    "        # Трансформерный энкодер\n",
    "        encoder_layer = nn.TransformerEncoderLayer(\n",
    "            d_model=embedding_dim,\n",
    "            nhead=num_heads,\n",
    "            dim_feedforward=hidden_dim * 4,\n",
    "            dropout=dropout,\n",
    "            activation='gelu',\n",
    "            batch_first=True,\n",
    "            norm_first=True\n",
    "        )\n",
    "        self.transformer = nn.TransformerEncoder(encoder_layer, num_layers)\n",
    "\n",
    "        # Attention Pooling\n",
    "        self.attention_weights = nn.Linear(embedding_dim, 1)\n",
    "        \n",
    "        self.activation = nn.ReLU()\n",
    "        # Финальный линейный слой для агрегации\n",
    "        self.fc = nn.Sequential(\n",
    "            nn.Dropout(dropout),\n",
    "            nn.ReLU(),\n",
    "            nn.Linear(embedding_dim + num_features, 256),\n",
    "            nn.ReLU(),\n",
    "            nn.Linear(256, 128),\n",
    "            nn.ReLU(),\n",
    "            nn.Linear(128, 64),\n",
    "            nn.ReLU(),\n",
    "            nn.Linear(64, 1)\n",
    "        )\n",
    "        self.final_norm = nn.LayerNorm(embedding_dim)\n",
    "    \n",
    "    def _generate_positional_encoding(self, max_len, d_model):\n",
    "        \"\"\"Генерация необучаемого positional encoding\"\"\"\n",
    "        pe = torch.zeros(max_len, d_model)\n",
    "        position = torch.arange(0, max_len, dtype=torch.float).unsqueeze(1)\n",
    "        div_term = torch.exp(torch.arange(0, d_model, 2).float() * (-torch.log(torch.tensor(10000.0)) / d_model))\n",
    "        pe[:, 0::2] = torch.sin(position * div_term)\n",
    "        pe[:, 1::2] = torch.cos(position * div_term)\n",
    "\n",
    "        return nn.Parameter(pe.unsqueeze(0), requires_grad=True)\n",
    "    \n",
    "    def forward(self, input_ids, attention_mask, additional_features):\n",
    "        # batch_size, num_chunks, chunk_size = input_ids.size()\n",
    "        # input_ids = input_ids.view(-1, chunk_size) # [batch_size * num_chunks, chunk_size]\n",
    "        # attention_mask = attention_mask.view(-1, chunk_size) # [batch_size * num_chunks, chunk_size]\n",
    "\n",
    "        # Эмбеддинги токенов\n",
    "        embedded = self.token_embedding(input_ids)\n",
    "        seq_len = embedded.size(1)\n",
    "        embedded = embedded + self.positional_encoding[:, :seq_len, :].to(embedded.device)\n",
    "        embedded = self.dropout(embedded)\n",
    "\n",
    "        # Применяем трансформер\n",
    "        padding_mask = ~attention_mask.bool()  # Создаем padding mask\n",
    "        transformer_output = self.transformer(embedded, src_key_padding_mask=padding_mask)\n",
    "        transformer_output = transformer_output + embedded\n",
    "        \n",
    "        # Пуллинг (усреднение по токенам с учетом маски)\n",
    "        # attention_mask = attention_mask.unsqueeze(-1).float()\n",
    "        # attention_sum = attention_mask.sum(dim=1)\n",
    "        # attention_sum = torch.clamp(attention_sum, min=1e-8)\n",
    "        # pooled_output = (transformer_output * attention_mask).sum(dim=1) / attention_sum\n",
    "\n",
    "        # pooled_output = pooled_output.view(batch_size, num_chunks, -1) # [batch_size, num_chunks, embedding_dim]\n",
    "        # count_chunks_in_batch = (attention_mask.sum(dim=1).view(batch_size, num_chunks) > 0).sum(dim=1)\n",
    "\n",
    "        # aggregated_output = pooled_output.sum(dim=1) / count_chunks_in_batch.unsqueeze(-1)\n",
    "\n",
    "        # Attention Pooling\n",
    "        attention_scores = self.attention_weights(transformer_output).squeeze(-1)  # [batch_size, seq_len]\n",
    "        attention_scores = attention_scores.masked_fill(~attention_mask.bool(), float('-inf'))  # Маскируем паддинги\n",
    "        attention_weights = torch.softmax(attention_scores, dim=1)  # [batch_size, seq_len]\n",
    "        pooled_output = torch.sum(transformer_output * attention_weights.unsqueeze(-1), dim=1)  # [batch_size, embedding_dim]\n",
    "\n",
    "        conbined_features = torch.cat([self.final_norm(pooled_output), additional_features], dim=1) # [batch_size, embedding_dim + num_features]\n",
    "        \n",
    "        # Финальное предсказание\n",
    "        output = self.fc(conbined_features)\n",
    "        \n",
    "        return output.squeeze()"
   ]
  },
  {
   "cell_type": "code",
   "execution_count": 20,
   "id": "3d3c10b1",
   "metadata": {},
   "outputs": [],
   "source": [
    "# def collate_fn(batch):\n",
    "#     # Находим максимальное количество частей (num_chunks) в батче\n",
    "#     max_chunks = max(item[\"input_ids\"].size(0) for item in batch)\n",
    "#     chunk_size = batch[0][\"input_ids\"].size(1)  # Размер одной части (chunk_size)\n",
    "\n",
    "#     # Дополняем input_ids и attention_mask до max_chunks\n",
    "#     input_ids = []\n",
    "#     attention_mask = []\n",
    "#     targets = []\n",
    "\n",
    "#     for item in batch:\n",
    "#         num_chunks = item[\"input_ids\"].size(0)\n",
    "#         padding_chunks = max_chunks - num_chunks\n",
    "\n",
    "#         # Дополняем недостающие части нулями\n",
    "#         padded_input_ids = torch.cat([\n",
    "#             item[\"input_ids\"],\n",
    "#             torch.zeros(padding_chunks, chunk_size, dtype=torch.long)\n",
    "#         ])\n",
    "#         padded_attention_mask = torch.cat([\n",
    "#             item[\"attention_mask\"],\n",
    "#             torch.zeros(padding_chunks, chunk_size, dtype=torch.long)\n",
    "#         ])\n",
    "\n",
    "#         input_ids.append(padded_input_ids)\n",
    "#         attention_mask.append(padded_attention_mask)\n",
    "#         targets.append(item[\"target\"])\n",
    "\n",
    "#     # Преобразуем в тензоры\n",
    "#     input_ids = torch.stack(input_ids)  # [batch_size, max_chunks, chunk_size]\n",
    "#     attention_mask = torch.stack(attention_mask)  # [batch_size, max_chunks, chunk_size]\n",
    "#     targets = torch.tensor(targets, dtype=torch.float)  # [batch_size]\n",
    "\n",
    "#     return {\n",
    "#         \"input_ids\": input_ids,\n",
    "#         \"attention_mask\": attention_mask,\n",
    "#         \"target\": targets\n",
    "#     }"
   ]
  },
  {
   "cell_type": "code",
   "execution_count": 56,
   "id": "508b0c98",
   "metadata": {},
   "outputs": [],
   "source": [
    "num_bins = 10  # Количество бинов\n",
    "df_train[\"target_bins\"] = pd.qcut(df_train[\"log_salary_from\"], q=num_bins, labels=False)"
   ]
  },
  {
   "cell_type": "code",
   "execution_count": null,
   "id": "ee0260b2",
   "metadata": {},
   "outputs": [],
   "source": [
    "df_train[\"skills_str\"] = df_train[\"skills\"].fillna(\"\").apply(lambda x: \", \".join(x.split(\",\")))\n",
    "\n",
    "# Разделение данных на train/val\n",
    "train_df, val_df = train_test_split(df_train, test_size=0.3, random_state=64, stratify=df_train[\"target_bins\"])\n",
    "train_df = train_df.reset_index(drop=True)\n",
    "val_df = val_df.reset_index(drop=True)\n",
    "\n",
    "# # Обучение TfidfVectorizer на train\n",
    "tfidf = TfidfVectorizer(max_features=500, token_pattern=r\"[^,]+\")\n",
    "skills_tfidf_train = tfidf.fit_transform(train_df[\"skills_str\"])\n",
    "\n",
    "# # Применение TfidfVectorizer к val\n",
    "skills_tfidf_val = tfidf.transform(val_df[\"skills_str\"])\n",
    "\n",
    "# # Преобразование в DataFrame\n",
    "skills_tfidf_train_df = pd.DataFrame(skills_tfidf_train.toarray(), columns=tfidf.get_feature_names_out())\n",
    "skills_tfidf_val_df = pd.DataFrame(skills_tfidf_val.toarray(), columns=tfidf.get_feature_names_out())\n",
    "\n",
    "# # Добавление TF-IDF признаков\n",
    "train_df = pd.concat([train_df, skills_tfidf_train_df], axis=1)\n",
    "val_df = pd.concat([val_df, skills_tfidf_val_df], axis=1)\n",
    "\n",
    "# # Обучение OrdinalEncoder на train\n",
    "label_encoder = OrdinalEncoder(handle_unknown=\"use_encoded_value\", unknown_value=-1)\n",
    "train_df[\"location_encoded\"] = label_encoder.fit_transform(train_df[[\"location\"]])\n",
    "\n",
    "# # Применение OrdinalEncoder к val\n",
    "val_df[\"location_encoded\"] = label_encoder.transform(val_df[[\"location\"]])\n",
    "\n",
    "# # Заполнение пропущенных значений\n",
    "train_df = train_df.fillna(0)\n",
    "val_df = val_df.fillna(0)"
   ]
  },
  {
   "cell_type": "code",
   "execution_count": 58,
   "id": "6a07a286",
   "metadata": {},
   "outputs": [],
   "source": [
    "assert df_train.shape[0] == train_df.shape[0] + val_df.shape[0]"
   ]
  },
  {
   "cell_type": "code",
   "execution_count": 60,
   "id": "b9a32847",
   "metadata": {},
   "outputs": [],
   "source": [
    "num_features = [\"location_encoded\", \"experience_from\"] + tfidf.get_feature_names_out().tolist()"
   ]
  },
  {
   "cell_type": "code",
   "execution_count": 61,
   "id": "68e8ed70",
   "metadata": {},
   "outputs": [],
   "source": [
    "# Создание датасетов и загрузчиков\n",
    "train_dataset = SalaryDataset(train_df, tokenizer, max_length=1024, columns_features=num_features)\n",
    "val_dataset = SalaryDataset(val_df, tokenizer, max_length=1024, columns_features=num_features)\n",
    "\n",
    "train_loader = DataLoader(train_dataset, batch_size=32, shuffle=True)\n",
    "val_loader = DataLoader(val_dataset, batch_size=64, shuffle=False)"
   ]
  },
  {
   "cell_type": "markdown",
   "id": "a1eaa782",
   "metadata": {},
   "source": [
    "# Обучение модели"
   ]
  },
  {
   "cell_type": "code",
   "execution_count": 62,
   "id": "63f07ff2",
   "metadata": {},
   "outputs": [],
   "source": [
    "device = \"cuda\" if torch.cuda.is_available() else \"cpu\""
   ]
  },
  {
   "cell_type": "code",
   "execution_count": 63,
   "id": "648d5798",
   "metadata": {},
   "outputs": [
    {
     "name": "stderr",
     "output_type": "stream",
     "text": [
      "/usr/local/lib/python3.10/dist-packages/torch/nn/modules/transformer.py:379: UserWarning: enable_nested_tensor is True, but self.use_nested_tensor is False because encoder_layer.norm_first was True\n",
      "  warnings.warn(\n",
      "100%|██████████| 365/365 [05:21<00:00,  1.13it/s]\n",
      "100%|██████████| 79/79 [00:42<00:00,  1.85it/s]\n"
     ]
    },
    {
     "name": "stdout",
     "output_type": "stream",
     "text": [
      "Epoch 1/50\n",
      "Train Loss: 0.8013\n",
      "Val Loss: 0.1412\n",
      "Val R2: 0.2732820888815397\n"
     ]
    },
    {
     "name": "stderr",
     "output_type": "stream",
     "text": [
      "100%|██████████| 365/365 [05:22<00:00,  1.13it/s]\n",
      "100%|██████████| 79/79 [00:43<00:00,  1.83it/s]\n"
     ]
    },
    {
     "name": "stdout",
     "output_type": "stream",
     "text": [
      "Epoch 2/50\n",
      "Train Loss: 0.1164\n",
      "Val Loss: 0.0923\n",
      "Val R2: 0.5289884871213848\n"
     ]
    },
    {
     "name": "stderr",
     "output_type": "stream",
     "text": [
      "100%|██████████| 365/365 [05:22<00:00,  1.13it/s]\n",
      "100%|██████████| 79/79 [00:42<00:00,  1.84it/s]\n"
     ]
    },
    {
     "name": "stdout",
     "output_type": "stream",
     "text": [
      "Epoch 3/50\n",
      "Train Loss: 0.0971\n",
      "Val Loss: 0.0937\n",
      "Val R2: 0.5193373774871919\n"
     ]
    },
    {
     "name": "stderr",
     "output_type": "stream",
     "text": [
      "100%|██████████| 365/365 [05:22<00:00,  1.13it/s]\n",
      "100%|██████████| 79/79 [00:42<00:00,  1.86it/s]\n"
     ]
    },
    {
     "name": "stdout",
     "output_type": "stream",
     "text": [
      "Epoch 4/50\n",
      "Train Loss: 0.0895\n",
      "Val Loss: 0.0836\n",
      "Val R2: 0.5720487577644381\n"
     ]
    },
    {
     "name": "stderr",
     "output_type": "stream",
     "text": [
      "100%|██████████| 365/365 [05:21<00:00,  1.14it/s]\n",
      "100%|██████████| 79/79 [00:41<00:00,  1.88it/s]\n"
     ]
    },
    {
     "name": "stdout",
     "output_type": "stream",
     "text": [
      "Epoch 5/50\n",
      "Train Loss: 0.0823\n",
      "Val Loss: 0.0753\n",
      "Val R2: 0.6143069344003274\n"
     ]
    },
    {
     "name": "stderr",
     "output_type": "stream",
     "text": [
      "100%|██████████| 365/365 [05:21<00:00,  1.13it/s]\n",
      "100%|██████████| 79/79 [00:42<00:00,  1.86it/s]\n"
     ]
    },
    {
     "name": "stdout",
     "output_type": "stream",
     "text": [
      "Epoch 6/50\n",
      "Train Loss: 0.0772\n",
      "Val Loss: 0.0748\n",
      "Val R2: 0.6164859740048317\n"
     ]
    },
    {
     "name": "stderr",
     "output_type": "stream",
     "text": [
      "100%|██████████| 365/365 [05:21<00:00,  1.14it/s]\n",
      "100%|██████████| 79/79 [00:42<00:00,  1.87it/s]\n"
     ]
    },
    {
     "name": "stdout",
     "output_type": "stream",
     "text": [
      "Epoch 7/50\n",
      "Train Loss: 0.0734\n",
      "Val Loss: 0.0798\n",
      "Val R2: 0.5901006203913943\n"
     ]
    },
    {
     "name": "stderr",
     "output_type": "stream",
     "text": [
      "100%|██████████| 365/365 [05:21<00:00,  1.13it/s]\n",
      "100%|██████████| 79/79 [00:42<00:00,  1.87it/s]\n"
     ]
    },
    {
     "name": "stdout",
     "output_type": "stream",
     "text": [
      "Epoch 8/50\n",
      "Train Loss: 0.0705\n",
      "Val Loss: 0.0694\n",
      "Val R2: 0.6445070203122419\n"
     ]
    },
    {
     "name": "stderr",
     "output_type": "stream",
     "text": [
      "100%|██████████| 365/365 [05:21<00:00,  1.13it/s]\n",
      "100%|██████████| 79/79 [00:42<00:00,  1.87it/s]\n"
     ]
    },
    {
     "name": "stdout",
     "output_type": "stream",
     "text": [
      "Epoch 9/50\n",
      "Train Loss: 0.0701\n",
      "Val Loss: 0.0798\n",
      "Val R2: 0.5901655591118368\n"
     ]
    },
    {
     "name": "stderr",
     "output_type": "stream",
     "text": [
      "100%|██████████| 365/365 [05:21<00:00,  1.13it/s]\n",
      "100%|██████████| 79/79 [00:42<00:00,  1.87it/s]\n"
     ]
    },
    {
     "name": "stdout",
     "output_type": "stream",
     "text": [
      "Epoch 10/50\n",
      "Train Loss: 0.0667\n",
      "Val Loss: 0.0735\n",
      "Val R2: 0.6219772772639828\n"
     ]
    },
    {
     "name": "stderr",
     "output_type": "stream",
     "text": [
      "100%|██████████| 365/365 [05:21<00:00,  1.13it/s]\n",
      "100%|██████████| 79/79 [00:42<00:00,  1.88it/s]\n"
     ]
    },
    {
     "name": "stdout",
     "output_type": "stream",
     "text": [
      "Epoch 11/50\n",
      "Train Loss: 0.0637\n",
      "Val Loss: 0.0702\n",
      "Val R2: 0.6397477587585276\n"
     ]
    },
    {
     "name": "stderr",
     "output_type": "stream",
     "text": [
      "100%|██████████| 365/365 [05:21<00:00,  1.13it/s]\n",
      "100%|██████████| 79/79 [00:42<00:00,  1.86it/s]\n"
     ]
    },
    {
     "name": "stdout",
     "output_type": "stream",
     "text": [
      "Epoch 12/50\n",
      "Train Loss: 0.0602\n",
      "Val Loss: 0.0727\n",
      "Val R2: 0.6258785466458796\n"
     ]
    },
    {
     "name": "stderr",
     "output_type": "stream",
     "text": [
      "100%|██████████| 365/365 [05:21<00:00,  1.13it/s]\n",
      "100%|██████████| 79/79 [00:42<00:00,  1.87it/s]\n"
     ]
    },
    {
     "name": "stdout",
     "output_type": "stream",
     "text": [
      "Epoch 13/50\n",
      "Train Loss: 0.0576\n",
      "Val Loss: 0.0668\n",
      "Val R2: 0.6566470819808834\n"
     ]
    },
    {
     "name": "stderr",
     "output_type": "stream",
     "text": [
      "100%|██████████| 365/365 [05:21<00:00,  1.14it/s]\n",
      "100%|██████████| 79/79 [00:42<00:00,  1.88it/s]\n"
     ]
    },
    {
     "name": "stdout",
     "output_type": "stream",
     "text": [
      "Epoch 14/50\n",
      "Train Loss: 0.0561\n",
      "Val Loss: 0.0675\n",
      "Val R2: 0.6526839572839642\n"
     ]
    },
    {
     "name": "stderr",
     "output_type": "stream",
     "text": [
      "100%|██████████| 365/365 [05:21<00:00,  1.14it/s]\n",
      "100%|██████████| 79/79 [00:42<00:00,  1.87it/s]\n"
     ]
    },
    {
     "name": "stdout",
     "output_type": "stream",
     "text": [
      "Epoch 15/50\n",
      "Train Loss: 0.0546\n",
      "Val Loss: 0.0700\n",
      "Val R2: 0.6403980060707208\n"
     ]
    },
    {
     "name": "stderr",
     "output_type": "stream",
     "text": [
      " 93%|█████████▎| 339/365 [05:00<00:23,  1.13it/s]\n"
     ]
    },
    {
     "ename": "KeyboardInterrupt",
     "evalue": "",
     "output_type": "error",
     "traceback": [
      "\u001b[0;31m---------------------------------------------------------------------------\u001b[0m",
      "\u001b[0;31mKeyboardInterrupt\u001b[0m                         Traceback (most recent call last)",
      "\u001b[0;32m<ipython-input-63-73b8a52b9a1d>\u001b[0m in \u001b[0;36m<cell line: 72>\u001b[0;34m()\u001b[0m\n\u001b[1;32m     71\u001b[0m \u001b[0;34m\u001b[0m\u001b[0m\n\u001b[1;32m     72\u001b[0m \u001b[0;32mfor\u001b[0m \u001b[0mepoch\u001b[0m \u001b[0;32min\u001b[0m \u001b[0mrange\u001b[0m\u001b[0;34m(\u001b[0m\u001b[0mnum_epochs\u001b[0m\u001b[0;34m)\u001b[0m\u001b[0;34m:\u001b[0m\u001b[0;34m\u001b[0m\u001b[0;34m\u001b[0m\u001b[0m\n\u001b[0;32m---> 73\u001b[0;31m     \u001b[0mtrain_loss\u001b[0m \u001b[0;34m=\u001b[0m \u001b[0mtrain_epoch\u001b[0m\u001b[0;34m(\u001b[0m\u001b[0mmodel\u001b[0m\u001b[0;34m,\u001b[0m \u001b[0mtrain_loader\u001b[0m\u001b[0;34m,\u001b[0m \u001b[0moptimizer\u001b[0m\u001b[0;34m,\u001b[0m \u001b[0mcriterion\u001b[0m\u001b[0;34m,\u001b[0m \u001b[0mscheduler\u001b[0m\u001b[0;34m)\u001b[0m\u001b[0;34m\u001b[0m\u001b[0;34m\u001b[0m\u001b[0m\n\u001b[0m\u001b[1;32m     74\u001b[0m     \u001b[0mval_loss\u001b[0m\u001b[0;34m,\u001b[0m \u001b[0mval_preds\u001b[0m\u001b[0;34m,\u001b[0m \u001b[0mval_targets\u001b[0m \u001b[0;34m=\u001b[0m \u001b[0mevaluate\u001b[0m\u001b[0;34m(\u001b[0m\u001b[0mmodel\u001b[0m\u001b[0;34m,\u001b[0m \u001b[0mval_loader\u001b[0m\u001b[0;34m,\u001b[0m \u001b[0mcriterion\u001b[0m\u001b[0;34m)\u001b[0m\u001b[0;34m\u001b[0m\u001b[0;34m\u001b[0m\u001b[0m\n\u001b[1;32m     75\u001b[0m \u001b[0;34m\u001b[0m\u001b[0m\n",
      "\u001b[0;32m<ipython-input-63-73b8a52b9a1d>\u001b[0m in \u001b[0;36mtrain_epoch\u001b[0;34m(model, dataloader, optimizer, criterion, scheduler)\u001b[0m\n\u001b[1;32m     43\u001b[0m         \u001b[0moptimizer\u001b[0m\u001b[0;34m.\u001b[0m\u001b[0mstep\u001b[0m\u001b[0;34m(\u001b[0m\u001b[0;34m)\u001b[0m\u001b[0;34m\u001b[0m\u001b[0;34m\u001b[0m\u001b[0m\n\u001b[1;32m     44\u001b[0m \u001b[0;34m\u001b[0m\u001b[0m\n\u001b[0;32m---> 45\u001b[0;31m         \u001b[0mtotal_loss\u001b[0m \u001b[0;34m+=\u001b[0m \u001b[0mloss\u001b[0m\u001b[0;34m.\u001b[0m\u001b[0mitem\u001b[0m\u001b[0;34m(\u001b[0m\u001b[0;34m)\u001b[0m\u001b[0;34m\u001b[0m\u001b[0;34m\u001b[0m\u001b[0m\n\u001b[0m\u001b[1;32m     46\u001b[0m \u001b[0;34m\u001b[0m\u001b[0m\n\u001b[1;32m     47\u001b[0m     \u001b[0mscheduler\u001b[0m\u001b[0;34m.\u001b[0m\u001b[0mstep\u001b[0m\u001b[0;34m(\u001b[0m\u001b[0;34m)\u001b[0m\u001b[0;34m\u001b[0m\u001b[0;34m\u001b[0m\u001b[0m\n",
      "\u001b[0;31mKeyboardInterrupt\u001b[0m: "
     ]
    }
   ],
   "source": [
    "model = TransformerTextEncoder(\n",
    "    num_features=len(num_features),\n",
    "    vocab_size=tokenizer.vocab_size,\n",
    "    embedding_dim=512,\n",
    "    hidden_dim=512,\n",
    "    num_heads=4,\n",
    "    num_layers=4,\n",
    "    max_length=1024,\n",
    "    dropout=0.1\n",
    ").to(device)\n",
    "\n",
    "# Обучение\n",
    "num_epochs = 50\n",
    "\n",
    "# Оптимизатор и функция потерь\n",
    "optimizer = optim.AdamW(model.parameters(), lr=3e-5, weight_decay=1e-4)\n",
    "criterion = nn.SmoothL1Loss()\n",
    "\n",
    "scheduler = optim.lr_scheduler.OneCycleLR(\n",
    "    optimizer,\n",
    "    max_lr=1e-3,  # Максимальное значение LR\n",
    "    total_steps=len(train_loader) * num_epochs,  # Общее количество шагов (итераций)\n",
    "    pct_start=0.3,  # Доля итераций, на которых LR увеличивается\n",
    "    anneal_strategy=\"linear\",  # Линейное уменьшение LR\n",
    "    final_div_factor=10  # Минимальный LR = max_lr / final_div_factor\n",
    ")\n",
    "\n",
    "# Функция обучения\n",
    "def train_epoch(model, dataloader, optimizer, criterion, scheduler):\n",
    "    model.train()\n",
    "    total_loss = 0\n",
    "    for batch in tqdm(dataloader):\n",
    "        optimizer.zero_grad()\n",
    "\n",
    "        input_ids = batch[\"input_ids\"].to(device)\n",
    "        attention_mask = batch[\"attention_mask\"].to(device)\n",
    "        features = batch[\"features\"].to(device)\n",
    "        targets = batch[\"target\"].to(device)\n",
    "\n",
    "        outputs = model(input_ids, attention_mask, features)\n",
    "        loss = criterion(outputs, targets)\n",
    "        loss.backward()\n",
    "        optimizer.step()\n",
    "\n",
    "        total_loss += loss.item()\n",
    "\n",
    "    scheduler.step()\n",
    "\n",
    "    return total_loss / len(dataloader)\n",
    "\n",
    "# Функция валидации\n",
    "def evaluate(model, dataloader, criterion):\n",
    "    model.eval()\n",
    "    total_loss = 0\n",
    "    predictions = []\n",
    "    targets = []\n",
    "    with torch.no_grad():\n",
    "        for batch in tqdm(dataloader):\n",
    "            input_ids = batch[\"input_ids\"].to(device)\n",
    "            attention_mask = batch[\"attention_mask\"].to(device)\n",
    "            features = batch[\"features\"].to(device)\n",
    "            batch_targets = batch[\"target\"].to(device)\n",
    "\n",
    "            outputs = model(input_ids, attention_mask, features)\n",
    "            loss = criterion(outputs, batch_targets)\n",
    "\n",
    "            total_loss += loss.item()\n",
    "            predictions.extend(outputs.cpu().numpy())\n",
    "            targets.extend(batch_targets.cpu().numpy())\n",
    "    return total_loss / len(dataloader), predictions, targets\n",
    "\n",
    "for epoch in range(num_epochs):\n",
    "    train_loss = train_epoch(model, train_loader, optimizer, criterion, scheduler)\n",
    "    val_loss, val_preds, val_targets = evaluate(model, val_loader, criterion)\n",
    "\n",
    "    print(f\"Epoch {epoch+1}/{num_epochs}\")\n",
    "    print(f\"Train Loss: {train_loss:.4f}\")\n",
    "    print(f\"Val Loss: {val_loss:.4f}\")\n",
    "    print(f\"Val R2: {r2_score(val_targets, val_preds)}\")"
   ]
  },
  {
   "cell_type": "code",
   "execution_count": null,
   "id": "207af0d3",
   "metadata": {},
   "outputs": [],
   "source": [
    "optimizer = optim.AdamW(model.parameters(), lr=3e-6, weight_decay=1e-4)\n",
    "criterion = nn.SmoothL1Loss()\n",
    "\n",
    "for epoch in range(10):\n",
    "    train_loss = train_epoch(model, val_loader, optimizer, criterion, optim.lr_scheduler.LinearLR(optimizer))"
   ]
  },
  {
   "cell_type": "code",
   "execution_count": null,
   "id": "d8966547",
   "metadata": {},
   "outputs": [],
   "source": []
  },
  {
   "cell_type": "code",
   "execution_count": 37,
   "id": "60375ef0",
   "metadata": {},
   "outputs": [
    {
     "data": {
      "application/vnd.microsoft.datawrangler.viewer.v0+json": {
       "columns": [
        {
         "name": "index",
         "rawType": "int64",
         "type": "integer"
        },
        {
         "name": "title",
         "rawType": "object",
         "type": "string"
        },
        {
         "name": "location",
         "rawType": "object",
         "type": "string"
        },
        {
         "name": "company",
         "rawType": "object",
         "type": "string"
        },
        {
         "name": "skills",
         "rawType": "object",
         "type": "string"
        },
        {
         "name": "description",
         "rawType": "object",
         "type": "string"
        },
        {
         "name": "experience_from",
         "rawType": "float64",
         "type": "float"
        }
       ],
       "ref": "e3a96b40-8741-48bb-a1d0-5c96c8de1bff",
       "rows": [
        [
         "0",
         "Ведущий программист 1С (г. Санкт-Петербург)",
         "Санкт-Петербург",
         "Коннект персонал",
         "1С программирование, MS SQL Server, 1C: ERP, Обновление конфигурации 1С, ERP-системы на базе 1С, Рефакторинг кода",
         "Крупнейший производственный комплекс легкой промышленности России, Лидер отрасли ищет в свою команду Ведущего программиста 1С, готового работать в гибридном графике в г. Санкт-Петербург.       Обязанности:     Поддержка пользователей, в т.ч. в связи с расширением состава поддерживаемых информационных систем и организаций.     Требования:     Знание функциональности и базовых объектов БСП 1С:Предприятие;   Профессиональное знание языка запросов 1С и понимание текстов сложных запросов без использования конструктора, а также знание SQL и построение запросов к внешним базам данных;   Навыки подключения и настройки внешнего оборудования, а также использования внешних компонентов;   Опыт построения сложных отчетов на базе СКД и на макетах табличных документов;   Навыки разворачивания сервера 1С, его лицензирования, конфигурирования и администрирования на базе СУБД MS SQL Server.   Опыт построения обменов между учётными системами: файловый обмен, COM-соединение, Web-сервис, КД 2.0, КД 3.0   Профессиональное знание конфигураций 1С:ERP 2.5.   Опыт реализации функциональных блоков в рамках проектов внедрения систем на базе 1С:Предприятие 8.3.;   Поддержка учетных систем на базе 1С:Предприятие 8.3 с количеством активных пользователей свыше 300 человек;   Опыт работы на производственном предприятии от 3 лет в должности Старший Программист 1С / Ведущий программист 1С.     Приветствуется  наличие сертификатов 1С уровня Специалист и выше;     Опыт руководства проектами / этапами проектов внедрения систем на базе 1С:Предприятие 8.3.;   Опыт администрирования продуктов 1С на базе Astra Linux и PostgreSQL;   Знание и следование стандартам разработки 1С.     Условия:     Соблюдение всех российских стандартов условий труда ;   Единую база корпоративных знаний для обмена опытом;   Предоставление брони;    Гибридный график работы в г. Санкт-Петербург.  ",
         "3.0"
        ],
        [
         "1",
         "Ресерчер (поиск товаров на маркетплейсах)",
         "Москва",
         "Right Choice",
         "Конкурентная аналитика, Аналитические исследования, Маркетплейсы, Анализ конкурентной среды, Анализ ассортиментной линейки, Сбор и анализ информации, Сводные таблицы, Аналитика, маркетплейсы, Аналитическое мышление, WILDBERRIES, OZON, Анализ категорий товара, анализ конкурентов, системы аналитики",
         "Мы молодая команда селлеров, состоящая из 12 человек, реализующих свою продукцию более 2,5 лет на маркетплейсах  WILDBERRIES и OZON  в нишах товаров для дома, детей, животных, спортивного инвентаря, одежде и сезонных новогодних товаров.  Наша цель на текущий год - увеличить общий ежемесячный оборот в 3 раза.  И для достижения поставленных целей, мы ищем в нашу команду  талантливого речесера в поиске новых товаров на маркетплейсах  , в арсенале которого минимум 6 месяцев успешного опыта работы с маркетплейсами.   Обязанности:     Анализ категорий товара для занесения в ассортимент компании (через системы аналитики МП);   Анализ конкурентов через системы аналитики;   Работа в Excel / Google Sheets;   Отчетность по выполненным заданиям;   Взаимодействие с другими подразделениями компании.     Требования:     Опыт работы с маркетплейсами от 6 месяцев;   Опыт работы с аналитическими данными / сервисами от 6 месяцев;   Желание работать и развиться в сфере аналитики;   Уверенный пользователь Excel / Google Sheets со всеми его функциями;   Ответственность, активность, высокие коммуникативные навыки, аккуратность, исполнительность, внимательность, целеустремленность.     Условия:     Место работы: полностью удаленный формат;   График: пн-пт с 9:00 - 18:00;   Заработная плата: докладная часть 50,000 руб. с возможностью роста дальнейшем.     Если Вы дочитали до конца и всё описанное про Вас, то смело откликайтесь на вакансию, а сопроводительное письмо будет плюсом.",
         "1.0"
        ],
        [
         "2",
         "Системный администратор",
         "Нижний Новгород",
         "Меридиан",
         "Администрирование сетевого оборудования, Администрирование серверов, Поддержка пользователей, Закупка оргтехники и оборудования, Администрирование инфраструктуры компании",
         "О компании:   Уже более 30 лет мы успешно производим и поставляем нашу специальную одежду и обувь, средства индивидуальной защиты по всей России. Среди наших клиентов такие крупные компании, как «Роснефть», «Газпромнефть», «Северсталь», «Норникель», «НОВАТЭК», «Мосметрострой» и др.   АО «Меридиан» сегодня: 10 швейных фабрик, 1 обувная фабрика, собственный складской комплекс площадью более 3000 кв. м., опытно-экспериментальный цех, печатное производство. У нас эффективные технологии, продукты и комплексные решения в сфере охраны труда и безопасности жизни!   В связи с ростом компании нам требуется талантливый системный администратор.   Приглашаем Вас в нашу дружную команду!   Обязанности:     Администрирование инфраструктуры компании.   Администрирование сервера 1С (обучение).   Поддержка пользователей.   Закупка оборудования.   Администрирование почтового сервера.     Требования:     Высшее профильное образование (желательно).   Глубокие знания сетевых технологий.   СУБД SQL Server.   Системы виртуализации.   Системы резервного копирования.   Скриптовые языки.   Опыт администрирования серверных ОС.   Хорошее знание особенностей серверного оборудования.     Мы предлагаем:   ✔️Комфортные условия труда:   - трудоустройство в соответствии с ТК РФ; - график работы 5/2 с 8.00 до 17.00, суббота и воскресенье – выходные; - корпоративное кафе и кофе-брейки без оплаты; - паркинг для автомобилей сотрудников.   ✔️Профессиональное и корпоративное развитие:   - круглые столы, мастер-классы, тренинги, курсы по повышению квалификации; - коллективные выезды на экскурсии; - корпоративные мероприятия; - поздравления сотрудников с 23 февраля, 8 марта и Новым годом.   ✔️Карьерные возможности:   - консультирование нашими лучшими экспертами.   ✔️Социальные программы:   - ДМС (обслуживание в лучших клиниках города); - подарки детям сотрудников к Новому году, первоклассникам – школьные принадлежности к 1 сентября; - финансовая помощь в трудных жизненных ситуациях.    ",
         "1.0"
        ],
        [
         "3",
         "Инженер по интеграции систем защиты информации",
         "Новосибирск",
         "СофтМолл",
         "Информационная безопасность, Аналитическое мышление, LAN, L2 VPN, Сертификация, TCP/IP, Импортозамещение, Администрирование баз данных, Настройка почтовых серверов",
         "SoftMall  – это аккредитованная IT-компания, крупнейший системный интегратор и один из ведущих центров компетенций в сфере информационных технологий и информационной безопасности с представительствами от Владивостока до Москвы.   Мы - команда профессионалов в области защиты: критических информационных инфраструктур (КИИ), государственных информационных систем, коммерческой и банковской тайн, персональных данных.   Наши ключевые клиенты  –   федеральные и региональные органы власти, Госкорпорации, банки и коммерческие предприятия.   В настоящий момент нам в отдел интеграции систем защиты информации требуется  инженер.   Уровень дохода зависит от знаний, навыков и стремлений, поэтому мы рассматриваем кандидатов различного уровня.   Предполагаемый круг задач:     Установка и настройка средств защиты информации СКЗИ, САЗ, СДВ, СОВ и т.д. (Infotecs, Код Безопасности, Конфидент, Касперский, РусБИТех и т.д.);   Установка, настройка и сопровождение импортозамещающих инфраструктурных сервисов (Формирование домена, почтовые серверы, сервисы резервного копирования, серверы СУБД, системы мониторинга, телефония, платформы виртуализации, и многое другое);   Разработка технической документации;   Консультации и решение технических проблем заказчиков;   Участие в подготовке технико-коммерческих предложений.     Для нас важно:     Высшее образование в области ИБ / ИТ;   Релевантный опыт работы от 1 года;   Базовые знания: Microsoft AD, Windows Sever, Linux, Hyper-V, VMware, VirtualBox, TCP-IP сети, VPN;   Знание и опыт конфигурирования средств защиты информации;   Готовность к командировкам;   Понимание принципов и механизмов защиты информации;   Знание нормативно-правовых актов ФСТЭК, ФСБ в области защиты информации;   Аналитическое мышление, грамотная устная и письменная речь, готовность к обучению;   Нацеленность на результат, высокий уровень коммуникативных навыков.     Взамен мы предлагаем:     Работу в аккредитованной, активно развивающейся IT-компании со всеми присущими льготами и преимуществами;   Конкурентную и своевременную \"белую\" заработную плату, премии по итогу квартала/года;   Официальное трудоустройство в соответствии с ТК РФ;   Интересные и масштабные проекты, которые дают возможность получить уникальный опыт и реализовать себя в различных направлениях;   Возможность профессионального, карьерного роста внутри компании;   Повышение квалификации за счет компании;   Расположение офиса в центре города в шаговой доступности от станции м. М. Покрышкина;   Удобный график работы: понедельник-четверг с 9:00 до 18:00, в пятницу с 09.00 до 17.00;   Программу ДМС;   Комфортный офис, сплоченную команду, насыщенную корпоративную жизнь.         Ждем ваших откликов и будем рады знакомству!",
         "1.0"
        ],
        [
         "4",
         "Ведущий менеджер по работе с маркетплейсом Wildberries",
         "Москва",
         "ДЖЕЙКЕТ РАБОТА",
         "",
         "Вакансия компании:  Brosco Компания Brosco занимается производством и продажей аксессуаров для мобильных телефонов и электроники. Мы работаем с 2013 года. Товары Brosco продаются в розничных сетях, салонах связи и на всех основных маркетплейсах. Эта вакансия только в офисе, 5/2, полный день  - мы будем вынуждены вам отказать, если вы работаете удаленно. Компания Brosco - производитель аксессуаров для мобильных устройств и товаров для дома. Товары наших брендов продаются на всех маркетплейсах, в розничных сетях и салонах связи. Мы входим в топ 1% поставщиков на Ozon и топ 10% на Wildberries. В штате собраны настоящие профессионалы: менеджеры по маркетплейсам, менеджеры по закупкам, дизайнеры, фотограф, видеограф, копирайтер. Ищем ведущего менеджера ВБ с успешным опытом ведения бренда с выручкой от 10 млн. руб. в месяц. Мы хотим увидеть ваш успешный кейс развития и руководства брендом, вашу искреннюю заинтересованность к развитию, и самое главное любовь к цифрам и аналитике. Мы гарантируем конкурентную зарплату без задержек и % от выручки. Обязанности: Обеспечивать рост продаж и прибыли компании на маркетплейсе Вайлдберриз Управлять командой менеджеров Оптимизировать работу с маркетплейсом Активно работать с аналитикой Требования Успешный кейс на маркетплейсах (опыт управления продажами от 10 млн в месяц) Опыт работы на руководящей должности / ведущего специалиста по работе с маркетплейсами Понимание работы маркетплейсов на уровне эксперта Отличное владение Excel Навык внедрения новых программ автоматизации Умение работать с сервисами аналитики и применять данные для развития Умение работать в команде Высокий уровень тайм-менеджмента: грамотное и эффективное управление своим временем и ресурсами, а также временем и ресурсами команды Условия: Конкурентная официальная заработная плата; График 5/2 (c 11:00 до 19:00); Возможность приобрести знания и уникальный опыт работы в команде профессионалов и энтузиастов; Перспектива карьерного роста внутри компании; Отсутствие дресс-кода (ходим в худи и тапочках, потому что так продуктивнее); Дружный коллектив; Чай и кофе в неограниченном количестве; Настольный теннис в офисе; Библиотека с актуальной литературой для прокачки hard и soft скиллов; Идти до метро Митино 8-10 минут.",
         "1.0"
        ]
       ],
       "shape": {
        "columns": 6,
        "rows": 5
       }
      },
      "text/html": [
       "<div>\n",
       "<style scoped>\n",
       "    .dataframe tbody tr th:only-of-type {\n",
       "        vertical-align: middle;\n",
       "    }\n",
       "\n",
       "    .dataframe tbody tr th {\n",
       "        vertical-align: top;\n",
       "    }\n",
       "\n",
       "    .dataframe thead th {\n",
       "        text-align: right;\n",
       "    }\n",
       "</style>\n",
       "<table border=\"1\" class=\"dataframe\">\n",
       "  <thead>\n",
       "    <tr style=\"text-align: right;\">\n",
       "      <th></th>\n",
       "      <th>title</th>\n",
       "      <th>location</th>\n",
       "      <th>company</th>\n",
       "      <th>skills</th>\n",
       "      <th>description</th>\n",
       "      <th>experience_from</th>\n",
       "    </tr>\n",
       "  </thead>\n",
       "  <tbody>\n",
       "    <tr>\n",
       "      <th>0</th>\n",
       "      <td>Ведущий программист 1С (г. Санкт-Петербург)</td>\n",
       "      <td>Санкт-Петербург</td>\n",
       "      <td>Коннект персонал</td>\n",
       "      <td>1С программирование, MS SQL Server, 1C: ERP, О...</td>\n",
       "      <td>Крупнейший производственный комплекс легкой пр...</td>\n",
       "      <td>3.0</td>\n",
       "    </tr>\n",
       "    <tr>\n",
       "      <th>1</th>\n",
       "      <td>Ресерчер (поиск товаров на маркетплейсах)</td>\n",
       "      <td>Москва</td>\n",
       "      <td>Right Choice</td>\n",
       "      <td>Конкурентная аналитика, Аналитические исследов...</td>\n",
       "      <td>Мы молодая команда селлеров, состоящая из 12 ч...</td>\n",
       "      <td>1.0</td>\n",
       "    </tr>\n",
       "    <tr>\n",
       "      <th>2</th>\n",
       "      <td>Системный администратор</td>\n",
       "      <td>Нижний Новгород</td>\n",
       "      <td>Меридиан</td>\n",
       "      <td>Администрирование сетевого оборудования, Админ...</td>\n",
       "      <td>О компании:   Уже более 30 лет мы успешно прои...</td>\n",
       "      <td>1.0</td>\n",
       "    </tr>\n",
       "    <tr>\n",
       "      <th>3</th>\n",
       "      <td>Инженер по интеграции систем защиты информации</td>\n",
       "      <td>Новосибирск</td>\n",
       "      <td>СофтМолл</td>\n",
       "      <td>Информационная безопасность, Аналитическое мыш...</td>\n",
       "      <td>SoftMall  – это аккредитованная IT-компания, к...</td>\n",
       "      <td>1.0</td>\n",
       "    </tr>\n",
       "    <tr>\n",
       "      <th>4</th>\n",
       "      <td>Ведущий менеджер по работе с маркетплейсом Wil...</td>\n",
       "      <td>Москва</td>\n",
       "      <td>ДЖЕЙКЕТ РАБОТА</td>\n",
       "      <td></td>\n",
       "      <td>Вакансия компании:  Brosco Компания Brosco зан...</td>\n",
       "      <td>1.0</td>\n",
       "    </tr>\n",
       "  </tbody>\n",
       "</table>\n",
       "</div>"
      ],
      "text/plain": [
       "                                               title         location  \\\n",
       "0        Ведущий программист 1С (г. Санкт-Петербург)  Санкт-Петербург   \n",
       "1          Ресерчер (поиск товаров на маркетплейсах)           Москва   \n",
       "2                            Системный администратор  Нижний Новгород   \n",
       "3     Инженер по интеграции систем защиты информации      Новосибирск   \n",
       "4  Ведущий менеджер по работе с маркетплейсом Wil...           Москва   \n",
       "\n",
       "            company                                             skills  \\\n",
       "0  Коннект персонал  1С программирование, MS SQL Server, 1C: ERP, О...   \n",
       "1      Right Choice  Конкурентная аналитика, Аналитические исследов...   \n",
       "2          Меридиан  Администрирование сетевого оборудования, Админ...   \n",
       "3          СофтМолл  Информационная безопасность, Аналитическое мыш...   \n",
       "4    ДЖЕЙКЕТ РАБОТА                                                      \n",
       "\n",
       "                                         description  experience_from  \n",
       "0  Крупнейший производственный комплекс легкой пр...              3.0  \n",
       "1  Мы молодая команда селлеров, состоящая из 12 ч...              1.0  \n",
       "2  О компании:   Уже более 30 лет мы успешно прои...              1.0  \n",
       "3  SoftMall  – это аккредитованная IT-компания, к...              1.0  \n",
       "4  Вакансия компании:  Brosco Компания Brosco зан...              1.0  "
      ]
     },
     "execution_count": 37,
     "metadata": {},
     "output_type": "execute_result"
    }
   ],
   "source": [
    "df_test = pd.read_csv(\"/kaggle/working/test.csv\")\n",
    "\n",
    "df_test = df_test.fillna(\"\")\n",
    "df_test.head()"
   ]
  },
  {
   "cell_type": "code",
   "execution_count": 38,
   "id": "384becd4",
   "metadata": {},
   "outputs": [
    {
     "data": {
      "text/plain": [
       "(5556, 6)"
      ]
     },
     "execution_count": 38,
     "metadata": {},
     "output_type": "execute_result"
    }
   ],
   "source": [
    "df_test.shape"
   ]
  },
  {
   "cell_type": "code",
   "execution_count": null,
   "id": "0c56bff4",
   "metadata": {},
   "outputs": [],
   "source": [
    "df_test[\"clean_description\"] = df_test[\"description\"].apply(clean_text)\n",
    "\n",
    "df_test[\"skills_str\"] = df_test[\"skills\"].apply(lambda x: \",\".join(x.split(\",\")))\n",
    "\n",
    "skills_tfidf_val = tfidf.transform(df_test[\"skills_str\"])\n",
    "skills_tfidf_df = pd.DataFrame(skills_tfidf_val.toarray(), columns=tfidf.get_feature_names_out())\n",
    "df_test = pd.concat([df_test, skills_tfidf_df], axis=1).fillna(0)\n",
    "\n",
    "df_test[\"location_encoded\"] = label_encoder.transform(df_test[[\"location\"]])"
   ]
  },
  {
   "cell_type": "code",
   "execution_count": 41,
   "id": "2a3ce9af",
   "metadata": {},
   "outputs": [],
   "source": [
    "class SalaryDatasetTest(Dataset):\n",
    "    def __init__(self, df, tokenizer, max_length=512, columns_features=None):\n",
    "        self.df = df[[\"title\", \"clean_description\"] + columns_features if columns_features is not None else []]\n",
    "        self.tokenizer = tokenizer\n",
    "        self.max_length = max_length\n",
    "        self.columns_features = columns_features\n",
    "\n",
    "    def __len__(self):\n",
    "        return len(self.df)\n",
    "\n",
    "    def __getitem__(self, idx):\n",
    "        row = self.df.iloc[idx]\n",
    "        \n",
    "        # Текст вакансии\n",
    "        text = f\"{row['title']} {row['clean_description']}\"\n",
    "        \n",
    "        # Токенизация текста с обрезкой до max_length\n",
    "        tokens = self.tokenizer(\n",
    "            text,\n",
    "            truncation=True,  # Обрезаем текст до max_length\n",
    "            max_length=self.max_length,\n",
    "            padding=\"max_length\",  # Дополняем до max_length\n",
    "            return_tensors=\"pt\"\n",
    "        )\n",
    "\n",
    "        input_ids = tokens[\"input_ids\"].squeeze(0)  # [max_length]\n",
    "        attention_mask = tokens[\"attention_mask\"].squeeze(0)  # [max_length]\n",
    "\n",
    "        additional_features = torch.tensor(row[self.columns_features].values.astype(float), dtype=torch.float)\n",
    "        \n",
    "        return {\n",
    "            \"input_ids\": input_ids,          # [max_length]\n",
    "            \"attention_mask\": attention_mask, # [max_length]\n",
    "            \"features\": additional_features,\n",
    "        }"
   ]
  },
  {
   "cell_type": "code",
   "execution_count": 42,
   "id": "3a825e73",
   "metadata": {},
   "outputs": [],
   "source": [
    "test_dataset = SalaryDatasetTest(df_test, tokenizer, max_length=1024, columns_features=num_features)\n",
    "\n",
    "test_loader = DataLoader(test_dataset, batch_size=64, shuffle=False)"
   ]
  },
  {
   "cell_type": "code",
   "execution_count": 43,
   "id": "52bc4bc4",
   "metadata": {},
   "outputs": [],
   "source": [
    "def evaluate_test(model, dataloader):\n",
    "    model.eval()\n",
    "    predictions = []\n",
    "    with torch.no_grad():\n",
    "        for batch in tqdm(dataloader):\n",
    "            input_ids = batch[\"input_ids\"].to(device)\n",
    "            attention_mask = batch[\"attention_mask\"].to(device)\n",
    "            features = batch[\"features\"].to(device)\n",
    "\n",
    "            outputs = model(input_ids, attention_mask, features)\n",
    "\n",
    "            predictions.extend(outputs.cpu().numpy())\n",
    "\n",
    "    return predictions"
   ]
  },
  {
   "cell_type": "code",
   "execution_count": 44,
   "id": "8939dbd8",
   "metadata": {},
   "outputs": [
    {
     "name": "stderr",
     "output_type": "stream",
     "text": [
      "100%|██████████| 87/87 [00:47<00:00,  1.85it/s]\n"
     ]
    }
   ],
   "source": [
    "test_preds = evaluate_test(model, test_loader)"
   ]
  },
  {
   "cell_type": "code",
   "execution_count": 47,
   "id": "da292bd4",
   "metadata": {},
   "outputs": [],
   "source": [
    "test_predictions = pd.DataFrame({\n",
    "    \"prediction\": test_preds\n",
    "}).reset_index()"
   ]
  },
  {
   "cell_type": "code",
   "execution_count": 48,
   "id": "a3f5c48d",
   "metadata": {},
   "outputs": [
    {
     "name": "stdout",
     "output_type": "stream",
     "text": [
      "(5556, 2)\n"
     ]
    },
    {
     "data": {
      "application/vnd.microsoft.datawrangler.viewer.v0+json": {
       "columns": [
        {
         "name": "index",
         "rawType": "int64",
         "type": "integer"
        },
        {
         "name": "index",
         "rawType": "int64",
         "type": "integer"
        },
        {
         "name": "prediction",
         "rawType": "float32",
         "type": "float"
        }
       ],
       "ref": "8b2ec2ae-9351-4aed-bb4f-1c0d259747dc",
       "rows": [
        [
         "0",
         "0",
         "5.560867"
        ],
        [
         "1",
         "1",
         "4.061025"
        ],
        [
         "2",
         "2",
         "4.590584"
        ],
        [
         "3",
         "3",
         "4.580428"
        ],
        [
         "4",
         "4",
         "4.758976"
        ]
       ],
       "shape": {
        "columns": 2,
        "rows": 5
       }
      },
      "text/html": [
       "<div>\n",
       "<style scoped>\n",
       "    .dataframe tbody tr th:only-of-type {\n",
       "        vertical-align: middle;\n",
       "    }\n",
       "\n",
       "    .dataframe tbody tr th {\n",
       "        vertical-align: top;\n",
       "    }\n",
       "\n",
       "    .dataframe thead th {\n",
       "        text-align: right;\n",
       "    }\n",
       "</style>\n",
       "<table border=\"1\" class=\"dataframe\">\n",
       "  <thead>\n",
       "    <tr style=\"text-align: right;\">\n",
       "      <th></th>\n",
       "      <th>index</th>\n",
       "      <th>prediction</th>\n",
       "    </tr>\n",
       "  </thead>\n",
       "  <tbody>\n",
       "    <tr>\n",
       "      <th>0</th>\n",
       "      <td>0</td>\n",
       "      <td>5.560867</td>\n",
       "    </tr>\n",
       "    <tr>\n",
       "      <th>1</th>\n",
       "      <td>1</td>\n",
       "      <td>4.061025</td>\n",
       "    </tr>\n",
       "    <tr>\n",
       "      <th>2</th>\n",
       "      <td>2</td>\n",
       "      <td>4.590584</td>\n",
       "    </tr>\n",
       "    <tr>\n",
       "      <th>3</th>\n",
       "      <td>3</td>\n",
       "      <td>4.580428</td>\n",
       "    </tr>\n",
       "    <tr>\n",
       "      <th>4</th>\n",
       "      <td>4</td>\n",
       "      <td>4.758976</td>\n",
       "    </tr>\n",
       "  </tbody>\n",
       "</table>\n",
       "</div>"
      ],
      "text/plain": [
       "   index  prediction\n",
       "0      0    5.560867\n",
       "1      1    4.061025\n",
       "2      2    4.590584\n",
       "3      3    4.580428\n",
       "4      4    4.758976"
      ]
     },
     "execution_count": 48,
     "metadata": {},
     "output_type": "execute_result"
    }
   ],
   "source": [
    "print(test_predictions.shape)\n",
    "test_predictions.head()"
   ]
  },
  {
   "cell_type": "code",
   "execution_count": 49,
   "id": "5b810965",
   "metadata": {},
   "outputs": [],
   "source": [
    "test_predictions.to_csv(\"submission.csv\", index=False)"
   ]
  },
  {
   "cell_type": "code",
   "execution_count": 50,
   "id": "1830f61a",
   "metadata": {},
   "outputs": [
    {
     "name": "stdout",
     "output_type": "stream",
     "text": [
      "100%|███████████████████████████████████████| 77.5k/77.5k [00:00<00:00, 173kB/s]\n",
      "Successfully submitted to teta_nn_1_2025"
     ]
    }
   ],
   "source": [
    "!kaggle competitions submit -c teta-nn-1-2025 -f /kaggle/working/submission.csv -m \"Baseline fun!\""
   ]
  }
 ],
 "metadata": {
  "kernelspec": {
   "display_name": "teta_nn_1_2025_predict_salary",
   "language": "python",
   "name": "python3"
  },
  "language_info": {
   "codemirror_mode": {
    "name": "ipython",
    "version": 3
   },
   "file_extension": ".py",
   "mimetype": "text/x-python",
   "name": "python",
   "nbconvert_exporter": "python",
   "pygments_lexer": "ipython3",
   "version": "3.12.10"
  }
 },
 "nbformat": 4,
 "nbformat_minor": 5
}
