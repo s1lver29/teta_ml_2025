{
 "cells": [
  {
   "cell_type": "markdown",
   "id": "b76eeb9c",
   "metadata": {},
   "source": [
    "# Настройка рабочего окружения"
   ]
  },
  {
   "cell_type": "code",
   "execution_count": 1,
   "id": "54d3ceaa",
   "metadata": {},
   "outputs": [
    {
     "data": {
      "application/javascript": "IPython.notebook.set_autosave_interval(60000)"
     },
     "metadata": {},
     "output_type": "display_data"
    },
    {
     "name": "stdout",
     "output_type": "stream",
     "text": [
      "Autosaving every 60 seconds\n"
     ]
    }
   ],
   "source": [
    "%autosave 60\n",
    "%reload_ext autoreload\n",
    "%autoreload 2\n",
    "\n",
    "import sys\n",
    "\n",
    "sys.path.insert(0, \"..\")"
   ]
  },
  {
   "cell_type": "code",
   "execution_count": null,
   "id": "42a211c5",
   "metadata": {},
   "outputs": [
    {
     "name": "stdout",
     "output_type": "stream",
     "text": [
      "Downloading teta-nn-1-2025.zip to /kaggle/working\n",
      "  0%|                                               | 0.00/20.3M [00:00<?, ?B/s]\n",
      "100%|███████████████████████████████████████| 20.3M/20.3M [00:00<00:00, 958MB/s]\n",
      "Archive:  teta-nn-1-2025.zip\n",
      "  inflating: sample_submition.csv    \n",
      "  inflating: test.csv                \n",
      "  inflating: train.csv               \n"
     ]
    }
   ],
   "source": [
    "!pip install -U -q kaggle\n",
    "!mkdir -p ~/.kaggle\n",
    "!echo '{\"username\":\"unk\",\"key\":\"unk\"}' > ~/.kaggle/kaggle.json\n",
    "!chmod 600 ~/.kaggle/kaggle.json\n",
    "\n",
    "!kaggle competitions download -c teta-nn-1-2025\n",
    "# !unzip /kaggle/working/teta-nn-1-2025\n",
    "!unzip teta-nn-1-2025"
   ]
  },
  {
   "cell_type": "code",
   "execution_count": null,
   "id": "011630b8",
   "metadata": {},
   "outputs": [
    {
     "name": "stdout",
     "output_type": "stream",
     "text": [
      "env: CLEARML_WEB_HOST=https://app.clear.ml/\n",
      "env: CLEARML_API_HOST=https://api.clear.ml\n",
      "env: CLEARML_FILES_HOST=https://files.clear.ml\n",
      "env: CLEARML_API_ACCESS_KEY=39DYHI993M8WJRSRHIITK8YZ3EKNBE\n",
      "env: CLEARML_API_SECRET_KEY=fqbnjs0VYFxh_ulCIVWbdGwwGJwK6Zz9BYn9uyEzD9Bd3-SIMSgjRBCGccXnZ57xgdo\n"
     ]
    }
   ],
   "source": [
    "%env CLEARML_WEB_HOST=https://app.clear.ml/\n",
    "%env CLEARML_API_HOST=https://api.clear.ml\n",
    "%env CLEARML_FILES_HOST=https://files.clear.ml\n",
    "# kaggle\n",
    "%env CLEARML_API_ACCESS_KEY=\n",
    "%env CLEARML_API_SECRET_KEY="
   ]
  },
  {
   "cell_type": "code",
   "execution_count": null,
   "id": "fcd83e00",
   "metadata": {},
   "outputs": [
    {
     "name": "stderr",
     "output_type": "stream",
     "text": [
      "2025-07-24 19:31:16.652600: E external/local_xla/xla/stream_executor/cuda/cuda_fft.cc:477] Unable to register cuFFT factory: Attempting to register factory for plugin cuFFT when one has already been registered\n",
      "WARNING: All log messages before absl::InitializeLog() is called are written to STDERR\n",
      "E0000 00:00:1753385476.676608     556 cuda_dnn.cc:8310] Unable to register cuDNN factory: Attempting to register factory for plugin cuDNN when one has already been registered\n",
      "E0000 00:00:1753385476.683806     556 cuda_blas.cc:1418] Unable to register cuBLAS factory: Attempting to register factory for plugin cuBLAS when one has already been registered\n"
     ]
    }
   ],
   "source": [
    "import re\n",
    "from collections import defaultdict\n",
    "\n",
    "import matplotlib.pyplot as plt\n",
    "import nltk\n",
    "import numpy as np\n",
    "import pandas as pd\n",
    "import pytorch_lightning as pl\n",
    "import torch\n",
    "import torch.nn as nn\n",
    "import torch.optim as optim\n",
    "from nltk.corpus import stopwords\n",
    "from nltk.tokenize import word_tokenize\n",
    "from pytorch_lightning.callbacks import EarlyStopping, ModelCheckpoint\n",
    "from sklearn.feature_extraction.text import TfidfVectorizer\n",
    "from sklearn.metrics import f1_score, r2_score\n",
    "from sklearn.model_selection import train_test_split\n",
    "from sklearn.preprocessing import OrdinalEncoder\n",
    "from torch.utils.data import DataLoader, Dataset\n",
    "from tqdm import tqdm\n",
    "from transformers import AutoTokenizer, BertModel, BertTokenizerFast\n",
    "\n",
    "try:\n",
    "    from clearml import InputModel, Task, TaskTypes\n",
    "except ModuleNotFoundError:\n",
    "    print(\"Артефакты будут сохраняться локально\")"
   ]
  },
  {
   "cell_type": "code",
   "execution_count": null,
   "id": "602dcb27",
   "metadata": {},
   "outputs": [],
   "source": [
    "RANDOM_SEED = 64\n",
    "\n",
    "np.random.seed(RANDOM_SEED)\n",
    "\n",
    "torch.manual_seed(RANDOM_SEED)\n",
    "\n",
    "if torch.cuda.is_available():\n",
    "    torch.cuda.manual_seed(RANDOM_SEED)\n",
    "    torch.cuda.manual_seed_all(RANDOM_SEED)  # Для всех GPU\n",
    "\n",
    "device= \"cuda\" if torch.cuda.is_available() else \"cpu\""
   ]
  },
  {
   "cell_type": "markdown",
   "id": "93855e09",
   "metadata": {},
   "source": [
    "# Основная работа"
   ]
  },
  {
   "cell_type": "code",
   "execution_count": 5,
   "id": "871b3dce",
   "metadata": {},
   "outputs": [
    {
     "data": {
      "application/vnd.microsoft.datawrangler.viewer.v0+json": {
       "columns": [
        {
         "name": "index",
         "rawType": "int64",
         "type": "integer"
        },
        {
         "name": "title",
         "rawType": "object",
         "type": "string"
        },
        {
         "name": "location",
         "rawType": "object",
         "type": "string"
        },
        {
         "name": "company",
         "rawType": "object",
         "type": "string"
        },
        {
         "name": "skills",
         "rawType": "object",
         "type": "unknown"
        },
        {
         "name": "description",
         "rawType": "object",
         "type": "string"
        },
        {
         "name": "experience_from",
         "rawType": "float64",
         "type": "float"
        },
        {
         "name": "salary_from",
         "rawType": "float64",
         "type": "float"
        },
        {
         "name": "log_salary_from",
         "rawType": "float64",
         "type": "float"
        }
       ],
       "ref": "74793ce8-8603-43b1-bd0a-937390ae5467",
       "rows": [
        [
         "0",
         "Специалист технической поддержки",
         "Воронеж",
         "ВКТМ",
         null,
         "Обязанности:     Обеспечение бесперебойной работы всех ПК и устранение неисправностей;   Установка и настройка ПО для корректной работы;   Ремонт используемой техники;   Обеспечение информационной безопасности и защиты от хакерских атак и спама;   Сопровождение настройки системы видеонаблюдения, СКУД, «Битрикс», 1С;   Техническое обслуживание работы компьютеров и оргтехники, заправка картриджей, ремонт компьютеров и оргтехники;   Ведение базы заявок на обслуживание, ремонт, заказ комплектующих для компьютеров и оргтехники;   Сборка, диагностика и подключение рабочих компьютеров, серверов;   Сборка, тестирование и настройка нового оборудования;   Настройка сетевой печати, сканирования, общего доступа к файлам.     Требования:     Компьютерная грамотность. Нужно понимать, как работает софт и приложения, и уметь устранять проблемы с ними. Также необходимо знание аппаратной части ПК («железа»);   Навыки настройки оборудования. Принтеры, сканеры, МФУ;   Опыт работы с технической документацией;   Коммуникативные навыки. Важно уметь вежливо и корректно общаться с пользователями;   Стрессоустойчивость;   Внимательность. Желательно запоминать информацию с первого раза, чтобы не переспрашивать собеседника и быстро разобраться, в чём проблема;   Многозадачность.     Условия:     Мы предлагаем стабильную работу в крупной, надежной, успешно развивающейся компании;   Оформление в штат согласно трудовому законодательству;   \"Белая\" зарплата выплачивается 2 раза в месяц;   Мы находимся: ОЭЗ ППТ «Центр» располагается на территории Новоусманского района Воронежской области, с северной стороны ОЭЗ ППТ «Центр» примыкает к индустриальному парку «Масловский»;   Обеды за счет компании;   Служебный транспорт до места работы.  ",
         "1.0",
         "60.0",
         "4.0943445622221"
        ],
        [
         "1",
         "Product Owner в ИТ-стартап (B2C)",
         "Москва",
         "Radium Finance",
         "CustDev, Стратегический менеджмент, Управление стейкхолдерами, Управление ожиданиями, Управление командой, Постановка задач разработчикам, Product-market fit, Customer Journey Mapping, User Story Mapping, Управление бэклогом, Управление ресурсами",
         "Эта вакансия про тебя, если симбиоз управленческой зрелости, стратегического видения, аналитических навыков, продуктового кругозора и глубокого погружение в бизнес — есть в твоем бэкграунде.   Большой плюс —  опыт запуска нового продукта на рынок.    Продукт Мы ИТ-стартап на грани прорыва, делаем социальную сеть для людей-инвесторов и всех, кто хочет повышать свою финансовую грамотность. Это будет реально огромное сообщество, объединенных общими интересами. Не олько интересное, познавательное, местами развлекательное, но и приносящие пользу. Причем как новичкам, так и тем, кто на инвестициях уже собаку съел.   Вам предстоит развивать сервис и его инструменты для общения с пользователями. Вы будете помогать пользователю получать ту информацию,которая ему интересна, в нужное время удобным способом. Для этого будет сайт (и мобильное приложение) — ими и предстоит заниматься.   Всегда есть опция создавать новые штуки и экспериментировать.   Работа  напрямую  с CEO.   Сработаемся, если у вас есть     Опыт работы от 5-ти лет в роли проектного/продакт менеджера.   Опыт развития B2С продуктов.   Понимание работы маркетинга и маркетинговых сервисов.   Отличные навыки управления проектами: умение планировать работу команды, расставлять приоритеты, предлагать идеи. Нужно будет тесно работать с командами маркетинга и разработки, так что опыт проджект-менеджмента инженерных команд будет плюсом   Опыт решения подобных задач в средних и крупных B2C-бизнесах будет плюсом.     Задачи:     Разработка и стратегия продукта (мы создаем наше приложение с 0)     Определение видения и стратегии продукта в соответствии с целями бизнеса.   Разработка дорожной карты продукта, определение приоритетов функций и управление их реализацией.   Определение технических требований и спецификаций продукта в тесном сотрудничестве с инженерными и дизайнерскими командами.         Управление проектом     Координация работы между командами разработчиков, дизайнеров и маркетологов.   Управление жизненным циклом продукта от концепции до запуска и дальнейшего развития.         Анализ и исследования     Проведение исследований для определения трендов и анализ конкурентов.   Сбор и анализ пользовательского фидбэка для улучшения продукта.         Мониторинг и оптимизация     Отслеживание ключевых показателей эффективности продукта (KPIs) и реализация улучшений на основе этих данных.   Оптимизация пользовательского опыта и повышение вовлеченности пользователей.         Взаимодействие со стейкхолдерами     Настройка и использование систем аналитики для отслеживания ключевых показателей продукта (KPIs), анализа поведения пользователей и оптимизации продуктовых функций.   Регулярные встречи со стейкхолдерами для обсуждения развития продукта и обратной связи.     Поддержка и обновления     Управление процессом обновления продукта, включая планирование фичей и новых версий.         Нам скорее всего по пути, если вы     Сильный самоходный менеджер.   Можете разобраться в задаче и понять, что на самом деле надо пользователям.   Инженеры и маркетологи вас понимают, вы объясняете причины решений и логические связки, идёте от настоящей проблемы.   Если не знаете чего-то — не боитесь спросить. В любой ситуации. Не знать — нормально :)   Внимательны к деталям и аккуратны. Вас до мурашек пробирает от непродуманности, невнимательности и неряшливости.   Не пугаетесь слова «фигня» в любом контексте. Не принимаете критику лично.   У вас высокий уровень критического мышления, высокая скорость действий.   Быстрый ум и реакция.   Коммуникация с людьми доставляет вам удовольствие.   Open minded и готов учиться/адаптироваться под изменения в рынке.   Высокий скилл управления энергией и системность мышления, умеете создавать структуры и регламенты.   Используете системный подход в решении сложных задач, свободны от давления авторитетов.   Условия:     Гибрид, офис на Бауманской, возле метро.    Зарплата в рынке, обсудим на собеседовании. Бонусы, премирование долей после успешной реализации проекта.   Задачи большие, но в придачу идёт полная свобода действий. Вы будете стоять у истоков создания продукта.   Мы всегда поможем экспертизой и поддержим, когда что-то не получается.   У нас дружелюбная команда без пассивной агрессии (и без активной). Мы много общаемся, обсуждаем решения, иногда спорим, но всё это — ради лучшего на свете продукта :)     Будем рады познакомиться. Откликайтесь!)",
         "6.0",
         "200.0",
         "5.298317366548036"
        ],
        [
         "2",
         "Системный администратор ( Клинический Госпиталь на Яузе )",
         "Москва",
         "Медскан",
         null,
         "АО «Медскан» – динамично развивающаяся группа компаний и один из лидеров негосударственного сектора здравоохранения в России. Медицинские учреждения холдинга предлагают полный спектр высокотехнологичной медицинской помощи по передовым мировым протоколам.   В 31 регионе и 105 городах России работает 65 медицинских центров, 15 лабораторий и более 430 лабораторных медицинских офисов ГК «Медскан».   Флагманом группы является российский филиал университетского госпиталя Hadassah (Иерусалим).   «Клинический госпиталь на Яузе»  входит в ГК «Медскан» и занимает 10 место в «ТОП-200 клиник России» по версии аналитического центра Vademecum.   Нашими главными принципами в работе является  высокий профессионализм, использование передовых медицинских технологий, заботливое и чуткое отношение к пациентам, обеспечение чувства безопасности и поддержки.   Требования:     Образование высшее \\ среднее-специальное.   Опыт работы с ОС Linux (Ubuntu, Debian, CentOS). Опыт работы с Zabbix.   Знание линейки ОС Windows.   Знание и опыт работы с AD, DHCP, DNS, VPN.   Понимание модели OSI.   Знание основ протоколов TPC/IP, принципов маршрутизации.   Внимательность, ответственность, умение расставлять приоритеты, самостоятельность.   Обучаемость, желание расти и развиваться.     Обязанности:     Первая линия технической поддержки.   Администрирование рабочих станций и серверного оборудования.   Поддержание систем в актуальном рабочем состоянии.   Настройка и поддержка систем ЭДО (Контур, Диадок, Такском.Файлер).   Установка ЭЦП и криптографических модулей КриптоПро.   Решение инцидентов в системе поддержки пользователей.   Установка и настройка базового комплекса ПО (MS Office, антивирусы, архиваторы, драйвера и т.д.).   Подключение и настройка офисной техники, учёт расходных материалов.     Условия:     График работы 2/2 !!!   Официальное трудоустройство согласно ТК РФ.   Социальный пакет (оплата больничных, отпусков, система медицинских осмотров, скидка 50% на услуги наших мед. центров).   Работа в перспективной и динамично развивающейся компании.   Комфортные условия труда, бесплатная парковка.   Медицинский центр расположен по адресу: Москва, ул. Волочаевская д. 15, к. 1,  ст. метро Площадь Ильича / Римская.  ",
         "1.0",
         "130.0",
         "4.867534450455582"
        ],
        [
         "3",
         "Системный Администратор Linux",
         "Москва",
         "Selecty",
         "Linux, PostgreSQL",
         "Задачи:     Администрирование инфраструктуры на базе Linux;   Оптимизация производительности и обеспечение отказоустойчивости систем;   Решение проблем доступности, целостности данных;   Ведение технической документации.     Требования:     Опыт по администрированию Linux/Unix;   Понимание состава баз данных, индексы, статистика, планы обслуживания;   Опыт работы СУБД PostgreSQL;   Опыт эксплуатации систем мониторинга и резервного копирования;   Знание принципов работы основных сетевых служб и протоколов.     Условия:      Удаленный формат работы, график 5/2;   Трудоустройство в ИТ-аккредитованную компанию;   Оформление в штат согласно ТК РФ;   Возможность предоставить технику для работы;   Скидки на фитнес и изучение иностранных языков.   Обучение за счёт компании, возможности карьерного роста.  ",
         "3.0",
         "170.0",
         "5.135798437050262"
        ],
        [
         "4",
         "Начальник участка общестроительных работ",
         "Пушкино (Московская область)",
         "NK GROUP",
         null,
         "NK Group  – ведущий девелопер индустриальных объектов в России.  NK   Group  реализует промышленные объекты полного цикла: строительство в собственных парках, оснащенных всеми коммуникациями, а также на земле клиента.   NK Group ищет сотрудника на должность  Начальник участка .   Вы понимаете конечный результат своей деятельности и добиваетесь его? В Вашем опыте работы есть законченные проекты? Вы можете назвать себя настойчивым человеком, которого не собьют с цели никакие преграды? Вы \"дружите\" с цифрами и работа с графиками и бюджетом для Вас не проблема?   Что мы от Вас ожидаем:     У вас есть  ОПЫТ РАБОТЫ на строительных объектах .   Вы уверенно работаете с проектной документацией и чертежами.   Вы в состоянии обеспечить объект материалами .   У Вас был опыт работы с бюджетом.   Уверенно пользуетесь компьютером.   Способны самостоятельно действовать и принимать решения.     Что будет входить в Ваши обязанности:     Организация хозяйственно – бытовых условий на строительной площадке.   Контроль своевременной поставки материала на строительную площадку.   Расстановка приоритетов по различным видам работ.   Выявление отставания видов работ от сроков, их причины и решения.   Выявление некачественной работы и предложение решений.   ПОДДЕРЖАНИЕ ЧИСТОТЫ на строительной площадке.   Проведение ежедневных/еженедельных совещаний.   Ежедневная/еженедельная отчетность руководству.     Мы вам предлагаем:     Оформление согласно ТК РФ.   График работы 5/2.   Заработная плата (100% официальная) – оговаривается индивидуально, в зависимости от опыта и квалификации.     Расположение объектов: Домодедово, Пушкино",
         "3.0",
         "200.0",
         "5.298317366548036"
        ]
       ],
       "shape": {
        "columns": 8,
        "rows": 5
       }
      },
      "text/html": [
       "<div>\n",
       "<style scoped>\n",
       "    .dataframe tbody tr th:only-of-type {\n",
       "        vertical-align: middle;\n",
       "    }\n",
       "\n",
       "    .dataframe tbody tr th {\n",
       "        vertical-align: top;\n",
       "    }\n",
       "\n",
       "    .dataframe thead th {\n",
       "        text-align: right;\n",
       "    }\n",
       "</style>\n",
       "<table border=\"1\" class=\"dataframe\">\n",
       "  <thead>\n",
       "    <tr style=\"text-align: right;\">\n",
       "      <th></th>\n",
       "      <th>title</th>\n",
       "      <th>location</th>\n",
       "      <th>company</th>\n",
       "      <th>skills</th>\n",
       "      <th>description</th>\n",
       "      <th>experience_from</th>\n",
       "      <th>salary_from</th>\n",
       "      <th>log_salary_from</th>\n",
       "    </tr>\n",
       "  </thead>\n",
       "  <tbody>\n",
       "    <tr>\n",
       "      <th>0</th>\n",
       "      <td>Специалист технической поддержки</td>\n",
       "      <td>Воронеж</td>\n",
       "      <td>ВКТМ</td>\n",
       "      <td>NaN</td>\n",
       "      <td>Обязанности:     Обеспечение бесперебойной работы всех ПК и устранение неисправностей;   Установка и настройка ПО для корректной работы;   Ремонт используемой техники;   Обеспечение информационной безопасности и защиты от хакерских атак и спама;   Сопровождение настройки системы видеонаблюдения, СКУД, «Битрикс», 1С;   Техническое обслуживание работы компьютеров и оргтехники, заправка картриджей, ремонт компьютеров и оргтехники;   Ведение базы заявок на обслуживание, ремонт, заказ комплектующих для компьютеров и оргтехники;   Сборка, диагностика и подключение рабочих компьютеров, серверов; ...</td>\n",
       "      <td>1.0</td>\n",
       "      <td>60.0</td>\n",
       "      <td>4.094345</td>\n",
       "    </tr>\n",
       "    <tr>\n",
       "      <th>1</th>\n",
       "      <td>Product Owner в ИТ-стартап (B2C)</td>\n",
       "      <td>Москва</td>\n",
       "      <td>Radium Finance</td>\n",
       "      <td>CustDev, Стратегический менеджмент, Управление стейкхолдерами, Управление ожиданиями, Управление командой, Постановка задач разработчикам, Product-market fit, Customer Journey Mapping, User Story Mapping, Управление бэклогом, Управление ресурсами</td>\n",
       "      <td>Эта вакансия про тебя, если симбиоз управленческой зрелости, стратегического видения, аналитических навыков, продуктового кругозора и глубокого погружение в бизнес — есть в твоем бэкграунде.   Большой плюс —  опыт запуска нового продукта на рынок.    Продукт Мы ИТ-стартап на грани прорыва, делаем социальную сеть для людей-инвесторов и всех, кто хочет повышать свою финансовую грамотность. Это будет реально огромное сообщество, объединенных общими интересами. Не олько интересное, познавательное, местами развлекательное, но и приносящие пользу. Причем как новичкам, так и тем, кто на инвестици...</td>\n",
       "      <td>6.0</td>\n",
       "      <td>200.0</td>\n",
       "      <td>5.298317</td>\n",
       "    </tr>\n",
       "    <tr>\n",
       "      <th>2</th>\n",
       "      <td>Системный администратор ( Клинический Госпиталь на Яузе )</td>\n",
       "      <td>Москва</td>\n",
       "      <td>Медскан</td>\n",
       "      <td>NaN</td>\n",
       "      <td>АО «Медскан» – динамично развивающаяся группа компаний и один из лидеров негосударственного сектора здравоохранения в России. Медицинские учреждения холдинга предлагают полный спектр высокотехнологичной медицинской помощи по передовым мировым протоколам.   В 31 регионе и 105 городах России работает 65 медицинских центров, 15 лабораторий и более 430 лабораторных медицинских офисов ГК «Медскан».   Флагманом группы является российский филиал университетского госпиталя Hadassah (Иерусалим).   «Клинический госпиталь на Яузе»  входит в ГК «Медскан» и занимает 10 место в «ТОП-200 клиник России» п...</td>\n",
       "      <td>1.0</td>\n",
       "      <td>130.0</td>\n",
       "      <td>4.867534</td>\n",
       "    </tr>\n",
       "    <tr>\n",
       "      <th>3</th>\n",
       "      <td>Системный Администратор Linux</td>\n",
       "      <td>Москва</td>\n",
       "      <td>Selecty</td>\n",
       "      <td>Linux, PostgreSQL</td>\n",
       "      <td>Задачи:     Администрирование инфраструктуры на базе Linux;   Оптимизация производительности и обеспечение отказоустойчивости систем;   Решение проблем доступности, целостности данных;   Ведение технической документации.     Требования:     Опыт по администрированию Linux/Unix;   Понимание состава баз данных, индексы, статистика, планы обслуживания;   Опыт работы СУБД PostgreSQL;   Опыт эксплуатации систем мониторинга и резервного копирования;   Знание принципов работы основных сетевых служб и протоколов.     Условия:      Удаленный формат работы, график 5/2;   Трудоустройство в ИТ-аккреди...</td>\n",
       "      <td>3.0</td>\n",
       "      <td>170.0</td>\n",
       "      <td>5.135798</td>\n",
       "    </tr>\n",
       "    <tr>\n",
       "      <th>4</th>\n",
       "      <td>Начальник участка общестроительных работ</td>\n",
       "      <td>Пушкино (Московская область)</td>\n",
       "      <td>NK GROUP</td>\n",
       "      <td>NaN</td>\n",
       "      <td>NK Group  – ведущий девелопер индустриальных объектов в России.  NK   Group  реализует промышленные объекты полного цикла: строительство в собственных парках, оснащенных всеми коммуникациями, а также на земле клиента.   NK Group ищет сотрудника на должность  Начальник участка .   Вы понимаете конечный результат своей деятельности и добиваетесь его? В Вашем опыте работы есть законченные проекты? Вы можете назвать себя настойчивым человеком, которого не собьют с цели никакие преграды? Вы \"дружите\" с цифрами и работа с графиками и бюджетом для Вас не проблема?   Что мы от Вас ожидаем:     У в...</td>\n",
       "      <td>3.0</td>\n",
       "      <td>200.0</td>\n",
       "      <td>5.298317</td>\n",
       "    </tr>\n",
       "  </tbody>\n",
       "</table>\n",
       "</div>"
      ],
      "text/plain": [
       "                                                       title  \\\n",
       "0                           Специалист технической поддержки   \n",
       "1                           Product Owner в ИТ-стартап (B2C)   \n",
       "2  Системный администратор ( Клинический Госпиталь на Яузе )   \n",
       "3                              Системный Администратор Linux   \n",
       "4                   Начальник участка общестроительных работ   \n",
       "\n",
       "                       location         company  \\\n",
       "0                       Воронеж            ВКТМ   \n",
       "1                        Москва  Radium Finance   \n",
       "2                        Москва         Медскан   \n",
       "3                        Москва         Selecty   \n",
       "4  Пушкино (Московская область)        NK GROUP   \n",
       "\n",
       "                                                                                                                                                                                                                                                   skills  \\\n",
       "0                                                                                                                                                                                                                                                     NaN   \n",
       "1  CustDev, Стратегический менеджмент, Управление стейкхолдерами, Управление ожиданиями, Управление командой, Постановка задач разработчикам, Product-market fit, Customer Journey Mapping, User Story Mapping, Управление бэклогом, Управление ресурсами   \n",
       "2                                                                                                                                                                                                                                                     NaN   \n",
       "3                                                                                                                                                                                                                                       Linux, PostgreSQL   \n",
       "4                                                                                                                                                                                                                                                     NaN   \n",
       "\n",
       "                                                                                                                                                                                                                                                                                                                                                                                                                                                                                                                                                                                                               description  \\\n",
       "0  Обязанности:     Обеспечение бесперебойной работы всех ПК и устранение неисправностей;   Установка и настройка ПО для корректной работы;   Ремонт используемой техники;   Обеспечение информационной безопасности и защиты от хакерских атак и спама;   Сопровождение настройки системы видеонаблюдения, СКУД, «Битрикс», 1С;   Техническое обслуживание работы компьютеров и оргтехники, заправка картриджей, ремонт компьютеров и оргтехники;   Ведение базы заявок на обслуживание, ремонт, заказ комплектующих для компьютеров и оргтехники;   Сборка, диагностика и подключение рабочих компьютеров, серверов; ...   \n",
       "1  Эта вакансия про тебя, если симбиоз управленческой зрелости, стратегического видения, аналитических навыков, продуктового кругозора и глубокого погружение в бизнес — есть в твоем бэкграунде.   Большой плюс —  опыт запуска нового продукта на рынок.    Продукт Мы ИТ-стартап на грани прорыва, делаем социальную сеть для людей-инвесторов и всех, кто хочет повышать свою финансовую грамотность. Это будет реально огромное сообщество, объединенных общими интересами. Не олько интересное, познавательное, местами развлекательное, но и приносящие пользу. Причем как новичкам, так и тем, кто на инвестици...   \n",
       "2  АО «Медскан» – динамично развивающаяся группа компаний и один из лидеров негосударственного сектора здравоохранения в России. Медицинские учреждения холдинга предлагают полный спектр высокотехнологичной медицинской помощи по передовым мировым протоколам.   В 31 регионе и 105 городах России работает 65 медицинских центров, 15 лабораторий и более 430 лабораторных медицинских офисов ГК «Медскан».   Флагманом группы является российский филиал университетского госпиталя Hadassah (Иерусалим).   «Клинический госпиталь на Яузе»  входит в ГК «Медскан» и занимает 10 место в «ТОП-200 клиник России» п...   \n",
       "3  Задачи:     Администрирование инфраструктуры на базе Linux;   Оптимизация производительности и обеспечение отказоустойчивости систем;   Решение проблем доступности, целостности данных;   Ведение технической документации.     Требования:     Опыт по администрированию Linux/Unix;   Понимание состава баз данных, индексы, статистика, планы обслуживания;   Опыт работы СУБД PostgreSQL;   Опыт эксплуатации систем мониторинга и резервного копирования;   Знание принципов работы основных сетевых служб и протоколов.     Условия:      Удаленный формат работы, график 5/2;   Трудоустройство в ИТ-аккреди...   \n",
       "4  NK Group  – ведущий девелопер индустриальных объектов в России.  NK   Group  реализует промышленные объекты полного цикла: строительство в собственных парках, оснащенных всеми коммуникациями, а также на земле клиента.   NK Group ищет сотрудника на должность  Начальник участка .   Вы понимаете конечный результат своей деятельности и добиваетесь его? В Вашем опыте работы есть законченные проекты? Вы можете назвать себя настойчивым человеком, которого не собьют с цели никакие преграды? Вы \"дружите\" с цифрами и работа с графиками и бюджетом для Вас не проблема?   Что мы от Вас ожидаем:     У в...   \n",
       "\n",
       "   experience_from  salary_from  log_salary_from  \n",
       "0              1.0         60.0         4.094345  \n",
       "1              6.0        200.0         5.298317  \n",
       "2              1.0        130.0         4.867534  \n",
       "3              3.0        170.0         5.135798  \n",
       "4              3.0        200.0         5.298317  "
      ]
     },
     "execution_count": 5,
     "metadata": {},
     "output_type": "execute_result"
    }
   ],
   "source": [
    "# df_train = pd.read_csv(\"./train.csv\")\n",
    "# .sample(60, random_state=RANDOM_SEED)\n",
    "df_train = pd.read_csv(\"/kaggle/working/train.csv\")\n",
    "# df_train = df_train.drop(columns=[\"company\", \"salary_from\"])\n",
    "\n",
    "df_train.head()"
   ]
  },
  {
   "cell_type": "code",
   "execution_count": 7,
   "id": "02a47cdf",
   "metadata": {},
   "outputs": [
    {
     "data": {
      "text/plain": [
       "305"
      ]
     },
     "execution_count": 7,
     "metadata": {},
     "output_type": "execute_result"
    }
   ],
   "source": [
    "df_train[(df_train[\"salary_from\"] < 100) & (df_train[\"salary_from\"] >= 50)][\"salary_from\"].nunique()"
   ]
  },
  {
   "cell_type": "markdown",
   "id": "a7de6ceb",
   "metadata": {},
   "source": [
    "## Предобработка данных"
   ]
  },
  {
   "cell_type": "code",
   "execution_count": null,
   "id": "394eb759",
   "metadata": {},
   "outputs": [
    {
     "name": "stderr",
     "output_type": "stream",
     "text": [
      "[nltk_data] Downloading package stopwords to /usr/share/nltk_data...\n",
      "[nltk_data]   Package stopwords is already up-to-date!\n",
      "[nltk_data] Downloading package punkt to /usr/share/nltk_data...\n",
      "[nltk_data]   Package punkt is already up-to-date!\n"
     ]
    }
   ],
   "source": [
    "nltk.download(\"stopwords\")\n",
    "nltk.download(\"punkt\")\n",
    "stop_words = set(stopwords.words(\"russian\")) "
   ]
  },
  {
   "cell_type": "code",
   "execution_count": null,
   "id": "d07c701d",
   "metadata": {},
   "outputs": [],
   "source": [
    "def clean_text(text):\n",
    "    text = re.sub(r'\\\\x[0-9A-Fa-f]{2}', '', text)\n",
    "    text = re.sub(r'<.*?>', '', text)\n",
    "    text = re.sub(r'http\\S+|www\\S+', '', text)\n",
    "    text = re.sub(r'\\s+', ' ', text).strip()\n",
    "    text = re.sub(r'[^\\w\\s]', '', text)\n",
    "    words = word_tokenize(text.lower())\n",
    "    filtered_words = [word for word in words if word not in stop_words]\n",
    "    return ' '.join(filtered_words)\n",
    "\n",
    "df_train[\"clean_description\"] = df_train[\"description\"].apply(clean_text)\n",
    "df_train[\"location\"] = df_train[\"location\"].apply(lambda x: re.sub(r\"\\(+.*?\\)+\", \"\", x).strip())\n",
    "df_train[\"title\"] = df_train[\"title\"].apply(lambda x: re.sub(r\"\\(+.*?\\)+\", \"\", x).strip())"
   ]
  },
  {
   "cell_type": "code",
   "execution_count": null,
   "id": "b580d88b",
   "metadata": {},
   "outputs": [
    {
     "data": {
      "application/vnd.jupyter.widget-view+json": {
       "model_id": "85e581a9467a48d99ccf9185b46b2781",
       "version_major": 2,
       "version_minor": 0
      },
      "text/plain": [
       "tokenizer_config.json:   0%|          | 0.00/401 [00:00<?, ?B/s]"
      ]
     },
     "metadata": {},
     "output_type": "display_data"
    },
    {
     "data": {
      "application/vnd.jupyter.widget-view+json": {
       "model_id": "c2a6905fce1a4ea3bd361b526f78be35",
       "version_major": 2,
       "version_minor": 0
      },
      "text/plain": [
       "vocab.txt: 0.00B [00:00, ?B/s]"
      ]
     },
     "metadata": {},
     "output_type": "display_data"
    },
    {
     "data": {
      "application/vnd.jupyter.widget-view+json": {
       "model_id": "e366bb45b1f444e58e887974af667adb",
       "version_major": 2,
       "version_minor": 0
      },
      "text/plain": [
       "tokenizer.json: 0.00B [00:00, ?B/s]"
      ]
     },
     "metadata": {},
     "output_type": "display_data"
    },
    {
     "data": {
      "application/vnd.jupyter.widget-view+json": {
       "model_id": "3692ebcf8dee477bb088a88230b414d1",
       "version_major": 2,
       "version_minor": 0
      },
      "text/plain": [
       "special_tokens_map.json:   0%|          | 0.00/112 [00:00<?, ?B/s]"
      ]
     },
     "metadata": {},
     "output_type": "display_data"
    },
    {
     "name": "stdout",
     "output_type": "stream",
     "text": [
      "Статистика по количеству токенов:\n",
      "Mean: 218.15\n",
      "Median: 202.00\n",
      "Min: 18.00\n",
      "Max: 1141.00\n",
      "Std: 107.77\n"
     ]
    },
    {
     "data": {
      "image/png": "[encoded data removed]",
      "text/plain": [
       "<Figure size 1000x600 with 1 Axes>"
      ]
     },
     "metadata": {},
     "output_type": "display_data"
    }
   ],
   "source": [
    "tokenizer = AutoTokenizer.from_pretrained(\"cointegrated/rubert-tiny2\")\n",
    "token_counts = df_train[\"clean_description\"].apply(lambda x: len(tokenizer.tokenize(x)))\n",
    "\n",
    "stats = {\n",
    "    \"mean\": token_counts.mean(),\n",
    "    \"median\": token_counts.median(),\n",
    "    \"min\": token_counts.min(),\n",
    "    \"max\": token_counts.max(),\n",
    "    \"std\": token_counts.std()\n",
    "}\n",
    "\n",
    "print(\"Статистика по количеству токенов:\")\n",
    "for key, value in stats.items():\n",
    "    print(f\"{key.capitalize()}: {value:.2f}\")\n",
    "\n",
    "# Построение гистограммы для подсчета токенов в текстах\n",
    "plt.figure(figsize=(10, 6))\n",
    "plt.hist(token_counts, bins=50, color=\"skyblue\", edgecolor=\"black\")\n",
    "plt.title(\"Распределение количества токенов в текстах\")\n",
    "plt.xlabel(\"Количество токенов\")\n",
    "plt.ylabel(\"Частота\")\n",
    "plt.grid(axis=\"y\", linestyle=\"--\", alpha=0.7)\n",
    "plt.show()"
   ]
  },
  {
   "cell_type": "code",
   "execution_count": null,
   "id": "508b0c98",
   "metadata": {},
   "outputs": [],
   "source": [
    "num_bins = 4  # Количество бинов для стратифицированное деления датасета\n",
    "df_train[\"bucket_target\"] = pd.qcut(df_train[\"log_salary_from\"], q=num_bins, labels=False)"
   ]
  },
  {
   "cell_type": "markdown",
   "id": "8c87ba61",
   "metadata": {},
   "source": [
    "### Получение эмбеддингов для скиллов (делалось уже после первой модели)"
   ]
  },
  {
   "cell_type": "code",
   "execution_count": null,
   "id": "5fb9656c",
   "metadata": {},
   "outputs": [
    {
     "data": {
      "application/vnd.jupyter.widget-view+json": {
       "model_id": "a0fa9490e36749a988f98c974608e30a",
       "version_major": 2,
       "version_minor": 0
      },
      "text/plain": [
       "config.json:   0%|          | 0.00/872 [00:00<?, ?B/s]"
      ]
     },
     "metadata": {},
     "output_type": "display_data"
    },
    {
     "data": {
      "application/vnd.jupyter.widget-view+json": {
       "model_id": "f4e56e3af93043d997bda33de5478604",
       "version_major": 2,
       "version_minor": 0
      },
      "text/plain": [
       "pytorch_model.bin:   0%|          | 0.00/977M [00:00<?, ?B/s]"
      ]
     },
     "metadata": {},
     "output_type": "display_data"
    },
    {
     "data": {
      "application/vnd.jupyter.widget-view+json": {
       "model_id": "3757b88137dd4a62bdeea094f6227ff7",
       "version_major": 2,
       "version_minor": 0
      },
      "text/plain": [
       "model.safetensors:   0%|          | 0.00/977M [00:00<?, ?B/s]"
      ]
     },
     "metadata": {},
     "output_type": "display_data"
    },
    {
     "data": {
      "application/vnd.jupyter.widget-view+json": {
       "model_id": "51265508d93f4dfeb3986bc51abf58c6",
       "version_major": 2,
       "version_minor": 0
      },
      "text/plain": [
       "tokenizer_config.json:   0%|          | 0.00/329 [00:00<?, ?B/s]"
      ]
     },
     "metadata": {},
     "output_type": "display_data"
    },
    {
     "data": {
      "application/vnd.jupyter.widget-view+json": {
       "model_id": "ed1940570b2146d5828efe00743bae28",
       "version_major": 2,
       "version_minor": 0
      },
      "text/plain": [
       "spiece.model:   0%|          | 0.00/828k [00:00<?, ?B/s]"
      ]
     },
     "metadata": {},
     "output_type": "display_data"
    },
    {
     "data": {
      "application/vnd.jupyter.widget-view+json": {
       "model_id": "7d3ad86945ff412d8f27c4ea00c9fbb5",
       "version_major": 2,
       "version_minor": 0
      },
      "text/plain": [
       "special_tokens_map.json:   0%|          | 0.00/74.0 [00:00<?, ?B/s]"
      ]
     },
     "metadata": {},
     "output_type": "display_data"
    }
   ],
   "source": [
    "import torch\n",
    "from transformers import T5EncoderModel, T5Tokenizer\n",
    "\n",
    "MODEL_NAME = 'basil-77/rut5-base-absum-hh'\n",
    "model_t5 = T5EncoderModel.from_pretrained(MODEL_NAME)\n",
    "tokenizer_t5 = T5Tokenizer.from_pretrained(MODEL_NAME)"
   ]
  },
  {
   "cell_type": "code",
   "execution_count": null,
   "id": "b69aa509",
   "metadata": {},
   "outputs": [
    {
     "name": "stderr",
     "output_type": "stream",
     "text": [
      "Computing embeddings: 100%|██████████| 261/261 [01:08<00:00,  3.79it/s]\n"
     ]
    }
   ],
   "source": [
    "class SkillsDataset(Dataset):\n",
    "    def __init__(self, df, tokenizer, max_length=512):\n",
    "        self.skills = df[\"skills\"].fillna(\"\").tolist()\n",
    "        self.tokenizer = tokenizer\n",
    "        self.max_length = max_length\n",
    "\n",
    "    def __len__(self):\n",
    "        return len(self.skills)\n",
    "\n",
    "    def __getitem__(self, idx):\n",
    "        text = self.skills[idx]\n",
    "        tokens = self.tokenizer(\n",
    "            text,\n",
    "            truncation=True,\n",
    "            max_length=self.max_length,\n",
    "            padding=\"max_length\",\n",
    "            return_tensors=\"pt\"\n",
    "        )\n",
    "        return {\n",
    "            \"input_ids\": tokens[\"input_ids\"].squeeze(0),\n",
    "            \"attention_mask\": tokens[\"attention_mask\"].squeeze(0)\n",
    "        }\n",
    "\n",
    "def compute_embeddings_with_dataloader(df, tokenizer, model, device, batch_size=64, max_length=512):\n",
    "    dataset = SkillsDataset(df, tokenizer, max_length)\n",
    "    dataloader = DataLoader(dataset, batch_size=batch_size, shuffle=False)\n",
    "\n",
    "    embeddings = []\n",
    "    model.to(device)\n",
    "    model.eval()\n",
    "    with torch.no_grad():\n",
    "        for batch in tqdm(dataloader, desc=\"Computing embeddings\"):\n",
    "            input_ids = batch[\"input_ids\"].to(device)\n",
    "            attention_mask = batch[\"attention_mask\"].to(device)\n",
    "\n",
    "            # Получение эмбеддингов\n",
    "            outputs = model(input_ids=input_ids, attention_mask=attention_mask)\n",
    "            batch_embeddings = outputs.last_hidden_state.max(dim=1).values.cpu().numpy()\n",
    "            embeddings.append(batch_embeddings)\n",
    "\n",
    "    return np.vstack(embeddings)\n",
    "\n",
    "embeddings = compute_embeddings_with_dataloader(\n",
    "    df_train,\n",
    "    tokenizer_t5,\n",
    "    model_t5,\n",
    "    device,\n",
    "    batch_size=64,\n",
    "    max_length=128\n",
    ")"
   ]
  },
  {
   "cell_type": "code",
   "execution_count": 25,
   "id": "01bb39d6",
   "metadata": {},
   "outputs": [],
   "source": [
    "np.save(\"skills_embeddings.npy\", embeddings)"
   ]
  },
  {
   "cell_type": "code",
   "execution_count": 9,
   "id": "cf058524",
   "metadata": {},
   "outputs": [],
   "source": [
    "embeddings_skills = np.load(\"skills_embeddings.npy\")\n",
    "\n",
    "df_train[\"embeddings_skills\"] = list(embeddings_skills)"
   ]
  },
  {
   "cell_type": "code",
   "execution_count": 10,
   "id": "ee0260b2",
   "metadata": {},
   "outputs": [],
   "source": [
    "df_train[\"skills_str\"] = df_train[\"skills\"].fillna(\"\").apply(lambda x: \", \".join(x.split(\",\")))\n",
    "\n",
    "# Разделение данных на train/val\n",
    "train_df, val_df = train_test_split(df_train, test_size=0.2, random_state=64, stratify=df_train[\"bucket_target\"])\n",
    "train_df = train_df.reset_index(drop=True)\n",
    "val_df = val_df.reset_index(drop=True)"
   ]
  },
  {
   "cell_type": "code",
   "execution_count": null,
   "id": "c20ebca3",
   "metadata": {},
   "outputs": [],
   "source": [
    "# Обучение TfidfVectorizer на train\n",
    "tfidf = TfidfVectorizer(min_df=1, token_pattern=r\"[^,]+\")\n",
    "skills_tfidf_train = tfidf.fit_transform(train_df[\"skills_str\"])\n",
    "\n",
    "# Применение TfidfVectorizer к val\n",
    "skills_tfidf_val = tfidf.transform(val_df[\"skills_str\"])\n",
    "\n",
    "# Преобразование в DataFrame\n",
    "skills_tfidf_train_df = pd.DataFrame(skills_tfidf_train.toarray(), columns=tfidf.get_feature_names_out())\n",
    "skills_tfidf_val_df = pd.DataFrame(skills_tfidf_val.toarray(), columns=tfidf.get_feature_names_out())\n",
    "\n",
    "# Добавление TF-IDF признаков\n",
    "train_df = pd.concat([train_df, skills_tfidf_train_df], axis=1)\n",
    "val_df = pd.concat([val_df, skills_tfidf_val_df], axis=1)"
   ]
  },
  {
   "cell_type": "code",
   "execution_count": null,
   "id": "69428f03",
   "metadata": {},
   "outputs": [],
   "source": [
    "label_encoder_location = OrdinalEncoder(handle_unknown=\"use_encoded_value\", unknown_value=-1)\n",
    "train_df[\"location_encoded\"] = label_encoder_location.fit_transform(train_df[[\"location\"]])\n",
    "\n",
    "val_df[\"location_encoded\"] = label_encoder_location.transform(val_df[[\"location\"]])\n",
    "\n",
    "label_encoder_company = OrdinalEncoder(handle_unknown=\"use_encoded_value\", unknown_value=-1)\n",
    "\n",
    "train_df[\"company_encoded\"] = label_encoder_company.fit_transform(train_df[[\"company\"]])\n",
    "val_df[\"company_encoded\"] = label_encoder_company.transform(val_df[[\"company\"]])\n",
    "\n",
    "train_df = train_df.fillna(-1)\n",
    "val_df = val_df.fillna(-1)"
   ]
  },
  {
   "cell_type": "markdown",
   "id": "99e07054",
   "metadata": {},
   "source": [
    "# Baseline end2end model (transformer + dnn)"
   ]
  },
  {
   "cell_type": "code",
   "execution_count": null,
   "id": "2b068cb5",
   "metadata": {},
   "outputs": [],
   "source": [
    "class SalaryDataset(Dataset):\n",
    "    def __init__(self, df, tokenizer, max_length=512, columns_features=None):\n",
    "        features = [\"title\", \"clean_description\", \"embeddings_skills\"]\n",
    "        if \"log_salary_from\" in df.columns:\n",
    "            features.append(\"log_salary_from\")\n",
    "            features.append(\"bucket_target\")\n",
    "\n",
    "        self.df = df[features + (columns_features if columns_features is not None else [])]\n",
    "        self.tokenizer = tokenizer\n",
    "        self.max_length = max_length\n",
    "        self.columns_features = columns_features\n",
    "\n",
    "    def __len__(self):\n",
    "        return len(self.df)\n",
    "\n",
    "    def __getitem__(self, idx):\n",
    "        row = self.df.iloc[idx]\n",
    "        \n",
    "        text = f\"{row['title']} [SEP] {row['clean_description']}\"\n",
    "        \n",
    "        tokens = self.tokenizer(\n",
    "            text,\n",
    "            truncation=True,\n",
    "            max_length=self.max_length,\n",
    "            padding=\"max_length\",\n",
    "            return_tensors=\"pt\"\n",
    "        )\n",
    "\n",
    "        input_ids = tokens[\"input_ids\"].squeeze(0)\n",
    "        attention_mask = tokens[\"attention_mask\"].squeeze(0)\n",
    "\n",
    "        additional_features = torch.tensor(row[self.columns_features].values.astype(float), dtype=torch.float)\n",
    "\n",
    "        \n",
    "        data = {\n",
    "            \"input_ids\": input_ids,          \n",
    "            \"attention_mask\": attention_mask,\n",
    "            \"features\": additional_features,\n",
    "            \"embeddings_skills\": torch.tensor(row[\"embeddings_skills\"].astype(float), dtype=torch.float32)\n",
    "        }\n",
    "        \n",
    "        # Целевая переменная\n",
    "        if \"log_salary_from\" in self.df.columns:\n",
    "            target = row[\"log_salary_from\"]\n",
    "            target_bucket = row[\"bucket_target\"]\n",
    "\n",
    "            data[\"target\"] = torch.tensor(target, dtype=torch.float)\n",
    "            data[\"bucket_target\"] = torch.tensor(target_bucket, dtype=torch.long)\n",
    "\n",
    "        \n",
    "        return data"
   ]
  },
  {
   "cell_type": "code",
   "execution_count": null,
   "id": "b236a125",
   "metadata": {},
   "outputs": [],
   "source": [
    "class SalaryModel(pl.LightningModule):\n",
    "    def __init__(self, num_features, vocab_size, num_bins, embedding_dim=128, hidden_dim=256, num_heads=8, num_layers=4, max_length=512, dropout=0.3, embeddings_skills_dim: int = 0):\n",
    "        super(SalaryModel, self).__init__()\n",
    "        self.save_hyperparameters()\n",
    "        self.validation_step_outputs = defaultdict(list)\n",
    "\n",
    "        # Эмбеддинги для токенов\n",
    "        self.token_embedding = nn.Embedding(vocab_size, embedding_dim, padding_idx=0)\n",
    "\n",
    "        # Позиционные эмбеддинги\n",
    "        self.positional_encoding = self._generate_positional_encoding(max_length, embedding_dim)\n",
    "        self.dropout = nn.Dropout(dropout)\n",
    "\n",
    "        encoder_layer = nn.TransformerEncoderLayer(\n",
    "            d_model=embedding_dim,\n",
    "            nhead=num_heads,\n",
    "            dim_feedforward=hidden_dim * 4,\n",
    "            dropout=dropout,\n",
    "            activation='gelu',\n",
    "            batch_first=True,\n",
    "            norm_first=False\n",
    "        )\n",
    "        self.transformer = nn.TransformerEncoder(encoder_layer, num_layers)\n",
    "\n",
    "        # Attention Pooling\n",
    "        self.attention_weights = nn.Linear(embedding_dim, 1)\n",
    "\n",
    "        self.shared_fc = nn.Sequential(\n",
    "            nn.Dropout(dropout),\n",
    "            nn.GELU(),\n",
    "            nn.Linear(embedding_dim + num_features + embeddings_skills_dim, 256),\n",
    "            nn.GELU(),\n",
    "            nn.Linear(256, 128),\n",
    "            nn.GELU(),\n",
    "        )\n",
    "\n",
    "        self.regression_head = nn.Sequential(\n",
    "            nn.Linear(128, 64),\n",
    "            nn.ReLU(),\n",
    "            nn.Linear(64, 1)\n",
    "        )\n",
    "\n",
    "        self.cls_head = nn.Sequential(\n",
    "            nn.Linear(128, 64),\n",
    "            nn.ReLU(),\n",
    "            nn.Linear(64, num_bins)\n",
    "        )\n",
    "\n",
    "        self.final_norm = nn.LayerNorm(embedding_dim)\n",
    "\n",
    "        self.regression_loss = nn.SmoothL1Loss()\n",
    "        self.classification_loss = nn.CrossEntropyLoss()\n",
    "\n",
    "    def _generate_positional_encoding(self, max_len, d_model):\n",
    "        pe = torch.zeros(max_len, d_model)\n",
    "        position = torch.arange(0, max_len, dtype=torch.float).unsqueeze(1)\n",
    "        div_term = torch.exp(torch.arange(0, d_model, 2).float() * (-torch.log(torch.tensor(10000.0)) / d_model))\n",
    "        pe[:, 0::2] = torch.sin(position * div_term)\n",
    "        pe[:, 1::2] = torch.cos(position * div_term)\n",
    "        return nn.Parameter(pe.unsqueeze(0), requires_grad=True)\n",
    "\n",
    "    def forward(self, input_ids, attention_mask, additional_features, embeddings_skills):\n",
    "        embedded = self.token_embedding(input_ids)\n",
    "        seq_len = embedded.size(1)\n",
    "        embedded = embedded + self.positional_encoding[:, :seq_len, :].to(embedded.device)\n",
    "        embedded = self.dropout(embedded)\n",
    "\n",
    "        transformer_output = self.transformer(embedded, src_key_padding_mask=~attention_mask.bool())\n",
    "        transformer_output = transformer_output + embedded\n",
    "\n",
    "        attention_scores = self.attention_weights(transformer_output).squeeze(-1)\n",
    "        attention_scores = attention_scores.masked_fill(~attention_mask.bool(), float('-inf'))\n",
    "        attention_weights = torch.softmax(attention_scores, dim=1)\n",
    "        pooled_output = torch.sum(transformer_output * attention_weights.unsqueeze(-1), dim=1)\n",
    "\n",
    "        combined_features = torch.cat([self.final_norm(pooled_output), additional_features, embeddings_skills], dim=1)\n",
    "\n",
    "        shared_features = self.shared_fc(combined_features)\n",
    "\n",
    "        regression_output = self.regression_head(shared_features)\n",
    "        classification_output = self.cls_head(shared_features)\n",
    "\n",
    "        return regression_output.squeeze(), classification_output.squeeze()\n",
    "\n",
    "    def training_step(self, batch, batch_idx):\n",
    "        input_ids = batch[\"input_ids\"]\n",
    "        attention_mask = batch[\"attention_mask\"]\n",
    "        features = batch[\"features\"]\n",
    "        embeddings_skills = batch[\"embeddings_skills\"]\n",
    "\n",
    "        cls_target = batch[\"bucket_target\"]\n",
    "        regression_target = batch[\"target\"]\n",
    "\n",
    "        regression_output, classification_output = self(input_ids, attention_mask, features, embeddings_skills)\n",
    "        \n",
    "        regression_loss = self.regression_loss(regression_output, regression_target)\n",
    "        classification_loss = self.classification_loss(classification_output, cls_target)\n",
    "\n",
    "        total_loss = 0.7 * regression_loss + 0.3 * classification_loss\n",
    "\n",
    "        self.log(\"train_regression_loss\", regression_loss, prog_bar=True)\n",
    "        self.log(\"train_classification_loss\", classification_loss, prog_bar=True)\n",
    "        self.log(\"train_total_loss\", total_loss, prog_bar=True)\n",
    "\n",
    "        return total_loss\n",
    "\n",
    "    def validation_step(self, batch, batch_idx):\n",
    "        input_ids = batch[\"input_ids\"]\n",
    "        attention_mask = batch[\"attention_mask\"]\n",
    "        features = batch[\"features\"]\n",
    "        embeddings_skills = batch[\"embeddings_skills\"]\n",
    "        regression_target = batch[\"target\"]\n",
    "        classification_target = batch[\"bucket_target\"]\n",
    "\n",
    "        regression_output, classification_output = self(input_ids, attention_mask, features, embeddings_skills)\n",
    "\n",
    "        regression_loss = self.regression_loss(regression_output, regression_target)\n",
    "        classification_loss = self.classification_loss(classification_output, classification_target)\n",
    "\n",
    "        total_loss = regression_loss + classification_loss\n",
    "\n",
    "        self.log(\"val_regression_loss\", regression_loss, prog_bar=True)\n",
    "        self.log(\"val_classification_loss\", classification_loss, prog_bar=True)\n",
    "        self.log(\"val_total_loss\", total_loss, prog_bar=True)\n",
    "\n",
    "        self.validation_step_outputs[\"regression_preds\"].append(regression_output)\n",
    "        self.validation_step_outputs[\"regression_target\"].append(regression_target)\n",
    "        self.validation_step_outputs[\"classification_preds\"].append(classification_output)\n",
    "        self.validation_step_outputs[\"classification_target\"].append(classification_target)\n",
    "\n",
    "        return total_loss\n",
    "\n",
    "    def on_validation_epoch_end(self) -> None:\n",
    "        all_preds = torch.cat(self.validation_step_outputs[\"regression_preds\"]).cpu().numpy()\n",
    "        all_targets = torch.cat(self.validation_step_outputs[\"regression_target\"]).cpu().numpy()\n",
    "        r2 = r2_score(all_targets, all_preds)\n",
    "        self.log(\"val_r2\", r2, prog_bar=True)\n",
    "\n",
    "        all_classification_preds = torch.cat(self.validation_step_outputs[\"classification_preds\"]).argmax(dim=1).cpu().numpy()\n",
    "        all_classification_targets = torch.cat(self.validation_step_outputs[\"classification_target\"]).cpu().numpy()\n",
    "        classification_f1 = f1_score(all_classification_targets, all_classification_preds, average=\"macro\")\n",
    "        self.log(\"val_f1\", classification_f1, prog_bar=True) # type: ignore\n",
    "\n",
    "        self.validation_step_outputs.clear()\n",
    "\n",
    "    def configure_optimizers(self):\n",
    "        optimizer = optim.AdamW(self.parameters(), lr=3e-5, weight_decay=1e-4)\n",
    "        scheduler = optim.lr_scheduler.OneCycleLR(\n",
    "            optimizer,\n",
    "            max_lr=1e-3,\n",
    "            total_steps=self.trainer.estimated_stepping_batches, # type: ignore\n",
    "            pct_start=0.3,\n",
    "            anneal_strategy=\"linear\",\n",
    "            final_div_factor=10\n",
    "        )\n",
    "        return [optimizer], [scheduler]\n",
    "    \n",
    "    def on_train_start(self):\n",
    "        trainable_params = sum(p.numel() for p in self.parameters() if p.requires_grad)\n",
    "        total_params = sum(p.numel() for p in self.parameters())\n",
    "\n",
    "        print(f\"Trainable parameters: {trainable_params:,}\")\n",
    "        print(f\"Total parameters: {total_params:,}\")\n",
    "        print(f\"Percentage trainable: {100 * trainable_params / total_params:.2f}%\")"
   ]
  },
  {
   "cell_type": "code",
   "execution_count": 29,
   "id": "6a07a286",
   "metadata": {},
   "outputs": [],
   "source": [
    "assert df_train.shape[0] == train_df.shape[0] + val_df.shape[0]"
   ]
  },
  {
   "cell_type": "code",
   "execution_count": 30,
   "id": "b9a32847",
   "metadata": {},
   "outputs": [],
   "source": [
    "num_features = [\"company_encoded\", \"location_encoded\", \"experience_from\"]"
   ]
  },
  {
   "cell_type": "code",
   "execution_count": 31,
   "id": "68e8ed70",
   "metadata": {},
   "outputs": [],
   "source": [
    "tokenizer = AutoTokenizer.from_pretrained(\"cointegrated/rubert-tiny2\")\n",
    "\n",
    "train_dataset = SalaryDataset(train_df, tokenizer, max_length=1024, columns_features=num_features)\n",
    "val_dataset = SalaryDataset(val_df, tokenizer, max_length=1024, columns_features=num_features)\n",
    "\n",
    "train_loader = DataLoader(train_dataset, batch_size=32, shuffle=True)\n",
    "val_loader = DataLoader(val_dataset, batch_size=64, shuffle=False)"
   ]
  },
  {
   "cell_type": "markdown",
   "id": "a1eaa782",
   "metadata": {},
   "source": [
    "## Обучение модели"
   ]
  },
  {
   "cell_type": "code",
   "execution_count": 21,
   "id": "22f75aaa",
   "metadata": {},
   "outputs": [
    {
     "name": "stdout",
     "output_type": "stream",
     "text": [
      "ClearML Task: created new task id=9a1995884cf84e9abe8ed2cb781ef47d\n",
      "2025-07-24 09:51:28,652 - clearml.Task - INFO - Storing jupyter notebook directly as code\n",
      "ClearML results page: https://app.clear.ml/projects/8870d7f669ca45988ef171246b781921/experiments/9a1995884cf84e9abe8ed2cb781ef47d/output/log\n"
     ]
    }
   ],
   "source": [
    "task = Task.init(\n",
    "    project_name=\"Competitions/teta_nn_1_2025_predict_salary\",\n",
    "    task_name=\"Training baseline end-to-end model v1.3\",\n",
    "    task_type=TaskTypes.training,\n",
    "    tags=[\"training\", \"transformer\", \"end2end\"],\n",
    "    auto_connect_frameworks={\"pytorch\": True},\n",
    "    output_uri=True,\n",
    ")"
   ]
  },
  {
   "cell_type": "code",
   "execution_count": 32,
   "id": "92aad3d9",
   "metadata": {},
   "outputs": [
    {
     "name": "stderr",
     "output_type": "stream",
     "text": [
      "/usr/local/lib/python3.10/dist-packages/pytorch_lightning/trainer/connectors/data_connector.py:425: PossibleUserWarning:\n",
      "\n",
      "The 'train_dataloader' does not have many workers which may be a bottleneck. Consider increasing the value of the `num_workers` argument` to `num_workers=3` in the `DataLoader` to improve performance.\n",
      "\n"
     ]
    },
    {
     "data": {
      "application/vnd.jupyter.widget-view+json": {
       "model_id": "926003ec098049abac91555be2f84ce7",
       "version_major": 2,
       "version_minor": 0
      },
      "text/plain": [
       "Sanity Checking: |          | 0/? [00:00<?, ?it/s]"
      ]
     },
     "metadata": {},
     "output_type": "display_data"
    },
    {
     "name": "stderr",
     "output_type": "stream",
     "text": [
      "/usr/local/lib/python3.10/dist-packages/pytorch_lightning/trainer/connectors/data_connector.py:425: PossibleUserWarning:\n",
      "\n",
      "The 'val_dataloader' does not have many workers which may be a bottleneck. Consider increasing the value of the `num_workers` argument` to `num_workers=3` in the `DataLoader` to improve performance.\n",
      "\n"
     ]
    },
    {
     "data": {
      "application/vnd.jupyter.widget-view+json": {
       "model_id": "5b28731683944d44ae76460d66dc421c",
       "version_major": 2,
       "version_minor": 0
      },
      "text/plain": [
       "Training: |          | 0/? [00:00<?, ?it/s]"
      ]
     },
     "metadata": {},
     "output_type": "display_data"
    },
    {
     "name": "stdout",
     "output_type": "stream",
     "text": [
      "Trainable parameters: 69,043,270\n",
      "Total parameters: 69,043,270\n",
      "Percentage trainable: 100.00%\n"
     ]
    },
    {
     "data": {
      "application/vnd.jupyter.widget-view+json": {
       "model_id": "db76cc14e22a48f6a26abc29d0a20ca1",
       "version_major": 2,
       "version_minor": 0
      },
      "text/plain": [
       "Validation: |          | 0/? [00:00<?, ?it/s]"
      ]
     },
     "metadata": {},
     "output_type": "display_data"
    },
    {
     "data": {
      "application/vnd.jupyter.widget-view+json": {
       "model_id": "6c6d9839ec1d418fba28f43b3e7c75eb",
       "version_major": 2,
       "version_minor": 0
      },
      "text/plain": [
       "Validation: |          | 0/? [00:00<?, ?it/s]"
      ]
     },
     "metadata": {},
     "output_type": "display_data"
    },
    {
     "name": "stdout",
     "output_type": "stream",
     "text": [
      "2025-07-24 10:33:19,610 - clearml.storage - INFO - Uploading: 790.27MB from /tmp/.clearml.upload_model_st82haob.tmp\n"
     ]
    },
    {
     "name": "stderr",
     "output_type": "stream",
     "text": [
      "█████████████████████████████ 100% | 790.27/790.27 MB [01:03<00:00, 12.36MB/s]: "
     ]
    },
    {
     "name": "stdout",
     "output_type": "stream",
     "text": [
      "2025-07-24 10:34:23,578 - clearml.Task - INFO - Completed model upload to https://files.clear.ml/Competitions/teta_nn_1_2025_predict_salary/Training%20baseline%20end-to-end%20model%20v1.3.9a1995884cf84e9abe8ed2cb781ef47d/models/salary_prediction_v1.0-epoch%3D01-val_loss%3D0.00-val_r2%3D-8.4071.ckpt\n"
     ]
    },
    {
     "name": "stderr",
     "output_type": "stream",
     "text": [
      "\n"
     ]
    },
    {
     "data": {
      "application/vnd.jupyter.widget-view+json": {
       "model_id": "68a78814b0cf448b8e01be418e32b132",
       "version_major": 2,
       "version_minor": 0
      },
      "text/plain": [
       "Validation: |          | 0/? [00:00<?, ?it/s]"
      ]
     },
     "metadata": {},
     "output_type": "display_data"
    },
    {
     "data": {
      "application/vnd.jupyter.widget-view+json": {
       "model_id": "e2b86015c2694574a4c7e2773c4bcc0b",
       "version_major": 2,
       "version_minor": 0
      },
      "text/plain": [
       "Validation: |          | 0/? [00:00<?, ?it/s]"
      ]
     },
     "metadata": {},
     "output_type": "display_data"
    },
    {
     "name": "stdout",
     "output_type": "stream",
     "text": [
      "2025-07-24 10:59:16,097 - clearml.storage - INFO - Uploading: 790.27MB from /tmp/.clearml.upload_model_8l2z5pox.tmp\n"
     ]
    },
    {
     "name": "stderr",
     "output_type": "stream",
     "text": [
      "█████████████████████████████ 100% | 790.27/790.27 MB [01:04<00:00, 12.19MB/s]: "
     ]
    },
    {
     "name": "stdout",
     "output_type": "stream",
     "text": [
      "2025-07-24 11:00:20,910 - clearml.Task - INFO - Completed model upload to https://files.clear.ml/Competitions/teta_nn_1_2025_predict_salary/Training%20baseline%20end-to-end%20model%20v1.3.9a1995884cf84e9abe8ed2cb781ef47d/models/salary_prediction_v1.0-epoch%3D03-val_loss%3D0.00-val_r2%3D-9.2063.ckpt\n"
     ]
    },
    {
     "name": "stderr",
     "output_type": "stream",
     "text": [
      "\n"
     ]
    },
    {
     "ename": "NameError",
     "evalue": "name 'exit' is not defined",
     "output_type": "error",
     "traceback": [
      "\u001b[0;31m---------------------------------------------------------------------------\u001b[0m",
      "\u001b[0;31mKeyboardInterrupt\u001b[0m                         Traceback (most recent call last)",
      "\u001b[0;32m/usr/local/lib/python3.10/dist-packages/pytorch_lightning/trainer/call.py\u001b[0m in \u001b[0;36m_call_and_handle_interrupt\u001b[0;34m(trainer, trainer_fn, *args, **kwargs)\u001b[0m\n\u001b[1;32m     46\u001b[0m             \u001b[0;32mreturn\u001b[0m \u001b[0mtrainer\u001b[0m\u001b[0;34m.\u001b[0m\u001b[0mstrategy\u001b[0m\u001b[0;34m.\u001b[0m\u001b[0mlauncher\u001b[0m\u001b[0;34m.\u001b[0m\u001b[0mlaunch\u001b[0m\u001b[0;34m(\u001b[0m\u001b[0mtrainer_fn\u001b[0m\u001b[0;34m,\u001b[0m \u001b[0;34m*\u001b[0m\u001b[0margs\u001b[0m\u001b[0;34m,\u001b[0m \u001b[0mtrainer\u001b[0m\u001b[0;34m=\u001b[0m\u001b[0mtrainer\u001b[0m\u001b[0;34m,\u001b[0m \u001b[0;34m**\u001b[0m\u001b[0mkwargs\u001b[0m\u001b[0;34m)\u001b[0m\u001b[0;34m\u001b[0m\u001b[0;34m\u001b[0m\u001b[0m\n\u001b[0;32m---> 47\u001b[0;31m         \u001b[0;32mreturn\u001b[0m \u001b[0mtrainer_fn\u001b[0m\u001b[0;34m(\u001b[0m\u001b[0;34m*\u001b[0m\u001b[0margs\u001b[0m\u001b[0;34m,\u001b[0m \u001b[0;34m**\u001b[0m\u001b[0mkwargs\u001b[0m\u001b[0;34m)\u001b[0m\u001b[0;34m\u001b[0m\u001b[0;34m\u001b[0m\u001b[0m\n\u001b[0m\u001b[1;32m     48\u001b[0m \u001b[0;34m\u001b[0m\u001b[0m\n",
      "\u001b[0;32m/usr/local/lib/python3.10/dist-packages/pytorch_lightning/trainer/trainer.py\u001b[0m in \u001b[0;36m_fit_impl\u001b[0;34m(self, model, train_dataloaders, val_dataloaders, datamodule, ckpt_path)\u001b[0m\n\u001b[1;32m    574\u001b[0m         )\n\u001b[0;32m--> 575\u001b[0;31m         \u001b[0mself\u001b[0m\u001b[0;34m.\u001b[0m\u001b[0m_run\u001b[0m\u001b[0;34m(\u001b[0m\u001b[0mmodel\u001b[0m\u001b[0;34m,\u001b[0m \u001b[0mckpt_path\u001b[0m\u001b[0;34m=\u001b[0m\u001b[0mckpt_path\u001b[0m\u001b[0;34m)\u001b[0m\u001b[0;34m\u001b[0m\u001b[0;34m\u001b[0m\u001b[0m\n\u001b[0m\u001b[1;32m    576\u001b[0m \u001b[0;34m\u001b[0m\u001b[0m\n",
      "\u001b[0;32m/usr/local/lib/python3.10/dist-packages/pytorch_lightning/trainer/trainer.py\u001b[0m in \u001b[0;36m_run\u001b[0;34m(self, model, ckpt_path)\u001b[0m\n\u001b[1;32m    981\u001b[0m         \u001b[0;31m# ----------------------------\u001b[0m\u001b[0;34m\u001b[0m\u001b[0;34m\u001b[0m\u001b[0m\n\u001b[0;32m--> 982\u001b[0;31m         \u001b[0mresults\u001b[0m \u001b[0;34m=\u001b[0m \u001b[0mself\u001b[0m\u001b[0;34m.\u001b[0m\u001b[0m_run_stage\u001b[0m\u001b[0;34m(\u001b[0m\u001b[0;34m)\u001b[0m\u001b[0;34m\u001b[0m\u001b[0;34m\u001b[0m\u001b[0m\n\u001b[0m\u001b[1;32m    983\u001b[0m \u001b[0;34m\u001b[0m\u001b[0m\n",
      "\u001b[0;32m/usr/local/lib/python3.10/dist-packages/pytorch_lightning/trainer/trainer.py\u001b[0m in \u001b[0;36m_run_stage\u001b[0;34m(self)\u001b[0m\n\u001b[1;32m   1025\u001b[0m             \u001b[0;32mwith\u001b[0m \u001b[0mtorch\u001b[0m\u001b[0;34m.\u001b[0m\u001b[0mautograd\u001b[0m\u001b[0;34m.\u001b[0m\u001b[0mset_detect_anomaly\u001b[0m\u001b[0;34m(\u001b[0m\u001b[0mself\u001b[0m\u001b[0;34m.\u001b[0m\u001b[0m_detect_anomaly\u001b[0m\u001b[0;34m)\u001b[0m\u001b[0;34m:\u001b[0m\u001b[0;34m\u001b[0m\u001b[0;34m\u001b[0m\u001b[0m\n\u001b[0;32m-> 1026\u001b[0;31m                 \u001b[0mself\u001b[0m\u001b[0;34m.\u001b[0m\u001b[0mfit_loop\u001b[0m\u001b[0;34m.\u001b[0m\u001b[0mrun\u001b[0m\u001b[0;34m(\u001b[0m\u001b[0;34m)\u001b[0m\u001b[0;34m\u001b[0m\u001b[0;34m\u001b[0m\u001b[0m\n\u001b[0m\u001b[1;32m   1027\u001b[0m             \u001b[0;32mreturn\u001b[0m \u001b[0;32mNone\u001b[0m\u001b[0;34m\u001b[0m\u001b[0;34m\u001b[0m\u001b[0m\n",
      "\u001b[0;32m/usr/local/lib/python3.10/dist-packages/pytorch_lightning/loops/fit_loop.py\u001b[0m in \u001b[0;36mrun\u001b[0;34m(self)\u001b[0m\n\u001b[1;32m    215\u001b[0m                 \u001b[0mself\u001b[0m\u001b[0;34m.\u001b[0m\u001b[0mon_advance_start\u001b[0m\u001b[0;34m(\u001b[0m\u001b[0;34m)\u001b[0m\u001b[0;34m\u001b[0m\u001b[0;34m\u001b[0m\u001b[0m\n\u001b[0;32m--> 216\u001b[0;31m                 \u001b[0mself\u001b[0m\u001b[0;34m.\u001b[0m\u001b[0madvance\u001b[0m\u001b[0;34m(\u001b[0m\u001b[0;34m)\u001b[0m\u001b[0;34m\u001b[0m\u001b[0;34m\u001b[0m\u001b[0m\n\u001b[0m\u001b[1;32m    217\u001b[0m                 \u001b[0mself\u001b[0m\u001b[0;34m.\u001b[0m\u001b[0mon_advance_end\u001b[0m\u001b[0;34m(\u001b[0m\u001b[0;34m)\u001b[0m\u001b[0;34m\u001b[0m\u001b[0;34m\u001b[0m\u001b[0m\n",
      "\u001b[0;32m/usr/local/lib/python3.10/dist-packages/pytorch_lightning/loops/fit_loop.py\u001b[0m in \u001b[0;36madvance\u001b[0;34m(self)\u001b[0m\n\u001b[1;32m    454\u001b[0m             \u001b[0;32massert\u001b[0m \u001b[0mself\u001b[0m\u001b[0;34m.\u001b[0m\u001b[0m_data_fetcher\u001b[0m \u001b[0;32mis\u001b[0m \u001b[0;32mnot\u001b[0m \u001b[0;32mNone\u001b[0m\u001b[0;34m\u001b[0m\u001b[0;34m\u001b[0m\u001b[0m\n\u001b[0;32m--> 455\u001b[0;31m             \u001b[0mself\u001b[0m\u001b[0;34m.\u001b[0m\u001b[0mepoch_loop\u001b[0m\u001b[0;34m.\u001b[0m\u001b[0mrun\u001b[0m\u001b[0;34m(\u001b[0m\u001b[0mself\u001b[0m\u001b[0;34m.\u001b[0m\u001b[0m_data_fetcher\u001b[0m\u001b[0;34m)\u001b[0m\u001b[0;34m\u001b[0m\u001b[0;34m\u001b[0m\u001b[0m\n\u001b[0m\u001b[1;32m    456\u001b[0m \u001b[0;34m\u001b[0m\u001b[0m\n",
      "\u001b[0;32m/usr/local/lib/python3.10/dist-packages/pytorch_lightning/loops/training_epoch_loop.py\u001b[0m in \u001b[0;36mrun\u001b[0;34m(self, data_fetcher)\u001b[0m\n\u001b[1;32m    149\u001b[0m             \u001b[0;32mtry\u001b[0m\u001b[0;34m:\u001b[0m\u001b[0;34m\u001b[0m\u001b[0;34m\u001b[0m\u001b[0m\n\u001b[0;32m--> 150\u001b[0;31m                 \u001b[0mself\u001b[0m\u001b[0;34m.\u001b[0m\u001b[0madvance\u001b[0m\u001b[0;34m(\u001b[0m\u001b[0mdata_fetcher\u001b[0m\u001b[0;34m)\u001b[0m\u001b[0;34m\u001b[0m\u001b[0;34m\u001b[0m\u001b[0m\n\u001b[0m\u001b[1;32m    151\u001b[0m                 \u001b[0mself\u001b[0m\u001b[0;34m.\u001b[0m\u001b[0mon_advance_end\u001b[0m\u001b[0;34m(\u001b[0m\u001b[0mdata_fetcher\u001b[0m\u001b[0;34m)\u001b[0m\u001b[0;34m\u001b[0m\u001b[0;34m\u001b[0m\u001b[0m\n",
      "\u001b[0;32m/usr/local/lib/python3.10/dist-packages/pytorch_lightning/loops/training_epoch_loop.py\u001b[0m in \u001b[0;36madvance\u001b[0;34m(self, data_fetcher)\u001b[0m\n\u001b[1;32m    338\u001b[0m \u001b[0;34m\u001b[0m\u001b[0m\n\u001b[0;32m--> 339\u001b[0;31m         \u001b[0mcall\u001b[0m\u001b[0;34m.\u001b[0m\u001b[0m_call_callback_hooks\u001b[0m\u001b[0;34m(\u001b[0m\u001b[0mtrainer\u001b[0m\u001b[0;34m,\u001b[0m \u001b[0;34m\"on_train_batch_end\"\u001b[0m\u001b[0;34m,\u001b[0m \u001b[0mbatch_output\u001b[0m\u001b[0;34m,\u001b[0m \u001b[0mbatch\u001b[0m\u001b[0;34m,\u001b[0m \u001b[0mbatch_idx\u001b[0m\u001b[0;34m)\u001b[0m\u001b[0;34m\u001b[0m\u001b[0;34m\u001b[0m\u001b[0m\n\u001b[0m\u001b[1;32m    340\u001b[0m         \u001b[0mcall\u001b[0m\u001b[0;34m.\u001b[0m\u001b[0m_call_lightning_module_hook\u001b[0m\u001b[0;34m(\u001b[0m\u001b[0mtrainer\u001b[0m\u001b[0;34m,\u001b[0m \u001b[0;34m\"on_train_batch_end\"\u001b[0m\u001b[0;34m,\u001b[0m \u001b[0mbatch_output\u001b[0m\u001b[0;34m,\u001b[0m \u001b[0mbatch\u001b[0m\u001b[0;34m,\u001b[0m \u001b[0mbatch_idx\u001b[0m\u001b[0;34m)\u001b[0m\u001b[0;34m\u001b[0m\u001b[0;34m\u001b[0m\u001b[0m\n",
      "\u001b[0;32m/usr/local/lib/python3.10/dist-packages/pytorch_lightning/trainer/call.py\u001b[0m in \u001b[0;36m_call_callback_hooks\u001b[0;34m(trainer, hook_name, monitoring_callbacks, *args, **kwargs)\u001b[0m\n\u001b[1;32m    221\u001b[0m             \u001b[0;32mwith\u001b[0m \u001b[0mtrainer\u001b[0m\u001b[0;34m.\u001b[0m\u001b[0mprofiler\u001b[0m\u001b[0;34m.\u001b[0m\u001b[0mprofile\u001b[0m\u001b[0;34m(\u001b[0m\u001b[0;34mf\"[Callback]{callback.state_key}.{hook_name}\"\u001b[0m\u001b[0;34m)\u001b[0m\u001b[0;34m:\u001b[0m\u001b[0;34m\u001b[0m\u001b[0;34m\u001b[0m\u001b[0m\n\u001b[0;32m--> 222\u001b[0;31m                 \u001b[0mfn\u001b[0m\u001b[0;34m(\u001b[0m\u001b[0mtrainer\u001b[0m\u001b[0;34m,\u001b[0m \u001b[0mtrainer\u001b[0m\u001b[0;34m.\u001b[0m\u001b[0mlightning_module\u001b[0m\u001b[0;34m,\u001b[0m \u001b[0;34m*\u001b[0m\u001b[0margs\u001b[0m\u001b[0;34m,\u001b[0m \u001b[0;34m**\u001b[0m\u001b[0mkwargs\u001b[0m\u001b[0;34m)\u001b[0m\u001b[0;34m\u001b[0m\u001b[0;34m\u001b[0m\u001b[0m\n\u001b[0m\u001b[1;32m    223\u001b[0m \u001b[0;34m\u001b[0m\u001b[0m\n",
      "\u001b[0;32m/usr/local/lib/python3.10/dist-packages/pytorch_lightning/callbacks/progress/tqdm_progress.py\u001b[0m in \u001b[0;36mon_train_batch_end\u001b[0;34m(self, trainer, pl_module, outputs, batch, batch_idx)\u001b[0m\n\u001b[1;32m    278\u001b[0m             \u001b[0m_update_n\u001b[0m\u001b[0;34m(\u001b[0m\u001b[0mself\u001b[0m\u001b[0;34m.\u001b[0m\u001b[0mtrain_progress_bar\u001b[0m\u001b[0;34m,\u001b[0m \u001b[0mn\u001b[0m\u001b[0;34m)\u001b[0m\u001b[0;34m\u001b[0m\u001b[0;34m\u001b[0m\u001b[0m\n\u001b[0;32m--> 279\u001b[0;31m             \u001b[0mself\u001b[0m\u001b[0;34m.\u001b[0m\u001b[0mtrain_progress_bar\u001b[0m\u001b[0;34m.\u001b[0m\u001b[0mset_postfix\u001b[0m\u001b[0;34m(\u001b[0m\u001b[0mself\u001b[0m\u001b[0;34m.\u001b[0m\u001b[0mget_metrics\u001b[0m\u001b[0;34m(\u001b[0m\u001b[0mtrainer\u001b[0m\u001b[0;34m,\u001b[0m \u001b[0mpl_module\u001b[0m\u001b[0;34m)\u001b[0m\u001b[0;34m)\u001b[0m\u001b[0;34m\u001b[0m\u001b[0;34m\u001b[0m\u001b[0m\n\u001b[0m\u001b[1;32m    280\u001b[0m \u001b[0;34m\u001b[0m\u001b[0m\n",
      "\u001b[0;32m/usr/local/lib/python3.10/dist-packages/pytorch_lightning/callbacks/progress/progress_bar.py\u001b[0m in \u001b[0;36mget_metrics\u001b[0;34m(self, trainer, pl_module)\u001b[0m\n\u001b[1;32m    197\u001b[0m         \u001b[0mstandard_metrics\u001b[0m \u001b[0;34m=\u001b[0m \u001b[0mget_standard_metrics\u001b[0m\u001b[0;34m(\u001b[0m\u001b[0mtrainer\u001b[0m\u001b[0;34m)\u001b[0m\u001b[0;34m\u001b[0m\u001b[0;34m\u001b[0m\u001b[0m\n\u001b[0;32m--> 198\u001b[0;31m         \u001b[0mpbar_metrics\u001b[0m \u001b[0;34m=\u001b[0m \u001b[0mtrainer\u001b[0m\u001b[0;34m.\u001b[0m\u001b[0mprogress_bar_metrics\u001b[0m\u001b[0;34m\u001b[0m\u001b[0;34m\u001b[0m\u001b[0m\n\u001b[0m\u001b[1;32m    199\u001b[0m         \u001b[0mduplicates\u001b[0m \u001b[0;34m=\u001b[0m \u001b[0mlist\u001b[0m\u001b[0;34m(\u001b[0m\u001b[0mstandard_metrics\u001b[0m\u001b[0;34m.\u001b[0m\u001b[0mkeys\u001b[0m\u001b[0;34m(\u001b[0m\u001b[0;34m)\u001b[0m \u001b[0;34m&\u001b[0m \u001b[0mpbar_metrics\u001b[0m\u001b[0;34m.\u001b[0m\u001b[0mkeys\u001b[0m\u001b[0;34m(\u001b[0m\u001b[0;34m)\u001b[0m\u001b[0;34m)\u001b[0m\u001b[0;34m\u001b[0m\u001b[0;34m\u001b[0m\u001b[0m\n",
      "\u001b[0;32m/usr/local/lib/python3.10/dist-packages/pytorch_lightning/trainer/trainer.py\u001b[0m in \u001b[0;36mprogress_bar_metrics\u001b[0;34m(self)\u001b[0m\n\u001b[1;32m   1636\u001b[0m         \"\"\"\n\u001b[0;32m-> 1637\u001b[0;31m         \u001b[0;32mreturn\u001b[0m \u001b[0mself\u001b[0m\u001b[0;34m.\u001b[0m\u001b[0m_logger_connector\u001b[0m\u001b[0;34m.\u001b[0m\u001b[0mprogress_bar_metrics\u001b[0m\u001b[0;34m\u001b[0m\u001b[0;34m\u001b[0m\u001b[0m\n\u001b[0m\u001b[1;32m   1638\u001b[0m \u001b[0;34m\u001b[0m\u001b[0m\n",
      "\u001b[0;32m/usr/local/lib/python3.10/dist-packages/pytorch_lightning/trainer/connectors/logger_connector/logger_connector.py\u001b[0m in \u001b[0;36mprogress_bar_metrics\u001b[0;34m(self)\u001b[0m\n\u001b[1;32m    253\u001b[0m         \u001b[0;32mif\u001b[0m \u001b[0mself\u001b[0m\u001b[0;34m.\u001b[0m\u001b[0mtrainer\u001b[0m\u001b[0;34m.\u001b[0m\u001b[0m_results\u001b[0m\u001b[0;34m:\u001b[0m\u001b[0;34m\u001b[0m\u001b[0;34m\u001b[0m\u001b[0m\n\u001b[0;32m--> 254\u001b[0;31m             \u001b[0mmetrics\u001b[0m \u001b[0;34m=\u001b[0m \u001b[0mself\u001b[0m\u001b[0;34m.\u001b[0m\u001b[0mmetrics\u001b[0m\u001b[0;34m[\u001b[0m\u001b[0;34m\"pbar\"\u001b[0m\u001b[0;34m]\u001b[0m\u001b[0;34m\u001b[0m\u001b[0;34m\u001b[0m\u001b[0m\n\u001b[0m\u001b[1;32m    255\u001b[0m             \u001b[0mself\u001b[0m\u001b[0;34m.\u001b[0m\u001b[0m_progress_bar_metrics\u001b[0m\u001b[0;34m.\u001b[0m\u001b[0mupdate\u001b[0m\u001b[0;34m(\u001b[0m\u001b[0mmetrics\u001b[0m\u001b[0;34m)\u001b[0m\u001b[0;34m\u001b[0m\u001b[0;34m\u001b[0m\u001b[0m\n",
      "\u001b[0;32m/usr/local/lib/python3.10/dist-packages/pytorch_lightning/trainer/connectors/logger_connector/logger_connector.py\u001b[0m in \u001b[0;36mmetrics\u001b[0;34m(self)\u001b[0m\n\u001b[1;32m    234\u001b[0m         \u001b[0;32massert\u001b[0m \u001b[0mself\u001b[0m\u001b[0;34m.\u001b[0m\u001b[0mtrainer\u001b[0m\u001b[0;34m.\u001b[0m\u001b[0m_results\u001b[0m \u001b[0;32mis\u001b[0m \u001b[0;32mnot\u001b[0m \u001b[0;32mNone\u001b[0m\u001b[0;34m\u001b[0m\u001b[0;34m\u001b[0m\u001b[0m\n\u001b[0;32m--> 235\u001b[0;31m         \u001b[0;32mreturn\u001b[0m \u001b[0mself\u001b[0m\u001b[0;34m.\u001b[0m\u001b[0mtrainer\u001b[0m\u001b[0;34m.\u001b[0m\u001b[0m_results\u001b[0m\u001b[0;34m.\u001b[0m\u001b[0mmetrics\u001b[0m\u001b[0;34m(\u001b[0m\u001b[0mon_step\u001b[0m\u001b[0;34m)\u001b[0m\u001b[0;34m\u001b[0m\u001b[0;34m\u001b[0m\u001b[0m\n\u001b[0m\u001b[1;32m    236\u001b[0m \u001b[0;34m\u001b[0m\u001b[0m\n",
      "\u001b[0;32m/usr/local/lib/python3.10/dist-packages/pytorch_lightning/trainer/connectors/logger_connector/result.py\u001b[0m in \u001b[0;36mmetrics\u001b[0;34m(self, on_step)\u001b[0m\n\u001b[1;32m    492\u001b[0m             \u001b[0;32mif\u001b[0m \u001b[0mresult_metric\u001b[0m\u001b[0;34m.\u001b[0m\u001b[0mmeta\u001b[0m\u001b[0;34m.\u001b[0m\u001b[0mprog_bar\u001b[0m\u001b[0;34m:\u001b[0m\u001b[0;34m\u001b[0m\u001b[0;34m\u001b[0m\u001b[0m\n\u001b[0;32m--> 493\u001b[0;31m                 \u001b[0mmetrics\u001b[0m\u001b[0;34m[\u001b[0m\u001b[0;34m\"pbar\"\u001b[0m\u001b[0;34m]\u001b[0m\u001b[0;34m[\u001b[0m\u001b[0mforked_name\u001b[0m\u001b[0;34m]\u001b[0m \u001b[0;34m=\u001b[0m \u001b[0mconvert_tensors_to_scalars\u001b[0m\u001b[0;34m(\u001b[0m\u001b[0mvalue\u001b[0m\u001b[0;34m)\u001b[0m\u001b[0;34m\u001b[0m\u001b[0;34m\u001b[0m\u001b[0m\n\u001b[0m\u001b[1;32m    494\u001b[0m \u001b[0;34m\u001b[0m\u001b[0m\n",
      "\u001b[0;32m/usr/local/lib/python3.10/dist-packages/lightning_fabric/utilities/apply_func.py\u001b[0m in \u001b[0;36mconvert_tensors_to_scalars\u001b[0;34m(data)\u001b[0m\n\u001b[1;32m    135\u001b[0m \u001b[0;34m\u001b[0m\u001b[0m\n\u001b[0;32m--> 136\u001b[0;31m     \u001b[0;32mreturn\u001b[0m \u001b[0mapply_to_collection\u001b[0m\u001b[0;34m(\u001b[0m\u001b[0mdata\u001b[0m\u001b[0;34m,\u001b[0m \u001b[0mTensor\u001b[0m\u001b[0;34m,\u001b[0m \u001b[0mto_item\u001b[0m\u001b[0;34m)\u001b[0m\u001b[0;34m\u001b[0m\u001b[0;34m\u001b[0m\u001b[0m\n\u001b[0m",
      "\u001b[0;32m/usr/local/lib/python3.10/dist-packages/lightning_utilities/core/apply_func.py\u001b[0m in \u001b[0;36mapply_to_collection\u001b[0;34m(data, dtype, function, wrong_dtype, include_none, allow_frozen, *args, **kwargs)\u001b[0m\n\u001b[1;32m     64\u001b[0m     \u001b[0;32mif\u001b[0m \u001b[0misinstance\u001b[0m\u001b[0;34m(\u001b[0m\u001b[0mdata\u001b[0m\u001b[0;34m,\u001b[0m \u001b[0mdtype\u001b[0m\u001b[0;34m)\u001b[0m\u001b[0;34m:\u001b[0m  \u001b[0;31m# single element\u001b[0m\u001b[0;34m\u001b[0m\u001b[0;34m\u001b[0m\u001b[0m\n\u001b[0;32m---> 65\u001b[0;31m         \u001b[0;32mreturn\u001b[0m \u001b[0mfunction\u001b[0m\u001b[0;34m(\u001b[0m\u001b[0mdata\u001b[0m\u001b[0;34m,\u001b[0m \u001b[0;34m*\u001b[0m\u001b[0margs\u001b[0m\u001b[0;34m,\u001b[0m \u001b[0;34m**\u001b[0m\u001b[0mkwargs\u001b[0m\u001b[0;34m)\u001b[0m\u001b[0;34m\u001b[0m\u001b[0;34m\u001b[0m\u001b[0m\n\u001b[0m\u001b[1;32m     66\u001b[0m     \u001b[0;32mif\u001b[0m \u001b[0mdata\u001b[0m\u001b[0;34m.\u001b[0m\u001b[0m__class__\u001b[0m \u001b[0;32mis\u001b[0m \u001b[0mlist\u001b[0m \u001b[0;32mand\u001b[0m \u001b[0mall\u001b[0m\u001b[0;34m(\u001b[0m\u001b[0misinstance\u001b[0m\u001b[0;34m(\u001b[0m\u001b[0mx\u001b[0m\u001b[0;34m,\u001b[0m \u001b[0mdtype\u001b[0m\u001b[0;34m)\u001b[0m \u001b[0;32mfor\u001b[0m \u001b[0mx\u001b[0m \u001b[0;32min\u001b[0m \u001b[0mdata\u001b[0m\u001b[0;34m)\u001b[0m\u001b[0;34m:\u001b[0m  \u001b[0;31m# 1d homogeneous list\u001b[0m\u001b[0;34m\u001b[0m\u001b[0;34m\u001b[0m\u001b[0m\n",
      "\u001b[0;32m/usr/local/lib/python3.10/dist-packages/lightning_fabric/utilities/apply_func.py\u001b[0m in \u001b[0;36mto_item\u001b[0;34m(value)\u001b[0m\n\u001b[1;32m    133\u001b[0m             )\n\u001b[0;32m--> 134\u001b[0;31m         \u001b[0;32mreturn\u001b[0m \u001b[0mvalue\u001b[0m\u001b[0;34m.\u001b[0m\u001b[0mitem\u001b[0m\u001b[0;34m(\u001b[0m\u001b[0;34m)\u001b[0m\u001b[0;34m\u001b[0m\u001b[0;34m\u001b[0m\u001b[0m\n\u001b[0m\u001b[1;32m    135\u001b[0m \u001b[0;34m\u001b[0m\u001b[0m\n",
      "\u001b[0;31mKeyboardInterrupt\u001b[0m: ",
      "\nDuring handling of the above exception, another exception occurred:\n",
      "\u001b[0;31mNameError\u001b[0m                                 Traceback (most recent call last)",
      "\u001b[0;32m<ipython-input-32-440a3f9e9042>\u001b[0m in \u001b[0;36m<cell line: 39>\u001b[0;34m()\u001b[0m\n\u001b[1;32m     37\u001b[0m \u001b[0mtorch\u001b[0m\u001b[0;34m.\u001b[0m\u001b[0mcompile\u001b[0m\u001b[0;34m(\u001b[0m\u001b[0mmodel\u001b[0m\u001b[0;34m)\u001b[0m\u001b[0;34m\u001b[0m\u001b[0;34m\u001b[0m\u001b[0m\n\u001b[1;32m     38\u001b[0m \u001b[0;34m\u001b[0m\u001b[0m\n\u001b[0;32m---> 39\u001b[0;31m \u001b[0mtrainer\u001b[0m\u001b[0;34m.\u001b[0m\u001b[0mfit\u001b[0m\u001b[0;34m(\u001b[0m\u001b[0mmodel\u001b[0m\u001b[0;34m,\u001b[0m \u001b[0mtrain_loader\u001b[0m\u001b[0;34m,\u001b[0m \u001b[0mval_loader\u001b[0m\u001b[0;34m)\u001b[0m\u001b[0;34m\u001b[0m\u001b[0;34m\u001b[0m\u001b[0m\n\u001b[0m",
      "\u001b[0;32m/usr/local/lib/python3.10/dist-packages/pytorch_lightning/trainer/trainer.py\u001b[0m in \u001b[0;36mfit\u001b[0;34m(self, model, train_dataloaders, val_dataloaders, datamodule, ckpt_path)\u001b[0m\n\u001b[1;32m    537\u001b[0m         \u001b[0mself\u001b[0m\u001b[0;34m.\u001b[0m\u001b[0mstate\u001b[0m\u001b[0;34m.\u001b[0m\u001b[0mstatus\u001b[0m \u001b[0;34m=\u001b[0m \u001b[0mTrainerStatus\u001b[0m\u001b[0;34m.\u001b[0m\u001b[0mRUNNING\u001b[0m\u001b[0;34m\u001b[0m\u001b[0;34m\u001b[0m\u001b[0m\n\u001b[1;32m    538\u001b[0m         \u001b[0mself\u001b[0m\u001b[0;34m.\u001b[0m\u001b[0mtraining\u001b[0m \u001b[0;34m=\u001b[0m \u001b[0;32mTrue\u001b[0m\u001b[0;34m\u001b[0m\u001b[0;34m\u001b[0m\u001b[0m\n\u001b[0;32m--> 539\u001b[0;31m         call._call_and_handle_interrupt(\n\u001b[0m\u001b[1;32m    540\u001b[0m             \u001b[0mself\u001b[0m\u001b[0;34m,\u001b[0m \u001b[0mself\u001b[0m\u001b[0;34m.\u001b[0m\u001b[0m_fit_impl\u001b[0m\u001b[0;34m,\u001b[0m \u001b[0mmodel\u001b[0m\u001b[0;34m,\u001b[0m \u001b[0mtrain_dataloaders\u001b[0m\u001b[0;34m,\u001b[0m \u001b[0mval_dataloaders\u001b[0m\u001b[0;34m,\u001b[0m \u001b[0mdatamodule\u001b[0m\u001b[0;34m,\u001b[0m \u001b[0mckpt_path\u001b[0m\u001b[0;34m\u001b[0m\u001b[0;34m\u001b[0m\u001b[0m\n\u001b[1;32m    541\u001b[0m         )\n",
      "\u001b[0;32m/usr/local/lib/python3.10/dist-packages/pytorch_lightning/trainer/call.py\u001b[0m in \u001b[0;36m_call_and_handle_interrupt\u001b[0;34m(trainer, trainer_fn, *args, **kwargs)\u001b[0m\n\u001b[1;32m     62\u001b[0m         \u001b[0;32mif\u001b[0m \u001b[0misinstance\u001b[0m\u001b[0;34m(\u001b[0m\u001b[0mlauncher\u001b[0m\u001b[0;34m,\u001b[0m \u001b[0m_SubprocessScriptLauncher\u001b[0m\u001b[0;34m)\u001b[0m\u001b[0;34m:\u001b[0m\u001b[0;34m\u001b[0m\u001b[0;34m\u001b[0m\u001b[0m\n\u001b[1;32m     63\u001b[0m             \u001b[0mlauncher\u001b[0m\u001b[0;34m.\u001b[0m\u001b[0mkill\u001b[0m\u001b[0;34m(\u001b[0m\u001b[0m_get_sigkill_signal\u001b[0m\u001b[0;34m(\u001b[0m\u001b[0;34m)\u001b[0m\u001b[0;34m)\u001b[0m\u001b[0;34m\u001b[0m\u001b[0;34m\u001b[0m\u001b[0m\n\u001b[0;32m---> 64\u001b[0;31m         \u001b[0mexit\u001b[0m\u001b[0;34m(\u001b[0m\u001b[0;36m1\u001b[0m\u001b[0;34m)\u001b[0m\u001b[0;34m\u001b[0m\u001b[0;34m\u001b[0m\u001b[0m\n\u001b[0m\u001b[1;32m     65\u001b[0m \u001b[0;34m\u001b[0m\u001b[0m\n\u001b[1;32m     66\u001b[0m     \u001b[0;32mexcept\u001b[0m \u001b[0mBaseException\u001b[0m \u001b[0;32mas\u001b[0m \u001b[0mexception\u001b[0m\u001b[0;34m:\u001b[0m\u001b[0;34m\u001b[0m\u001b[0;34m\u001b[0m\u001b[0m\n",
      "\u001b[0;31mNameError\u001b[0m: name 'exit' is not defined"
     ]
    }
   ],
   "source": [
    "checkpoint_callback = ModelCheckpoint(\n",
    "    monitor=\"val_r2\",\n",
    "    dirpath=\"checkpoints/\",\n",
    "    filename=\"salary_prediction_v1.0-{epoch:02d}-{val_loss:.2f}-{val_r2:.4f}\",\n",
    "    save_top_k=2,\n",
    "    mode=\"min\",\n",
    "    every_n_epochs=2\n",
    ")\n",
    "\n",
    "early_stopping = EarlyStopping(\n",
    "    monitor=\"val_r2\",\n",
    "    min_delta=0.001,\n",
    "    mode=\"max\",\n",
    "    patience=3\n",
    ")\n",
    "\n",
    "trainer = pl.Trainer(\n",
    "    max_epochs=50,\n",
    "    accelerator=\"gpu\" if torch.cuda.is_available() else \"cpu\",\n",
    "    callbacks=[checkpoint_callback],\n",
    "    log_every_n_steps=50\n",
    ")\n",
    "\n",
    "model = SalaryModel(\n",
    "    num_features=len(num_features),\n",
    "    vocab_size=tokenizer.vocab_size,\n",
    "    num_bins=num_bins,\n",
    "    embedding_dim=512,\n",
    "    hidden_dim=512,\n",
    "    num_heads=8,\n",
    "    num_layers=8,\n",
    "    max_length=1024,\n",
    "    dropout=0.1,\n",
    "    embeddings_skills_dim=embeddings_skills.shape[1]\n",
    ")\n",
    "\n",
    "torch.compile(model)\n",
    "\n",
    "trainer.fit(model, train_loader, val_loader)"
   ]
  },
  {
   "cell_type": "markdown",
   "id": "5dea68a7",
   "metadata": {},
   "source": [
    "## Предсказание на тестовых данных"
   ]
  },
  {
   "cell_type": "code",
   "execution_count": null,
   "id": "3ac8bf0a",
   "metadata": {},
   "outputs": [
    {
     "name": "stderr",
     "output_type": "stream",
     "text": [
      "█████████████████████████████ 100% | 649.89/649.89 MB [00:10<00:00, 62.04MB/s]: /usr/local/lib/python3.10/dist-packages/tqdm/std.py:636: TqdmWarning:\n",
      "\n",
      "clamping frac to range [0, 1]\n",
      "\n",
      "█████████████████████████████ 100% | 649.89/649.89 MB [00:10<00:00, 61.72MB/s]: \n"
     ]
    }
   ],
   "source": [
    "try:\n",
    "    best_train_model = InputModel(\"f66fa53c15934164a2ae7cbd881f6067\")\n",
    "    path_model = best_train_model.get_local_copy()\n",
    "except NameError:\n",
    "    print(\"Можно взять модель только локально\")\n",
    "    path_model = \"temp\""
   ]
  },
  {
   "cell_type": "code",
   "execution_count": 46,
   "id": "712f60b4",
   "metadata": {},
   "outputs": [],
   "source": [
    "model = SalaryModel.load_from_checkpoint(path_model)\n",
    "\n",
    "model.eval()\n",
    "model.freeze()"
   ]
  },
  {
   "cell_type": "code",
   "execution_count": 54,
   "id": "1d9483ef",
   "metadata": {},
   "outputs": [],
   "source": [
    "df_test = pd.read_csv(\"/kaggle/working/test.csv\")\n",
    "df_test = df_test.fillna(\"\")\n",
    "\n",
    "df_test[\"clean_description\"] = df_test[\"description\"].apply(clean_text)\n",
    "\n",
    "df_test[\"skills_str\"] = df_test[\"skills\"].apply(lambda x: \",\".join(x.split(\",\")))\n",
    "df_test[\"location\"] = df_test[\"location\"].apply(lambda x: re.sub(r\"\\(+.*?\\)+\", \"\", x).strip())\n",
    "\n",
    "skills_tfidf_val = tfidf.transform(df_test[\"skills_str\"])\n",
    "skills_tfidf_df = pd.DataFrame(skills_tfidf_val.toarray(), columns=tfidf.get_feature_names_out())\n",
    "df_test = pd.concat([df_test, skills_tfidf_df], axis=1).fillna(0)\n",
    "\n",
    "df_test[\"location_encoded\"] = label_encoder.transform(df_test[[\"location\"]])"
   ]
  },
  {
   "cell_type": "code",
   "execution_count": null,
   "id": "52f6391e",
   "metadata": {},
   "outputs": [
    {
     "name": "stderr",
     "output_type": "stream",
     "text": [
      "Computing embeddings: 100%|██████████| 87/87 [00:22<00:00,  3.85it/s]\n"
     ]
    }
   ],
   "source": [
    "# Добавлялось после основной (первой модели)\n",
    "embeddings_test = compute_embeddings_with_dataloader(\n",
    "    df_test,\n",
    "    tokenizer_t5,\n",
    "    model_t5,\n",
    "    device,\n",
    "    batch_size=64,\n",
    "    max_length=128\n",
    ")\n",
    "np.save(\"skills_embeddings_test.npy\", embeddings_test)"
   ]
  },
  {
   "cell_type": "code",
   "execution_count": 50,
   "id": "77287a43",
   "metadata": {},
   "outputs": [],
   "source": [
    "test_dataset = SalaryDataset(df_test, tokenizer, max_length=1024, columns_features=num_features)\n",
    "\n",
    "test_loader = DataLoader(test_dataset, batch_size=64, shuffle=False)"
   ]
  },
  {
   "cell_type": "code",
   "execution_count": 55,
   "id": "f296d968",
   "metadata": {},
   "outputs": [],
   "source": [
    "def evaluate_test(model, dataloader):\n",
    "    model.eval()\n",
    "    predictions = []\n",
    "    with torch.no_grad():\n",
    "        for batch in tqdm(dataloader):\n",
    "            input_ids = batch[\"input_ids\"].to(device)\n",
    "            attention_mask = batch[\"attention_mask\"].to(device)\n",
    "            features = batch[\"features\"].to(device)\n",
    "\n",
    "            outputs = model(input_ids, attention_mask, features)\n",
    "\n",
    "            predictions.extend(outputs.cpu().numpy())\n",
    "\n",
    "    return predictions"
   ]
  },
  {
   "cell_type": "code",
   "execution_count": 56,
   "id": "4f689634",
   "metadata": {},
   "outputs": [
    {
     "name": "stderr",
     "output_type": "stream",
     "text": [
      "/usr/local/lib/python3.10/dist-packages/torch/nn/modules/transformer.py:502: UserWarning:\n",
      "\n",
      "The PyTorch API of nested tensors is in prototype stage and will change in the near future. (Triggered internally at ../aten/src/ATen/NestedTensorImpl.cpp:178.)\n",
      "\n",
      "100%|██████████| 87/87 [00:30<00:00,  2.86it/s]\n"
     ]
    }
   ],
   "source": [
    "test_preds = evaluate_test(model, test_loader)\n",
    "\n",
    "test_predictions = pd.DataFrame({\n",
    "    \"prediction\": test_preds\n",
    "}).reset_index()\n",
    "\n",
    "test_predictions.to_csv(\"submission.csv\", index=False)"
   ]
  },
  {
   "cell_type": "code",
   "execution_count": 65,
   "id": "4e8cf047",
   "metadata": {},
   "outputs": [
    {
     "name": "stdout",
     "output_type": "stream",
     "text": [
      "5557 ./submission.csv\n"
     ]
    }
   ],
   "source": [
    "!wc -l ./submission.csv"
   ]
  },
  {
   "cell_type": "code",
   "execution_count": 66,
   "id": "c84adfbb",
   "metadata": {},
   "outputs": [
    {
     "name": "stdout",
     "output_type": "stream",
     "text": [
      "100%|███████████████████████████████████████| 77.9k/77.9k [00:00<00:00, 121kB/s]\n",
      "Successfully submitted to teta_nn_1_2025"
     ]
    }
   ],
   "source": [
    "!kaggle competitions submit -c teta-nn-1-2025 -f /kaggle/working/submission.csv -m \"Baseline + new features\""
   ]
  },
  {
   "cell_type": "code",
   "execution_count": 67,
   "id": "f06b1d76",
   "metadata": {},
   "outputs": [],
   "source": [
    "task.close()"
   ]
  },
  {
   "cell_type": "code",
   "execution_count": null,
   "id": "49c0300a",
   "metadata": {},
   "outputs": [],
   "source": []
  },
  {
   "cell_type": "markdown",
   "id": "dde771ce",
   "metadata": {},
   "source": [
    "# Feature extraction с помощью tinybert и обучение catboost"
   ]
  },
  {
   "cell_type": "code",
   "execution_count": null,
   "id": "5650c726",
   "metadata": {},
   "outputs": [],
   "source": [
    "import numpy as np\n",
    "from catboost import CatBoostRegressor, Pool\n",
    "from transformers import BertModel, BertTokenizerFast"
   ]
  },
  {
   "cell_type": "code",
   "execution_count": 17,
   "id": "ae906cc1",
   "metadata": {},
   "outputs": [
    {
     "data": {
      "application/vnd.jupyter.widget-view+json": {
       "model_id": "cac140d8adb94b01b943f889702d9acd",
       "version_major": 2,
       "version_minor": 0
      },
      "text/plain": [
       "tokenizer_config.json:   0%|          | 0.00/401 [00:00<?, ?B/s]"
      ]
     },
     "metadata": {},
     "output_type": "display_data"
    },
    {
     "data": {
      "application/vnd.jupyter.widget-view+json": {
       "model_id": "b3dc6331bdc74b1189ab4974ced82adf",
       "version_major": 2,
       "version_minor": 0
      },
      "text/plain": [
       "vocab.txt: 0.00B [00:00, ?B/s]"
      ]
     },
     "metadata": {},
     "output_type": "display_data"
    },
    {
     "data": {
      "application/vnd.jupyter.widget-view+json": {
       "model_id": "57fa447382fd460c92bd4f291ef8775d",
       "version_major": 2,
       "version_minor": 0
      },
      "text/plain": [
       "tokenizer.json: 0.00B [00:00, ?B/s]"
      ]
     },
     "metadata": {},
     "output_type": "display_data"
    },
    {
     "data": {
      "application/vnd.jupyter.widget-view+json": {
       "model_id": "3879982efa66466797632d0f97758106",
       "version_major": 2,
       "version_minor": 0
      },
      "text/plain": [
       "special_tokens_map.json:   0%|          | 0.00/112 [00:00<?, ?B/s]"
      ]
     },
     "metadata": {},
     "output_type": "display_data"
    },
    {
     "data": {
      "application/vnd.jupyter.widget-view+json": {
       "model_id": "986e5ffd590644019e025f3b65178191",
       "version_major": 2,
       "version_minor": 0
      },
      "text/plain": [
       "config.json:   0%|          | 0.00/693 [00:00<?, ?B/s]"
      ]
     },
     "metadata": {},
     "output_type": "display_data"
    },
    {
     "data": {
      "application/vnd.jupyter.widget-view+json": {
       "model_id": "f439fd73515d40f2b97340c7cdbfb038",
       "version_major": 2,
       "version_minor": 0
      },
      "text/plain": [
       "model.safetensors:   0%|          | 0.00/118M [00:00<?, ?B/s]"
      ]
     },
     "metadata": {},
     "output_type": "display_data"
    }
   ],
   "source": [
    "tokenizer = BertTokenizerFast.from_pretrained(\"cointegrated/rubert-tiny2\")\n",
    "bert_model = BertModel.from_pretrained(\"cointegrated/rubert-tiny2\").to(device)"
   ]
  },
  {
   "cell_type": "code",
   "execution_count": 18,
   "id": "19b3dc9e",
   "metadata": {},
   "outputs": [],
   "source": [
    "class BertEmbeddingDataset(Dataset):\n",
    "    def __init__(self, df, columns, tokenizer, max_length=512, columns_features=None):\n",
    "        self.df = df[columns].copy()\n",
    "        self.tokenizer = tokenizer\n",
    "        self.max_length = max_length\n",
    "        self.columns_features = columns_features\n",
    "\n",
    "    def __len__(self):\n",
    "        return len(self.df)\n",
    "\n",
    "    def __getitem__(self, idx):\n",
    "        row = self.df.iloc[idx]\n",
    "        text = \" | \".join([row[col] for col in self.df.columns])\n",
    "        inputs = self.tokenizer(\n",
    "            text,\n",
    "            truncation=True,\n",
    "            max_length=self.max_length,\n",
    "            padding=\"max_length\",\n",
    "            return_tensors=\"pt\"\n",
    "        )\n",
    "        \n",
    "        return {k: v.squeeze(0) for k, v in inputs.items()}"
   ]
  },
  {
   "cell_type": "code",
   "execution_count": null,
   "id": "599be282",
   "metadata": {},
   "outputs": [
    {
     "name": "stderr",
     "output_type": "stream",
     "text": [
      "Computing BERT embeddings: 100%|██████████| 59/59 [00:04<00:00, 12.66it/s]\n",
      "Computing BERT embeddings: 100%|██████████| 7/7 [00:00<00:00, 14.59it/s]\n",
      "Computing BERT embeddings: 100%|██████████| 59/59 [00:42<00:00,  1.40it/s]\n",
      "Computing BERT embeddings: 100%|██████████| 7/7 [00:04<00:00,  1.49it/s]\n"
     ]
    }
   ],
   "source": [
    "def compute_bert_embeddings_with_dataloader(df, tokenizer, columns: list[str], model, device, batch_size=128, max_length=128, layers_to_use=[-1, -2, -3, -4]):\n",
    "    dataset = BertEmbeddingDataset(df, columns, tokenizer, max_length)\n",
    "    dataloader = DataLoader(dataset, batch_size=batch_size, shuffle=False)\n",
    "\n",
    "    embeddings = []\n",
    "    model.eval()\n",
    "    with torch.no_grad():\n",
    "        for batch in tqdm(dataloader, desc=\"Computing BERT embeddings\"):\n",
    "            input_ids = batch[\"input_ids\"].to(device)\n",
    "            attention_mask = batch[\"attention_mask\"].to(device)\n",
    "\n",
    "            outputs = model(input_ids=input_ids, attention_mask=attention_mask, output_hidden_states=True)\n",
    "            hidden_states = outputs.hidden_states\n",
    "\n",
    "            selected_layers = [nn.functional.normalize(hidden_states[i][:, 0, :]) for i in layers_to_use]\n",
    "\n",
    "            sum_last_four_cls = torch.sum(torch.stack(selected_layers), dim=0)\n",
    "\n",
    "            embeddings.append(sum_last_four_cls.cpu().numpy())\n",
    "\n",
    "    return np.vstack(embeddings)\n",
    "\n",
    "\n",
    "train_bert_emb_title = compute_bert_embeddings_with_dataloader(train_df, tokenizer, [\"title\"], bert_model, device, batch_size=256, max_length=32, layers_to_use=[-1])\n",
    "val_bert_emb_title = compute_bert_embeddings_with_dataloader(val_df, tokenizer, [\"title\"], bert_model, device, batch_size=256, max_length=32, layers_to_use=[-1])\n",
    "\n",
    "train_bert_emb_descripion = compute_bert_embeddings_with_dataloader(train_df, tokenizer, [\"clean_description\"], bert_model, device, batch_size=256, max_length=650, layers_to_use=[-1, -2, -3, -4])\n",
    "val_bert_emb_description = compute_bert_embeddings_with_dataloader(val_df, tokenizer, [\"clean_description\"], bert_model, device, batch_size=256, max_length=650, layers_to_use=[-1, -2, -3, -4])"
   ]
  },
  {
   "cell_type": "code",
   "execution_count": null,
   "id": "b8cf3e9a",
   "metadata": {},
   "outputs": [],
   "source": [
    "X_train = np.hstack([\n",
    "    train_df[[\"company_encoded\", \"location_encoded\", \"experience_from\"]].values,\n",
    "    np.vstack(train_df[\"embeddings_skills\"].values),\n",
    "    train_bert_emb_title,\n",
    "    train_bert_emb_descripion\n",
    "])\n",
    "\n",
    "\n",
    "X_val = np.hstack([\n",
    "    val_df[[\"company_encoded\", \"location_encoded\", \"experience_from\"]].values,\n",
    "    np.vstack(val_df[\"embeddings_skills\"].values),\n",
    "    val_bert_emb_title,\n",
    "    val_bert_emb_description\n",
    "])\n",
    "\n",
    "y_train = train_df[\"log_salary_from\"].values\n",
    "y_val = val_df[\"log_salary_from\"].values"
   ]
  },
  {
   "cell_type": "code",
   "execution_count": null,
   "id": "684f1fca",
   "metadata": {},
   "outputs": [],
   "source": [
    "index_cat_features = list(range(len([\"company_encoded\", \"location_encoded\"])))\n",
    "\n",
    "train_pool = Pool(X_train, y_train)\n",
    "valid_pool = Pool(X_val, y_val)"
   ]
  },
  {
   "cell_type": "code",
   "execution_count": null,
   "id": "f882058a",
   "metadata": {},
   "outputs": [
    {
     "name": "stdout",
     "output_type": "stream",
     "text": [
      "ClearML Task: created new task id=4baf0f5612a94dc6ad5cb7f2a83c8150\n",
      "2025-07-22 23:48:41,338 - clearml.Repository Detection - WARNING - Jupyter Notebook auto-logging failed, could not access: /kaggle/working/baseline-jvsc-9571efc2-7c10-4e64-986a-1b4256bb7281a475974b-72f4-442b-8b58-9ef57b8f425f.ipynb\n",
      "2025-07-22 23:48:41,361 - clearml.Task - INFO - Storing jupyter notebook directly as code\n",
      "ClearML results page: https://app.clear.ml/projects/8870d7f669ca45988ef171246b781921/experiments/4baf0f5612a94dc6ad5cb7f2a83c8150/output/log\n"
     ]
    }
   ],
   "source": [
    "task = Task.init(\n",
    "    project_name=\"Competitions/teta_nn_1_2025_predict_salary\",\n",
    "    task_name=\"Training catboost with bert extract features sum layers v1.0\",\n",
    "    task_type=TaskTypes.training,\n",
    "    tags=[\"training\", \"transformer\", \"catboost\", \"bert\"],\n",
    "    auto_connect_frameworks={\"catboost\": True},\n",
    "    output_uri=True,\n",
    ")"
   ]
  },
  {
   "cell_type": "markdown",
   "id": "0be77a2c",
   "metadata": {},
   "source": [
    "## Обучение модели"
   ]
  },
  {
   "cell_type": "code",
   "execution_count": null,
   "id": "5efeb2dc",
   "metadata": {},
   "outputs": [
    {
     "name": "stdout",
     "output_type": "stream",
     "text": [
      "0:\tlearn: 0.1375572\ttest: 0.1270861\tbest: 0.1270861 (0)\ttotal: 3.14s\tremaining: 3h 29m 18s\n",
      "20:\tlearn: 0.7034930\ttest: 0.6033905\tbest: 0.6033905 (20)\ttotal: 1m 5s\tremaining: 3h 28m 15s\n",
      "40:\tlearn: 0.7746932\ttest: 0.6226797\tbest: 0.6226797 (40)\ttotal: 2m 8s\tremaining: 3h 27m 17s\n",
      "60:\tlearn: 0.8166625\ttest: 0.6275902\tbest: 0.6277364 (59)\ttotal: 3m 11s\tremaining: 3h 26m 36s\n"
     ]
    },
    {
     "ename": "KeyboardInterrupt",
     "evalue": "",
     "output_type": "error",
     "traceback": [
      "\u001b[0;31m---------------------------------------------------------------------------\u001b[0m",
      "\u001b[0;31mKeyboardInterrupt\u001b[0m                         Traceback (most recent call last)",
      "\u001b[0;32m<ipython-input-38-b5e1a3663f92>\u001b[0m in \u001b[0;36m<cell line: 15>\u001b[0;34m()\u001b[0m\n\u001b[1;32m     13\u001b[0m     \u001b[0;31m# task_type=\"GPU\" if torch.cuda.is_available() else \"CPU\"\u001b[0m\u001b[0;34m\u001b[0m\u001b[0;34m\u001b[0m\u001b[0m\n\u001b[1;32m     14\u001b[0m )\n\u001b[0;32m---> 15\u001b[0;31m \u001b[0mcatboost_model\u001b[0m\u001b[0;34m.\u001b[0m\u001b[0mfit\u001b[0m\u001b[0;34m(\u001b[0m\u001b[0mtrain_pool\u001b[0m\u001b[0;34m,\u001b[0m \u001b[0meval_set\u001b[0m\u001b[0;34m=\u001b[0m\u001b[0mvalid_pool\u001b[0m\u001b[0;34m)\u001b[0m\u001b[0;34m\u001b[0m\u001b[0;34m\u001b[0m\u001b[0m\n\u001b[0m",
      "\u001b[0;32m/usr/local/lib/python3.10/dist-packages/catboost/core.py\u001b[0m in \u001b[0;36mfit\u001b[0;34m(self, X, y, cat_features, text_features, embedding_features, graph, sample_weight, baseline, use_best_model, eval_set, verbose, logging_level, plot, plot_file, column_description, verbose_eval, metric_period, silent, early_stopping_rounds, save_snapshot, snapshot_file, snapshot_interval, init_model, callbacks, log_cout, log_cerr)\u001b[0m\n\u001b[1;32m   5871\u001b[0m         \u001b[0;32mif\u001b[0m \u001b[0;34m'loss_function'\u001b[0m \u001b[0;32min\u001b[0m \u001b[0mparams\u001b[0m\u001b[0;34m:\u001b[0m\u001b[0;34m\u001b[0m\u001b[0;34m\u001b[0m\u001b[0m\n\u001b[1;32m   5872\u001b[0m             \u001b[0mCatBoostRegressor\u001b[0m\u001b[0;34m.\u001b[0m\u001b[0m_check_is_compatible_loss\u001b[0m\u001b[0;34m(\u001b[0m\u001b[0mparams\u001b[0m\u001b[0;34m[\u001b[0m\u001b[0;34m'loss_function'\u001b[0m\u001b[0;34m]\u001b[0m\u001b[0;34m)\u001b[0m\u001b[0;34m\u001b[0m\u001b[0;34m\u001b[0m\u001b[0m\n\u001b[0;32m-> 5873\u001b[0;31m         return self._fit(X, y, cat_features, text_features, embedding_features, None, graph, sample_weight, None, None, None, None, baseline,\n\u001b[0m\u001b[1;32m   5874\u001b[0m                          \u001b[0muse_best_model\u001b[0m\u001b[0;34m,\u001b[0m \u001b[0meval_set\u001b[0m\u001b[0;34m,\u001b[0m \u001b[0mverbose\u001b[0m\u001b[0;34m,\u001b[0m \u001b[0mlogging_level\u001b[0m\u001b[0;34m,\u001b[0m \u001b[0mplot\u001b[0m\u001b[0;34m,\u001b[0m \u001b[0mplot_file\u001b[0m\u001b[0;34m,\u001b[0m \u001b[0mcolumn_description\u001b[0m\u001b[0;34m,\u001b[0m\u001b[0;34m\u001b[0m\u001b[0;34m\u001b[0m\u001b[0m\n\u001b[1;32m   5875\u001b[0m                          \u001b[0mverbose_eval\u001b[0m\u001b[0;34m,\u001b[0m \u001b[0mmetric_period\u001b[0m\u001b[0;34m,\u001b[0m \u001b[0msilent\u001b[0m\u001b[0;34m,\u001b[0m \u001b[0mearly_stopping_rounds\u001b[0m\u001b[0;34m,\u001b[0m\u001b[0;34m\u001b[0m\u001b[0;34m\u001b[0m\u001b[0m\n",
      "\u001b[0;32m/usr/local/lib/python3.10/dist-packages/catboost/core.py\u001b[0m in \u001b[0;36m_fit\u001b[0;34m(self, X, y, cat_features, text_features, embedding_features, pairs, graph, sample_weight, group_id, group_weight, subgroup_id, pairs_weight, baseline, use_best_model, eval_set, verbose, logging_level, plot, plot_file, column_description, verbose_eval, metric_period, silent, early_stopping_rounds, save_snapshot, snapshot_file, snapshot_interval, init_model, callbacks, log_cout, log_cerr)\u001b[0m\n\u001b[1;32m   2408\u001b[0m \u001b[0;34m\u001b[0m\u001b[0m\n\u001b[1;32m   2409\u001b[0m             \u001b[0;32mwith\u001b[0m \u001b[0mplot_wrapper\u001b[0m\u001b[0;34m(\u001b[0m\u001b[0mplot\u001b[0m\u001b[0;34m,\u001b[0m \u001b[0mplot_file\u001b[0m\u001b[0;34m,\u001b[0m \u001b[0;34m'Training plots'\u001b[0m\u001b[0;34m,\u001b[0m \u001b[0;34m[\u001b[0m\u001b[0m_get_train_dir\u001b[0m\u001b[0;34m(\u001b[0m\u001b[0mself\u001b[0m\u001b[0;34m.\u001b[0m\u001b[0mget_params\u001b[0m\u001b[0;34m(\u001b[0m\u001b[0;34m)\u001b[0m\u001b[0;34m)\u001b[0m\u001b[0;34m]\u001b[0m\u001b[0;34m)\u001b[0m\u001b[0;34m:\u001b[0m\u001b[0;34m\u001b[0m\u001b[0;34m\u001b[0m\u001b[0m\n\u001b[0;32m-> 2410\u001b[0;31m                 self._train(\n\u001b[0m\u001b[1;32m   2411\u001b[0m                     \u001b[0mtrain_pool\u001b[0m\u001b[0;34m,\u001b[0m\u001b[0;34m\u001b[0m\u001b[0;34m\u001b[0m\u001b[0m\n\u001b[1;32m   2412\u001b[0m                     \u001b[0mtrain_params\u001b[0m\u001b[0;34m[\u001b[0m\u001b[0;34m\"eval_sets\"\u001b[0m\u001b[0;34m]\u001b[0m\u001b[0;34m,\u001b[0m\u001b[0;34m\u001b[0m\u001b[0;34m\u001b[0m\u001b[0m\n",
      "\u001b[0;32m/usr/local/lib/python3.10/dist-packages/catboost/core.py\u001b[0m in \u001b[0;36m_train\u001b[0;34m(self, train_pool, test_pool, params, allow_clear_pool, init_model)\u001b[0m\n\u001b[1;32m   1788\u001b[0m \u001b[0;34m\u001b[0m\u001b[0m\n\u001b[1;32m   1789\u001b[0m     \u001b[0;32mdef\u001b[0m \u001b[0m_train\u001b[0m\u001b[0;34m(\u001b[0m\u001b[0mself\u001b[0m\u001b[0;34m,\u001b[0m \u001b[0mtrain_pool\u001b[0m\u001b[0;34m,\u001b[0m \u001b[0mtest_pool\u001b[0m\u001b[0;34m,\u001b[0m \u001b[0mparams\u001b[0m\u001b[0;34m,\u001b[0m \u001b[0mallow_clear_pool\u001b[0m\u001b[0;34m,\u001b[0m \u001b[0minit_model\u001b[0m\u001b[0;34m)\u001b[0m\u001b[0;34m:\u001b[0m\u001b[0;34m\u001b[0m\u001b[0;34m\u001b[0m\u001b[0m\n\u001b[0;32m-> 1790\u001b[0;31m         \u001b[0mself\u001b[0m\u001b[0;34m.\u001b[0m\u001b[0m_object\u001b[0m\u001b[0;34m.\u001b[0m\u001b[0m_train\u001b[0m\u001b[0;34m(\u001b[0m\u001b[0mtrain_pool\u001b[0m\u001b[0;34m,\u001b[0m \u001b[0mtest_pool\u001b[0m\u001b[0;34m,\u001b[0m \u001b[0mparams\u001b[0m\u001b[0;34m,\u001b[0m \u001b[0mallow_clear_pool\u001b[0m\u001b[0;34m,\u001b[0m \u001b[0minit_model\u001b[0m\u001b[0;34m.\u001b[0m\u001b[0m_object\u001b[0m \u001b[0;32mif\u001b[0m \u001b[0minit_model\u001b[0m \u001b[0;32melse\u001b[0m \u001b[0;32mNone\u001b[0m\u001b[0;34m)\u001b[0m\u001b[0;34m\u001b[0m\u001b[0;34m\u001b[0m\u001b[0m\n\u001b[0m\u001b[1;32m   1791\u001b[0m         \u001b[0mself\u001b[0m\u001b[0;34m.\u001b[0m\u001b[0m_set_trained_model_attributes\u001b[0m\u001b[0;34m(\u001b[0m\u001b[0;34m)\u001b[0m\u001b[0;34m\u001b[0m\u001b[0;34m\u001b[0m\u001b[0m\n\u001b[1;32m   1792\u001b[0m \u001b[0;34m\u001b[0m\u001b[0m\n",
      "\u001b[0;32m_catboost.pyx\u001b[0m in \u001b[0;36m_catboost._CatBoost._train\u001b[0;34m()\u001b[0m\n",
      "\u001b[0;32m_catboost.pyx\u001b[0m in \u001b[0;36m_catboost._CatBoost._train\u001b[0;34m()\u001b[0m\n",
      "\u001b[0;31mKeyboardInterrupt\u001b[0m: "
     ]
    }
   ],
   "source": [
    "catboost_model = CatBoostRegressor(\n",
    "    iterations=4000,\n",
    "    learning_rate=0.07,\n",
    "    depth=10,\n",
    "    loss_function=\"RMSE\",\n",
    "    eval_metric=\"R2\",\n",
    "    early_stopping_rounds=50,\n",
    "    verbose=20,\n",
    "    random_seed=RANDOM_SEED,\n",
    "    task_type=\"CPU\",\n",
    "    use_best_model=True\n",
    "\n",
    ")\n",
    "catboost_model.fit(train_pool, eval_set=valid_pool)"
   ]
  },
  {
   "cell_type": "markdown",
   "id": "d4e27375",
   "metadata": {},
   "source": [
    "## Предсказание на тестовых данных"
   ]
  },
  {
   "cell_type": "code",
   "execution_count": 18,
   "id": "947ea8a8",
   "metadata": {},
   "outputs": [],
   "source": [
    "df_test = pd.read_csv(\"/kaggle/working/test.csv\")"
   ]
  },
  {
   "cell_type": "code",
   "execution_count": 152,
   "id": "010f8ed9",
   "metadata": {},
   "outputs": [],
   "source": [
    "df_test[\"clean_description\"] = df_test[\"description\"].apply(clean_text)\n",
    "df_test[\"location\"] = df_test[\"location\"].apply(lambda x: re.sub(r\"\\(+.*?\\)+\", \"\", x).strip())\n",
    "df_test[\"title\"] = df_test[\"title\"].apply(lambda x: re.sub(r\"\\(+.*?\\)+\", \"\", x).strip())\n",
    "\n",
    "df_test[\"embeddings_skills\"] = list(np.load(\"skills_embeddings_test.npy\"))"
   ]
  },
  {
   "cell_type": "code",
   "execution_count": 153,
   "id": "f984e7e7",
   "metadata": {},
   "outputs": [],
   "source": [
    "df_test[\"location_encoded\"] = label_encoder_location.transform(df_test[[\"location\"]])\n",
    "\n",
    "df_test[\"company_encoded\"] = label_encoder_company.transform(df_test[[\"company\"]])\n",
    "\n",
    "df_test = df_test.fillna(-1)"
   ]
  },
  {
   "cell_type": "code",
   "execution_count": 154,
   "id": "63303143",
   "metadata": {},
   "outputs": [
    {
     "name": "stderr",
     "output_type": "stream",
     "text": [
      "Computing BERT embeddings: 100%|██████████| 22/22 [00:01<00:00, 12.76it/s]\n",
      "Computing BERT embeddings: 100%|██████████| 22/22 [00:17<00:00,  1.27it/s]\n"
     ]
    }
   ],
   "source": [
    "test_bert_emb_title = compute_bert_embeddings_with_dataloader(df_test, tokenizer, [\"title\"], bert_model, device, batch_size=256, max_length=32, layers_to_use=[-1])\n",
    "\n",
    "test_bert_emb_description = compute_bert_embeddings_with_dataloader(df_test, tokenizer, [\"description\"], bert_model, device, batch_size=256, max_length=650, layers_to_use=[-1, -2, -3, -4])"
   ]
  },
  {
   "cell_type": "code",
   "execution_count": 155,
   "id": "8338fbee",
   "metadata": {},
   "outputs": [],
   "source": [
    "X_test = np.hstack([\n",
    "    df_test[[\"company_encoded\", \"location_encoded\", \"experience_from\"]].values,\n",
    "    np.vstack(df_test[\"embeddings_skills\"].values),\n",
    "    test_bert_emb_title,\n",
    "    test_bert_emb_description\n",
    "])\n",
    "\n",
    "test_pool = Pool(X_test)"
   ]
  },
  {
   "cell_type": "code",
   "execution_count": 156,
   "id": "181d41d6",
   "metadata": {},
   "outputs": [],
   "source": [
    "test_preds = catboost_model.predict(test_pool)\n",
    "\n",
    "test_predictions = pd.DataFrame({\n",
    "    \"prediction\": test_preds\n",
    "}).reset_index()\n",
    "\n",
    "test_predictions.to_csv(\"submission.csv\", index=False)"
   ]
  },
  {
   "cell_type": "code",
   "execution_count": 157,
   "id": "ee5aa9bd",
   "metadata": {},
   "outputs": [
    {
     "name": "stdout",
     "output_type": "stream",
     "text": [
      "5557 ./submission.csv\n"
     ]
    }
   ],
   "source": [
    "!wc -l ./submission.csv"
   ]
  },
  {
   "cell_type": "code",
   "execution_count": 158,
   "id": "44ad2188",
   "metadata": {},
   "outputs": [
    {
     "name": "stdout",
     "output_type": "stream",
     "text": [
      "100%|█████████████████████████████████████████| 126k/126k [00:00<00:00, 203kB/s]\n",
      "Successfully submitted to teta_nn_1_2025"
     ]
    }
   ],
   "source": [
    "!kaggle competitions submit -c teta-nn-1-2025 -f /kaggle/working/submission.csv -m \"Bert extraction text sum layers + t5 extract skills + catboost regression v1.1\""
   ]
  },
  {
   "cell_type": "code",
   "execution_count": 63,
   "id": "ca817493",
   "metadata": {},
   "outputs": [],
   "source": [
    "task.close()"
   ]
  },
  {
   "cell_type": "markdown",
   "id": "9506eb88",
   "metadata": {},
   "source": [
    "# Fine-tune deberta"
   ]
  },
  {
   "cell_type": "code",
   "execution_count": 12,
   "id": "eca53590",
   "metadata": {},
   "outputs": [],
   "source": [
    "from transformers import AutoTokenizer, DebertaModel"
   ]
  },
  {
   "cell_type": "code",
   "execution_count": 13,
   "id": "3b07032b",
   "metadata": {},
   "outputs": [],
   "source": [
    "class BertVacancyDataset(Dataset):\n",
    "    def __init__(self, df, tokenizer, max_length=512, table_features=None):\n",
    "        features = [\"title\", \"clean_description\", \"embeddings_skills\"]\n",
    "        if \"log_salary_from\" in df.columns:\n",
    "            features.append(\"log_salary_from\")\n",
    "\n",
    "        self.df = df[features + (table_features if table_features is not None else [])]\n",
    "        self.tokenizer = tokenizer\n",
    "        self.max_length = max_length\n",
    "        self.table_features = table_features\n",
    "\n",
    "    def __len__(self):\n",
    "        return len(self.df)\n",
    "\n",
    "    def __getitem__(self, idx):\n",
    "        row = self.df.iloc[idx]\n",
    "        \n",
    "        # Текст вакансии\n",
    "        text = f\"{row['title']} {row['clean_description']}\"\n",
    "        \n",
    "        # Токенизация текста с обрезкой до max_length\n",
    "        tokens = self.tokenizer(\n",
    "            \"clustering: \" + text,\n",
    "            truncation=True,  # Обрезаем текст до max_length\n",
    "            max_length=self.max_length,\n",
    "            padding=\"max_length\",  # Дополняем до max_length\n",
    "            return_tensors=\"pt\"\n",
    "        )\n",
    "        inputs = {k: v.squeeze(0) for k, v in tokens.items()}\n",
    "\n",
    "        additional_features = torch.tensor(row[self.table_features].values.astype(float), dtype=torch.float32)\n",
    "        inputs[\"embeddings_skills\"] = torch.tensor(row[\"embeddings_skills\"].astype(float), dtype=torch.float32)\n",
    "        inputs[\"features\"] = additional_features\n",
    "        \n",
    "        # Целевая переменная\n",
    "        if \"log_salary_from\" in self.df.columns:\n",
    "            target = row[\"log_salary_from\"]\n",
    "\n",
    "            inputs[\"target\"] = torch.tensor(target, dtype=torch.float)\n",
    "        \n",
    "        return inputs"
   ]
  },
  {
   "cell_type": "code",
   "execution_count": 14,
   "id": "698c0a17",
   "metadata": {},
   "outputs": [],
   "source": [
    "num_features = [\"company_encoded\", \"location_encoded\", \"experience_from\"]\n",
    "tokenizer = AutoTokenizer.from_pretrained(\"deepvk/deberta-v1-distill\")\n",
    "\n",
    "train_dataset = BertVacancyDataset(train_df, tokenizer, max_length=512, table_features=num_features)\n",
    "val_dataset = BertVacancyDataset(val_df, tokenizer, max_length=512, table_features=num_features)\n",
    "\n",
    "train_loader = DataLoader(train_dataset, batch_size=16, shuffle=True)\n",
    "val_loader = DataLoader(val_dataset, batch_size=32, shuffle=False)"
   ]
  },
  {
   "cell_type": "code",
   "execution_count": null,
   "id": "1916c056",
   "metadata": {},
   "outputs": [],
   "source": [
    "class BertRegressor(pl.LightningModule):\n",
    "    def __init__(self, pretrained_model, num_features, embeddings_skills, dropout=0.1):\n",
    "        super().__init__()\n",
    "        self.save_hyperparameters()\n",
    "        self.validation_step_outputs = defaultdict(list)\n",
    "\n",
    "        self.bert = pretrained_model\n",
    "        self.hidden_size = self.bert.config.hidden_size\n",
    "\n",
    "        for param in self.bert.embeddings.parameters():\n",
    "            param.requires_grad = False\n",
    "\n",
    "        # for i in range(2):\n",
    "            # for param in self.bert.encoder.layer[i].parameters():\n",
    "                # param.requires_grad = False\n",
    "\n",
    "        # self.attention_weights = nn.Linear(self.hidden_size, 1)\n",
    "\n",
    "        # Финальный линейный слой\n",
    "        self.fc = nn.Sequential(\n",
    "            nn.Dropout(dropout),\n",
    "            nn.ReLU(),\n",
    "            nn.Linear(self.hidden_size + num_features + embeddings_skills, 256),\n",
    "            nn.ReLU(),\n",
    "            nn.Linear(256, 128),\n",
    "            nn.ReLU(),\n",
    "            nn.Linear(128, 1)\n",
    "        )\n",
    "\n",
    "        self.criterion = nn.HuberLoss(delta=0.5)\n",
    "\n",
    "    def forward(self, input_ids, attention_mask, additional_features, embeddings_skills):\n",
    "        outputs = self.bert(input_ids=input_ids, attention_mask=attention_mask)\n",
    "        \n",
    "        # attention_scores = torch.softmax(self.attention_weights(outputs.last_hidden_state), dim=1)\n",
    "        # pooled_output = torch.sum(outputs.last_hidden_state * attention_scores, dim=1)\n",
    "\n",
    "        embeddings = outputs.last_hidden_state[:, 0, :]\n",
    "        embeddings = torch.nn.functional.normalize(embeddings)\n",
    "\n",
    "        combined_features = torch.cat([embeddings, additional_features, embeddings_skills], dim=1)\n",
    "\n",
    "        output = self.fc(combined_features)\n",
    "\n",
    "        return output.squeeze()\n",
    "\n",
    "    def training_step(self, batch, batch_idx):\n",
    "        input_ids = batch[\"input_ids\"]\n",
    "        attention_mask = batch[\"attention_mask\"]\n",
    "        # token_type_ids = batch[\"token_type_ids\"]\n",
    "        additional_features = batch[\"features\"]\n",
    "        embeddings_skills = batch[\"embeddings_skills\"]\n",
    "        targets = batch[\"target\"]\n",
    "\n",
    "        predictions = self(input_ids, attention_mask, additional_features, embeddings_skills)\n",
    "        loss = self.criterion(predictions, targets)\n",
    "        self.log(\"train_loss\", loss, prog_bar=True)\n",
    "\n",
    "        current_lr = self.trainer.optimizers[0].param_groups[0]['lr']\n",
    "        self.log(\"learning_rate\", current_lr, prog_bar=True, on_step=True)\n",
    "\n",
    "        return loss\n",
    "\n",
    "    def validation_step(self, batch, batch_idx):\n",
    "        input_ids = batch[\"input_ids\"]\n",
    "        attention_mask = batch[\"attention_mask\"]\n",
    "        # token_type_ids = batch[\"token_type_ids\"]\n",
    "        additional_features = batch[\"features\"]\n",
    "        embeddings_skills = batch[\"embeddings_skills\"]\n",
    "        targets = batch[\"target\"]\n",
    "\n",
    "        outputs = self(input_ids, attention_mask, additional_features, embeddings_skills)\n",
    "        loss = self.criterion(outputs, targets)\n",
    "        self.log(\"val_loss\", loss, prog_bar=True)\n",
    "\n",
    "        self.validation_step_outputs[\"preds\"].append(outputs)\n",
    "        self.validation_step_outputs[\"target\"].append(targets)\n",
    "\n",
    "        return loss\n",
    "\n",
    "    def on_validation_epoch_end(self) -> None:\n",
    "        all_preds = torch.cat(self.validation_step_outputs[\"preds\"]).cpu().numpy()\n",
    "        all_targets = torch.cat(self.validation_step_outputs[\"target\"]).cpu().numpy()\n",
    "\n",
    "        r2 = r2_score(all_targets, all_preds)\n",
    "\n",
    "        self.log(\"val_r2\", r2, prog_bar=True)\n",
    "\n",
    "        self.validation_step_outputs.clear()\n",
    "\n",
    "    def configure_optimizers(self): # type: ignore\n",
    "        optimizer = optim.AdamW(self.parameters(), lr=5e-4, weight_decay=1e-2, eps=1e-6)\n",
    "        scheduler = optim.lr_scheduler.CosineAnnealingWarmRestarts(\n",
    "            optimizer,\n",
    "            T_0=10,  # Количество шагов до первого сброса\n",
    "            T_mult=2,  # Увеличение периода сброса\n",
    "            eta_min=1e-8,  # Минимальный LR\n",
    "            last_epoch=-1\n",
    "        )\n",
    "        return {\n",
    "            \"optimizer\": optimizer,\n",
    "            \"lr_scheduler\": {\n",
    "                \"scheduler\": scheduler,\n",
    "                \"interval\": \"step\",\n",
    "                \"name\": \"lr/CosineAnnealingWarmRestarts\",\n",
    "            },\n",
    "        }\n",
    "    \n",
    "    def on_train_start(self):\n",
    "        trainable_params = sum(p.numel() for p in self.parameters() if p.requires_grad)\n",
    "        total_params = sum(p.numel() for p in self.parameters())\n",
    "\n",
    "        print(f\"Trainable parameters: {trainable_params:,}\")\n",
    "        print(f\"Total parameters: {total_params:,}\")\n",
    "        print(f\"Percentage trainable: {100 * trainable_params / total_params:.2f}%\")"
   ]
  },
  {
   "cell_type": "code",
   "execution_count": 16,
   "id": "bb15e4cf",
   "metadata": {},
   "outputs": [
    {
     "name": "stdout",
     "output_type": "stream",
     "text": [
      "ClearML Task: created new task id=18cda8ab285947aebdafd0ac7840f757\n",
      "2025-07-24 19:32:16,194 - clearml.Task - INFO - Storing jupyter notebook directly as code\n",
      "ClearML results page: https://app.clear.ml/projects/8870d7f669ca45988ef171246b781921/experiments/18cda8ab285947aebdafd0ac7840f757/output/log\n"
     ]
    },
    {
     "name": "stdout",
     "output_type": "stream",
     "text": [
      "ClearML results page: https://app.clear.ml/projects/8870d7f669ca45988ef171246b781921/experiments/18cda8ab285947aebdafd0ac7840f757/output/log\n",
      "ClearML Monitor: Could not detect iteration reporting, falling back to iterations as seconds-from-start\n"
     ]
    }
   ],
   "source": [
    "task = Task.init(\n",
    "    project_name=\"Competitions/teta_nn_1_2025_predict_salary\",\n",
    "    task_name=\"Extract skills t5 and deberta freezing embeddings v1.1\",\n",
    "    task_type=TaskTypes.training,\n",
    "    tags=[\"training\", \"transformer\", \"deberta-distil\", \"basil-77/rut5-base-absum-hh\"],\n",
    "    auto_connect_frameworks={\"pytorch\": True},\n",
    "    output_uri=True,\n",
    ")"
   ]
  },
  {
   "cell_type": "code",
   "execution_count": 23,
   "id": "7ff3e693",
   "metadata": {},
   "outputs": [
    {
     "name": "stderr",
     "output_type": "stream",
     "text": [
      "/usr/local/lib/python3.11/dist-packages/pytorch_lightning/core/saving.py:363: UserWarning:\n",
      "\n",
      "Skipping 'pretrained_model' parameter because it is not possible to safely dump to YAML.\n",
      "\n"
     ]
    },
    {
     "data": {
      "application/vnd.jupyter.widget-view+json": {
       "model_id": "3ab38316d946432fbac1d2f824253c96",
       "version_major": 2,
       "version_minor": 0
      },
      "text/plain": [
       "Sanity Checking: |          | 0/? [00:00<?, ?it/s]"
      ]
     },
     "metadata": {},
     "output_type": "display_data"
    },
    {
     "name": "stderr",
     "output_type": "stream",
     "text": [
      "/usr/local/lib/python3.11/dist-packages/pytorch_lightning/trainer/connectors/data_connector.py:425: PossibleUserWarning:\n",
      "\n",
      "The 'val_dataloader' does not have many workers which may be a bottleneck. Consider increasing the value of the `num_workers` argument` to `num_workers=3` in the `DataLoader` to improve performance.\n",
      "\n",
      "/usr/local/lib/python3.11/dist-packages/pytorch_lightning/trainer/connectors/data_connector.py:425: PossibleUserWarning:\n",
      "\n",
      "The 'train_dataloader' does not have many workers which may be a bottleneck. Consider increasing the value of the `num_workers` argument` to `num_workers=3` in the `DataLoader` to improve performance.\n",
      "\n"
     ]
    },
    {
     "data": {
      "application/vnd.jupyter.widget-view+json": {
       "model_id": "6aa074fcc4c647e7ba907cf03ec9d88b",
       "version_major": 2,
       "version_minor": 0
      },
      "text/plain": [
       "Training: |          | 0/? [00:00<?, ?it/s]"
      ]
     },
     "metadata": {},
     "output_type": "display_data"
    },
    {
     "name": "stdout",
     "output_type": "stream",
     "text": [
      "Trainable parameters: 42,949,889\n",
      "Total parameters: 81,948,161\n",
      "Percentage trainable: 52.41%\n"
     ]
    },
    {
     "data": {
      "application/vnd.jupyter.widget-view+json": {
       "model_id": "94ee38d08e754595aa20e4708eed17bb",
       "version_major": 2,
       "version_minor": 0
      },
      "text/plain": [
       "Validation: |          | 0/? [00:00<?, ?it/s]"
      ]
     },
     "metadata": {},
     "output_type": "display_data"
    },
    {
     "data": {
      "application/vnd.jupyter.widget-view+json": {
       "model_id": "f45e660f20384753b201754d01e2a709",
       "version_major": 2,
       "version_minor": 0
      },
      "text/plain": [
       "Validation: |          | 0/? [00:00<?, ?it/s]"
      ]
     },
     "metadata": {},
     "output_type": "display_data"
    },
    {
     "name": "stdout",
     "output_type": "stream",
     "text": [
      "2025-07-24 19:49:05,793 - clearml.storage - INFO - Uploading: 640.44MB from /tmp/.clearml.upload_model_cy903yi9.tmp\n"
     ]
    },
    {
     "name": "stderr",
     "output_type": "stream",
     "text": [
      "█████████████████████████████ 100% | 640.44/640.44 MB [00:11<00:00, 55.56MB/s]: "
     ]
    },
    {
     "name": "stdout",
     "output_type": "stream",
     "text": [
      "2025-07-24 19:49:17,335 - clearml.Task - INFO - Completed model upload to https://files.clear.ml/Competitions/teta_nn_1_2025_predict_salary/Extract%20skills%20t5%20and%20deberta%20freezing%20embeddings%20v1.1.18cda8ab285947aebdafd0ac7840f757/models/salary_prediction_v1.0-epoch%3D01-val_loss%3D0.13-val_r2%3D0.1549.ckpt\n"
     ]
    },
    {
     "name": "stderr",
     "output_type": "stream",
     "text": [
      "\n"
     ]
    },
    {
     "data": {
      "application/vnd.jupyter.widget-view+json": {
       "model_id": "a757e14e854648adbb310c74e1e5d421",
       "version_major": 2,
       "version_minor": 0
      },
      "text/plain": [
       "Validation: |          | 0/? [00:00<?, ?it/s]"
      ]
     },
     "metadata": {},
     "output_type": "display_data"
    },
    {
     "data": {
      "application/vnd.jupyter.widget-view+json": {
       "model_id": "253a69bf89244b1cb87ba2761ced56fd",
       "version_major": 2,
       "version_minor": 0
      },
      "text/plain": [
       "Validation: |          | 0/? [00:00<?, ?it/s]"
      ]
     },
     "metadata": {},
     "output_type": "display_data"
    },
    {
     "name": "stdout",
     "output_type": "stream",
     "text": [
      "2025-07-24 20:03:24,411 - clearml.storage - INFO - Uploading: 640.44MB from /tmp/.clearml.upload_model_voky6vqf.tmp\n"
     ]
    },
    {
     "name": "stderr",
     "output_type": "stream",
     "text": [
      "█████████████████████████████ 100% | 640.44/640.44 MB [00:12<00:00, 51.49MB/s]: "
     ]
    },
    {
     "name": "stdout",
     "output_type": "stream",
     "text": [
      "2025-07-24 20:03:36,858 - clearml.Task - INFO - Completed model upload to https://files.clear.ml/Competitions/teta_nn_1_2025_predict_salary/Extract%20skills%20t5%20and%20deberta%20freezing%20embeddings%20v1.1.18cda8ab285947aebdafd0ac7840f757/models/salary_prediction_v1.0-epoch%3D03-val_loss%3D0.27-val_r2%3D-1.2892.ckpt\n"
     ]
    },
    {
     "name": "stderr",
     "output_type": "stream",
     "text": [
      "\n"
     ]
    },
    {
     "data": {
      "application/vnd.jupyter.widget-view+json": {
       "model_id": "b2b18f72adf942008574f7f52cae8b31",
       "version_major": 2,
       "version_minor": 0
      },
      "text/plain": [
       "Validation: |          | 0/? [00:00<?, ?it/s]"
      ]
     },
     "metadata": {},
     "output_type": "display_data"
    },
    {
     "data": {
      "application/vnd.jupyter.widget-view+json": {
       "model_id": "be41d47a70d141ca91bb23fe4449b32f",
       "version_major": 2,
       "version_minor": 0
      },
      "text/plain": [
       "Validation: |          | 0/? [00:00<?, ?it/s]"
      ]
     },
     "metadata": {},
     "output_type": "display_data"
    },
    {
     "name": "stdout",
     "output_type": "stream",
     "text": [
      "2025-07-24 20:17:39,277 - clearml.storage - INFO - Uploading: 640.44MB from /tmp/.clearml.upload_model__h4v08iv.tmp\n"
     ]
    },
    {
     "name": "stderr",
     "output_type": "stream",
     "text": [
      "█████████████████████████████ 100% | 640.44/640.44 MB [00:11<00:00, 53.92MB/s]: "
     ]
    },
    {
     "name": "stdout",
     "output_type": "stream",
     "text": [
      "2025-07-24 20:17:51,162 - clearml.Task - INFO - Completed model upload to https://files.clear.ml/Competitions/teta_nn_1_2025_predict_salary/Extract%20skills%20t5%20and%20deberta%20freezing%20embeddings%20v1.1.18cda8ab285947aebdafd0ac7840f757/models/salary_prediction_v1.0-epoch%3D05-val_loss%3D0.11-val_r2%3D0.2866.ckpt\n"
     ]
    },
    {
     "name": "stderr",
     "output_type": "stream",
     "text": [
      "\n"
     ]
    },
    {
     "data": {
      "application/vnd.jupyter.widget-view+json": {
       "model_id": "490eb294ea9241ceaafc9b70e0892c55",
       "version_major": 2,
       "version_minor": 0
      },
      "text/plain": [
       "Validation: |          | 0/? [00:00<?, ?it/s]"
      ]
     },
     "metadata": {},
     "output_type": "display_data"
    },
    {
     "ename": "NameError",
     "evalue": "name 'exit' is not defined",
     "output_type": "error",
     "traceback": [
      "\u001b[0;31m---------------------------------------------------------------------------\u001b[0m",
      "\u001b[0;31mKeyboardInterrupt\u001b[0m                         Traceback (most recent call last)",
      "\u001b[0;32m/usr/local/lib/python3.11/dist-packages/pytorch_lightning/trainer/call.py\u001b[0m in \u001b[0;36m_call_and_handle_interrupt\u001b[0;34m(trainer, trainer_fn, *args, **kwargs)\u001b[0m\n\u001b[1;32m     47\u001b[0m             \u001b[0;32mreturn\u001b[0m \u001b[0mtrainer\u001b[0m\u001b[0;34m.\u001b[0m\u001b[0mstrategy\u001b[0m\u001b[0;34m.\u001b[0m\u001b[0mlauncher\u001b[0m\u001b[0;34m.\u001b[0m\u001b[0mlaunch\u001b[0m\u001b[0;34m(\u001b[0m\u001b[0mtrainer_fn\u001b[0m\u001b[0;34m,\u001b[0m \u001b[0;34m*\u001b[0m\u001b[0margs\u001b[0m\u001b[0;34m,\u001b[0m \u001b[0mtrainer\u001b[0m\u001b[0;34m=\u001b[0m\u001b[0mtrainer\u001b[0m\u001b[0;34m,\u001b[0m \u001b[0;34m**\u001b[0m\u001b[0mkwargs\u001b[0m\u001b[0;34m)\u001b[0m\u001b[0;34m\u001b[0m\u001b[0;34m\u001b[0m\u001b[0m\n\u001b[0;32m---> 48\u001b[0;31m         \u001b[0;32mreturn\u001b[0m \u001b[0mtrainer_fn\u001b[0m\u001b[0;34m(\u001b[0m\u001b[0;34m*\u001b[0m\u001b[0margs\u001b[0m\u001b[0;34m,\u001b[0m \u001b[0;34m**\u001b[0m\u001b[0mkwargs\u001b[0m\u001b[0;34m)\u001b[0m\u001b[0;34m\u001b[0m\u001b[0;34m\u001b[0m\u001b[0m\n\u001b[0m\u001b[1;32m     49\u001b[0m \u001b[0;34m\u001b[0m\u001b[0m\n",
      "\u001b[0;32m/usr/local/lib/python3.11/dist-packages/pytorch_lightning/trainer/trainer.py\u001b[0m in \u001b[0;36m_fit_impl\u001b[0;34m(self, model, train_dataloaders, val_dataloaders, datamodule, ckpt_path)\u001b[0m\n\u001b[1;32m    598\u001b[0m         )\n\u001b[0;32m--> 599\u001b[0;31m         \u001b[0mself\u001b[0m\u001b[0;34m.\u001b[0m\u001b[0m_run\u001b[0m\u001b[0;34m(\u001b[0m\u001b[0mmodel\u001b[0m\u001b[0;34m,\u001b[0m \u001b[0mckpt_path\u001b[0m\u001b[0;34m=\u001b[0m\u001b[0mckpt_path\u001b[0m\u001b[0;34m)\u001b[0m\u001b[0;34m\u001b[0m\u001b[0;34m\u001b[0m\u001b[0m\n\u001b[0m\u001b[1;32m    600\u001b[0m \u001b[0;34m\u001b[0m\u001b[0m\n",
      "\u001b[0;32m/usr/local/lib/python3.11/dist-packages/pytorch_lightning/trainer/trainer.py\u001b[0m in \u001b[0;36m_run\u001b[0;34m(self, model, ckpt_path)\u001b[0m\n\u001b[1;32m   1011\u001b[0m         \u001b[0;31m# ----------------------------\u001b[0m\u001b[0;34m\u001b[0m\u001b[0;34m\u001b[0m\u001b[0m\n\u001b[0;32m-> 1012\u001b[0;31m         \u001b[0mresults\u001b[0m \u001b[0;34m=\u001b[0m \u001b[0mself\u001b[0m\u001b[0;34m.\u001b[0m\u001b[0m_run_stage\u001b[0m\u001b[0;34m(\u001b[0m\u001b[0;34m)\u001b[0m\u001b[0;34m\u001b[0m\u001b[0;34m\u001b[0m\u001b[0m\n\u001b[0m\u001b[1;32m   1013\u001b[0m \u001b[0;34m\u001b[0m\u001b[0m\n",
      "\u001b[0;32m/usr/local/lib/python3.11/dist-packages/pytorch_lightning/trainer/trainer.py\u001b[0m in \u001b[0;36m_run_stage\u001b[0;34m(self)\u001b[0m\n\u001b[1;32m   1055\u001b[0m             \u001b[0;32mwith\u001b[0m \u001b[0mtorch\u001b[0m\u001b[0;34m.\u001b[0m\u001b[0mautograd\u001b[0m\u001b[0;34m.\u001b[0m\u001b[0mset_detect_anomaly\u001b[0m\u001b[0;34m(\u001b[0m\u001b[0mself\u001b[0m\u001b[0;34m.\u001b[0m\u001b[0m_detect_anomaly\u001b[0m\u001b[0;34m)\u001b[0m\u001b[0;34m:\u001b[0m\u001b[0;34m\u001b[0m\u001b[0;34m\u001b[0m\u001b[0m\n\u001b[0;32m-> 1056\u001b[0;31m                 \u001b[0mself\u001b[0m\u001b[0;34m.\u001b[0m\u001b[0mfit_loop\u001b[0m\u001b[0;34m.\u001b[0m\u001b[0mrun\u001b[0m\u001b[0;34m(\u001b[0m\u001b[0;34m)\u001b[0m\u001b[0;34m\u001b[0m\u001b[0;34m\u001b[0m\u001b[0m\n\u001b[0m\u001b[1;32m   1057\u001b[0m             \u001b[0;32mreturn\u001b[0m \u001b[0;32mNone\u001b[0m\u001b[0;34m\u001b[0m\u001b[0;34m\u001b[0m\u001b[0m\n",
      "\u001b[0;32m/usr/local/lib/python3.11/dist-packages/pytorch_lightning/loops/fit_loop.py\u001b[0m in \u001b[0;36mrun\u001b[0;34m(self)\u001b[0m\n\u001b[1;32m    215\u001b[0m                 \u001b[0mself\u001b[0m\u001b[0;34m.\u001b[0m\u001b[0mon_advance_start\u001b[0m\u001b[0;34m(\u001b[0m\u001b[0;34m)\u001b[0m\u001b[0;34m\u001b[0m\u001b[0;34m\u001b[0m\u001b[0m\n\u001b[0;32m--> 216\u001b[0;31m                 \u001b[0mself\u001b[0m\u001b[0;34m.\u001b[0m\u001b[0madvance\u001b[0m\u001b[0;34m(\u001b[0m\u001b[0;34m)\u001b[0m\u001b[0;34m\u001b[0m\u001b[0;34m\u001b[0m\u001b[0m\n\u001b[0m\u001b[1;32m    217\u001b[0m                 \u001b[0mself\u001b[0m\u001b[0;34m.\u001b[0m\u001b[0mon_advance_end\u001b[0m\u001b[0;34m(\u001b[0m\u001b[0;34m)\u001b[0m\u001b[0;34m\u001b[0m\u001b[0;34m\u001b[0m\u001b[0m\n",
      "\u001b[0;32m/usr/local/lib/python3.11/dist-packages/pytorch_lightning/loops/fit_loop.py\u001b[0m in \u001b[0;36madvance\u001b[0;34m(self)\u001b[0m\n\u001b[1;32m    454\u001b[0m             \u001b[0;32massert\u001b[0m \u001b[0mself\u001b[0m\u001b[0;34m.\u001b[0m\u001b[0m_data_fetcher\u001b[0m \u001b[0;32mis\u001b[0m \u001b[0;32mnot\u001b[0m \u001b[0;32mNone\u001b[0m\u001b[0;34m\u001b[0m\u001b[0;34m\u001b[0m\u001b[0m\n\u001b[0;32m--> 455\u001b[0;31m             \u001b[0mself\u001b[0m\u001b[0;34m.\u001b[0m\u001b[0mepoch_loop\u001b[0m\u001b[0;34m.\u001b[0m\u001b[0mrun\u001b[0m\u001b[0;34m(\u001b[0m\u001b[0mself\u001b[0m\u001b[0;34m.\u001b[0m\u001b[0m_data_fetcher\u001b[0m\u001b[0;34m)\u001b[0m\u001b[0;34m\u001b[0m\u001b[0;34m\u001b[0m\u001b[0m\n\u001b[0m\u001b[1;32m    456\u001b[0m \u001b[0;34m\u001b[0m\u001b[0m\n",
      "\u001b[0;32m/usr/local/lib/python3.11/dist-packages/pytorch_lightning/loops/training_epoch_loop.py\u001b[0m in \u001b[0;36mrun\u001b[0;34m(self, data_fetcher)\u001b[0m\n\u001b[1;32m    151\u001b[0m             \u001b[0;32mtry\u001b[0m\u001b[0;34m:\u001b[0m\u001b[0;34m\u001b[0m\u001b[0;34m\u001b[0m\u001b[0m\n\u001b[0;32m--> 152\u001b[0;31m                 \u001b[0mself\u001b[0m\u001b[0;34m.\u001b[0m\u001b[0madvance\u001b[0m\u001b[0;34m(\u001b[0m\u001b[0mdata_fetcher\u001b[0m\u001b[0;34m)\u001b[0m\u001b[0;34m\u001b[0m\u001b[0;34m\u001b[0m\u001b[0m\n\u001b[0m\u001b[1;32m    153\u001b[0m                 \u001b[0mself\u001b[0m\u001b[0;34m.\u001b[0m\u001b[0mon_advance_end\u001b[0m\u001b[0;34m(\u001b[0m\u001b[0mdata_fetcher\u001b[0m\u001b[0;34m)\u001b[0m\u001b[0;34m\u001b[0m\u001b[0;34m\u001b[0m\u001b[0m\n",
      "\u001b[0;32m/usr/local/lib/python3.11/dist-packages/pytorch_lightning/loops/training_epoch_loop.py\u001b[0m in \u001b[0;36madvance\u001b[0;34m(self, data_fetcher)\u001b[0m\n\u001b[1;32m    362\u001b[0m \u001b[0;34m\u001b[0m\u001b[0m\n\u001b[0;32m--> 363\u001b[0;31m         \u001b[0mcall\u001b[0m\u001b[0;34m.\u001b[0m\u001b[0m_call_callback_hooks\u001b[0m\u001b[0;34m(\u001b[0m\u001b[0mtrainer\u001b[0m\u001b[0;34m,\u001b[0m \u001b[0;34m\"on_train_batch_end\"\u001b[0m\u001b[0;34m,\u001b[0m \u001b[0mbatch_output\u001b[0m\u001b[0;34m,\u001b[0m \u001b[0mbatch\u001b[0m\u001b[0;34m,\u001b[0m \u001b[0mbatch_idx\u001b[0m\u001b[0;34m)\u001b[0m\u001b[0;34m\u001b[0m\u001b[0;34m\u001b[0m\u001b[0m\n\u001b[0m\u001b[1;32m    364\u001b[0m         \u001b[0mcall\u001b[0m\u001b[0;34m.\u001b[0m\u001b[0m_call_lightning_module_hook\u001b[0m\u001b[0;34m(\u001b[0m\u001b[0mtrainer\u001b[0m\u001b[0;34m,\u001b[0m \u001b[0;34m\"on_train_batch_end\"\u001b[0m\u001b[0;34m,\u001b[0m \u001b[0mbatch_output\u001b[0m\u001b[0;34m,\u001b[0m \u001b[0mbatch\u001b[0m\u001b[0;34m,\u001b[0m \u001b[0mbatch_idx\u001b[0m\u001b[0;34m)\u001b[0m\u001b[0;34m\u001b[0m\u001b[0;34m\u001b[0m\u001b[0m\n",
      "\u001b[0;32m/usr/local/lib/python3.11/dist-packages/pytorch_lightning/trainer/call.py\u001b[0m in \u001b[0;36m_call_callback_hooks\u001b[0;34m(trainer, hook_name, monitoring_callbacks, *args, **kwargs)\u001b[0m\n\u001b[1;32m    226\u001b[0m             \u001b[0;32mwith\u001b[0m \u001b[0mtrainer\u001b[0m\u001b[0;34m.\u001b[0m\u001b[0mprofiler\u001b[0m\u001b[0;34m.\u001b[0m\u001b[0mprofile\u001b[0m\u001b[0;34m(\u001b[0m\u001b[0;34mf\"[Callback]{callback.state_key}.{hook_name}\"\u001b[0m\u001b[0;34m)\u001b[0m\u001b[0;34m:\u001b[0m\u001b[0;34m\u001b[0m\u001b[0;34m\u001b[0m\u001b[0m\n\u001b[0;32m--> 227\u001b[0;31m                 \u001b[0mfn\u001b[0m\u001b[0;34m(\u001b[0m\u001b[0mtrainer\u001b[0m\u001b[0;34m,\u001b[0m \u001b[0mtrainer\u001b[0m\u001b[0;34m.\u001b[0m\u001b[0mlightning_module\u001b[0m\u001b[0;34m,\u001b[0m \u001b[0;34m*\u001b[0m\u001b[0margs\u001b[0m\u001b[0;34m,\u001b[0m \u001b[0;34m**\u001b[0m\u001b[0mkwargs\u001b[0m\u001b[0;34m)\u001b[0m\u001b[0;34m\u001b[0m\u001b[0;34m\u001b[0m\u001b[0m\n\u001b[0m\u001b[1;32m    228\u001b[0m \u001b[0;34m\u001b[0m\u001b[0m\n",
      "\u001b[0;32m/usr/local/lib/python3.11/dist-packages/pytorch_lightning/callbacks/progress/tqdm_progress.py\u001b[0m in \u001b[0;36mon_train_batch_end\u001b[0;34m(self, trainer, pl_module, outputs, batch, batch_idx)\u001b[0m\n\u001b[1;32m    278\u001b[0m             \u001b[0m_update_n\u001b[0m\u001b[0;34m(\u001b[0m\u001b[0mself\u001b[0m\u001b[0;34m.\u001b[0m\u001b[0mtrain_progress_bar\u001b[0m\u001b[0;34m,\u001b[0m \u001b[0mn\u001b[0m\u001b[0;34m)\u001b[0m\u001b[0;34m\u001b[0m\u001b[0;34m\u001b[0m\u001b[0m\n\u001b[0;32m--> 279\u001b[0;31m             \u001b[0mself\u001b[0m\u001b[0;34m.\u001b[0m\u001b[0mtrain_progress_bar\u001b[0m\u001b[0;34m.\u001b[0m\u001b[0mset_postfix\u001b[0m\u001b[0;34m(\u001b[0m\u001b[0mself\u001b[0m\u001b[0;34m.\u001b[0m\u001b[0mget_metrics\u001b[0m\u001b[0;34m(\u001b[0m\u001b[0mtrainer\u001b[0m\u001b[0;34m,\u001b[0m \u001b[0mpl_module\u001b[0m\u001b[0;34m)\u001b[0m\u001b[0;34m)\u001b[0m\u001b[0;34m\u001b[0m\u001b[0;34m\u001b[0m\u001b[0m\n\u001b[0m\u001b[1;32m    280\u001b[0m \u001b[0;34m\u001b[0m\u001b[0m\n",
      "\u001b[0;32m/usr/local/lib/python3.11/dist-packages/pytorch_lightning/callbacks/progress/progress_bar.py\u001b[0m in \u001b[0;36mget_metrics\u001b[0;34m(self, trainer, pl_module)\u001b[0m\n\u001b[1;32m    200\u001b[0m         \u001b[0mstandard_metrics\u001b[0m \u001b[0;34m=\u001b[0m \u001b[0mget_standard_metrics\u001b[0m\u001b[0;34m(\u001b[0m\u001b[0mtrainer\u001b[0m\u001b[0;34m)\u001b[0m\u001b[0;34m\u001b[0m\u001b[0;34m\u001b[0m\u001b[0m\n\u001b[0;32m--> 201\u001b[0;31m         \u001b[0mpbar_metrics\u001b[0m \u001b[0;34m=\u001b[0m \u001b[0mtrainer\u001b[0m\u001b[0;34m.\u001b[0m\u001b[0mprogress_bar_metrics\u001b[0m\u001b[0;34m\u001b[0m\u001b[0;34m\u001b[0m\u001b[0m\n\u001b[0m\u001b[1;32m    202\u001b[0m         \u001b[0mduplicates\u001b[0m \u001b[0;34m=\u001b[0m \u001b[0mlist\u001b[0m\u001b[0;34m(\u001b[0m\u001b[0mstandard_metrics\u001b[0m\u001b[0;34m.\u001b[0m\u001b[0mkeys\u001b[0m\u001b[0;34m(\u001b[0m\u001b[0;34m)\u001b[0m \u001b[0;34m&\u001b[0m \u001b[0mpbar_metrics\u001b[0m\u001b[0;34m.\u001b[0m\u001b[0mkeys\u001b[0m\u001b[0;34m(\u001b[0m\u001b[0;34m)\u001b[0m\u001b[0;34m)\u001b[0m\u001b[0;34m\u001b[0m\u001b[0;34m\u001b[0m\u001b[0m\n",
      "\u001b[0;32m/usr/local/lib/python3.11/dist-packages/pytorch_lightning/trainer/trainer.py\u001b[0m in \u001b[0;36mprogress_bar_metrics\u001b[0;34m(self)\u001b[0m\n\u001b[1;32m   1666\u001b[0m         \"\"\"\n\u001b[0;32m-> 1667\u001b[0;31m         \u001b[0;32mreturn\u001b[0m \u001b[0mself\u001b[0m\u001b[0;34m.\u001b[0m\u001b[0m_logger_connector\u001b[0m\u001b[0;34m.\u001b[0m\u001b[0mprogress_bar_metrics\u001b[0m\u001b[0;34m\u001b[0m\u001b[0;34m\u001b[0m\u001b[0m\n\u001b[0m\u001b[1;32m   1668\u001b[0m \u001b[0;34m\u001b[0m\u001b[0m\n",
      "\u001b[0;32m/usr/local/lib/python3.11/dist-packages/pytorch_lightning/trainer/connectors/logger_connector/logger_connector.py\u001b[0m in \u001b[0;36mprogress_bar_metrics\u001b[0;34m(self)\u001b[0m\n\u001b[1;32m    254\u001b[0m         \u001b[0;32mif\u001b[0m \u001b[0mself\u001b[0m\u001b[0;34m.\u001b[0m\u001b[0mtrainer\u001b[0m\u001b[0;34m.\u001b[0m\u001b[0m_results\u001b[0m\u001b[0;34m:\u001b[0m\u001b[0;34m\u001b[0m\u001b[0;34m\u001b[0m\u001b[0m\n\u001b[0;32m--> 255\u001b[0;31m             \u001b[0mmetrics\u001b[0m \u001b[0;34m=\u001b[0m \u001b[0mself\u001b[0m\u001b[0;34m.\u001b[0m\u001b[0mmetrics\u001b[0m\u001b[0;34m[\u001b[0m\u001b[0;34m\"pbar\"\u001b[0m\u001b[0;34m]\u001b[0m\u001b[0;34m\u001b[0m\u001b[0;34m\u001b[0m\u001b[0m\n\u001b[0m\u001b[1;32m    256\u001b[0m             \u001b[0mself\u001b[0m\u001b[0;34m.\u001b[0m\u001b[0m_progress_bar_metrics\u001b[0m\u001b[0;34m.\u001b[0m\u001b[0mupdate\u001b[0m\u001b[0;34m(\u001b[0m\u001b[0mmetrics\u001b[0m\u001b[0;34m)\u001b[0m\u001b[0;34m\u001b[0m\u001b[0;34m\u001b[0m\u001b[0m\n",
      "\u001b[0;32m/usr/local/lib/python3.11/dist-packages/pytorch_lightning/trainer/connectors/logger_connector/logger_connector.py\u001b[0m in \u001b[0;36mmetrics\u001b[0;34m(self)\u001b[0m\n\u001b[1;32m    235\u001b[0m         \u001b[0;32massert\u001b[0m \u001b[0mself\u001b[0m\u001b[0;34m.\u001b[0m\u001b[0mtrainer\u001b[0m\u001b[0;34m.\u001b[0m\u001b[0m_results\u001b[0m \u001b[0;32mis\u001b[0m \u001b[0;32mnot\u001b[0m \u001b[0;32mNone\u001b[0m\u001b[0;34m\u001b[0m\u001b[0;34m\u001b[0m\u001b[0m\n\u001b[0;32m--> 236\u001b[0;31m         \u001b[0;32mreturn\u001b[0m \u001b[0mself\u001b[0m\u001b[0;34m.\u001b[0m\u001b[0mtrainer\u001b[0m\u001b[0;34m.\u001b[0m\u001b[0m_results\u001b[0m\u001b[0;34m.\u001b[0m\u001b[0mmetrics\u001b[0m\u001b[0;34m(\u001b[0m\u001b[0mon_step\u001b[0m\u001b[0;34m)\u001b[0m\u001b[0;34m\u001b[0m\u001b[0;34m\u001b[0m\u001b[0m\n\u001b[0m\u001b[1;32m    237\u001b[0m \u001b[0;34m\u001b[0m\u001b[0m\n",
      "\u001b[0;32m/usr/local/lib/python3.11/dist-packages/pytorch_lightning/trainer/connectors/logger_connector/result.py\u001b[0m in \u001b[0;36mmetrics\u001b[0;34m(self, on_step)\u001b[0m\n\u001b[1;32m    492\u001b[0m             \u001b[0;32mif\u001b[0m \u001b[0mresult_metric\u001b[0m\u001b[0;34m.\u001b[0m\u001b[0mmeta\u001b[0m\u001b[0;34m.\u001b[0m\u001b[0mprog_bar\u001b[0m\u001b[0;34m:\u001b[0m\u001b[0;34m\u001b[0m\u001b[0;34m\u001b[0m\u001b[0m\n\u001b[0;32m--> 493\u001b[0;31m                 \u001b[0mmetrics\u001b[0m\u001b[0;34m[\u001b[0m\u001b[0;34m\"pbar\"\u001b[0m\u001b[0;34m]\u001b[0m\u001b[0;34m[\u001b[0m\u001b[0mforked_name\u001b[0m\u001b[0;34m]\u001b[0m \u001b[0;34m=\u001b[0m \u001b[0mconvert_tensors_to_scalars\u001b[0m\u001b[0;34m(\u001b[0m\u001b[0mvalue\u001b[0m\u001b[0;34m)\u001b[0m\u001b[0;34m\u001b[0m\u001b[0;34m\u001b[0m\u001b[0m\n\u001b[0m\u001b[1;32m    494\u001b[0m \u001b[0;34m\u001b[0m\u001b[0m\n",
      "\u001b[0;32m/usr/local/lib/python3.11/dist-packages/lightning_fabric/utilities/apply_func.py\u001b[0m in \u001b[0;36mconvert_tensors_to_scalars\u001b[0;34m(data)\u001b[0m\n\u001b[1;32m    135\u001b[0m \u001b[0;34m\u001b[0m\u001b[0m\n\u001b[0;32m--> 136\u001b[0;31m     \u001b[0;32mreturn\u001b[0m \u001b[0mapply_to_collection\u001b[0m\u001b[0;34m(\u001b[0m\u001b[0mdata\u001b[0m\u001b[0;34m,\u001b[0m \u001b[0mTensor\u001b[0m\u001b[0;34m,\u001b[0m \u001b[0mto_item\u001b[0m\u001b[0;34m)\u001b[0m\u001b[0;34m\u001b[0m\u001b[0;34m\u001b[0m\u001b[0m\n\u001b[0m",
      "\u001b[0;32m/usr/local/lib/python3.11/dist-packages/lightning_utilities/core/apply_func.py\u001b[0m in \u001b[0;36mapply_to_collection\u001b[0;34m(data, dtype, function, wrong_dtype, include_none, allow_frozen, *args, **kwargs)\u001b[0m\n\u001b[1;32m     65\u001b[0m     \u001b[0;32mif\u001b[0m \u001b[0misinstance\u001b[0m\u001b[0;34m(\u001b[0m\u001b[0mdata\u001b[0m\u001b[0;34m,\u001b[0m \u001b[0mdtype\u001b[0m\u001b[0;34m)\u001b[0m\u001b[0;34m:\u001b[0m  \u001b[0;31m# single element\u001b[0m\u001b[0;34m\u001b[0m\u001b[0;34m\u001b[0m\u001b[0m\n\u001b[0;32m---> 66\u001b[0;31m         \u001b[0;32mreturn\u001b[0m \u001b[0mfunction\u001b[0m\u001b[0;34m(\u001b[0m\u001b[0mdata\u001b[0m\u001b[0;34m,\u001b[0m \u001b[0;34m*\u001b[0m\u001b[0margs\u001b[0m\u001b[0;34m,\u001b[0m \u001b[0;34m**\u001b[0m\u001b[0mkwargs\u001b[0m\u001b[0;34m)\u001b[0m\u001b[0;34m\u001b[0m\u001b[0;34m\u001b[0m\u001b[0m\n\u001b[0m\u001b[1;32m     67\u001b[0m     \u001b[0;32mif\u001b[0m \u001b[0mdata\u001b[0m\u001b[0;34m.\u001b[0m\u001b[0m__class__\u001b[0m \u001b[0;32mis\u001b[0m \u001b[0mlist\u001b[0m \u001b[0;32mand\u001b[0m \u001b[0mall\u001b[0m\u001b[0;34m(\u001b[0m\u001b[0misinstance\u001b[0m\u001b[0;34m(\u001b[0m\u001b[0mx\u001b[0m\u001b[0;34m,\u001b[0m \u001b[0mdtype\u001b[0m\u001b[0;34m)\u001b[0m \u001b[0;32mfor\u001b[0m \u001b[0mx\u001b[0m \u001b[0;32min\u001b[0m \u001b[0mdata\u001b[0m\u001b[0;34m)\u001b[0m\u001b[0;34m:\u001b[0m  \u001b[0;31m# 1d homogeneous list\u001b[0m\u001b[0;34m\u001b[0m\u001b[0;34m\u001b[0m\u001b[0m\n",
      "\u001b[0;32m/usr/local/lib/python3.11/dist-packages/lightning_fabric/utilities/apply_func.py\u001b[0m in \u001b[0;36mto_item\u001b[0;34m(value)\u001b[0m\n\u001b[1;32m    133\u001b[0m             )\n\u001b[0;32m--> 134\u001b[0;31m         \u001b[0;32mreturn\u001b[0m \u001b[0mvalue\u001b[0m\u001b[0;34m.\u001b[0m\u001b[0mitem\u001b[0m\u001b[0;34m(\u001b[0m\u001b[0;34m)\u001b[0m\u001b[0;34m\u001b[0m\u001b[0;34m\u001b[0m\u001b[0m\n\u001b[0m\u001b[1;32m    135\u001b[0m \u001b[0;34m\u001b[0m\u001b[0m\n",
      "\u001b[0;31mKeyboardInterrupt\u001b[0m: ",
      "\nDuring handling of the above exception, another exception occurred:\n",
      "\u001b[0;31mNameError\u001b[0m                                 Traceback (most recent call last)",
      "\u001b[0;32m/tmp/ipykernel_556/2027726495.py\u001b[0m in \u001b[0;36m<cell line: 0>\u001b[0;34m()\u001b[0m\n\u001b[1;32m     32\u001b[0m \u001b[0mtorch\u001b[0m\u001b[0;34m.\u001b[0m\u001b[0mcompile\u001b[0m\u001b[0;34m(\u001b[0m\u001b[0mmodel\u001b[0m\u001b[0;34m)\u001b[0m\u001b[0;34m\u001b[0m\u001b[0;34m\u001b[0m\u001b[0m\n\u001b[1;32m     33\u001b[0m \u001b[0;34m\u001b[0m\u001b[0m\n\u001b[0;32m---> 34\u001b[0;31m \u001b[0mtrainer\u001b[0m\u001b[0;34m.\u001b[0m\u001b[0mfit\u001b[0m\u001b[0;34m(\u001b[0m\u001b[0mmodel\u001b[0m\u001b[0;34m,\u001b[0m \u001b[0mtrain_loader\u001b[0m\u001b[0;34m,\u001b[0m \u001b[0mval_loader\u001b[0m\u001b[0;34m)\u001b[0m\u001b[0;34m\u001b[0m\u001b[0;34m\u001b[0m\u001b[0m\n\u001b[0m",
      "\u001b[0;32m/usr/local/lib/python3.11/dist-packages/pytorch_lightning/trainer/trainer.py\u001b[0m in \u001b[0;36mfit\u001b[0;34m(self, model, train_dataloaders, val_dataloaders, datamodule, ckpt_path)\u001b[0m\n\u001b[1;32m    559\u001b[0m         \u001b[0mself\u001b[0m\u001b[0;34m.\u001b[0m\u001b[0mtraining\u001b[0m \u001b[0;34m=\u001b[0m \u001b[0;32mTrue\u001b[0m\u001b[0;34m\u001b[0m\u001b[0;34m\u001b[0m\u001b[0m\n\u001b[1;32m    560\u001b[0m         \u001b[0mself\u001b[0m\u001b[0;34m.\u001b[0m\u001b[0mshould_stop\u001b[0m \u001b[0;34m=\u001b[0m \u001b[0;32mFalse\u001b[0m\u001b[0;34m\u001b[0m\u001b[0;34m\u001b[0m\u001b[0m\n\u001b[0;32m--> 561\u001b[0;31m         call._call_and_handle_interrupt(\n\u001b[0m\u001b[1;32m    562\u001b[0m             \u001b[0mself\u001b[0m\u001b[0;34m,\u001b[0m \u001b[0mself\u001b[0m\u001b[0;34m.\u001b[0m\u001b[0m_fit_impl\u001b[0m\u001b[0;34m,\u001b[0m \u001b[0mmodel\u001b[0m\u001b[0;34m,\u001b[0m \u001b[0mtrain_dataloaders\u001b[0m\u001b[0;34m,\u001b[0m \u001b[0mval_dataloaders\u001b[0m\u001b[0;34m,\u001b[0m \u001b[0mdatamodule\u001b[0m\u001b[0;34m,\u001b[0m \u001b[0mckpt_path\u001b[0m\u001b[0;34m\u001b[0m\u001b[0;34m\u001b[0m\u001b[0m\n\u001b[1;32m    563\u001b[0m         )\n",
      "\u001b[0;32m/usr/local/lib/python3.11/dist-packages/pytorch_lightning/trainer/call.py\u001b[0m in \u001b[0;36m_call_and_handle_interrupt\u001b[0;34m(trainer, trainer_fn, *args, **kwargs)\u001b[0m\n\u001b[1;32m     63\u001b[0m         \u001b[0;32mif\u001b[0m \u001b[0misinstance\u001b[0m\u001b[0;34m(\u001b[0m\u001b[0mlauncher\u001b[0m\u001b[0;34m,\u001b[0m \u001b[0m_SubprocessScriptLauncher\u001b[0m\u001b[0;34m)\u001b[0m\u001b[0;34m:\u001b[0m\u001b[0;34m\u001b[0m\u001b[0;34m\u001b[0m\u001b[0m\n\u001b[1;32m     64\u001b[0m             \u001b[0mlauncher\u001b[0m\u001b[0;34m.\u001b[0m\u001b[0mkill\u001b[0m\u001b[0;34m(\u001b[0m\u001b[0m_get_sigkill_signal\u001b[0m\u001b[0;34m(\u001b[0m\u001b[0;34m)\u001b[0m\u001b[0;34m)\u001b[0m\u001b[0;34m\u001b[0m\u001b[0;34m\u001b[0m\u001b[0m\n\u001b[0;32m---> 65\u001b[0;31m         \u001b[0mexit\u001b[0m\u001b[0;34m(\u001b[0m\u001b[0;36m1\u001b[0m\u001b[0;34m)\u001b[0m\u001b[0;34m\u001b[0m\u001b[0;34m\u001b[0m\u001b[0m\n\u001b[0m\u001b[1;32m     66\u001b[0m \u001b[0;34m\u001b[0m\u001b[0m\n\u001b[1;32m     67\u001b[0m     \u001b[0;32mexcept\u001b[0m \u001b[0mBaseException\u001b[0m \u001b[0;32mas\u001b[0m \u001b[0mexception\u001b[0m\u001b[0;34m:\u001b[0m\u001b[0;34m\u001b[0m\u001b[0;34m\u001b[0m\u001b[0m\n",
      "\u001b[0;31mNameError\u001b[0m: name 'exit' is not defined"
     ]
    }
   ],
   "source": [
    "checkpoint_callback = ModelCheckpoint(\n",
    "    monitor=\"val_r2\",\n",
    "    dirpath=\"checkpoints/\",\n",
    "    filename=\"salary_prediction_v1.0-{epoch:02d}-{val_loss:.2f}-{val_r2:.4f}\",\n",
    "    save_top_k=2,\n",
    "    mode=\"max\",\n",
    "    every_n_epochs=2\n",
    ")\n",
    "\n",
    "early_stopping = EarlyStopping(\n",
    "    monitor=\"val_r2\",\n",
    "    min_delta=0.001,\n",
    "    mode=\"max\",\n",
    "    patience=2\n",
    ")\n",
    "\n",
    "trainer = pl.Trainer(\n",
    "    max_epochs=20,\n",
    "    accelerator=\"gpu\" if torch.cuda.is_available() else \"cpu\",\n",
    "    callbacks=[checkpoint_callback],\n",
    "    log_every_n_steps=50\n",
    ")\n",
    "\n",
    "model_bert_tiny = DebertaModel.from_pretrained(\"deepvk/deberta-v1-distill\").to(device)\n",
    "\n",
    "model = BertRegressor( \n",
    "    model_bert_tiny,\n",
    "    num_features=len(num_features),\n",
    "    embeddings_skills=embeddings_skills.shape[1]\n",
    ")\n",
    "\n",
    "torch.compile(model)\n",
    "\n",
    "trainer.fit(model, train_loader, val_loader)"
   ]
  },
  {
   "cell_type": "code",
   "execution_count": 51,
   "id": "b0666a61",
   "metadata": {},
   "outputs": [],
   "source": [
    "task.close()"
   ]
  },
  {
   "cell_type": "code",
   "execution_count": null,
   "id": "adebd91e",
   "metadata": {},
   "outputs": [],
   "source": []
  }
 ],
 "metadata": {
  "kernelspec": {
   "display_name": "teta_nn_1_2025_predict_salary",
   "language": "python",
   "name": "python3"
  },
  "language_info": {
   "codemirror_mode": {
    "name": "ipython",
    "version": 3
   },
   "file_extension": ".py",
   "mimetype": "text/x-python",
   "name": "python",
   "nbconvert_exporter": "python",
   "pygments_lexer": "ipython3",
   "version": "3.12.10"
  }
 },
 "nbformat": 4,
 "nbformat_minor": 5
}
