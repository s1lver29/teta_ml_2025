{
 "cells": [
  {
   "cell_type": "code",
   "execution_count": 1,
   "id": "bab4a142",
   "metadata": {},
   "outputs": [],
   "source": [
    "import pandas as pd\n",
    "import numpy as np\n",
    "\n",
    "sub_1 = pd.read_csv(\"submission_top_1.csv\")\n",
    "sub_2 = pd.read_csv(\"submission_top_2.csv\")"
   ]
  },
  {
   "cell_type": "code",
   "execution_count": 2,
   "id": "408c00d5",
   "metadata": {},
   "outputs": [],
   "source": [
    "sub_final = sub_1.merge(\n",
    "    sub_2,\n",
    "    on=\"index\"\n",
    ")"
   ]
  },
  {
   "cell_type": "code",
   "execution_count": 3,
   "id": "236adf80",
   "metadata": {},
   "outputs": [],
   "source": [
    "sub_final[\"prediction\"] = (sub_final[\"prediction_x\"] * 0.7 + sub_final[\"prediction_y\"] * 0.3)"
   ]
  },
  {
   "cell_type": "code",
   "execution_count": null,
   "id": "ab599bfe",
   "metadata": {},
   "outputs": [],
   "source": []
  },
  {
   "cell_type": "code",
   "execution_count": 5,
   "id": "a1c25752",
   "metadata": {},
   "outputs": [],
   "source": [
    "sub_final[[\"index\", \"prediction\"]].to_csv(\"submission_tops_models.csv\", index=False)"
   ]
  },
  {
   "cell_type": "code",
   "execution_count": 24,
   "id": "aba7b821",
   "metadata": {},
   "outputs": [],
   "source": [
    "sub[\"prediction\"] = np.log(sub[\"prediction\"].round())"
   ]
  },
  {
   "cell_type": "code",
   "execution_count": 25,
   "id": "2caea126",
   "metadata": {},
   "outputs": [],
   "source": [
    "sub.to_csv(\"submission_log.csv\", index=False)"
   ]
  }
 ],
 "metadata": {
  "kernelspec": {
   "display_name": "teta_nn_1_2025_predict_salary",
   "language": "python",
   "name": "python3"
  },
  "language_info": {
   "codemirror_mode": {
    "name": "ipython",
    "version": 3
   },
   "file_extension": ".py",
   "mimetype": "text/x-python",
   "name": "python",
   "nbconvert_exporter": "python",
   "pygments_lexer": "ipython3",
   "version": "3.12.10"
  }
 },
 "nbformat": 4,
 "nbformat_minor": 5
}
