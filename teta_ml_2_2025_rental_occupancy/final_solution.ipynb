{
 "cells": [
  {
   "cell_type": "code",
   "execution_count": 1,
   "metadata": {},
   "outputs": [
    {
     "data": {
      "application/javascript": "IPython.notebook.set_autosave_interval(60000)"
     },
     "metadata": {},
     "output_type": "display_data"
    },
    {
     "name": "stdout",
     "output_type": "stream",
     "text": [
      "Autosaving every 60 seconds\n"
     ]
    }
   ],
   "source": [
    "%autosave 60"
   ]
  },
  {
   "cell_type": "markdown",
   "metadata": {},
   "source": [
    "# Оглавление\n",
    "* [0. Установка зависимостей и импорт библиотек](#chapter_0)\n",
    "* [1. Просмотр данных](#chapter_1)\n",
    "* [2. Построение итоговой модели](#chapter_2)\n",
    "    * [Intro (*public MSE=9884*, *privat MSE=9449*)](#chapter_2_1)\n",
    "        * [1. Обработка данных](#chapter_2_1_1)\n",
    "        * [2. Модель](#chapter_2_1_2)\n",
    "        * [3. Использование особенностей при обучении модели](#chapter_2_1_3)\n",
    "        * [3. Валидация алгоритма](#chapter_2_1_4)\n",
    "    * [Outro](#chapter_2_2)"
   ]
  },
  {
   "cell_type": "markdown",
   "metadata": {},
   "source": [
    "## 0. Установка зависимостей и импорт библиотек <a class=\"anchor\" id=\"chapter_0\"></a>"
   ]
  },
  {
   "cell_type": "code",
   "execution_count": null,
   "metadata": {},
   "outputs": [
    {
     "name": "stdout",
     "output_type": "stream",
     "text": [
      "\u001b[2K   \u001b[90m━━━━━━━━━━━━━━━━━━━━━━━━━━━━━━━━━━━━━━━━\u001b[0m \u001b[32m173.2/173.2 kB\u001b[0m \u001b[31m3.6 MB/s\u001b[0m eta \u001b[36m0:00:00\u001b[0ma \u001b[36m0:00:01\u001b[0m\n",
      "\u001b[?25hArchive:  /kaggle/working/teta-ml-2-2025.zip\n",
      "  inflating: sample_submition.csv    \n",
      "  inflating: test.csv                \n",
      "  inflating: train.csv               \n"
     ]
    }
   ],
   "source": [
    "!pip install -U -q kaggle\n",
    "!mkdir -p ~/.kaggle\n",
    "!echo '{\"username\":\"dotyushka666\",\"key\":\"unk\"}' > ~/.kaggle/kaggle.json\n",
    "!chmod 600 ~/.kaggle/kaggle.json\n",
    "\n",
    "!kaggle competitions download -c teta-ml-2-2025\n",
    "!unzip /kaggle/working/teta-ml-2-2025.zip"
   ]
  },
  {
   "cell_type": "code",
   "execution_count": 4,
   "metadata": {},
   "outputs": [
    {
     "name": "stdout",
     "output_type": "stream",
     "text": [
      "Collecting reverse_geocoder\n",
      "  Downloading reverse_geocoder-1.5.1.tar.gz (2.2 MB)\n",
      "\u001b[2K     \u001b[90m━━━━━━━━━━━━━━━━━━━━━━━━━━━━━━━━━━━━━━━━\u001b[0m \u001b[32m2.2/2.2 MB\u001b[0m \u001b[31m22.1 MB/s\u001b[0m eta \u001b[36m0:00:00\u001b[0m00:01\u001b[0m0:01\u001b[0m\n",
      "\u001b[?25h  Preparing metadata (setup.py) ... \u001b[?25l\u001b[?25hdone\n",
      "Requirement already satisfied: numpy>=1.11.0 in /usr/local/lib/python3.10/dist-packages (from reverse_geocoder) (1.26.4)\n",
      "Requirement already satisfied: scipy>=0.17.1 in /usr/local/lib/python3.10/dist-packages (from reverse_geocoder) (1.13.1)\n",
      "Requirement already satisfied: mkl_fft in /usr/local/lib/python3.10/dist-packages (from numpy>=1.11.0->reverse_geocoder) (1.3.8)\n",
      "Requirement already satisfied: mkl_random in /usr/local/lib/python3.10/dist-packages (from numpy>=1.11.0->reverse_geocoder) (1.2.4)\n",
      "Requirement already satisfied: mkl_umath in /usr/local/lib/python3.10/dist-packages (from numpy>=1.11.0->reverse_geocoder) (0.1.1)\n",
      "Requirement already satisfied: mkl in /usr/local/lib/python3.10/dist-packages (from numpy>=1.11.0->reverse_geocoder) (2025.0.1)\n",
      "Requirement already satisfied: tbb4py in /usr/local/lib/python3.10/dist-packages (from numpy>=1.11.0->reverse_geocoder) (2022.0.0)\n",
      "Requirement already satisfied: mkl-service in /usr/local/lib/python3.10/dist-packages (from numpy>=1.11.0->reverse_geocoder) (2.4.1)\n",
      "Requirement already satisfied: intel-openmp>=2024 in /usr/local/lib/python3.10/dist-packages (from mkl->numpy>=1.11.0->reverse_geocoder) (2024.2.0)\n",
      "Requirement already satisfied: tbb==2022.* in /usr/local/lib/python3.10/dist-packages (from mkl->numpy>=1.11.0->reverse_geocoder) (2022.0.0)\n",
      "Requirement already satisfied: tcmlib==1.* in /usr/local/lib/python3.10/dist-packages (from tbb==2022.*->mkl->numpy>=1.11.0->reverse_geocoder) (1.2.0)\n",
      "Requirement already satisfied: intel-cmplr-lib-rt in /usr/local/lib/python3.10/dist-packages (from mkl_umath->numpy>=1.11.0->reverse_geocoder) (2024.2.0)\n",
      "Requirement already satisfied: intel-cmplr-lib-ur==2024.2.0 in /usr/local/lib/python3.10/dist-packages (from intel-openmp>=2024->mkl->numpy>=1.11.0->reverse_geocoder) (2024.2.0)\n",
      "Building wheels for collected packages: reverse_geocoder\n",
      "  Building wheel for reverse_geocoder (setup.py) ... \u001b[?25l\u001b[?25hdone\n",
      "  Created wheel for reverse_geocoder: filename=reverse_geocoder-1.5.1-py3-none-any.whl size=2268068 sha256=a837329137da497e47abd42429ec5163842f0f029b06af40a6378157af0e7966\n",
      "  Stored in directory: /root/.cache/pip/wheels/bd/e5/88/eb139b6d6a26b8022d370ab991f7a836802fed9871975ec6d9\n",
      "Successfully built reverse_geocoder\n",
      "Installing collected packages: reverse_geocoder\n",
      "Successfully installed reverse_geocoder-1.5.1\n"
     ]
    }
   ],
   "source": [
    "!pip install reverse_geocoder"
   ]
  },
  {
   "cell_type": "code",
   "execution_count": 2,
   "metadata": {},
   "outputs": [],
   "source": [
    "import re\n",
    "\n",
    "import matplotlib.pyplot as plt\n",
    "import numpy as np\n",
    "import pandas as pd\n",
    "import reverse_geocoder as rg\n",
    "import seaborn as sns\n",
    "from catboost import CatBoostRegressor, cv, Pool\n",
    "from geopy.distance import great_circle\n",
    "from sklearn.metrics import mean_squared_error\n",
    "from sklearn.model_selection import train_test_split, StratifiedShuffleSplit"
   ]
  },
  {
   "cell_type": "code",
   "execution_count": 3,
   "metadata": {},
   "outputs": [],
   "source": [
    "RANDOM_STATE = 64"
   ]
  },
  {
   "cell_type": "markdown",
   "metadata": {},
   "source": [
    "## 1. Просмотр данных <a id=\"chapter_1\"></a>"
   ]
  },
  {
   "cell_type": "code",
   "execution_count": 4,
   "metadata": {},
   "outputs": [
    {
     "name": "stderr",
     "output_type": "stream",
     "text": [
      "/usr/local/lib/python3.10/dist-packages/pandas/io/formats/format.py:1458: RuntimeWarning: invalid value encountered in greater\n",
      "  has_large_values = (abs_vals > 1e6).any()\n",
      "/usr/local/lib/python3.10/dist-packages/pandas/io/formats/format.py:1459: RuntimeWarning: invalid value encountered in less\n",
      "  has_small_values = ((abs_vals < 10 ** (-self.digits)) & (abs_vals > 0)).any()\n",
      "/usr/local/lib/python3.10/dist-packages/pandas/io/formats/format.py:1459: RuntimeWarning: invalid value encountered in greater\n",
      "  has_small_values = ((abs_vals < 10 ** (-self.digits)) & (abs_vals > 0)).any()\n"
     ]
    },
    {
     "data": {
      "application/vnd.microsoft.datawrangler.viewer.v0+json": {
       "columns": [
        {
         "name": "index",
         "rawType": "int64",
         "type": "integer"
        },
        {
         "name": "name",
         "rawType": "object",
         "type": "string"
        },
        {
         "name": "_id",
         "rawType": "int64",
         "type": "integer"
        },
        {
         "name": "host_name",
         "rawType": "object",
         "type": "string"
        },
        {
         "name": "location_cluster",
         "rawType": "object",
         "type": "string"
        },
        {
         "name": "location",
         "rawType": "object",
         "type": "string"
        },
        {
         "name": "lat",
         "rawType": "float64",
         "type": "float"
        },
        {
         "name": "lon",
         "rawType": "float64",
         "type": "float"
        },
        {
         "name": "type_house",
         "rawType": "object",
         "type": "string"
        },
        {
         "name": "sum",
         "rawType": "int64",
         "type": "integer"
        },
        {
         "name": "min_days",
         "rawType": "int64",
         "type": "integer"
        },
        {
         "name": "amt_reviews",
         "rawType": "int64",
         "type": "integer"
        },
        {
         "name": "last_dt",
         "rawType": "object",
         "type": "unknown"
        },
        {
         "name": "avg_reviews",
         "rawType": "float64",
         "type": "float"
        },
        {
         "name": "total_host",
         "rawType": "int64",
         "type": "integer"
        },
        {
         "name": "target",
         "rawType": "int64",
         "type": "integer"
        }
       ],
       "conversionMethod": "pd.DataFrame",
       "ref": "c2618bef-3b8e-408d-9112-f4bf52f1e87c",
       "rows": [
        [
         "0",
         "Belle Harbor 4 BR 2 bath- 1 bl from Beach",
         "40327248",
         "Sarina",
         "Queens",
         "Neponsit",
         "40.57215",
         "-73.85822",
         "Entire home/apt",
         "350",
         "2",
         "5",
         "2019-07-07",
         "2.88",
         "1",
         "334"
        ],
        [
         "1",
         "Come see Brooklyn, New York",
         "13617520",
         "Howard T.",
         "Brooklyn",
         "Clinton Hill",
         "40.69172",
         "-73.96934",
         "Shared room",
         "40",
         "5",
         "8",
         "2015-02-25",
         "0.13",
         "1",
         "0"
        ],
        [
         "2",
         "Large 2Br on W71st & Columbus Feb 19-28",
         "26754726",
         "Julie",
         "Manhattan",
         "Upper West Side",
         "40.77673",
         "-73.98011",
         "Entire home/apt",
         "200",
         "5",
         "0",
         null,
         null,
         "1",
         "0"
        ],
        [
         "3",
         "Perfect bedroom. Near Subways Columbia CityCollege",
         "16721721",
         "Federico",
         "Manhattan",
         "Harlem",
         "40.8153",
         "-73.9508",
         "Private room",
         "65",
         "2",
         "18",
         "2018-11-04",
         "0.64",
         "1",
         "0"
        ],
        [
         "4",
         "Cozy Sun Filled Fresh Guest Room in Artsy Bushwick",
         "22246463",
         "Lisa",
         "Brooklyn",
         "Bushwick",
         "40.7023",
         "-73.92935",
         "Private room",
         "99",
         "2",
         "26",
         "2019-06-23",
         "0.76",
         "1",
         "155"
        ]
       ],
       "shape": {
        "columns": 15,
        "rows": 5
       }
      },
      "text/html": [
       "<div>\n",
       "<style scoped>\n",
       "    .dataframe tbody tr th:only-of-type {\n",
       "        vertical-align: middle;\n",
       "    }\n",
       "\n",
       "    .dataframe tbody tr th {\n",
       "        vertical-align: top;\n",
       "    }\n",
       "\n",
       "    .dataframe thead th {\n",
       "        text-align: right;\n",
       "    }\n",
       "</style>\n",
       "<table border=\"1\" class=\"dataframe\">\n",
       "  <thead>\n",
       "    <tr style=\"text-align: right;\">\n",
       "      <th></th>\n",
       "      <th>name</th>\n",
       "      <th>_id</th>\n",
       "      <th>host_name</th>\n",
       "      <th>location_cluster</th>\n",
       "      <th>location</th>\n",
       "      <th>lat</th>\n",
       "      <th>lon</th>\n",
       "      <th>type_house</th>\n",
       "      <th>sum</th>\n",
       "      <th>min_days</th>\n",
       "      <th>amt_reviews</th>\n",
       "      <th>last_dt</th>\n",
       "      <th>avg_reviews</th>\n",
       "      <th>total_host</th>\n",
       "      <th>target</th>\n",
       "    </tr>\n",
       "  </thead>\n",
       "  <tbody>\n",
       "    <tr>\n",
       "      <th>0</th>\n",
       "      <td>Belle Harbor 4 BR 2 bath- 1 bl from Beach</td>\n",
       "      <td>40327248</td>\n",
       "      <td>Sarina</td>\n",
       "      <td>Queens</td>\n",
       "      <td>Neponsit</td>\n",
       "      <td>40.57215</td>\n",
       "      <td>-73.85822</td>\n",
       "      <td>Entire home/apt</td>\n",
       "      <td>350</td>\n",
       "      <td>2</td>\n",
       "      <td>5</td>\n",
       "      <td>2019-07-07</td>\n",
       "      <td>2.88</td>\n",
       "      <td>1</td>\n",
       "      <td>334</td>\n",
       "    </tr>\n",
       "    <tr>\n",
       "      <th>1</th>\n",
       "      <td>Come see Brooklyn, New York</td>\n",
       "      <td>13617520</td>\n",
       "      <td>Howard T.</td>\n",
       "      <td>Brooklyn</td>\n",
       "      <td>Clinton Hill</td>\n",
       "      <td>40.69172</td>\n",
       "      <td>-73.96934</td>\n",
       "      <td>Shared room</td>\n",
       "      <td>40</td>\n",
       "      <td>5</td>\n",
       "      <td>8</td>\n",
       "      <td>2015-02-25</td>\n",
       "      <td>0.13</td>\n",
       "      <td>1</td>\n",
       "      <td>0</td>\n",
       "    </tr>\n",
       "    <tr>\n",
       "      <th>2</th>\n",
       "      <td>Large 2Br on W71st &amp; Columbus Feb 19-28</td>\n",
       "      <td>26754726</td>\n",
       "      <td>Julie</td>\n",
       "      <td>Manhattan</td>\n",
       "      <td>Upper West Side</td>\n",
       "      <td>40.77673</td>\n",
       "      <td>-73.98011</td>\n",
       "      <td>Entire home/apt</td>\n",
       "      <td>200</td>\n",
       "      <td>5</td>\n",
       "      <td>0</td>\n",
       "      <td>NaN</td>\n",
       "      <td>NaN</td>\n",
       "      <td>1</td>\n",
       "      <td>0</td>\n",
       "    </tr>\n",
       "    <tr>\n",
       "      <th>3</th>\n",
       "      <td>Perfect bedroom. Near Subways Columbia CityCol...</td>\n",
       "      <td>16721721</td>\n",
       "      <td>Federico</td>\n",
       "      <td>Manhattan</td>\n",
       "      <td>Harlem</td>\n",
       "      <td>40.81530</td>\n",
       "      <td>-73.95080</td>\n",
       "      <td>Private room</td>\n",
       "      <td>65</td>\n",
       "      <td>2</td>\n",
       "      <td>18</td>\n",
       "      <td>2018-11-04</td>\n",
       "      <td>0.64</td>\n",
       "      <td>1</td>\n",
       "      <td>0</td>\n",
       "    </tr>\n",
       "    <tr>\n",
       "      <th>4</th>\n",
       "      <td>Cozy Sun Filled Fresh Guest Room in Artsy Bush...</td>\n",
       "      <td>22246463</td>\n",
       "      <td>Lisa</td>\n",
       "      <td>Brooklyn</td>\n",
       "      <td>Bushwick</td>\n",
       "      <td>40.70230</td>\n",
       "      <td>-73.92935</td>\n",
       "      <td>Private room</td>\n",
       "      <td>99</td>\n",
       "      <td>2</td>\n",
       "      <td>26</td>\n",
       "      <td>2019-06-23</td>\n",
       "      <td>0.76</td>\n",
       "      <td>1</td>\n",
       "      <td>155</td>\n",
       "    </tr>\n",
       "  </tbody>\n",
       "</table>\n",
       "</div>"
      ],
      "text/plain": [
       "                                                name       _id  host_name  \\\n",
       "0          Belle Harbor 4 BR 2 bath- 1 bl from Beach  40327248     Sarina   \n",
       "1                        Come see Brooklyn, New York  13617520  Howard T.   \n",
       "2            Large 2Br on W71st & Columbus Feb 19-28  26754726      Julie   \n",
       "3  Perfect bedroom. Near Subways Columbia CityCol...  16721721   Federico   \n",
       "4  Cozy Sun Filled Fresh Guest Room in Artsy Bush...  22246463       Lisa   \n",
       "\n",
       "  location_cluster         location       lat       lon       type_house  sum  \\\n",
       "0           Queens         Neponsit  40.57215 -73.85822  Entire home/apt  350   \n",
       "1         Brooklyn     Clinton Hill  40.69172 -73.96934      Shared room   40   \n",
       "2        Manhattan  Upper West Side  40.77673 -73.98011  Entire home/apt  200   \n",
       "3        Manhattan           Harlem  40.81530 -73.95080     Private room   65   \n",
       "4         Brooklyn         Bushwick  40.70230 -73.92935     Private room   99   \n",
       "\n",
       "   min_days  amt_reviews     last_dt  avg_reviews  total_host  target  \n",
       "0         2            5  2019-07-07         2.88           1     334  \n",
       "1         5            8  2015-02-25         0.13           1       0  \n",
       "2         5            0         NaN          NaN           1       0  \n",
       "3         2           18  2018-11-04         0.64           1       0  \n",
       "4         2           26  2019-06-23         0.76           1     155  "
      ]
     },
     "execution_count": 4,
     "metadata": {},
     "output_type": "execute_result"
    }
   ],
   "source": [
    "df_house = pd.read_csv(\"train.csv\")\n",
    "df_house.head()"
   ]
  },
  {
   "cell_type": "code",
   "execution_count": 5,
   "metadata": {},
   "outputs": [
    {
     "name": "stdout",
     "output_type": "stream",
     "text": [
      "<class 'pandas.core.frame.DataFrame'>\n",
      "RangeIndex: 36671 entries, 0 to 36670\n",
      "Data columns (total 15 columns):\n",
      " #   Column            Non-Null Count  Dtype  \n",
      "---  ------            --------------  -----  \n",
      " 0   name              36662 non-null  object \n",
      " 1   _id               36671 non-null  int64  \n",
      " 2   host_name         36653 non-null  object \n",
      " 3   location_cluster  36671 non-null  object \n",
      " 4   location          36671 non-null  object \n",
      " 5   lat               36671 non-null  float64\n",
      " 6   lon               36671 non-null  float64\n",
      " 7   type_house        36671 non-null  object \n",
      " 8   sum               36671 non-null  int64  \n",
      " 9   min_days          36671 non-null  int64  \n",
      " 10  amt_reviews       36671 non-null  int64  \n",
      " 11  last_dt           29169 non-null  object \n",
      " 12  avg_reviews       29169 non-null  float64\n",
      " 13  total_host        36671 non-null  int64  \n",
      " 14  target            36671 non-null  int64  \n",
      "dtypes: float64(3), int64(6), object(6)\n",
      "memory usage: 4.2+ MB\n"
     ]
    }
   ],
   "source": [
    "df_house.info()"
   ]
  },
  {
   "cell_type": "code",
   "execution_count": 6,
   "metadata": {},
   "outputs": [
    {
     "name": "stdout",
     "output_type": "stream",
     "text": [
      "Данные, которые содержат дубликаты:\n"
     ]
    },
    {
     "data": {
      "application/vnd.microsoft.datawrangler.viewer.v0+json": {
       "columns": [
        {
         "name": "index",
         "rawType": "int64",
         "type": "integer"
        },
        {
         "name": "name",
         "rawType": "object",
         "type": "string"
        },
        {
         "name": "_id",
         "rawType": "int64",
         "type": "integer"
        },
        {
         "name": "host_name",
         "rawType": "object",
         "type": "string"
        },
        {
         "name": "location_cluster",
         "rawType": "object",
         "type": "string"
        },
        {
         "name": "location",
         "rawType": "object",
         "type": "string"
        },
        {
         "name": "lat",
         "rawType": "float64",
         "type": "float"
        },
        {
         "name": "lon",
         "rawType": "float64",
         "type": "float"
        },
        {
         "name": "type_house",
         "rawType": "object",
         "type": "string"
        },
        {
         "name": "sum",
         "rawType": "int64",
         "type": "integer"
        },
        {
         "name": "min_days",
         "rawType": "int64",
         "type": "integer"
        },
        {
         "name": "amt_reviews",
         "rawType": "int64",
         "type": "integer"
        },
        {
         "name": "last_dt",
         "rawType": "object",
         "type": "string"
        },
        {
         "name": "avg_reviews",
         "rawType": "float64",
         "type": "float"
        },
        {
         "name": "total_host",
         "rawType": "int64",
         "type": "integer"
        },
        {
         "name": "target",
         "rawType": "int64",
         "type": "integer"
        }
       ],
       "conversionMethod": "pd.DataFrame",
       "ref": "2747835e-710b-4203-82e5-83603d1fc06f",
       "rows": [],
       "shape": {
        "columns": 15,
        "rows": 0
       }
      },
      "text/html": [
       "<div>\n",
       "<style scoped>\n",
       "    .dataframe tbody tr th:only-of-type {\n",
       "        vertical-align: middle;\n",
       "    }\n",
       "\n",
       "    .dataframe tbody tr th {\n",
       "        vertical-align: top;\n",
       "    }\n",
       "\n",
       "    .dataframe thead th {\n",
       "        text-align: right;\n",
       "    }\n",
       "</style>\n",
       "<table border=\"1\" class=\"dataframe\">\n",
       "  <thead>\n",
       "    <tr style=\"text-align: right;\">\n",
       "      <th></th>\n",
       "      <th>name</th>\n",
       "      <th>_id</th>\n",
       "      <th>host_name</th>\n",
       "      <th>location_cluster</th>\n",
       "      <th>location</th>\n",
       "      <th>lat</th>\n",
       "      <th>lon</th>\n",
       "      <th>type_house</th>\n",
       "      <th>sum</th>\n",
       "      <th>min_days</th>\n",
       "      <th>amt_reviews</th>\n",
       "      <th>last_dt</th>\n",
       "      <th>avg_reviews</th>\n",
       "      <th>total_host</th>\n",
       "      <th>target</th>\n",
       "    </tr>\n",
       "  </thead>\n",
       "  <tbody>\n",
       "  </tbody>\n",
       "</table>\n",
       "</div>"
      ],
      "text/plain": [
       "Empty DataFrame\n",
       "Columns: [name, _id, host_name, location_cluster, location, lat, lon, type_house, sum, min_days, amt_reviews, last_dt, avg_reviews, total_host, target]\n",
       "Index: []"
      ]
     },
     "execution_count": 6,
     "metadata": {},
     "output_type": "execute_result"
    }
   ],
   "source": [
    "print(\"Данные, которые содержат дубликаты:\")\n",
    "df_house[df_house.duplicated()]"
   ]
  },
  {
   "cell_type": "code",
   "execution_count": 7,
   "metadata": {},
   "outputs": [
    {
     "name": "stdout",
     "output_type": "stream",
     "text": [
      "Пропущенные значения в каждом столбце:\n",
      "name                   9\n",
      "_id                    0\n",
      "host_name             18\n",
      "location_cluster       0\n",
      "location               0\n",
      "lat                    0\n",
      "lon                    0\n",
      "type_house             0\n",
      "sum                    0\n",
      "min_days               0\n",
      "amt_reviews            0\n",
      "last_dt             7502\n",
      "avg_reviews         7502\n",
      "total_host             0\n",
      "target                 0\n",
      "dtype: int64\n"
     ]
    },
    {
     "data": {
      "image/png": "[encoded data removed]",
      "text/plain": [
       "<Figure size 1000x600 with 1 Axes>"
      ]
     },
     "metadata": {},
     "output_type": "display_data"
    }
   ],
   "source": [
    "missing_values = df_house.isnull().sum()\n",
    "\n",
    "print(\"Пропущенные значения в каждом столбце:\")\n",
    "print(missing_values)\n",
    "\n",
    "plt.figure(figsize=(10, 6))\n",
    "sns.heatmap(df_house.isnull(), cbar=False, cmap=\"viridis\")\n",
    "plt.title(\"Пропущенные значения\")\n",
    "plt.show()"
   ]
  },
  {
   "cell_type": "code",
   "execution_count": 8,
   "metadata": {},
   "outputs": [
    {
     "data": {
      "application/vnd.microsoft.datawrangler.viewer.v0+json": {
       "columns": [
        {
         "name": "index",
         "rawType": "object",
         "type": "string"
        },
        {
         "name": "_id",
         "rawType": "float64",
         "type": "float"
        },
        {
         "name": "lat",
         "rawType": "float64",
         "type": "float"
        },
        {
         "name": "lon",
         "rawType": "float64",
         "type": "float"
        },
        {
         "name": "sum",
         "rawType": "float64",
         "type": "float"
        },
        {
         "name": "min_days",
         "rawType": "float64",
         "type": "float"
        },
        {
         "name": "amt_reviews",
         "rawType": "float64",
         "type": "float"
        },
        {
         "name": "avg_reviews",
         "rawType": "float64",
         "type": "float"
        },
        {
         "name": "total_host",
         "rawType": "float64",
         "type": "float"
        },
        {
         "name": "target",
         "rawType": "float64",
         "type": "float"
        }
       ],
       "conversionMethod": "pd.DataFrame",
       "ref": "a627333c-6c02-42f9-9ca3-a049ff77333f",
       "rows": [
        [
         "count",
         "36671.0",
         "36671.0",
         "36671.0",
         "36671.0",
         "36671.0",
         "36671.0",
         "29169.0",
         "36671.0",
         "36671.0"
        ],
        [
         "mean",
         "67204325.68716425",
         "40.72908024378937",
         "-73.95195756510594",
         "152.14229227454936",
         "7.053175533800551",
         "23.433666930271876",
         "1.3656008090781309",
         "7.0476943633934175",
         "112.76662758037686"
        ],
        [
         "std",
         "78281468.38544782",
         "0.05467101923820122",
         "0.04620078223734361",
         "239.1079726120522",
         "21.539569378797747",
         "44.70358955235499",
         "1.6439663228611097",
         "32.59542663532121",
         "131.5832840582103"
        ],
        [
         "min",
         "2438.0",
         "40.49979",
         "-74.24442",
         "0.0",
         "1.0",
         "0.0",
         "0.01",
         "1.0",
         "0.0"
        ],
        [
         "25%",
         "7780024.5",
         "40.69009",
         "-73.98297",
         "69.0",
         "1.0",
         "1.0",
         "0.19",
         "1.0",
         "0.0"
        ],
        [
         "50%",
         "30532557.0",
         "40.72315",
         "-73.95556",
         "106.0",
         "3.0",
         "5.0",
         "0.72",
         "1.0",
         "45.0"
        ],
        [
         "75%",
         "107434423.0",
         "40.76326",
         "-73.935865",
         "175.0",
         "5.0",
         "24.0",
         "2.01",
         "2.0",
         "227.0"
        ],
        [
         "max",
         "274321313.0",
         "40.91234",
         "-73.71299",
         "10000.0",
         "1250.0",
         "629.0",
         "20.94",
         "327.0",
         "365.0"
        ]
       ],
       "shape": {
        "columns": 9,
        "rows": 8
       }
      },
      "text/html": [
       "<div>\n",
       "<style scoped>\n",
       "    .dataframe tbody tr th:only-of-type {\n",
       "        vertical-align: middle;\n",
       "    }\n",
       "\n",
       "    .dataframe tbody tr th {\n",
       "        vertical-align: top;\n",
       "    }\n",
       "\n",
       "    .dataframe thead th {\n",
       "        text-align: right;\n",
       "    }\n",
       "</style>\n",
       "<table border=\"1\" class=\"dataframe\">\n",
       "  <thead>\n",
       "    <tr style=\"text-align: right;\">\n",
       "      <th></th>\n",
       "      <th>_id</th>\n",
       "      <th>lat</th>\n",
       "      <th>lon</th>\n",
       "      <th>sum</th>\n",
       "      <th>min_days</th>\n",
       "      <th>amt_reviews</th>\n",
       "      <th>avg_reviews</th>\n",
       "      <th>total_host</th>\n",
       "      <th>target</th>\n",
       "    </tr>\n",
       "  </thead>\n",
       "  <tbody>\n",
       "    <tr>\n",
       "      <th>count</th>\n",
       "      <td>3.667100e+04</td>\n",
       "      <td>36671.000000</td>\n",
       "      <td>36671.000000</td>\n",
       "      <td>36671.000000</td>\n",
       "      <td>36671.000000</td>\n",
       "      <td>36671.000000</td>\n",
       "      <td>29169.000000</td>\n",
       "      <td>36671.000000</td>\n",
       "      <td>36671.000000</td>\n",
       "    </tr>\n",
       "    <tr>\n",
       "      <th>mean</th>\n",
       "      <td>6.720433e+07</td>\n",
       "      <td>40.729080</td>\n",
       "      <td>-73.951958</td>\n",
       "      <td>152.142292</td>\n",
       "      <td>7.053176</td>\n",
       "      <td>23.433667</td>\n",
       "      <td>1.365601</td>\n",
       "      <td>7.047694</td>\n",
       "      <td>112.766628</td>\n",
       "    </tr>\n",
       "    <tr>\n",
       "      <th>std</th>\n",
       "      <td>7.828147e+07</td>\n",
       "      <td>0.054671</td>\n",
       "      <td>0.046201</td>\n",
       "      <td>239.107973</td>\n",
       "      <td>21.539569</td>\n",
       "      <td>44.703590</td>\n",
       "      <td>1.643966</td>\n",
       "      <td>32.595427</td>\n",
       "      <td>131.583284</td>\n",
       "    </tr>\n",
       "    <tr>\n",
       "      <th>min</th>\n",
       "      <td>2.438000e+03</td>\n",
       "      <td>40.499790</td>\n",
       "      <td>-74.244420</td>\n",
       "      <td>0.000000</td>\n",
       "      <td>1.000000</td>\n",
       "      <td>0.000000</td>\n",
       "      <td>0.010000</td>\n",
       "      <td>1.000000</td>\n",
       "      <td>0.000000</td>\n",
       "    </tr>\n",
       "    <tr>\n",
       "      <th>25%</th>\n",
       "      <td>7.780024e+06</td>\n",
       "      <td>40.690090</td>\n",
       "      <td>-73.982970</td>\n",
       "      <td>69.000000</td>\n",
       "      <td>1.000000</td>\n",
       "      <td>1.000000</td>\n",
       "      <td>0.190000</td>\n",
       "      <td>1.000000</td>\n",
       "      <td>0.000000</td>\n",
       "    </tr>\n",
       "    <tr>\n",
       "      <th>50%</th>\n",
       "      <td>3.053256e+07</td>\n",
       "      <td>40.723150</td>\n",
       "      <td>-73.955560</td>\n",
       "      <td>106.000000</td>\n",
       "      <td>3.000000</td>\n",
       "      <td>5.000000</td>\n",
       "      <td>0.720000</td>\n",
       "      <td>1.000000</td>\n",
       "      <td>45.000000</td>\n",
       "    </tr>\n",
       "    <tr>\n",
       "      <th>75%</th>\n",
       "      <td>1.074344e+08</td>\n",
       "      <td>40.763260</td>\n",
       "      <td>-73.935865</td>\n",
       "      <td>175.000000</td>\n",
       "      <td>5.000000</td>\n",
       "      <td>24.000000</td>\n",
       "      <td>2.010000</td>\n",
       "      <td>2.000000</td>\n",
       "      <td>227.000000</td>\n",
       "    </tr>\n",
       "    <tr>\n",
       "      <th>max</th>\n",
       "      <td>2.743213e+08</td>\n",
       "      <td>40.912340</td>\n",
       "      <td>-73.712990</td>\n",
       "      <td>10000.000000</td>\n",
       "      <td>1250.000000</td>\n",
       "      <td>629.000000</td>\n",
       "      <td>20.940000</td>\n",
       "      <td>327.000000</td>\n",
       "      <td>365.000000</td>\n",
       "    </tr>\n",
       "  </tbody>\n",
       "</table>\n",
       "</div>"
      ],
      "text/plain": [
       "                _id           lat           lon           sum      min_days  \\\n",
       "count  3.667100e+04  36671.000000  36671.000000  36671.000000  36671.000000   \n",
       "mean   6.720433e+07     40.729080    -73.951958    152.142292      7.053176   \n",
       "std    7.828147e+07      0.054671      0.046201    239.107973     21.539569   \n",
       "min    2.438000e+03     40.499790    -74.244420      0.000000      1.000000   \n",
       "25%    7.780024e+06     40.690090    -73.982970     69.000000      1.000000   \n",
       "50%    3.053256e+07     40.723150    -73.955560    106.000000      3.000000   \n",
       "75%    1.074344e+08     40.763260    -73.935865    175.000000      5.000000   \n",
       "max    2.743213e+08     40.912340    -73.712990  10000.000000   1250.000000   \n",
       "\n",
       "        amt_reviews   avg_reviews    total_host        target  \n",
       "count  36671.000000  29169.000000  36671.000000  36671.000000  \n",
       "mean      23.433667      1.365601      7.047694    112.766628  \n",
       "std       44.703590      1.643966     32.595427    131.583284  \n",
       "min        0.000000      0.010000      1.000000      0.000000  \n",
       "25%        1.000000      0.190000      1.000000      0.000000  \n",
       "50%        5.000000      0.720000      1.000000     45.000000  \n",
       "75%       24.000000      2.010000      2.000000    227.000000  \n",
       "max      629.000000     20.940000    327.000000    365.000000  "
      ]
     },
     "execution_count": 8,
     "metadata": {},
     "output_type": "execute_result"
    }
   ],
   "source": [
    "df_house.describe()"
   ]
  },
  {
   "cell_type": "code",
   "execution_count": 9,
   "metadata": {},
   "outputs": [
    {
     "data": {
      "image/png": "[encoded data removed]",
      "text/plain": [
       "<Figure size 1500x800 with 9 Axes>"
      ]
     },
     "metadata": {},
     "output_type": "display_data"
    }
   ],
   "source": [
    "numerical_columns = df_house.select_dtypes(include=[\"float64\", \"int64\"]).columns\n",
    "\n",
    "plt.figure(figsize=(15, 8))\n",
    "for i, column in enumerate(numerical_columns, 1):\n",
    "    plt.subplot(2, 5, i)\n",
    "    sns.boxplot(y=df_house[column])\n",
    "    plt.title(column)\n",
    "plt.tight_layout()\n",
    "plt.show()"
   ]
  },
  {
   "cell_type": "code",
   "execution_count": 10,
   "metadata": {},
   "outputs": [
    {
     "name": "stdout",
     "output_type": "stream",
     "text": [
      "Уникальные значения в категориальных признаках:\n",
      "name: 36076 уникальных значений\n",
      "name\n",
      "New york Multi-unit building                         14\n",
      "Hillside Hotel                                       14\n",
      "Private Room                                         11\n",
      "Home away from home                                  10\n",
      "Brooklyn Apartment                                   10\n",
      "                                                     ..\n",
      "A Room in Park Slope                                  1\n",
      "Private bed/ bath in classic Upper West Side apt.     1\n",
      "Nice room to rent at Midtown Manhattan                1\n",
      "Three-story brownstone with garden                    1\n",
      "Lovely & Cozy Apartment in Queens!                    1\n",
      "Name: count, Length: 36076, dtype: int64\n",
      "\n",
      "\n",
      "host_name: 9629 уникальных значений\n",
      "host_name\n",
      "Michael         308\n",
      "David           306\n",
      "Sonder (NYC)    238\n",
      "John            223\n",
      "Alex            205\n",
      "               ... \n",
      "Taran Pal         1\n",
      "Erion             1\n",
      "Ginta             1\n",
      "Shivangi          1\n",
      "Tuva              1\n",
      "Name: count, Length: 9629, dtype: int64\n",
      "\n",
      "\n",
      "location_cluster: 5 уникальных значений\n",
      "location_cluster\n",
      "Manhattan        16193\n",
      "Brooklyn         15069\n",
      "Queens            4289\n",
      "Bronx              836\n",
      "Staten Island      284\n",
      "Name: count, dtype: int64\n",
      "\n",
      "\n",
      "location: 220 уникальных значений\n",
      "location\n",
      "Williamsburg          2964\n",
      "Bedford-Stuyvesant    2755\n",
      "Harlem                2002\n",
      "Bushwick              1865\n",
      "Upper West Side       1498\n",
      "                      ... \n",
      "Westerleigh              1\n",
      "Fort Wadsworth           1\n",
      "New Dorp                 1\n",
      "Howland Hook             1\n",
      "Rossville                1\n",
      "Name: count, Length: 220, dtype: int64\n",
      "\n",
      "\n",
      "type_house: 3 уникальных значений\n",
      "type_house\n",
      "Entire home/apt    19013\n",
      "Private room       16783\n",
      "Shared room          875\n",
      "Name: count, dtype: int64\n",
      "\n",
      "\n",
      "last_dt: 1694 уникальных значений\n",
      "last_dt\n",
      "2019-06-23    1034\n",
      "2019-07-01    1024\n",
      "2019-06-30    1012\n",
      "2019-06-24     668\n",
      "2019-07-07     524\n",
      "              ... \n",
      "2018-05-01       1\n",
      "2016-01-23       1\n",
      "2014-11-06       1\n",
      "2014-04-20       1\n",
      "2015-04-14       1\n",
      "Name: count, Length: 1694, dtype: int64\n",
      "\n",
      "\n"
     ]
    }
   ],
   "source": [
    "categorical_columns = df_house.select_dtypes(include=[\"object\"]).columns\n",
    "\n",
    "print(\"Уникальные значения в категориальных признаках:\")\n",
    "for column in categorical_columns:\n",
    "    print(f\"{column}: {df_house[column].nunique()} уникальных значений\")\n",
    "    print(df_house[column].value_counts())\n",
    "    print(\"\\n\")"
   ]
  },
  {
   "cell_type": "markdown",
   "metadata": {},
   "source": [
    "## 2. Построение итоговой модели <a id=\"chapter_2\"></a>\n",
    "\n",
    "### Intro (*public MSE=9884*, *privat MSE=9449*) <a id=\"chapter_2_1\"></a>\n",
    "#### 1. Обработка данных <a id=\"chapter_2_1_1\"></a>\n",
    "Обработка данных заключалась в следующем:\n",
    "- Извлечение дополнительных фичей для модели:\n",
    "    - геокодирование координат (широта/долгота) с добавлением административных регионов;\n",
    "    - временные фичи из даты последнего отзыва/последнего бронирования.\n",
    "- Обработка текста (**name**): приведение к нижнему регистру, очистка регуляркой от всех символов, кроме буквенных.\n",
    "- Пропуски заполнялись после извлечение всех фичей внутри catboost по дефолту:\n",
    "    - *Min* для числовых фичей;\n",
    "    - *Ничего* для текстовых.\n",
    "\n",
    "Также было сделано сжатие данных для числовых типов, чтобы модель быстрее обучалась без потери в качестве.\n",
    "\n",
    "#### 2. Модель <a id=\"chapter_2_1_2\"></a>\n",
    "В качетсве модели был взят градиентный бустинг в исполнении *catboost*, т.к. есть следующие преимущества:\n",
    "- Автоматическая обработка категориальных фичей и Nan'ов.\n",
    "- Встроенная поддержка текстовых фичей.\n",
    "\n",
    "#### 3. Использование особенностей при обучении модели <a id=\"chapter_2_1_3\"></a>\n",
    "- Использование *StratifiedShuffleSplit* для кросс-валидации.\n",
    "- Функция потерь RMSE.\n",
    "- Мониторинг качества на отложенной выборке. Предикты делались с округлением до целого числа и обрезкой от 0 до 365 (наблюдение из данных).\n",
    "- Мониторинг важности фичей через *get_feature_importance*.\n",
    "\n",
    "#### 4. Валидация алгоритма <a id=\"chapter_2_1_4\"></a>\n",
    "- *Кросс-валидация* (3 фолда) для подбора гиперпараметров.\n",
    "- *Ранняя остановка*, если метрика не улучшается.\n",
    "- *Финальная оценка* на полностью изолированном тестовом наборе.\n",
    "\n",
    "### Outro <a id=\"chapter_2_2\"></a>\n",
    "1. Учет важности фичей через *permutation importance*. \n",
    "    Дописать алгоритм для извлечения значимых признаков.\n",
    "2. Переделать функцию потерь. Группировка и добавление временных фичей (средние, rolling, shift).\n",
    "- Переделать сплит по времени. Продумать обучение алгоритма и валидацию. \n",
    "- Переделать функцию потерь для учитывания того, что у нас целочисленные значения $\\geq 0$. (Были попытки, но качество было значительно хуже RMSE с пост обработкой).\n",
    "> Есть проблема с работой для данного предложения, т.к. в данных трейна и теста, предложенного организаторами, временной промежуток один и тот же практически. Есть семплы, у которых время происходит позже в трейне, чем в тесте.\n",
    "> При этом фичи пытались добавляться (с дата-ликом и без), но прироста особого не дают. Надо разбираться почему.\n",
    "3. Применения блэндинга из базовых алгоритмов.\n",
    "    Для этого надо дообучить еще несколько алгоритмов и объединить их."
   ]
  },
  {
   "cell_type": "code",
   "execution_count": 11,
   "metadata": {},
   "outputs": [],
   "source": [
    "class PreprocessDataCatBoost:\n",
    "    def __init__(\n",
    "        self,\n",
    "        cat_features: list[str] = None,\n",
    "        text_features: list[str] = None,\n",
    "        optimize_type: bool = False,\n",
    "    ):\n",
    "        self.cat_features = cat_features\n",
    "        self.text_features = text_features\n",
    "        self.optimize_type = optimize_type\n",
    "\n",
    "    @staticmethod\n",
    "    def get_info_coord(coord: tuple[tuple]):\n",
    "        try:\n",
    "            location = rg.search(coord)\n",
    "            return location\n",
    "        except:\n",
    "            return {}\n",
    "\n",
    "    @staticmethod\n",
    "    def clean_text(text):\n",
    "        cleaned = re.sub(r\"[^a-zA-Z\\s]\", \"\", str(text))\n",
    "        cleaned = re.sub(r\"\\s+\", \" \", cleaned).strip()\n",
    "        return cleaned\n",
    "\n",
    "    @staticmethod\n",
    "    def calculate_distance(row_client: tuple[float], merchant_coords: tuple[float]):\n",
    "        return great_circle(row_client, merchant_coords).km\n",
    "\n",
    "    @staticmethod\n",
    "    def _can_convert_to_smaller_int(series, target_type=\"int32\"):\n",
    "        try:\n",
    "            converted = series.astype(target_type)\n",
    "            return (series == converted).all()\n",
    "        except:\n",
    "            return False\n",
    "\n",
    "    @staticmethod\n",
    "    def _can_convert_to_float32(series):\n",
    "        try:\n",
    "            converted = series.astype(\"float32\").astype(\"float64\")\n",
    "            return np.allclose(series, converted, atol=1e-4)\n",
    "        except:\n",
    "            return False\n",
    "\n",
    "    def optimize_dtypes(self, df):\n",
    "        for col in df.columns:\n",
    "            col_type = df[col].dtype\n",
    "\n",
    "            if col_type == \"float64\":\n",
    "                if self._can_convert_to_float32(df[col]):\n",
    "                    df[col] = df[col].astype(\"float32\")\n",
    "\n",
    "            elif col_type == \"int64\":\n",
    "                if self._can_convert_to_smaller_int(df[col], \"int32\"):\n",
    "                    df[col] = df[col].astype(\"int32\")\n",
    "                elif self._can_convert_to_smaller_int(df[col], \"int16\"):\n",
    "                    df[col] = df[col].astype(\"int16\")\n",
    "\n",
    "        return df\n",
    "\n",
    "    def general_preprocess(self, data: pd.DataFrame):\n",
    "        df_train = data.copy(deep=True)\n",
    "        df_train[\"last_dt\"] = pd.to_datetime(df_train[\"last_dt\"])\n",
    "\n",
    "        df_train[\"name\"] = df_train[\"name\"].str.lower()\n",
    "        df_train[\"name\"] = df_train[\"name\"].fillna(\"\")\n",
    "        df_train[\"name\"] = df_train[\"name\"].apply(self.clean_text)\n",
    "\n",
    "        df_train[\"days_since_last_review\"] = (\n",
    "            (df_train[\"last_dt\"].max() - df_train[\"last_dt\"])\n",
    "            .dt.days\n",
    "        )\n",
    "\n",
    "        df_train[\"year\"] = df_train[\"last_dt\"].dt.year\n",
    "        df_train[\"month\"] = df_train[\"last_dt\"].dt.month\n",
    "        df_train[\"day_of_month\"] = df_train[\"last_dt\"].dt.day\n",
    "        df_train[\"day_of_week\"] = (\n",
    "            df_train[\"last_dt\"].dt.dayofweek\n",
    "        )\n",
    "\n",
    "        df_train[\"avg_reviews\"] = df_train[\"avg_reviews\"]\n",
    "\n",
    "        uniq_coord = tuple(df_train[[\"lat\", \"lon\"]].itertuples(index=False, name=None))\n",
    "        dict_coords = self.get_info_coord(uniq_coord)\n",
    "        coords = pd.DataFrame(dict_coords)\n",
    "        coords = coords.rename(\n",
    "            columns={\n",
    "                \"lat\": \"lat_coords\",\n",
    "                \"lon\": \"lon_coords\",\n",
    "                \"name\": \"name_coords\",\n",
    "                \"admin1\": \"admin1_coords\",\n",
    "                \"admin2\": \"admin2_coords\",\n",
    "                \"cc\": \"cc_coords\",\n",
    "            }\n",
    "        )\n",
    "        coords = coords.drop(columns=[\"cc_coords\"])\n",
    "        df_train = pd.concat([df_train, coords], axis=1)\n",
    "\n",
    "        df_train[\"distance_km_centre\"] = df_train.apply(\n",
    "            lambda x: self.calculate_distance(\n",
    "                (x[\"lat\"], x[\"lon\"]), (x[\"lat_coords\"], x[\"lon_coords\"])\n",
    "            ),\n",
    "            axis=1,\n",
    "        )\n",
    "\n",
    "        df_train[\"is_out_of_name\"] = (\n",
    "            df_train[\"name_coords\"] != df_train[\"location_cluster\"]\n",
    "        ).astype(int)\n",
    "\n",
    "        df_train[\"host_name\"] = df_train[\"host_name\"].astype(str)\n",
    "\n",
    "        df_train.drop(\n",
    "            columns=[\"last_dt\", \"_id\", \"lat_coords\", \"lon_coords\", \"lat\", \"lon\"],\n",
    "            inplace=True,\n",
    "        )\n",
    "\n",
    "        if self.optimize_type:\n",
    "            df_train = self.optimize_dtypes(df_train)\n",
    "\n",
    "        return df_train\n",
    "\n",
    "    def preprocess(self, data: pd.DataFrame):\n",
    "        data = data.reset_index(drop=True)\n",
    "\n",
    "        preprocess_data = self.general_preprocess(data)\n",
    "\n",
    "        return preprocess_data\n",
    "\n",
    "    def transform(self, data: pd.DataFrame):\n",
    "        data = data.reset_index(drop=True)\n",
    "\n",
    "        preprocess_data = self.general_preprocess(data)\n",
    "\n",
    "        return preprocess_data\n",
    "\n",
    "\n",
    "class ModelPipeline:\n",
    "    def __init__(self, model):\n",
    "        self.model = model\n",
    "\n",
    "    def fit(\n",
    "        self,\n",
    "        X: pd.DataFrame,\n",
    "        y: pd.DataFrame,\n",
    "        eval_set: list[tuple[pd.DataFrame]] = None,\n",
    "    ):\n",
    "        if eval_set:\n",
    "            self.model.fit(X, y, eval_set=eval_set)\n",
    "        else:\n",
    "            self.model.fit(X, y)\n",
    "\n",
    "    def fit_k_fold(self, X: pd.DataFrame, y: pd.DataFrame, k_fold: int = 3):\n",
    "        stratified_shuffle_split = StratifiedShuffleSplit(\n",
    "            n_splits=k_fold, test_size=0.2, random_state=RANDOM_STATE\n",
    "        )\n",
    "\n",
    "        cv_dataset = Pool(\n",
    "            data=X,\n",
    "            label=y,\n",
    "            cat_features=self.model.get_param(\"cat_features\"),\n",
    "            text_features=self.model.get_param(\"text_features\"),\n",
    "        )\n",
    "\n",
    "        params: dict = self.model.get_params().copy()\n",
    "        params.pop(\"cat_features\")\n",
    "        params.pop(\"text_features\")\n",
    "\n",
    "        cv_results = cv(\n",
    "            cv_dataset,\n",
    "            params,\n",
    "            folds=stratified_shuffle_split,\n",
    "        )\n",
    "\n",
    "        return cv_results\n",
    "\n",
    "    def _calculate_metrics(y, y_pred):\n",
    "        return mean_squared_error(y, y_pred)\n",
    "\n",
    "    def predict(self, X):\n",
    "        y_pred = self.model.predict(X)\n",
    "\n",
    "        return np.round(y_pred).clip(0, 365)\n",
    "\n",
    "    def evaluate(self, X, y):\n",
    "        y_pred = self.predict(X)\n",
    "        return self._calculate_metrics(y, y_pred)\n"
   ]
  },
  {
   "cell_type": "code",
   "execution_count": 12,
   "metadata": {},
   "outputs": [],
   "source": [
    "preprocessing_catboost = PreprocessDataCatBoost(\n",
    "    text_features=[\"name\"], optimize_type=True\n",
    ")"
   ]
  },
  {
   "cell_type": "code",
   "execution_count": 13,
   "metadata": {},
   "outputs": [],
   "source": [
    "X = df_house.drop(\"target\", axis=1)\n",
    "y = df_house[\"target\"]\n",
    "\n",
    "X_train, X_test, y_train, y_test = train_test_split(\n",
    "    X, y, test_size=0.2, random_state=42, shuffle=True, stratify=df_house[\"type_house\"]\n",
    ")"
   ]
  },
  {
   "cell_type": "code",
   "execution_count": 14,
   "metadata": {},
   "outputs": [
    {
     "name": "stdout",
     "output_type": "stream",
     "text": [
      "Loading formatted geocoded file...\n",
      "<class 'pandas.core.frame.DataFrame'>\n",
      "RangeIndex: 29336 entries, 0 to 29335\n",
      "Data columns (total 20 columns):\n",
      " #   Column                  Non-Null Count  Dtype  \n",
      "---  ------                  --------------  -----  \n",
      " 0   name                    29336 non-null  object \n",
      " 1   host_name               29336 non-null  object \n",
      " 2   location_cluster        29336 non-null  object \n",
      " 3   location                29336 non-null  object \n",
      " 4   type_house              29336 non-null  object \n",
      " 5   sum                     29336 non-null  int32  \n",
      " 6   min_days                29336 non-null  int32  \n",
      " 7   amt_reviews             29336 non-null  int32  \n",
      " 8   avg_reviews             23367 non-null  float64\n",
      " 9   total_host              29336 non-null  int32  \n",
      " 10  days_since_last_review  23367 non-null  float64\n",
      " 11  year                    23367 non-null  float64\n",
      " 12  month                   23367 non-null  float64\n",
      " 13  day_of_month            23367 non-null  float64\n",
      " 14  day_of_week             23367 non-null  float64\n",
      " 15  name_coords             29336 non-null  object \n",
      " 16  admin1_coords           29336 non-null  object \n",
      " 17  admin2_coords           29336 non-null  object \n",
      " 18  distance_km_centre      29336 non-null  float32\n",
      " 19  is_out_of_name          29336 non-null  int32  \n",
      "dtypes: float32(1), float64(6), int32(5), object(8)\n",
      "memory usage: 3.8+ MB\n",
      "None\n"
     ]
    },
    {
     "name": "stderr",
     "output_type": "stream",
     "text": [
      "/usr/local/lib/python3.10/dist-packages/pandas/io/formats/format.py:1458: RuntimeWarning: invalid value encountered in greater\n",
      "  has_large_values = (abs_vals > 1e6).any()\n",
      "/usr/local/lib/python3.10/dist-packages/pandas/io/formats/format.py:1459: RuntimeWarning: invalid value encountered in less\n",
      "  has_small_values = ((abs_vals < 10 ** (-self.digits)) & (abs_vals > 0)).any()\n",
      "/usr/local/lib/python3.10/dist-packages/pandas/io/formats/format.py:1459: RuntimeWarning: invalid value encountered in greater\n",
      "  has_small_values = ((abs_vals < 10 ** (-self.digits)) & (abs_vals > 0)).any()\n"
     ]
    },
    {
     "data": {
      "application/vnd.microsoft.datawrangler.viewer.v0+json": {
       "columns": [
        {
         "name": "index",
         "rawType": "int64",
         "type": "integer"
        },
        {
         "name": "name",
         "rawType": "object",
         "type": "string"
        },
        {
         "name": "host_name",
         "rawType": "object",
         "type": "string"
        },
        {
         "name": "location_cluster",
         "rawType": "object",
         "type": "string"
        },
        {
         "name": "location",
         "rawType": "object",
         "type": "string"
        },
        {
         "name": "type_house",
         "rawType": "object",
         "type": "string"
        },
        {
         "name": "sum",
         "rawType": "int32",
         "type": "integer"
        },
        {
         "name": "min_days",
         "rawType": "int32",
         "type": "integer"
        },
        {
         "name": "amt_reviews",
         "rawType": "int32",
         "type": "integer"
        },
        {
         "name": "avg_reviews",
         "rawType": "float64",
         "type": "float"
        },
        {
         "name": "total_host",
         "rawType": "int32",
         "type": "integer"
        },
        {
         "name": "days_since_last_review",
         "rawType": "float64",
         "type": "float"
        },
        {
         "name": "year",
         "rawType": "float64",
         "type": "float"
        },
        {
         "name": "month",
         "rawType": "float64",
         "type": "float"
        },
        {
         "name": "day_of_month",
         "rawType": "float64",
         "type": "float"
        },
        {
         "name": "day_of_week",
         "rawType": "float64",
         "type": "float"
        },
        {
         "name": "name_coords",
         "rawType": "object",
         "type": "string"
        },
        {
         "name": "admin1_coords",
         "rawType": "object",
         "type": "string"
        },
        {
         "name": "admin2_coords",
         "rawType": "object",
         "type": "string"
        },
        {
         "name": "distance_km_centre",
         "rawType": "float32",
         "type": "float"
        },
        {
         "name": "is_out_of_name",
         "rawType": "int32",
         "type": "integer"
        }
       ],
       "conversionMethod": "pd.DataFrame",
       "ref": "95860c5b-1a1b-49f6-9ab0-52034fe9fc88",
       "rows": [
        [
         "0",
         "bedstuy brooklyn private bedroom",
         "Kamerin",
         "Brooklyn",
         "Bedford-Stuyvesant",
         "Private room",
         "35",
         "4",
         "0",
         null,
         "1",
         null,
         null,
         null,
         null,
         null,
         "East New York",
         "New York",
         "Kings County",
         "3.6432192",
         "1"
        ],
        [
         "1",
         "private bedroom in soho",
         "Charlotte",
         "Manhattan",
         "Tribeca",
         "Private room",
         "110",
         "1",
         "0",
         null,
         "1",
         null,
         null,
         null,
         null,
         null,
         "New York City",
         "New York",
         "",
         "0.6082666",
         "1"
        ],
        [
         "2",
         "sonder hanover square simple br rooftop",
         "Sonder",
         "Manhattan",
         "Financial District",
         "Entire home/apt",
         "182",
         "29",
         "2",
         "0.24",
         "96",
         "98.0",
         "2019.0",
         "4.0",
         "1.0",
         "0.0",
         "New York City",
         "New York",
         "",
         "1.0647143",
         "1"
        ],
        [
         "3",
         "peaceful sunny greenpoint room",
         "Paul",
         "Brooklyn",
         "Greenpoint",
         "Private room",
         "66",
         "1",
         "1",
         "0.02",
         "1",
         "1213.0",
         "2016.0",
         "3.0",
         "12.0",
         "5.0",
         "Long Island City",
         "New York",
         "Queens County",
         "1.6751245",
         "1"
        ],
        [
         "4",
         "waterfront condo with swimming pool",
         "Alessandro",
         "Brooklyn",
         "Williamsburg",
         "Private room",
         "70",
         "2",
         "14",
         "1.52",
         "2",
         "14.0",
         "2019.0",
         "6.0",
         "24.0",
         "0.0",
         "Long Island City",
         "New York",
         "Queens County",
         "3.0921423",
         "1"
        ]
       ],
       "shape": {
        "columns": 20,
        "rows": 5
       }
      },
      "text/html": [
       "<div>\n",
       "<style scoped>\n",
       "    .dataframe tbody tr th:only-of-type {\n",
       "        vertical-align: middle;\n",
       "    }\n",
       "\n",
       "    .dataframe tbody tr th {\n",
       "        vertical-align: top;\n",
       "    }\n",
       "\n",
       "    .dataframe thead th {\n",
       "        text-align: right;\n",
       "    }\n",
       "</style>\n",
       "<table border=\"1\" class=\"dataframe\">\n",
       "  <thead>\n",
       "    <tr style=\"text-align: right;\">\n",
       "      <th></th>\n",
       "      <th>name</th>\n",
       "      <th>host_name</th>\n",
       "      <th>location_cluster</th>\n",
       "      <th>location</th>\n",
       "      <th>type_house</th>\n",
       "      <th>sum</th>\n",
       "      <th>min_days</th>\n",
       "      <th>amt_reviews</th>\n",
       "      <th>avg_reviews</th>\n",
       "      <th>total_host</th>\n",
       "      <th>days_since_last_review</th>\n",
       "      <th>year</th>\n",
       "      <th>month</th>\n",
       "      <th>day_of_month</th>\n",
       "      <th>day_of_week</th>\n",
       "      <th>name_coords</th>\n",
       "      <th>admin1_coords</th>\n",
       "      <th>admin2_coords</th>\n",
       "      <th>distance_km_centre</th>\n",
       "      <th>is_out_of_name</th>\n",
       "    </tr>\n",
       "  </thead>\n",
       "  <tbody>\n",
       "    <tr>\n",
       "      <th>0</th>\n",
       "      <td>bedstuy brooklyn private bedroom</td>\n",
       "      <td>Kamerin</td>\n",
       "      <td>Brooklyn</td>\n",
       "      <td>Bedford-Stuyvesant</td>\n",
       "      <td>Private room</td>\n",
       "      <td>35</td>\n",
       "      <td>4</td>\n",
       "      <td>0</td>\n",
       "      <td>NaN</td>\n",
       "      <td>1</td>\n",
       "      <td>NaN</td>\n",
       "      <td>NaN</td>\n",
       "      <td>NaN</td>\n",
       "      <td>NaN</td>\n",
       "      <td>NaN</td>\n",
       "      <td>East New York</td>\n",
       "      <td>New York</td>\n",
       "      <td>Kings County</td>\n",
       "      <td>3.643219</td>\n",
       "      <td>1</td>\n",
       "    </tr>\n",
       "    <tr>\n",
       "      <th>1</th>\n",
       "      <td>private bedroom in soho</td>\n",
       "      <td>Charlotte</td>\n",
       "      <td>Manhattan</td>\n",
       "      <td>Tribeca</td>\n",
       "      <td>Private room</td>\n",
       "      <td>110</td>\n",
       "      <td>1</td>\n",
       "      <td>0</td>\n",
       "      <td>NaN</td>\n",
       "      <td>1</td>\n",
       "      <td>NaN</td>\n",
       "      <td>NaN</td>\n",
       "      <td>NaN</td>\n",
       "      <td>NaN</td>\n",
       "      <td>NaN</td>\n",
       "      <td>New York City</td>\n",
       "      <td>New York</td>\n",
       "      <td></td>\n",
       "      <td>0.608267</td>\n",
       "      <td>1</td>\n",
       "    </tr>\n",
       "    <tr>\n",
       "      <th>2</th>\n",
       "      <td>sonder hanover square simple br rooftop</td>\n",
       "      <td>Sonder</td>\n",
       "      <td>Manhattan</td>\n",
       "      <td>Financial District</td>\n",
       "      <td>Entire home/apt</td>\n",
       "      <td>182</td>\n",
       "      <td>29</td>\n",
       "      <td>2</td>\n",
       "      <td>0.24</td>\n",
       "      <td>96</td>\n",
       "      <td>98.0</td>\n",
       "      <td>2019.0</td>\n",
       "      <td>4.0</td>\n",
       "      <td>1.0</td>\n",
       "      <td>0.0</td>\n",
       "      <td>New York City</td>\n",
       "      <td>New York</td>\n",
       "      <td></td>\n",
       "      <td>1.064714</td>\n",
       "      <td>1</td>\n",
       "    </tr>\n",
       "    <tr>\n",
       "      <th>3</th>\n",
       "      <td>peaceful sunny greenpoint room</td>\n",
       "      <td>Paul</td>\n",
       "      <td>Brooklyn</td>\n",
       "      <td>Greenpoint</td>\n",
       "      <td>Private room</td>\n",
       "      <td>66</td>\n",
       "      <td>1</td>\n",
       "      <td>1</td>\n",
       "      <td>0.02</td>\n",
       "      <td>1</td>\n",
       "      <td>1213.0</td>\n",
       "      <td>2016.0</td>\n",
       "      <td>3.0</td>\n",
       "      <td>12.0</td>\n",
       "      <td>5.0</td>\n",
       "      <td>Long Island City</td>\n",
       "      <td>New York</td>\n",
       "      <td>Queens County</td>\n",
       "      <td>1.675125</td>\n",
       "      <td>1</td>\n",
       "    </tr>\n",
       "    <tr>\n",
       "      <th>4</th>\n",
       "      <td>waterfront condo with swimming pool</td>\n",
       "      <td>Alessandro</td>\n",
       "      <td>Brooklyn</td>\n",
       "      <td>Williamsburg</td>\n",
       "      <td>Private room</td>\n",
       "      <td>70</td>\n",
       "      <td>2</td>\n",
       "      <td>14</td>\n",
       "      <td>1.52</td>\n",
       "      <td>2</td>\n",
       "      <td>14.0</td>\n",
       "      <td>2019.0</td>\n",
       "      <td>6.0</td>\n",
       "      <td>24.0</td>\n",
       "      <td>0.0</td>\n",
       "      <td>Long Island City</td>\n",
       "      <td>New York</td>\n",
       "      <td>Queens County</td>\n",
       "      <td>3.092142</td>\n",
       "      <td>1</td>\n",
       "    </tr>\n",
       "  </tbody>\n",
       "</table>\n",
       "</div>"
      ],
      "text/plain": [
       "                                      name   host_name location_cluster  \\\n",
       "0         bedstuy brooklyn private bedroom     Kamerin         Brooklyn   \n",
       "1                  private bedroom in soho   Charlotte        Manhattan   \n",
       "2  sonder hanover square simple br rooftop      Sonder        Manhattan   \n",
       "3           peaceful sunny greenpoint room        Paul         Brooklyn   \n",
       "4      waterfront condo with swimming pool  Alessandro         Brooklyn   \n",
       "\n",
       "             location       type_house  sum  min_days  amt_reviews  \\\n",
       "0  Bedford-Stuyvesant     Private room   35         4            0   \n",
       "1             Tribeca     Private room  110         1            0   \n",
       "2  Financial District  Entire home/apt  182        29            2   \n",
       "3          Greenpoint     Private room   66         1            1   \n",
       "4        Williamsburg     Private room   70         2           14   \n",
       "\n",
       "   avg_reviews  total_host  days_since_last_review    year  month  \\\n",
       "0          NaN           1                     NaN     NaN    NaN   \n",
       "1          NaN           1                     NaN     NaN    NaN   \n",
       "2         0.24          96                    98.0  2019.0    4.0   \n",
       "3         0.02           1                  1213.0  2016.0    3.0   \n",
       "4         1.52           2                    14.0  2019.0    6.0   \n",
       "\n",
       "   day_of_month  day_of_week       name_coords admin1_coords  admin2_coords  \\\n",
       "0           NaN          NaN     East New York      New York   Kings County   \n",
       "1           NaN          NaN     New York City      New York                  \n",
       "2           1.0          0.0     New York City      New York                  \n",
       "3          12.0          5.0  Long Island City      New York  Queens County   \n",
       "4          24.0          0.0  Long Island City      New York  Queens County   \n",
       "\n",
       "   distance_km_centre  is_out_of_name  \n",
       "0            3.643219               1  \n",
       "1            0.608267               1  \n",
       "2            1.064714               1  \n",
       "3            1.675125               1  \n",
       "4            3.092142               1  "
      ]
     },
     "execution_count": 14,
     "metadata": {},
     "output_type": "execute_result"
    }
   ],
   "source": [
    "X_train_transform = preprocessing_catboost.preprocess(X_train)\n",
    "X_test_transform = preprocessing_catboost.transform(X_test)\n",
    "\n",
    "assert X_train_transform.shape[1] == X_test_transform.shape[1]\n",
    "\n",
    "print(X_train_transform.info())\n",
    "X_train_transform.head()"
   ]
  },
  {
   "cell_type": "code",
   "execution_count": 15,
   "metadata": {},
   "outputs": [],
   "source": [
    "text_features = preprocessing_catboost.text_features\n",
    "\n",
    "preprocessing_catboost.cat_features = cat_features = [\n",
    "    column\n",
    "    for column in X_train_transform.select_dtypes(\n",
    "        include=[\"object\", \"category\"]\n",
    "    ).columns.tolist()\n",
    "    if column not in text_features\n",
    "]"
   ]
  },
  {
   "cell_type": "code",
   "execution_count": 16,
   "metadata": {},
   "outputs": [],
   "source": [
    "model_regressor = ModelPipeline(\n",
    "    CatBoostRegressor(\n",
    "        iterations=1024,\n",
    "        learning_rate=0.15,\n",
    "        depth=9,\n",
    "        loss_function=\"RMSE\",\n",
    "        eval_metric=\"RMSE\",\n",
    "        early_stopping_rounds=50,\n",
    "        verbose=30,\n",
    "        cat_features=cat_features,\n",
    "        text_features=text_features,\n",
    "        subsample=0.7,\n",
    "        random_state=RANDOM_STATE,\n",
    "        task_type=\"CPU\",\n",
    "    )\n",
    ")"
   ]
  },
  {
   "cell_type": "code",
   "execution_count": 17,
   "metadata": {},
   "outputs": [
    {
     "name": "stdout",
     "output_type": "stream",
     "text": [
      "Training on fold [0/3]\n",
      "0:\tlearn: 159.7221599\ttest: 159.7052945\tbest: 159.7052945 (0)\ttotal: 1.11s\tremaining: 18m 55s\n",
      "30:\tlearn: 103.4962944\ttest: 105.9432794\tbest: 105.9432794 (30)\ttotal: 37.5s\tremaining: 20m\n",
      "60:\tlearn: 100.9337857\ttest: 104.4717278\tbest: 104.4717278 (60)\ttotal: 1m 13s\tremaining: 19m 16s\n",
      "90:\tlearn: 98.2506964\ttest: 103.3737571\tbest: 103.3737571 (90)\ttotal: 1m 49s\tremaining: 18m 39s\n",
      "120:\tlearn: 95.9375377\ttest: 102.2759245\tbest: 102.2759245 (120)\ttotal: 2m 25s\tremaining: 18m 2s\n",
      "150:\tlearn: 94.1277320\ttest: 101.8468336\tbest: 101.8468336 (150)\ttotal: 3m\tremaining: 17m 24s\n",
      "180:\tlearn: 92.8961905\ttest: 101.6833096\tbest: 101.6833096 (180)\ttotal: 3m 36s\tremaining: 16m 46s\n",
      "210:\tlearn: 91.8590059\ttest: 101.5429434\tbest: 101.5401518 (209)\ttotal: 4m 11s\tremaining: 16m 10s\n",
      "240:\tlearn: 90.8380709\ttest: 101.5524023\tbest: 101.5143173 (234)\ttotal: 4m 47s\tremaining: 15m 34s\n",
      "270:\tlearn: 89.7447373\ttest: 101.4795292\tbest: 101.4745656 (269)\ttotal: 5m 23s\tremaining: 14m 57s\n",
      "300:\tlearn: 88.6930959\ttest: 101.3616649\tbest: 101.3487050 (295)\ttotal: 5m 58s\tremaining: 14m 21s\n",
      "330:\tlearn: 87.7462011\ttest: 101.2688583\tbest: 101.2668174 (329)\ttotal: 6m 34s\tremaining: 13m 44s\n",
      "360:\tlearn: 86.7772476\ttest: 101.2278045\tbest: 101.2252003 (350)\ttotal: 7m 9s\tremaining: 13m 8s\n",
      "390:\tlearn: 86.0867895\ttest: 101.2098497\tbest: 101.1890030 (382)\ttotal: 7m 45s\tremaining: 12m 33s\n",
      "420:\tlearn: 85.2050674\ttest: 101.2256150\tbest: 101.1890030 (382)\ttotal: 8m 20s\tremaining: 11m 57s\n",
      "\n",
      "bestTest = 101.189003\n",
      "bestIteration = 382\n",
      "\n",
      "Training on fold [1/3]\n",
      "0:\tlearn: 159.8506737\ttest: 159.7005864\tbest: 159.7005864 (0)\ttotal: 1.07s\tremaining: 18m 11s\n",
      "30:\tlearn: 103.8457513\ttest: 104.2314324\tbest: 104.2314324 (30)\ttotal: 35.3s\tremaining: 18m 50s\n",
      "60:\tlearn: 101.5018447\ttest: 102.4823763\tbest: 102.4823763 (60)\ttotal: 1m 11s\tremaining: 18m 42s\n",
      "90:\tlearn: 98.5407340\ttest: 101.2363238\tbest: 101.2363238 (90)\ttotal: 1m 46s\tremaining: 18m 12s\n",
      "120:\tlearn: 96.3846125\ttest: 100.6274053\tbest: 100.6274053 (120)\ttotal: 2m 22s\tremaining: 17m 43s\n",
      "150:\tlearn: 94.8025809\ttest: 100.2966421\tbest: 100.2966421 (150)\ttotal: 2m 57s\tremaining: 17m 9s\n",
      "180:\tlearn: 93.0840238\ttest: 100.0180978\tbest: 100.0104755 (179)\ttotal: 3m 33s\tremaining: 16m 36s\n",
      "210:\tlearn: 92.0885059\ttest: 99.8866872\tbest: 99.8866872 (210)\ttotal: 4m 9s\tremaining: 16m 2s\n",
      "240:\tlearn: 90.8878403\ttest: 99.7495967\tbest: 99.7332645 (236)\ttotal: 4m 45s\tremaining: 15m 28s\n",
      "270:\tlearn: 89.8172971\ttest: 99.7127198\tbest: 99.7127198 (270)\ttotal: 5m 21s\tremaining: 14m 52s\n",
      "300:\tlearn: 88.9457881\ttest: 99.7071989\tbest: 99.7006420 (294)\ttotal: 5m 57s\tremaining: 14m 18s\n",
      "330:\tlearn: 87.8165612\ttest: 99.6471686\tbest: 99.6356680 (326)\ttotal: 6m 33s\tremaining: 13m 43s\n",
      "360:\tlearn: 87.0049340\ttest: 99.6605921\tbest: 99.6356680 (326)\ttotal: 7m 9s\tremaining: 13m 8s\n",
      "\n",
      "bestTest = 99.63566803\n",
      "bestIteration = 326\n",
      "\n",
      "Training on fold [2/3]\n",
      "0:\tlearn: 159.4631171\ttest: 159.4787343\tbest: 159.4787343 (0)\ttotal: 1.08s\tremaining: 18m 29s\n",
      "30:\tlearn: 104.4087434\ttest: 104.1111313\tbest: 104.1111313 (30)\ttotal: 35.2s\tremaining: 18m 47s\n",
      "60:\tlearn: 101.9029468\ttest: 102.3711765\tbest: 102.3711765 (60)\ttotal: 1m 11s\tremaining: 18m 46s\n",
      "90:\tlearn: 98.5334458\ttest: 101.0923913\tbest: 101.0923913 (90)\ttotal: 1m 47s\tremaining: 18m 17s\n",
      "120:\tlearn: 96.5683794\ttest: 100.6499780\tbest: 100.6419994 (118)\ttotal: 2m 22s\tremaining: 17m 45s\n",
      "150:\tlearn: 95.2580323\ttest: 100.3506009\tbest: 100.3506009 (150)\ttotal: 2m 58s\tremaining: 17m 12s\n",
      "180:\tlearn: 93.8481222\ttest: 100.2753984\tbest: 100.2730717 (179)\ttotal: 3m 34s\tremaining: 16m 37s\n",
      "210:\tlearn: 92.5803161\ttest: 100.1859750\tbest: 100.1859750 (210)\ttotal: 4m 10s\tremaining: 16m 3s\n",
      "240:\tlearn: 91.4502148\ttest: 100.1701934\tbest: 100.1497820 (229)\ttotal: 4m 46s\tremaining: 15m 30s\n",
      "270:\tlearn: 90.1743875\ttest: 100.1085851\tbest: 100.0932685 (269)\ttotal: 5m 22s\tremaining: 14m 55s\n",
      "300:\tlearn: 89.2453671\ttest: 100.0315085\tbest: 100.0315085 (300)\ttotal: 5m 58s\tremaining: 14m 20s\n",
      "330:\tlearn: 88.2992115\ttest: 99.9823108\tbest: 99.9772511 (316)\ttotal: 6m 33s\tremaining: 13m 44s\n",
      "360:\tlearn: 87.3881554\ttest: 100.0163659\tbest: 99.9500604 (337)\ttotal: 7m 10s\tremaining: 13m 10s\n",
      "\n",
      "bestTest = 99.95006038\n",
      "bestIteration = 337\n",
      "\n"
     ]
    },
    {
     "data": {
      "application/vnd.microsoft.datawrangler.viewer.v0+json": {
       "columns": [
        {
         "name": "index",
         "rawType": "int64",
         "type": "integer"
        },
        {
         "name": "iterations",
         "rawType": "int64",
         "type": "integer"
        },
        {
         "name": "test-RMSE-mean",
         "rawType": "float64",
         "type": "float"
        },
        {
         "name": "test-RMSE-std",
         "rawType": "float64",
         "type": "float"
        },
        {
         "name": "train-RMSE-mean",
         "rawType": "float64",
         "type": "float"
        },
        {
         "name": "train-RMSE-std",
         "rawType": "float64",
         "type": "float"
        }
       ],
       "conversionMethod": "pd.DataFrame",
       "ref": "92e3e034-65fa-4203-adda-2f67b197f323",
       "rows": [
        [
         "0",
         "0",
         "159.62820506562556",
         "0.12946688677734716",
         "159.67865022693005",
         "0.19740782723695294"
        ],
        [
         "1",
         "1",
         "148.67281904876123",
         "0.3564875320441403",
         "148.7961662247166",
         "0.4023101334190332"
        ],
        [
         "2",
         "2",
         "139.85640332742813",
         "0.27503738219022145",
         "139.96753917531746",
         "0.2374028703484983"
        ],
        [
         "3",
         "3",
         "132.8272367416195",
         "0.15670384301307919",
         "132.88644783028414",
         "0.009050786520401225"
        ],
        [
         "4",
         "4",
         "127.34757006251816",
         "0.18594742845812423",
         "127.3717980180985",
         "0.47634625375217676"
        ],
        [
         "5",
         "5",
         "122.92875606357836",
         "0.09989679448342359",
         "122.95136187517961",
         "0.476758571474463"
        ],
        [
         "6",
         "6",
         "119.50724426925905",
         "0.10378499870378198",
         "119.43429629625722",
         "0.5715855807062877"
        ],
        [
         "7",
         "7",
         "116.8576308344613",
         "0.2254837876972141",
         "116.81009796471722",
         "0.31301984082354833"
        ],
        [
         "8",
         "8",
         "114.64455632700746",
         "0.27623545567851876",
         "114.55081873533146",
         "0.36916107857"
        ],
        [
         "9",
         "9",
         "112.96307606563438",
         "0.43026802788566787",
         "112.78659969445762",
         "0.27398263227688147"
        ],
        [
         "10",
         "10",
         "111.6971712448044",
         "0.4055499194277257",
         "111.51965438919338",
         "0.4173148102343055"
        ],
        [
         "11",
         "11",
         "110.70209589662602",
         "0.5890555014017442",
         "110.4313347059889",
         "0.2522014514165455"
        ],
        [
         "12",
         "12",
         "109.8691555055371",
         "0.5997636220009384",
         "109.5340860204518",
         "0.3368673847739859"
        ],
        [
         "13",
         "13",
         "109.17125359067694",
         "0.6468033207642576",
         "108.79332086516268",
         "0.3744901831201055"
        ],
        [
         "14",
         "14",
         "108.64347367539675",
         "0.6457387844438276",
         "108.26844775997681",
         "0.44756731900936875"
        ],
        [
         "15",
         "15",
         "108.14631908425747",
         "0.7258393077801912",
         "107.73905621366787",
         "0.42226137690234233"
        ],
        [
         "16",
         "16",
         "107.81848296599583",
         "0.8058392328025553",
         "107.33734150719489",
         "0.322166033785559"
        ],
        [
         "17",
         "17",
         "107.48853552773261",
         "0.7894155313502367",
         "106.93124671362563",
         "0.36433759324279885"
        ],
        [
         "18",
         "18",
         "107.1516924316453",
         "0.7077290592858766",
         "106.560444754599",
         "0.5380198677017415"
        ],
        [
         "19",
         "19",
         "106.94409736805271",
         "0.7263649090106682",
         "106.32154024310967",
         "0.5305470636929787"
        ],
        [
         "20",
         "20",
         "106.7558678046076",
         "0.7105285306062508",
         "106.1170896486438",
         "0.5674945954286327"
        ],
        [
         "21",
         "21",
         "106.39106296199465",
         "0.774677354581655",
         "105.66736084611189",
         "0.5115291790071836"
        ],
        [
         "22",
         "22",
         "106.19008713308018",
         "0.7798021021502005",
         "105.44495833662121",
         "0.45405745301886613"
        ],
        [
         "23",
         "23",
         "105.89674903392462",
         "0.8035454584745071",
         "105.16356218973574",
         "0.45890858306291604"
        ],
        [
         "24",
         "24",
         "105.65411923243538",
         "0.838717937304024",
         "104.90312532991804",
         "0.4590523992711251"
        ],
        [
         "25",
         "25",
         "105.45404466689139",
         "0.8067554171527932",
         "104.7259442204433",
         "0.4586997617582431"
        ],
        [
         "26",
         "26",
         "105.29318680196138",
         "0.8692548293885005",
         "104.57455437236655",
         "0.42084858786513535"
        ],
        [
         "27",
         "27",
         "105.14587794848138",
         "0.8705464104387035",
         "104.35523831609054",
         "0.5301954390013821"
        ],
        [
         "28",
         "28",
         "104.96791036399537",
         "0.9810213211366517",
         "104.15791874174181",
         "0.4754858187587794"
        ],
        [
         "29",
         "29",
         "104.88569561885951",
         "0.9928302312552599",
         "104.04436886956076",
         "0.5030484413273164"
        ],
        [
         "30",
         "30",
         "104.76194768965875",
         "1.024829986892697",
         "103.91692969206196",
         "0.4603700642897119"
        ],
        [
         "31",
         "31",
         "104.59367343017745",
         "1.1144064401974392",
         "103.67893486485661",
         "0.38550093127656454"
        ],
        [
         "32",
         "32",
         "104.50511083192468",
         "1.0238963686991527",
         "103.56531842074493",
         "0.4599438663722862"
        ],
        [
         "33",
         "33",
         "104.37212544089915",
         "1.1156044479168399",
         "103.4264924558218",
         "0.3541201770810068"
        ],
        [
         "34",
         "34",
         "104.34113706104671",
         "1.1111242936341252",
         "103.38220692797796",
         "0.3698519544134655"
        ],
        [
         "35",
         "35",
         "104.27325685575185",
         "1.1022067952635826",
         "103.28110271450059",
         "0.3575405375918043"
        ],
        [
         "36",
         "36",
         "104.20573678055166",
         "1.0980676231683217",
         "103.17698525874304",
         "0.3977839858668156"
        ],
        [
         "37",
         "37",
         "104.11840557248188",
         "1.1401542702676108",
         "103.09430043200025",
         "0.41480232253210725"
        ],
        [
         "38",
         "38",
         "104.0566691649961",
         "1.1161810653329944",
         "102.98954252531898",
         "0.4333552115211497"
        ],
        [
         "39",
         "39",
         "103.99152994590435",
         "1.0615326561486627",
         "102.86227670856937",
         "0.47791998189042334"
        ],
        [
         "40",
         "40",
         "103.89698583172463",
         "1.137211763697061",
         "102.7488462306266",
         "0.3983818334408515"
        ],
        [
         "41",
         "41",
         "103.85198173436561",
         "1.1554626251660662",
         "102.68571081733599",
         "0.39095388343423476"
        ],
        [
         "42",
         "42",
         "103.77204074816053",
         "1.1155670798763815",
         "102.56673422477597",
         "0.43417568409172663"
        ],
        [
         "43",
         "43",
         "103.73125059262293",
         "1.1421158381273526",
         "102.51137414070091",
         "0.4127319428276097"
        ],
        [
         "44",
         "44",
         "103.68170460852406",
         "1.1465044136220106",
         "102.4538053093333",
         "0.3792944770605254"
        ],
        [
         "45",
         "45",
         "103.59787026681329",
         "1.1859097684130138",
         "102.3828903767839",
         "0.38766947937498725"
        ],
        [
         "46",
         "46",
         "103.55753847632543",
         "1.1624505485816157",
         "102.29388316355092",
         "0.4298273746796595"
        ],
        [
         "47",
         "47",
         "103.52611173262211",
         "1.1428994887682942",
         "102.22724261725152",
         "0.4751256981890283"
        ],
        [
         "48",
         "48",
         "103.4810073244821",
         "1.1802987682282926",
         "102.15244965583203",
         "0.390173077498176"
        ],
        [
         "49",
         "49",
         "103.41678092850691",
         "1.1944320512360065",
         "102.07774715701424",
         "0.38638975148164206"
        ]
       ],
       "shape": {
        "columns": 5,
        "rows": 433
       }
      },
      "text/html": [
       "<div>\n",
       "<style scoped>\n",
       "    .dataframe tbody tr th:only-of-type {\n",
       "        vertical-align: middle;\n",
       "    }\n",
       "\n",
       "    .dataframe tbody tr th {\n",
       "        vertical-align: top;\n",
       "    }\n",
       "\n",
       "    .dataframe thead th {\n",
       "        text-align: right;\n",
       "    }\n",
       "</style>\n",
       "<table border=\"1\" class=\"dataframe\">\n",
       "  <thead>\n",
       "    <tr style=\"text-align: right;\">\n",
       "      <th></th>\n",
       "      <th>iterations</th>\n",
       "      <th>test-RMSE-mean</th>\n",
       "      <th>test-RMSE-std</th>\n",
       "      <th>train-RMSE-mean</th>\n",
       "      <th>train-RMSE-std</th>\n",
       "    </tr>\n",
       "  </thead>\n",
       "  <tbody>\n",
       "    <tr>\n",
       "      <th>0</th>\n",
       "      <td>0</td>\n",
       "      <td>159.628205</td>\n",
       "      <td>0.129467</td>\n",
       "      <td>159.678650</td>\n",
       "      <td>0.197408</td>\n",
       "    </tr>\n",
       "    <tr>\n",
       "      <th>1</th>\n",
       "      <td>1</td>\n",
       "      <td>148.672819</td>\n",
       "      <td>0.356488</td>\n",
       "      <td>148.796166</td>\n",
       "      <td>0.402310</td>\n",
       "    </tr>\n",
       "    <tr>\n",
       "      <th>2</th>\n",
       "      <td>2</td>\n",
       "      <td>139.856403</td>\n",
       "      <td>0.275037</td>\n",
       "      <td>139.967539</td>\n",
       "      <td>0.237403</td>\n",
       "    </tr>\n",
       "    <tr>\n",
       "      <th>3</th>\n",
       "      <td>3</td>\n",
       "      <td>132.827237</td>\n",
       "      <td>0.156704</td>\n",
       "      <td>132.886448</td>\n",
       "      <td>0.009051</td>\n",
       "    </tr>\n",
       "    <tr>\n",
       "      <th>4</th>\n",
       "      <td>4</td>\n",
       "      <td>127.347570</td>\n",
       "      <td>0.185947</td>\n",
       "      <td>127.371798</td>\n",
       "      <td>0.476346</td>\n",
       "    </tr>\n",
       "    <tr>\n",
       "      <th>...</th>\n",
       "      <td>...</td>\n",
       "      <td>...</td>\n",
       "      <td>...</td>\n",
       "      <td>...</td>\n",
       "      <td>...</td>\n",
       "    </tr>\n",
       "    <tr>\n",
       "      <th>428</th>\n",
       "      <td>428</td>\n",
       "      <td>100.279230</td>\n",
       "      <td>0.826335</td>\n",
       "      <td>86.112983</td>\n",
       "      <td>0.916525</td>\n",
       "    </tr>\n",
       "    <tr>\n",
       "      <th>429</th>\n",
       "      <td>429</td>\n",
       "      <td>100.277456</td>\n",
       "      <td>0.823312</td>\n",
       "      <td>86.099818</td>\n",
       "      <td>0.939271</td>\n",
       "    </tr>\n",
       "    <tr>\n",
       "      <th>430</th>\n",
       "      <td>430</td>\n",
       "      <td>100.277873</td>\n",
       "      <td>0.824022</td>\n",
       "      <td>86.097127</td>\n",
       "      <td>0.943921</td>\n",
       "    </tr>\n",
       "    <tr>\n",
       "      <th>431</th>\n",
       "      <td>431</td>\n",
       "      <td>100.277330</td>\n",
       "      <td>0.823098</td>\n",
       "      <td>86.086228</td>\n",
       "      <td>0.962754</td>\n",
       "    </tr>\n",
       "    <tr>\n",
       "      <th>432</th>\n",
       "      <td>432</td>\n",
       "      <td>100.277254</td>\n",
       "      <td>0.822968</td>\n",
       "      <td>86.081481</td>\n",
       "      <td>0.970956</td>\n",
       "    </tr>\n",
       "  </tbody>\n",
       "</table>\n",
       "<p>433 rows × 5 columns</p>\n",
       "</div>"
      ],
      "text/plain": [
       "     iterations  test-RMSE-mean  test-RMSE-std  train-RMSE-mean  \\\n",
       "0             0      159.628205       0.129467       159.678650   \n",
       "1             1      148.672819       0.356488       148.796166   \n",
       "2             2      139.856403       0.275037       139.967539   \n",
       "3             3      132.827237       0.156704       132.886448   \n",
       "4             4      127.347570       0.185947       127.371798   \n",
       "..          ...             ...            ...              ...   \n",
       "428         428      100.279230       0.826335        86.112983   \n",
       "429         429      100.277456       0.823312        86.099818   \n",
       "430         430      100.277873       0.824022        86.097127   \n",
       "431         431      100.277330       0.823098        86.086228   \n",
       "432         432      100.277254       0.822968        86.081481   \n",
       "\n",
       "     train-RMSE-std  \n",
       "0          0.197408  \n",
       "1          0.402310  \n",
       "2          0.237403  \n",
       "3          0.009051  \n",
       "4          0.476346  \n",
       "..              ...  \n",
       "428        0.916525  \n",
       "429        0.939271  \n",
       "430        0.943921  \n",
       "431        0.962754  \n",
       "432        0.970956  \n",
       "\n",
       "[433 rows x 5 columns]"
      ]
     },
     "execution_count": 17,
     "metadata": {},
     "output_type": "execute_result"
    }
   ],
   "source": [
    "model_regressor.fit_k_fold(X_train_transform, y_train)"
   ]
  },
  {
   "cell_type": "code",
   "execution_count": 18,
   "metadata": {},
   "outputs": [
    {
     "name": "stdout",
     "output_type": "stream",
     "text": [
      "0:\tlearn: 126.5976066\ttest: 125.2202704\tbest: 125.2202704 (0)\ttotal: 1.15s\tremaining: 19m 40s\n",
      "30:\tlearn: 102.7844171\ttest: 102.2474594\tbest: 102.2474594 (30)\ttotal: 38.8s\tremaining: 20m 42s\n",
      "60:\tlearn: 100.2947989\ttest: 100.5550021\tbest: 100.5550021 (60)\ttotal: 1m 16s\tremaining: 20m 14s\n",
      "90:\tlearn: 98.0397546\ttest: 99.5181907\tbest: 99.5181907 (90)\ttotal: 1m 55s\tremaining: 19m 40s\n",
      "120:\tlearn: 96.2184006\ttest: 98.9624990\tbest: 98.9607170 (119)\ttotal: 2m 33s\tremaining: 19m 3s\n",
      "150:\tlearn: 94.7232304\ttest: 98.6393122\tbest: 98.6393122 (150)\ttotal: 3m 11s\tremaining: 18m 25s\n",
      "180:\tlearn: 93.8783399\ttest: 98.6063179\tbest: 98.5808290 (173)\ttotal: 3m 49s\tremaining: 17m 48s\n",
      "210:\tlearn: 92.7286586\ttest: 98.3727074\tbest: 98.3727074 (210)\ttotal: 4m 27s\tremaining: 17m 11s\n",
      "240:\tlearn: 91.8706145\ttest: 98.3865027\tbest: 98.3516222 (220)\ttotal: 5m 5s\tremaining: 16m 33s\n",
      "270:\tlearn: 90.9166626\ttest: 98.2907061\tbest: 98.2844020 (267)\ttotal: 5m 43s\tremaining: 15m 54s\n",
      "300:\tlearn: 90.1373045\ttest: 98.1520975\tbest: 98.1496803 (297)\ttotal: 6m 21s\tremaining: 15m 16s\n",
      "330:\tlearn: 89.3259901\ttest: 98.0410768\tbest: 98.0325973 (314)\ttotal: 6m 59s\tremaining: 14m 38s\n",
      "360:\tlearn: 88.6215366\ttest: 98.0355804\tbest: 98.0089385 (336)\ttotal: 7m 37s\tremaining: 14m\n",
      "Stopped by overfitting detector  (50 iterations wait)\n",
      "\n",
      "bestTest = 98.00893846\n",
      "bestIteration = 336\n",
      "\n",
      "Shrink model to first 337 iterations.\n"
     ]
    }
   ],
   "source": [
    "eval_set = [(X_test_transform, y_test)]\n",
    "\n",
    "model_regressor.fit(X_train_transform, y_train, eval_set=eval_set)"
   ]
  },
  {
   "cell_type": "code",
   "execution_count": 19,
   "metadata": {},
   "outputs": [
    {
     "name": "stdout",
     "output_type": "stream",
     "text": [
      "MSE: 9591.969597818677\n"
     ]
    }
   ],
   "source": [
    "y_pred = model_regressor.predict(X_test_transform)\n",
    "\n",
    "print(f\"MSE: {mean_squared_error(y_test, y_pred)}\")"
   ]
  },
  {
   "cell_type": "code",
   "execution_count": 20,
   "metadata": {},
   "outputs": [
    {
     "data": {
      "application/vnd.microsoft.datawrangler.viewer.v0+json": {
       "columns": [
        {
         "name": "index",
         "rawType": "int64",
         "type": "integer"
        },
        {
         "name": "features",
         "rawType": "object",
         "type": "string"
        },
        {
         "name": "score",
         "rawType": "float64",
         "type": "float"
        }
       ],
       "conversionMethod": "pd.DataFrame",
       "ref": "386e5fa1-4bcc-4f1a-b05e-09fe12b0b255",
       "rows": [
        [
         "9",
         "total_host",
         "15.578230538626995"
        ],
        [
         "0",
         "name",
         "12.366373183405992"
        ],
        [
         "6",
         "min_days",
         "9.70852972294399"
        ],
        [
         "5",
         "sum",
         "8.59820758556681"
        ],
        [
         "7",
         "amt_reviews",
         "7.861662766747698"
        ],
        [
         "11",
         "year",
         "6.8124047552691005"
        ],
        [
         "3",
         "location",
         "6.040384424143601"
        ],
        [
         "8",
         "avg_reviews",
         "6.001982046157059"
        ],
        [
         "1",
         "host_name",
         "5.080865295018151"
        ],
        [
         "10",
         "days_since_last_review",
         "5.064221156745191"
        ],
        [
         "4",
         "type_house",
         "3.6783625196175187"
        ],
        [
         "2",
         "location_cluster",
         "2.9945709140726566"
        ],
        [
         "15",
         "name_coords",
         "2.8473529080184328"
        ],
        [
         "12",
         "month",
         "2.5314023617963164"
        ],
        [
         "18",
         "distance_km_centre",
         "1.900571025126737"
        ],
        [
         "17",
         "admin2_coords",
         "1.092015277817946"
        ],
        [
         "14",
         "day_of_week",
         "0.8800299943708487"
        ],
        [
         "13",
         "day_of_month",
         "0.8724153810810767"
        ],
        [
         "16",
         "admin1_coords",
         "0.06209159271646547"
        ],
        [
         "19",
         "is_out_of_name",
         "0.028326550757430922"
        ]
       ],
       "shape": {
        "columns": 2,
        "rows": 20
       }
      },
      "text/html": [
       "<div>\n",
       "<style scoped>\n",
       "    .dataframe tbody tr th:only-of-type {\n",
       "        vertical-align: middle;\n",
       "    }\n",
       "\n",
       "    .dataframe tbody tr th {\n",
       "        vertical-align: top;\n",
       "    }\n",
       "\n",
       "    .dataframe thead th {\n",
       "        text-align: right;\n",
       "    }\n",
       "</style>\n",
       "<table border=\"1\" class=\"dataframe\">\n",
       "  <thead>\n",
       "    <tr style=\"text-align: right;\">\n",
       "      <th></th>\n",
       "      <th>features</th>\n",
       "      <th>score</th>\n",
       "    </tr>\n",
       "  </thead>\n",
       "  <tbody>\n",
       "    <tr>\n",
       "      <th>9</th>\n",
       "      <td>total_host</td>\n",
       "      <td>15.578231</td>\n",
       "    </tr>\n",
       "    <tr>\n",
       "      <th>0</th>\n",
       "      <td>name</td>\n",
       "      <td>12.366373</td>\n",
       "    </tr>\n",
       "    <tr>\n",
       "      <th>6</th>\n",
       "      <td>min_days</td>\n",
       "      <td>9.708530</td>\n",
       "    </tr>\n",
       "    <tr>\n",
       "      <th>5</th>\n",
       "      <td>sum</td>\n",
       "      <td>8.598208</td>\n",
       "    </tr>\n",
       "    <tr>\n",
       "      <th>7</th>\n",
       "      <td>amt_reviews</td>\n",
       "      <td>7.861663</td>\n",
       "    </tr>\n",
       "    <tr>\n",
       "      <th>11</th>\n",
       "      <td>year</td>\n",
       "      <td>6.812405</td>\n",
       "    </tr>\n",
       "    <tr>\n",
       "      <th>3</th>\n",
       "      <td>location</td>\n",
       "      <td>6.040384</td>\n",
       "    </tr>\n",
       "    <tr>\n",
       "      <th>8</th>\n",
       "      <td>avg_reviews</td>\n",
       "      <td>6.001982</td>\n",
       "    </tr>\n",
       "    <tr>\n",
       "      <th>1</th>\n",
       "      <td>host_name</td>\n",
       "      <td>5.080865</td>\n",
       "    </tr>\n",
       "    <tr>\n",
       "      <th>10</th>\n",
       "      <td>days_since_last_review</td>\n",
       "      <td>5.064221</td>\n",
       "    </tr>\n",
       "    <tr>\n",
       "      <th>4</th>\n",
       "      <td>type_house</td>\n",
       "      <td>3.678363</td>\n",
       "    </tr>\n",
       "    <tr>\n",
       "      <th>2</th>\n",
       "      <td>location_cluster</td>\n",
       "      <td>2.994571</td>\n",
       "    </tr>\n",
       "    <tr>\n",
       "      <th>15</th>\n",
       "      <td>name_coords</td>\n",
       "      <td>2.847353</td>\n",
       "    </tr>\n",
       "    <tr>\n",
       "      <th>12</th>\n",
       "      <td>month</td>\n",
       "      <td>2.531402</td>\n",
       "    </tr>\n",
       "    <tr>\n",
       "      <th>18</th>\n",
       "      <td>distance_km_centre</td>\n",
       "      <td>1.900571</td>\n",
       "    </tr>\n",
       "    <tr>\n",
       "      <th>17</th>\n",
       "      <td>admin2_coords</td>\n",
       "      <td>1.092015</td>\n",
       "    </tr>\n",
       "    <tr>\n",
       "      <th>14</th>\n",
       "      <td>day_of_week</td>\n",
       "      <td>0.880030</td>\n",
       "    </tr>\n",
       "    <tr>\n",
       "      <th>13</th>\n",
       "      <td>day_of_month</td>\n",
       "      <td>0.872415</td>\n",
       "    </tr>\n",
       "    <tr>\n",
       "      <th>16</th>\n",
       "      <td>admin1_coords</td>\n",
       "      <td>0.062092</td>\n",
       "    </tr>\n",
       "    <tr>\n",
       "      <th>19</th>\n",
       "      <td>is_out_of_name</td>\n",
       "      <td>0.028327</td>\n",
       "    </tr>\n",
       "  </tbody>\n",
       "</table>\n",
       "</div>"
      ],
      "text/plain": [
       "                  features      score\n",
       "9               total_host  15.578231\n",
       "0                     name  12.366373\n",
       "6                 min_days   9.708530\n",
       "5                      sum   8.598208\n",
       "7              amt_reviews   7.861663\n",
       "11                    year   6.812405\n",
       "3                 location   6.040384\n",
       "8              avg_reviews   6.001982\n",
       "1                host_name   5.080865\n",
       "10  days_since_last_review   5.064221\n",
       "4               type_house   3.678363\n",
       "2         location_cluster   2.994571\n",
       "15             name_coords   2.847353\n",
       "12                   month   2.531402\n",
       "18      distance_km_centre   1.900571\n",
       "17           admin2_coords   1.092015\n",
       "14             day_of_week   0.880030\n",
       "13            day_of_month   0.872415\n",
       "16           admin1_coords   0.062092\n",
       "19          is_out_of_name   0.028327"
      ]
     },
     "execution_count": 20,
     "metadata": {},
     "output_type": "execute_result"
    }
   ],
   "source": [
    "importance_features_ctb = pd.DataFrame(\n",
    "    data={\n",
    "        \"features\": X_train_transform.columns.to_list(),\n",
    "        \"score\": model_regressor.model.get_feature_importance(),\n",
    "    }\n",
    ")\n",
    "\n",
    "importance_features_ctb.sort_values(by=\"score\", ascending=False)"
   ]
  },
  {
   "cell_type": "code",
   "execution_count": 21,
   "metadata": {},
   "outputs": [
    {
     "name": "stdout",
     "output_type": "stream",
     "text": [
      "0:\tlearn: 126.0643338\ttotal: 1.19s\tremaining: 6m 37s\n",
      "30:\tlearn: 101.6612284\ttotal: 40.3s\tremaining: 6m 36s\n",
      "60:\tlearn: 99.7477687\ttotal: 1m 18s\tremaining: 5m 55s\n",
      "90:\tlearn: 97.7229454\ttotal: 1m 57s\tremaining: 5m 15s\n",
      "120:\tlearn: 95.9920236\ttotal: 2m 36s\tremaining: 4m 37s\n",
      "150:\tlearn: 94.5757909\ttotal: 3m 14s\tremaining: 3m 58s\n",
      "180:\tlearn: 93.4156231\ttotal: 3m 53s\tremaining: 3m 19s\n",
      "210:\tlearn: 92.4607465\ttotal: 4m 32s\tremaining: 2m 41s\n",
      "240:\tlearn: 91.6235711\ttotal: 5m 10s\tremaining: 2m 2s\n",
      "270:\tlearn: 90.8332078\ttotal: 5m 48s\tremaining: 1m 23s\n",
      "300:\tlearn: 90.0888148\ttotal: 6m 27s\tremaining: 45.1s\n",
      "330:\tlearn: 89.3796358\ttotal: 7m 5s\tremaining: 6.43s\n",
      "335:\tlearn: 89.2458443\ttotal: 7m 12s\tremaining: 0us\n"
     ]
    }
   ],
   "source": [
    "model_regressor_full_data = ModelPipeline(\n",
    "    CatBoostRegressor(**model_regressor.model.get_params())\n",
    ")\n",
    "model_regressor_full_data.model.set_params(iterations=336)\n",
    "\n",
    "full_data_train = preprocessing_catboost.preprocess(X)\n",
    "\n",
    "model_regressor_full_data.fit(full_data_train, y)"
   ]
  },
  {
   "cell_type": "code",
   "execution_count": null,
   "metadata": {},
   "outputs": [],
   "source": [
    "df_house_test = pd.read_csv(\"test.csv\")\n",
    "\n",
    "df_house_train = df_house.copy(deep=True).reset_index()\n",
    "df_house_test = df_house_test.reset_index()\n",
    "\n",
    "df_house_train[\"test_columns\"] = 0\n",
    "df_house_test[\"test_columns\"] = 1\n",
    "\n",
    "df_full = pd.concat(\n",
    "    [df_house_train.drop(columns=[\"target\"]), df_house_test], axis=0, ignore_index=True\n",
    ")\n",
    "\n",
    "df_test = preprocessing_catboost.preprocess(df_full)\n",
    "\n",
    "df_test = (\n",
    "    df_test[df_test[\"test_columns\"] == 1]\n",
    "    .sort_values(by=\"index\")\n",
    "    .drop(columns=[\"test_columns\", \"index\"])\n",
    ")\n",
    "\n",
    "assert df_test.shape[1] == X_train_transform.shape[1]\n",
    "\n",
    "y_test = model_regressor_full_data.predict(df_test)\n",
    "\n",
    "assert y_test.shape[0] == 12224"
   ]
  },
  {
   "cell_type": "code",
   "execution_count": 23,
   "metadata": {},
   "outputs": [],
   "source": [
    "df_predict_test = pd.DataFrame(y_test, columns=[\"prediction\"]).reset_index()"
   ]
  },
  {
   "cell_type": "code",
   "execution_count": 24,
   "metadata": {},
   "outputs": [],
   "source": [
    "df_predict_test.to_csv(\"catboost_v3_add_clean_text.csv\", index=None)"
   ]
  }
 ],
 "metadata": {
  "kernelspec": {
   "display_name": "Python 3",
   "language": "python",
   "name": "python3"
  },
  "language_info": {
   "codemirror_mode": {
    "name": "ipython",
    "version": 3
   },
   "file_extension": ".py",
   "mimetype": "text/x-python",
   "name": "python",
   "nbconvert_exporter": "python",
   "pygments_lexer": "ipython3",
   "version": "3.10.12"
  }
 },
 "nbformat": 4,
 "nbformat_minor": 2
}
