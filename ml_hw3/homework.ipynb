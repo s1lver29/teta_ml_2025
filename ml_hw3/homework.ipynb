{
 "cells": [
  {
   "cell_type": "code",
   "execution_count": 1,
   "metadata": {},
   "outputs": [
    {
     "data": {
      "application/javascript": "IPython.notebook.set_autosave_interval(60000)"
     },
     "metadata": {},
     "output_type": "display_data"
    },
    {
     "name": "stdout",
     "output_type": "stream",
     "text": [
      "Autosaving every 60 seconds\n"
     ]
    }
   ],
   "source": [
    "%autosave 60"
   ]
  },
  {
   "cell_type": "markdown",
   "metadata": {},
   "source": [
    "# Установка зависимостей и импорт библиотек"
   ]
  },
  {
   "cell_type": "code",
   "execution_count": null,
   "metadata": {},
   "outputs": [
    {
     "name": "stdout",
     "output_type": "stream",
     "text": [
      "\u001b[2K   \u001b[90m━━━━━━━━━━━━━━━━━━━━━━━━━━━━━━━━━━━━━━━━\u001b[0m \u001b[32m173.2/173.2 kB\u001b[0m \u001b[31m4.3 MB/s\u001b[0m eta \u001b[36m0:00:00\u001b[0ma \u001b[36m0:00:01\u001b[0m\n",
      "\u001b[?25hArchive:  /kaggle/working/teta-ml-2-2025.zip\n",
      "  inflating: sample_submition.csv    \n",
      "  inflating: solution.csv            \n",
      "  inflating: test.csv                \n",
      "  inflating: train.csv               \n"
     ]
    }
   ],
   "source": [
    "!pip install -U -q kaggle catppuccin\n",
    "!mkdir -p ~/.kaggle\n",
    "!echo '{\"username\":\"dotyushka666\",\"key\":\"unk\"}' > ~/.kaggle/kaggle.json\n",
    "!chmod 600 ~/.kaggle/kaggle.json\n",
    "\n",
    "!kaggle competitions download -c teta-ml-2-2025\n",
    "!unzip /kaggle/working/teta-ml-2-2025.zip"
   ]
  },
  {
   "cell_type": "code",
   "execution_count": null,
   "metadata": {},
   "outputs": [],
   "source": [
    "import catppuccin\n",
    "import matplotlib as mpl\n",
    "import matplotlib.pyplot as plt\n",
    "\n",
    "import numpy as np\n",
    "import pandas as pd\n",
    "import seaborn as sns\n",
    "\n",
    "from sklearn.base import BaseEstimator, TransformerMixin\n",
    "from sklearn.preprocessing import OneHotEncoder, OrdinalEncoder\n",
    "from sklearn.model_selection import StratifiedKFold\n",
    "\n",
    "from sklearn.metrics import mean_squared_error\n",
    "\n",
    "from catboost import CatBoostRegressor\n",
    "from lightgbm import LGBMRegressor\n",
    "from sklearn.ensemble import RandomForestRegressor\n",
    "from sklearn.linear_model import LinearRegression\n",
    "from xgboost import XGBRegressor\n",
    "\n",
    "import warnings\n",
    "from tqdm import tqdm\n",
    "\n",
    "warnings.filterwarnings(\"ignore\", message=\"use_inf_as_na option is deprecated\")"
   ]
  },
  {
   "cell_type": "code",
   "execution_count": 331,
   "metadata": {},
   "outputs": [],
   "source": [
    "mpl.style.use(catppuccin.PALETTE.macchiato.identifier)"
   ]
  },
  {
   "cell_type": "code",
   "execution_count": 332,
   "metadata": {},
   "outputs": [],
   "source": [
    "RANDOM_STATE = 42"
   ]
  },
  {
   "cell_type": "markdown",
   "metadata": {},
   "source": [
    "# Основная часть\n",
    "## Обучение стекинга"
   ]
  },
  {
   "cell_type": "code",
   "execution_count": 333,
   "metadata": {},
   "outputs": [],
   "source": [
    "df_house_train = pd.read_csv(\"train.csv\")\n",
    "df_house_test = pd.read_csv(\"test.csv\")"
   ]
  },
  {
   "cell_type": "code",
   "execution_count": null,
   "metadata": {},
   "outputs": [],
   "source": [
    "class CategoricalPreprocessor(BaseEstimator, TransformerMixin):\n",
    "    def __init__(self, cat_features=None, encoding_strategy=\"auto\"):\n",
    "        self._mean_values = None\n",
    "        self.cat_features = cat_features\n",
    "        self.encoding_strategy = encoding_strategy\n",
    "        self.encoder = None\n",
    "        self.fitted = False\n",
    "\n",
    "    def fit(self, X: pd.DataFrame, y: pd.DataFrame = None):\n",
    "        if self.cat_features is None:\n",
    "            return self\n",
    "\n",
    "        if isinstance(X, pd.DataFrame):\n",
    "            self.mean_values_ = X.select_dtypes(include=[np.number]).mean()\n",
    "            cat_cols = [col for col in X.columns if X[col].dtype == \"object\"]\n",
    "            if not cat_cols:\n",
    "                return self\n",
    "\n",
    "        if self.encoding_strategy == \"auto\":\n",
    "            unique_counts = X[self.cat_features].nunique()\n",
    "            if (unique_counts <= 10).all():\n",
    "                self.encoder = OneHotEncoder(handle_unknown=\"ignore\", sparse=False)\n",
    "            else:\n",
    "                self.encoder = OrdinalEncoder(\n",
    "                    handle_unknown=\"use_encoded_value\",\n",
    "                    unknown_value=-1,\n",
    "                    encoded_missing_value=-1,\n",
    "                )\n",
    "        elif self.encoding_strategy == \"onehot\":\n",
    "            self.encoder = OneHotEncoder(handle_unknown=\"ignore\", sparse=False)\n",
    "        else:\n",
    "            self.encoder = OrdinalEncoder(\n",
    "                handle_unknown=\"use_encoded_value\",\n",
    "                unknown_value=-1,\n",
    "                encoded_missing_value=-1,\n",
    "            )\n",
    "\n",
    "        self.encoder.fit(X[self.cat_features])\n",
    "        self.fitted = True\n",
    "        return self\n",
    "\n",
    "    def transform(self, X: pd.DataFrame, catboost: bool = False):\n",
    "        if not self.fitted or self.cat_features is None:\n",
    "            return X\n",
    "\n",
    "        X_transformed = X.copy()\n",
    "\n",
    "        for col in X_transformed.select_dtypes(include=[np.number]).columns:\n",
    "            X_transformed[col] = X_transformed[col].fillna(self.mean_values_[col])\n",
    "        for col in X_transformed.select_dtypes(include=[\"object\"]).columns:\n",
    "            X_transformed[col] = X_transformed[col].fillna(\"\")\n",
    "\n",
    "        if catboost:\n",
    "            return X_transformed\n",
    "\n",
    "        encoded = self.encoder.transform(X[self.cat_features])\n",
    "\n",
    "        if isinstance(self.encoder, OneHotEncoder):\n",
    "            new_cols = self.encoder.get_feature_names_out(self.cat_features)\n",
    "            X_transformed = pd.concat(\n",
    "                [\n",
    "                    X_transformed.drop(columns=self.cat_features),\n",
    "                    pd.DataFrame(encoded, columns=new_cols, index=X_transformed.index),\n",
    "                ],\n",
    "                axis=1,\n",
    "            )\n",
    "        else:\n",
    "            for i, col in enumerate(self.cat_features):\n",
    "                X_transformed[col] = encoded[:, i]\n",
    "\n",
    "        return X_transformed"
   ]
  },
  {
   "cell_type": "code",
   "execution_count": null,
   "metadata": {},
   "outputs": [],
   "source": [
    "class UncertaintyEstimator:\n",
    "    @staticmethod\n",
    "    def calculate_aleatoric_uncertainty(y_true, y_pred):\n",
    "        n = len(y_true)\n",
    "        residuals = y_true - y_pred\n",
    "        aleatoric_uncertainty = np.sum(residuals**2) / n\n",
    "\n",
    "        return aleatoric_uncertainty\n",
    "\n",
    "    @staticmethod\n",
    "    def calculate_epistemic_uncertainty(y_pred_ensemble):\n",
    "        mean_prediction = np.mean(y_pred_ensemble, axis=0)\n",
    "        m = y_pred_ensemble.shape[0]\n",
    "\n",
    "        squared_diffs = np.sum((y_pred_ensemble - mean_prediction) ** 2, axis=0)\n",
    "        epistemic_uncertainty = squared_diffs / m\n",
    "\n",
    "        return epistemic_uncertainty\n",
    "\n",
    "    def calculate_uncertainty(\n",
    "        self,\n",
    "        y_true: np.typing.NDArray,\n",
    "        y_pred_ensemble: pd.DataFrame | np.typing.NDArray,\n",
    "    ):\n",
    "        epistemic = np.mean(\n",
    "            self.calculate_epistemic_uncertainty(y_pred_ensemble)\n",
    "        ).round(2)\n",
    "        aleatoric = np.mean(\n",
    "            [\n",
    "                self.calculate_aleatoric_uncertainty(y_true, y_pred)\n",
    "                for y_pred in y_pred_ensemble\n",
    "            ]\n",
    "        ).round(2)\n",
    "        total = epistemic + aleatoric\n",
    "\n",
    "        return pd.DataFrame(\n",
    "            data={\n",
    "                \"uncertaincy\": [\"epistemic\", \"aleatoric\", \"total\"],\n",
    "                \"score\": [epistemic, aleatoric, total],\n",
    "            }\n",
    "        )\n",
    "\n",
    "    def plot_uncertainty(\n",
    "        self, y_true: np.typing.NDArray, y_pred_ensemble: pd.DataFrame\n",
    "    ):\n",
    "        plt.figure(figsize=(12, 6))\n",
    "\n",
    "        for col_y_pred in y_pred_ensemble.columns:\n",
    "            sns.kdeplot(\n",
    "                (y_true - y_pred_ensemble[col_y_pred]).replace(\n",
    "                    [np.inf, -np.inf], np.nan\n",
    "                ),\n",
    "                label=col_y_pred,\n",
    "            )\n",
    "\n",
    "        plt.title(\"Распределение ошибок предсказаний\", fontsize=14, pad=20)\n",
    "        plt.xlabel(\"Разность между истинным и предсказанным значением\", fontsize=12)\n",
    "        plt.ylabel(\"Плотность вероятности\", fontsize=12)\n",
    "\n",
    "        plt.legend(title=\"Модели\", title_fontsize=12, fontsize=10, framealpha=0.9)\n",
    "        plt.grid()\n",
    "        plt.tight_layout()\n",
    "        plt.show()"
   ]
  },
  {
   "cell_type": "code",
   "execution_count": null,
   "metadata": {},
   "outputs": [],
   "source": [
    "class StackingRegressor:\n",
    "    def __init__(\n",
    "        self,\n",
    "        base_models,\n",
    "        meta_model,\n",
    "        n_folds=5,\n",
    "        random_state=42,\n",
    "        cat_features=None,\n",
    "        preprocessing=True,\n",
    "    ):\n",
    "        self.base_models = base_models\n",
    "        self.meta_model = meta_model\n",
    "        self.n_folds = n_folds\n",
    "        self.random_state = random_state\n",
    "        self.cat_features = cat_features\n",
    "        self.preprocessing = preprocessing\n",
    "        self.final_models = {}\n",
    "        self.meta_model_trained = None\n",
    "        self.oof_predictions = None\n",
    "\n",
    "    def _preprocess_data(self, X, y=None, fitting=False, **kwargs):\n",
    "        \"\"\"Обработка категориальных признаков\"\"\"\n",
    "        if not self.preprocessing:\n",
    "            return X\n",
    "\n",
    "        if isinstance(X, np.ndarray):\n",
    "            X = pd.DataFrame(X)\n",
    "\n",
    "        if fitting:\n",
    "            self.preprocessor = CategoricalPreprocessor(\n",
    "                cat_features=self.cat_features, encoding_strategy=\"auto\"\n",
    "            )\n",
    "            self.preprocessor.fit(X)\n",
    "\n",
    "        return self.preprocessor.transform(X, **kwargs)\n",
    "\n",
    "    def _create_stratified_folds(self, y, n_bins=5):\n",
    "        \"\"\"Создает стратифицированные фолды для регрессии\"\"\"\n",
    "        bins = np.linspace(np.min(y), np.max(y), n_bins + 1)\n",
    "        return np.digitize(y, bins)\n",
    "\n",
    "    @staticmethod\n",
    "    def _post_processing_predict(predict):\n",
    "        \"\"\"Пост процессинг для предсказаний модели\"\"\"\n",
    "        return np.round(predict).clip(0, 365)\n",
    "\n",
    "    def fit(self, X, y):\n",
    "        \"\"\"\n",
    "        Обучение стекинг-модели\n",
    "\n",
    "        Параметры:\n",
    "        X: array-like - признаки\n",
    "        y: array-like - целевая переменная\n",
    "        \"\"\"\n",
    "        X = X.reset_index(drop=True)\n",
    "\n",
    "        # Создаем страты для StratifiedKFold\n",
    "        y_binned = self._create_stratified_folds(y)\n",
    "        skf = StratifiedKFold(\n",
    "            n_splits=self.n_folds, shuffle=True, random_state=self.random_state\n",
    "        )\n",
    "\n",
    "        n_samples = X.shape[0]\n",
    "        n_models = len(self.base_models)\n",
    "        self.oof_predictions = np.zeros((n_samples, n_models))\n",
    "\n",
    "        for fold, (train_idx, val_idx) in enumerate(skf.split(X, y_binned)):\n",
    "            X_tr, X_val = X.iloc[train_idx], X.iloc[val_idx]\n",
    "            y_tr = y.iloc[train_idx]\n",
    "\n",
    "            X_tr_preprocesing = self._preprocess_data(X_tr, fitting=True)\n",
    "            X_val_preprocesing = self._preprocess_data(X_val, fitting=False)\n",
    "\n",
    "            for i, (name, model) in tqdm(\n",
    "                enumerate(self.base_models.items()),\n",
    "                desc=f\"Training {fold} fold\",\n",
    "                total=len(self.base_models),\n",
    "            ):\n",
    "                print(f\"Train model: {model}\")\n",
    "\n",
    "                if isinstance(model, CatBoostRegressor):\n",
    "                    model.fit(\n",
    "                        self._preprocess_data(X_tr, fitting=False, catboost=True), y_tr\n",
    "                    )\n",
    "\n",
    "                    self.oof_predictions[val_idx, i] = model.predict(\n",
    "                        self._preprocess_data(X_val, fitting=False, catboost=True)\n",
    "                    )\n",
    "                else:\n",
    "                    model.fit(X_tr_preprocesing, y_tr)\n",
    "\n",
    "                    self.oof_predictions[val_idx, i] = model.predict(X_val_preprocesing)\n",
    "\n",
    "        self.meta_model_trained = self.meta_model\n",
    "        self.meta_model_trained.fit(self.oof_predictions, y)\n",
    "\n",
    "        X_preprocessing = self._preprocess_data(X, fitting=True)\n",
    "\n",
    "        for name, model in tqdm(self.base_models.items(), desc=\"Traning full data\"):\n",
    "            self.final_models[name] = model\n",
    "            if isinstance(self.final_models[name], CatBoostRegressor):\n",
    "                self.final_models[name].fit(\n",
    "                    self._preprocess_data(X, fitting=False, catboost=True), y\n",
    "                )\n",
    "            else:\n",
    "                self.final_models[name].fit(X_preprocessing, y)\n",
    "\n",
    "    def predict(self, X, return_base_predictions=False):\n",
    "        \"\"\"\n",
    "        Предсказание для новых данных\n",
    "\n",
    "        Параметры:\n",
    "        X: array-like - признаки для предсказания\n",
    "        return_base_predictions: bool - возвращать ли предсказания базовых моделей\n",
    "\n",
    "        Возвращает:\n",
    "        final_predictions: array - финальные предсказания\n",
    "        (optional) base_predictions: array - предсказания базовых моделей\n",
    "        \"\"\"\n",
    "        X_preprocessing = self._preprocess_data(X, fitting=False)\n",
    "\n",
    "        base_predictions = np.zeros((X.shape[0], len(self.final_models)))\n",
    "\n",
    "        for i, (name, model) in enumerate(self.final_models.items()):\n",
    "            if isinstance(model, CatBoostRegressor):\n",
    "                base_predictions[:, i] = model.predict(\n",
    "                    self._preprocess_data(X, fitting=False, catboost=True)\n",
    "                )\n",
    "            else:\n",
    "                base_predictions[:, i] = model.predict(X_preprocessing)\n",
    "\n",
    "            base_predictions[:, i] = base_predictions[:, i]\n",
    "\n",
    "        final_predictions = self._post_processing_predict(\n",
    "            self.meta_model_trained.predict(base_predictions)\n",
    "        )\n",
    "\n",
    "        if return_base_predictions:\n",
    "            return final_predictions, base_predictions\n",
    "        return final_predictions\n",
    "\n",
    "    def evaluate_performance(self, X_test, y_test):\n",
    "        \"\"\"\n",
    "        Оценка производительности моделей на тестовом наборе\n",
    "        Возвращает DataFrame с метриками и временем предсказания\n",
    "        \"\"\"\n",
    "        from time import time\n",
    "\n",
    "        if not self.final_models or not self.meta_model_trained:\n",
    "            raise ValueError(\"Сначала выполните fit()\")\n",
    "\n",
    "        final_time = 0\n",
    "        results = {}\n",
    "\n",
    "        # Предсказания базовых моделей\n",
    "        base_preds = np.zeros((X_test.shape[0], len(self.final_models)))\n",
    "\n",
    "        for i, (name, model) in enumerate(self.final_models.items()):\n",
    "            start_time = time()\n",
    "\n",
    "            if isinstance(model, CatBoostRegressor):\n",
    "                preds = model.predict(\n",
    "                    self._preprocess_data(X_test, fitting=False, catboost=True)\n",
    "                )\n",
    "            else:\n",
    "                preds = model.predict(self._preprocess_data(X_test, fitting=False))\n",
    "\n",
    "            pred_time = time() - start_time\n",
    "            final_time += pred_time\n",
    "\n",
    "            preds_preprocess = self._post_processing_predict(preds)\n",
    "            mse = mean_squared_error(y_test, preds_preprocess)\n",
    "            results[name] = {\n",
    "                \"MSE\": mse,\n",
    "                \"prediction_time\": pred_time,\n",
    "                \"predictions\": preds_preprocess,\n",
    "            }\n",
    "            base_preds[:, i] = preds\n",
    "\n",
    "        start_time = time()\n",
    "        final_preds = self.meta_model_trained.predict(base_preds)\n",
    "        final_preds = self._post_processing_predict(final_preds)\n",
    "        pred_time = time() - start_time\n",
    "\n",
    "        results[\"Stacking\"] = {\n",
    "            \"MSE\": mean_squared_error(y_test, final_preds),\n",
    "            \"prediction_time\": pred_time + final_time,\n",
    "            \"predictions\": final_preds,\n",
    "        }\n",
    "\n",
    "        self.performance_metrics = pd.DataFrame.from_dict(results, orient=\"index\")\n",
    "        self.performance_metrics[\"model\"] = self.performance_metrics.index\n",
    "        self.performance_metrics = self.performance_metrics.reset_index(drop=True)\n",
    "\n",
    "        return self.performance_metrics\n",
    "\n",
    "    def plot_performance(self):\n",
    "        \"\"\"Визуализация производительности моделей\"\"\"\n",
    "        if self.performance_metrics is None:\n",
    "            raise ValueError(\"Сначала выполните evaluate_performance()\")\n",
    "\n",
    "        metrics = self.performance_metrics.sort_values(\"MSE\").copy(deep=True)\n",
    "\n",
    "        plt.figure(figsize=(14, 6))\n",
    "\n",
    "        # 1. График MSE\n",
    "        plt.subplot(1, 2, 1)\n",
    "        ax1 = sns.barplot(data=metrics, x=\"MSE\", y=\"model\")\n",
    "\n",
    "        for p in ax1.patches:\n",
    "            ax1.annotate(\n",
    "                f\"{p.get_width():.2f}\",\n",
    "                (p.get_x() + p.get_width(), p.get_y() + p.get_height() / 2),\n",
    "                ha=\"left\",\n",
    "                va=\"center\",\n",
    "                xytext=(5, 0),\n",
    "                textcoords=\"offset points\",\n",
    "            )\n",
    "\n",
    "        ax1.set_xlim(0, metrics[\"MSE\"].max() * 1.25)\n",
    "        ax1.set_title(\"Сравнение MSE моделей\", pad=20)\n",
    "        ax1.set_xlabel(\"Mean Squared Error\")\n",
    "        ax1.set_ylabel(\"Модель\")\n",
    "        ax1.set_xticklabels(ax1.get_xticklabels(), rotation=45, ha=\"right\")\n",
    "        ax1.grid(False)\n",
    "\n",
    "        # 2. График времени предсказания\n",
    "        plt.subplot(1, 2, 2)\n",
    "        ax2 = sns.barplot(data=metrics, x=\"model\", y=\"prediction_time\")\n",
    "\n",
    "        for p in ax2.patches:\n",
    "            ax2.annotate(\n",
    "                f\"{p.get_height():.2f} сек\",\n",
    "                (p.get_x() + p.get_width() / 2.0, p.get_height()),\n",
    "                ha=\"center\",\n",
    "                va=\"center\",\n",
    "                xytext=(0, 10),\n",
    "                textcoords=\"offset points\",\n",
    "            )\n",
    "\n",
    "        ax2.set_ylim(0, metrics[\"prediction_time\"].max() * 1.15)\n",
    "        ax2.set_title(\"Время предсказания моделей\", pad=20)\n",
    "        ax2.set_xlabel(\"Модель\")\n",
    "        ax2.set_ylabel(\"Время (секунды)\")\n",
    "        ax2.set_xticklabels(ax2.get_xticklabels(), rotation=45, ha=\"right\")\n",
    "        ax2.grid(False)\n",
    "\n",
    "        plt.tight_layout()\n",
    "        plt.show()"
   ]
  },
  {
   "cell_type": "markdown",
   "metadata": {},
   "source": [
    "### Подготовка данных\n",
    "\n",
    "Для подготовки данных удаляем признаки, которые не будут использоваться для обучения модели.  \n",
    "Обработка самих признаков будет производиться в пайплайне. В качестве обработки для категориальных признаков будет использоваться OrdinalEncoder для быстроты обучения моделей."
   ]
  },
  {
   "cell_type": "code",
   "execution_count": 337,
   "metadata": {},
   "outputs": [],
   "source": [
    "del_features = [\"name\", \"_id\", \"last_dt\"]\n",
    "\n",
    "cat_features = [\"host_name\", \"location_cluster\", \"location\", \"type_house\"]"
   ]
  },
  {
   "cell_type": "code",
   "execution_count": 340,
   "metadata": {},
   "outputs": [
    {
     "name": "stderr",
     "output_type": "stream",
     "text": [
      "/usr/local/lib/python3.10/dist-packages/pandas/io/formats/format.py:1458: RuntimeWarning: invalid value encountered in greater\n",
      "  has_large_values = (abs_vals > 1e6).any()\n",
      "/usr/local/lib/python3.10/dist-packages/pandas/io/formats/format.py:1459: RuntimeWarning: invalid value encountered in less\n",
      "  has_small_values = ((abs_vals < 10 ** (-self.digits)) & (abs_vals > 0)).any()\n",
      "/usr/local/lib/python3.10/dist-packages/pandas/io/formats/format.py:1459: RuntimeWarning: invalid value encountered in greater\n",
      "  has_small_values = ((abs_vals < 10 ** (-self.digits)) & (abs_vals > 0)).any()\n"
     ]
    },
    {
     "data": {
      "application/vnd.microsoft.datawrangler.viewer.v0+json": {
       "columns": [
        {
         "name": "index",
         "rawType": "int64",
         "type": "integer"
        },
        {
         "name": "host_name",
         "rawType": "object",
         "type": "string"
        },
        {
         "name": "location_cluster",
         "rawType": "object",
         "type": "string"
        },
        {
         "name": "location",
         "rawType": "object",
         "type": "string"
        },
        {
         "name": "lat",
         "rawType": "float64",
         "type": "float"
        },
        {
         "name": "lon",
         "rawType": "float64",
         "type": "float"
        },
        {
         "name": "type_house",
         "rawType": "object",
         "type": "string"
        },
        {
         "name": "sum",
         "rawType": "int64",
         "type": "integer"
        },
        {
         "name": "min_days",
         "rawType": "int64",
         "type": "integer"
        },
        {
         "name": "amt_reviews",
         "rawType": "int64",
         "type": "integer"
        },
        {
         "name": "avg_reviews",
         "rawType": "float64",
         "type": "float"
        },
        {
         "name": "total_host",
         "rawType": "int64",
         "type": "integer"
        },
        {
         "name": "target",
         "rawType": "int64",
         "type": "integer"
        }
       ],
       "conversionMethod": "pd.DataFrame",
       "ref": "6e8243f3-75ff-4224-8911-9711afc32d5c",
       "rows": [
        [
         "0",
         "Sarina",
         "Queens",
         "Neponsit",
         "40.57215",
         "-73.85822",
         "Entire home/apt",
         "350",
         "2",
         "5",
         "2.88",
         "1",
         "334"
        ],
        [
         "1",
         "Howard T.",
         "Brooklyn",
         "Clinton Hill",
         "40.69172",
         "-73.96934",
         "Shared room",
         "40",
         "5",
         "8",
         "0.13",
         "1",
         "0"
        ],
        [
         "2",
         "Julie",
         "Manhattan",
         "Upper West Side",
         "40.77673",
         "-73.98011",
         "Entire home/apt",
         "200",
         "5",
         "0",
         null,
         "1",
         "0"
        ],
        [
         "3",
         "Federico",
         "Manhattan",
         "Harlem",
         "40.8153",
         "-73.9508",
         "Private room",
         "65",
         "2",
         "18",
         "0.64",
         "1",
         "0"
        ],
        [
         "4",
         "Lisa",
         "Brooklyn",
         "Bushwick",
         "40.7023",
         "-73.92935",
         "Private room",
         "99",
         "2",
         "26",
         "0.76",
         "1",
         "155"
        ]
       ],
       "shape": {
        "columns": 12,
        "rows": 5
       }
      },
      "text/html": [
       "<div>\n",
       "<style scoped>\n",
       "    .dataframe tbody tr th:only-of-type {\n",
       "        vertical-align: middle;\n",
       "    }\n",
       "\n",
       "    .dataframe tbody tr th {\n",
       "        vertical-align: top;\n",
       "    }\n",
       "\n",
       "    .dataframe thead th {\n",
       "        text-align: right;\n",
       "    }\n",
       "</style>\n",
       "<table border=\"1\" class=\"dataframe\">\n",
       "  <thead>\n",
       "    <tr style=\"text-align: right;\">\n",
       "      <th></th>\n",
       "      <th>host_name</th>\n",
       "      <th>location_cluster</th>\n",
       "      <th>location</th>\n",
       "      <th>lat</th>\n",
       "      <th>lon</th>\n",
       "      <th>type_house</th>\n",
       "      <th>sum</th>\n",
       "      <th>min_days</th>\n",
       "      <th>amt_reviews</th>\n",
       "      <th>avg_reviews</th>\n",
       "      <th>total_host</th>\n",
       "      <th>target</th>\n",
       "    </tr>\n",
       "  </thead>\n",
       "  <tbody>\n",
       "    <tr>\n",
       "      <th>0</th>\n",
       "      <td>Sarina</td>\n",
       "      <td>Queens</td>\n",
       "      <td>Neponsit</td>\n",
       "      <td>40.57215</td>\n",
       "      <td>-73.85822</td>\n",
       "      <td>Entire home/apt</td>\n",
       "      <td>350</td>\n",
       "      <td>2</td>\n",
       "      <td>5</td>\n",
       "      <td>2.88</td>\n",
       "      <td>1</td>\n",
       "      <td>334</td>\n",
       "    </tr>\n",
       "    <tr>\n",
       "      <th>1</th>\n",
       "      <td>Howard T.</td>\n",
       "      <td>Brooklyn</td>\n",
       "      <td>Clinton Hill</td>\n",
       "      <td>40.69172</td>\n",
       "      <td>-73.96934</td>\n",
       "      <td>Shared room</td>\n",
       "      <td>40</td>\n",
       "      <td>5</td>\n",
       "      <td>8</td>\n",
       "      <td>0.13</td>\n",
       "      <td>1</td>\n",
       "      <td>0</td>\n",
       "    </tr>\n",
       "    <tr>\n",
       "      <th>2</th>\n",
       "      <td>Julie</td>\n",
       "      <td>Manhattan</td>\n",
       "      <td>Upper West Side</td>\n",
       "      <td>40.77673</td>\n",
       "      <td>-73.98011</td>\n",
       "      <td>Entire home/apt</td>\n",
       "      <td>200</td>\n",
       "      <td>5</td>\n",
       "      <td>0</td>\n",
       "      <td>NaN</td>\n",
       "      <td>1</td>\n",
       "      <td>0</td>\n",
       "    </tr>\n",
       "    <tr>\n",
       "      <th>3</th>\n",
       "      <td>Federico</td>\n",
       "      <td>Manhattan</td>\n",
       "      <td>Harlem</td>\n",
       "      <td>40.81530</td>\n",
       "      <td>-73.95080</td>\n",
       "      <td>Private room</td>\n",
       "      <td>65</td>\n",
       "      <td>2</td>\n",
       "      <td>18</td>\n",
       "      <td>0.64</td>\n",
       "      <td>1</td>\n",
       "      <td>0</td>\n",
       "    </tr>\n",
       "    <tr>\n",
       "      <th>4</th>\n",
       "      <td>Lisa</td>\n",
       "      <td>Brooklyn</td>\n",
       "      <td>Bushwick</td>\n",
       "      <td>40.70230</td>\n",
       "      <td>-73.92935</td>\n",
       "      <td>Private room</td>\n",
       "      <td>99</td>\n",
       "      <td>2</td>\n",
       "      <td>26</td>\n",
       "      <td>0.76</td>\n",
       "      <td>1</td>\n",
       "      <td>155</td>\n",
       "    </tr>\n",
       "  </tbody>\n",
       "</table>\n",
       "</div>"
      ],
      "text/plain": [
       "   host_name location_cluster         location       lat       lon  \\\n",
       "0     Sarina           Queens         Neponsit  40.57215 -73.85822   \n",
       "1  Howard T.         Brooklyn     Clinton Hill  40.69172 -73.96934   \n",
       "2      Julie        Manhattan  Upper West Side  40.77673 -73.98011   \n",
       "3   Federico        Manhattan           Harlem  40.81530 -73.95080   \n",
       "4       Lisa         Brooklyn         Bushwick  40.70230 -73.92935   \n",
       "\n",
       "        type_house  sum  min_days  amt_reviews  avg_reviews  total_host  \\\n",
       "0  Entire home/apt  350         2            5         2.88           1   \n",
       "1      Shared room   40         5            8         0.13           1   \n",
       "2  Entire home/apt  200         5            0          NaN           1   \n",
       "3     Private room   65         2           18         0.64           1   \n",
       "4     Private room   99         2           26         0.76           1   \n",
       "\n",
       "   target  \n",
       "0     334  \n",
       "1       0  \n",
       "2       0  \n",
       "3       0  \n",
       "4     155  "
      ]
     },
     "execution_count": 340,
     "metadata": {},
     "output_type": "execute_result"
    }
   ],
   "source": [
    "df_house_train_clear = df_house_train.drop(columns=del_features)\n",
    "\n",
    "df_house_train_clear.head()"
   ]
  },
  {
   "cell_type": "code",
   "execution_count": 342,
   "metadata": {},
   "outputs": [
    {
     "name": "stderr",
     "output_type": "stream",
     "text": [
      "/usr/local/lib/python3.10/dist-packages/pandas/io/formats/format.py:1458: RuntimeWarning: invalid value encountered in greater\n",
      "  has_large_values = (abs_vals > 1e6).any()\n",
      "/usr/local/lib/python3.10/dist-packages/pandas/io/formats/format.py:1459: RuntimeWarning: invalid value encountered in less\n",
      "  has_small_values = ((abs_vals < 10 ** (-self.digits)) & (abs_vals > 0)).any()\n",
      "/usr/local/lib/python3.10/dist-packages/pandas/io/formats/format.py:1459: RuntimeWarning: invalid value encountered in greater\n",
      "  has_small_values = ((abs_vals < 10 ** (-self.digits)) & (abs_vals > 0)).any()\n"
     ]
    },
    {
     "data": {
      "application/vnd.microsoft.datawrangler.viewer.v0+json": {
       "columns": [
        {
         "name": "index",
         "rawType": "int64",
         "type": "integer"
        },
        {
         "name": "host_name",
         "rawType": "object",
         "type": "string"
        },
        {
         "name": "location_cluster",
         "rawType": "object",
         "type": "string"
        },
        {
         "name": "location",
         "rawType": "object",
         "type": "string"
        },
        {
         "name": "lat",
         "rawType": "float64",
         "type": "float"
        },
        {
         "name": "lon",
         "rawType": "float64",
         "type": "float"
        },
        {
         "name": "type_house",
         "rawType": "object",
         "type": "string"
        },
        {
         "name": "sum",
         "rawType": "int64",
         "type": "integer"
        },
        {
         "name": "min_days",
         "rawType": "int64",
         "type": "integer"
        },
        {
         "name": "amt_reviews",
         "rawType": "int64",
         "type": "integer"
        },
        {
         "name": "avg_reviews",
         "rawType": "float64",
         "type": "float"
        },
        {
         "name": "total_host",
         "rawType": "int64",
         "type": "integer"
        }
       ],
       "conversionMethod": "pd.DataFrame",
       "ref": "6083e8f4-2b8a-4baa-92c2-0321b45ee28a",
       "rows": [
        [
         "0",
         "Lou",
         "Brooklyn",
         "Sunset Park",
         "40.66468",
         "-73.99785",
         "Entire home/apt",
         "399",
         "1",
         "0",
         null,
         "5"
        ],
        [
         "1",
         "Nelly",
         "Brooklyn",
         "Bedford-Stuyvesant",
         "40.6788",
         "-73.92722",
         "Private room",
         "43",
         "1",
         "4",
         "2.0",
         "3"
        ],
        [
         "2",
         "Kara",
         "Manhattan",
         "Hell's Kitchen",
         "40.7617",
         "-73.99762",
         "Entire home/apt",
         "275",
         "30",
         "2",
         "0.08",
         "121"
        ],
        [
         "3",
         "Jonathan",
         "Brooklyn",
         "Williamsburg",
         "40.70748",
         "-73.92835",
         "Private room",
         "40",
         "3",
         "0",
         null,
         "2"
        ],
        [
         "4",
         "Celeste",
         "Brooklyn",
         "Crown Heights",
         "40.67249",
         "-73.95564",
         "Private room",
         "55",
         "4",
         "1",
         "0.14",
         "1"
        ]
       ],
       "shape": {
        "columns": 11,
        "rows": 5
       }
      },
      "text/html": [
       "<div>\n",
       "<style scoped>\n",
       "    .dataframe tbody tr th:only-of-type {\n",
       "        vertical-align: middle;\n",
       "    }\n",
       "\n",
       "    .dataframe tbody tr th {\n",
       "        vertical-align: top;\n",
       "    }\n",
       "\n",
       "    .dataframe thead th {\n",
       "        text-align: right;\n",
       "    }\n",
       "</style>\n",
       "<table border=\"1\" class=\"dataframe\">\n",
       "  <thead>\n",
       "    <tr style=\"text-align: right;\">\n",
       "      <th></th>\n",
       "      <th>host_name</th>\n",
       "      <th>location_cluster</th>\n",
       "      <th>location</th>\n",
       "      <th>lat</th>\n",
       "      <th>lon</th>\n",
       "      <th>type_house</th>\n",
       "      <th>sum</th>\n",
       "      <th>min_days</th>\n",
       "      <th>amt_reviews</th>\n",
       "      <th>avg_reviews</th>\n",
       "      <th>total_host</th>\n",
       "    </tr>\n",
       "  </thead>\n",
       "  <tbody>\n",
       "    <tr>\n",
       "      <th>0</th>\n",
       "      <td>Lou</td>\n",
       "      <td>Brooklyn</td>\n",
       "      <td>Sunset Park</td>\n",
       "      <td>40.66468</td>\n",
       "      <td>-73.99785</td>\n",
       "      <td>Entire home/apt</td>\n",
       "      <td>399</td>\n",
       "      <td>1</td>\n",
       "      <td>0</td>\n",
       "      <td>NaN</td>\n",
       "      <td>5</td>\n",
       "    </tr>\n",
       "    <tr>\n",
       "      <th>1</th>\n",
       "      <td>Nelly</td>\n",
       "      <td>Brooklyn</td>\n",
       "      <td>Bedford-Stuyvesant</td>\n",
       "      <td>40.67880</td>\n",
       "      <td>-73.92722</td>\n",
       "      <td>Private room</td>\n",
       "      <td>43</td>\n",
       "      <td>1</td>\n",
       "      <td>4</td>\n",
       "      <td>2.00</td>\n",
       "      <td>3</td>\n",
       "    </tr>\n",
       "    <tr>\n",
       "      <th>2</th>\n",
       "      <td>Kara</td>\n",
       "      <td>Manhattan</td>\n",
       "      <td>Hell's Kitchen</td>\n",
       "      <td>40.76170</td>\n",
       "      <td>-73.99762</td>\n",
       "      <td>Entire home/apt</td>\n",
       "      <td>275</td>\n",
       "      <td>30</td>\n",
       "      <td>2</td>\n",
       "      <td>0.08</td>\n",
       "      <td>121</td>\n",
       "    </tr>\n",
       "    <tr>\n",
       "      <th>3</th>\n",
       "      <td>Jonathan</td>\n",
       "      <td>Brooklyn</td>\n",
       "      <td>Williamsburg</td>\n",
       "      <td>40.70748</td>\n",
       "      <td>-73.92835</td>\n",
       "      <td>Private room</td>\n",
       "      <td>40</td>\n",
       "      <td>3</td>\n",
       "      <td>0</td>\n",
       "      <td>NaN</td>\n",
       "      <td>2</td>\n",
       "    </tr>\n",
       "    <tr>\n",
       "      <th>4</th>\n",
       "      <td>Celeste</td>\n",
       "      <td>Brooklyn</td>\n",
       "      <td>Crown Heights</td>\n",
       "      <td>40.67249</td>\n",
       "      <td>-73.95564</td>\n",
       "      <td>Private room</td>\n",
       "      <td>55</td>\n",
       "      <td>4</td>\n",
       "      <td>1</td>\n",
       "      <td>0.14</td>\n",
       "      <td>1</td>\n",
       "    </tr>\n",
       "  </tbody>\n",
       "</table>\n",
       "</div>"
      ],
      "text/plain": [
       "  host_name location_cluster            location       lat       lon  \\\n",
       "0       Lou         Brooklyn         Sunset Park  40.66468 -73.99785   \n",
       "1     Nelly         Brooklyn  Bedford-Stuyvesant  40.67880 -73.92722   \n",
       "2      Kara        Manhattan      Hell's Kitchen  40.76170 -73.99762   \n",
       "3  Jonathan         Brooklyn        Williamsburg  40.70748 -73.92835   \n",
       "4   Celeste         Brooklyn       Crown Heights  40.67249 -73.95564   \n",
       "\n",
       "        type_house  sum  min_days  amt_reviews  avg_reviews  total_host  \n",
       "0  Entire home/apt  399         1            0          NaN           5  \n",
       "1     Private room   43         1            4         2.00           3  \n",
       "2  Entire home/apt  275        30            2         0.08         121  \n",
       "3     Private room   40         3            0          NaN           2  \n",
       "4     Private room   55         4            1         0.14           1  "
      ]
     },
     "execution_count": 342,
     "metadata": {},
     "output_type": "execute_result"
    }
   ],
   "source": [
    "df_house_test_clear = df_house_test.drop(columns=del_features)\n",
    "y_true = pd.read_csv(\"solution.csv\")[\"prediction\"]\n",
    "\n",
    "df_house_test_clear.head()"
   ]
  },
  {
   "cell_type": "markdown",
   "metadata": {},
   "source": [
    "### Обучение\n",
    "\n",
    "Ниже взяты базовые модели для обучения стекинга. В качестве мета-модели взята линейная регрессия.  \n",
    "\n",
    "- *OOF* предсказания сохраняются в объекте класса для дальнейшего анализа.\n",
    "- Предсказания *OOF* не обрабатываются после предсказания.\n",
    "- Предсказания базовых моделей, когда обучаются на всем датасете, обрабатываются как и для мета-модели.\n",
    "- *Пост-обработка* заключается в округлении до целого числа и обрезка от 0 до 365."
   ]
  },
  {
   "cell_type": "code",
   "execution_count": null,
   "metadata": {},
   "outputs": [],
   "source": [
    "base_models = {\n",
    "    \"RandomForest\": RandomForestRegressor(random_state=RANDOM_STATE),\n",
    "    \"XGBoost\": XGBRegressor(random_state=RANDOM_STATE, enable_categorical=False),\n",
    "    \"LightGBM\": LGBMRegressor(random_state=RANDOM_STATE),\n",
    "    \"LinearRegression\": LinearRegression(positive=True),\n",
    "    \"CatBoost\": CatBoostRegressor(\n",
    "        random_state=RANDOM_STATE,\n",
    "        verbose=0,\n",
    "        cat_features=cat_features,\n",
    "        loss_function=\"RMSE\",\n",
    "    ),\n",
    "}\n",
    "\n",
    "meta_model = LinearRegression()"
   ]
  },
  {
   "cell_type": "code",
   "execution_count": null,
   "metadata": {},
   "outputs": [],
   "source": [
    "stacker = StackingRegressor(\n",
    "    base_models=base_models,\n",
    "    meta_model=meta_model,\n",
    "    cat_features=cat_features,\n",
    "    preprocessing=True,\n",
    "    random_state=RANDOM_STATE,\n",
    ")"
   ]
  },
  {
   "cell_type": "code",
   "execution_count": 341,
   "metadata": {},
   "outputs": [
    {
     "name": "stderr",
     "output_type": "stream",
     "text": [
      "Training 0 fold:   0%|          | 0/5 [00:00<?, ?it/s]"
     ]
    },
    {
     "name": "stdout",
     "output_type": "stream",
     "text": [
      "Train model: RandomForestRegressor(random_state=42)\n"
     ]
    },
    {
     "name": "stderr",
     "output_type": "stream",
     "text": [
      "Training 0 fold:  20%|██        | 1/5 [00:23<01:33, 23.26s/it]"
     ]
    },
    {
     "name": "stdout",
     "output_type": "stream",
     "text": [
      "Train model: XGBRegressor(base_score=None, booster=None, callbacks=None,\n",
      "             colsample_bylevel=None, colsample_bynode=None,\n",
      "             colsample_bytree=None, device=None, early_stopping_rounds=None,\n",
      "             enable_categorical=False, eval_metric=None, feature_types=None,\n",
      "             gamma=None, grow_policy=None, importance_type=None,\n",
      "             interaction_constraints=None, learning_rate=None, max_bin=None,\n",
      "             max_cat_threshold=None, max_cat_to_onehot=None,\n",
      "             max_delta_step=None, max_depth=None, max_leaves=None,\n",
      "             min_child_weight=None, missing=nan, monotone_constraints=None,\n",
      "             multi_strategy=None, n_estimators=None, n_jobs=None,\n",
      "             num_parallel_tree=None, random_state=42, ...)\n"
     ]
    },
    {
     "name": "stderr",
     "output_type": "stream",
     "text": [
      "Training 0 fold:  40%|████      | 2/5 [00:23<00:29,  9.76s/it]"
     ]
    },
    {
     "name": "stdout",
     "output_type": "stream",
     "text": [
      "Train model: LGBMRegressor(random_state=42)\n",
      "[LightGBM] [Info] Auto-choosing col-wise multi-threading, the overhead of testing was 0.001924 seconds.\n",
      "You can set `force_col_wise=true` to remove the overhead.\n",
      "[LightGBM] [Info] Total Bins 1846\n",
      "[LightGBM] [Info] Number of data points in the train set: 29336, number of used features: 11\n",
      "[LightGBM] [Info] Start training from score 112.814017\n"
     ]
    },
    {
     "name": "stderr",
     "output_type": "stream",
     "text": [
      "Training 0 fold:  60%|██████    | 3/5 [00:23<00:10,  5.44s/it]"
     ]
    },
    {
     "name": "stdout",
     "output_type": "stream",
     "text": [
      "Train model: LinearRegression(positive=True)\n",
      "Train model: <catboost.core.CatBoostRegressor object at 0x7fda83428d00>\n"
     ]
    },
    {
     "name": "stderr",
     "output_type": "stream",
     "text": [
      "Training 0 fold: 100%|██████████| 5/5 [00:40<00:00,  8.20s/it]\n",
      "Training 1 fold:   0%|          | 0/5 [00:00<?, ?it/s]"
     ]
    },
    {
     "name": "stdout",
     "output_type": "stream",
     "text": [
      "Train model: RandomForestRegressor(random_state=42)\n"
     ]
    },
    {
     "name": "stderr",
     "output_type": "stream",
     "text": [
      "Training 1 fold:  20%|██        | 1/5 [00:22<01:31, 22.98s/it]"
     ]
    },
    {
     "name": "stdout",
     "output_type": "stream",
     "text": [
      "Train model: XGBRegressor(base_score=None, booster=None, callbacks=None,\n",
      "             colsample_bylevel=None, colsample_bynode=None,\n",
      "             colsample_bytree=None, device=None, early_stopping_rounds=None,\n",
      "             enable_categorical=False, eval_metric=None, feature_types=None,\n",
      "             gamma=None, grow_policy=None, importance_type=None,\n",
      "             interaction_constraints=None, learning_rate=None, max_bin=None,\n",
      "             max_cat_threshold=None, max_cat_to_onehot=None,\n",
      "             max_delta_step=None, max_depth=None, max_leaves=None,\n",
      "             min_child_weight=None, missing=nan, monotone_constraints=None,\n",
      "             multi_strategy=None, n_estimators=None, n_jobs=None,\n",
      "             num_parallel_tree=None, random_state=42, ...)\n"
     ]
    },
    {
     "name": "stderr",
     "output_type": "stream",
     "text": [
      "Training 1 fold:  40%|████      | 2/5 [00:23<00:28,  9.63s/it]"
     ]
    },
    {
     "name": "stdout",
     "output_type": "stream",
     "text": [
      "Train model: LGBMRegressor(random_state=42)\n",
      "[LightGBM] [Info] Auto-choosing row-wise multi-threading, the overhead of testing was 0.000577 seconds.\n",
      "You can set `force_row_wise=true` to remove the overhead.\n",
      "And if memory is not enough, you can set `force_col_wise=true`.\n",
      "[LightGBM] [Info] Total Bins 1845\n",
      "[LightGBM] [Info] Number of data points in the train set: 29337, number of used features: 11\n",
      "[LightGBM] [Info] Start training from score 112.795821\n"
     ]
    },
    {
     "name": "stderr",
     "output_type": "stream",
     "text": [
      "Training 1 fold:  60%|██████    | 3/5 [00:23<00:10,  5.35s/it]"
     ]
    },
    {
     "name": "stdout",
     "output_type": "stream",
     "text": [
      "Train model: LinearRegression(positive=True)\n",
      "Train model: <catboost.core.CatBoostRegressor object at 0x7fda83428d00>\n"
     ]
    },
    {
     "name": "stderr",
     "output_type": "stream",
     "text": [
      "Training 1 fold: 100%|██████████| 5/5 [00:40<00:00,  8.15s/it]\n",
      "Training 2 fold:   0%|          | 0/5 [00:00<?, ?it/s]"
     ]
    },
    {
     "name": "stdout",
     "output_type": "stream",
     "text": [
      "Train model: RandomForestRegressor(random_state=42)\n"
     ]
    },
    {
     "name": "stderr",
     "output_type": "stream",
     "text": [
      "Training 2 fold:  20%|██        | 1/5 [00:22<01:31, 22.87s/it]"
     ]
    },
    {
     "name": "stdout",
     "output_type": "stream",
     "text": [
      "Train model: XGBRegressor(base_score=None, booster=None, callbacks=None,\n",
      "             colsample_bylevel=None, colsample_bynode=None,\n",
      "             colsample_bytree=None, device=None, early_stopping_rounds=None,\n",
      "             enable_categorical=False, eval_metric=None, feature_types=None,\n",
      "             gamma=None, grow_policy=None, importance_type=None,\n",
      "             interaction_constraints=None, learning_rate=None, max_bin=None,\n",
      "             max_cat_threshold=None, max_cat_to_onehot=None,\n",
      "             max_delta_step=None, max_depth=None, max_leaves=None,\n",
      "             min_child_weight=None, missing=nan, monotone_constraints=None,\n",
      "             multi_strategy=None, n_estimators=None, n_jobs=None,\n",
      "             num_parallel_tree=None, random_state=42, ...)\n"
     ]
    },
    {
     "name": "stderr",
     "output_type": "stream",
     "text": [
      "Training 2 fold:  40%|████      | 2/5 [00:23<00:29,  9.83s/it]"
     ]
    },
    {
     "name": "stdout",
     "output_type": "stream",
     "text": [
      "Train model: LGBMRegressor(random_state=42)\n",
      "[LightGBM] [Info] Auto-choosing row-wise multi-threading, the overhead of testing was 0.000572 seconds.\n",
      "You can set `force_row_wise=true` to remove the overhead.\n",
      "And if memory is not enough, you can set `force_col_wise=true`.\n",
      "[LightGBM] [Info] Total Bins 1845\n",
      "[LightGBM] [Info] Number of data points in the train set: 29337, number of used features: 11\n",
      "[LightGBM] [Info] Start training from score 112.819545\n"
     ]
    },
    {
     "name": "stderr",
     "output_type": "stream",
     "text": [
      "Training 2 fold:  60%|██████    | 3/5 [00:23<00:10,  5.47s/it]"
     ]
    },
    {
     "name": "stdout",
     "output_type": "stream",
     "text": [
      "Train model: LinearRegression(positive=True)\n",
      "Train model: <catboost.core.CatBoostRegressor object at 0x7fda83428d00>\n"
     ]
    },
    {
     "name": "stderr",
     "output_type": "stream",
     "text": [
      "Training 2 fold: 100%|██████████| 5/5 [00:40<00:00,  8.07s/it]\n",
      "Training 3 fold:   0%|          | 0/5 [00:00<?, ?it/s]"
     ]
    },
    {
     "name": "stdout",
     "output_type": "stream",
     "text": [
      "Train model: RandomForestRegressor(random_state=42)\n"
     ]
    },
    {
     "name": "stderr",
     "output_type": "stream",
     "text": [
      "Training 3 fold:  20%|██        | 1/5 [00:22<01:31, 22.91s/it]"
     ]
    },
    {
     "name": "stdout",
     "output_type": "stream",
     "text": [
      "Train model: XGBRegressor(base_score=None, booster=None, callbacks=None,\n",
      "             colsample_bylevel=None, colsample_bynode=None,\n",
      "             colsample_bytree=None, device=None, early_stopping_rounds=None,\n",
      "             enable_categorical=False, eval_metric=None, feature_types=None,\n",
      "             gamma=None, grow_policy=None, importance_type=None,\n",
      "             interaction_constraints=None, learning_rate=None, max_bin=None,\n",
      "             max_cat_threshold=None, max_cat_to_onehot=None,\n",
      "             max_delta_step=None, max_depth=None, max_leaves=None,\n",
      "             min_child_weight=None, missing=nan, monotone_constraints=None,\n",
      "             multi_strategy=None, n_estimators=None, n_jobs=None,\n",
      "             num_parallel_tree=None, random_state=42, ...)\n"
     ]
    },
    {
     "name": "stderr",
     "output_type": "stream",
     "text": [
      "Training 3 fold:  40%|████      | 2/5 [00:23<00:28,  9.60s/it]"
     ]
    },
    {
     "name": "stdout",
     "output_type": "stream",
     "text": [
      "Train model: LGBMRegressor(random_state=42)\n",
      "[LightGBM] [Info] Auto-choosing col-wise multi-threading, the overhead of testing was 0.002009 seconds.\n",
      "You can set `force_col_wise=true` to remove the overhead.\n",
      "[LightGBM] [Info] Total Bins 1848\n",
      "[LightGBM] [Info] Number of data points in the train set: 29337, number of used features: 11\n",
      "[LightGBM] [Info] Start training from score 112.669087\n"
     ]
    },
    {
     "name": "stderr",
     "output_type": "stream",
     "text": [
      "Training 3 fold:  60%|██████    | 3/5 [00:23<00:10,  5.34s/it]"
     ]
    },
    {
     "name": "stdout",
     "output_type": "stream",
     "text": [
      "Train model: LinearRegression(positive=True)\n",
      "Train model: <catboost.core.CatBoostRegressor object at 0x7fda83428d00>\n"
     ]
    },
    {
     "name": "stderr",
     "output_type": "stream",
     "text": [
      "Training 3 fold: 100%|██████████| 5/5 [00:40<00:00,  8.01s/it]\n",
      "Training 4 fold:   0%|          | 0/5 [00:00<?, ?it/s]"
     ]
    },
    {
     "name": "stdout",
     "output_type": "stream",
     "text": [
      "Train model: RandomForestRegressor(random_state=42)\n"
     ]
    },
    {
     "name": "stderr",
     "output_type": "stream",
     "text": [
      "Training 4 fold:  20%|██        | 1/5 [00:22<01:31, 22.81s/it]"
     ]
    },
    {
     "name": "stdout",
     "output_type": "stream",
     "text": [
      "Train model: XGBRegressor(base_score=None, booster=None, callbacks=None,\n",
      "             colsample_bylevel=None, colsample_bynode=None,\n",
      "             colsample_bytree=None, device=None, early_stopping_rounds=None,\n",
      "             enable_categorical=False, eval_metric=None, feature_types=None,\n",
      "             gamma=None, grow_policy=None, importance_type=None,\n",
      "             interaction_constraints=None, learning_rate=None, max_bin=None,\n",
      "             max_cat_threshold=None, max_cat_to_onehot=None,\n",
      "             max_delta_step=None, max_depth=None, max_leaves=None,\n",
      "             min_child_weight=None, missing=nan, monotone_constraints=None,\n",
      "             multi_strategy=None, n_estimators=None, n_jobs=None,\n",
      "             num_parallel_tree=None, random_state=42, ...)\n"
     ]
    },
    {
     "name": "stderr",
     "output_type": "stream",
     "text": [
      "Training 4 fold:  40%|████      | 2/5 [00:23<00:28,  9.56s/it]"
     ]
    },
    {
     "name": "stdout",
     "output_type": "stream",
     "text": [
      "Train model: LGBMRegressor(random_state=42)\n",
      "[LightGBM] [Info] Auto-choosing col-wise multi-threading, the overhead of testing was 0.001987 seconds.\n",
      "You can set `force_col_wise=true` to remove the overhead.\n",
      "[LightGBM] [Info] Total Bins 1837\n",
      "[LightGBM] [Info] Number of data points in the train set: 29337, number of used features: 11\n",
      "[LightGBM] [Info] Start training from score 112.734670\n"
     ]
    },
    {
     "name": "stderr",
     "output_type": "stream",
     "text": [
      "Training 4 fold:  60%|██████    | 3/5 [00:23<00:10,  5.32s/it]"
     ]
    },
    {
     "name": "stdout",
     "output_type": "stream",
     "text": [
      "Train model: LinearRegression(positive=True)\n",
      "Train model: <catboost.core.CatBoostRegressor object at 0x7fda83428d00>\n"
     ]
    },
    {
     "name": "stderr",
     "output_type": "stream",
     "text": [
      "Training 4 fold: 100%|██████████| 5/5 [00:40<00:00,  8.10s/it]\n",
      "Traning full data:  40%|████      | 2/5 [00:29<00:37, 12.49s/it]"
     ]
    },
    {
     "name": "stdout",
     "output_type": "stream",
     "text": [
      "[LightGBM] [Info] Auto-choosing col-wise multi-threading, the overhead of testing was 0.003768 seconds.\n",
      "You can set `force_col_wise=true` to remove the overhead.\n",
      "[LightGBM] [Info] Total Bins 1855\n",
      "[LightGBM] [Info] Number of data points in the train set: 36671, number of used features: 11\n",
      "[LightGBM] [Info] Start training from score 112.766628\n"
     ]
    },
    {
     "name": "stderr",
     "output_type": "stream",
     "text": [
      "Traning full data: 100%|██████████| 5/5 [00:50<00:00, 10.01s/it]\n"
     ]
    }
   ],
   "source": [
    "stacker.fit(df_house_train_clear.drop(columns=\"target\"), df_house_train_clear[\"target\"])"
   ]
  },
  {
   "cell_type": "code",
   "execution_count": 343,
   "metadata": {},
   "outputs": [],
   "source": [
    "results_performance_models = stacker.evaluate_performance(df_house_test_clear, y_true)"
   ]
  },
  {
   "cell_type": "code",
   "execution_count": 344,
   "metadata": {},
   "outputs": [
    {
     "name": "stderr",
     "output_type": "stream",
     "text": [
      "<ipython-input-336-33273e467038>:198: UserWarning: FixedFormatter should only be used together with FixedLocator\n",
      "  ax1.set_xticklabels(ax1.get_xticklabels(), rotation=45, ha='right')\n"
     ]
    },
    {
     "data": {
      "image/png": "[encoded data removed]",
      "text/plain": [
       "<Figure size 1400x600 with 2 Axes>"
      ]
     },
     "metadata": {},
     "output_type": "display_data"
    }
   ],
   "source": [
    "stacker.plot_performance()"
   ]
  },
  {
   "cell_type": "markdown",
   "metadata": {},
   "source": [
    "### **Выводы**:\n",
    "- Обучение стекинга дает прирост по метрике на тестовой выборке. (*MSE* уменьшилось приблизительно на 100 пунктов от лучшей базовой модели).\n",
    "- Лучше всех по *MSE* на тестовой выборке это *CatBoost*. Остальные ансамбли (*Random Forest*, *LightGBM*, *XGBoost*) выдают результаты значительно хуже чем *CatBoost*.\n",
    "- Дольше всех предсказывает *Random Forest* из базовых моделей.\n",
    "- Стекинг работает медленнее всех из-за последовательного выполнения, при этом основное \"бутылочное горлышко\" связано именно с *Random Forest*. Ускорить можно при параллелизации предсказаний."
   ]
  },
  {
   "cell_type": "markdown",
   "metadata": {},
   "source": [
    "## Оценка неопределенности"
   ]
  },
  {
   "cell_type": "code",
   "execution_count": 345,
   "metadata": {},
   "outputs": [],
   "source": [
    "uncertainty_est = UncertaintyEstimator()"
   ]
  },
  {
   "cell_type": "markdown",
   "metadata": {},
   "source": [
    "### Оценка неопределенности базовых моделей на OOF предсказаниях\n",
    "\n",
    "Оценим неопределенность базовых моделей на сохраненных предсказаниях для обучения мета-модели (OOF)."
   ]
  },
  {
   "cell_type": "code",
   "execution_count": 346,
   "metadata": {},
   "outputs": [
    {
     "data": {
      "application/vnd.microsoft.datawrangler.viewer.v0+json": {
       "columns": [
        {
         "name": "index",
         "rawType": "int64",
         "type": "integer"
        },
        {
         "name": "RandomForest",
         "rawType": "float64",
         "type": "float"
        },
        {
         "name": "XGBoost",
         "rawType": "float64",
         "type": "float"
        },
        {
         "name": "LightGBM",
         "rawType": "float64",
         "type": "float"
        },
        {
         "name": "LinearRegression",
         "rawType": "float64",
         "type": "float"
        },
        {
         "name": "CatBoost",
         "rawType": "float64",
         "type": "float"
        }
       ],
       "conversionMethod": "pd.DataFrame",
       "ref": "ae01bde1-4484-4c18-b4d6-2c5a0f207897",
       "rows": [
        [
         "0",
         "195.26",
         "269.0144348144531",
         "235.56976312448361",
         "149.95760293838975",
         "225.20147272585376"
        ],
        [
         "1",
         "115.08",
         "2.215860605239868",
         "20.486193201064914",
         "91.67569434949473",
         "101.10188683802039"
        ],
        [
         "2",
         "13.78",
         "23.77808380126953",
         "25.50736642367579",
         "85.60042244530632",
         "23.19097458834429"
        ],
        [
         "3",
         "94.5",
         "47.91468811035156",
         "64.02411753093384",
         "99.02006469284606",
         "56.49914572760746"
        ],
        [
         "4",
         "73.66",
         "94.34600067138672",
         "103.69220416619503",
         "105.30179173004217",
         "111.7800965854775"
        ]
       ],
       "shape": {
        "columns": 5,
        "rows": 5
       }
      },
      "text/html": [
       "<div>\n",
       "<style scoped>\n",
       "    .dataframe tbody tr th:only-of-type {\n",
       "        vertical-align: middle;\n",
       "    }\n",
       "\n",
       "    .dataframe tbody tr th {\n",
       "        vertical-align: top;\n",
       "    }\n",
       "\n",
       "    .dataframe thead th {\n",
       "        text-align: right;\n",
       "    }\n",
       "</style>\n",
       "<table border=\"1\" class=\"dataframe\">\n",
       "  <thead>\n",
       "    <tr style=\"text-align: right;\">\n",
       "      <th></th>\n",
       "      <th>RandomForest</th>\n",
       "      <th>XGBoost</th>\n",
       "      <th>LightGBM</th>\n",
       "      <th>LinearRegression</th>\n",
       "      <th>CatBoost</th>\n",
       "    </tr>\n",
       "  </thead>\n",
       "  <tbody>\n",
       "    <tr>\n",
       "      <th>0</th>\n",
       "      <td>195.26</td>\n",
       "      <td>269.014435</td>\n",
       "      <td>235.569763</td>\n",
       "      <td>149.957603</td>\n",
       "      <td>225.201473</td>\n",
       "    </tr>\n",
       "    <tr>\n",
       "      <th>1</th>\n",
       "      <td>115.08</td>\n",
       "      <td>2.215861</td>\n",
       "      <td>20.486193</td>\n",
       "      <td>91.675694</td>\n",
       "      <td>101.101887</td>\n",
       "    </tr>\n",
       "    <tr>\n",
       "      <th>2</th>\n",
       "      <td>13.78</td>\n",
       "      <td>23.778084</td>\n",
       "      <td>25.507366</td>\n",
       "      <td>85.600422</td>\n",
       "      <td>23.190975</td>\n",
       "    </tr>\n",
       "    <tr>\n",
       "      <th>3</th>\n",
       "      <td>94.50</td>\n",
       "      <td>47.914688</td>\n",
       "      <td>64.024118</td>\n",
       "      <td>99.020065</td>\n",
       "      <td>56.499146</td>\n",
       "    </tr>\n",
       "    <tr>\n",
       "      <th>4</th>\n",
       "      <td>73.66</td>\n",
       "      <td>94.346001</td>\n",
       "      <td>103.692204</td>\n",
       "      <td>105.301792</td>\n",
       "      <td>111.780097</td>\n",
       "    </tr>\n",
       "  </tbody>\n",
       "</table>\n",
       "</div>"
      ],
      "text/plain": [
       "   RandomForest     XGBoost    LightGBM  LinearRegression    CatBoost\n",
       "0        195.26  269.014435  235.569763        149.957603  225.201473\n",
       "1        115.08    2.215861   20.486193         91.675694  101.101887\n",
       "2         13.78   23.778084   25.507366         85.600422   23.190975\n",
       "3         94.50   47.914688   64.024118         99.020065   56.499146\n",
       "4         73.66   94.346001  103.692204        105.301792  111.780097"
      ]
     },
     "execution_count": 346,
     "metadata": {},
     "output_type": "execute_result"
    }
   ],
   "source": [
    "# Собираем сохраненные предикты базовых моделей при обучении oof\n",
    "oof_predict_models = pd.DataFrame(\n",
    "    stacker.oof_predictions, columns=stacker.base_models.keys()\n",
    ")\n",
    "\n",
    "oof_predict_models.head()"
   ]
  },
  {
   "cell_type": "code",
   "execution_count": 347,
   "metadata": {},
   "outputs": [
    {
     "data": {
      "application/vnd.microsoft.datawrangler.viewer.v0+json": {
       "columns": [
        {
         "name": "index",
         "rawType": "int64",
         "type": "integer"
        },
        {
         "name": "uncertaincy",
         "rawType": "object",
         "type": "string"
        },
        {
         "name": "score",
         "rawType": "float64",
         "type": "float"
        }
       ],
       "conversionMethod": "pd.DataFrame",
       "ref": "3d9615b5-7845-42c4-8f27-e3e3c79fc661",
       "rows": [
        [
         "0",
         "epistemic",
         "1087.8"
        ],
        [
         "1",
         "aleatoric",
         "11518.28"
        ],
        [
         "2",
         "total",
         "12606.08"
        ]
       ],
       "shape": {
        "columns": 2,
        "rows": 3
       }
      },
      "text/html": [
       "<div>\n",
       "<style scoped>\n",
       "    .dataframe tbody tr th:only-of-type {\n",
       "        vertical-align: middle;\n",
       "    }\n",
       "\n",
       "    .dataframe tbody tr th {\n",
       "        vertical-align: top;\n",
       "    }\n",
       "\n",
       "    .dataframe thead th {\n",
       "        text-align: right;\n",
       "    }\n",
       "</style>\n",
       "<table border=\"1\" class=\"dataframe\">\n",
       "  <thead>\n",
       "    <tr style=\"text-align: right;\">\n",
       "      <th></th>\n",
       "      <th>uncertaincy</th>\n",
       "      <th>score</th>\n",
       "    </tr>\n",
       "  </thead>\n",
       "  <tbody>\n",
       "    <tr>\n",
       "      <th>0</th>\n",
       "      <td>epistemic</td>\n",
       "      <td>1087.80</td>\n",
       "    </tr>\n",
       "    <tr>\n",
       "      <th>1</th>\n",
       "      <td>aleatoric</td>\n",
       "      <td>11518.28</td>\n",
       "    </tr>\n",
       "    <tr>\n",
       "      <th>2</th>\n",
       "      <td>total</td>\n",
       "      <td>12606.08</td>\n",
       "    </tr>\n",
       "  </tbody>\n",
       "</table>\n",
       "</div>"
      ],
      "text/plain": [
       "  uncertaincy     score\n",
       "0   epistemic   1087.80\n",
       "1   aleatoric  11518.28\n",
       "2       total  12606.08"
      ]
     },
     "execution_count": 347,
     "metadata": {},
     "output_type": "execute_result"
    }
   ],
   "source": [
    "uncertainty_est.calculate_uncertainty(\n",
    "    df_house_train_clear[\"target\"].values, oof_predict_models.T.values\n",
    ")"
   ]
  },
  {
   "cell_type": "code",
   "execution_count": 348,
   "metadata": {},
   "outputs": [
    {
     "data": {
      "image/png": "[encoded data removed]",
      "text/plain": [
       "<Figure size 1200x600 with 1 Axes>"
      ]
     },
     "metadata": {},
     "output_type": "display_data"
    }
   ],
   "source": [
    "uncertainty_est.plot_uncertainty(\n",
    "    df_house_train_clear[\"target\"].values, oof_predict_models\n",
    ")"
   ]
  },
  {
   "cell_type": "markdown",
   "metadata": {},
   "source": [
    "#### **Выводы**:\n",
    "- *Алеаторная* (неопределенность данных) неопределенность **сильно выше**, чем *эпистемическая* (неопределенность знаний) $\\rightarrow$ **Высокая** случайность в данных (скорей всего есть шумные данные или неучтенные факторы).\n",
    "- *Эпистемическая* неопределенность сравнительно **низкая** $\\rightarrow$ Модели достаточно уверены в своих предсказаниях, т.е. архитектура и обучение моделей стабильны, и неопределенность из-за структуры модели невелика.\n",
    "- Деревья лучше справляются с текущим типом данных по сравнению с линейной моделью.\n",
    "- График также подтверждает, что имеется *неопределенность данных*."
   ]
  },
  {
   "cell_type": "markdown",
   "metadata": {},
   "source": [
    "### Оценка неопределенности базовых моделей на тестовой выборке\n",
    "\n",
    "Также оценим неопределенность на тестовой выборке для базовых моделей."
   ]
  },
  {
   "cell_type": "code",
   "execution_count": 349,
   "metadata": {},
   "outputs": [
    {
     "data": {
      "application/vnd.microsoft.datawrangler.viewer.v0+json": {
       "columns": [
        {
         "name": "index",
         "rawType": "int64",
         "type": "integer"
        },
        {
         "name": "MSE",
         "rawType": "float64",
         "type": "float"
        },
        {
         "name": "prediction_time",
         "rawType": "float64",
         "type": "float"
        },
        {
         "name": "predictions",
         "rawType": "object",
         "type": "unknown"
        },
        {
         "name": "model",
         "rawType": "object",
         "type": "string"
        }
       ],
       "conversionMethod": "pd.DataFrame",
       "ref": "bc3f3474-7170-41cd-9261-fda60647282b",
       "rows": [
        [
         "0",
         "10763.569208115183",
         "0.45137548446655273",
         "[204. 205. 343. ... 258.   4. 203.]",
         "RandomForest"
        ],
        [
         "1",
         "10904.195271596858",
         "0.06365537643432617",
         "[162. 194. 334. ... 237.  19. 264.]",
         "XGBoost"
        ],
        [
         "2",
         "10774.248854712041",
         "0.09071063995361328",
         "[236. 167. 299. ... 271.  21. 223.]",
         "LightGBM"
        ],
        [
         "3",
         "14850.545238874345",
         "0.04992198944091797",
         "[ 84. 105. 207. ... 128.  80.  93.]",
         "LinearRegression"
        ],
        [
         "4",
         "10035.24550065445",
         "0.0872037410736084",
         "[185. 169. 309. ... 267.   0. 277.]",
         "CatBoost"
        ]
       ],
       "shape": {
        "columns": 4,
        "rows": 5
       }
      },
      "text/html": [
       "<div>\n",
       "<style scoped>\n",
       "    .dataframe tbody tr th:only-of-type {\n",
       "        vertical-align: middle;\n",
       "    }\n",
       "\n",
       "    .dataframe tbody tr th {\n",
       "        vertical-align: top;\n",
       "    }\n",
       "\n",
       "    .dataframe thead th {\n",
       "        text-align: right;\n",
       "    }\n",
       "</style>\n",
       "<table border=\"1\" class=\"dataframe\">\n",
       "  <thead>\n",
       "    <tr style=\"text-align: right;\">\n",
       "      <th></th>\n",
       "      <th>MSE</th>\n",
       "      <th>prediction_time</th>\n",
       "      <th>predictions</th>\n",
       "      <th>model</th>\n",
       "    </tr>\n",
       "  </thead>\n",
       "  <tbody>\n",
       "    <tr>\n",
       "      <th>0</th>\n",
       "      <td>10763.569208</td>\n",
       "      <td>0.451375</td>\n",
       "      <td>[204.0, 205.0, 343.0, 96.0, 31.0, 31.0, 6.0, 3...</td>\n",
       "      <td>RandomForest</td>\n",
       "    </tr>\n",
       "    <tr>\n",
       "      <th>1</th>\n",
       "      <td>10904.195272</td>\n",
       "      <td>0.063655</td>\n",
       "      <td>[162.0, 194.0, 334.0, 67.0, 26.0, 46.0, 0.0, 3...</td>\n",
       "      <td>XGBoost</td>\n",
       "    </tr>\n",
       "    <tr>\n",
       "      <th>2</th>\n",
       "      <td>10774.248855</td>\n",
       "      <td>0.090711</td>\n",
       "      <td>[236.0, 167.0, 299.0, 63.0, 26.0, 56.0, 8.0, 4...</td>\n",
       "      <td>LightGBM</td>\n",
       "    </tr>\n",
       "    <tr>\n",
       "      <th>3</th>\n",
       "      <td>14850.545239</td>\n",
       "      <td>0.049922</td>\n",
       "      <td>[84.0, 105.0, 207.0, 97.0, 79.0, 90.0, 77.0, 8...</td>\n",
       "      <td>LinearRegression</td>\n",
       "    </tr>\n",
       "    <tr>\n",
       "      <th>4</th>\n",
       "      <td>10035.245501</td>\n",
       "      <td>0.087204</td>\n",
       "      <td>[185.0, 169.0, 309.0, 33.0, 38.0, 29.0, 0.0, 3...</td>\n",
       "      <td>CatBoost</td>\n",
       "    </tr>\n",
       "  </tbody>\n",
       "</table>\n",
       "</div>"
      ],
      "text/plain": [
       "            MSE  prediction_time  \\\n",
       "0  10763.569208         0.451375   \n",
       "1  10904.195272         0.063655   \n",
       "2  10774.248855         0.090711   \n",
       "3  14850.545239         0.049922   \n",
       "4  10035.245501         0.087204   \n",
       "\n",
       "                                         predictions             model  \n",
       "0  [204.0, 205.0, 343.0, 96.0, 31.0, 31.0, 6.0, 3...      RandomForest  \n",
       "1  [162.0, 194.0, 334.0, 67.0, 26.0, 46.0, 0.0, 3...           XGBoost  \n",
       "2  [236.0, 167.0, 299.0, 63.0, 26.0, 56.0, 8.0, 4...          LightGBM  \n",
       "3  [84.0, 105.0, 207.0, 97.0, 79.0, 90.0, 77.0, 8...  LinearRegression  \n",
       "4  [185.0, 169.0, 309.0, 33.0, 38.0, 29.0, 0.0, 3...          CatBoost  "
      ]
     },
     "execution_count": 349,
     "metadata": {},
     "output_type": "execute_result"
    }
   ],
   "source": [
    "filter_res_performance_models = results_performance_models[\n",
    "    results_performance_models[\"model\"].isin(stacker.base_models.keys())\n",
    "]\n",
    "\n",
    "filter_res_performance_models"
   ]
  },
  {
   "cell_type": "code",
   "execution_count": 350,
   "metadata": {},
   "outputs": [
    {
     "data": {
      "application/vnd.microsoft.datawrangler.viewer.v0+json": {
       "columns": [
        {
         "name": "index",
         "rawType": "int64",
         "type": "integer"
        },
        {
         "name": "RandomForest",
         "rawType": "float64",
         "type": "float"
        },
        {
         "name": "XGBoost",
         "rawType": "float64",
         "type": "float"
        },
        {
         "name": "LightGBM",
         "rawType": "float64",
         "type": "float"
        },
        {
         "name": "LinearRegression",
         "rawType": "float64",
         "type": "float"
        },
        {
         "name": "CatBoost",
         "rawType": "float64",
         "type": "float"
        }
       ],
       "conversionMethod": "pd.DataFrame",
       "ref": "e9e28bfc-0bc3-4f84-9797-0212199c2841",
       "rows": [
        [
         "0",
         "204.0",
         "162.0",
         "236.0",
         "84.0",
         "185.0"
        ],
        [
         "1",
         "205.0",
         "194.0",
         "167.0",
         "105.0",
         "169.0"
        ],
        [
         "2",
         "343.0",
         "334.0",
         "299.0",
         "207.0",
         "309.0"
        ],
        [
         "3",
         "96.0",
         "67.0",
         "63.0",
         "97.0",
         "33.0"
        ],
        [
         "4",
         "31.0",
         "26.0",
         "26.0",
         "79.0",
         "38.0"
        ]
       ],
       "shape": {
        "columns": 5,
        "rows": 5
       }
      },
      "text/html": [
       "<div>\n",
       "<style scoped>\n",
       "    .dataframe tbody tr th:only-of-type {\n",
       "        vertical-align: middle;\n",
       "    }\n",
       "\n",
       "    .dataframe tbody tr th {\n",
       "        vertical-align: top;\n",
       "    }\n",
       "\n",
       "    .dataframe thead th {\n",
       "        text-align: right;\n",
       "    }\n",
       "</style>\n",
       "<table border=\"1\" class=\"dataframe\">\n",
       "  <thead>\n",
       "    <tr style=\"text-align: right;\">\n",
       "      <th></th>\n",
       "      <th>RandomForest</th>\n",
       "      <th>XGBoost</th>\n",
       "      <th>LightGBM</th>\n",
       "      <th>LinearRegression</th>\n",
       "      <th>CatBoost</th>\n",
       "    </tr>\n",
       "  </thead>\n",
       "  <tbody>\n",
       "    <tr>\n",
       "      <th>0</th>\n",
       "      <td>204.0</td>\n",
       "      <td>162.0</td>\n",
       "      <td>236.0</td>\n",
       "      <td>84.0</td>\n",
       "      <td>185.0</td>\n",
       "    </tr>\n",
       "    <tr>\n",
       "      <th>1</th>\n",
       "      <td>205.0</td>\n",
       "      <td>194.0</td>\n",
       "      <td>167.0</td>\n",
       "      <td>105.0</td>\n",
       "      <td>169.0</td>\n",
       "    </tr>\n",
       "    <tr>\n",
       "      <th>2</th>\n",
       "      <td>343.0</td>\n",
       "      <td>334.0</td>\n",
       "      <td>299.0</td>\n",
       "      <td>207.0</td>\n",
       "      <td>309.0</td>\n",
       "    </tr>\n",
       "    <tr>\n",
       "      <th>3</th>\n",
       "      <td>96.0</td>\n",
       "      <td>67.0</td>\n",
       "      <td>63.0</td>\n",
       "      <td>97.0</td>\n",
       "      <td>33.0</td>\n",
       "    </tr>\n",
       "    <tr>\n",
       "      <th>4</th>\n",
       "      <td>31.0</td>\n",
       "      <td>26.0</td>\n",
       "      <td>26.0</td>\n",
       "      <td>79.0</td>\n",
       "      <td>38.0</td>\n",
       "    </tr>\n",
       "  </tbody>\n",
       "</table>\n",
       "</div>"
      ],
      "text/plain": [
       "   RandomForest  XGBoost  LightGBM  LinearRegression  CatBoost\n",
       "0         204.0    162.0     236.0              84.0     185.0\n",
       "1         205.0    194.0     167.0             105.0     169.0\n",
       "2         343.0    334.0     299.0             207.0     309.0\n",
       "3          96.0     67.0      63.0              97.0      33.0\n",
       "4          31.0     26.0      26.0              79.0      38.0"
      ]
     },
     "execution_count": 350,
     "metadata": {},
     "output_type": "execute_result"
    }
   ],
   "source": [
    "predict_base_models = pd.DataFrame(\n",
    "    np.vstack(filter_res_performance_models[\"predictions\"].values).T,\n",
    "    columns=filter_res_performance_models[\"model\"].values.tolist(),\n",
    ")\n",
    "\n",
    "predict_base_models.head()"
   ]
  },
  {
   "cell_type": "code",
   "execution_count": 351,
   "metadata": {},
   "outputs": [
    {
     "data": {
      "application/vnd.microsoft.datawrangler.viewer.v0+json": {
       "columns": [
        {
         "name": "index",
         "rawType": "int64",
         "type": "integer"
        },
        {
         "name": "uncertaincy",
         "rawType": "object",
         "type": "string"
        },
        {
         "name": "score",
         "rawType": "float64",
         "type": "float"
        }
       ],
       "conversionMethod": "pd.DataFrame",
       "ref": "485feb93-e672-4cb4-8e4f-dcbea667bbde",
       "rows": [
        [
         "0",
         "epistemic",
         "1043.34"
        ],
        [
         "1",
         "aleatoric",
         "11465.56"
        ],
        [
         "2",
         "total",
         "12508.9"
        ]
       ],
       "shape": {
        "columns": 2,
        "rows": 3
       }
      },
      "text/html": [
       "<div>\n",
       "<style scoped>\n",
       "    .dataframe tbody tr th:only-of-type {\n",
       "        vertical-align: middle;\n",
       "    }\n",
       "\n",
       "    .dataframe tbody tr th {\n",
       "        vertical-align: top;\n",
       "    }\n",
       "\n",
       "    .dataframe thead th {\n",
       "        text-align: right;\n",
       "    }\n",
       "</style>\n",
       "<table border=\"1\" class=\"dataframe\">\n",
       "  <thead>\n",
       "    <tr style=\"text-align: right;\">\n",
       "      <th></th>\n",
       "      <th>uncertaincy</th>\n",
       "      <th>score</th>\n",
       "    </tr>\n",
       "  </thead>\n",
       "  <tbody>\n",
       "    <tr>\n",
       "      <th>0</th>\n",
       "      <td>epistemic</td>\n",
       "      <td>1043.34</td>\n",
       "    </tr>\n",
       "    <tr>\n",
       "      <th>1</th>\n",
       "      <td>aleatoric</td>\n",
       "      <td>11465.56</td>\n",
       "    </tr>\n",
       "    <tr>\n",
       "      <th>2</th>\n",
       "      <td>total</td>\n",
       "      <td>12508.90</td>\n",
       "    </tr>\n",
       "  </tbody>\n",
       "</table>\n",
       "</div>"
      ],
      "text/plain": [
       "  uncertaincy     score\n",
       "0   epistemic   1043.34\n",
       "1   aleatoric  11465.56\n",
       "2       total  12508.90"
      ]
     },
     "execution_count": 351,
     "metadata": {},
     "output_type": "execute_result"
    }
   ],
   "source": [
    "uncertainty_est.calculate_uncertainty(y_true, predict_base_models.T.values)"
   ]
  },
  {
   "cell_type": "code",
   "execution_count": 352,
   "metadata": {},
   "outputs": [
    {
     "data": {
      "image/png": "[encoded data removed]",
      "text/plain": [
       "<Figure size 1200x600 with 1 Axes>"
      ]
     },
     "metadata": {},
     "output_type": "display_data"
    }
   ],
   "source": [
    "uncertainty_est.plot_uncertainty(y_true, predict_base_models)"
   ]
  },
  {
   "cell_type": "markdown",
   "metadata": {},
   "source": [
    "#### **Выводы**:\n",
    "- Выводы выше также подтвердились и на тестовой выборке."
   ]
  }
 ],
 "metadata": {
  "kernelspec": {
   "display_name": "Python 3 (ipykernel)",
   "language": "python",
   "name": "python3"
  },
  "language_info": {
   "codemirror_mode": {
    "name": "ipython",
    "version": 3
   },
   "file_extension": ".py",
   "mimetype": "text/x-python",
   "name": "python",
   "nbconvert_exporter": "python",
   "pygments_lexer": "ipython3",
   "version": "3.12.9"
  }
 },
 "nbformat": 4,
 "nbformat_minor": 4
}
